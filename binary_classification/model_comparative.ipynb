{
 "cells": [
  {
   "cell_type": "code",
   "execution_count": 1,
   "id": "01854fc6",
   "metadata": {
    "ExecuteTime": {
     "end_time": "2023-05-25T13:27:20.832672Z",
     "start_time": "2023-05-25T13:27:20.063637Z"
    }
   },
   "outputs": [],
   "source": [
    "import os\n",
    "import re\n",
    "import math\n",
    "import pickle\n",
    "import numpy as np\n",
    "import pandas as pd\n",
    "\n",
    "from tqdm import tqdm\n",
    "from scipy.special import softmax\n",
    "# from utils import denoise_text, preprocess_text\n",
    "\n",
    "from sklearn.metrics import auc, roc_curve, RocCurveDisplay\n",
    "from sklearn.utils.class_weight import compute_class_weight \n",
    "from sklearn.metrics import f1_score, accuracy_score, precision_score, recall_score\n",
    "\n",
    "from matplotlib import pyplot as plt\n",
    "from sklearn.metrics import (\n",
    "    accuracy_score, roc_auc_score, \n",
    "    f1_score, accuracy_score, precision_score, recall_score,\n",
    "    classification_report, confusion_matrix, ConfusionMatrixDisplay)\n",
    "\n",
    "from IPython.display import display, Markdown, Latex\n",
    "\n",
    "pd.set_option('display.max_colwidth', None)\n",
    "\n",
    "import warnings\n",
    "warnings.filterwarnings('ignore')"
   ]
  },
  {
   "cell_type": "code",
   "execution_count": 2,
   "id": "67fe8c76",
   "metadata": {
    "ExecuteTime": {
     "end_time": "2023-05-25T13:27:21.500882Z",
     "start_time": "2023-05-25T13:27:21.498837Z"
    }
   },
   "outputs": [],
   "source": [
    "PATH = \"../datasets/\"\n",
    "FILE = \"cards_waterloo.csv\""
   ]
  },
  {
   "cell_type": "code",
   "execution_count": 3,
   "id": "25681e98",
   "metadata": {
    "ExecuteTime": {
     "end_time": "2023-05-25T13:27:23.715147Z",
     "start_time": "2023-05-25T13:27:22.784081Z"
    }
   },
   "outputs": [],
   "source": [
    "data = pd.read_csv(PATH + FILE, low_memory=False)\n",
    "data = data[data.DATASET.isin([\"cards\", \"waterloo\"])]"
   ]
  },
  {
   "cell_type": "code",
   "execution_count": 9,
   "id": "c5d14d87",
   "metadata": {
    "ExecuteTime": {
     "end_time": "2023-05-25T13:29:05.021200Z",
     "start_time": "2023-05-25T13:29:05.002726Z"
    }
   },
   "outputs": [
    {
     "data": {
      "text/plain": [
       "True     0.686405\n",
       "False    0.313595\n",
       "Name: claim, dtype: float64"
      ]
     },
     "execution_count": 9,
     "metadata": {},
     "output_type": "execute_result"
    }
   ],
   "source": [
    "(data[data.DATASET==\"cards\"].claim == \"0_0\").value_counts(normalize=True)"
   ]
  },
  {
   "cell_type": "code",
   "execution_count": 4,
   "id": "cf27ef43",
   "metadata": {
    "ExecuteTime": {
     "end_time": "2023-05-18T10:46:34.764423Z",
     "start_time": "2023-05-18T10:46:34.762151Z"
    }
   },
   "outputs": [],
   "source": [
    "# Load label encoder\n",
    "with open('../cards/models/label_encoder.pkl', 'rb') as f:\n",
    "    le = pickle.load(f)"
   ]
  },
  {
   "cell_type": "code",
   "execution_count": 5,
   "id": "e1ed4fce",
   "metadata": {
    "ExecuteTime": {
     "end_time": "2023-05-18T10:46:34.781756Z",
     "start_time": "2023-05-18T10:46:34.765478Z"
    }
   },
   "outputs": [],
   "source": [
    "# data.loc[(data.DATASET.isin([\"cards\", \"waterloo\"])), \"pos_roberta_pred\"] = le.inverse_transform(\n",
    "#     new_data.loc[(new_data.DATASET.isin([\"cards\", \"waterloo\"])), \"pos_roberta_pred\"].apply(int))\n",
    "# data.loc[(data.DATASET.isin([\"cards\", \"waterloo\"])), \"pos_roberta_proba\"] = new_data.loc[\n",
    "#     (new_data.DATASET.isin([\"cards\", \"waterloo\"])), \"pos_roberta_proba\"]\n",
    "\n",
    "# data.to_csv(FILE, index=False)"
   ]
  },
  {
   "cell_type": "code",
   "execution_count": 6,
   "id": "fda904c2",
   "metadata": {
    "ExecuteTime": {
     "end_time": "2023-05-18T10:46:39.701718Z",
     "start_time": "2023-05-18T10:46:34.782939Z"
    }
   },
   "outputs": [],
   "source": [
    "def format_scores(x):\n",
    "    if str(x)!=\"nan\":\n",
    "        value = eval(re.sub(\",? +\", \" ,\", str(x).replace(\"\\n\", \"\")))\n",
    "        value = [float(x) for x in value]\n",
    "        return np.array(value)\n",
    "    return\n",
    "\n",
    "data[\"cards_proba\"] = data[\"cards_proba\"].apply(format_scores)\n",
    "data[\"waterloo_proba\"] = data[\"waterloo_proba\"].apply(format_scores)\n",
    "data[\"roberta_new_pipe_proba\"] = data[\"roberta_new_pipe_proba\"].apply(format_scores)\n",
    "# data[\"roberta_proba\"] = data[\"roberta_proba\"].apply(format_scores)\n",
    "data[\"bertweet_proba\"] = data[\"bertweet_proba\"].apply(format_scores)\n",
    "data[\"electra_proba\"] = data[\"electra_proba\"].apply(format_scores)\n",
    "data[\"xlnet_proba\"] = data[\"xlnet_proba\"].apply(format_scores)\n",
    "# data[\"aug_roberta_proba\"] = data[\"aug_roberta_proba\"].apply(format_scores)"
   ]
  },
  {
   "cell_type": "code",
   "execution_count": 7,
   "id": "6ecf705d",
   "metadata": {
    "ExecuteTime": {
     "end_time": "2023-05-18T10:46:40.009258Z",
     "start_time": "2023-05-18T10:46:39.703065Z"
    },
    "scrolled": false
   },
   "outputs": [
    {
     "data": {
      "text/markdown": [
       "### Test Dataset"
      ],
      "text/plain": [
       "<IPython.core.display.Markdown object>"
      ]
     },
     "metadata": {},
     "output_type": "display_data"
    },
    {
     "name": "stdout",
     "output_type": "stream",
     "text": [
      "cards_binary\n",
      "              precision    recall  f1-score   support\n",
      "\n",
      "           0       0.00      0.00      0.00      5750\n",
      "           1       0.21      1.00      0.35      1549\n",
      "\n",
      "    accuracy                           0.21      7299\n",
      "   macro avg       0.11      0.50      0.18      7299\n",
      "weighted avg       0.05      0.21      0.07      7299\n",
      "\n"
     ]
    },
    {
     "data": {
      "text/html": [
       "<div>\n",
       "<style scoped>\n",
       "    .dataframe tbody tr th:only-of-type {\n",
       "        vertical-align: middle;\n",
       "    }\n",
       "\n",
       "    .dataframe tbody tr th {\n",
       "        vertical-align: top;\n",
       "    }\n",
       "\n",
       "    .dataframe thead th {\n",
       "        text-align: right;\n",
       "    }\n",
       "</style>\n",
       "<table border=\"1\" class=\"dataframe\">\n",
       "  <thead>\n",
       "    <tr style=\"text-align: right;\">\n",
       "      <th></th>\n",
       "      <th>Model</th>\n",
       "      <th>AUC</th>\n",
       "      <th>Accuracy</th>\n",
       "      <th>F1-score</th>\n",
       "    </tr>\n",
       "  </thead>\n",
       "  <tbody>\n",
       "    <tr>\n",
       "      <th>0</th>\n",
       "      <td>cards_binary</td>\n",
       "      <td>0.920157</td>\n",
       "      <td>0.212221</td>\n",
       "      <td>0.175068</td>\n",
       "    </tr>\n",
       "  </tbody>\n",
       "</table>\n",
       "</div>"
      ],
      "text/plain": [
       "          Model       AUC  Accuracy  F1-score\n",
       "0  cards_binary  0.920157  0.212221  0.175068"
      ]
     },
     "metadata": {},
     "output_type": "display_data"
    },
    {
     "data": {
      "image/png": "[encoded data removed]",
      "text/plain": [
       "<Figure size 576x432 with 1 Axes>"
      ]
     },
     "metadata": {
      "needs_background": "light"
     },
     "output_type": "display_data"
    }
   ],
   "source": [
    "def add_binary_cards(data):\n",
    "    data[\"cards_binary_pred\"] = data[\"cards_pred\"].apply(\n",
    "        lambda x: 0 if x==\"0_0\" or x=='0.0' else 1)\n",
    "    data[\"cards_binary_proba\"] = data[\"cards_proba\"].apply(lambda x: [x[0], sum(x[1:])])\n",
    "    return data\n",
    "\n",
    "def models_comparative(data, models):\n",
    "    labels = [0, 1]\n",
    "    target_names = [\"Not Misinformation\", \"Misinformation\"]\n",
    "    freport = pd.DataFrame()\n",
    "    \n",
    "    plt.figure(figsize=(8, 6))\n",
    "    for model in models:\n",
    "        print(model)\n",
    "        y_true = data.labels.values\n",
    "        y_pred = data[f\"{model}_pred\"].values\n",
    "\n",
    "        scores = data.apply(lambda x: 1-x[f\"{model}_proba\"][int(x[f\"{model}_pred\"])], axis=1).values\n",
    "        fpr, tpr, thresholds = roc_curve(data.labels, scores)    \n",
    "        roc_auc = auc(tpr, fpr)# multi_class=\"ovr\", average=\"macro\")\n",
    "        plt.plot(tpr, fpr, label=f\"{model} (AUC = {round(roc_auc*100, 2)})\")\n",
    "\n",
    "        acc = accuracy_score(y_true, y_pred)\n",
    "        print(classification_report(y_true, y_pred, labels=labels))\n",
    "\n",
    "        report = {\n",
    "            \"Model\": model,\n",
    "            \"AUC\": roc_auc,\n",
    "            \"Accuracy\": accuracy_score(y_true, y_pred),\n",
    "            \"F1-score\": f1_score(y_true, y_pred, average='macro')\n",
    "        }   \n",
    "        report = pd.DataFrame([report])\n",
    "        freport = pd.concat([freport, report])\n",
    "        freport = freport.sort_values([\"AUC\"])\n",
    "\n",
    "    display(freport)\n",
    "\n",
    "    plt.plot([0, 1], [0, 1], \"k--\", label=\"chance level (AUC = 0.5)\")\n",
    "    plt.axis(\"square\")\n",
    "    plt.xlabel(\"False Positive Rate\")\n",
    "    plt.ylabel(\"True Positive Rate\")\n",
    "    plt.title(\"ROC curves\")\n",
    "    plt.legend()\n",
    "    plt.show()\n",
    "    \n",
    "# models = [\"roberta_cards_pipe\", \"roberta\", \"bertweet\", \"xlnet\"]\n",
    "display(Markdown(f\"### Test Dataset\"))\n",
    "# models = [\"roberta\", \"electra\", \"bertweet\", \"xlnet\"]\n",
    "\n",
    "test = data[data.PARTITION==\"TEST\"]\n",
    "test = add_binary_cards(test)\n",
    "# test.loc[test.cards_binary==0, \"cards_binary\"] = 0\n",
    "models = [\"cards_binary\"]\n",
    "models_comparative(test, models)\n",
    "\n",
    "# def generated_dataset(file, models):\n",
    "#     data = pd.read_csv(file, low_memory=False)\n",
    "#     for model in models:\n",
    "#         if model!=\"cards\":\n",
    "#             data[f\"{model}_pred\"] = data[f\"{model}_pred\"].apply(lambda x: int(float(x)))\n",
    "#         data[f\"{model}_proba\"] = data[f\"{model}_proba\"].apply(format_scores)\n",
    "#     data[\"labels\"] = 1\n",
    "#     return data\n",
    "\n",
    "# ## Generated from the test partition\n",
    "# test_generated = generated_dataset(\n",
    "#     \"datasets/generated_disinformation_binary_TEST_CHATGPT.csv\", [\"cards\", \"roberta\", \"aug_roberta\"])\n",
    "# test_generated = add_binary_cards(test_generated)\n",
    "# display(Markdown(f\"### Randomly Generated TEST CHATGPT\"))\n",
    "# models_comparative(test_generated, [\"cards_binary\", \"roberta\", \"aug_roberta\"])\n",
    "\n",
    "# ## Generated from the ClimateScam partition\n",
    "# climate_scam_generated = generated_dataset(\n",
    "#     \"datasets/generated_disinformation_binary_ClimateScam_CHATGPT.csv\", [\"cards\", \"roberta\", \"aug_roberta\"])\n",
    "# climate_scam_generated = add_binary_cards(climate_scam_generated)\n",
    "# display(Markdown(f\"### Randomly Generated Climate Scam CHATGPT\"))\n",
    "# models_comparative(climate_scam_generated, [\"cards_binary\", \"roberta\", \"aug_roberta\"])"
   ]
  },
  {
   "cell_type": "markdown",
   "id": "ed87f17b",
   "metadata": {},
   "source": [
    "## Roberta"
   ]
  },
  {
   "cell_type": "code",
   "execution_count": 8,
   "id": "05e2415b",
   "metadata": {
    "ExecuteTime": {
     "end_time": "2023-05-18T10:46:40.120902Z",
     "start_time": "2023-05-18T10:46:40.010599Z"
    }
   },
   "outputs": [
    {
     "name": "stdout",
     "output_type": "stream",
     "text": [
      "Accuracy: 0.9017673653925196\n",
      "AUC: 0.9138657198192381\n"
     ]
    },
    {
     "data": {
      "text/html": [
       "<div>\n",
       "<style scoped>\n",
       "    .dataframe tbody tr th:only-of-type {\n",
       "        vertical-align: middle;\n",
       "    }\n",
       "\n",
       "    .dataframe tbody tr th {\n",
       "        vertical-align: top;\n",
       "    }\n",
       "\n",
       "    .dataframe thead th {\n",
       "        text-align: right;\n",
       "    }\n",
       "</style>\n",
       "<table border=\"1\" class=\"dataframe\">\n",
       "  <thead>\n",
       "    <tr style=\"text-align: right;\">\n",
       "      <th></th>\n",
       "      <th>precision</th>\n",
       "      <th>recall</th>\n",
       "      <th>f1-score</th>\n",
       "      <th>support</th>\n",
       "    </tr>\n",
       "  </thead>\n",
       "  <tbody>\n",
       "    <tr>\n",
       "      <th>Not Misinformation</th>\n",
       "      <td>0.927758</td>\n",
       "      <td>0.949217</td>\n",
       "      <td>0.938365</td>\n",
       "      <td>5750.000000</td>\n",
       "    </tr>\n",
       "    <tr>\n",
       "      <th>Misinformation</th>\n",
       "      <td>0.793785</td>\n",
       "      <td>0.725629</td>\n",
       "      <td>0.758179</td>\n",
       "      <td>1549.000000</td>\n",
       "    </tr>\n",
       "    <tr>\n",
       "      <th>accuracy</th>\n",
       "      <td>0.901767</td>\n",
       "      <td>0.901767</td>\n",
       "      <td>0.901767</td>\n",
       "      <td>0.901767</td>\n",
       "    </tr>\n",
       "    <tr>\n",
       "      <th>macro avg</th>\n",
       "      <td>0.860772</td>\n",
       "      <td>0.837423</td>\n",
       "      <td>0.848272</td>\n",
       "      <td>7299.000000</td>\n",
       "    </tr>\n",
       "    <tr>\n",
       "      <th>weighted avg</th>\n",
       "      <td>0.899326</td>\n",
       "      <td>0.901767</td>\n",
       "      <td>0.900126</td>\n",
       "      <td>7299.000000</td>\n",
       "    </tr>\n",
       "  </tbody>\n",
       "</table>\n",
       "</div>"
      ],
      "text/plain": [
       "                    precision    recall  f1-score      support\n",
       "Not Misinformation   0.927758  0.949217  0.938365  5750.000000\n",
       "Misinformation       0.793785  0.725629  0.758179  1549.000000\n",
       "accuracy             0.901767  0.901767  0.901767     0.901767\n",
       "macro avg            0.860772  0.837423  0.848272  7299.000000\n",
       "weighted avg         0.899326  0.901767  0.900126  7299.000000"
      ]
     },
     "metadata": {},
     "output_type": "display_data"
    },
    {
     "data": {
      "image/png": "[encoded data removed]",
      "text/plain": [
       "<Figure size 288x288 with 2 Axes>"
      ]
     },
     "metadata": {
      "needs_background": "light"
     },
     "output_type": "display_data"
    }
   ],
   "source": [
    "def report(y_true, y_pred, scores, classes, matrix_display=True):\n",
    "    \n",
    "    acc = accuracy_score(y_true, y_pred)\n",
    "    \n",
    "    scores = np.stack(scores.values)\n",
    "    scores = scores[np.arange(scores.shape[0]), y_pred]\n",
    "    \n",
    "    fpr, tpr, thresholds = roc_curve(y_true, scores)    \n",
    "    roc_auc = auc(tpr, fpr)# multi_class=\"ovr\", average=\"macro\")\n",
    "\n",
    "    print(f\"Accuracy: {acc}\")\n",
    "    print(f\"AUC: {roc_auc}\")\n",
    "    \n",
    "    if matrix_display:\n",
    "        c_m = confusion_matrix(y_true, y_pred)\n",
    "        cmp = ConfusionMatrixDisplay(\n",
    "            c_m, display_labels=classes)\n",
    "        fig, ax = plt.subplots(figsize=(4,4))\n",
    "        cmp.plot(ax=ax)  \n",
    "    \n",
    "    report = pd.DataFrame(\n",
    "        classification_report(y_true, y_pred, target_names=classes, output_dict=True)).transpose()\n",
    "    \n",
    "    display(report)\n",
    "    \n",
    "target_names = [\"Not Misinformation\", \"Misinformation\"]\n",
    "# display(Markdown(\"**Waterloo-Cards**\"))\n",
    "# scores = test['roberta_proba'].apply(lambda x: sum(x))\n",
    "# scores = test.apply(lambda x: x[f\"{model}_proba\"][x[f\"{model}_pred\"]], axis=1).values\n",
    "report(test.labels, test['cards_pred'], test['cards_proba'], target_names)"
   ]
  },
  {
   "cell_type": "code",
   "execution_count": 9,
   "id": "4bc29cda",
   "metadata": {
    "ExecuteTime": {
     "end_time": "2023-05-18T10:46:40.225326Z",
     "start_time": "2023-05-18T10:46:40.122472Z"
    }
   },
   "outputs": [
    {
     "name": "stdout",
     "output_type": "stream",
     "text": [
      "Accuracy: 0.9635949943117179\n",
      "AUC: 0.9003408170074838\n"
     ]
    },
    {
     "data": {
      "text/html": [
       "<div>\n",
       "<style scoped>\n",
       "    .dataframe tbody tr th:only-of-type {\n",
       "        vertical-align: middle;\n",
       "    }\n",
       "\n",
       "    .dataframe tbody tr th {\n",
       "        vertical-align: top;\n",
       "    }\n",
       "\n",
       "    .dataframe thead th {\n",
       "        text-align: right;\n",
       "    }\n",
       "</style>\n",
       "<table border=\"1\" class=\"dataframe\">\n",
       "  <thead>\n",
       "    <tr style=\"text-align: right;\">\n",
       "      <th></th>\n",
       "      <th>precision</th>\n",
       "      <th>recall</th>\n",
       "      <th>f1-score</th>\n",
       "      <th>support</th>\n",
       "    </tr>\n",
       "  </thead>\n",
       "  <tbody>\n",
       "    <tr>\n",
       "      <th>Not Misinformation</th>\n",
       "      <td>0.979260</td>\n",
       "      <td>0.980731</td>\n",
       "      <td>0.979995</td>\n",
       "      <td>3996.000000</td>\n",
       "    </tr>\n",
       "    <tr>\n",
       "      <th>Misinformation</th>\n",
       "      <td>0.804071</td>\n",
       "      <td>0.791980</td>\n",
       "      <td>0.797980</td>\n",
       "      <td>399.000000</td>\n",
       "    </tr>\n",
       "    <tr>\n",
       "      <th>accuracy</th>\n",
       "      <td>0.963595</td>\n",
       "      <td>0.963595</td>\n",
       "      <td>0.963595</td>\n",
       "      <td>0.963595</td>\n",
       "    </tr>\n",
       "    <tr>\n",
       "      <th>macro avg</th>\n",
       "      <td>0.891666</td>\n",
       "      <td>0.886355</td>\n",
       "      <td>0.888987</td>\n",
       "      <td>4395.000000</td>\n",
       "    </tr>\n",
       "    <tr>\n",
       "      <th>weighted avg</th>\n",
       "      <td>0.963356</td>\n",
       "      <td>0.963595</td>\n",
       "      <td>0.963471</td>\n",
       "      <td>4395.000000</td>\n",
       "    </tr>\n",
       "  </tbody>\n",
       "</table>\n",
       "</div>"
      ],
      "text/plain": [
       "                    precision    recall  f1-score      support\n",
       "Not Misinformation   0.979260  0.980731  0.979995  3996.000000\n",
       "Misinformation       0.804071  0.791980  0.797980   399.000000\n",
       "accuracy             0.963595  0.963595  0.963595     0.963595\n",
       "macro avg            0.891666  0.886355  0.888987  4395.000000\n",
       "weighted avg         0.963356  0.963595  0.963471  4395.000000"
      ]
     },
     "metadata": {},
     "output_type": "display_data"
    },
    {
     "data": {
      "image/png": "[encoded data removed]",
      "text/plain": [
       "<Figure size 288x288 with 2 Axes>"
      ]
     },
     "metadata": {
      "needs_background": "light"
     },
     "output_type": "display_data"
    }
   ],
   "source": [
    "test_twitter = test[~test.tweetid.isna()]\n",
    "scores = test_twitter['roberta_new_pipe_proba'].apply(lambda x: sum(x[1:]))\n",
    "report(\n",
    "    test_twitter.labels, test_twitter['roberta_new_pipe_pred'], \n",
    "    test_twitter['roberta_new_pipe_proba'], target_names\n",
    ")"
   ]
  },
  {
   "cell_type": "code",
   "execution_count": 10,
   "id": "2068e06b",
   "metadata": {
    "ExecuteTime": {
     "end_time": "2023-05-18T10:46:40.329063Z",
     "start_time": "2023-05-18T10:46:40.226813Z"
    }
   },
   "outputs": [
    {
     "name": "stdout",
     "output_type": "stream",
     "text": [
      "Accuracy: 0.903236914600551\n",
      "AUC: 0.8224155966486539\n"
     ]
    },
    {
     "data": {
      "text/html": [
       "<div>\n",
       "<style scoped>\n",
       "    .dataframe tbody tr th:only-of-type {\n",
       "        vertical-align: middle;\n",
       "    }\n",
       "\n",
       "    .dataframe tbody tr th {\n",
       "        vertical-align: top;\n",
       "    }\n",
       "\n",
       "    .dataframe thead th {\n",
       "        text-align: right;\n",
       "    }\n",
       "</style>\n",
       "<table border=\"1\" class=\"dataframe\">\n",
       "  <thead>\n",
       "    <tr style=\"text-align: right;\">\n",
       "      <th></th>\n",
       "      <th>precision</th>\n",
       "      <th>recall</th>\n",
       "      <th>f1-score</th>\n",
       "      <th>support</th>\n",
       "    </tr>\n",
       "  </thead>\n",
       "  <tbody>\n",
       "    <tr>\n",
       "      <th>Not Misinformation</th>\n",
       "      <td>0.900054</td>\n",
       "      <td>0.944698</td>\n",
       "      <td>0.921836</td>\n",
       "      <td>1754.000000</td>\n",
       "    </tr>\n",
       "    <tr>\n",
       "      <th>Misinformation</th>\n",
       "      <td>0.908749</td>\n",
       "      <td>0.840000</td>\n",
       "      <td>0.873023</td>\n",
       "      <td>1150.000000</td>\n",
       "    </tr>\n",
       "    <tr>\n",
       "      <th>accuracy</th>\n",
       "      <td>0.903237</td>\n",
       "      <td>0.903237</td>\n",
       "      <td>0.903237</td>\n",
       "      <td>0.903237</td>\n",
       "    </tr>\n",
       "    <tr>\n",
       "      <th>macro avg</th>\n",
       "      <td>0.904402</td>\n",
       "      <td>0.892349</td>\n",
       "      <td>0.897429</td>\n",
       "      <td>2904.000000</td>\n",
       "    </tr>\n",
       "    <tr>\n",
       "      <th>weighted avg</th>\n",
       "      <td>0.903497</td>\n",
       "      <td>0.903237</td>\n",
       "      <td>0.902506</td>\n",
       "      <td>2904.000000</td>\n",
       "    </tr>\n",
       "  </tbody>\n",
       "</table>\n",
       "</div>"
      ],
      "text/plain": [
       "                    precision    recall  f1-score      support\n",
       "Not Misinformation   0.900054  0.944698  0.921836  1754.000000\n",
       "Misinformation       0.908749  0.840000  0.873023  1150.000000\n",
       "accuracy             0.903237  0.903237  0.903237     0.903237\n",
       "macro avg            0.904402  0.892349  0.897429  2904.000000\n",
       "weighted avg         0.903497  0.903237  0.902506  2904.000000"
      ]
     },
     "metadata": {},
     "output_type": "display_data"
    },
    {
     "data": {
      "image/png": "[encoded data removed]",
      "text/plain": [
       "<Figure size 288x288 with 2 Axes>"
      ]
     },
     "metadata": {
      "needs_background": "light"
     },
     "output_type": "display_data"
    }
   ],
   "source": [
    "test_cards = test[test.tweetid.isna()]\n",
    "# scores = test_cards['roberta_new_pipe_proba'].apply(lambda x: sum(x[1:]))\n",
    "report(test_cards.labels, test_cards['roberta_new_pipe_pred'], \n",
    "       test_cards['roberta_new_pipe_proba'], target_names)"
   ]
  },
  {
   "cell_type": "code",
   "execution_count": 11,
   "id": "a230b0c8",
   "metadata": {
    "ExecuteTime": {
     "end_time": "2023-05-18T10:46:40.429008Z",
     "start_time": "2023-05-18T10:46:40.330729Z"
    }
   },
   "outputs": [
    {
     "name": "stdout",
     "output_type": "stream",
     "text": [
      "Accuracy: 0.9395807644882861\n",
      "AUC: 0.8868555870547618\n"
     ]
    },
    {
     "data": {
      "text/html": [
       "<div>\n",
       "<style scoped>\n",
       "    .dataframe tbody tr th:only-of-type {\n",
       "        vertical-align: middle;\n",
       "    }\n",
       "\n",
       "    .dataframe tbody tr th {\n",
       "        vertical-align: top;\n",
       "    }\n",
       "\n",
       "    .dataframe thead th {\n",
       "        text-align: right;\n",
       "    }\n",
       "</style>\n",
       "<table border=\"1\" class=\"dataframe\">\n",
       "  <thead>\n",
       "    <tr style=\"text-align: right;\">\n",
       "      <th></th>\n",
       "      <th>precision</th>\n",
       "      <th>recall</th>\n",
       "      <th>f1-score</th>\n",
       "      <th>support</th>\n",
       "    </tr>\n",
       "  </thead>\n",
       "  <tbody>\n",
       "    <tr>\n",
       "      <th>Not Misinformation</th>\n",
       "      <td>0.954304</td>\n",
       "      <td>0.969739</td>\n",
       "      <td>0.961960</td>\n",
       "      <td>5750.000000</td>\n",
       "    </tr>\n",
       "    <tr>\n",
       "      <th>Misinformation</th>\n",
       "      <td>0.880495</td>\n",
       "      <td>0.827631</td>\n",
       "      <td>0.853245</td>\n",
       "      <td>1549.000000</td>\n",
       "    </tr>\n",
       "    <tr>\n",
       "      <th>accuracy</th>\n",
       "      <td>0.939581</td>\n",
       "      <td>0.939581</td>\n",
       "      <td>0.939581</td>\n",
       "      <td>0.939581</td>\n",
       "    </tr>\n",
       "    <tr>\n",
       "      <th>macro avg</th>\n",
       "      <td>0.917399</td>\n",
       "      <td>0.898685</td>\n",
       "      <td>0.907602</td>\n",
       "      <td>7299.000000</td>\n",
       "    </tr>\n",
       "    <tr>\n",
       "      <th>weighted avg</th>\n",
       "      <td>0.938640</td>\n",
       "      <td>0.939581</td>\n",
       "      <td>0.938888</td>\n",
       "      <td>7299.000000</td>\n",
       "    </tr>\n",
       "  </tbody>\n",
       "</table>\n",
       "</div>"
      ],
      "text/plain": [
       "                    precision    recall  f1-score      support\n",
       "Not Misinformation   0.954304  0.969739  0.961960  5750.000000\n",
       "Misinformation       0.880495  0.827631  0.853245  1549.000000\n",
       "accuracy             0.939581  0.939581  0.939581     0.939581\n",
       "macro avg            0.917399  0.898685  0.907602  7299.000000\n",
       "weighted avg         0.938640  0.939581  0.938888  7299.000000"
      ]
     },
     "metadata": {},
     "output_type": "display_data"
    },
    {
     "data": {
      "image/png": "[encoded data removed]",
      "text/plain": [
       "<Figure size 288x288 with 2 Axes>"
      ]
     },
     "metadata": {
      "needs_background": "light"
     },
     "output_type": "display_data"
    }
   ],
   "source": [
    "# scores = test['roberta_cards_pipe_proba'].apply(lambda x: sum(x[1:]))\n",
    "report(test.labels, test['roberta_new_pipe_pred'], test['roberta_new_pipe_proba'], target_names)"
   ]
  },
  {
   "cell_type": "markdown",
   "id": "97278a55",
   "metadata": {},
   "source": [
    "## Bertweet"
   ]
  },
  {
   "cell_type": "code",
   "execution_count": 12,
   "id": "86e83a03",
   "metadata": {
    "ExecuteTime": {
     "end_time": "2023-05-18T10:46:40.535622Z",
     "start_time": "2023-05-18T10:46:40.430398Z"
    }
   },
   "outputs": [
    {
     "name": "stdout",
     "output_type": "stream",
     "text": [
      "Accuracy: 0.935881627620222\n",
      "AUC: 0.8900281808740562\n"
     ]
    },
    {
     "data": {
      "text/html": [
       "<div>\n",
       "<style scoped>\n",
       "    .dataframe tbody tr th:only-of-type {\n",
       "        vertical-align: middle;\n",
       "    }\n",
       "\n",
       "    .dataframe tbody tr th {\n",
       "        vertical-align: top;\n",
       "    }\n",
       "\n",
       "    .dataframe thead th {\n",
       "        text-align: right;\n",
       "    }\n",
       "</style>\n",
       "<table border=\"1\" class=\"dataframe\">\n",
       "  <thead>\n",
       "    <tr style=\"text-align: right;\">\n",
       "      <th></th>\n",
       "      <th>precision</th>\n",
       "      <th>recall</th>\n",
       "      <th>f1-score</th>\n",
       "      <th>support</th>\n",
       "    </tr>\n",
       "  </thead>\n",
       "  <tbody>\n",
       "    <tr>\n",
       "      <th>Not Misinformation</th>\n",
       "      <td>0.950683</td>\n",
       "      <td>0.968870</td>\n",
       "      <td>0.959690</td>\n",
       "      <td>5750.000000</td>\n",
       "    </tr>\n",
       "    <tr>\n",
       "      <th>Misinformation</th>\n",
       "      <td>0.875608</td>\n",
       "      <td>0.813428</td>\n",
       "      <td>0.843373</td>\n",
       "      <td>1549.000000</td>\n",
       "    </tr>\n",
       "    <tr>\n",
       "      <th>accuracy</th>\n",
       "      <td>0.935882</td>\n",
       "      <td>0.935882</td>\n",
       "      <td>0.935882</td>\n",
       "      <td>0.935882</td>\n",
       "    </tr>\n",
       "    <tr>\n",
       "      <th>macro avg</th>\n",
       "      <td>0.913145</td>\n",
       "      <td>0.891149</td>\n",
       "      <td>0.901532</td>\n",
       "      <td>7299.000000</td>\n",
       "    </tr>\n",
       "    <tr>\n",
       "      <th>weighted avg</th>\n",
       "      <td>0.934750</td>\n",
       "      <td>0.935882</td>\n",
       "      <td>0.935005</td>\n",
       "      <td>7299.000000</td>\n",
       "    </tr>\n",
       "  </tbody>\n",
       "</table>\n",
       "</div>"
      ],
      "text/plain": [
       "                    precision    recall  f1-score      support\n",
       "Not Misinformation   0.950683  0.968870  0.959690  5750.000000\n",
       "Misinformation       0.875608  0.813428  0.843373  1549.000000\n",
       "accuracy             0.935882  0.935882  0.935882     0.935882\n",
       "macro avg            0.913145  0.891149  0.901532  7299.000000\n",
       "weighted avg         0.934750  0.935882  0.935005  7299.000000"
      ]
     },
     "metadata": {},
     "output_type": "display_data"
    },
    {
     "data": {
      "image/png": "[encoded data removed]",
      "text/plain": [
       "<Figure size 288x288 with 2 Axes>"
      ]
     },
     "metadata": {
      "needs_background": "light"
     },
     "output_type": "display_data"
    }
   ],
   "source": [
    "target_names = [\"Not Misinformation\", \"Misinformation\"]\n",
    "# display(Markdown(\"**Waterloo-Cards**\"))\n",
    "scores = test['bertweet_proba'].apply(lambda x: sum(x[1:]))\n",
    "report(test.labels, test['bertweet_pred'], test['bertweet_proba'], target_names)"
   ]
  },
  {
   "cell_type": "code",
   "execution_count": 13,
   "id": "c5794920",
   "metadata": {
    "ExecuteTime": {
     "end_time": "2023-05-18T10:46:40.640154Z",
     "start_time": "2023-05-18T10:46:40.538542Z"
    }
   },
   "outputs": [
    {
     "name": "stdout",
     "output_type": "stream",
     "text": [
      "Accuracy: 0.9620022753128555\n",
      "AUC: 0.9098581664371139\n"
     ]
    },
    {
     "data": {
      "text/html": [
       "<div>\n",
       "<style scoped>\n",
       "    .dataframe tbody tr th:only-of-type {\n",
       "        vertical-align: middle;\n",
       "    }\n",
       "\n",
       "    .dataframe tbody tr th {\n",
       "        vertical-align: top;\n",
       "    }\n",
       "\n",
       "    .dataframe thead th {\n",
       "        text-align: right;\n",
       "    }\n",
       "</style>\n",
       "<table border=\"1\" class=\"dataframe\">\n",
       "  <thead>\n",
       "    <tr style=\"text-align: right;\">\n",
       "      <th></th>\n",
       "      <th>precision</th>\n",
       "      <th>recall</th>\n",
       "      <th>f1-score</th>\n",
       "      <th>support</th>\n",
       "    </tr>\n",
       "  </thead>\n",
       "  <tbody>\n",
       "    <tr>\n",
       "      <th>Not Misinformation</th>\n",
       "      <td>0.977312</td>\n",
       "      <td>0.980981</td>\n",
       "      <td>0.979143</td>\n",
       "      <td>3996.000000</td>\n",
       "    </tr>\n",
       "    <tr>\n",
       "      <th>Misinformation</th>\n",
       "      <td>0.802083</td>\n",
       "      <td>0.771930</td>\n",
       "      <td>0.786718</td>\n",
       "      <td>399.000000</td>\n",
       "    </tr>\n",
       "    <tr>\n",
       "      <th>accuracy</th>\n",
       "      <td>0.962002</td>\n",
       "      <td>0.962002</td>\n",
       "      <td>0.962002</td>\n",
       "      <td>0.962002</td>\n",
       "    </tr>\n",
       "    <tr>\n",
       "      <th>macro avg</th>\n",
       "      <td>0.889698</td>\n",
       "      <td>0.876455</td>\n",
       "      <td>0.882931</td>\n",
       "      <td>4395.000000</td>\n",
       "    </tr>\n",
       "    <tr>\n",
       "      <th>weighted avg</th>\n",
       "      <td>0.961404</td>\n",
       "      <td>0.962002</td>\n",
       "      <td>0.961674</td>\n",
       "      <td>4395.000000</td>\n",
       "    </tr>\n",
       "  </tbody>\n",
       "</table>\n",
       "</div>"
      ],
      "text/plain": [
       "                    precision    recall  f1-score      support\n",
       "Not Misinformation   0.977312  0.980981  0.979143  3996.000000\n",
       "Misinformation       0.802083  0.771930  0.786718   399.000000\n",
       "accuracy             0.962002  0.962002  0.962002     0.962002\n",
       "macro avg            0.889698  0.876455  0.882931  4395.000000\n",
       "weighted avg         0.961404  0.962002  0.961674  4395.000000"
      ]
     },
     "metadata": {},
     "output_type": "display_data"
    },
    {
     "data": {
      "image/png": "[encoded data removed]",
      "text/plain": [
       "<Figure size 288x288 with 2 Axes>"
      ]
     },
     "metadata": {
      "needs_background": "light"
     },
     "output_type": "display_data"
    }
   ],
   "source": [
    "scores = test_twitter['bertweet_proba'].apply(lambda x: sum(x[1:]))\n",
    "report(test_twitter.labels, test_twitter['bertweet_pred'], test_twitter['bertweet_proba'], target_names)"
   ]
  },
  {
   "cell_type": "code",
   "execution_count": 14,
   "id": "e40ec925",
   "metadata": {
    "ExecuteTime": {
     "end_time": "2023-05-18T10:46:40.743759Z",
     "start_time": "2023-05-18T10:46:40.641707Z"
    }
   },
   "outputs": [
    {
     "name": "stdout",
     "output_type": "stream",
     "text": [
      "Accuracy: 0.8963498622589532\n",
      "AUC: 0.8195406772098557\n"
     ]
    },
    {
     "data": {
      "text/html": [
       "<div>\n",
       "<style scoped>\n",
       "    .dataframe tbody tr th:only-of-type {\n",
       "        vertical-align: middle;\n",
       "    }\n",
       "\n",
       "    .dataframe tbody tr th {\n",
       "        vertical-align: top;\n",
       "    }\n",
       "\n",
       "    .dataframe thead th {\n",
       "        text-align: right;\n",
       "    }\n",
       "</style>\n",
       "<table border=\"1\" class=\"dataframe\">\n",
       "  <thead>\n",
       "    <tr style=\"text-align: right;\">\n",
       "      <th></th>\n",
       "      <th>precision</th>\n",
       "      <th>recall</th>\n",
       "      <th>f1-score</th>\n",
       "      <th>support</th>\n",
       "    </tr>\n",
       "  </thead>\n",
       "  <tbody>\n",
       "    <tr>\n",
       "      <th>Not Misinformation</th>\n",
       "      <td>0.892915</td>\n",
       "      <td>0.941277</td>\n",
       "      <td>0.916459</td>\n",
       "      <td>1754.00000</td>\n",
       "    </tr>\n",
       "    <tr>\n",
       "      <th>Misinformation</th>\n",
       "      <td>0.902370</td>\n",
       "      <td>0.827826</td>\n",
       "      <td>0.863492</td>\n",
       "      <td>1150.00000</td>\n",
       "    </tr>\n",
       "    <tr>\n",
       "      <th>accuracy</th>\n",
       "      <td>0.896350</td>\n",
       "      <td>0.896350</td>\n",
       "      <td>0.896350</td>\n",
       "      <td>0.89635</td>\n",
       "    </tr>\n",
       "    <tr>\n",
       "      <th>macro avg</th>\n",
       "      <td>0.897642</td>\n",
       "      <td>0.884552</td>\n",
       "      <td>0.889975</td>\n",
       "      <td>2904.00000</td>\n",
       "    </tr>\n",
       "    <tr>\n",
       "      <th>weighted avg</th>\n",
       "      <td>0.896659</td>\n",
       "      <td>0.896350</td>\n",
       "      <td>0.895484</td>\n",
       "      <td>2904.00000</td>\n",
       "    </tr>\n",
       "  </tbody>\n",
       "</table>\n",
       "</div>"
      ],
      "text/plain": [
       "                    precision    recall  f1-score     support\n",
       "Not Misinformation   0.892915  0.941277  0.916459  1754.00000\n",
       "Misinformation       0.902370  0.827826  0.863492  1150.00000\n",
       "accuracy             0.896350  0.896350  0.896350     0.89635\n",
       "macro avg            0.897642  0.884552  0.889975  2904.00000\n",
       "weighted avg         0.896659  0.896350  0.895484  2904.00000"
      ]
     },
     "metadata": {},
     "output_type": "display_data"
    },
    {
     "data": {
      "image/png": "[encoded data removed]",
      "text/plain": [
       "<Figure size 288x288 with 2 Axes>"
      ]
     },
     "metadata": {
      "needs_background": "light"
     },
     "output_type": "display_data"
    }
   ],
   "source": [
    "scores = test_cards['bertweet_proba'].apply(lambda x: sum(x[1:]))\n",
    "report(test_cards.labels, test_cards['bertweet_pred'], test_cards['bertweet_proba'], target_names)"
   ]
  },
  {
   "cell_type": "markdown",
   "id": "525925fe",
   "metadata": {},
   "source": [
    "## Electra"
   ]
  },
  {
   "cell_type": "code",
   "execution_count": 15,
   "id": "45af0500",
   "metadata": {
    "ExecuteTime": {
     "end_time": "2023-05-18T10:46:40.752815Z",
     "start_time": "2023-05-18T10:46:40.745302Z"
    }
   },
   "outputs": [
    {
     "data": {
      "text/plain": [
       "TRAIN    58590\n",
       "TEST      7299\n",
       "VALID     6999\n",
       "Name: PARTITION, dtype: int64"
      ]
     },
     "execution_count": 15,
     "metadata": {},
     "output_type": "execute_result"
    }
   ],
   "source": [
    "data[\"PARTITION\"].value_counts()"
   ]
  },
  {
   "cell_type": "code",
   "execution_count": 16,
   "id": "638d9e70",
   "metadata": {
    "ExecuteTime": {
     "end_time": "2023-05-18T10:46:40.763944Z",
     "start_time": "2023-05-18T10:46:40.754390Z"
    }
   },
   "outputs": [],
   "source": [
    "test = data[data[\"PARTITION\"] == \"TEST\"]"
   ]
  },
  {
   "cell_type": "code",
   "execution_count": 17,
   "id": "1220597c",
   "metadata": {
    "ExecuteTime": {
     "end_time": "2023-05-18T10:46:40.929812Z",
     "start_time": "2023-05-18T10:46:40.765395Z"
    }
   },
   "outputs": [
    {
     "name": "stdout",
     "output_type": "stream",
     "text": [
      "Accuracy: 0.9184819838334018\n",
      "AUC: 0.8847436494793276\n"
     ]
    },
    {
     "data": {
      "text/html": [
       "<div>\n",
       "<style scoped>\n",
       "    .dataframe tbody tr th:only-of-type {\n",
       "        vertical-align: middle;\n",
       "    }\n",
       "\n",
       "    .dataframe tbody tr th {\n",
       "        vertical-align: top;\n",
       "    }\n",
       "\n",
       "    .dataframe thead th {\n",
       "        text-align: right;\n",
       "    }\n",
       "</style>\n",
       "<table border=\"1\" class=\"dataframe\">\n",
       "  <thead>\n",
       "    <tr style=\"text-align: right;\">\n",
       "      <th></th>\n",
       "      <th>precision</th>\n",
       "      <th>recall</th>\n",
       "      <th>f1-score</th>\n",
       "      <th>support</th>\n",
       "    </tr>\n",
       "  </thead>\n",
       "  <tbody>\n",
       "    <tr>\n",
       "      <th>Not Misinformation</th>\n",
       "      <td>0.936347</td>\n",
       "      <td>0.961913</td>\n",
       "      <td>0.948958</td>\n",
       "      <td>5750.000000</td>\n",
       "    </tr>\n",
       "    <tr>\n",
       "      <th>Misinformation</th>\n",
       "      <td>0.842672</td>\n",
       "      <td>0.757263</td>\n",
       "      <td>0.797688</td>\n",
       "      <td>1549.000000</td>\n",
       "    </tr>\n",
       "    <tr>\n",
       "      <th>accuracy</th>\n",
       "      <td>0.918482</td>\n",
       "      <td>0.918482</td>\n",
       "      <td>0.918482</td>\n",
       "      <td>0.918482</td>\n",
       "    </tr>\n",
       "    <tr>\n",
       "      <th>macro avg</th>\n",
       "      <td>0.889510</td>\n",
       "      <td>0.859588</td>\n",
       "      <td>0.873323</td>\n",
       "      <td>7299.000000</td>\n",
       "    </tr>\n",
       "    <tr>\n",
       "      <th>weighted avg</th>\n",
       "      <td>0.916467</td>\n",
       "      <td>0.918482</td>\n",
       "      <td>0.916855</td>\n",
       "      <td>7299.000000</td>\n",
       "    </tr>\n",
       "  </tbody>\n",
       "</table>\n",
       "</div>"
      ],
      "text/plain": [
       "                    precision    recall  f1-score      support\n",
       "Not Misinformation   0.936347  0.961913  0.948958  5750.000000\n",
       "Misinformation       0.842672  0.757263  0.797688  1549.000000\n",
       "accuracy             0.918482  0.918482  0.918482     0.918482\n",
       "macro avg            0.889510  0.859588  0.873323  7299.000000\n",
       "weighted avg         0.916467  0.918482  0.916855  7299.000000"
      ]
     },
     "metadata": {},
     "output_type": "display_data"
    },
    {
     "data": {
      "image/png": "[encoded data removed]",
      "text/plain": [
       "<Figure size 288x288 with 2 Axes>"
      ]
     },
     "metadata": {
      "needs_background": "light"
     },
     "output_type": "display_data"
    }
   ],
   "source": [
    "scores = test['electra_proba'].apply(lambda x: sum(x[1:]))\n",
    "report(test.labels, test['electra_acc_pred'], test['electra_proba'], target_names)"
   ]
  },
  {
   "cell_type": "markdown",
   "id": "8954cf1b",
   "metadata": {},
   "source": [
    "## XLnet"
   ]
  },
  {
   "cell_type": "code",
   "execution_count": 18,
   "id": "38d485de",
   "metadata": {
    "ExecuteTime": {
     "end_time": "2023-05-18T10:46:41.038179Z",
     "start_time": "2023-05-18T10:46:40.931093Z"
    }
   },
   "outputs": [
    {
     "name": "stdout",
     "output_type": "stream",
     "text": [
      "Accuracy: 0.9335525414440334\n",
      "AUC: 0.9015225531198249\n"
     ]
    },
    {
     "data": {
      "text/html": [
       "<div>\n",
       "<style scoped>\n",
       "    .dataframe tbody tr th:only-of-type {\n",
       "        vertical-align: middle;\n",
       "    }\n",
       "\n",
       "    .dataframe tbody tr th {\n",
       "        vertical-align: top;\n",
       "    }\n",
       "\n",
       "    .dataframe thead th {\n",
       "        text-align: right;\n",
       "    }\n",
       "</style>\n",
       "<table border=\"1\" class=\"dataframe\">\n",
       "  <thead>\n",
       "    <tr style=\"text-align: right;\">\n",
       "      <th></th>\n",
       "      <th>precision</th>\n",
       "      <th>recall</th>\n",
       "      <th>f1-score</th>\n",
       "      <th>support</th>\n",
       "    </tr>\n",
       "  </thead>\n",
       "  <tbody>\n",
       "    <tr>\n",
       "      <th>Not Misinformation</th>\n",
       "      <td>0.948238</td>\n",
       "      <td>0.968522</td>\n",
       "      <td>0.958272</td>\n",
       "      <td>5750.000000</td>\n",
       "    </tr>\n",
       "    <tr>\n",
       "      <th>Misinformation</th>\n",
       "      <td>0.873072</td>\n",
       "      <td>0.803744</td>\n",
       "      <td>0.836975</td>\n",
       "      <td>1549.000000</td>\n",
       "    </tr>\n",
       "    <tr>\n",
       "      <th>accuracy</th>\n",
       "      <td>0.933553</td>\n",
       "      <td>0.933553</td>\n",
       "      <td>0.933553</td>\n",
       "      <td>0.933553</td>\n",
       "    </tr>\n",
       "    <tr>\n",
       "      <th>macro avg</th>\n",
       "      <td>0.910655</td>\n",
       "      <td>0.886133</td>\n",
       "      <td>0.897624</td>\n",
       "      <td>7299.000000</td>\n",
       "    </tr>\n",
       "    <tr>\n",
       "      <th>weighted avg</th>\n",
       "      <td>0.932286</td>\n",
       "      <td>0.933553</td>\n",
       "      <td>0.932531</td>\n",
       "      <td>7299.000000</td>\n",
       "    </tr>\n",
       "  </tbody>\n",
       "</table>\n",
       "</div>"
      ],
      "text/plain": [
       "                    precision    recall  f1-score      support\n",
       "Not Misinformation   0.948238  0.968522  0.958272  5750.000000\n",
       "Misinformation       0.873072  0.803744  0.836975  1549.000000\n",
       "accuracy             0.933553  0.933553  0.933553     0.933553\n",
       "macro avg            0.910655  0.886133  0.897624  7299.000000\n",
       "weighted avg         0.932286  0.933553  0.932531  7299.000000"
      ]
     },
     "metadata": {},
     "output_type": "display_data"
    },
    {
     "data": {
      "image/png": "[encoded data removed]",
      "text/plain": [
       "<Figure size 288x288 with 2 Axes>"
      ]
     },
     "metadata": {
      "needs_background": "light"
     },
     "output_type": "display_data"
    }
   ],
   "source": [
    "scores = test['xlnet_proba'].apply(lambda x: sum(x[1:]))\n",
    "report(test.labels, test['xlnet_pred'], test['xlnet_proba'], target_names)"
   ]
  },
  {
   "cell_type": "markdown",
   "id": "aeb7861b",
   "metadata": {},
   "source": [
    "## GPT-3 Curie"
   ]
  },
  {
   "cell_type": "code",
   "execution_count": 19,
   "id": "79d1ec55",
   "metadata": {
    "ExecuteTime": {
     "end_time": "2023-05-18T10:46:41.045335Z",
     "start_time": "2023-05-18T10:46:41.039759Z"
    }
   },
   "outputs": [
    {
     "data": {
      "text/plain": [
       "True     0.968078\n",
       "False    0.031922\n",
       "Name: gpt-3_curie_pred, dtype: float64"
      ]
     },
     "execution_count": 19,
     "metadata": {},
     "output_type": "execute_result"
    }
   ],
   "source": [
    "filter_ = test['gpt-3_curie_pred'].isin(['0', '1'])\n",
    "filter_.value_counts(normalize=True)"
   ]
  },
  {
   "cell_type": "code",
   "execution_count": 20,
   "id": "c1dba31a",
   "metadata": {
    "ExecuteTime": {
     "end_time": "2023-05-18T10:46:41.052519Z",
     "start_time": "2023-05-18T10:46:41.047046Z"
    }
   },
   "outputs": [],
   "source": [
    "test_filtered = test[filter_]"
   ]
  },
  {
   "cell_type": "code",
   "execution_count": 21,
   "id": "98791abd",
   "metadata": {
    "ExecuteTime": {
     "end_time": "2023-05-18T10:46:41.202850Z",
     "start_time": "2023-05-18T10:46:41.054052Z"
    }
   },
   "outputs": [
    {
     "name": "stdout",
     "output_type": "stream",
     "text": [
      "Accuracy: 0.9506085479762242\n",
      "AUC: 0.030599087971633895\n"
     ]
    },
    {
     "data": {
      "text/html": [
       "<div>\n",
       "<style scoped>\n",
       "    .dataframe tbody tr th:only-of-type {\n",
       "        vertical-align: middle;\n",
       "    }\n",
       "\n",
       "    .dataframe tbody tr th {\n",
       "        vertical-align: top;\n",
       "    }\n",
       "\n",
       "    .dataframe thead th {\n",
       "        text-align: right;\n",
       "    }\n",
       "</style>\n",
       "<table border=\"1\" class=\"dataframe\">\n",
       "  <thead>\n",
       "    <tr style=\"text-align: right;\">\n",
       "      <th></th>\n",
       "      <th>precision</th>\n",
       "      <th>recall</th>\n",
       "      <th>f1-score</th>\n",
       "      <th>support</th>\n",
       "    </tr>\n",
       "  </thead>\n",
       "  <tbody>\n",
       "    <tr>\n",
       "      <th>Not Misinformation</th>\n",
       "      <td>0.951911</td>\n",
       "      <td>0.987262</td>\n",
       "      <td>0.969265</td>\n",
       "      <td>5574.000000</td>\n",
       "    </tr>\n",
       "    <tr>\n",
       "      <th>Misinformation</th>\n",
       "      <td>0.944747</td>\n",
       "      <td>0.813673</td>\n",
       "      <td>0.874325</td>\n",
       "      <td>1492.000000</td>\n",
       "    </tr>\n",
       "    <tr>\n",
       "      <th>accuracy</th>\n",
       "      <td>0.950609</td>\n",
       "      <td>0.950609</td>\n",
       "      <td>0.950609</td>\n",
       "      <td>0.950609</td>\n",
       "    </tr>\n",
       "    <tr>\n",
       "      <th>macro avg</th>\n",
       "      <td>0.948329</td>\n",
       "      <td>0.900468</td>\n",
       "      <td>0.921795</td>\n",
       "      <td>7066.000000</td>\n",
       "    </tr>\n",
       "    <tr>\n",
       "      <th>weighted avg</th>\n",
       "      <td>0.950399</td>\n",
       "      <td>0.950609</td>\n",
       "      <td>0.949218</td>\n",
       "      <td>7066.000000</td>\n",
       "    </tr>\n",
       "  </tbody>\n",
       "</table>\n",
       "</div>"
      ],
      "text/plain": [
       "                    precision    recall  f1-score      support\n",
       "Not Misinformation   0.951911  0.987262  0.969265  5574.000000\n",
       "Misinformation       0.944747  0.813673  0.874325  1492.000000\n",
       "accuracy             0.950609  0.950609  0.950609     0.950609\n",
       "macro avg            0.948329  0.900468  0.921795  7066.000000\n",
       "weighted avg         0.950399  0.950609  0.949218  7066.000000"
      ]
     },
     "metadata": {},
     "output_type": "display_data"
    },
    {
     "data": {
      "image/png": "[encoded data removed]",
      "text/plain": [
       "<Figure size 288x288 with 2 Axes>"
      ]
     },
     "metadata": {
      "needs_background": "light"
     },
     "output_type": "display_data"
    }
   ],
   "source": [
    "scores = test_filtered.apply(\n",
    "    lambda x: [x['gpt-3_curie_proba'],1-x['gpt-3_curie_proba']] if ['gpt-3_curie_pred']==0 else [1-x['gpt-3_curie_proba'],x['gpt-3_curie_proba']], axis=1)\n",
    "report(test_filtered.labels, test_filtered['gpt-3_curie_pred'].apply(int), \n",
    "       scores, target_names)"
   ]
  },
  {
   "cell_type": "markdown",
   "id": "b72e880e",
   "metadata": {},
   "source": [
    "## Resume"
   ]
  },
  {
   "cell_type": "code",
   "execution_count": 22,
   "id": "06b2d618",
   "metadata": {
    "ExecuteTime": {
     "end_time": "2023-05-18T10:46:41.228613Z",
     "start_time": "2023-05-18T10:46:41.204243Z"
    }
   },
   "outputs": [
    {
     "data": {
      "text/html": [
       "<div>\n",
       "<style scoped>\n",
       "    .dataframe tbody tr th:only-of-type {\n",
       "        vertical-align: middle;\n",
       "    }\n",
       "\n",
       "    .dataframe tbody tr th {\n",
       "        vertical-align: top;\n",
       "    }\n",
       "\n",
       "    .dataframe thead th {\n",
       "        text-align: right;\n",
       "    }\n",
       "</style>\n",
       "<table border=\"1\" class=\"dataframe\">\n",
       "  <thead>\n",
       "    <tr style=\"text-align: right;\">\n",
       "      <th></th>\n",
       "      <th>RoBERTa</th>\n",
       "      <th>BERTweet</th>\n",
       "      <th>Electra</th>\n",
       "      <th>XLnet</th>\n",
       "      <th>Support</th>\n",
       "    </tr>\n",
       "  </thead>\n",
       "  <tbody>\n",
       "    <tr>\n",
       "      <th>CARDS</th>\n",
       "      <td>0.897429</td>\n",
       "      <td>0.889975</td>\n",
       "      <td>0.887220</td>\n",
       "      <td>0.889154</td>\n",
       "      <td>4395</td>\n",
       "    </tr>\n",
       "    <tr>\n",
       "      <th>Waterloo</th>\n",
       "      <td>0.888987</td>\n",
       "      <td>0.882931</td>\n",
       "      <td>0.860729</td>\n",
       "      <td>0.873174</td>\n",
       "      <td>2904</td>\n",
       "    </tr>\n",
       "  </tbody>\n",
       "</table>\n",
       "</div>"
      ],
      "text/plain": [
       "           RoBERTa  BERTweet   Electra     XLnet  Support\n",
       "CARDS     0.897429  0.889975  0.887220  0.889154     4395\n",
       "Waterloo  0.888987  0.882931  0.860729  0.873174     2904"
      ]
     },
     "execution_count": 22,
     "metadata": {},
     "output_type": "execute_result"
    }
   ],
   "source": [
    "test_cards = test[test.DATASET==\"cards\"]\n",
    "test_waterloo = test[test.DATASET==\"waterloo\"]\n",
    "index = [\"CARDS\", \"Waterloo\"]\n",
    "\n",
    "models = [\"roberta_new_pipe\", \"bertweet\", \"electra\", \"xlnet\"]\n",
    "datasets = [test_cards, test_waterloo]\n",
    "\n",
    "comparative = pd.DataFrame()\n",
    "for j, d in enumerate(datasets):\n",
    "    scores = []\n",
    "    for i, m in enumerate(models):\n",
    "        score = f1_score(d[\"labels\"], d[f\"{m}_pred\"], average=\"macro\")\n",
    "        scores.append(score)\n",
    "    comparative = pd.concat([comparative, pd.Series(scores)], ignore_index=True, axis=1)\n",
    "        \n",
    "comparative = comparative.T\n",
    "comparative.columns = [\"RoBERTa\", \"BERTweet\", \"Electra\", \"XLnet\"]\n",
    "comparative.index = index\n",
    "comparative[\"Support\"] = test.DATASET.value_counts().tolist() #+ [inner_joinedsample.shape[0]]\n",
    "comparative"
   ]
  },
  {
   "cell_type": "code",
   "execution_count": 23,
   "id": "0919b9f7",
   "metadata": {
    "ExecuteTime": {
     "end_time": "2023-05-18T10:46:41.547848Z",
     "start_time": "2023-05-18T10:46:41.229853Z"
    }
   },
   "outputs": [
    {
     "data": {
      "image/png": "[encoded data removed]",
      "text/plain": [
       "<Figure size 576x432 with 1 Axes>"
      ]
     },
     "metadata": {
      "needs_background": "light"
     },
     "output_type": "display_data"
    }
   ],
   "source": [
    "plt.figure(figsize=(8, 6))\n",
    "\n",
    "y_true = test.labels.values\n",
    "\n",
    "for model in models:\n",
    "    y_pred = test[f\"{model}_pred\"].values\n",
    "\n",
    "    scores = test.apply(lambda x: x[f\"{model}_proba\"][int(x[f\"{model}_pred\"])], axis=1).values\n",
    "    fpr, tpr, thresholds = roc_curve(test.labels, scores)    \n",
    "    roc_auc = auc(tpr, fpr)# multi_class=\"ovr\", average=\"macro\")\n",
    "    plt.plot(tpr, fpr, label=f\"{model} (AUC = {round(roc_auc*100, 2)})\")\n",
    "\n",
    "\n",
    "plt.plot([0, 1], [0, 1], \"k--\", label=\"chance level (AUC = 0.5)\")\n",
    "plt.axis(\"square\")\n",
    "plt.xlabel(\"False Positive Rate\")\n",
    "plt.ylabel(\"True Positive Rate\")\n",
    "plt.title(\"ROC curves\")\n",
    "plt.legend()\n",
    "plt.show()"
   ]
  }
 ],
 "metadata": {
  "kernelspec": {
   "display_name": "Python 3 (ipykernel)",
   "language": "python",
   "name": "python3"
  },
  "language_info": {
   "codemirror_mode": {
    "name": "ipython",
    "version": 3
   },
   "file_extension": ".py",
   "mimetype": "text/x-python",
   "name": "python",
   "nbconvert_exporter": "python",
   "pygments_lexer": "ipython3",
   "version": "3.8.13"
  },
  "toc": {
   "base_numbering": 1,
   "nav_menu": {},
   "number_sections": true,
   "sideBar": true,
   "skip_h1_title": false,
   "title_cell": "Table of Contents",
   "title_sidebar": "Contents",
   "toc_cell": false,
   "toc_position": {
    "height": "calc(100% - 180px)",
    "left": "10px",
    "top": "150px",
    "width": "165px"
   },
   "toc_section_display": true,
   "toc_window_display": true
  }
 },
 "nbformat": 4,
 "nbformat_minor": 5
}
