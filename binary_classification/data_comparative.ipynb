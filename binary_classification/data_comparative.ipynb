{
 "cells": [
  {
   "cell_type": "code",
   "execution_count": 1,
   "metadata": {
    "ExecuteTime": {
     "end_time": "2023-05-18T01:22:07.499817Z",
     "start_time": "2023-05-18T01:22:06.518893Z"
    }
   },
   "outputs": [],
   "source": [
    "import os\n",
    "import re\n",
    "import math\n",
    "import pickle\n",
    "import numpy as np\n",
    "import pandas as pd\n",
    "\n",
    "from tqdm import tqdm\n",
    "from scipy.special import softmax\n",
    "from utils import denoise_text, preprocess_text\n",
    "\n",
    "from sklearn.utils.class_weight import compute_class_weight \n",
    "from sklearn.metrics import f1_score, accuracy_score, precision_score, recall_score\n",
    "\n",
    "from matplotlib import pyplot as plt\n",
    "from sklearn.metrics import (\n",
    "    accuracy_score, roc_auc_score, f1_score,\n",
    "    classification_report, confusion_matrix, ConfusionMatrixDisplay)\n",
    "\n",
    "from IPython.display import display, Markdown, Latex"
   ]
  },
  {
   "cell_type": "code",
   "execution_count": 2,
   "metadata": {
    "ExecuteTime": {
     "end_time": "2023-05-18T01:22:07.503545Z",
     "start_time": "2023-05-18T01:22:07.501423Z"
    }
   },
   "outputs": [],
   "source": [
    "PATH = \"../datasets/\""
   ]
  },
  {
   "cell_type": "markdown",
   "metadata": {},
   "source": [
    "## Data"
   ]
  },
  {
   "cell_type": "code",
   "execution_count": 3,
   "metadata": {
    "ExecuteTime": {
     "end_time": "2023-05-18T01:22:08.543212Z",
     "start_time": "2023-05-18T01:22:07.504583Z"
    }
   },
   "outputs": [
    {
     "data": {
      "text/html": [
       "<div>\n",
       "<style scoped>\n",
       "    .dataframe tbody tr th:only-of-type {\n",
       "        vertical-align: middle;\n",
       "    }\n",
       "\n",
       "    .dataframe tbody tr th {\n",
       "        vertical-align: top;\n",
       "    }\n",
       "\n",
       "    .dataframe thead th {\n",
       "        text-align: right;\n",
       "    }\n",
       "</style>\n",
       "<table border=\"1\" class=\"dataframe\">\n",
       "  <thead>\n",
       "    <tr style=\"text-align: right;\">\n",
       "      <th></th>\n",
       "      <th>prompt</th>\n",
       "      <th>claim</th>\n",
       "      <th>PARTITION</th>\n",
       "      <th>labels</th>\n",
       "      <th>sentiment</th>\n",
       "      <th>tweetid</th>\n",
       "      <th>roberta_preprocessed</th>\n",
       "      <th>roberta_pred</th>\n",
       "      <th>roberta_proba</th>\n",
       "      <th>DATASET</th>\n",
       "      <th>...</th>\n",
       "      <th>bertweet_pred</th>\n",
       "      <th>bertweet_proba</th>\n",
       "      <th>gpt-3_curie_pred</th>\n",
       "      <th>gpt-3_curie_proba</th>\n",
       "      <th>electra_pred</th>\n",
       "      <th>electra_proba</th>\n",
       "      <th>xlnet_pred</th>\n",
       "      <th>xlnet_proba</th>\n",
       "      <th>electra_acc_pred</th>\n",
       "      <th>electra_acc_proba</th>\n",
       "    </tr>\n",
       "  </thead>\n",
       "  <tbody>\n",
       "    <tr>\n",
       "      <th>22121</th>\n",
       "      <td>Early Global Warming coincided with a slight i...</td>\n",
       "      <td>2_3</td>\n",
       "      <td>TRAIN</td>\n",
       "      <td>1</td>\n",
       "      <td>NaN</td>\n",
       "      <td>NaN</td>\n",
       "      <td>NaN</td>\n",
       "      <td>NaN</td>\n",
       "      <td>NaN</td>\n",
       "      <td>cards</td>\n",
       "      <td>...</td>\n",
       "      <td>1</td>\n",
       "      <td>[0.0014658127911388874, 0.9985342025756836]</td>\n",
       "      <td>1</td>\n",
       "      <td>0.952846</td>\n",
       "      <td>1</td>\n",
       "      <td>[0.05471523478627205, 0.9452847242355347]</td>\n",
       "      <td>1</td>\n",
       "      <td>[0.0009379877592436969, 0.9990620017051697]</td>\n",
       "      <td>1</td>\n",
       "      <td>[0.07348055392503738, 0.9265194535255432]</td>\n",
       "    </tr>\n",
       "  </tbody>\n",
       "</table>\n",
       "<p>1 rows × 30 columns</p>\n",
       "</div>"
      ],
      "text/plain": [
       "                                                  prompt claim PARTITION  \\\n",
       "22121  Early Global Warming coincided with a slight i...   2_3     TRAIN   \n",
       "\n",
       "       labels  sentiment  tweetid roberta_preprocessed roberta_pred  \\\n",
       "22121       1        NaN      NaN                  NaN          NaN   \n",
       "\n",
       "       roberta_proba DATASET  ... bertweet_pred  \\\n",
       "22121            NaN   cards  ...             1   \n",
       "\n",
       "                                    bertweet_proba  gpt-3_curie_pred  \\\n",
       "22121  [0.0014658127911388874, 0.9985342025756836]                 1   \n",
       "\n",
       "      gpt-3_curie_proba  electra_pred  \\\n",
       "22121          0.952846             1   \n",
       "\n",
       "                                   electra_proba  xlnet_pred  \\\n",
       "22121  [0.05471523478627205, 0.9452847242355347]           1   \n",
       "\n",
       "                                       xlnet_proba  electra_acc_pred  \\\n",
       "22121  [0.0009379877592436969, 0.9990620017051697]                 1   \n",
       "\n",
       "                               electra_acc_proba  \n",
       "22121  [0.07348055392503738, 0.9265194535255432]  \n",
       "\n",
       "[1 rows x 30 columns]"
      ]
     },
     "execution_count": 3,
     "metadata": {},
     "output_type": "execute_result"
    }
   ],
   "source": [
    "data = pd.read_csv(PATH + \"cards_waterloo.csv\", low_memory=False)\n",
    "data = data[data.DATASET.isin([\"cards\", \"waterloo\"])]\n",
    "data.sample()"
   ]
  },
  {
   "cell_type": "code",
   "execution_count": 4,
   "metadata": {
    "ExecuteTime": {
     "end_time": "2023-05-18T01:22:08.551714Z",
     "start_time": "2023-05-18T01:22:08.545238Z"
    }
   },
   "outputs": [
    {
     "data": {
      "text/plain": [
       "waterloo    43943\n",
       "cards       28945\n",
       "Name: DATASET, dtype: int64"
      ]
     },
     "execution_count": 4,
     "metadata": {},
     "output_type": "execute_result"
    }
   ],
   "source": [
    "data.DATASET.value_counts()"
   ]
  },
  {
   "cell_type": "code",
   "execution_count": 5,
   "metadata": {
    "ExecuteTime": {
     "end_time": "2023-05-18T01:22:11.223931Z",
     "start_time": "2023-05-18T01:22:08.553000Z"
    }
   },
   "outputs": [],
   "source": [
    "def format_scores(x):\n",
    "    return np.array(eval(re.sub(\" +\", \" ,\", x.replace(\"\\n\", \"\"))))\n",
    "\n",
    "data[\"cards_proba\"] = data[\"cards_proba\"].apply(format_scores)\n",
    "data[\"waterloo_proba\"] = data[\"waterloo_proba\"].apply(format_scores)\n",
    "data[\"waterloo-cards_proba\"] = data[\"waterloo-cards_proba\"].apply(format_scores)"
   ]
  },
  {
   "cell_type": "code",
   "execution_count": 6,
   "metadata": {
    "ExecuteTime": {
     "end_time": "2023-05-18T01:22:11.278689Z",
     "start_time": "2023-05-18T01:22:11.225162Z"
    }
   },
   "outputs": [],
   "source": [
    "test = data[data.PARTITION==\"TEST\"]"
   ]
  },
  {
   "cell_type": "markdown",
   "metadata": {},
   "source": [
    "## TEST METRICS\n",
    "### General Metrics"
   ]
  },
  {
   "cell_type": "code",
   "execution_count": 7,
   "metadata": {
    "ExecuteTime": {
     "end_time": "2023-05-18T01:22:11.481317Z",
     "start_time": "2023-05-18T01:22:11.280281Z"
    }
   },
   "outputs": [
    {
     "data": {
      "text/markdown": [
       "**CARDS**"
      ],
      "text/plain": [
       "<IPython.core.display.Markdown object>"
      ]
     },
     "metadata": {},
     "output_type": "display_data"
    },
    {
     "name": "stdout",
     "output_type": "stream",
     "text": [
      "Accuracy: 0.9017673653925196\n",
      "AUC: 0.9201573525696802\n",
      "                    precision    recall  f1-score   support\n",
      "\n",
      "Not Misinformation       0.93      0.95      0.94      5750\n",
      "    Misinformation       0.79      0.73      0.76      1549\n",
      "\n",
      "          accuracy                           0.90      7299\n",
      "         macro avg       0.86      0.84      0.85      7299\n",
      "      weighted avg       0.90      0.90      0.90      7299\n",
      "\n"
     ]
    },
    {
     "data": {
      "image/png": "[encoded data removed]",
      "text/plain": [
       "<Figure size 288x288 with 2 Axes>"
      ]
     },
     "metadata": {
      "needs_background": "light"
     },
     "output_type": "display_data"
    }
   ],
   "source": [
    "def report(y_true, y_pred, scores,  classes):\n",
    "    \n",
    "    acc = accuracy_score(y_true, y_pred)\n",
    "    roc_auc = roc_auc_score(y_true, scores, multi_class=\"ovr\", average=\"macro\")\n",
    "\n",
    "    print(f\"Accuracy: {acc}\")\n",
    "    print(f\"AUC: {roc_auc}\")\n",
    "    print(classification_report(y_true, y_pred, target_names=classes))\n",
    "    c_m = confusion_matrix(y_true, y_pred)\n",
    "    cmp = ConfusionMatrixDisplay(\n",
    "        c_m, display_labels=classes)\n",
    "    fig, ax = plt.subplots(figsize=(4,4))\n",
    "    cmp.plot(ax=ax)  \n",
    "    \n",
    "target_names = [\"Not Misinformation\", \"Misinformation\"]\n",
    "display(Markdown(\"**CARDS**\"))\n",
    "scores = test['cards_proba'].apply(lambda x: sum(x[1:]))\n",
    "report(test.labels, test['cards_pred'], scores, target_names)"
   ]
  },
  {
   "cell_type": "code",
   "execution_count": 8,
   "metadata": {
    "ExecuteTime": {
     "end_time": "2023-05-18T01:22:11.610416Z",
     "start_time": "2023-05-18T01:22:11.483045Z"
    }
   },
   "outputs": [
    {
     "data": {
      "text/markdown": [
       "**WATERLOO**"
      ],
      "text/plain": [
       "<IPython.core.display.Markdown object>"
      ]
     },
     "metadata": {},
     "output_type": "display_data"
    },
    {
     "name": "stdout",
     "output_type": "stream",
     "text": [
      "Accuracy: 0.8490204137553089\n",
      "AUC: 0.8806229545008001\n",
      "                    precision    recall  f1-score   support\n",
      "\n",
      "Not Misinformation       0.86      0.96      0.91      5750\n",
      "    Misinformation       0.75      0.44      0.55      1549\n",
      "\n",
      "          accuracy                           0.85      7299\n",
      "         macro avg       0.81      0.70      0.73      7299\n",
      "      weighted avg       0.84      0.85      0.83      7299\n",
      "\n"
     ]
    },
    {
     "data": {
      "image/png": "[encoded data removed]",
      "text/plain": [
       "<Figure size 288x288 with 2 Axes>"
      ]
     },
     "metadata": {
      "needs_background": "light"
     },
     "output_type": "display_data"
    }
   ],
   "source": [
    "display(Markdown(\"**WATERLOO**\"))\n",
    "scores = test['waterloo_proba'].apply(lambda x: sum(x[1:]))\n",
    "report(test.labels, test['waterloo_pred'], scores, target_names)"
   ]
  },
  {
   "cell_type": "code",
   "execution_count": 9,
   "metadata": {
    "ExecuteTime": {
     "end_time": "2023-05-18T01:22:11.740274Z",
     "start_time": "2023-05-18T01:22:11.612337Z"
    }
   },
   "outputs": [
    {
     "data": {
      "text/markdown": [
       "**WATERLOO-CARDS**"
      ],
      "text/plain": [
       "<IPython.core.display.Markdown object>"
      ]
     },
     "metadata": {},
     "output_type": "display_data"
    },
    {
     "name": "stdout",
     "output_type": "stream",
     "text": [
      "Accuracy: 0.9341005617207837\n",
      "AUC: 0.9715538215398434\n",
      "                    precision    recall  f1-score   support\n",
      "\n",
      "Not Misinformation       0.95      0.97      0.96      5750\n",
      "    Misinformation       0.88      0.80      0.84      1549\n",
      "\n",
      "          accuracy                           0.93      7299\n",
      "         macro avg       0.91      0.88      0.90      7299\n",
      "      weighted avg       0.93      0.93      0.93      7299\n",
      "\n"
     ]
    },
    {
     "data": {
      "image/png": "[encoded data removed]",
      "text/plain": [
       "<Figure size 288x288 with 2 Axes>"
      ]
     },
     "metadata": {
      "needs_background": "light"
     },
     "output_type": "display_data"
    }
   ],
   "source": [
    "display(Markdown(\"**WATERLOO-CARDS**\"))\n",
    "scores = test['waterloo-cards_proba'].apply(lambda x: sum(x[1:]))\n",
    "report(test[\"labels\"], test['waterloo-cards_pred'], scores, target_names)"
   ]
  },
  {
   "cell_type": "markdown",
   "metadata": {},
   "source": [
    "### Over Waterloo Segment"
   ]
  },
  {
   "cell_type": "code",
   "execution_count": 10,
   "metadata": {
    "ExecuteTime": {
     "end_time": "2023-05-18T01:22:11.757781Z",
     "start_time": "2023-05-18T01:22:11.744733Z"
    }
   },
   "outputs": [],
   "source": [
    "test_waterloo = data[(data.PARTITION==\"TEST\") & (data.DATASET==\"waterloo\")]"
   ]
  },
  {
   "cell_type": "code",
   "execution_count": 11,
   "metadata": {
    "ExecuteTime": {
     "end_time": "2023-05-18T01:22:11.892780Z",
     "start_time": "2023-05-18T01:22:11.759271Z"
    }
   },
   "outputs": [
    {
     "data": {
      "text/markdown": [
       "**CARDS waterloo segment**"
      ],
      "text/plain": [
       "<IPython.core.display.Markdown object>"
      ]
     },
     "metadata": {},
     "output_type": "display_data"
    },
    {
     "name": "stdout",
     "output_type": "stream",
     "text": [
      "Accuracy: 0.8996587030716724\n",
      "AUC: 0.79030847890497\n",
      "                    precision    recall  f1-score   support\n",
      "\n",
      "Not Misinformation       0.94      0.95      0.95      3996\n",
      "    Misinformation       0.44      0.40      0.42       399\n",
      "\n",
      "          accuracy                           0.90      4395\n",
      "         macro avg       0.69      0.67      0.68      4395\n",
      "      weighted avg       0.90      0.90      0.90      4395\n",
      "\n"
     ]
    },
    {
     "data": {
      "image/png": "[encoded data removed]",
      "text/plain": [
       "<Figure size 288x288 with 2 Axes>"
      ]
     },
     "metadata": {
      "needs_background": "light"
     },
     "output_type": "display_data"
    }
   ],
   "source": [
    "display(Markdown(\"**CARDS waterloo segment**\"))\n",
    "scores = test_waterloo['cards_proba'].apply(lambda x: sum(x[1:]))\n",
    "report(test_waterloo.labels, test_waterloo['cards_pred'], scores, target_names)"
   ]
  },
  {
   "cell_type": "code",
   "execution_count": 12,
   "metadata": {
    "ExecuteTime": {
     "end_time": "2023-05-18T01:22:12.016785Z",
     "start_time": "2023-05-18T01:22:11.894473Z"
    }
   },
   "outputs": [
    {
     "data": {
      "text/markdown": [
       "**WATERLOO waterloo segment**"
      ],
      "text/plain": [
       "<IPython.core.display.Markdown object>"
      ]
     },
     "metadata": {},
     "output_type": "display_data"
    },
    {
     "name": "stdout",
     "output_type": "stream",
     "text": [
      "Accuracy: 0.9610921501706484\n",
      "AUC: 0.9751991966904247\n",
      "                    precision    recall  f1-score   support\n",
      "\n",
      "Not Misinformation       0.98      0.98      0.98      3996\n",
      "    Misinformation       0.79      0.77      0.78       399\n",
      "\n",
      "          accuracy                           0.96      4395\n",
      "         macro avg       0.89      0.88      0.88      4395\n",
      "      weighted avg       0.96      0.96      0.96      4395\n",
      "\n"
     ]
    },
    {
     "data": {
      "image/png": "[encoded data removed]",
      "text/plain": [
       "<Figure size 288x288 with 2 Axes>"
      ]
     },
     "metadata": {
      "needs_background": "light"
     },
     "output_type": "display_data"
    }
   ],
   "source": [
    "display(Markdown(\"**WATERLOO waterloo segment**\"))\n",
    "scores = test_waterloo['waterloo_proba'].apply(lambda x: sum(x[1:]))\n",
    "report(test_waterloo.labels, test_waterloo['waterloo_pred'], scores, target_names)"
   ]
  },
  {
   "cell_type": "code",
   "execution_count": 13,
   "metadata": {
    "ExecuteTime": {
     "end_time": "2023-05-18T01:22:12.139544Z",
     "start_time": "2023-05-18T01:22:12.018574Z"
    }
   },
   "outputs": [
    {
     "data": {
      "text/markdown": [
       "**WATERLOO-CARDS in waterloo segment**"
      ],
      "text/plain": [
       "<IPython.core.display.Markdown object>"
      ]
     },
     "metadata": {},
     "output_type": "display_data"
    },
    {
     "name": "stdout",
     "output_type": "stream",
     "text": [
      "Accuracy: 0.9581342434584755\n",
      "AUC: 0.9695234081198993\n",
      "                    precision    recall  f1-score   support\n",
      "\n",
      "Not Misinformation       0.98      0.98      0.98      3996\n",
      "    Misinformation       0.77      0.76      0.77       399\n",
      "\n",
      "          accuracy                           0.96      4395\n",
      "         macro avg       0.87      0.87      0.87      4395\n",
      "      weighted avg       0.96      0.96      0.96      4395\n",
      "\n"
     ]
    },
    {
     "data": {
      "image/png": "[encoded data removed]",
      "text/plain": [
       "<Figure size 288x288 with 2 Axes>"
      ]
     },
     "metadata": {
      "needs_background": "light"
     },
     "output_type": "display_data"
    }
   ],
   "source": [
    "display(Markdown(\"**WATERLOO-CARDS in waterloo segment**\"))\n",
    "scores = test_waterloo['waterloo-cards_proba'].apply(lambda x: sum(x[1:]))\n",
    "report(test_waterloo[\"labels\"], test_waterloo['waterloo-cards_pred'], scores, target_names)"
   ]
  },
  {
   "cell_type": "markdown",
   "metadata": {},
   "source": [
    "### Over CARDS segment"
   ]
  },
  {
   "cell_type": "code",
   "execution_count": 14,
   "metadata": {
    "ExecuteTime": {
     "end_time": "2023-05-18T01:22:12.153522Z",
     "start_time": "2023-05-18T01:22:12.141123Z"
    }
   },
   "outputs": [],
   "source": [
    "test_cards = data[(data.PARTITION==\"TEST\") & (data.DATASET==\"cards\")]"
   ]
  },
  {
   "cell_type": "code",
   "execution_count": 15,
   "metadata": {
    "ExecuteTime": {
     "end_time": "2023-05-18T01:22:12.281923Z",
     "start_time": "2023-05-18T01:22:12.155053Z"
    }
   },
   "outputs": [
    {
     "data": {
      "text/markdown": [
       "**CARDS in cards segment**"
      ],
      "text/plain": [
       "<IPython.core.display.Markdown object>"
      ]
     },
     "metadata": {},
     "output_type": "display_data"
    },
    {
     "name": "stdout",
     "output_type": "stream",
     "text": [
      "Accuracy: 0.9049586776859504\n",
      "AUC: 0.9634829706013585\n",
      "                    precision    recall  f1-score   support\n",
      "\n",
      "Not Misinformation       0.90      0.95      0.92      1754\n",
      "    Misinformation       0.91      0.84      0.87      1150\n",
      "\n",
      "          accuracy                           0.90      2904\n",
      "         macro avg       0.91      0.89      0.90      2904\n",
      "      weighted avg       0.91      0.90      0.90      2904\n",
      "\n"
     ]
    },
    {
     "data": {
      "image/png": "[encoded data removed]",
      "text/plain": [
       "<Figure size 288x288 with 2 Axes>"
      ]
     },
     "metadata": {
      "needs_background": "light"
     },
     "output_type": "display_data"
    }
   ],
   "source": [
    "display(Markdown(\"**CARDS in cards segment**\"))\n",
    "scores = test_cards['cards_proba'].apply(lambda x: sum(x[1:]))\n",
    "report(test_cards.labels, test_cards['cards_pred'], scores, target_names)"
   ]
  },
  {
   "cell_type": "code",
   "execution_count": 16,
   "metadata": {
    "ExecuteTime": {
     "end_time": "2023-05-18T01:22:12.410403Z",
     "start_time": "2023-05-18T01:22:12.283771Z"
    }
   },
   "outputs": [
    {
     "data": {
      "text/markdown": [
       "**WATERLOO waterloo segment**"
      ],
      "text/plain": [
       "<IPython.core.display.Markdown object>"
      ]
     },
     "metadata": {},
     "output_type": "display_data"
    },
    {
     "name": "stdout",
     "output_type": "stream",
     "text": [
      "Accuracy: 0.6794077134986226\n",
      "AUC: 0.7067894502007833\n",
      "                    precision    recall  f1-score   support\n",
      "\n",
      "Not Misinformation       0.67      0.92      0.78      1754\n",
      "    Misinformation       0.71      0.32      0.44      1150\n",
      "\n",
      "          accuracy                           0.68      2904\n",
      "         macro avg       0.69      0.62      0.61      2904\n",
      "      weighted avg       0.69      0.68      0.64      2904\n",
      "\n"
     ]
    },
    {
     "data": {
      "image/png": "[encoded data removed]",
      "text/plain": [
       "<Figure size 288x288 with 2 Axes>"
      ]
     },
     "metadata": {
      "needs_background": "light"
     },
     "output_type": "display_data"
    }
   ],
   "source": [
    "display(Markdown(\"**WATERLOO waterloo segment**\"))\n",
    "scores = test_cards['waterloo_proba'].apply(lambda x: sum(x[1:]))\n",
    "report(test_cards.labels, test_cards['waterloo_pred'], scores, target_names)"
   ]
  },
  {
   "cell_type": "code",
   "execution_count": 17,
   "metadata": {
    "ExecuteTime": {
     "end_time": "2023-05-18T01:22:12.532328Z",
     "start_time": "2023-05-18T01:22:12.412457Z"
    }
   },
   "outputs": [
    {
     "data": {
      "text/markdown": [
       "**WATERLOO-CARDS in cards segment**"
      ],
      "text/plain": [
       "<IPython.core.display.Markdown object>"
      ]
     },
     "metadata": {},
     "output_type": "display_data"
    },
    {
     "name": "stdout",
     "output_type": "stream",
     "text": [
      "Accuracy: 0.8977272727272727\n",
      "AUC: 0.961584700808091\n",
      "                    precision    recall  f1-score   support\n",
      "\n",
      "Not Misinformation       0.88      0.96      0.92      1754\n",
      "    Misinformation       0.92      0.81      0.86      1150\n",
      "\n",
      "          accuracy                           0.90      2904\n",
      "         macro avg       0.90      0.88      0.89      2904\n",
      "      weighted avg       0.90      0.90      0.90      2904\n",
      "\n"
     ]
    },
    {
     "data": {
      "image/png": "[encoded data removed]",
      "text/plain": [
       "<Figure size 288x288 with 2 Axes>"
      ]
     },
     "metadata": {
      "needs_background": "light"
     },
     "output_type": "display_data"
    }
   ],
   "source": [
    "display(Markdown(\"**WATERLOO-CARDS in cards segment**\"))\n",
    "scores = test_cards['waterloo-cards_proba'].apply(lambda x: sum(x[1:]))\n",
    "report(test_cards[\"labels\"], test_cards['waterloo-cards_pred'], scores, target_names)"
   ]
  },
  {
   "cell_type": "markdown",
   "metadata": {},
   "source": [
    "## Sample Labeled"
   ]
  },
  {
   "cell_type": "code",
   "execution_count": 18,
   "metadata": {
    "ExecuteTime": {
     "end_time": "2023-05-18T01:22:12.564316Z",
     "start_time": "2023-05-18T01:22:12.533847Z"
    }
   },
   "outputs": [
    {
     "data": {
      "text/html": [
       "<div>\n",
       "<style scoped>\n",
       "    .dataframe tbody tr th:only-of-type {\n",
       "        vertical-align: middle;\n",
       "    }\n",
       "\n",
       "    .dataframe tbody tr th {\n",
       "        vertical-align: top;\n",
       "    }\n",
       "\n",
       "    .dataframe thead th {\n",
       "        text-align: right;\n",
       "    }\n",
       "</style>\n",
       "<table border=\"1\" class=\"dataframe\">\n",
       "  <thead>\n",
       "    <tr style=\"text-align: right;\">\n",
       "      <th></th>\n",
       "      <th>id</th>\n",
       "      <th>username</th>\n",
       "      <th>fulltext</th>\n",
       "      <th>label</th>\n",
       "      <th>140_char_text</th>\n",
       "      <th>hashtags</th>\n",
       "      <th>url</th>\n",
       "      <th>domain</th>\n",
       "      <th>retweet_count</th>\n",
       "      <th>favorite_count</th>\n",
       "      <th>...</th>\n",
       "      <th>month</th>\n",
       "      <th>day</th>\n",
       "      <th>hour</th>\n",
       "      <th>minute</th>\n",
       "      <th>cards_pred</th>\n",
       "      <th>cards_pred_score</th>\n",
       "      <th>waterloo_cards_pred</th>\n",
       "      <th>waterloo_cards_score</th>\n",
       "      <th>date</th>\n",
       "      <th>cards_sum_pred</th>\n",
       "    </tr>\n",
       "  </thead>\n",
       "  <tbody>\n",
       "    <tr>\n",
       "      <th>737</th>\n",
       "      <td>1594049962727407618</td>\n",
       "      <td>Henry_Keating87</td>\n",
       "      <td>@Leviathan_100 @tg6gkhmpt9 @fraseringram11 @Sa...</td>\n",
       "      <td>0_0</td>\n",
       "      <td>@Leviathan_100 @tg6gkhmpt9 @fraseringram11 @Sa...</td>\n",
       "      <td>[]</td>\n",
       "      <td>NaN</td>\n",
       "      <td>NaN</td>\n",
       "      <td>0.0</td>\n",
       "      <td>0.0</td>\n",
       "      <td>...</td>\n",
       "      <td>11.0</td>\n",
       "      <td>19.0</td>\n",
       "      <td>19.0</td>\n",
       "      <td>28.0</td>\n",
       "      <td>0_0</td>\n",
       "      <td>0.999748</td>\n",
       "      <td>0</td>\n",
       "      <td>0.999959</td>\n",
       "      <td>2022-11-19</td>\n",
       "      <td>0</td>\n",
       "    </tr>\n",
       "  </tbody>\n",
       "</table>\n",
       "<p>1 rows × 32 columns</p>\n",
       "</div>"
      ],
      "text/plain": [
       "                      id         username  \\\n",
       "737  1594049962727407618  Henry_Keating87   \n",
       "\n",
       "                                              fulltext label  \\\n",
       "737  @Leviathan_100 @tg6gkhmpt9 @fraseringram11 @Sa...   0_0   \n",
       "\n",
       "                                         140_char_text hashtags  url domain  \\\n",
       "737  @Leviathan_100 @tg6gkhmpt9 @fraseringram11 @Sa...       []  NaN    NaN   \n",
       "\n",
       "     retweet_count  favorite_count  ... month   day  hour  minute cards_pred  \\\n",
       "737            0.0             0.0  ...  11.0  19.0  19.0    28.0        0_0   \n",
       "\n",
       "    cards_pred_score  waterloo_cards_pred  waterloo_cards_score        date  \\\n",
       "737         0.999748                    0              0.999959  2022-11-19   \n",
       "\n",
       "    cards_sum_pred  \n",
       "737              0  \n",
       "\n",
       "[1 rows x 32 columns]"
      ]
     },
     "execution_count": 18,
     "metadata": {},
     "output_type": "execute_result"
    }
   ],
   "source": [
    "sample_labeled = pd.read_csv(PATH + \"hamburg/hamburg_1000_sample.csv\")\n",
    "sample_labeled = sample_labeled[~sample_labeled.label.isna()]\n",
    "# sample_labeled[\"cards_pred_score\"] = sample_labeled[\"cards_pred_score\"].apply(format_scores)\n",
    "# sample_labeled[\"waterloo_proba\"] = sample_labeled[\"waterloo_proba\"].apply(format_scores)\n",
    "# sample_labeled[\"waterloo-cards_proba\"] = sample_labeled[\"waterloo-cards_proba\"].apply(format_scores)\n",
    "sample_labeled.sample()"
   ]
  },
  {
   "cell_type": "code",
   "execution_count": 19,
   "metadata": {
    "ExecuteTime": {
     "end_time": "2023-05-18T01:22:12.572144Z",
     "start_time": "2023-05-18T01:22:12.565953Z"
    }
   },
   "outputs": [],
   "source": [
    "def remove_third_level(label):\n",
    "    if label and isinstance(label, str):\n",
    "        return re.match(\"\\d_\\d\", label)[0]\n",
    "    return \n",
    "\n",
    "sample_labeled[\"label_edit\"] = sample_labeled[\"label\"].apply(remove_third_level)\n",
    "\n",
    "sample_labeled.loc[sample_labeled[\"label\"] == \"0_0\", \"binary_label\"] = 0\n",
    "sample_labeled.loc[sample_labeled[\"label\"] != \"0_0\", \"binary_label\"] = 1"
   ]
  },
  {
   "cell_type": "code",
   "execution_count": 20,
   "metadata": {
    "ExecuteTime": {
     "end_time": "2023-05-18T01:22:12.777324Z",
     "start_time": "2023-05-18T01:22:12.573529Z"
    }
   },
   "outputs": [
    {
     "data": {
      "text/markdown": [
       "**CARDS**"
      ],
      "text/plain": [
       "<IPython.core.display.Markdown object>"
      ]
     },
     "metadata": {},
     "output_type": "display_data"
    },
    {
     "name": "stdout",
     "output_type": "stream",
     "text": [
      "Accuracy: 0.8170865279299014\n",
      "AUC: 0.23673372620741043\n",
      "                    precision    recall  f1-score   support\n",
      "\n",
      "Not Misinformation       0.83      0.95      0.89       703\n",
      "    Misinformation       0.69      0.37      0.48       210\n",
      "\n",
      "          accuracy                           0.82       913\n",
      "         macro avg       0.76      0.66      0.69       913\n",
      "      weighted avg       0.80      0.82      0.80       913\n",
      "\n"
     ]
    },
    {
     "data": {
      "image/png": "[encoded data removed]",
      "text/plain": [
       "<Figure size 288x288 with 2 Axes>"
      ]
     },
     "metadata": {
      "needs_background": "light"
     },
     "output_type": "display_data"
    }
   ],
   "source": [
    "target_names = [\"Not Misinformation\", \"Misinformation\"]\n",
    "# scores = sample_labeled.apply(\n",
    "#     lambda x: x['cards_proba'][0] if x['cards_pred'] == \"0_0\" else sum(x['cards_proba'][1:]), axis=1)\n",
    "display(Markdown(\"**CARDS**\"))\n",
    "report(sample_labeled[\"binary_label\"], sample_labeled['cards_sum_pred'], \n",
    "       sample_labeled[\"cards_pred_score\"], target_names)"
   ]
  },
  {
   "cell_type": "code",
   "execution_count": 21,
   "metadata": {
    "ExecuteTime": {
     "end_time": "2023-05-18T01:22:12.891695Z",
     "start_time": "2023-05-18T01:22:12.779067Z"
    }
   },
   "outputs": [
    {
     "data": {
      "text/markdown": [
       "**WATERLOO**"
      ],
      "text/plain": [
       "<IPython.core.display.Markdown object>"
      ]
     },
     "metadata": {},
     "output_type": "display_data"
    },
    {
     "name": "stdout",
     "output_type": "stream",
     "text": [
      "Accuracy: 0.8619934282584885\n",
      "AUC: 0.1486723565670934\n",
      "                    precision    recall  f1-score   support\n",
      "\n",
      "Not Misinformation       0.88      0.94      0.91       703\n",
      "    Misinformation       0.76      0.59      0.66       210\n",
      "\n",
      "          accuracy                           0.86       913\n",
      "         macro avg       0.82      0.77      0.79       913\n",
      "      weighted avg       0.86      0.86      0.86       913\n",
      "\n"
     ]
    },
    {
     "data": {
      "image/png": "[encoded data removed]",
      "text/plain": [
       "<Figure size 288x288 with 2 Axes>"
      ]
     },
     "metadata": {
      "needs_background": "light"
     },
     "output_type": "display_data"
    }
   ],
   "source": [
    "target_names = [\"Not Misinformation\", \"Misinformation\"]\n",
    "# scores = sample_labeled.waterloo_proba.apply(\n",
    "#     lambda x: x[1])\n",
    "display(Markdown(\"**WATERLOO**\"))\n",
    "report(sample_labeled[\"binary_label\"], sample_labeled['waterloo_cards_pred'], \n",
    "       sample_labeled[\"waterloo_cards_score\"], target_names)"
   ]
  },
  {
   "cell_type": "code",
   "execution_count": 22,
   "metadata": {
    "ExecuteTime": {
     "end_time": "2023-05-18T01:22:13.006153Z",
     "start_time": "2023-05-18T01:22:12.893339Z"
    }
   },
   "outputs": [
    {
     "data": {
      "text/markdown": [
       "**WATERLOO-CARDS**"
      ],
      "text/plain": [
       "<IPython.core.display.Markdown object>"
      ]
     },
     "metadata": {},
     "output_type": "display_data"
    },
    {
     "name": "stdout",
     "output_type": "stream",
     "text": [
      "Accuracy: 0.8619934282584885\n",
      "AUC: 0.1486723565670934\n",
      "                    precision    recall  f1-score   support\n",
      "\n",
      "Not Misinformation       0.88      0.94      0.91       703\n",
      "    Misinformation       0.76      0.59      0.66       210\n",
      "\n",
      "          accuracy                           0.86       913\n",
      "         macro avg       0.82      0.77      0.79       913\n",
      "      weighted avg       0.86      0.86      0.86       913\n",
      "\n"
     ]
    },
    {
     "data": {
      "image/png": "[encoded data removed]",
      "text/plain": [
       "<Figure size 288x288 with 2 Axes>"
      ]
     },
     "metadata": {
      "needs_background": "light"
     },
     "output_type": "display_data"
    }
   ],
   "source": [
    "target_names = [\"Not Misinformation\", \"Misinformation\"]\n",
    "# scores = sample_labeled[\"waterloo-cards_proba\"].apply(\n",
    "#     lambda x: x[1])\n",
    "display(Markdown(\"**WATERLOO-CARDS**\"))\n",
    "report(sample_labeled[\"binary_label\"], sample_labeled['waterloo_cards_pred'], \n",
    "       sample_labeled[\"waterloo_cards_score\"], target_names)"
   ]
  },
  {
   "cell_type": "code",
   "execution_count": 23,
   "metadata": {
    "ExecuteTime": {
     "end_time": "2023-05-18T01:22:13.845431Z",
     "start_time": "2023-05-18T01:22:13.007591Z"
    }
   },
   "outputs": [
    {
     "data": {
      "text/markdown": [
       "**CARDS**"
      ],
      "text/plain": [
       "<IPython.core.display.Markdown object>"
      ]
     },
     "metadata": {},
     "output_type": "display_data"
    },
    {
     "name": "stdout",
     "output_type": "stream",
     "text": [
      "Accuracy: 0.7820372398685652\n",
      "              precision    recall  f1-score   support\n",
      "\n",
      "         0_0       0.83      0.95      0.89       703\n",
      "         1_0       1.00      0.00      0.00         6\n",
      "         1_3       1.00      0.00      0.00         4\n",
      "         1_4       0.50      1.00      0.67         1\n",
      "         1_6       1.00      0.00      0.00         2\n",
      "         1_7       0.50      0.25      0.33         8\n",
      "         1_8       1.00      0.00      0.00         5\n",
      "         2_1       0.88      0.70      0.78        20\n",
      "         2_3       0.33      0.67      0.44         3\n",
      "         3_0       1.00      0.00      0.00        12\n",
      "         3_1       0.00      1.00      0.00         0\n",
      "         3_2       0.25      1.00      0.40         1\n",
      "         3_4       1.00      0.00      0.00         1\n",
      "         3_6       1.00      0.00      0.00         1\n",
      "         4_1       0.46      0.38      0.41        16\n",
      "         4_2       0.00      0.00      0.00         5\n",
      "         4_3       1.00      0.00      0.00         9\n",
      "         4_4       0.00      0.00      0.00         1\n",
      "         4_5       1.00      0.00      0.00         4\n",
      "         5_1       0.00      0.00      0.00        12\n",
      "         5_2       0.33      0.26      0.29        77\n",
      "         5_3       1.00      0.00      0.00        22\n",
      "\n",
      "    accuracy                           0.78       913\n",
      "   macro avg       0.64      0.28      0.19       913\n",
      "weighted avg       0.78      0.78      0.74       913\n",
      "\n"
     ]
    },
    {
     "data": {
      "image/png": "[encoded data removed]",
      "text/plain": [
       "<Figure size 720x720 with 2 Axes>"
      ]
     },
     "metadata": {
      "needs_background": "light"
     },
     "output_type": "display_data"
    }
   ],
   "source": [
    "def report(y_true, y_pred, classes=None, size=(4,4)):\n",
    "    \n",
    "    acc = accuracy_score(y_true, y_pred)    \n",
    "    print(f\"Accuracy: {acc}\")\n",
    "    print(classification_report(y_true, y_pred, target_names=classes, zero_division=True))\n",
    "    c_m = confusion_matrix(y_true, y_pred)\n",
    "    cmp = ConfusionMatrixDisplay(\n",
    "        c_m, display_labels=classes)\n",
    "    fig, ax = plt.subplots(figsize=size)\n",
    "    cmp.plot(ax=ax)\n",
    "    \n",
    "display(Markdown(\"**CARDS**\"))\n",
    "\n",
    "target_names = np.union1d(sample_labeled[\"label_edit\"], sample_labeled[\"cards_pred\"])\n",
    "report(sample_labeled[\"label_edit\"], sample_labeled['cards_pred'], target_names, size=(10, 10))"
   ]
  },
  {
   "cell_type": "markdown",
   "metadata": {},
   "source": [
    "## Overall Comparisons"
   ]
  },
  {
   "cell_type": "code",
   "execution_count": 24,
   "metadata": {
    "ExecuteTime": {
     "end_time": "2023-05-18T01:22:14.111864Z",
     "start_time": "2023-05-18T01:22:13.846644Z"
    }
   },
   "outputs": [],
   "source": [
    "sample_labeled_ruby = pd.read_excel(PATH + \"hamburg/Ruby_1000_tweets.xlsx\")\n",
    "sample_labeled_ruby.loc[sample_labeled_ruby[\"label\"] == '0.0.0 ', \"binary_label\"] = 0\n",
    "sample_labeled_ruby.loc[sample_labeled_ruby[\"label\"] != '0.0.0 ', \"binary_label\"] = 1\n",
    "sample_labeled_ruby.binary_label.value_counts()\n",
    "\n",
    "joinedsample = sample_labeled.join(sample_labeled_ruby[[\"id\", \"binary_label\"]].set_index(\"id\"), \n",
    "                    on=\"id\", how=\"inner\", lsuffix='_john', rsuffix='_ruby')\n",
    "\n",
    "inner_joinedsample = joinedsample[joinedsample.binary_label_john == joinedsample.binary_label_ruby]\n",
    "inner_joinedsample = inner_joinedsample.rename(\n",
    "    columns={\"label\": \"original_label\", \"binary_label_john\":\"labels\", \n",
    "             \"cards_pred\": \"taxonomy_cards_pred\", \"cards_sum_pred\": \"cards_pred\", \n",
    "             \"waterloo_cards_pred\": \"waterloo-cards_pred\"})"
   ]
  },
  {
   "cell_type": "code",
   "execution_count": 25,
   "metadata": {
    "ExecuteTime": {
     "end_time": "2023-05-18T01:22:14.130315Z",
     "start_time": "2023-05-18T01:22:14.113167Z"
    }
   },
   "outputs": [
    {
     "data": {
      "text/html": [
       "<div>\n",
       "<style scoped>\n",
       "    .dataframe tbody tr th:only-of-type {\n",
       "        vertical-align: middle;\n",
       "    }\n",
       "\n",
       "    .dataframe tbody tr th {\n",
       "        vertical-align: top;\n",
       "    }\n",
       "\n",
       "    .dataframe thead th {\n",
       "        text-align: right;\n",
       "    }\n",
       "</style>\n",
       "<table border=\"1\" class=\"dataframe\">\n",
       "  <thead>\n",
       "    <tr style=\"text-align: right;\">\n",
       "      <th></th>\n",
       "      <th>CARDS</th>\n",
       "      <th>CARDS + Waterloo</th>\n",
       "      <th>Support</th>\n",
       "    </tr>\n",
       "  </thead>\n",
       "  <tbody>\n",
       "    <tr>\n",
       "      <th>CARDS</th>\n",
       "      <td>0.899167</td>\n",
       "      <td>0.890481</td>\n",
       "      <td>4395</td>\n",
       "    </tr>\n",
       "    <tr>\n",
       "      <th>Waterloo</th>\n",
       "      <td>0.681269</td>\n",
       "      <td>0.872625</td>\n",
       "      <td>2904</td>\n",
       "    </tr>\n",
       "    <tr>\n",
       "      <th>Hamburg Sample</th>\n",
       "      <td>0.740956</td>\n",
       "      <td>0.837040</td>\n",
       "      <td>770</td>\n",
       "    </tr>\n",
       "  </tbody>\n",
       "</table>\n",
       "</div>"
      ],
      "text/plain": [
       "                   CARDS  CARDS + Waterloo  Support\n",
       "CARDS           0.899167          0.890481     4395\n",
       "Waterloo        0.681269          0.872625     2904\n",
       "Hamburg Sample  0.740956          0.837040      770"
      ]
     },
     "execution_count": 25,
     "metadata": {},
     "output_type": "execute_result"
    }
   ],
   "source": [
    "models = [\"cards\", \"waterloo-cards\"]\n",
    "datasets = [test_cards, test_waterloo, inner_joinedsample]\n",
    "index = [\"CARDS\", \"Waterloo\", \"Hamburg Sample\"]\n",
    "inner_joinedsample[\"labels\"]\n",
    "comparative = pd.DataFrame()\n",
    "\n",
    "for j, d in enumerate(datasets):\n",
    "    scores = []\n",
    "    for i, m in enumerate(models):\n",
    "        score = f1_score(d[\"labels\"], d[f\"{m}_pred\"], average=\"macro\")\n",
    "        scores.append(score)\n",
    "    comparative = pd.concat([comparative, pd.Series(scores)], ignore_index=True, axis=1)\n",
    "        \n",
    "comparative = comparative.T\n",
    "comparative.columns = [\"CARDS\", \"CARDS + Waterloo\"]\n",
    "comparative.index = index\n",
    "comparative[\"Support\"] = test.DATASET.value_counts().tolist() + [inner_joinedsample.shape[0]]\n",
    "comparative"
   ]
  }
 ],
 "metadata": {
  "kernelspec": {
   "display_name": "Python 3 (ipykernel)",
   "language": "python",
   "name": "python3"
  },
  "language_info": {
   "codemirror_mode": {
    "name": "ipython",
    "version": 3
   },
   "file_extension": ".py",
   "mimetype": "text/x-python",
   "name": "python",
   "nbconvert_exporter": "python",
   "pygments_lexer": "ipython3",
   "version": "3.8.13"
  },
  "toc": {
   "base_numbering": 1,
   "nav_menu": {},
   "number_sections": true,
   "sideBar": true,
   "skip_h1_title": false,
   "title_cell": "Table of Contents",
   "title_sidebar": "Contents",
   "toc_cell": false,
   "toc_position": {},
   "toc_section_display": true,
   "toc_window_display": true
  }
 },
 "nbformat": 4,
 "nbformat_minor": 4
}
