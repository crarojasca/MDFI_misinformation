{
 "cells": [
  {
   "cell_type": "code",
   "execution_count": 1,
   "id": "75d04fc7",
   "metadata": {
    "ExecuteTime": {
     "end_time": "2023-03-09T05:26:38.748475Z",
     "start_time": "2023-03-09T05:26:38.428436Z"
    }
   },
   "outputs": [],
   "source": [
    "import os\n",
    "import re\n",
    "import random\n",
    "import openai\n",
    "import demoji\n",
    "import numpy as np\n",
    "import pandas as pd\n",
    "\n",
    "from time import sleep\n",
    "from tqdm.notebook import tqdm\n",
    "from unidecode import unidecode\n",
    "\n",
    "\n",
    "pd.set_option('display.max_rows', 500)\n",
    "pd.set_option('display.max_columns', 500)\n",
    "pd.set_option('display.width', 1000)\n",
    "pd.set_option('display.max_colwidth', 1000)\n",
    "\n",
    "openai.api_key = os.getenv(\"OPENAI_API_KEY\")"
   ]
  },
  {
   "cell_type": "code",
   "execution_count": 2,
   "id": "36174505",
   "metadata": {
    "ExecuteTime": {
     "end_time": "2023-03-09T05:26:38.751790Z",
     "start_time": "2023-03-09T05:26:38.749892Z"
    }
   },
   "outputs": [],
   "source": [
    "DATA = \"CARDS\"\n",
    "MODEL = \"CHATGPT\" ## GPT-3"
   ]
  },
  {
   "cell_type": "code",
   "execution_count": 3,
   "id": "41dc487e",
   "metadata": {
    "ExecuteTime": {
     "end_time": "2023-03-09T05:26:38.759362Z",
     "start_time": "2023-03-09T05:26:38.754817Z"
    }
   },
   "outputs": [],
   "source": [
    "FILE = f\"../datasets/generated_disinformation_taxonomy_{DATA}_{MODEL}.csv\""
   ]
  },
  {
   "cell_type": "code",
   "execution_count": 4,
   "id": "07911b34",
   "metadata": {
    "ExecuteTime": {
     "end_time": "2023-03-09T05:26:39.733327Z",
     "start_time": "2023-03-09T05:26:38.760392Z"
    }
   },
   "outputs": [],
   "source": [
    "if DATA==\"HAMBURG\":\n",
    "    contrarian_data = pd.read_csv(\"../datasets/hamburg_misinformation_sampled.csv\", low_memory=False)\n",
    "    contrarian_data = contrarian_data[contrarian_data[\"cards_pred_score\"] > 0.9].copy(deep=True)\n",
    "elif DATA==\"CARDS\":\n",
    "    contrarian_data = pd.read_csv(\"../datasets/cards_waterloo_augmented.csv\", low_memory=False)\n",
    "    contrarian_data = contrarian_data[\n",
    "        (contrarian_data.DATASET==\"cards\")&(contrarian_data.PARTITION==\"TEST\")].copy(deep=True)"
   ]
  },
  {
   "cell_type": "markdown",
   "id": "3b19076c",
   "metadata": {},
   "source": [
    "<img src=\"../images/image.png\" alt=\"drawing\" width=\"600\"/>"
   ]
  },
  {
   "cell_type": "code",
   "execution_count": 7,
   "id": "d6dc8eea",
   "metadata": {
    "ExecuteTime": {
     "end_time": "2023-03-09T11:19:14.466641Z",
     "start_time": "2023-03-09T05:27:56.762091Z"
    },
    "scrolled": false
   },
   "outputs": [
    {
     "data": {
      "application/vnd.jupyter.widget-view+json": {
       "model_id": "82ab4ad7654446f98c10f196985faceb",
       "version_major": 2,
       "version_minor": 0
      },
      "text/plain": [
       "  0%|          | 0/17 [00:00<?, ?it/s]"
      ]
     },
     "metadata": {},
     "output_type": "display_data"
    },
    {
     "name": "stdout",
     "output_type": "stream",
     "text": [
      "Request timed out: HTTPSConnectionPool(host='api.openai.com', port=443): Read timed out. (read timeout=600)\n",
      "Request timed out: HTTPSConnectionPool(host='api.openai.com', port=443): Read timed out. (read timeout=600)\n",
      "Request timed out: HTTPSConnectionPool(host='api.openai.com', port=443): Read timed out. (read timeout=600)\n",
      "This model's maximum context length is 4096 tokens. However, your messages resulted in 4983 tokens. Please reduce the length of the messages.\n",
      "Request timed out: HTTPSConnectionPool(host='api.openai.com', port=443): Read timed out. (read timeout=600)\n",
      "This model's maximum context length is 4096 tokens. However, your messages resulted in 4898 tokens. Please reduce the length of the messages.\n",
      "This model's maximum context length is 4096 tokens. However, your messages resulted in 4907 tokens. Please reduce the length of the messages.\n",
      "This model's maximum context length is 4096 tokens. However, your messages resulted in 4920 tokens. Please reduce the length of the messages.\n",
      "Error communicating with OpenAI: HTTPSConnectionPool(host='api.openai.com', port=443): Max retries exceeded with url: /v1/chat/completions (Caused by NewConnectionError('<urllib3.connection.HTTPSConnection object at 0x7f31a48a1700>: Failed to establish a new connection: [Errno -3] Temporary failure in name resolution'))\n"
     ]
    }
   ],
   "source": [
    "masks = {\n",
    "    \"ice\": [\"ice\", \"permafrost\", \"snow\"],\n",
    "    \"ice age\" : [\"ice age\", \"global cooling\"],\n",
    "    \"cold\": [\"cold\", \"snowing\"],\n",
    "    \"reason_1_7\": [\"isn't increasing\", \"has happened before\", \"isn't linked to climate change\"],\n",
    "    \"cycle\": [\"cycle\", \"variation\"],\n",
    "    \"greenhouse effect\": [\"greenhouse effect\", \"carbon dioxide\"],\n",
    "    \"climate sensitivity is low\": [\"climate sensitivity is low\", \"climate negative feedbacks reduce warming\"],\n",
    "    \"species\": [\"species\", \"plants\", \"reefs\"],\n",
    "    \"aren't showing climate impacts\": [\"aren't showing climate impacts\", \"are benefiting from climate change\"],\n",
    "    \"beneficial\": [\"beneficial\", \"not a pollutant\"],\n",
    "    \"policies are\": [\"policies are\", \"mitigation is\", \"adaptation is\"],\n",
    "    \"ineffective\": [\"ineffective\", \"flawed\"],\n",
    "    \"technologies\": [\"technologies\", \"biofuels\"],\n",
    "    \"fossil fuels\": [\"fossil fuels\", \"nuclear\"],\n",
    "    \"unreliable\": [\"unreliable\", \"uncertain\", \"unsound\"],\n",
    "    \"science\": [\"data\", \"methods\", \"models\"],\n",
    "    \"alarmists\": [\"unreliable\", \"alarmists\", \"corrupt\"]\n",
    "}\n",
    "\n",
    "queries = {\n",
    "    '1_1': \"From these tweets generate a new one that implies the [ice] is not melting:\\n\\n\",\n",
    "    '1_2': \"From these tweets generate a new tweet contrarian to climate change since we're heading into an [ice age]:\\n\\n\",\n",
    "    '1_3': \"Contrarian tweets to climate change since the weather is [cold]:\\n\\n\",\n",
    "    '1_4': \"Contrarian tweets to climate change since there haven't been changes in the last decades:\\n\\n\",\n",
    "    '1_6': \"Contrarian tweets to climate change since the sea level rise is an exageration:\\n\\n\",\n",
    "    '1_7': \"Contrarian tweets to climate change since extreme weather [reason_1_7]:\\n\\n\",\n",
    "    '2_1': \"Contrarian tweets to climate change since it is a natural [cycle]:\\n\\n\",\n",
    "    '2_3': \"Contrarian tweets to climate change based on no evidence for [greenhouse effect]:\\n\\n\",\n",
    "    '3_1': \"Contrarian tweets to climate change based on [climate sensitivity is low]:\\n\\n\",\n",
    "    '3_2': \"Contrarian tweets to climate change since the [species] [aren't showing climate impacts]:\\n\\n\",\n",
    "    '3_3': \"Contrarian tweets to climate change based on the CO2 is [beneficial]:\\n\\n\",\n",
    "    '4_1': \"Contrarian tweets to climate change based on climate [policies are] harmful:\\n\\n\",\n",
    "    '4_2': \"Contrarian tweets to climate change based on climate policies are [ineffective]:\\n\\n\",\n",
    "    '4_4': \"Contrarian tweets to climate change based on clean energy [technologies] won't work:\\n\\n\",\n",
    "    '4_5': \"Contrarian tweets to climate change based on the need of energy from [fossil fuels]:\\n\\n\",\n",
    "    '5_1': \"Contrarian tweets to climate change based on climate-related [science] is [unreliable]:\\n\\n\",\n",
    "    '5_2': \"Contrarian tweets to climate change based on the fact that of climate change supporters are [alarmists]:\\n\\n\",\n",
    "}\n",
    "\n",
    "def generate_prompt(texts, query, nshots=3):\n",
    "    \"\"\"Generates\"\"\"\n",
    "    # Generating fewshots\n",
    "    samples = texts.sample(nshots).tolist()\n",
    "    samples = [\"{}. {}\".format(\n",
    "        i+1, unidecode(str(sample).replace(\"\\n\", \"\"))) for i, sample in enumerate(samples)]\n",
    "    fewshots = \"\\n\\n\".join(samples) + \"\\n\\n4. \"\n",
    "    \n",
    "    # Generating query\n",
    "    matches = re.findall(r\"\\[.*?\\]\", queries[label])\n",
    "    for m in matches:\n",
    "        choice = random.choice(masks[m[1:-1]])\n",
    "        query = query.replace(m, choice)\n",
    "    \n",
    "    prompt = query + fewshots\n",
    "    \n",
    "    return prompt\n",
    "\n",
    "if os.path.isfile(FILE):\n",
    "    new_data = pd.read_csv(FILE)\n",
    "else:\n",
    "    new_data = pd.DataFrame()\n",
    "\n",
    "n = 120\n",
    "texts = contrarian_data[\"text\"]\n",
    "labels = list(queries.keys())\n",
    "\n",
    "for label in tqdm(labels):\n",
    "    for i in range(n):       \n",
    "        \n",
    "        prompt = generate_prompt(texts, queries[label])\n",
    "        try:\n",
    "            if MODEL==\"GPT-3\":\n",
    "                prompts = [prompt]\n",
    "                response = openai.Completion.create(\n",
    "                  model=\"text-davinci-003\",\n",
    "                  prompt=prompts,\n",
    "                  temperature=0,\n",
    "                  max_tokens=60,\n",
    "                )\n",
    "                completions = [r[\"text\"] for r in response[\"choices\"]]\n",
    "            elif MODEL==\"CHATGPT\":\n",
    "                response = openai.ChatCompletion.create(\n",
    "                    model=\"gpt-3.5-turbo\",\n",
    "                    messages=[\n",
    "                        {\"role\": \"user\", \"content\": prompt}\n",
    "                    ],\n",
    "                    temperature=0,\n",
    "                    max_tokens=60,\n",
    "                )\n",
    "                completions = [r[\"message\"][\"content\"] for r in response[\"choices\"]]\n",
    "        except Exception as e:\n",
    "            print(e)\n",
    "            sleep(60)\n",
    "        \n",
    "        tmp = {\"text\": completions, \"generated_label\": label}\n",
    "        \n",
    "        tmp = pd.DataFrame(tmp)\n",
    "        new_data = pd.concat([new_data, tmp])\n",
    "        \n",
    "        new_data.to_csv(FILE, index=False)"
   ]
  },
  {
   "cell_type": "code",
   "execution_count": 14,
   "id": "1813e3a9",
   "metadata": {
    "ExecuteTime": {
     "end_time": "2023-03-10T04:01:27.186189Z",
     "start_time": "2023-03-10T04:01:27.172807Z"
    }
   },
   "outputs": [
    {
     "data": {
      "text/plain": [
       "False    1677\n",
       "True      387\n",
       "Name: text, dtype: int64"
      ]
     },
     "execution_count": 14,
     "metadata": {},
     "output_type": "execute_result"
    }
   ],
   "source": [
    "new_data.text.str.contains(\"6.\").value_counts()"
   ]
  },
  {
   "cell_type": "code",
   "execution_count": 11,
   "id": "fc97ca75",
   "metadata": {
    "ExecuteTime": {
     "end_time": "2023-03-10T04:00:42.680764Z",
     "start_time": "2023-03-10T04:00:42.675353Z"
    }
   },
   "outputs": [
    {
     "data": {
      "text/html": [
       "<div>\n",
       "<style scoped>\n",
       "    .dataframe tbody tr th:only-of-type {\n",
       "        vertical-align: middle;\n",
       "    }\n",
       "\n",
       "    .dataframe tbody tr th {\n",
       "        vertical-align: top;\n",
       "    }\n",
       "\n",
       "    .dataframe thead th {\n",
       "        text-align: right;\n",
       "    }\n",
       "</style>\n",
       "<table border=\"1\" class=\"dataframe\">\n",
       "  <thead>\n",
       "    <tr style=\"text-align: right;\">\n",
       "      <th></th>\n",
       "      <th>text</th>\n",
       "      <th>generated_label</th>\n",
       "    </tr>\n",
       "  </thead>\n",
       "  <tbody>\n",
       "    <tr>\n",
       "      <th>0</th>\n",
       "      <td>Climate models have been consistently wrong in their predictions, and therefore cannot be relied upon to make policy decisions. We need to focus on real-world data and evidence, not computer simulations.</td>\n",
       "      <td>5_1</td>\n",
       "    </tr>\n",
       "    <tr>\n",
       "      <th>1</th>\n",
       "      <td>The ice is not melting, as evidenced by the lack of statistically significant \"unprecedented changes\" in the industrial era.</td>\n",
       "      <td>1_1</td>\n",
       "    </tr>\n",
       "    <tr>\n",
       "      <th>2</th>\n",
       "      <td>As we head into a global cooling period, it's time to stop the fear-mongering about climate change. The Earth's climate has always been in flux, and humans have little control over it. Let's focus on adapting to the changing climate instead of trying to stop it. #climate</td>\n",
       "      <td>1_2</td>\n",
       "    </tr>\n",
       "    <tr>\n",
       "      <th>3</th>\n",
       "      <td>The fact that it's cold outside doesn't disprove climate change. It's important to look at long-term trends and data, not just short-term weather patterns.</td>\n",
       "      <td>1_3</td>\n",
       "    </tr>\n",
       "    <tr>\n",
       "      <th>4</th>\n",
       "      <td>Climate change is just a natural cycle of the Earth's climate. The planet has gone through periods of warming and cooling throughout its history, long before humans even existed. It's arrogant to think that we have the power to significantly alter the Earth's climate.</td>\n",
       "      <td>1_4</td>\n",
       "    </tr>\n",
       "    <tr>\n",
       "      <th>...</th>\n",
       "      <td>...</td>\n",
       "      <td>...</td>\n",
       "    </tr>\n",
       "    <tr>\n",
       "      <th>0</th>\n",
       "      <td>The climate change movement is nothing more than a money-making scheme for corrupt politicians and scientists. They use fear tactics to push their agenda and line their pockets with taxpayer dollars. Don't be fooled by their propaganda.</td>\n",
       "      <td>5_2</td>\n",
       "    </tr>\n",
       "    <tr>\n",
       "      <th>0</th>\n",
       "      <td>Climate change alarmists are just fear-mongering. The Earth has gone through natural cycles of warming and cooling for millions of years. We don't need to panic and drastically change our way of life based on unproven theories.\\n\\n5. The media and politicians push the climate change agenda to</td>\n",
       "      <td>5_2</td>\n",
       "    </tr>\n",
       "    <tr>\n",
       "      <th>0</th>\n",
       "      <td>The so-called \"climate change\" movement is just a way for corrupt politicians and scientists to make money and gain power. Don't believe the hype. #fakenews #climatehoax\\n\\n5. The Earth's climate has always been changing, long before humans even existed. It's arrogant</td>\n",
       "      <td>5_2</td>\n",
       "    </tr>\n",
       "    <tr>\n",
       "      <th>0</th>\n",
       "      <td>Climate change supporters are unreliable because they rely on flawed models and cherry-picked data to push their agenda. The science behind climate change is far from settled, and we should not be making drastic policy decisions based on incomplete and unreliable information. #climatechange #unreliable #flawedmodels</td>\n",
       "      <td>5_2</td>\n",
       "    </tr>\n",
       "    <tr>\n",
       "      <th>0</th>\n",
       "      <td>Climate change alarmists often ignore the fact that the Earth's climate has been changing for millions of years, long before humans even existed. It's arrogant to think that we have the power to control something as complex as the Earth's climate.\\n\\n5. The climate has always been changing, and it</td>\n",
       "      <td>5_2</td>\n",
       "    </tr>\n",
       "  </tbody>\n",
       "</table>\n",
       "<p>2064 rows × 2 columns</p>\n",
       "</div>"
      ],
      "text/plain": [
       "                                                                                                                                                                                                                                                                                                                             text generated_label\n",
       "0                                                                                                                     Climate models have been consistently wrong in their predictions, and therefore cannot be relied upon to make policy decisions. We need to focus on real-world data and evidence, not computer simulations.             5_1\n",
       "1                                                                                                                                                                                                    The ice is not melting, as evidenced by the lack of statistically significant \"unprecedented changes\" in the industrial era.             1_1\n",
       "2                                                 As we head into a global cooling period, it's time to stop the fear-mongering about climate change. The Earth's climate has always been in flux, and humans have little control over it. Let's focus on adapting to the changing climate instead of trying to stop it. #climate             1_2\n",
       "3                                                                                                                                                                     The fact that it's cold outside doesn't disprove climate change. It's important to look at long-term trends and data, not just short-term weather patterns.             1_3\n",
       "4                                                    Climate change is just a natural cycle of the Earth's climate. The planet has gone through periods of warming and cooling throughout its history, long before humans even existed. It's arrogant to think that we have the power to significantly alter the Earth's climate.             1_4\n",
       "..                                                                                                                                                                                                                                                                                                                            ...             ...\n",
       "0                                                                                    The climate change movement is nothing more than a money-making scheme for corrupt politicians and scientists. They use fear tactics to push their agenda and line their pockets with taxpayer dollars. Don't be fooled by their propaganda.             5_2\n",
       "0                           Climate change alarmists are just fear-mongering. The Earth has gone through natural cycles of warming and cooling for millions of years. We don't need to panic and drastically change our way of life based on unproven theories.\\n\\n5. The media and politicians push the climate change agenda to             5_2\n",
       "0                                                    The so-called \"climate change\" movement is just a way for corrupt politicians and scientists to make money and gain power. Don't believe the hype. #fakenews #climatehoax\\n\\n5. The Earth's climate has always been changing, long before humans even existed. It's arrogant             5_2\n",
       "0   Climate change supporters are unreliable because they rely on flawed models and cherry-picked data to push their agenda. The science behind climate change is far from settled, and we should not be making drastic policy decisions based on incomplete and unreliable information. #climatechange #unreliable #flawedmodels             5_2\n",
       "0                      Climate change alarmists often ignore the fact that the Earth's climate has been changing for millions of years, long before humans even existed. It's arrogant to think that we have the power to control something as complex as the Earth's climate.\\n\\n5. The climate has always been changing, and it             5_2\n",
       "\n",
       "[2064 rows x 2 columns]"
      ]
     },
     "execution_count": 11,
     "metadata": {},
     "output_type": "execute_result"
    }
   ],
   "source": [
    "new_data"
   ]
  },
  {
   "cell_type": "code",
   "execution_count": null,
   "id": "c2a9052e",
   "metadata": {},
   "outputs": [],
   "source": []
  }
 ],
 "metadata": {
  "kernelspec": {
   "display_name": "Python 3 (ipykernel)",
   "language": "python",
   "name": "python3"
  },
  "language_info": {
   "codemirror_mode": {
    "name": "ipython",
    "version": 3
   },
   "file_extension": ".py",
   "mimetype": "text/x-python",
   "name": "python",
   "nbconvert_exporter": "python",
   "pygments_lexer": "ipython3",
   "version": "3.8.13"
  },
  "toc": {
   "base_numbering": 1,
   "nav_menu": {},
   "number_sections": true,
   "sideBar": true,
   "skip_h1_title": false,
   "title_cell": "Table of Contents",
   "title_sidebar": "Contents",
   "toc_cell": false,
   "toc_position": {},
   "toc_section_display": true,
   "toc_window_display": false
  }
 },
 "nbformat": 4,
 "nbformat_minor": 5
}
