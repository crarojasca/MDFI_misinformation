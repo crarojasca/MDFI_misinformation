{
 "cells": [
  {
   "cell_type": "code",
   "execution_count": 1,
   "id": "8cd79acb",
   "metadata": {
    "ExecuteTime": {
     "end_time": "2023-02-22T08:43:24.925501Z",
     "start_time": "2023-02-22T08:43:24.619841Z"
    }
   },
   "outputs": [],
   "source": [
    "import os\n",
    "import openai\n",
    "import demoji\n",
    "import pandas as pd\n",
    "\n",
    "from time import sleep\n",
    "from tqdm.notebook import tqdm\n",
    "from unidecode import unidecode\n",
    "\n",
    "\n",
    "pd.set_option('display.max_rows', 500)\n",
    "pd.set_option('display.max_columns', 500)\n",
    "pd.set_option('display.width', 1000)\n",
    "pd.set_option('display.max_colwidth', 1000)"
   ]
  },
  {
   "cell_type": "code",
   "execution_count": 2,
   "id": "1c5d590f",
   "metadata": {
    "ExecuteTime": {
     "end_time": "2023-02-22T08:43:25.820488Z",
     "start_time": "2023-02-22T08:43:24.927039Z"
    }
   },
   "outputs": [],
   "source": [
    "path = \"/home/crarojasca/Monash/MDFI_misinformation/Twitter_scrapped/climateScam/\"\n",
    "files = os.listdir(path)\n",
    "contrarian_data = pd.DataFrame()\n",
    "\n",
    "### Climate Scam Scrapped data\n",
    "for file in files:\n",
    "    tmp = pd.read_csv(path + file)\n",
    "    contrarian_data = pd.concat([contrarian_data, tmp])\n",
    "\n",
    "## Filter original tweets\n",
    "contrarian_data = contrarian_data[contrarian_data.referenced_tweets.isna()].copy(deep=True)\n",
    "contrarian_data = contrarian_data[[\"text\", \"id\"]]#.drop(\"Unnamed: 0\", axis=1)\n",
    "contrarian_data[\"dataset\"] = \"climatescam\"\n",
    "\n",
    "## Join CARDS Waterloo Dataset\n",
    "tmp = pd.read_csv(\"datasets/cards_waterloo.csv\", low_memory=False)\n",
    "tmp = tmp[(tmp.labels==1)&(tmp.PARTITION==\"TRAIN\")][[\"prompt\", \"tweetid\", \"DATASET\"]].rename(\n",
    "    columns={\"prompt\":\"text\", \"tweetid\":\"id\", \"DATASET\":\"dataset\"})\n",
    "contrarian_data = pd.concat([contrarian_data, tmp])"
   ]
  },
  {
   "cell_type": "code",
   "execution_count": 3,
   "id": "565946f0",
   "metadata": {
    "ExecuteTime": {
     "end_time": "2023-02-22T08:43:25.830668Z",
     "start_time": "2023-02-22T08:43:25.821688Z"
    }
   },
   "outputs": [
    {
     "data": {
      "text/plain": [
       "cards          7134\n",
       "climatescam    6289\n",
       "waterloo       3192\n",
       "Name: dataset, dtype: int64"
      ]
     },
     "execution_count": 3,
     "metadata": {},
     "output_type": "execute_result"
    }
   ],
   "source": [
    "contrarian_data.dataset.value_counts()"
   ]
  },
  {
   "cell_type": "markdown",
   "id": "0dadc906",
   "metadata": {},
   "source": [
    "From this contrarian climate change claims generate a new one:\n",
    "\n",
    "well done!\n",
    "\n",
    "#firefauci\n",
    "#neverforgetthesepeople\n",
    "#ClimateScam\n",
    "#jimcramer\n",
    "#endthefed\n",
    "#endthemandates\n",
    "#trudeaumustgo https://t.co/0GvDbhzP9u\n",
    "\n",
    "@TechInsider He wrote himself a pardon just like the catholic popes in the 15th century! #ClimateScam\n",
    "\n",
    "Democrats have wasted billions.\n",
    "#Democrats #ClimateScam\n",
    "https://t.co/q0TfcGwSLK\n",
    "\n",
    "Another tweet from a non scientist who claims to know EVERYTHING and expects you to worship at her alter of garbage. #ClimateScam https://t.co/lojpM2tH1C\n",
    "\n",
    "Your AFTERNOON REMINDER that Indiana Jones 5 might have a climate change lecture involved so #BoycottIndianaJones5 #ClimateScam\n",
    "\n",
    "**The green energy industry has been manipulating data to support their agenda. #ClimateScam #GreenEnergyScam**"
   ]
  },
  {
   "cell_type": "code",
   "execution_count": 4,
   "id": "a929b688",
   "metadata": {
    "ExecuteTime": {
     "end_time": "2023-02-22T08:43:25.844620Z",
     "start_time": "2023-02-22T08:43:25.832103Z"
    }
   },
   "outputs": [],
   "source": [
    "FILE = \"datasets/generated_disinformation.csv\""
   ]
  },
  {
   "cell_type": "code",
   "execution_count": 5,
   "id": "5f48d113",
   "metadata": {
    "ExecuteTime": {
     "end_time": "2023-02-22T09:49:13.456398Z",
     "start_time": "2023-02-22T08:43:25.845779Z"
    }
   },
   "outputs": [
    {
     "data": {
      "application/vnd.jupyter.widget-view+json": {
       "model_id": "030de799c2a54b87b58386dbc4695d1c",
       "version_major": 2,
       "version_minor": 0
      },
      "text/plain": [
       "  0%|          | 0/60 [00:00<?, ?it/s]"
      ]
     },
     "metadata": {},
     "output_type": "display_data"
    }
   ],
   "source": [
    "def generate_prompt(texts, nshots=3):\n",
    "    \"\"\"Generates\"\"\"\n",
    "    samples = texts.sample(nshots).tolist()\n",
    "    samples = [\"{}. {}\".format(\n",
    "        i+1, unidecode(sample.replace(\"\\n\", \"\"))) for i, sample in enumerate(samples)]\n",
    "    fewshots = \"\\n\\n\".join(samples) + \"\\n\\n4. \"\n",
    "    query = \"From these contrarian climate change claims generate a new one:\\n\\n\"\n",
    "    prompt = query + fewshots\n",
    "    \n",
    "    return prompt\n",
    "\n",
    "texts = contrarian_data[\"text\"]\n",
    "n = 1200\n",
    "batch = 20\n",
    "\n",
    "if os.path.isfile(FILE):\n",
    "    completions = pd.read_csv(FILE)[\"text\"].tolist()\n",
    "else:\n",
    "    completions = []\n",
    "\n",
    "for i in tqdm(range(n//batch)):\n",
    "    sleep(60)\n",
    "\n",
    "    prompts = [generate_prompt(texts) for i in range(batch)]\n",
    "    response = openai.Completion.create(\n",
    "      model=\"text-davinci-003\",\n",
    "      prompt=prompts,\n",
    "      temperature=0,\n",
    "      max_tokens=60,\n",
    "    )\n",
    "    completions += [r[\"text\"] for r in response[\"choices\"]]\n",
    "\n",
    "    if i%50==0:\n",
    "        data = pd.DataFrame(completions, columns=[\"text\"])\n",
    "        data.to_csv(FILE)"
   ]
  }
 ],
 "metadata": {
  "kernelspec": {
   "display_name": "Python 3 (ipykernel)",
   "language": "python",
   "name": "python3"
  },
  "language_info": {
   "codemirror_mode": {
    "name": "ipython",
    "version": 3
   },
   "file_extension": ".py",
   "mimetype": "text/x-python",
   "name": "python",
   "nbconvert_exporter": "python",
   "pygments_lexer": "ipython3",
   "version": "3.8.13"
  },
  "toc": {
   "base_numbering": 1,
   "nav_menu": {},
   "number_sections": true,
   "sideBar": true,
   "skip_h1_title": false,
   "title_cell": "Table of Contents",
   "title_sidebar": "Contents",
   "toc_cell": false,
   "toc_position": {},
   "toc_section_display": true,
   "toc_window_display": false
  }
 },
 "nbformat": 4,
 "nbformat_minor": 5
}
