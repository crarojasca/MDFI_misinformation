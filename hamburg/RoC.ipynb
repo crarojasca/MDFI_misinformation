{
 "cells": [
  {
   "cell_type": "code",
   "execution_count": 3,
   "id": "7951796f",
   "metadata": {
    "ExecuteTime": {
     "end_time": "2023-06-28T07:48:39.749435Z",
     "start_time": "2023-06-28T07:48:38.533156Z"
    }
   },
   "outputs": [],
   "source": [
    "import numpy as np\n",
    "import pandas as pd\n",
    "import plotly.express as px\n",
    "from datetime import datetime\n",
    "import matplotlib.pyplot as plt\n",
    "\n",
    "from pyspark import SparkConf\n",
    "from pyspark.sql import SparkSession # Spark SQL\n",
    "from pyspark.sql.functions import date_format, to_date\n",
    "from pyspark.sql.types import StructType, StructField, IntegerType, FloatType, StringType, TimestampType\n",
    "\n",
    "import pyspark.sql.functions as F\n",
    "from pyspark.sql.functions import udf\n",
    "\n",
    "master = \"local[10]\"\n",
    "app_name = \"Parallel Join\"\n",
    "spark_conf = SparkConf().setMaster(master).setAppName(app_name)#.set(\"spark.executor.memory\", \"6g\")\n",
    "spark = SparkSession.builder.config(conf=spark_conf).getOrCreate()\n",
    "\n",
    "pd.set_option('display.max_colwidth', None)"
   ]
  },
  {
   "cell_type": "code",
   "execution_count": 6,
   "id": "9720f14e",
   "metadata": {
    "ExecuteTime": {
     "end_time": "2023-06-28T08:27:19.883219Z",
     "start_time": "2023-06-28T08:27:19.093545Z"
    }
   },
   "outputs": [
    {
     "name": "stdout",
     "output_type": "stream",
     "text": [
      "root\n",
      " |-- id: string (nullable = true)\n",
      " |-- username: string (nullable = true)\n",
      " |-- fulltext: string (nullable = true)\n",
      " |-- 140_char_text: string (nullable = true)\n",
      " |-- hashtags: string (nullable = true)\n",
      " |-- url: string (nullable = true)\n",
      " |-- domain: string (nullable = true)\n",
      " |-- retweet_count: string (nullable = true)\n",
      " |-- favorite_count: string (nullable = true)\n",
      " |-- language: string (nullable = true)\n",
      " |-- lat: string (nullable = true)\n",
      " |-- lon: string (nullable = true)\n",
      " |-- user_id: string (nullable = true)\n",
      " |-- user_location: string (nullable = true)\n",
      " |-- user_time_zone: string (nullable = true)\n",
      " |-- user_follower_count: string (nullable = true)\n",
      " |-- user_favorite_count: string (nullable = true)\n",
      " |-- user_tweet_count: string (nullable = true)\n",
      " |-- user_description: string (nullable = true)\n",
      " |-- media: string (nullable = true)\n",
      " |-- year: string (nullable = true)\n",
      " |-- month: string (nullable = true)\n",
      " |-- day: string (nullable = true)\n",
      " |-- hour: string (nullable = true)\n",
      " |-- minute: string (nullable = true)\n",
      " |-- cards_pred: string (nullable = true)\n",
      " |-- cards_pred_score: float (nullable = true)\n",
      " |-- waterloo_cards_pred: string (nullable = true)\n",
      " |-- waterloo_cards_score: float (nullable = true)\n",
      " |-- date: string (nullable = true)\n",
      "\n"
     ]
    }
   ],
   "source": [
    "# Load Hamburg Data\n",
    "file = \"../datasets/hamburg/omm_export_tweets_01-06-2022_v2.csv\"\n",
    "data = spark.read.options(delimiter=\"\\t\").csv(file, header=True)\n",
    "\n",
    "# Load CARDS Predictions\n",
    "schema = StructType([\n",
    "    StructField(\"id_cards\", StringType(), True),\n",
    "    StructField(\"cards_pred\", StringType(), True),\n",
    "    StructField(\"cards_pred_score\", FloatType(), True)])\n",
    "\n",
    "file = \"../datasets/predictions\"\n",
    "predictions = spark.read.options(delimiter=\"|\").csv(file, header=False, schema=schema)\n",
    "\n",
    "# Load Waterloo+CARDS Predictions\n",
    "schema = StructType([\n",
    "    StructField(\"id_waterloo_cards\", StringType(), True),\n",
    "    StructField(\"waterloo_cards_pred\", StringType(), True),\n",
    "    StructField(\"waterloo_cards_score\", FloatType(), True)])\n",
    "\n",
    "file = \"../datasets/predictions_waterloo_cards\"\n",
    "new_predictions = spark.read.options(delimiter=\"|\").csv(file, header=False, schema=schema)\n",
    "\n",
    "data = data.join(\n",
    "    predictions, data.id ==  predictions.id_cards, \"inner\"\n",
    ").join(\n",
    "    new_predictions, data.id ==  new_predictions.id_waterloo_cards, \"inner\"\n",
    ").drop(\n",
    "    \"id_cards\", \"id_waterloo_cards\"\n",
    ")\n",
    "\n",
    "@udf(returnType=TimestampType())\n",
    "def generateDate(year, month, day):\n",
    "    if not year or not month or not day:\n",
    "        return\n",
    "    try:\n",
    "        date = year + \"-\" + month + \"-\" + day\n",
    "        return datetime.strptime(date,\"%Y-%m-%d\") \n",
    "    except:\n",
    "        return\n",
    "\n",
    "data = (\n",
    "    data.withColumn(\"year\", data.year.cast(StringType()))\n",
    "    .withColumn(\"month\", data.month.cast(StringType()))\n",
    "    .withColumn(\"day\", data.day.cast(StringType()))\n",
    ")\n",
    "\n",
    "data = (\n",
    "    data.withColumn(\"date\", generateDate(data.year, data.month, data.day))\n",
    ")\n",
    "\n",
    "data = data.withColumn(\"date\", date_format(\"date\", \"yyyy-MM-dd HH:mm:ss\"))\n",
    "data.printSchema()"
   ]
  },
  {
   "cell_type": "code",
   "execution_count": null,
   "id": "66079947",
   "metadata": {},
   "outputs": [],
   "source": []
  }
 ],
 "metadata": {
  "kernelspec": {
   "display_name": "Python 3 (ipykernel)",
   "language": "python",
   "name": "python3"
  },
  "language_info": {
   "codemirror_mode": {
    "name": "ipython",
    "version": 3
   },
   "file_extension": ".py",
   "mimetype": "text/x-python",
   "name": "python",
   "nbconvert_exporter": "python",
   "pygments_lexer": "ipython3",
   "version": "3.8.13"
  },
  "toc": {
   "base_numbering": 1,
   "nav_menu": {},
   "number_sections": true,
   "sideBar": true,
   "skip_h1_title": false,
   "title_cell": "Table of Contents",
   "title_sidebar": "Contents",
   "toc_cell": false,
   "toc_position": {},
   "toc_section_display": true,
   "toc_window_display": false
  }
 },
 "nbformat": 4,
 "nbformat_minor": 5
}
