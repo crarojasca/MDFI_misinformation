{
 "cells": [
  {
   "cell_type": "code",
   "execution_count": 1,
   "id": "7951796f",
   "metadata": {
    "ExecuteTime": {
     "end_time": "2023-06-29T14:43:54.411340Z",
     "start_time": "2023-06-29T14:43:51.873463Z"
    }
   },
   "outputs": [
    {
     "name": "stdout",
     "output_type": "stream",
     "text": [
      "23/06/30 00:43:53 WARN Utils: Your hostname, crarojasca-Blade-14-RZ09-0370 resolves to a loopback address: 127.0.1.1; using 192.168.1.9 instead (on interface wlp2s0)\n",
      "23/06/30 00:43:53 WARN Utils: Set SPARK_LOCAL_IP if you need to bind to another address\n"
     ]
    },
    {
     "name": "stderr",
     "output_type": "stream",
     "text": [
      "Setting default log level to \"WARN\".\n",
      "To adjust logging level use sc.setLogLevel(newLevel). For SparkR, use setLogLevel(newLevel).\n"
     ]
    },
    {
     "name": "stdout",
     "output_type": "stream",
     "text": [
      "23/06/30 00:43:53 WARN NativeCodeLoader: Unable to load native-hadoop library for your platform... using builtin-java classes where applicable\n",
      "23/06/30 00:43:54 WARN Utils: Service 'SparkUI' could not bind on port 4040. Attempting port 4041.\n"
     ]
    }
   ],
   "source": [
    "import numpy as np\n",
    "import pandas as pd\n",
    "import plotly.express as px\n",
    "from datetime import datetime\n",
    "import matplotlib.pyplot as plt\n",
    "\n",
    "from pyspark import SparkConf\n",
    "from pyspark.sql import SparkSession # Spark SQL\n",
    "from pyspark.sql.functions import date_format, to_date\n",
    "from pyspark.sql.types import StructType, StructField, IntegerType, FloatType, StringType, TimestampType\n",
    "\n",
    "import pyspark.sql.functions as F\n",
    "from pyspark.sql.functions import udf\n",
    "\n",
    "master = \"local[10]\"\n",
    "app_name = \"Parallel Join\"\n",
    "spark_conf = SparkConf().setMaster(master).setAppName(app_name)#.set(\"spark.executor.memory\", \"6g\")\n",
    "spark = SparkSession.builder.config(conf=spark_conf).getOrCreate()\n",
    "\n",
    "pd.set_option('display.max_colwidth', None)"
   ]
  },
  {
   "cell_type": "code",
   "execution_count": 2,
   "id": "9720f14e",
   "metadata": {
    "ExecuteTime": {
     "end_time": "2023-06-29T14:43:58.652003Z",
     "start_time": "2023-06-29T14:43:55.918596Z"
    }
   },
   "outputs": [
    {
     "name": "stdout",
     "output_type": "stream",
     "text": [
      "root\n",
      " |-- id: string (nullable = true)\n",
      " |-- username: string (nullable = true)\n",
      " |-- fulltext: string (nullable = true)\n",
      " |-- 140_char_text: string (nullable = true)\n",
      " |-- hashtags: string (nullable = true)\n",
      " |-- url: string (nullable = true)\n",
      " |-- domain: string (nullable = true)\n",
      " |-- retweet_count: string (nullable = true)\n",
      " |-- favorite_count: string (nullable = true)\n",
      " |-- language: string (nullable = true)\n",
      " |-- lat: string (nullable = true)\n",
      " |-- lon: string (nullable = true)\n",
      " |-- user_id: string (nullable = true)\n",
      " |-- user_location: string (nullable = true)\n",
      " |-- user_time_zone: string (nullable = true)\n",
      " |-- user_follower_count: string (nullable = true)\n",
      " |-- user_favorite_count: string (nullable = true)\n",
      " |-- user_tweet_count: string (nullable = true)\n",
      " |-- user_description: string (nullable = true)\n",
      " |-- media: string (nullable = true)\n",
      " |-- year: string (nullable = true)\n",
      " |-- month: string (nullable = true)\n",
      " |-- day: string (nullable = true)\n",
      " |-- hour: string (nullable = true)\n",
      " |-- minute: string (nullable = true)\n",
      " |-- cards_pred: string (nullable = true)\n",
      " |-- cards_pred_score: float (nullable = true)\n",
      " |-- waterloo_cards_pred: string (nullable = true)\n",
      " |-- waterloo_cards_score: float (nullable = true)\n",
      " |-- date: string (nullable = true)\n",
      "\n"
     ]
    }
   ],
   "source": [
    "# Load Hamburg Data\n",
    "file = \"../datasets/hamburg/omm_export_tweets_01-06-2022_v2.csv\"\n",
    "data = spark.read.options(delimiter=\"\\t\").csv(file, header=True)\n",
    "\n",
    "# Load CARDS Predictions\n",
    "schema = StructType([\n",
    "    StructField(\"id_cards\", StringType(), True),\n",
    "    StructField(\"cards_pred\", StringType(), True),\n",
    "    StructField(\"cards_pred_score\", FloatType(), True)])\n",
    "\n",
    "file = \"../datasets/predictions\"\n",
    "predictions = spark.read.options(delimiter=\"|\").csv(file, header=False, schema=schema)\n",
    "\n",
    "# Load Waterloo+CARDS Predictions\n",
    "schema = StructType([\n",
    "    StructField(\"id_waterloo_cards\", StringType(), True),\n",
    "    StructField(\"waterloo_cards_pred\", StringType(), True),\n",
    "    StructField(\"waterloo_cards_score\", FloatType(), True)])\n",
    "\n",
    "file = \"../datasets/predictions_waterloo_cards\"\n",
    "new_predictions = spark.read.options(delimiter=\"|\").csv(file, header=False, schema=schema)\n",
    "\n",
    "data = data.join(\n",
    "    predictions, data.id ==  predictions.id_cards, \"inner\"\n",
    ").join(\n",
    "    new_predictions, data.id ==  new_predictions.id_waterloo_cards, \"inner\"\n",
    ").drop(\n",
    "    \"id_cards\", \"id_waterloo_cards\"\n",
    ")\n",
    "\n",
    "@udf(returnType=TimestampType())\n",
    "def generateDate(year, month, day):\n",
    "    if not year or not month or not day:\n",
    "        return\n",
    "    try:\n",
    "        date = year + \"-\" + month + \"-\" + day\n",
    "        return datetime.strptime(date,\"%Y-%m-%d\") \n",
    "    except:\n",
    "        return\n",
    "\n",
    "data = (\n",
    "    data.withColumn(\"year\", data.year.cast(StringType()))\n",
    "    .withColumn(\"month\", data.month.cast(StringType()))\n",
    "    .withColumn(\"day\", data.day.cast(StringType()))\n",
    ")\n",
    "\n",
    "data = (\n",
    "    data.withColumn(\"date\", generateDate(data.year, data.month, data.day))\n",
    ")\n",
    "\n",
    "data = data.withColumn(\"date\", date_format(\"date\", \"yyyy-MM-dd HH:mm:ss\"))\n",
    "data.printSchema()"
   ]
  },
  {
   "cell_type": "code",
   "execution_count": 4,
   "id": "b753da96",
   "metadata": {
    "ExecuteTime": {
     "end_time": "2023-06-29T14:45:23.678977Z",
     "start_time": "2023-06-29T14:45:13.716347Z"
    }
   },
   "outputs": [
    {
     "name": "stderr",
     "output_type": "stream",
     "text": [
      "                                                                                \r"
     ]
    }
   ],
   "source": [
    "total_count = data.count()"
   ]
  },
  {
   "cell_type": "code",
   "execution_count": 6,
   "id": "66079947",
   "metadata": {
    "ExecuteTime": {
     "end_time": "2023-06-29T14:45:47.877484Z",
     "start_time": "2023-06-29T14:45:41.495720Z"
    }
   },
   "outputs": [
    {
     "name": "stderr",
     "output_type": "stream",
     "text": [
      "                                                                                \r"
     ]
    },
    {
     "data": {
      "text/plain": [
       "0.7607414056531704"
      ]
     },
     "execution_count": 6,
     "metadata": {},
     "output_type": "execute_result"
    }
   ],
   "source": [
    "data.filter(F.col(\"waterloo_cards_score\")>0.999).count()/total_count"
   ]
  },
  {
   "cell_type": "code",
   "execution_count": 7,
   "id": "2cbe3ffa",
   "metadata": {
    "ExecuteTime": {
     "end_time": "2023-06-29T14:47:53.113620Z",
     "start_time": "2023-06-29T14:47:44.918134Z"
    },
    "scrolled": true
   },
   "outputs": [
    {
     "name": "stderr",
     "output_type": "stream",
     "text": [
      "[Stage 43:>                                                       (0 + 10) / 11]\r"
     ]
    },
    {
     "name": "stdout",
     "output_type": "stream",
     "text": [
      "23/06/30 00:47:51 WARN RowBasedKeyValueBatch: Calling spill() on RowBasedKeyValueBatch. Will not spill but return 0.\n",
      "23/06/30 00:47:51 WARN RowBasedKeyValueBatch: Calling spill() on RowBasedKeyValueBatch. Will not spill but return 0.\n",
      "23/06/30 00:47:51 WARN RowBasedKeyValueBatch: Calling spill() on RowBasedKeyValueBatch. Will not spill but return 0.\n",
      "23/06/30 00:47:51 WARN RowBasedKeyValueBatch: Calling spill() on RowBasedKeyValueBatch. Will not spill but return 0.\n",
      "23/06/30 00:47:51 WARN RowBasedKeyValueBatch: Calling spill() on RowBasedKeyValueBatch. Will not spill but return 0.\n",
      "23/06/30 00:47:51 WARN RowBasedKeyValueBatch: Calling spill() on RowBasedKeyValueBatch. Will not spill but return 0.\n",
      "23/06/30 00:47:51 WARN RowBasedKeyValueBatch: Calling spill() on RowBasedKeyValueBatch. Will not spill but return 0.\n",
      "23/06/30 00:47:51 WARN RowBasedKeyValueBatch: Calling spill() on RowBasedKeyValueBatch. Will not spill but return 0.\n",
      "23/06/30 00:47:51 WARN RowBasedKeyValueBatch: Calling spill() on RowBasedKeyValueBatch. Will not spill but return 0.\n",
      "23/06/30 00:47:51 WARN RowBasedKeyValueBatch: Calling spill() on RowBasedKeyValueBatch. Will not spill but return 0.\n",
      "23/06/30 00:47:51 WARN RowBasedKeyValueBatch: Calling spill() on RowBasedKeyValueBatch. Will not spill but return 0.\n",
      "23/06/30 00:47:51 WARN RowBasedKeyValueBatch: Calling spill() on RowBasedKeyValueBatch. Will not spill but return 0.\n",
      "23/06/30 00:47:51 WARN RowBasedKeyValueBatch: Calling spill() on RowBasedKeyValueBatch. Will not spill but return 0.\n",
      "23/06/30 00:47:51 WARN RowBasedKeyValueBatch: Calling spill() on RowBasedKeyValueBatch. Will not spill but return 0.\n",
      "23/06/30 00:47:51 WARN RowBasedKeyValueBatch: Calling spill() on RowBasedKeyValueBatch. Will not spill but return 0.\n",
      "23/06/30 00:47:51 WARN RowBasedKeyValueBatch: Calling spill() on RowBasedKeyValueBatch. Will not spill but return 0.\n",
      "23/06/30 00:47:51 WARN RowBasedKeyValueBatch: Calling spill() on RowBasedKeyValueBatch. Will not spill but return 0.\n",
      "23/06/30 00:47:51 WARN RowBasedKeyValueBatch: Calling spill() on RowBasedKeyValueBatch. Will not spill but return 0.\n",
      "23/06/30 00:47:51 WARN RowBasedKeyValueBatch: Calling spill() on RowBasedKeyValueBatch. Will not spill but return 0.\n",
      "23/06/30 00:47:51 WARN RowBasedKeyValueBatch: Calling spill() on RowBasedKeyValueBatch. Will not spill but return 0.\n",
      "23/06/30 00:47:51 WARN RowBasedKeyValueBatch: Calling spill() on RowBasedKeyValueBatch. Will not spill but return 0.\n",
      "23/06/30 00:47:51 WARN RowBasedKeyValueBatch: Calling spill() on RowBasedKeyValueBatch. Will not spill but return 0.\n",
      "23/06/30 00:47:51 WARN RowBasedKeyValueBatch: Calling spill() on RowBasedKeyValueBatch. Will not spill but return 0.\n",
      "23/06/30 00:47:51 WARN RowBasedKeyValueBatch: Calling spill() on RowBasedKeyValueBatch. Will not spill but return 0.\n",
      "23/06/30 00:47:51 WARN RowBasedKeyValueBatch: Calling spill() on RowBasedKeyValueBatch. Will not spill but return 0.\n",
      "23/06/30 00:47:51 WARN RowBasedKeyValueBatch: Calling spill() on RowBasedKeyValueBatch. Will not spill but return 0.\n",
      "23/06/30 00:47:51 WARN RowBasedKeyValueBatch: Calling spill() on RowBasedKeyValueBatch. Will not spill but return 0.\n",
      "23/06/30 00:47:51 WARN RowBasedKeyValueBatch: Calling spill() on RowBasedKeyValueBatch. Will not spill but return 0.\n",
      "23/06/30 00:47:51 WARN RowBasedKeyValueBatch: Calling spill() on RowBasedKeyValueBatch. Will not spill but return 0.\n",
      "23/06/30 00:47:51 WARN RowBasedKeyValueBatch: Calling spill() on RowBasedKeyValueBatch. Will not spill but return 0.\n",
      "23/06/30 00:47:51 WARN RowBasedKeyValueBatch: Calling spill() on RowBasedKeyValueBatch. Will not spill but return 0.\n",
      "23/06/30 00:47:51 WARN RowBasedKeyValueBatch: Calling spill() on RowBasedKeyValueBatch. Will not spill but return 0.\n",
      "23/06/30 00:47:51 WARN RowBasedKeyValueBatch: Calling spill() on RowBasedKeyValueBatch. Will not spill but return 0.\n",
      "23/06/30 00:47:51 WARN RowBasedKeyValueBatch: Calling spill() on RowBasedKeyValueBatch. Will not spill but return 0.\n",
      "23/06/30 00:47:51 WARN RowBasedKeyValueBatch: Calling spill() on RowBasedKeyValueBatch. Will not spill but return 0.\n",
      "23/06/30 00:47:51 WARN RowBasedKeyValueBatch: Calling spill() on RowBasedKeyValueBatch. Will not spill but return 0.\n",
      "23/06/30 00:47:52 WARN RowBasedKeyValueBatch: Calling spill() on RowBasedKeyValueBatch. Will not spill but return 0.\n",
      "23/06/30 00:47:52 WARN RowBasedKeyValueBatch: Calling spill() on RowBasedKeyValueBatch. Will not spill but return 0.\n",
      "23/06/30 00:47:52 WARN RowBasedKeyValueBatch: Calling spill() on RowBasedKeyValueBatch. Will not spill but return 0.\n",
      "23/06/30 00:47:52 WARN RowBasedKeyValueBatch: Calling spill() on RowBasedKeyValueBatch. Will not spill but return 0.\n"
     ]
    },
    {
     "name": "stderr",
     "output_type": "stream",
     "text": [
      "\r",
      "[Stage 43:=====>                                                  (1 + 10) / 11]\r",
      "\r",
      "                                                                                \r"
     ]
    }
   ],
   "source": [
    "count = data.filter(F.col(\"waterloo_cards_score\")>0.999).groupby(F.col(\"waterloo_cards_pred\")).count().toPandas()"
   ]
  },
  {
   "cell_type": "code",
   "execution_count": 9,
   "id": "fd4524de",
   "metadata": {
    "ExecuteTime": {
     "end_time": "2023-06-29T14:49:11.371839Z",
     "start_time": "2023-06-29T14:49:11.368193Z"
    }
   },
   "outputs": [],
   "source": [
    "count[\"prop\"] = count[\"count\"]/total_count"
   ]
  },
  {
   "cell_type": "code",
   "execution_count": 10,
   "id": "701619ac",
   "metadata": {
    "ExecuteTime": {
     "end_time": "2023-06-29T14:49:14.167146Z",
     "start_time": "2023-06-29T14:49:14.149847Z"
    }
   },
   "outputs": [
    {
     "data": {
      "text/html": [
       "<div>\n",
       "<style scoped>\n",
       "    .dataframe tbody tr th:only-of-type {\n",
       "        vertical-align: middle;\n",
       "    }\n",
       "\n",
       "    .dataframe tbody tr th {\n",
       "        vertical-align: top;\n",
       "    }\n",
       "\n",
       "    .dataframe thead th {\n",
       "        text-align: right;\n",
       "    }\n",
       "</style>\n",
       "<table border=\"1\" class=\"dataframe\">\n",
       "  <thead>\n",
       "    <tr style=\"text-align: right;\">\n",
       "      <th></th>\n",
       "      <th>waterloo_cards_pred</th>\n",
       "      <th>count</th>\n",
       "      <th>prop</th>\n",
       "    </tr>\n",
       "  </thead>\n",
       "  <tbody>\n",
       "    <tr>\n",
       "      <th>0</th>\n",
       "      <td>0</td>\n",
       "      <td>3854597</td>\n",
       "      <td>0.736172</td>\n",
       "    </tr>\n",
       "    <tr>\n",
       "      <th>1</th>\n",
       "      <td>1</td>\n",
       "      <td>128645</td>\n",
       "      <td>0.024569</td>\n",
       "    </tr>\n",
       "  </tbody>\n",
       "</table>\n",
       "</div>"
      ],
      "text/plain": [
       "  waterloo_cards_pred    count      prop\n",
       "0                   0  3854597  0.736172\n",
       "1                   1   128645  0.024569"
      ]
     },
     "execution_count": 10,
     "metadata": {},
     "output_type": "execute_result"
    }
   ],
   "source": [
    "count"
   ]
  },
  {
   "cell_type": "code",
   "execution_count": 11,
   "id": "789414fd",
   "metadata": {
    "ExecuteTime": {
     "end_time": "2023-06-29T15:10:09.857433Z",
     "start_time": "2023-06-29T15:09:55.322664Z"
    }
   },
   "outputs": [
    {
     "name": "stderr",
     "output_type": "stream",
     "text": [
      "                                                                                \r"
     ]
    }
   ],
   "source": [
    "scores_bins = data.select('waterloo_cards_score').rdd.flatMap(lambda x: x).histogram(20)"
   ]
  },
  {
   "cell_type": "code",
   "execution_count": 15,
   "id": "a8919d82",
   "metadata": {
    "ExecuteTime": {
     "end_time": "2023-06-29T15:12:28.551878Z",
     "start_time": "2023-06-29T15:12:28.544118Z"
    }
   },
   "outputs": [
    {
     "data": {
      "text/html": [
       "<div>\n",
       "<style scoped>\n",
       "    .dataframe tbody tr th:only-of-type {\n",
       "        vertical-align: middle;\n",
       "    }\n",
       "\n",
       "    .dataframe tbody tr th {\n",
       "        vertical-align: top;\n",
       "    }\n",
       "\n",
       "    .dataframe thead th {\n",
       "        text-align: right;\n",
       "    }\n",
       "</style>\n",
       "<table border=\"1\" class=\"dataframe\">\n",
       "  <thead>\n",
       "    <tr style=\"text-align: right;\">\n",
       "      <th></th>\n",
       "      <th>bin</th>\n",
       "      <th>frequency</th>\n",
       "      <th>prop</th>\n",
       "    </tr>\n",
       "  </thead>\n",
       "  <tbody>\n",
       "    <tr>\n",
       "      <th>0</th>\n",
       "      <td>0.500000</td>\n",
       "      <td>1258</td>\n",
       "      <td>0.000240</td>\n",
       "    </tr>\n",
       "    <tr>\n",
       "      <th>1</th>\n",
       "      <td>0.524999</td>\n",
       "      <td>1191</td>\n",
       "      <td>0.000227</td>\n",
       "    </tr>\n",
       "    <tr>\n",
       "      <th>2</th>\n",
       "      <td>0.549997</td>\n",
       "      <td>1286</td>\n",
       "      <td>0.000246</td>\n",
       "    </tr>\n",
       "    <tr>\n",
       "      <th>3</th>\n",
       "      <td>0.574996</td>\n",
       "      <td>1302</td>\n",
       "      <td>0.000249</td>\n",
       "    </tr>\n",
       "    <tr>\n",
       "      <th>4</th>\n",
       "      <td>0.599994</td>\n",
       "      <td>1352</td>\n",
       "      <td>0.000258</td>\n",
       "    </tr>\n",
       "    <tr>\n",
       "      <th>5</th>\n",
       "      <td>0.624993</td>\n",
       "      <td>1308</td>\n",
       "      <td>0.000250</td>\n",
       "    </tr>\n",
       "    <tr>\n",
       "      <th>6</th>\n",
       "      <td>0.649992</td>\n",
       "      <td>1479</td>\n",
       "      <td>0.000282</td>\n",
       "    </tr>\n",
       "    <tr>\n",
       "      <th>7</th>\n",
       "      <td>0.674990</td>\n",
       "      <td>1561</td>\n",
       "      <td>0.000298</td>\n",
       "    </tr>\n",
       "    <tr>\n",
       "      <th>8</th>\n",
       "      <td>0.699989</td>\n",
       "      <td>1629</td>\n",
       "      <td>0.000311</td>\n",
       "    </tr>\n",
       "    <tr>\n",
       "      <th>9</th>\n",
       "      <td>0.724987</td>\n",
       "      <td>1748</td>\n",
       "      <td>0.000334</td>\n",
       "    </tr>\n",
       "    <tr>\n",
       "      <th>10</th>\n",
       "      <td>0.749986</td>\n",
       "      <td>1978</td>\n",
       "      <td>0.000378</td>\n",
       "    </tr>\n",
       "    <tr>\n",
       "      <th>11</th>\n",
       "      <td>0.774985</td>\n",
       "      <td>2193</td>\n",
       "      <td>0.000419</td>\n",
       "    </tr>\n",
       "    <tr>\n",
       "      <th>12</th>\n",
       "      <td>0.799983</td>\n",
       "      <td>2625</td>\n",
       "      <td>0.000501</td>\n",
       "    </tr>\n",
       "    <tr>\n",
       "      <th>13</th>\n",
       "      <td>0.824982</td>\n",
       "      <td>3196</td>\n",
       "      <td>0.000610</td>\n",
       "    </tr>\n",
       "    <tr>\n",
       "      <th>14</th>\n",
       "      <td>0.849980</td>\n",
       "      <td>3942</td>\n",
       "      <td>0.000753</td>\n",
       "    </tr>\n",
       "    <tr>\n",
       "      <th>15</th>\n",
       "      <td>0.874979</td>\n",
       "      <td>5493</td>\n",
       "      <td>0.001049</td>\n",
       "    </tr>\n",
       "    <tr>\n",
       "      <th>16</th>\n",
       "      <td>0.899978</td>\n",
       "      <td>8774</td>\n",
       "      <td>0.001676</td>\n",
       "    </tr>\n",
       "    <tr>\n",
       "      <th>17</th>\n",
       "      <td>0.924976</td>\n",
       "      <td>19252</td>\n",
       "      <td>0.003677</td>\n",
       "    </tr>\n",
       "    <tr>\n",
       "      <th>18</th>\n",
       "      <td>0.949975</td>\n",
       "      <td>92283</td>\n",
       "      <td>0.017625</td>\n",
       "    </tr>\n",
       "    <tr>\n",
       "      <th>19</th>\n",
       "      <td>0.974973</td>\n",
       "      <td>5082150</td>\n",
       "      <td>0.970617</td>\n",
       "    </tr>\n",
       "  </tbody>\n",
       "</table>\n",
       "</div>"
      ],
      "text/plain": [
       "         bin  frequency      prop\n",
       "0   0.500000       1258  0.000240\n",
       "1   0.524999       1191  0.000227\n",
       "2   0.549997       1286  0.000246\n",
       "3   0.574996       1302  0.000249\n",
       "4   0.599994       1352  0.000258\n",
       "5   0.624993       1308  0.000250\n",
       "6   0.649992       1479  0.000282\n",
       "7   0.674990       1561  0.000298\n",
       "8   0.699989       1629  0.000311\n",
       "9   0.724987       1748  0.000334\n",
       "10  0.749986       1978  0.000378\n",
       "11  0.774985       2193  0.000419\n",
       "12  0.799983       2625  0.000501\n",
       "13  0.824982       3196  0.000610\n",
       "14  0.849980       3942  0.000753\n",
       "15  0.874979       5493  0.001049\n",
       "16  0.899978       8774  0.001676\n",
       "17  0.924976      19252  0.003677\n",
       "18  0.949975      92283  0.017625\n",
       "19  0.974973    5082150  0.970617"
      ]
     },
     "execution_count": 15,
     "metadata": {},
     "output_type": "execute_result"
    }
   ],
   "source": [
    "scores = pd.DataFrame(\n",
    "    list(zip(*scores_bins)), \n",
    "    columns=['bin', 'frequency']\n",
    ")\n",
    "scores[\"prop\"] = scores[\"frequency\"]/total_count\n",
    "scores"
   ]
  },
  {
   "cell_type": "code",
   "execution_count": 14,
   "id": "b0631983",
   "metadata": {
    "ExecuteTime": {
     "end_time": "2023-06-29T15:11:57.233710Z",
     "start_time": "2023-06-29T15:11:57.097889Z"
    }
   },
   "outputs": [
    {
     "data": {
      "image/png": "[encoded data removed]",
      "text/plain": [
       "<Figure size 432x288 with 1 Axes>"
      ]
     },
     "metadata": {
      "needs_background": "light"
     },
     "output_type": "display_data"
    }
   ],
   "source": [
    "scores.set_index(\n",
    "    'bin'\n",
    ").plot(kind='bar');"
   ]
  },
  {
   "cell_type": "code",
   "execution_count": 17,
   "id": "2d91e0dd",
   "metadata": {
    "ExecuteTime": {
     "end_time": "2023-06-29T23:38:04.663940Z",
     "start_time": "2023-06-29T23:37:49.788803Z"
    }
   },
   "outputs": [
    {
     "name": "stderr",
     "output_type": "stream",
     "text": [
      "                                                                                \r"
     ]
    }
   ],
   "source": [
    "scores_bins = data.select('cards_pred_score').rdd.flatMap(lambda x: x).histogram(20)"
   ]
  },
  {
   "cell_type": "code",
   "execution_count": 18,
   "id": "3e784d8d",
   "metadata": {
    "ExecuteTime": {
     "end_time": "2023-06-29T23:38:04.681260Z",
     "start_time": "2023-06-29T23:38:04.673696Z"
    }
   },
   "outputs": [
    {
     "data": {
      "text/html": [
       "<div>\n",
       "<style scoped>\n",
       "    .dataframe tbody tr th:only-of-type {\n",
       "        vertical-align: middle;\n",
       "    }\n",
       "\n",
       "    .dataframe tbody tr th {\n",
       "        vertical-align: top;\n",
       "    }\n",
       "\n",
       "    .dataframe thead th {\n",
       "        text-align: right;\n",
       "    }\n",
       "</style>\n",
       "<table border=\"1\" class=\"dataframe\">\n",
       "  <thead>\n",
       "    <tr style=\"text-align: right;\">\n",
       "      <th></th>\n",
       "      <th>bin</th>\n",
       "      <th>frequency</th>\n",
       "      <th>prop</th>\n",
       "    </tr>\n",
       "  </thead>\n",
       "  <tbody>\n",
       "    <tr>\n",
       "      <th>0</th>\n",
       "      <td>0.184304</td>\n",
       "      <td>17</td>\n",
       "      <td>0.000003</td>\n",
       "    </tr>\n",
       "    <tr>\n",
       "      <th>1</th>\n",
       "      <td>0.225081</td>\n",
       "      <td>95</td>\n",
       "      <td>0.000018</td>\n",
       "    </tr>\n",
       "    <tr>\n",
       "      <th>2</th>\n",
       "      <td>0.265858</td>\n",
       "      <td>383</td>\n",
       "      <td>0.000073</td>\n",
       "    </tr>\n",
       "    <tr>\n",
       "      <th>3</th>\n",
       "      <td>0.306635</td>\n",
       "      <td>1028</td>\n",
       "      <td>0.000196</td>\n",
       "    </tr>\n",
       "    <tr>\n",
       "      <th>4</th>\n",
       "      <td>0.347412</td>\n",
       "      <td>2352</td>\n",
       "      <td>0.000449</td>\n",
       "    </tr>\n",
       "    <tr>\n",
       "      <th>5</th>\n",
       "      <td>0.388189</td>\n",
       "      <td>3831</td>\n",
       "      <td>0.000732</td>\n",
       "    </tr>\n",
       "    <tr>\n",
       "      <th>6</th>\n",
       "      <td>0.428966</td>\n",
       "      <td>5900</td>\n",
       "      <td>0.001127</td>\n",
       "    </tr>\n",
       "    <tr>\n",
       "      <th>7</th>\n",
       "      <td>0.469743</td>\n",
       "      <td>14646</td>\n",
       "      <td>0.002797</td>\n",
       "    </tr>\n",
       "    <tr>\n",
       "      <th>8</th>\n",
       "      <td>0.510520</td>\n",
       "      <td>22707</td>\n",
       "      <td>0.004337</td>\n",
       "    </tr>\n",
       "    <tr>\n",
       "      <th>9</th>\n",
       "      <td>0.551297</td>\n",
       "      <td>23364</td>\n",
       "      <td>0.004462</td>\n",
       "    </tr>\n",
       "    <tr>\n",
       "      <th>10</th>\n",
       "      <td>0.592074</td>\n",
       "      <td>23851</td>\n",
       "      <td>0.004555</td>\n",
       "    </tr>\n",
       "    <tr>\n",
       "      <th>11</th>\n",
       "      <td>0.632851</td>\n",
       "      <td>24599</td>\n",
       "      <td>0.004698</td>\n",
       "    </tr>\n",
       "    <tr>\n",
       "      <th>12</th>\n",
       "      <td>0.673628</td>\n",
       "      <td>26803</td>\n",
       "      <td>0.005119</td>\n",
       "    </tr>\n",
       "    <tr>\n",
       "      <th>13</th>\n",
       "      <td>0.714405</td>\n",
       "      <td>29012</td>\n",
       "      <td>0.005541</td>\n",
       "    </tr>\n",
       "    <tr>\n",
       "      <th>14</th>\n",
       "      <td>0.755182</td>\n",
       "      <td>32186</td>\n",
       "      <td>0.006147</td>\n",
       "    </tr>\n",
       "    <tr>\n",
       "      <th>15</th>\n",
       "      <td>0.795959</td>\n",
       "      <td>38426</td>\n",
       "      <td>0.007339</td>\n",
       "    </tr>\n",
       "    <tr>\n",
       "      <th>16</th>\n",
       "      <td>0.836736</td>\n",
       "      <td>47488</td>\n",
       "      <td>0.009070</td>\n",
       "    </tr>\n",
       "    <tr>\n",
       "      <th>17</th>\n",
       "      <td>0.877513</td>\n",
       "      <td>65858</td>\n",
       "      <td>0.012578</td>\n",
       "    </tr>\n",
       "    <tr>\n",
       "      <th>18</th>\n",
       "      <td>0.918290</td>\n",
       "      <td>114745</td>\n",
       "      <td>0.021915</td>\n",
       "    </tr>\n",
       "    <tr>\n",
       "      <th>19</th>\n",
       "      <td>0.959067</td>\n",
       "      <td>4758709</td>\n",
       "      <td>0.908844</td>\n",
       "    </tr>\n",
       "  </tbody>\n",
       "</table>\n",
       "</div>"
      ],
      "text/plain": [
       "         bin  frequency      prop\n",
       "0   0.184304         17  0.000003\n",
       "1   0.225081         95  0.000018\n",
       "2   0.265858        383  0.000073\n",
       "3   0.306635       1028  0.000196\n",
       "4   0.347412       2352  0.000449\n",
       "5   0.388189       3831  0.000732\n",
       "6   0.428966       5900  0.001127\n",
       "7   0.469743      14646  0.002797\n",
       "8   0.510520      22707  0.004337\n",
       "9   0.551297      23364  0.004462\n",
       "10  0.592074      23851  0.004555\n",
       "11  0.632851      24599  0.004698\n",
       "12  0.673628      26803  0.005119\n",
       "13  0.714405      29012  0.005541\n",
       "14  0.755182      32186  0.006147\n",
       "15  0.795959      38426  0.007339\n",
       "16  0.836736      47488  0.009070\n",
       "17  0.877513      65858  0.012578\n",
       "18  0.918290     114745  0.021915\n",
       "19  0.959067    4758709  0.908844"
      ]
     },
     "execution_count": 18,
     "metadata": {},
     "output_type": "execute_result"
    }
   ],
   "source": [
    "scores = pd.DataFrame(\n",
    "    list(zip(*scores_bins)), \n",
    "    columns=['bin', 'frequency']\n",
    ")\n",
    "scores[\"prop\"] = scores[\"frequency\"]/total_count\n",
    "scores"
   ]
  },
  {
   "cell_type": "code",
   "execution_count": 19,
   "id": "d4686afe",
   "metadata": {
    "ExecuteTime": {
     "end_time": "2023-06-29T23:38:21.654720Z",
     "start_time": "2023-06-29T23:38:21.514847Z"
    }
   },
   "outputs": [
    {
     "data": {
      "image/png": "[encoded data removed]",
      "text/plain": [
       "<Figure size 432x288 with 1 Axes>"
      ]
     },
     "metadata": {
      "needs_background": "light"
     },
     "output_type": "display_data"
    }
   ],
   "source": [
    "scores.set_index(\n",
    "    'bin'\n",
    ").plot(kind='bar');"
   ]
  },
  {
   "cell_type": "code",
   "execution_count": null,
   "id": "4b972e36",
   "metadata": {},
   "outputs": [],
   "source": []
  }
 ],
 "metadata": {
  "kernelspec": {
   "display_name": "Python 3 (ipykernel)",
   "language": "python",
   "name": "python3"
  },
  "language_info": {
   "codemirror_mode": {
    "name": "ipython",
    "version": 3
   },
   "file_extension": ".py",
   "mimetype": "text/x-python",
   "name": "python",
   "nbconvert_exporter": "python",
   "pygments_lexer": "ipython3",
   "version": "3.8.13"
  },
  "toc": {
   "base_numbering": 1,
   "nav_menu": {},
   "number_sections": true,
   "sideBar": true,
   "skip_h1_title": false,
   "title_cell": "Table of Contents",
   "title_sidebar": "Contents",
   "toc_cell": false,
   "toc_position": {},
   "toc_section_display": true,
   "toc_window_display": false
  }
 },
 "nbformat": 4,
 "nbformat_minor": 5
}
