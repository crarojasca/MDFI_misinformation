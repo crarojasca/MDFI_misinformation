{
 "cells": [
  {
   "cell_type": "code",
   "execution_count": 1,
   "id": "c865e521",
   "metadata": {
    "ExecuteTime": {
     "end_time": "2023-08-07T09:46:05.007933Z",
     "start_time": "2023-08-07T09:46:00.477266Z"
    }
   },
   "outputs": [
    {
     "name": "stdout",
     "output_type": "stream",
     "text": [
      "23/08/07 19:46:03 WARN Utils: Your hostname, crarojasca-Blade-14-RZ09-0370 resolves to a loopback address: 127.0.1.1; using 192.168.1.9 instead (on interface wlp2s0)\n",
      "23/08/07 19:46:03 WARN Utils: Set SPARK_LOCAL_IP if you need to bind to another address\n"
     ]
    },
    {
     "name": "stderr",
     "output_type": "stream",
     "text": [
      "Setting default log level to \"WARN\".\n",
      "To adjust logging level use sc.setLogLevel(newLevel). For SparkR, use setLogLevel(newLevel).\n"
     ]
    },
    {
     "name": "stdout",
     "output_type": "stream",
     "text": [
      "23/08/07 19:46:03 WARN NativeCodeLoader: Unable to load native-hadoop library for your platform... using builtin-java classes where applicable\n"
     ]
    }
   ],
   "source": [
    "import re\n",
    "import math\n",
    "import string\n",
    "from unidecode import unidecode\n",
    "from nltk.corpus import stopwords\n",
    "\n",
    "import numpy as np\n",
    "import pandas as pd\n",
    "from scipy import stats\n",
    "import plotly.express as px\n",
    "from datetime import datetime\n",
    "import matplotlib.pyplot as plt\n",
    "\n",
    "from pyspark import SparkConf\n",
    "from pyspark.sql import SparkSession # Spark SQL\n",
    "from pyspark.sql.functions import date_format, to_date\n",
    "from pyspark.sql.types import StructType, StructField, IntegerType, FloatType, StringType, TimestampType\n",
    "\n",
    "import pyspark.sql.functions as F\n",
    "from pyspark.sql.functions import udf\n",
    "\n",
    "master = \"local[10]\"\n",
    "app_name = \"Parallel Join\"\n",
    "spark_conf = SparkConf().setMaster(master).setAppName(app_name)#.set(\"spark.executor.memory\", \"6g\")\n",
    "spark = SparkSession.builder.config(conf=spark_conf).getOrCreate()\n",
    "\n",
    "pd.set_option('display.max_colwidth', None)\n",
    "stopwords = stopwords.words('english')"
   ]
  },
  {
   "cell_type": "code",
   "execution_count": 2,
   "id": "d3a7867f",
   "metadata": {
    "ExecuteTime": {
     "end_time": "2023-08-07T09:46:08.602762Z",
     "start_time": "2023-08-07T09:46:05.009805Z"
    }
   },
   "outputs": [
    {
     "name": "stdout",
     "output_type": "stream",
     "text": [
      "root\n",
      " |-- id: string (nullable = true)\n",
      " |-- username: string (nullable = true)\n",
      " |-- fulltext: string (nullable = true)\n",
      " |-- 140_char_text: string (nullable = true)\n",
      " |-- hashtags: string (nullable = true)\n",
      " |-- url: string (nullable = true)\n",
      " |-- domain: string (nullable = true)\n",
      " |-- retweet_count: string (nullable = true)\n",
      " |-- favorite_count: string (nullable = true)\n",
      " |-- language: string (nullable = true)\n",
      " |-- lat: string (nullable = true)\n",
      " |-- lon: string (nullable = true)\n",
      " |-- user_id: string (nullable = true)\n",
      " |-- user_location: string (nullable = true)\n",
      " |-- user_time_zone: string (nullable = true)\n",
      " |-- user_follower_count: string (nullable = true)\n",
      " |-- user_favorite_count: string (nullable = true)\n",
      " |-- user_tweet_count: string (nullable = true)\n",
      " |-- user_description: string (nullable = true)\n",
      " |-- media: string (nullable = true)\n",
      " |-- year: string (nullable = true)\n",
      " |-- month: string (nullable = true)\n",
      " |-- day: string (nullable = true)\n",
      " |-- hour: string (nullable = true)\n",
      " |-- minute: string (nullable = true)\n",
      "\n",
      "root\n",
      " |-- id_cards: string (nullable = true)\n",
      " |-- cards_pred: string (nullable = true)\n",
      " |-- cards_pred_score: float (nullable = true)\n",
      "\n",
      "root\n",
      " |-- id_waterloo_cards: string (nullable = true)\n",
      " |-- waterloo_cards_pred: string (nullable = true)\n",
      " |-- waterloo_cards_score: float (nullable = true)\n",
      "\n",
      "root\n",
      " |-- id_hwaterloo_cards: string (nullable = true)\n",
      " |-- hwaterloo_cards_pred: string (nullable = true)\n",
      " |-- hwaterloo_cards_score: float (nullable = true)\n",
      "\n"
     ]
    }
   ],
   "source": [
    "file = \"../datasets/hamburg/omm_export_tweets_01-06-2022_v2.csv\"\n",
    "data = spark.read.options(delimiter=\"\\t\").csv(file, header=True)\n",
    "data.printSchema()\n",
    "\n",
    "schema = StructType([\n",
    "    StructField(\"id_cards\", StringType(), True),\n",
    "    StructField(\"cards_pred\", StringType(), True),\n",
    "    StructField(\"cards_pred_score\", FloatType(), True)])\n",
    "\n",
    "file = \"../datasets/predictions\"\n",
    "predictions = spark.read.options(delimiter=\"|\").csv(file, header=False, schema=schema)\n",
    "predictions.printSchema()\n",
    "\n",
    "schema = StructType([\n",
    "    StructField(\"id_waterloo_cards\", StringType(), True),\n",
    "    StructField(\"waterloo_cards_pred\", StringType(), True),\n",
    "    StructField(\"waterloo_cards_score\", FloatType(), True)])\n",
    "\n",
    "file = \"../datasets/predictions_waterloo_cards\"\n",
    "new_predictions = spark.read.options(delimiter=\"|\").csv(file, header=False, schema=schema)\n",
    "new_predictions.printSchema()\n",
    "\n",
    "schema = StructType([\n",
    "    StructField(\"id_hwaterloo_cards\", StringType(), True),\n",
    "    StructField(\"hwaterloo_cards_pred\", StringType(), True),\n",
    "    StructField(\"hwaterloo_cards_score\", FloatType(), True)])\n",
    "\n",
    "file = \"../datasets/hamburg/hamburg_secondlvl_predictions\"\n",
    "secondlvl_predictions = spark.read.options(delimiter=\"|\").csv(file, header=False, schema=schema)\n",
    "secondlvl_predictions.printSchema()\n",
    "\n",
    "data = data.join(\n",
    "    predictions, data.id ==  predictions.id_cards, \"inner\"\n",
    ")\n",
    "\n",
    "data = data.join(\n",
    "    new_predictions, data.id ==  new_predictions.id_waterloo_cards, \"inner\"\n",
    ")\n",
    "\n",
    "data = data.join(\n",
    "    secondlvl_predictions, data.id ==  secondlvl_predictions.id_hwaterloo_cards, \"left\"\n",
    ")\n",
    "\n",
    "data = data.drop(\n",
    "    \"id_cards\", \"id_waterloo_cards\", \"id_hwaterloo_cards\"\n",
    ")\n",
    "\n",
    "def proccess(value):\n",
    "    categories = ['1_1', '1_2', '1_3', '1_4', '1_6', '1_7', '2_1', '2_3',\n",
    "       '3_1', '3_2', '3_3', '4_1', '4_2', '4_4', '4_5', '5_1', '5_2']\n",
    "    if value:\n",
    "        return categories[int(value)]\n",
    "    return \"0_0\"\n",
    "\n",
    "\n",
    "f = udf(proccess)\n",
    "data = data.withColumn(\"hwaterloo_cards_pred\", f(\"hwaterloo_cards_pred\"))\n",
    "\n",
    "@udf(returnType=TimestampType())\n",
    "def generateDate(year, month, day):\n",
    "    if not year or not month or not day:\n",
    "        return\n",
    "    try:\n",
    "        date = year + \"-\" + month + \"-\" + day\n",
    "        return datetime.strptime(date,\"%Y-%m-%d\") \n",
    "    except:\n",
    "        return\n",
    "\n",
    "data = (\n",
    "    data.withColumn(\"year\", data.year.cast(StringType()))\n",
    "    .withColumn(\"month\", data.month.cast(StringType()))\n",
    "    .withColumn(\"day\", data.day.cast(StringType()))\n",
    ")\n",
    "\n",
    "data = (\n",
    "    data.withColumn(\"date\", generateDate(data.year, data.month, data.day))\n",
    ")\n",
    "\n",
    "data = data.withColumn(\"date\", date_format(\"date\", \"yyyy-MM-dd HH:mm:ss\"))\n",
    "\n",
    "data = data.dropDuplicates(['id', 'fulltext'])"
   ]
  },
  {
   "cell_type": "code",
   "execution_count": 3,
   "id": "7e16d78e",
   "metadata": {
    "ExecuteTime": {
     "end_time": "2023-08-07T09:46:08.651622Z",
     "start_time": "2023-08-07T09:46:08.606308Z"
    }
   },
   "outputs": [
    {
     "data": {
      "text/plain": [
       "(2004, 40)"
      ]
     },
     "execution_count": 3,
     "metadata": {},
     "output_type": "execute_result"
    }
   ],
   "source": [
    "sample_labeled_1 = pd.read_csv(\"../datasets/hamburg/hamburg_1000_sample.csv\")\n",
    "sample_labeled_2 = pd.read_csv(\"../datasets/hamburg/John_hamburg_test_set2.csv\")\n",
    "sample_labeled_2 = sample_labeled_2.rename(columns={\"fulltext_o\":\"fulltext\"})\n",
    "\n",
    "sample_tagged = pd.concat([sample_labeled_1, sample_labeled_2])\n",
    "sample_tagged.shape"
   ]
  },
  {
   "cell_type": "code",
   "execution_count": 4,
   "id": "6f5535a3",
   "metadata": {
    "ExecuteTime": {
     "end_time": "2023-08-07T09:46:39.144769Z",
     "start_time": "2023-08-07T09:46:08.653099Z"
    },
    "scrolled": true
   },
   "outputs": [
    {
     "name": "stderr",
     "output_type": "stream",
     "text": [
      "                                                                                \r"
     ]
    }
   ],
   "source": [
    "counts = data.withColumn(\"hwaterloo_cards_pred\", \\\n",
    "                         F.when(F.col(\"hwaterloo_cards_pred\")==None , \"0_0\") \\\n",
    "                        .otherwise(F.col(\"hwaterloo_cards_pred\"))) \\\n",
    "                        .groupby(\"hwaterloo_cards_pred\") \\\n",
    "                        .agg(F.count(F.col(\"id\")).alias(\"count\")).toPandas()\n",
    "counts = counts.sort_values(\"hwaterloo_cards_pred\").set_index(\"hwaterloo_cards_pred\")\n",
    "counts = counts.iloc[1:,:]\n",
    "counts[\"perc\"] = counts[\"count\"]/counts[\"count\"].sum()\n",
    "counts[\"nsamples\"] = (counts[\"perc\"]*1000).apply(math.ceil)"
   ]
  },
  {
   "cell_type": "code",
   "execution_count": 5,
   "id": "b204a1c1",
   "metadata": {
    "ExecuteTime": {
     "end_time": "2023-08-07T09:46:39.165525Z",
     "start_time": "2023-08-07T09:46:39.148578Z"
    }
   },
   "outputs": [
    {
     "data": {
      "text/html": [
       "<div>\n",
       "<style scoped>\n",
       "    .dataframe tbody tr th:only-of-type {\n",
       "        vertical-align: middle;\n",
       "    }\n",
       "\n",
       "    .dataframe tbody tr th {\n",
       "        vertical-align: top;\n",
       "    }\n",
       "\n",
       "    .dataframe thead th {\n",
       "        text-align: right;\n",
       "    }\n",
       "</style>\n",
       "<table border=\"1\" class=\"dataframe\">\n",
       "  <thead>\n",
       "    <tr style=\"text-align: right;\">\n",
       "      <th></th>\n",
       "      <th>count</th>\n",
       "      <th>perc</th>\n",
       "      <th>nsamples</th>\n",
       "    </tr>\n",
       "    <tr>\n",
       "      <th>hwaterloo_cards_pred</th>\n",
       "      <th></th>\n",
       "      <th></th>\n",
       "      <th></th>\n",
       "    </tr>\n",
       "  </thead>\n",
       "  <tbody>\n",
       "    <tr>\n",
       "      <th>1_1</th>\n",
       "      <td>2546</td>\n",
       "      <td>0.003094</td>\n",
       "      <td>4</td>\n",
       "    </tr>\n",
       "    <tr>\n",
       "      <th>1_2</th>\n",
       "      <td>5894</td>\n",
       "      <td>0.007162</td>\n",
       "      <td>8</td>\n",
       "    </tr>\n",
       "    <tr>\n",
       "      <th>1_3</th>\n",
       "      <td>8633</td>\n",
       "      <td>0.010490</td>\n",
       "      <td>11</td>\n",
       "    </tr>\n",
       "    <tr>\n",
       "      <th>1_4</th>\n",
       "      <td>6381</td>\n",
       "      <td>0.007753</td>\n",
       "      <td>8</td>\n",
       "    </tr>\n",
       "    <tr>\n",
       "      <th>1_6</th>\n",
       "      <td>3549</td>\n",
       "      <td>0.004312</td>\n",
       "      <td>5</td>\n",
       "    </tr>\n",
       "    <tr>\n",
       "      <th>1_7</th>\n",
       "      <td>35170</td>\n",
       "      <td>0.042735</td>\n",
       "      <td>43</td>\n",
       "    </tr>\n",
       "    <tr>\n",
       "      <th>2_1</th>\n",
       "      <td>69923</td>\n",
       "      <td>0.084962</td>\n",
       "      <td>85</td>\n",
       "    </tr>\n",
       "    <tr>\n",
       "      <th>2_3</th>\n",
       "      <td>21928</td>\n",
       "      <td>0.026644</td>\n",
       "      <td>27</td>\n",
       "    </tr>\n",
       "    <tr>\n",
       "      <th>3_1</th>\n",
       "      <td>777</td>\n",
       "      <td>0.000944</td>\n",
       "      <td>1</td>\n",
       "    </tr>\n",
       "    <tr>\n",
       "      <th>3_2</th>\n",
       "      <td>9386</td>\n",
       "      <td>0.011405</td>\n",
       "      <td>12</td>\n",
       "    </tr>\n",
       "    <tr>\n",
       "      <th>3_3</th>\n",
       "      <td>4988</td>\n",
       "      <td>0.006061</td>\n",
       "      <td>7</td>\n",
       "    </tr>\n",
       "    <tr>\n",
       "      <th>4_1</th>\n",
       "      <td>89405</td>\n",
       "      <td>0.108635</td>\n",
       "      <td>109</td>\n",
       "    </tr>\n",
       "    <tr>\n",
       "      <th>4_2</th>\n",
       "      <td>26363</td>\n",
       "      <td>0.032033</td>\n",
       "      <td>33</td>\n",
       "    </tr>\n",
       "    <tr>\n",
       "      <th>4_4</th>\n",
       "      <td>12964</td>\n",
       "      <td>0.015752</td>\n",
       "      <td>16</td>\n",
       "    </tr>\n",
       "    <tr>\n",
       "      <th>4_5</th>\n",
       "      <td>14762</td>\n",
       "      <td>0.017937</td>\n",
       "      <td>18</td>\n",
       "    </tr>\n",
       "    <tr>\n",
       "      <th>5_1</th>\n",
       "      <td>26090</td>\n",
       "      <td>0.031702</td>\n",
       "      <td>32</td>\n",
       "    </tr>\n",
       "    <tr>\n",
       "      <th>5_2</th>\n",
       "      <td>484229</td>\n",
       "      <td>0.588379</td>\n",
       "      <td>589</td>\n",
       "    </tr>\n",
       "  </tbody>\n",
       "</table>\n",
       "</div>"
      ],
      "text/plain": [
       "                       count      perc  nsamples\n",
       "hwaterloo_cards_pred                            \n",
       "1_1                     2546  0.003094         4\n",
       "1_2                     5894  0.007162         8\n",
       "1_3                     8633  0.010490        11\n",
       "1_4                     6381  0.007753         8\n",
       "1_6                     3549  0.004312         5\n",
       "1_7                    35170  0.042735        43\n",
       "2_1                    69923  0.084962        85\n",
       "2_3                    21928  0.026644        27\n",
       "3_1                      777  0.000944         1\n",
       "3_2                     9386  0.011405        12\n",
       "3_3                     4988  0.006061         7\n",
       "4_1                    89405  0.108635       109\n",
       "4_2                    26363  0.032033        33\n",
       "4_4                    12964  0.015752        16\n",
       "4_5                    14762  0.017937        18\n",
       "5_1                    26090  0.031702        32\n",
       "5_2                   484229  0.588379       589"
      ]
     },
     "execution_count": 5,
     "metadata": {},
     "output_type": "execute_result"
    }
   ],
   "source": [
    "counts"
   ]
  },
  {
   "cell_type": "code",
   "execution_count": 12,
   "id": "9d525acd",
   "metadata": {
    "ExecuteTime": {
     "end_time": "2023-08-07T10:43:52.803270Z",
     "start_time": "2023-08-07T10:23:49.568959Z"
    }
   },
   "outputs": [
    {
     "name": "stderr",
     "output_type": "stream",
     "text": [
      "                                                                                \r"
     ]
    },
    {
     "name": "stdout",
     "output_type": "stream",
     "text": [
      "1_1 (50, 32)\n"
     ]
    },
    {
     "name": "stderr",
     "output_type": "stream",
     "text": [
      "                                                                                \r"
     ]
    },
    {
     "name": "stdout",
     "output_type": "stream",
     "text": [
      "1_2 (50, 32)\n"
     ]
    },
    {
     "name": "stderr",
     "output_type": "stream",
     "text": [
      "                                                                                \r"
     ]
    },
    {
     "name": "stdout",
     "output_type": "stream",
     "text": [
      "1_3 (50, 32)\n"
     ]
    },
    {
     "name": "stderr",
     "output_type": "stream",
     "text": [
      "                                                                                \r"
     ]
    },
    {
     "name": "stdout",
     "output_type": "stream",
     "text": [
      "1_4 (50, 32)\n"
     ]
    },
    {
     "name": "stderr",
     "output_type": "stream",
     "text": [
      "                                                                                \r"
     ]
    },
    {
     "name": "stdout",
     "output_type": "stream",
     "text": [
      "1_6 (50, 32)\n"
     ]
    },
    {
     "name": "stderr",
     "output_type": "stream",
     "text": [
      "[Stage 139:==============>(49 + 1) / 50][Stage 289:========>      (27 + 9) / 50]\r"
     ]
    },
    {
     "name": "stdout",
     "output_type": "stream",
     "text": [
      "[2673.804s][warning][gc,alloc] stdout writer for python3: Retried waiting for GCLocker too often allocating 524290 words\n",
      "23/08/07 20:30:36 WARN TaskMemoryManager: Failed to allocate a page (4194304 bytes), try again.\n",
      "[2673.819s][warning][gc,alloc] stdout writer for python3: Retried waiting for GCLocker too often allocating 524290 words\n",
      "23/08/07 20:30:36 WARN TaskMemoryManager: Failed to allocate a page (4194304 bytes), try again.\n",
      "[2673.827s][warning][gc,alloc] stdout writer for python3: Retried waiting for GCLocker too often allocating 524290 words\n",
      "23/08/07 20:30:36 WARN TaskMemoryManager: Failed to allocate a page (4194304 bytes), try again.\n",
      "[2673.833s][warning][gc,alloc] stdout writer for python3: Retried waiting for GCLocker too often allocating 524290 words\n",
      "23/08/07 20:30:36 WARN TaskMemoryManager: Failed to allocate a page (4194304 bytes), try again.\n",
      "[2673.841s][warning][gc,alloc] stdout writer for python3: Retried waiting for GCLocker too often allocating 524290 words\n",
      "23/08/07 20:30:36 WARN TaskMemoryManager: Failed to allocate a page (4194304 bytes), try again.\n",
      "[2673.852s][warning][gc,alloc] stdout writer for python3: Retried waiting for GCLocker too often allocating 524290 words\n",
      "23/08/07 20:30:36 WARN TaskMemoryManager: Failed to allocate a page (4194304 bytes), try again.\n",
      "[2673.880s][warning][gc,alloc] stdout writer for python3: Retried waiting for GCLocker too often allocating 524290 words\n",
      "23/08/07 20:30:36 WARN TaskMemoryManager: Failed to allocate a page (4194304 bytes), try again.\n",
      "[2673.896s][warning][gc,alloc] stdout writer for python3: Retried waiting for GCLocker too often allocating 524290 words\n",
      "23/08/07 20:30:36 WARN TaskMemoryManager: Failed to allocate a page (4194304 bytes), try again.\n",
      "[2673.904s][warning][gc,alloc] stdout writer for python3: Retried waiting for GCLocker too often allocating 524290 words\n",
      "23/08/07 20:30:36 WARN TaskMemoryManager: Failed to allocate a page (4194304 bytes), try again.\n"
     ]
    },
    {
     "name": "stderr",
     "output_type": "stream",
     "text": [
      "                                                                                \r"
     ]
    },
    {
     "name": "stdout",
     "output_type": "stream",
     "text": [
      "1_7 (50, 32)\n"
     ]
    },
    {
     "name": "stderr",
     "output_type": "stream",
     "text": [
      "                                                                                \r"
     ]
    },
    {
     "name": "stdout",
     "output_type": "stream",
     "text": [
      "2_1 (50, 32)\n"
     ]
    },
    {
     "name": "stderr",
     "output_type": "stream",
     "text": [
      "                                                                                \r"
     ]
    },
    {
     "name": "stdout",
     "output_type": "stream",
     "text": [
      "2_3 (50, 32)\n"
     ]
    },
    {
     "name": "stderr",
     "output_type": "stream",
     "text": [
      "                                                                                \r"
     ]
    },
    {
     "name": "stdout",
     "output_type": "stream",
     "text": [
      "3_1 (50, 32)\n"
     ]
    },
    {
     "name": "stderr",
     "output_type": "stream",
     "text": [
      "                                                                                \r"
     ]
    },
    {
     "name": "stdout",
     "output_type": "stream",
     "text": [
      "3_2 (50, 32)\n"
     ]
    },
    {
     "name": "stderr",
     "output_type": "stream",
     "text": [
      "                                                                                \r"
     ]
    },
    {
     "name": "stdout",
     "output_type": "stream",
     "text": [
      "3_3 (50, 32)\n"
     ]
    },
    {
     "name": "stderr",
     "output_type": "stream",
     "text": [
      "                                                                                \r"
     ]
    },
    {
     "name": "stdout",
     "output_type": "stream",
     "text": [
      "4_1 (50, 32)\n"
     ]
    },
    {
     "name": "stderr",
     "output_type": "stream",
     "text": [
      "                                                                                \r"
     ]
    },
    {
     "name": "stdout",
     "output_type": "stream",
     "text": [
      "4_2 (50, 32)\n"
     ]
    },
    {
     "name": "stderr",
     "output_type": "stream",
     "text": [
      "                                                                                \r"
     ]
    },
    {
     "name": "stdout",
     "output_type": "stream",
     "text": [
      "4_4 (50, 32)\n"
     ]
    },
    {
     "name": "stderr",
     "output_type": "stream",
     "text": [
      "                                                                                \r"
     ]
    },
    {
     "name": "stdout",
     "output_type": "stream",
     "text": [
      "4_5 (50, 32)\n"
     ]
    },
    {
     "name": "stderr",
     "output_type": "stream",
     "text": [
      "                                                                                \r"
     ]
    },
    {
     "name": "stdout",
     "output_type": "stream",
     "text": [
      "5_1 (50, 32)\n"
     ]
    },
    {
     "name": "stderr",
     "output_type": "stream",
     "text": [
      "[Stage 139:=====================================================> (49 + 1) / 50]\r"
     ]
    },
    {
     "name": "stdout",
     "output_type": "stream",
     "text": [
      "5_2 (50, 32)\n"
     ]
    },
    {
     "name": "stderr",
     "output_type": "stream",
     "text": [
      "[Stage 139:=====================================================> (49 + 1) / 50]\r"
     ]
    }
   ],
   "source": [
    "sample2tag = pd.DataFrame()\n",
    "n = 50\n",
    "for label in counts.index:\n",
    "#     n = counts.loc[label, \"nsamples\"]\n",
    "    total = counts.loc[label, \"count\"]\n",
    "    prop = n*50/total\n",
    "    prop = prop if prop<=1 else 1.0\n",
    "    sample = (data.filter(\n",
    "        F.col(\"hwaterloo_cards_pred\")==label)\n",
    "        .sample(0.2)\n",
    "        .limit(5*n)\n",
    "        .toPandas()\n",
    "    )    \n",
    "#     sample = sample[]\n",
    "    sample = sample[~sample[\"fulltext\"].isin(sample_tagged.fulltext)][:n]\n",
    "    print(label, sample.shape)\n",
    "    sample2tag = pd.concat([sample2tag, sample])"
   ]
  },
  {
   "cell_type": "code",
   "execution_count": 14,
   "id": "fda42e6d",
   "metadata": {
    "ExecuteTime": {
     "end_time": "2023-08-07T10:56:09.398828Z",
     "start_time": "2023-08-07T10:56:09.395778Z"
    }
   },
   "outputs": [
    {
     "data": {
      "text/plain": [
       "(850, 32)"
      ]
     },
     "execution_count": 14,
     "metadata": {},
     "output_type": "execute_result"
    }
   ],
   "source": [
    "sample2tag.shape"
   ]
  },
  {
   "cell_type": "code",
   "execution_count": 17,
   "id": "b723be36",
   "metadata": {
    "ExecuteTime": {
     "end_time": "2023-08-07T10:56:50.251765Z",
     "start_time": "2023-08-07T10:56:50.246324Z"
    }
   },
   "outputs": [
    {
     "data": {
      "text/plain": [
       "(850, 32)"
      ]
     },
     "execution_count": 17,
     "metadata": {},
     "output_type": "execute_result"
    },
    {
     "name": "stderr",
     "output_type": "stream",
     "text": [
      "[Stage 139:=====================================================> (49 + 1) / 50]\r"
     ]
    }
   ],
   "source": [
    "sample2tag.drop_duplicates(\"fulltext\").shape"
   ]
  },
  {
   "cell_type": "code",
   "execution_count": 18,
   "id": "cf115195",
   "metadata": {
    "ExecuteTime": {
     "end_time": "2023-08-07T10:59:34.189028Z",
     "start_time": "2023-08-07T10:59:34.179756Z"
    }
   },
   "outputs": [
    {
     "name": "stderr",
     "output_type": "stream",
     "text": [
      "[Stage 139:=====================================================> (49 + 1) / 50]\r"
     ]
    }
   ],
   "source": [
    "sample2tag[[\"id\", \"fulltext\"]].to_csv(\"sample_categories3.csv\", index=False)"
   ]
  },
  {
   "cell_type": "code",
   "execution_count": 19,
   "id": "fe4cc954",
   "metadata": {
    "ExecuteTime": {
     "end_time": "2023-08-07T11:12:24.583585Z",
     "start_time": "2023-08-07T11:11:24.839344Z"
    }
   },
   "outputs": [
    {
     "name": "stderr",
     "output_type": "stream",
     "text": [
      "[Stage 139:=====================================================> (49 + 1) / 50]\r"
     ]
    }
   ],
   "source": [
    "sample = (data.filter(\n",
    "        F.col(\"hwaterloo_cards_pred\")==\"0_0\")\n",
    "        .sample(0.2)\n",
    "        .limit(150)\n",
    "        .toPandas()\n",
    "    )   "
   ]
  },
  {
   "cell_type": "code",
   "execution_count": 21,
   "id": "5376fc26",
   "metadata": {
    "ExecuteTime": {
     "end_time": "2023-08-07T11:12:38.294097Z",
     "start_time": "2023-08-07T11:12:38.291188Z"
    }
   },
   "outputs": [
    {
     "data": {
      "text/plain": [
       "(150, 32)"
      ]
     },
     "execution_count": 21,
     "metadata": {},
     "output_type": "execute_result"
    }
   ],
   "source": [
    "sample.shape"
   ]
  },
  {
   "cell_type": "code",
   "execution_count": 22,
   "id": "645832bf",
   "metadata": {
    "ExecuteTime": {
     "end_time": "2023-08-07T11:12:55.027073Z",
     "start_time": "2023-08-07T11:12:55.022384Z"
    }
   },
   "outputs": [],
   "source": [
    "sample2tag = pd.concat([sample2tag, sample])"
   ]
  },
  {
   "cell_type": "code",
   "execution_count": 28,
   "id": "a0e4c72e",
   "metadata": {
    "ExecuteTime": {
     "end_time": "2023-08-07T11:32:25.365585Z",
     "start_time": "2023-08-07T11:32:25.349510Z"
    }
   },
   "outputs": [
    {
     "name": "stderr",
     "output_type": "stream",
     "text": [
      "[Stage 139:=====================================================> (49 + 1) / 50]\r"
     ]
    }
   ],
   "source": [
    "sample2tag[[\"id\", \"fulltext\"]].sample(frac = 1).to_csv(\"sample_categories3.csv\", index=False)"
   ]
  },
  {
   "cell_type": "code",
   "execution_count": null,
   "id": "b085390a",
   "metadata": {},
   "outputs": [],
   "source": []
  }
 ],
 "metadata": {
  "kernelspec": {
   "display_name": "Python 3 (ipykernel)",
   "language": "python",
   "name": "python3"
  },
  "language_info": {
   "codemirror_mode": {
    "name": "ipython",
    "version": 3
   },
   "file_extension": ".py",
   "mimetype": "text/x-python",
   "name": "python",
   "nbconvert_exporter": "python",
   "pygments_lexer": "ipython3",
   "version": "3.8.13"
  },
  "toc": {
   "base_numbering": 1,
   "nav_menu": {},
   "number_sections": true,
   "sideBar": true,
   "skip_h1_title": false,
   "title_cell": "Table of Contents",
   "title_sidebar": "Contents",
   "toc_cell": false,
   "toc_position": {},
   "toc_section_display": true,
   "toc_window_display": false
  }
 },
 "nbformat": 4,
 "nbformat_minor": 5
}
