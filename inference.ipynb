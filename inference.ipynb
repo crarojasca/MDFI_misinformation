{
 "cells": [
  {
   "cell_type": "code",
   "execution_count": 3,
   "metadata": {},
   "outputs": [
    {
     "name": "stdout",
     "output_type": "stream",
     "text": [
      "There are 1 GPU(s) available.\n",
      "We will use GPU 0: Tesla P4\n"
     ]
    }
   ],
   "source": [
    "import os\n",
    "import math\n",
    "import pickle\n",
    "import pandas as pd\n",
    "\n",
    "from tqdm.notebook import tqdm\n",
    "from scipy.special import softmax\n",
    "from utils import denoise_text\n",
    "\n",
    "import torch\n",
    "from torch.utils.data import IterableDataset\n",
    "from torch.utils.data import Dataset, DataLoader\n",
    "from simpletransformers.classification import ClassificationModel\n",
    "\n",
    "if torch.cuda.is_available():    \n",
    "    # Tell PyTorch to use the GPU.    \n",
    "    device = torch.device(\"cuda\")\n",
    "\n",
    "    print('There are %d GPU(s) available.' % torch.cuda.device_count())\n",
    "    print('We will use GPU {}:'.format(\n",
    "        torch.cuda.current_device()), torch.cuda.get_device_name(torch.cuda.current_device()))\n",
    "\n",
    "else:\n",
    "    print('No GPU available, using the CPU instead.')\n",
    "    device = torch.device(\"cpu\")"
   ]
  },
  {
   "cell_type": "code",
   "execution_count": 2,
   "metadata": {},
   "outputs": [],
   "source": [
    "# FILES\n",
    "## Input File\n",
    "data_file = \"datasets/omm_export_tweets_01-06-2022.csv\"\n",
    "## Output File\n",
    "predictions_file = \"datasets/predictions_waterloo_cards\""
   ]
  },
  {
   "cell_type": "code",
   "execution_count": 4,
   "metadata": {},
   "outputs": [],
   "source": [
    "model_location = \"models/waterloo-cards\"\n",
    "model = \"roberta\"\n",
    "\n",
    "roberta_model = ClassificationModel(model, model_location)\n",
    "roberta_model.args.silent = True"
   ]
  },
  {
   "cell_type": "code",
   "execution_count": 5,
   "metadata": {},
   "outputs": [],
   "source": [
    "class Dataset(IterableDataset):\n",
    "    def __init__(self, data_file, initial_pointer=0):\n",
    "        self.data_file = data_file\n",
    "        self.length = self.compute_length()\n",
    "        self.initial_pointer = initial_pointer + 1\n",
    "        \n",
    "    def compute_length(self):\n",
    "        with open(self.data_file) as f:\n",
    "            num_lines = sum(1 for line in f if line.rstrip())\n",
    "        return num_lines\n",
    "        \n",
    "    def __len__(self):\n",
    "        return self.length\n",
    "    \n",
    "    def preprocess_text(self, line):\n",
    "        row = line.split(\"\\t\")\n",
    "        id_ = row[0]\n",
    "        text = denoise_text(row[2])\n",
    "        return id_, text\n",
    "\n",
    "    def __iter__(self):\n",
    "        file = open(self.data_file)\n",
    "        i = 0\n",
    "        while i < self.initial_pointer:\n",
    "            file.readline()\n",
    "            i += 1\n",
    "        iter_map = map(self.preprocess_text, file)\n",
    "        return iter_map"
   ]
  },
  {
   "cell_type": "code",
   "execution_count": 7,
   "metadata": {},
   "outputs": [],
   "source": [
    "# Load Number lines Predictions\n",
    "with open(predictions_file, \"rb\") as f:\n",
    "    last_line = sum(1 for line in f if line.rstrip())\n",
    "    \n",
    "dataset = Dataset(data_file, last_line)\n",
    "dataloader = DataLoader(dataset, batch_size = 2000)"
   ]
  },
  {
   "cell_type": "code",
   "execution_count": null,
   "metadata": {},
   "outputs": [
    {
     "data": {
      "application/vnd.jupyter.widget-view+json": {
       "model_id": "5832eeefede245f4a30ec69d74057c0a",
       "version_major": 2,
       "version_minor": 0
      },
      "text/plain": [
       "  0%|          | 0/2619 [00:00<?, ?it/s]"
      ]
     },
     "metadata": {},
     "output_type": "display_data"
    }
   ],
   "source": [
    "with open(predictions_file, \"a\") as f:\n",
    "\n",
    "    for ids, texts in tqdm(dataloader, initial=last_line//2000):\n",
    "        predictions_batch, raw_outputs_batch = roberta_model.predict(texts)\n",
    "        scores_batch = [max(softmax(element[0])) for element in raw_outputs_batch]\n",
    "\n",
    "        preds_batch = [\"|\".join(map(str, pred)) for pred in zip(ids, predictions_batch, scores_batch)]\n",
    "        preds_batch = \"\\n\".join(preds_batch) + \"\\n\"\n",
    "        f.write(preds_batch)"
   ]
  },
  {
   "cell_type": "code",
   "execution_count": null,
   "metadata": {},
   "outputs": [],
   "source": []
  }
 ],
 "metadata": {
  "kernelspec": {
   "display_name": "Python 3 (ipykernel)",
   "language": "python",
   "name": "python3"
  },
  "language_info": {
   "codemirror_mode": {
    "name": "ipython",
    "version": 3
   },
   "file_extension": ".py",
   "mimetype": "text/x-python",
   "name": "python",
   "nbconvert_exporter": "python",
   "pygments_lexer": "ipython3",
   "version": "3.8.13"
  },
  "toc": {
   "base_numbering": 1,
   "nav_menu": {},
   "number_sections": true,
   "sideBar": true,
   "skip_h1_title": false,
   "title_cell": "Table of Contents",
   "title_sidebar": "Contents",
   "toc_cell": false,
   "toc_position": {},
   "toc_section_display": true,
   "toc_window_display": false
  }
 },
 "nbformat": 4,
 "nbformat_minor": 4
}
