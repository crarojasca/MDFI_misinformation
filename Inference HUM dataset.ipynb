{
 "cells": [
  {
   "cell_type": "code",
   "execution_count": 1,
   "id": "3540e842",
   "metadata": {
    "ExecuteTime": {
     "end_time": "2022-12-15T12:46:56.005910Z",
     "start_time": "2022-12-15T12:46:51.794126Z"
    }
   },
   "outputs": [
    {
     "name": "stdout",
     "output_type": "stream",
     "text": [
      "22/12/15 23:46:54 WARN Utils: Your hostname, crarojasca-Blade-14-RZ09-0370 resolves to a loopback address: 127.0.1.1; using 192.168.1.10 instead (on interface wlp2s0)\n",
      "22/12/15 23:46:54 WARN Utils: Set SPARK_LOCAL_IP if you need to bind to another address\n"
     ]
    },
    {
     "name": "stderr",
     "output_type": "stream",
     "text": [
      "Setting default log level to \"WARN\".\n",
      "To adjust logging level use sc.setLogLevel(newLevel). For SparkR, use setLogLevel(newLevel).\n"
     ]
    },
    {
     "name": "stdout",
     "output_type": "stream",
     "text": [
      "22/12/15 23:46:54 WARN NativeCodeLoader: Unable to load native-hadoop library for your platform... using builtin-java classes where applicable\n"
     ]
    }
   ],
   "source": [
    "import pandas as pd\n",
    "\n",
    "from tqdm.notebook import tqdm\n",
    "\n",
    "# Import SparkConf class into program\n",
    "from pyspark import SparkConf\n",
    "\n",
    "# local[*]: run Spark in local mode with as many working processors as logical cores on your machine\n",
    "# If we want Spark to run locally with 'k' worker threads, we can specify as \"local[k]\".\n",
    "master = \"local[*]\"\n",
    "# The `appName` field is a name to be shown on the Spark cluster UI page\n",
    "app_name = \"Parallel Join\"\n",
    "# Setup configuration parameters for Spark\n",
    "spark_conf = SparkConf().setMaster(master).setAppName(app_name)\n",
    "\n",
    "# Import SparkSession classes \n",
    "from pyspark.sql import SparkSession # Spark SQL\n",
    "\n",
    "spark = SparkSession.builder.config(conf=spark_conf).getOrCreate()"
   ]
  },
  {
   "cell_type": "code",
   "execution_count": 2,
   "id": "002b26fd",
   "metadata": {
    "ExecuteTime": {
     "end_time": "2022-12-15T12:46:59.741913Z",
     "start_time": "2022-12-15T12:46:56.008501Z"
    }
   },
   "outputs": [],
   "source": [
    "file = \"datasets/omm_export_tweets_01-06-2022.csv\"\n",
    "data = spark.read.options(delimiter=\"\\t\").csv(file, header=True)"
   ]
  },
  {
   "cell_type": "code",
   "execution_count": 3,
   "id": "70230e2c",
   "metadata": {
    "ExecuteTime": {
     "end_time": "2022-12-15T12:46:59.752237Z",
     "start_time": "2022-12-15T12:46:59.743446Z"
    }
   },
   "outputs": [
    {
     "name": "stdout",
     "output_type": "stream",
     "text": [
      "root\n",
      " |-- id: string (nullable = true)\n",
      " |-- username: string (nullable = true)\n",
      " |-- fulltext: string (nullable = true)\n",
      " |-- 140_char_text: string (nullable = true)\n",
      " |-- hashtags: string (nullable = true)\n",
      " |-- url: string (nullable = true)\n",
      " |-- domain: string (nullable = true)\n",
      " |-- retweet_count: string (nullable = true)\n",
      " |-- favorite_count: string (nullable = true)\n",
      " |-- language: string (nullable = true)\n",
      " |-- lat: string (nullable = true)\n",
      " |-- lon: string (nullable = true)\n",
      " |-- user_id: string (nullable = true)\n",
      " |-- user_location: string (nullable = true)\n",
      " |-- user_time_zone: string (nullable = true)\n",
      " |-- user_follower_count: string (nullable = true)\n",
      " |-- user_favorite_count: string (nullable = true)\n",
      " |-- user_tweet_count: string (nullable = true)\n",
      " |-- user_description: string (nullable = true)\n",
      " |-- media: string (nullable = true)\n",
      " |-- year: string (nullable = true)\n",
      " |-- month: string (nullable = true)\n",
      " |-- day: string (nullable = true)\n",
      " |-- hour: string (nullable = true)\n",
      " |-- minute: string (nullable = true)\n",
      "\n"
     ]
    }
   ],
   "source": [
    "data.printSchema()"
   ]
  },
  {
   "cell_type": "code",
   "execution_count": 4,
   "id": "224c38dd",
   "metadata": {
    "ExecuteTime": {
     "end_time": "2022-12-15T12:46:59.764403Z",
     "start_time": "2022-12-15T12:46:59.755236Z"
    }
   },
   "outputs": [],
   "source": [
    "sample = data.sample(0.05)"
   ]
  },
  {
   "cell_type": "code",
   "execution_count": 5,
   "id": "ebda85b2",
   "metadata": {
    "ExecuteTime": {
     "end_time": "2022-12-15T12:47:13.907800Z",
     "start_time": "2022-12-15T12:46:59.766042Z"
    }
   },
   "outputs": [
    {
     "name": "stderr",
     "output_type": "stream",
     "text": [
      "                                                                                \r"
     ]
    }
   ],
   "source": [
    "sample.toPandas().to_csv(\"datasets/omm_export_tweets_sampled.csv\")"
   ]
  },
  {
   "cell_type": "code",
   "execution_count": 14,
   "id": "5ca30787",
   "metadata": {
    "ExecuteTime": {
     "end_time": "2022-12-15T12:50:51.162471Z",
     "start_time": "2022-12-15T12:50:51.155737Z"
    }
   },
   "outputs": [],
   "source": [
    "import torch\n",
    "from torch.utils.data import Dataset, DataLoader\n",
    "\n",
    "import pickle\n",
    "from scipy.special import softmax\n",
    "from utils import roberta_model, denoise_text\n",
    "\n",
    "import linecache\n",
    "\n",
    "class HumDataset(Dataset):\n",
    "    def __init__(self, file):\n",
    "        self.file = file\n",
    "        self.data = spark.read.options(delimiter=\"\\t\").csv(file, header=True)\n",
    "        self.length = self.data.count() - 2\n",
    "  \n",
    "    def __len__(self):\n",
    "        return self.length\n",
    " \n",
    "    def __getitem__(self, idx):\n",
    "        line = linecache.getline(\"datasets/omm_export_tweets_01-06-2022.csv\", idx+2)\n",
    "        text = denoise_text(line.split(\"\\t\")[3])\n",
    "        return text "
   ]
  },
  {
   "cell_type": "code",
   "execution_count": null,
   "id": "d903d9f4",
   "metadata": {
    "ExecuteTime": {
     "start_time": "2022-12-15T12:51:09.808Z"
    }
   },
   "outputs": [
    {
     "name": "stderr",
     "output_type": "stream",
     "text": [
      "                                                                                \r"
     ]
    },
    {
     "data": {
      "application/vnd.jupyter.widget-view+json": {
       "model_id": "fe09624a85ef488d96527691a72c5c18",
       "version_major": 2,
       "version_minor": 0
      },
      "text/plain": [
       "  0%|          | 0/104734 [00:00<?, ?it/s]"
      ]
     },
     "metadata": {},
     "output_type": "display_data"
    },
    {
     "name": "stdout",
     "output_type": "stream",
     "text": [
      "['Melinda is switching from @HESTASuper to another superannuation fund after HESTA didnt care when she voiced concer... https://t.co/jf12KZBRwB', 'How does the #UkraineCrisis, the #pandemic, and #ClimateChange affect the #GlobalSouths demand for #energy and its... https://t.co/dq3xVS8ekJ', 'Climate Change: Tech Billionaire Wins Battle Against Australias Biggest Polluter https://t.co/usgs5KUgcT', 'The newest drinking public#millennials and #GenZrate climate change and the environment as their top concern, and... https://t.co/Utw39xrKcQ', 'With two-thirds of the impact of aviation on climate change believed to come from aircraft non-carbon-dioxide emiss... https://t.co/b4tWu6WCoI', 'Farmers battling climate change welcome Labor, Greens stronger policies https://t.co/1apCS7ojj5 https://t.co/rzsv9dv0qt', 'Taking Root is #hiring! We have 4 openings in our Product and Engineering department, so if you want to make a m... https://t.co/gS3CFi4e3c', 'And watch Bolt, pleading, begging with Dutton to deny climate change. And #DuttonDressedAsLamb came very close.In... https://t.co/S9WTMHLfa9', '.Forests will be our allies in the fight against #climatechangevia @earthdotcomhttps://t.co/vatBsQjDlg#trees... https://t.co/JlHrkzlD1f', \"@VenusianAndroid Yes it can get even worse, simply by empowering Republicans who don't care a whit about climate ch... https://t.co/UaVvmL7c0Y\", \"@TheHarryMcC It is a global issue but yes tax is high. The bigger issue people don't like to talk about is climate... https://t.co/Rke83xkMpG\", 'The failure of world leaders to act on the critical issue of global warming is often blamed on economic considerations.', 'Joe Biden Says He Welcomes Advice from New Zealand Prime Minister Jacinda Ardern on How to Structure Firearm Restri... https://t.co/0d56K2EIJq', '@GabrielSchind13 \"The average forest migrates at a rate of roughly 1,640 feet each year, but to outrun climate chan... https://t.co/3IY8IvT1xT', 'Climate Crisis: FIFA Claims Of Carbon Neutral World Cup In Qatar Discreditedhttps://t.co/nYNbbDQ5C2 https://t.co/mn0r3nNL1h', 'A Consultant Sent an I Quit Email to 1400 Shell Employees. Its a Lesson in Emotional Intelligence... https://t.co/OeBgWy49Nj', '\"It will mark the first time since 2013 that Australia will have a formal minister for climate change at the fede... https://t.co/qbZCB4FPuW', '@Bowenchris Climate change is the biggest bluff lolll', '@KSeattleWeather Average temp in Seattle in May is 63, June 66. Lived here for decades and cant ever remember 70s... https://t.co/zNbNGcjB9k', '@whatashamozzle @CTV PowerPlay @kennedystewart not doing enought to stop ... well well ... another conservative exp... https://t.co/6sFkZnyppa', 'Housing costs and climate change: two issues that a Democratic Governor and both Democratic houses of the legislatu... https://t.co/Ob4A0S3ykO', 'Florida fish are on an alarming number of prescription drugs, scientists discover https://t.co/F0I3vxTiEH', 'https://t.co/K8UqIV05ZS', 'Is Canada the new progressive Utopia ?? After global warming will it be inhabitable ?Justin Trudeau Points to U.S... https://t.co/asIkuCr284', 'Exempt from the adverse effects of climate change, Translated them into politics in order to establish.', '@RepAndyBiggsAZ Climate change is out of control now. We MUST find and utilize other sources of energy. Oil compani... https://t.co/xumUzQ6Ph5', \"'This will all be underwater': As climate change arrives in Connecticut, coastal towns like Groton face a precariou... https://t.co/YzCC09prh1\", \"@ReneeArnett @statnews When someone asks you how medicine can be racist, just point at this.(And this doesn't eve... https://t.co/dpk976HYS6\", 'Kelsey Hawkins-Johnson leads engagement for Groundwork Ohio River Valley. Their goal is bring more Black, Brown and... https://t.co/ntLziD2nVG', 'Well I guess @marcthiessen is not obsessed with climate change? Face it mate, there will be sacrifices if we are to... https://t.co/0n05KyD6kM', 'YEWWinfo Biden praises Ardern for galvanising action on gun control and climate change | New Zealand | The Guardi... https://t.co/G18vrPr5pB', 'Fat Can Build Up in the Lungs, Study Finds, Which May Explain Obesity-Asthma Link https://t.co/5PGkRyES72, reuse an... https://t.co/HJv9Rrv1PJ', '@Tallin32 @wintersweet Climate change is happening. Also, this is the first day of Atlantic hurricane season.', 'The grandma living in a tiny house in our landlords backyard just revealed that she is trying to make opium out of... https://t.co/gHITnr2VRz', \"Australia's new Minister for Climate Change @Bowenchris has said one of his early priorities would be take action t... https://t.co/wsR346uhx4\", 'GLOBAL WARMING https://t.co/nAdwLiuVnb', '@EdwardJohn68 @AnjiWitha They\\'re serious New study says... \"The average forest migrates at a rate of roughly... https://t.co/wpuVlx8xpU', '@randlight @AdMarketingAust Maybe Tony could get him some emergency services volunteer gigs, as the country copes w... https://t.co/ubyQfYVxFu', 'Napa County and its cities will decide whether to tackle climate change together. https://t.co/On0f731Yje', 'Napa County and its cities will decide whether to tackle climate change together. https://t.co/4YicIzRAKM', 'Napa County and its cities will decide whether to tackle climate change together. https://t.co/8s2XnmsQ0c', 'Adjacent tweets in my timeline today. Climate change doesnt care about politics! https://t.co/gPKIhIujDM', '@ExpressHateMail @TalkTV @ClimateRealists @TiceRichard @AlexEpstein Unfortunately much science has been corrupted... https://t.co/e9higsTRRF', 'New #QA opportunity: Senior QA Engineer / SDET at Stem @stempowered Toronto, Canada Apply now!... https://t.co/rCbLqFhioh', '@ARKELY0N sorry i love imagining future (plausible) sci-fi scenarios, but I also fucking hate ppl who deny climate... https://t.co/Z7jNQM6tcs', '@Matt Bernico I mean like apocalyptic like climate change and so on', 'Greetings fellow humans! The well known high-carbon company McDonalds produces 1.5 MILLION tonnes of food packaging... https://t.co/693bw6lAn6', \"@GeoffyPJohnston Good news we don't have a climate emergency. You're welcome.\", 'Michigan is launching a wireless electric vehicle charging road - The Independent https://t.co/YmILoE3nAc', '@HeatherMoAndCo Yeah, I agree with your dark donor theory. I think Mike Schreiner is a strong candidate but the Gre... https://t.co/RpHOeUHUiI']\n"
     ]
    }
   ],
   "source": [
    "dataset = HumDataset(\"datasets/omm_export_tweets_01-06-2022.csv\")\n",
    "dataloader = DataLoader(dataset, batch_size=50, shuffle=False)\n",
    "\n",
    "\n",
    "with open('cards/models/label_encoder.pkl', 'rb') as f:\n",
    "    le = pickle.load(f)\n",
    "\n",
    "for batch in tqdm(dataloader):\n",
    "    print(batch)\n",
    "    predictions, raw_outputs = roberta_model.predict(batch)\n",
    "    print(predictionspredictions)\n",
    "    break"
   ]
  },
  {
   "cell_type": "code",
   "execution_count": 18,
   "id": "66f21d5f",
   "metadata": {
    "ExecuteTime": {
     "end_time": "2022-12-15T05:25:54.992051Z",
     "start_time": "2022-12-15T05:25:49.467145Z"
    }
   },
   "outputs": [
    {
     "ename": "KeyboardInterrupt",
     "evalue": "",
     "output_type": "error",
     "traceback": [
      "\u001b[0;31m---------------------------------------------------------------------------\u001b[0m",
      "\u001b[0;31mKeyboardInterrupt\u001b[0m                         Traceback (most recent call last)",
      "Input \u001b[0;32mIn [18]\u001b[0m, in \u001b[0;36m<cell line: 3>\u001b[0;34m()\u001b[0m\n\u001b[1;32m      1\u001b[0m \u001b[38;5;28;01mimport\u001b[39;00m \u001b[38;5;21;01mpickle\u001b[39;00m\n\u001b[1;32m      2\u001b[0m \u001b[38;5;28;01mfrom\u001b[39;00m \u001b[38;5;21;01mscipy\u001b[39;00m\u001b[38;5;21;01m.\u001b[39;00m\u001b[38;5;21;01mspecial\u001b[39;00m \u001b[38;5;28;01mimport\u001b[39;00m softmax\n\u001b[0;32m----> 3\u001b[0m \u001b[38;5;28;01mfrom\u001b[39;00m \u001b[38;5;21;01mutils\u001b[39;00m \u001b[38;5;28;01mimport\u001b[39;00m roberta_model, preprocess_text\n\u001b[1;32m      5\u001b[0m data[\u001b[38;5;124m'\u001b[39m\u001b[38;5;124mroberta_preprocessed\u001b[39m\u001b[38;5;124m'\u001b[39m] \u001b[38;5;241m=\u001b[39m preprocess_text(data[\u001b[38;5;124m\"\u001b[39m\u001b[38;5;124mmessage\u001b[39m\u001b[38;5;124m\"\u001b[39m])\n\u001b[1;32m      7\u001b[0m predictions, raw_outputs \u001b[38;5;241m=\u001b[39m roberta_model\u001b[38;5;241m.\u001b[39mpredict(\u001b[38;5;28mlist\u001b[39m(data\u001b[38;5;241m.\u001b[39mroberta_preprocessed))\n",
      "File \u001b[0;32m~/Monash/MDFI_misinformation/utils.py:6\u001b[0m, in \u001b[0;36m<module>\u001b[0;34m\u001b[0m\n\u001b[1;32m      3\u001b[0m \u001b[38;5;28;01mimport\u001b[39;00m \u001b[38;5;21;01municodedata\u001b[39;00m\n\u001b[1;32m      4\u001b[0m \u001b[38;5;28;01mfrom\u001b[39;00m \u001b[38;5;21;01msimpletransformers\u001b[39;00m\u001b[38;5;21;01m.\u001b[39;00m\u001b[38;5;21;01mclassification\u001b[39;00m \u001b[38;5;28;01mimport\u001b[39;00m ClassificationModel\n\u001b[0;32m----> 6\u001b[0m \u001b[38;5;28;01mif\u001b[39;00m \u001b[43mtorch\u001b[49m\u001b[38;5;241;43m.\u001b[39;49m\u001b[43mcuda\u001b[49m\u001b[38;5;241;43m.\u001b[39;49m\u001b[43mis_available\u001b[49m\u001b[43m(\u001b[49m\u001b[43m)\u001b[49m:    \n\u001b[1;32m      7\u001b[0m     \u001b[38;5;66;03m# Tell PyTorch to use the GPU.    \u001b[39;00m\n\u001b[1;32m      8\u001b[0m     device \u001b[38;5;241m=\u001b[39m torch\u001b[38;5;241m.\u001b[39mdevice(\u001b[38;5;124m\"\u001b[39m\u001b[38;5;124mcuda\u001b[39m\u001b[38;5;124m\"\u001b[39m)\n\u001b[1;32m     10\u001b[0m     \u001b[38;5;28mprint\u001b[39m(\u001b[38;5;124m'\u001b[39m\u001b[38;5;124mThere are \u001b[39m\u001b[38;5;132;01m%d\u001b[39;00m\u001b[38;5;124m GPU(s) available.\u001b[39m\u001b[38;5;124m'\u001b[39m \u001b[38;5;241m%\u001b[39m torch\u001b[38;5;241m.\u001b[39mcuda\u001b[38;5;241m.\u001b[39mdevice_count())\n",
      "File \u001b[0;32m/opt/conda/envs/uni/lib/python3.8/site-packages/torch/cuda/__init__.py:83\u001b[0m, in \u001b[0;36mis_available\u001b[0;34m()\u001b[0m\n\u001b[1;32m     80\u001b[0m     \u001b[38;5;28;01mreturn\u001b[39;00m \u001b[38;5;28;01mFalse\u001b[39;00m\n\u001b[1;32m     81\u001b[0m \u001b[38;5;66;03m# This function never throws and returns 0 if driver is missing or can't\u001b[39;00m\n\u001b[1;32m     82\u001b[0m \u001b[38;5;66;03m# be initialized\u001b[39;00m\n\u001b[0;32m---> 83\u001b[0m \u001b[38;5;28;01mreturn\u001b[39;00m \u001b[43mtorch\u001b[49m\u001b[38;5;241;43m.\u001b[39;49m\u001b[43m_C\u001b[49m\u001b[38;5;241;43m.\u001b[39;49m\u001b[43m_cuda_getDeviceCount\u001b[49m\u001b[43m(\u001b[49m\u001b[43m)\u001b[49m \u001b[38;5;241m>\u001b[39m \u001b[38;5;241m0\u001b[39m\n",
      "\u001b[0;31mKeyboardInterrupt\u001b[0m: "
     ]
    }
   ],
   "source": [
    "\n",
    "\n",
    "\n",
    "\n",
    "\n",
    "\n",
    "\n",
    "data['roberta_pred'] = le.inverse_transform(predictions)\n",
    "data['roberta_proba'] = [max(softmax(element[0])) for element in raw_outputs]\n",
    "\n",
    "data.to_csv(\"datasets/omm_export_tweets_sampled_scored.csv\", index=False)"
   ]
  },
  {
   "cell_type": "code",
   "execution_count": null,
   "id": "336a6e61",
   "metadata": {},
   "outputs": [],
   "source": []
  }
 ],
 "metadata": {
  "kernelspec": {
   "display_name": "Python 3 (ipykernel)",
   "language": "python",
   "name": "python3"
  },
  "language_info": {
   "codemirror_mode": {
    "name": "ipython",
    "version": 3
   },
   "file_extension": ".py",
   "mimetype": "text/x-python",
   "name": "python",
   "nbconvert_exporter": "python",
   "pygments_lexer": "ipython3",
   "version": "3.8.13"
  },
  "toc": {
   "base_numbering": 1,
   "nav_menu": {},
   "number_sections": true,
   "sideBar": true,
   "skip_h1_title": false,
   "title_cell": "Table of Contents",
   "title_sidebar": "Contents",
   "toc_cell": false,
   "toc_position": {},
   "toc_section_display": true,
   "toc_window_display": false
  }
 },
 "nbformat": 4,
 "nbformat_minor": 5
}
