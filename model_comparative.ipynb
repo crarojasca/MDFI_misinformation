{
 "cells": [
  {
   "cell_type": "code",
   "execution_count": 1,
   "id": "01854fc6",
   "metadata": {
    "ExecuteTime": {
     "end_time": "2023-04-14T01:46:44.230276Z",
     "start_time": "2023-04-14T01:46:43.205902Z"
    }
   },
   "outputs": [],
   "source": [
    "import os\n",
    "import re\n",
    "import math\n",
    "import pickle\n",
    "import numpy as np\n",
    "import pandas as pd\n",
    "\n",
    "from tqdm import tqdm\n",
    "from scipy.special import softmax\n",
    "# from utils import denoise_text, preprocess_text\n",
    "\n",
    "from sklearn.metrics import auc, roc_curve, RocCurveDisplay\n",
    "from sklearn.utils.class_weight import compute_class_weight \n",
    "from sklearn.metrics import f1_score, accuracy_score, precision_score, recall_score\n",
    "\n",
    "from matplotlib import pyplot as plt\n",
    "from sklearn.metrics import (\n",
    "    accuracy_score, roc_auc_score, \n",
    "    f1_score, accuracy_score, precision_score, recall_score,\n",
    "    classification_report, confusion_matrix, ConfusionMatrixDisplay)\n",
    "\n",
    "from IPython.display import display, Markdown, Latex\n",
    "\n",
    "pd.set_option('display.max_colwidth', None)\n",
    "\n",
    "import warnings\n",
    "warnings.filterwarnings('ignore')"
   ]
  },
  {
   "cell_type": "code",
   "execution_count": 2,
   "id": "67fe8c76",
   "metadata": {
    "ExecuteTime": {
     "end_time": "2023-04-14T01:46:44.234322Z",
     "start_time": "2023-04-14T01:46:44.231841Z"
    }
   },
   "outputs": [],
   "source": [
    "FILE = \"datasets/cards_waterloo_augmented.csv\""
   ]
  },
  {
   "cell_type": "code",
   "execution_count": 3,
   "id": "25681e98",
   "metadata": {
    "ExecuteTime": {
     "end_time": "2023-04-14T01:46:45.880712Z",
     "start_time": "2023-04-14T01:46:44.235828Z"
    }
   },
   "outputs": [],
   "source": [
    "data = pd.read_csv(FILE, low_memory=False)"
   ]
  },
  {
   "cell_type": "code",
   "execution_count": 4,
   "id": "cf27ef43",
   "metadata": {
    "ExecuteTime": {
     "end_time": "2023-04-14T01:46:45.886677Z",
     "start_time": "2023-04-14T01:46:45.883166Z"
    }
   },
   "outputs": [],
   "source": [
    "# Load label encoder\n",
    "with open('cards/models/label_encoder.pkl', 'rb') as f:\n",
    "    le = pickle.load(f)"
   ]
  },
  {
   "cell_type": "code",
   "execution_count": 5,
   "id": "e1ed4fce",
   "metadata": {
    "ExecuteTime": {
     "end_time": "2023-04-14T01:46:45.893231Z",
     "start_time": "2023-04-14T01:46:45.888596Z"
    }
   },
   "outputs": [],
   "source": [
    "# data.loc[(data.DATASET.isin([\"cards\", \"waterloo\"])), \"pos_roberta_pred\"] = le.inverse_transform(\n",
    "#     new_data.loc[(new_data.DATASET.isin([\"cards\", \"waterloo\"])), \"pos_roberta_pred\"].apply(int))\n",
    "# data.loc[(data.DATASET.isin([\"cards\", \"waterloo\"])), \"pos_roberta_proba\"] = new_data.loc[\n",
    "#     (new_data.DATASET.isin([\"cards\", \"waterloo\"])), \"pos_roberta_proba\"]\n",
    "\n",
    "# data.to_csv(FILE, index=False)"
   ]
  },
  {
   "cell_type": "code",
   "execution_count": 6,
   "id": "fda904c2",
   "metadata": {
    "ExecuteTime": {
     "end_time": "2023-04-14T01:46:51.782723Z",
     "start_time": "2023-04-14T01:46:45.894515Z"
    }
   },
   "outputs": [],
   "source": [
    "def format_scores(x):\n",
    "    if str(x)!=\"nan\":\n",
    "        return np.array(eval(re.sub(\",? +\", \" ,\", str(x).replace(\"\\n\", \"\"))))\n",
    "    return\n",
    "\n",
    "data[\"cards_proba\"] = data[\"cards_proba\"].apply(format_scores)\n",
    "data[\"waterloo_proba\"] = data[\"waterloo_proba\"].apply(format_scores)\n",
    "# data[\"roberta_cards_pipe_proba\"] = data[\"roberta_cards_pipe_proba\"].apply(format_scores)\n",
    "data[\"roberta_proba\"] = data[\"roberta_proba\"].apply(format_scores)\n",
    "data[\"bertweet_proba\"] = data[\"bertweet_proba\"].apply(format_scores)\n",
    "data[\"electra_proba\"] = data[\"electra_proba\"].apply(format_scores)\n",
    "data[\"xlnet_proba\"] = data[\"xlnet_proba\"].apply(format_scores)\n",
    "# data[\"aug_roberta_proba\"] = data[\"aug_roberta_proba\"].apply(format_scores)"
   ]
  },
  {
   "cell_type": "code",
   "execution_count": 7,
   "id": "6ecf705d",
   "metadata": {
    "ExecuteTime": {
     "end_time": "2023-04-14T01:46:52.972492Z",
     "start_time": "2023-04-14T01:46:51.784089Z"
    },
    "scrolled": false
   },
   "outputs": [
    {
     "data": {
      "text/markdown": [
       "### Test Dataset"
      ],
      "text/plain": [
       "<IPython.core.display.Markdown object>"
      ]
     },
     "metadata": {},
     "output_type": "display_data"
    },
    {
     "name": "stdout",
     "output_type": "stream",
     "text": [
      "cards_binary\n",
      "              precision    recall  f1-score   support\n",
      "\n",
      "           0       0.93      0.95      0.94      5750\n",
      "           1       0.79      0.72      0.76      1549\n",
      "\n",
      "    accuracy                           0.90      7299\n",
      "   macro avg       0.86      0.84      0.85      7299\n",
      "weighted avg       0.90      0.90      0.90      7299\n",
      "\n",
      "roberta\n",
      "              precision    recall  f1-score   support\n",
      "\n",
      "           0       0.95      0.97      0.96      5750\n",
      "           1       0.88      0.83      0.85      1549\n",
      "\n",
      "    accuracy                           0.94      7299\n",
      "   macro avg       0.92      0.90      0.91      7299\n",
      "weighted avg       0.94      0.94      0.94      7299\n",
      "\n"
     ]
    },
    {
     "data": {
      "text/html": [
       "<div>\n",
       "<style scoped>\n",
       "    .dataframe tbody tr th:only-of-type {\n",
       "        vertical-align: middle;\n",
       "    }\n",
       "\n",
       "    .dataframe tbody tr th {\n",
       "        vertical-align: top;\n",
       "    }\n",
       "\n",
       "    .dataframe thead th {\n",
       "        text-align: right;\n",
       "    }\n",
       "</style>\n",
       "<table border=\"1\" class=\"dataframe\">\n",
       "  <thead>\n",
       "    <tr style=\"text-align: right;\">\n",
       "      <th></th>\n",
       "      <th>Model</th>\n",
       "      <th>AUC</th>\n",
       "      <th>Accuracy</th>\n",
       "      <th>F1-score</th>\n",
       "    </tr>\n",
       "  </thead>\n",
       "  <tbody>\n",
       "    <tr>\n",
       "      <th>0</th>\n",
       "      <td>cards_binary</td>\n",
       "      <td>0.655364</td>\n",
       "      <td>0.901630</td>\n",
       "      <td>0.848022</td>\n",
       "    </tr>\n",
       "    <tr>\n",
       "      <th>0</th>\n",
       "      <td>roberta</td>\n",
       "      <td>0.886856</td>\n",
       "      <td>0.939581</td>\n",
       "      <td>0.907602</td>\n",
       "    </tr>\n",
       "  </tbody>\n",
       "</table>\n",
       "</div>"
      ],
      "text/plain": [
       "          Model       AUC  Accuracy  F1-score\n",
       "0  cards_binary  0.655364  0.901630  0.848022\n",
       "0       roberta  0.886856  0.939581  0.907602"
      ]
     },
     "metadata": {},
     "output_type": "display_data"
    },
    {
     "data": {
      "image/png": "[encoded data removed]",
      "text/plain": [
       "<Figure size 576x432 with 1 Axes>"
      ]
     },
     "metadata": {
      "needs_background": "light"
     },
     "output_type": "display_data"
    },
    {
     "ename": "FileNotFoundError",
     "evalue": "[Errno 2] No such file or directory: 'datasets/generated_disinformation_binary_TEST_CHATGPT.csv'",
     "output_type": "error",
     "traceback": [
      "\u001b[0;31m---------------------------------------------------------------------------\u001b[0m",
      "\u001b[0;31mFileNotFoundError\u001b[0m                         Traceback (most recent call last)",
      "Input \u001b[0;32mIn [7]\u001b[0m, in \u001b[0;36m<cell line: 66>\u001b[0;34m()\u001b[0m\n\u001b[1;32m     63\u001b[0m     \u001b[38;5;28;01mreturn\u001b[39;00m data\n\u001b[1;32m     65\u001b[0m \u001b[38;5;66;03m## Generated from the test partition\u001b[39;00m\n\u001b[0;32m---> 66\u001b[0m test_generated \u001b[38;5;241m=\u001b[39m \u001b[43mgenerated_dataset\u001b[49m\u001b[43m(\u001b[49m\n\u001b[1;32m     67\u001b[0m \u001b[43m    \u001b[49m\u001b[38;5;124;43m\"\u001b[39;49m\u001b[38;5;124;43mdatasets/generated_disinformation_binary_TEST_CHATGPT.csv\u001b[39;49m\u001b[38;5;124;43m\"\u001b[39;49m\u001b[43m,\u001b[49m\u001b[43m \u001b[49m\u001b[43m[\u001b[49m\u001b[38;5;124;43m\"\u001b[39;49m\u001b[38;5;124;43mcards\u001b[39;49m\u001b[38;5;124;43m\"\u001b[39;49m\u001b[43m,\u001b[49m\u001b[43m \u001b[49m\u001b[38;5;124;43m\"\u001b[39;49m\u001b[38;5;124;43mroberta\u001b[39;49m\u001b[38;5;124;43m\"\u001b[39;49m\u001b[43m,\u001b[49m\u001b[43m \u001b[49m\u001b[38;5;124;43m\"\u001b[39;49m\u001b[38;5;124;43maug_roberta\u001b[39;49m\u001b[38;5;124;43m\"\u001b[39;49m\u001b[43m]\u001b[49m\u001b[43m)\u001b[49m\n\u001b[1;32m     68\u001b[0m test_generated \u001b[38;5;241m=\u001b[39m add_binary_cards(test_generated)\n\u001b[1;32m     69\u001b[0m display(Markdown(\u001b[38;5;124mf\u001b[39m\u001b[38;5;124m\"\u001b[39m\u001b[38;5;124m### Randomly Generated TEST CHATGPT\u001b[39m\u001b[38;5;124m\"\u001b[39m))\n",
      "Input \u001b[0;32mIn [7]\u001b[0m, in \u001b[0;36mgenerated_dataset\u001b[0;34m(file, models)\u001b[0m\n\u001b[1;32m     56\u001b[0m \u001b[38;5;28;01mdef\u001b[39;00m \u001b[38;5;21mgenerated_dataset\u001b[39m(file, models):\n\u001b[0;32m---> 57\u001b[0m     data \u001b[38;5;241m=\u001b[39m \u001b[43mpd\u001b[49m\u001b[38;5;241;43m.\u001b[39;49m\u001b[43mread_csv\u001b[49m\u001b[43m(\u001b[49m\u001b[43mfile\u001b[49m\u001b[43m,\u001b[49m\u001b[43m \u001b[49m\u001b[43mlow_memory\u001b[49m\u001b[38;5;241;43m=\u001b[39;49m\u001b[38;5;28;43;01mFalse\u001b[39;49;00m\u001b[43m)\u001b[49m\n\u001b[1;32m     58\u001b[0m     \u001b[38;5;28;01mfor\u001b[39;00m model \u001b[38;5;129;01min\u001b[39;00m models:\n\u001b[1;32m     59\u001b[0m         \u001b[38;5;28;01mif\u001b[39;00m model\u001b[38;5;241m!=\u001b[39m\u001b[38;5;124m\"\u001b[39m\u001b[38;5;124mcards\u001b[39m\u001b[38;5;124m\"\u001b[39m:\n",
      "File \u001b[0;32m/opt/conda/envs/uni/lib/python3.8/site-packages/pandas/util/_decorators.py:311\u001b[0m, in \u001b[0;36mdeprecate_nonkeyword_arguments.<locals>.decorate.<locals>.wrapper\u001b[0;34m(*args, **kwargs)\u001b[0m\n\u001b[1;32m    305\u001b[0m \u001b[38;5;28;01mif\u001b[39;00m \u001b[38;5;28mlen\u001b[39m(args) \u001b[38;5;241m>\u001b[39m num_allow_args:\n\u001b[1;32m    306\u001b[0m     warnings\u001b[38;5;241m.\u001b[39mwarn(\n\u001b[1;32m    307\u001b[0m         msg\u001b[38;5;241m.\u001b[39mformat(arguments\u001b[38;5;241m=\u001b[39marguments),\n\u001b[1;32m    308\u001b[0m         \u001b[38;5;167;01mFutureWarning\u001b[39;00m,\n\u001b[1;32m    309\u001b[0m         stacklevel\u001b[38;5;241m=\u001b[39mstacklevel,\n\u001b[1;32m    310\u001b[0m     )\n\u001b[0;32m--> 311\u001b[0m \u001b[38;5;28;01mreturn\u001b[39;00m \u001b[43mfunc\u001b[49m\u001b[43m(\u001b[49m\u001b[38;5;241;43m*\u001b[39;49m\u001b[43margs\u001b[49m\u001b[43m,\u001b[49m\u001b[43m \u001b[49m\u001b[38;5;241;43m*\u001b[39;49m\u001b[38;5;241;43m*\u001b[39;49m\u001b[43mkwargs\u001b[49m\u001b[43m)\u001b[49m\n",
      "File \u001b[0;32m/opt/conda/envs/uni/lib/python3.8/site-packages/pandas/io/parsers/readers.py:680\u001b[0m, in \u001b[0;36mread_csv\u001b[0;34m(filepath_or_buffer, sep, delimiter, header, names, index_col, usecols, squeeze, prefix, mangle_dupe_cols, dtype, engine, converters, true_values, false_values, skipinitialspace, skiprows, skipfooter, nrows, na_values, keep_default_na, na_filter, verbose, skip_blank_lines, parse_dates, infer_datetime_format, keep_date_col, date_parser, dayfirst, cache_dates, iterator, chunksize, compression, thousands, decimal, lineterminator, quotechar, quoting, doublequote, escapechar, comment, encoding, encoding_errors, dialect, error_bad_lines, warn_bad_lines, on_bad_lines, delim_whitespace, low_memory, memory_map, float_precision, storage_options)\u001b[0m\n\u001b[1;32m    665\u001b[0m kwds_defaults \u001b[38;5;241m=\u001b[39m _refine_defaults_read(\n\u001b[1;32m    666\u001b[0m     dialect,\n\u001b[1;32m    667\u001b[0m     delimiter,\n\u001b[0;32m   (...)\u001b[0m\n\u001b[1;32m    676\u001b[0m     defaults\u001b[38;5;241m=\u001b[39m{\u001b[38;5;124m\"\u001b[39m\u001b[38;5;124mdelimiter\u001b[39m\u001b[38;5;124m\"\u001b[39m: \u001b[38;5;124m\"\u001b[39m\u001b[38;5;124m,\u001b[39m\u001b[38;5;124m\"\u001b[39m},\n\u001b[1;32m    677\u001b[0m )\n\u001b[1;32m    678\u001b[0m kwds\u001b[38;5;241m.\u001b[39mupdate(kwds_defaults)\n\u001b[0;32m--> 680\u001b[0m \u001b[38;5;28;01mreturn\u001b[39;00m \u001b[43m_read\u001b[49m\u001b[43m(\u001b[49m\u001b[43mfilepath_or_buffer\u001b[49m\u001b[43m,\u001b[49m\u001b[43m \u001b[49m\u001b[43mkwds\u001b[49m\u001b[43m)\u001b[49m\n",
      "File \u001b[0;32m/opt/conda/envs/uni/lib/python3.8/site-packages/pandas/io/parsers/readers.py:575\u001b[0m, in \u001b[0;36m_read\u001b[0;34m(filepath_or_buffer, kwds)\u001b[0m\n\u001b[1;32m    572\u001b[0m _validate_names(kwds\u001b[38;5;241m.\u001b[39mget(\u001b[38;5;124m\"\u001b[39m\u001b[38;5;124mnames\u001b[39m\u001b[38;5;124m\"\u001b[39m, \u001b[38;5;28;01mNone\u001b[39;00m))\n\u001b[1;32m    574\u001b[0m \u001b[38;5;66;03m# Create the parser.\u001b[39;00m\n\u001b[0;32m--> 575\u001b[0m parser \u001b[38;5;241m=\u001b[39m \u001b[43mTextFileReader\u001b[49m\u001b[43m(\u001b[49m\u001b[43mfilepath_or_buffer\u001b[49m\u001b[43m,\u001b[49m\u001b[43m \u001b[49m\u001b[38;5;241;43m*\u001b[39;49m\u001b[38;5;241;43m*\u001b[39;49m\u001b[43mkwds\u001b[49m\u001b[43m)\u001b[49m\n\u001b[1;32m    577\u001b[0m \u001b[38;5;28;01mif\u001b[39;00m chunksize \u001b[38;5;129;01mor\u001b[39;00m iterator:\n\u001b[1;32m    578\u001b[0m     \u001b[38;5;28;01mreturn\u001b[39;00m parser\n",
      "File \u001b[0;32m/opt/conda/envs/uni/lib/python3.8/site-packages/pandas/io/parsers/readers.py:934\u001b[0m, in \u001b[0;36mTextFileReader.__init__\u001b[0;34m(self, f, engine, **kwds)\u001b[0m\n\u001b[1;32m    931\u001b[0m     \u001b[38;5;28mself\u001b[39m\u001b[38;5;241m.\u001b[39moptions[\u001b[38;5;124m\"\u001b[39m\u001b[38;5;124mhas_index_names\u001b[39m\u001b[38;5;124m\"\u001b[39m] \u001b[38;5;241m=\u001b[39m kwds[\u001b[38;5;124m\"\u001b[39m\u001b[38;5;124mhas_index_names\u001b[39m\u001b[38;5;124m\"\u001b[39m]\n\u001b[1;32m    933\u001b[0m \u001b[38;5;28mself\u001b[39m\u001b[38;5;241m.\u001b[39mhandles: IOHandles \u001b[38;5;241m|\u001b[39m \u001b[38;5;28;01mNone\u001b[39;00m \u001b[38;5;241m=\u001b[39m \u001b[38;5;28;01mNone\u001b[39;00m\n\u001b[0;32m--> 934\u001b[0m \u001b[38;5;28mself\u001b[39m\u001b[38;5;241m.\u001b[39m_engine \u001b[38;5;241m=\u001b[39m \u001b[38;5;28;43mself\u001b[39;49m\u001b[38;5;241;43m.\u001b[39;49m\u001b[43m_make_engine\u001b[49m\u001b[43m(\u001b[49m\u001b[43mf\u001b[49m\u001b[43m,\u001b[49m\u001b[43m \u001b[49m\u001b[38;5;28;43mself\u001b[39;49m\u001b[38;5;241;43m.\u001b[39;49m\u001b[43mengine\u001b[49m\u001b[43m)\u001b[49m\n",
      "File \u001b[0;32m/opt/conda/envs/uni/lib/python3.8/site-packages/pandas/io/parsers/readers.py:1218\u001b[0m, in \u001b[0;36mTextFileReader._make_engine\u001b[0;34m(self, f, engine)\u001b[0m\n\u001b[1;32m   1214\u001b[0m     mode \u001b[38;5;241m=\u001b[39m \u001b[38;5;124m\"\u001b[39m\u001b[38;5;124mrb\u001b[39m\u001b[38;5;124m\"\u001b[39m\n\u001b[1;32m   1215\u001b[0m \u001b[38;5;66;03m# error: No overload variant of \"get_handle\" matches argument types\u001b[39;00m\n\u001b[1;32m   1216\u001b[0m \u001b[38;5;66;03m# \"Union[str, PathLike[str], ReadCsvBuffer[bytes], ReadCsvBuffer[str]]\"\u001b[39;00m\n\u001b[1;32m   1217\u001b[0m \u001b[38;5;66;03m# , \"str\", \"bool\", \"Any\", \"Any\", \"Any\", \"Any\", \"Any\"\u001b[39;00m\n\u001b[0;32m-> 1218\u001b[0m \u001b[38;5;28mself\u001b[39m\u001b[38;5;241m.\u001b[39mhandles \u001b[38;5;241m=\u001b[39m \u001b[43mget_handle\u001b[49m\u001b[43m(\u001b[49m\u001b[43m  \u001b[49m\u001b[38;5;66;43;03m# type: ignore[call-overload]\u001b[39;49;00m\n\u001b[1;32m   1219\u001b[0m \u001b[43m    \u001b[49m\u001b[43mf\u001b[49m\u001b[43m,\u001b[49m\n\u001b[1;32m   1220\u001b[0m \u001b[43m    \u001b[49m\u001b[43mmode\u001b[49m\u001b[43m,\u001b[49m\n\u001b[1;32m   1221\u001b[0m \u001b[43m    \u001b[49m\u001b[43mencoding\u001b[49m\u001b[38;5;241;43m=\u001b[39;49m\u001b[38;5;28;43mself\u001b[39;49m\u001b[38;5;241;43m.\u001b[39;49m\u001b[43moptions\u001b[49m\u001b[38;5;241;43m.\u001b[39;49m\u001b[43mget\u001b[49m\u001b[43m(\u001b[49m\u001b[38;5;124;43m\"\u001b[39;49m\u001b[38;5;124;43mencoding\u001b[39;49m\u001b[38;5;124;43m\"\u001b[39;49m\u001b[43m,\u001b[49m\u001b[43m \u001b[49m\u001b[38;5;28;43;01mNone\u001b[39;49;00m\u001b[43m)\u001b[49m\u001b[43m,\u001b[49m\n\u001b[1;32m   1222\u001b[0m \u001b[43m    \u001b[49m\u001b[43mcompression\u001b[49m\u001b[38;5;241;43m=\u001b[39;49m\u001b[38;5;28;43mself\u001b[39;49m\u001b[38;5;241;43m.\u001b[39;49m\u001b[43moptions\u001b[49m\u001b[38;5;241;43m.\u001b[39;49m\u001b[43mget\u001b[49m\u001b[43m(\u001b[49m\u001b[38;5;124;43m\"\u001b[39;49m\u001b[38;5;124;43mcompression\u001b[39;49m\u001b[38;5;124;43m\"\u001b[39;49m\u001b[43m,\u001b[49m\u001b[43m \u001b[49m\u001b[38;5;28;43;01mNone\u001b[39;49;00m\u001b[43m)\u001b[49m\u001b[43m,\u001b[49m\n\u001b[1;32m   1223\u001b[0m \u001b[43m    \u001b[49m\u001b[43mmemory_map\u001b[49m\u001b[38;5;241;43m=\u001b[39;49m\u001b[38;5;28;43mself\u001b[39;49m\u001b[38;5;241;43m.\u001b[39;49m\u001b[43moptions\u001b[49m\u001b[38;5;241;43m.\u001b[39;49m\u001b[43mget\u001b[49m\u001b[43m(\u001b[49m\u001b[38;5;124;43m\"\u001b[39;49m\u001b[38;5;124;43mmemory_map\u001b[39;49m\u001b[38;5;124;43m\"\u001b[39;49m\u001b[43m,\u001b[49m\u001b[43m \u001b[49m\u001b[38;5;28;43;01mFalse\u001b[39;49;00m\u001b[43m)\u001b[49m\u001b[43m,\u001b[49m\n\u001b[1;32m   1224\u001b[0m \u001b[43m    \u001b[49m\u001b[43mis_text\u001b[49m\u001b[38;5;241;43m=\u001b[39;49m\u001b[43mis_text\u001b[49m\u001b[43m,\u001b[49m\n\u001b[1;32m   1225\u001b[0m \u001b[43m    \u001b[49m\u001b[43merrors\u001b[49m\u001b[38;5;241;43m=\u001b[39;49m\u001b[38;5;28;43mself\u001b[39;49m\u001b[38;5;241;43m.\u001b[39;49m\u001b[43moptions\u001b[49m\u001b[38;5;241;43m.\u001b[39;49m\u001b[43mget\u001b[49m\u001b[43m(\u001b[49m\u001b[38;5;124;43m\"\u001b[39;49m\u001b[38;5;124;43mencoding_errors\u001b[39;49m\u001b[38;5;124;43m\"\u001b[39;49m\u001b[43m,\u001b[49m\u001b[43m \u001b[49m\u001b[38;5;124;43m\"\u001b[39;49m\u001b[38;5;124;43mstrict\u001b[39;49m\u001b[38;5;124;43m\"\u001b[39;49m\u001b[43m)\u001b[49m\u001b[43m,\u001b[49m\n\u001b[1;32m   1226\u001b[0m \u001b[43m    \u001b[49m\u001b[43mstorage_options\u001b[49m\u001b[38;5;241;43m=\u001b[39;49m\u001b[38;5;28;43mself\u001b[39;49m\u001b[38;5;241;43m.\u001b[39;49m\u001b[43moptions\u001b[49m\u001b[38;5;241;43m.\u001b[39;49m\u001b[43mget\u001b[49m\u001b[43m(\u001b[49m\u001b[38;5;124;43m\"\u001b[39;49m\u001b[38;5;124;43mstorage_options\u001b[39;49m\u001b[38;5;124;43m\"\u001b[39;49m\u001b[43m,\u001b[49m\u001b[43m \u001b[49m\u001b[38;5;28;43;01mNone\u001b[39;49;00m\u001b[43m)\u001b[49m\u001b[43m,\u001b[49m\n\u001b[1;32m   1227\u001b[0m \u001b[43m\u001b[49m\u001b[43m)\u001b[49m\n\u001b[1;32m   1228\u001b[0m \u001b[38;5;28;01massert\u001b[39;00m \u001b[38;5;28mself\u001b[39m\u001b[38;5;241m.\u001b[39mhandles \u001b[38;5;129;01mis\u001b[39;00m \u001b[38;5;129;01mnot\u001b[39;00m \u001b[38;5;28;01mNone\u001b[39;00m\n\u001b[1;32m   1229\u001b[0m f \u001b[38;5;241m=\u001b[39m \u001b[38;5;28mself\u001b[39m\u001b[38;5;241m.\u001b[39mhandles\u001b[38;5;241m.\u001b[39mhandle\n",
      "File \u001b[0;32m/opt/conda/envs/uni/lib/python3.8/site-packages/pandas/io/common.py:786\u001b[0m, in \u001b[0;36mget_handle\u001b[0;34m(path_or_buf, mode, encoding, compression, memory_map, is_text, errors, storage_options)\u001b[0m\n\u001b[1;32m    781\u001b[0m \u001b[38;5;28;01melif\u001b[39;00m \u001b[38;5;28misinstance\u001b[39m(handle, \u001b[38;5;28mstr\u001b[39m):\n\u001b[1;32m    782\u001b[0m     \u001b[38;5;66;03m# Check whether the filename is to be opened in binary mode.\u001b[39;00m\n\u001b[1;32m    783\u001b[0m     \u001b[38;5;66;03m# Binary mode does not support 'encoding' and 'newline'.\u001b[39;00m\n\u001b[1;32m    784\u001b[0m     \u001b[38;5;28;01mif\u001b[39;00m ioargs\u001b[38;5;241m.\u001b[39mencoding \u001b[38;5;129;01mand\u001b[39;00m \u001b[38;5;124m\"\u001b[39m\u001b[38;5;124mb\u001b[39m\u001b[38;5;124m\"\u001b[39m \u001b[38;5;129;01mnot\u001b[39;00m \u001b[38;5;129;01min\u001b[39;00m ioargs\u001b[38;5;241m.\u001b[39mmode:\n\u001b[1;32m    785\u001b[0m         \u001b[38;5;66;03m# Encoding\u001b[39;00m\n\u001b[0;32m--> 786\u001b[0m         handle \u001b[38;5;241m=\u001b[39m \u001b[38;5;28;43mopen\u001b[39;49m\u001b[43m(\u001b[49m\n\u001b[1;32m    787\u001b[0m \u001b[43m            \u001b[49m\u001b[43mhandle\u001b[49m\u001b[43m,\u001b[49m\n\u001b[1;32m    788\u001b[0m \u001b[43m            \u001b[49m\u001b[43mioargs\u001b[49m\u001b[38;5;241;43m.\u001b[39;49m\u001b[43mmode\u001b[49m\u001b[43m,\u001b[49m\n\u001b[1;32m    789\u001b[0m \u001b[43m            \u001b[49m\u001b[43mencoding\u001b[49m\u001b[38;5;241;43m=\u001b[39;49m\u001b[43mioargs\u001b[49m\u001b[38;5;241;43m.\u001b[39;49m\u001b[43mencoding\u001b[49m\u001b[43m,\u001b[49m\n\u001b[1;32m    790\u001b[0m \u001b[43m            \u001b[49m\u001b[43merrors\u001b[49m\u001b[38;5;241;43m=\u001b[39;49m\u001b[43merrors\u001b[49m\u001b[43m,\u001b[49m\n\u001b[1;32m    791\u001b[0m \u001b[43m            \u001b[49m\u001b[43mnewline\u001b[49m\u001b[38;5;241;43m=\u001b[39;49m\u001b[38;5;124;43m\"\u001b[39;49m\u001b[38;5;124;43m\"\u001b[39;49m\u001b[43m,\u001b[49m\n\u001b[1;32m    792\u001b[0m \u001b[43m        \u001b[49m\u001b[43m)\u001b[49m\n\u001b[1;32m    793\u001b[0m     \u001b[38;5;28;01melse\u001b[39;00m:\n\u001b[1;32m    794\u001b[0m         \u001b[38;5;66;03m# Binary mode\u001b[39;00m\n\u001b[1;32m    795\u001b[0m         handle \u001b[38;5;241m=\u001b[39m \u001b[38;5;28mopen\u001b[39m(handle, ioargs\u001b[38;5;241m.\u001b[39mmode)\n",
      "\u001b[0;31mFileNotFoundError\u001b[0m: [Errno 2] No such file or directory: 'datasets/generated_disinformation_binary_TEST_CHATGPT.csv'"
     ]
    }
   ],
   "source": [
    "def add_binary_cards(data):\n",
    "    data[\"cards_binary_pred\"] = data[\"cards_pred\"].apply(\n",
    "        lambda x: 0 if x==\"0_0\" or x=='0.0' else 1)\n",
    "    data[\"cards_binary_proba\"] = data[\"cards_proba\"].apply(lambda x: [x[0], sum(x[1:])])\n",
    "    return data\n",
    "\n",
    "def models_comparative(data, models):\n",
    "    labels = [0, 1]\n",
    "    target_names = [\"Not Misinformation\", \"Misinformation\"]\n",
    "    freport = pd.DataFrame()\n",
    "    \n",
    "    plt.figure(figsize=(8, 6))\n",
    "    for model in models:\n",
    "        print(model)\n",
    "        y_true = data.labels.values\n",
    "        y_pred = data[f\"{model}_pred\"].values\n",
    "\n",
    "        scores = data.apply(lambda x: x[f\"{model}_proba\"][int(x[f\"{model}_pred\"])], axis=1).values\n",
    "        fpr, tpr, thresholds = roc_curve(data.labels, scores)    \n",
    "        roc_auc = auc(tpr, fpr)# multi_class=\"ovr\", average=\"macro\")\n",
    "        plt.plot(tpr, fpr, label=f\"{model} (AUC = {round(roc_auc*100, 2)})\")\n",
    "\n",
    "        acc = accuracy_score(y_true, y_pred)\n",
    "        print(classification_report(y_true, y_pred, labels=labels))\n",
    "\n",
    "        report = {\n",
    "            \"Model\": model,\n",
    "            \"AUC\": roc_auc,\n",
    "            \"Accuracy\": accuracy_score(y_true, y_pred),\n",
    "            \"F1-score\": f1_score(y_true, y_pred, average='macro')\n",
    "        }   \n",
    "        report = pd.DataFrame([report])\n",
    "        freport = pd.concat([freport, report])\n",
    "        freport = freport.sort_values([\"AUC\"])\n",
    "\n",
    "    display(freport)\n",
    "\n",
    "    plt.plot([0, 1], [0, 1], \"k--\", label=\"chance level (AUC = 0.5)\")\n",
    "    plt.axis(\"square\")\n",
    "    plt.xlabel(\"False Positive Rate\")\n",
    "    plt.ylabel(\"True Positive Rate\")\n",
    "    plt.title(\"ROC curves\")\n",
    "    plt.legend()\n",
    "    plt.show()\n",
    "    \n",
    "# models = [\"roberta_cards_pipe\", \"roberta\", \"bertweet\", \"xlnet\"]\n",
    "display(Markdown(f\"### Test Dataset\"))\n",
    "# models = [\"roberta\", \"electra\", \"bertweet\", \"xlnet\"]\n",
    "\n",
    "test = data[data.PARTITION==\"TEST\"]\n",
    "test = add_binary_cards(test)\n",
    "# test.loc[test.cards_binary==0, \"cards_binary\"] = 0\n",
    "models = [\"cards_binary\", \"roberta\"]\n",
    "models_comparative(test, models)\n",
    "\n",
    "def generated_dataset(file, models):\n",
    "    data = pd.read_csv(file, low_memory=False)\n",
    "    for model in models:\n",
    "        if model!=\"cards\":\n",
    "            data[f\"{model}_pred\"] = data[f\"{model}_pred\"].apply(lambda x: int(float(x)))\n",
    "        data[f\"{model}_proba\"] = data[f\"{model}_proba\"].apply(format_scores)\n",
    "    data[\"labels\"] = 1\n",
    "    return data\n",
    "\n",
    "## Generated from the test partition\n",
    "test_generated = generated_dataset(\n",
    "    \"datasets/generated_disinformation_binary_TEST_CHATGPT.csv\", [\"cards\", \"roberta\", \"aug_roberta\"])\n",
    "test_generated = add_binary_cards(test_generated)\n",
    "display(Markdown(f\"### Randomly Generated TEST CHATGPT\"))\n",
    "models_comparative(test_generated, [\"cards_binary\", \"roberta\", \"aug_roberta\"])\n",
    "\n",
    "## Generated from the ClimateScam partition\n",
    "climate_scam_generated = generated_dataset(\n",
    "    \"datasets/generated_disinformation_binary_ClimateScam_CHATGPT.csv\", [\"cards\", \"roberta\", \"aug_roberta\"])\n",
    "climate_scam_generated = add_binary_cards(climate_scam_generated)\n",
    "display(Markdown(f\"### Randomly Generated Climate Scam CHATGPT\"))\n",
    "models_comparative(climate_scam_generated, [\"cards_binary\", \"roberta\", \"aug_roberta\"])"
   ]
  },
  {
   "cell_type": "code",
   "execution_count": null,
   "id": "7ae410df",
   "metadata": {
    "ExecuteTime": {
     "end_time": "2023-04-14T01:46:52.975906Z",
     "start_time": "2023-04-14T01:46:52.975896Z"
    }
   },
   "outputs": [],
   "source": [
    "test_generated.cards_pred.value_counts().sort_index().plot.bar()"
   ]
  },
  {
   "cell_type": "code",
   "execution_count": null,
   "id": "7f6c887c",
   "metadata": {
    "ExecuteTime": {
     "end_time": "2023-04-14T01:46:52.976722Z",
     "start_time": "2023-04-14T01:46:52.976713Z"
    }
   },
   "outputs": [],
   "source": [
    "climate_scam_generated.cards_pred.value_counts().sort_index().plot.bar()"
   ]
  },
  {
   "cell_type": "code",
   "execution_count": null,
   "id": "7ebb9987",
   "metadata": {
    "ExecuteTime": {
     "end_time": "2023-04-14T01:46:52.977762Z",
     "start_time": "2023-04-14T01:46:52.977752Z"
    }
   },
   "outputs": [],
   "source": [
    "data[\"sec_clf_roberta_pred\"] = data.apply(\n",
    "    lambda x: \"0_0\" if x[\"roberta_pred\"] == 0.0 else x[\"pos_roberta_pred\"], axis=1)"
   ]
  },
  {
   "cell_type": "code",
   "execution_count": null,
   "id": "dd057606",
   "metadata": {
    "ExecuteTime": {
     "end_time": "2023-04-14T01:46:52.978473Z",
     "start_time": "2023-04-14T01:46:52.978464Z"
    }
   },
   "outputs": [],
   "source": [
    "cards = pd.read_csv(\"datasets/augmented/9834838408490912248/cards_augmented_0_V1.csv\")"
   ]
  },
  {
   "cell_type": "code",
   "execution_count": null,
   "id": "8ee42e47",
   "metadata": {
    "ExecuteTime": {
     "end_time": "2023-04-14T01:46:52.979430Z",
     "start_time": "2023-04-14T01:46:52.979420Z"
    }
   },
   "outputs": [],
   "source": [
    "cards_data = cards[(cards.DATASET==\"cards\") & (cards.PARTITION==\"VALID\")].copy(deep=True)\n",
    "\n",
    "y_true = cards_data.claim.values\n",
    "y_pred = cards_data.cards_aug_pred.values\n",
    "\n",
    "def classification_report_df(y_true, y_pred):\n",
    "    str_representation_of_report = classification_report(y_true, y_pred)\n",
    "    split_string = [x.split(' ') for x in str_representation_of_report.split('\\n')]\n",
    "    column_names = ['']+[x for x in split_string[0] if x!='']\n",
    "    values = []\n",
    "    for table_row in split_string[1:-1]:\n",
    "        table_row = [value for value in table_row if value!='']\n",
    "        if table_row!=[]:\n",
    "            values.append(table_row)\n",
    "    for i in values:\n",
    "        for j in range(len(i)):\n",
    "            if i[1] == 'avg':\n",
    "                i[0:2] = [' '.join(i[0:2])]\n",
    "            if len(i) == 3:\n",
    "                i.insert(1,np.nan)\n",
    "                i.insert(2, np.nan)\n",
    "            else:\n",
    "                pass\n",
    "    report_to_df = pd.DataFrame(data=values, columns=column_names)\n",
    "    return report_to_df\n",
    "\n",
    "display(Markdown(\"#### Validation\"))\n",
    "print(f1_score(y_true, y_pred, average=\"macro\"))\n",
    "report = classification_report_df(y_true, y_pred)\n",
    "display(report)\n",
    "\n",
    "cards_data = cards[(cards.DATASET==\"cards\") & (cards.PARTITION==\"TEST\")].copy(deep=True)\n",
    "\n",
    "y_true = cards_data.claim.values\n",
    "y_pred = cards_data.cards_aug_pred.values\n",
    "\n",
    "display(Markdown(\"#### Test\"))\n",
    "print(f1_score(y_true, y_pred, average='macro'))\n",
    "report = classification_report_df(y_true, y_pred)\n",
    "display(report)"
   ]
  },
  {
   "cell_type": "code",
   "execution_count": null,
   "id": "2c2654fe",
   "metadata": {
    "ExecuteTime": {
     "end_time": "2023-04-14T01:46:52.980267Z",
     "start_time": "2023-04-14T01:46:52.980252Z"
    }
   },
   "outputs": [],
   "source": [
    "generated_taxonomy = pd.read_csv(\n",
    "    \"datasets/generated_disinformation_taxonomy_CARDS_CHATGPT_specific_samples_predict.csv\")\n",
    "\n",
    "# generated_taxonomy = generated_taxonomy[\n",
    "#     generated_taxonomy.generated_label.isin([\"1_1\", \"1_2\", \"1_3\", \"1_4\", \"1_6\", \"1_7\", \"2_1\"])]\n",
    "\n",
    "y_true = generated_taxonomy.generated_label.values\n",
    "y_pred = generated_taxonomy.cards_pred.values\n",
    "\n",
    "classes = np.sort(generated_taxonomy.cards_pred.unique())\n",
    "c_m = confusion_matrix(y_true, y_pred)\n",
    "cmp = ConfusionMatrixDisplay(\n",
    "    c_m, display_labels=classes)\n",
    "fig, ax = plt.subplots(figsize=(8,8))\n",
    "cmp.plot(ax=ax)  \n",
    "\n",
    "print(f1_score(y_true, y_pred, average='macro'))\n",
    "report_generated = classification_report_df(y_true, y_pred)\n",
    "report_generated"
   ]
  },
  {
   "cell_type": "code",
   "execution_count": null,
   "id": "9025d8bf",
   "metadata": {
    "ExecuteTime": {
     "end_time": "2023-04-14T01:46:52.981219Z",
     "start_time": "2023-04-14T01:46:52.981197Z"
    }
   },
   "outputs": [],
   "source": [
    "data[data.PARTITION==\"TRAIN\"]"
   ]
  },
  {
   "cell_type": "code",
   "execution_count": null,
   "id": "473f7ce8",
   "metadata": {
    "ExecuteTime": {
     "end_time": "2023-04-14T01:46:52.981892Z",
     "start_time": "2023-04-14T01:46:52.981883Z"
    }
   },
   "outputs": [],
   "source": [
    "# list_samples = [0, 50, 100, 200, 300, 400, \"400V2\", 500, 700, 1000]\n",
    "seed = \"9834838408490912248\"\n",
    "list_samples = [\"0V1\", \"400V1\"]\n",
    "# \"50_V2\", \"50_V3\"\n",
    "list_samples = [\n",
    "#     \"0_V1\", \"50_V1\", \"50_V2\", \"50_V2.1\", \"100_V2\", \"200_V2\"\n",
    "     \"0_V1\", \"50_V1\", \"50_V2\", \"50_V4\", \"100_V2\", \"100_V3\", \"500_V2\", \"500_V3\"\n",
    "]\n",
    "partition = [\"TRAIN\", \"VALID\", \"TEST\"]\n",
    "f1_scores = {}\n",
    "reports = {}\n",
    "cards_data = data[(data.DATASET==\"cards\")].copy(deep=True)\n",
    "for n in list_samples:\n",
    "    print(n)\n",
    "#     if n==0:\n",
    "#         augmented_cards = cards_data\n",
    "#     else:\n",
    "    augmented_cards = pd.read_csv(f\"datasets/augmented/{seed}/cards_augmented_{n}.csv\")\n",
    "\n",
    "    for p in partition:\n",
    "        augmented_cards_partition = augmented_cards[augmented_cards.PARTITION==p]\n",
    "\n",
    "        y_true = augmented_cards_partition.claim.values\n",
    "#         if n==0:\n",
    "#             y_pred = augmented_cards_partition[f\"cards_pred\"].values\n",
    "#         else:\n",
    "        y_pred = augmented_cards_partition[f\"cards_aug_pred\"].values\n",
    "            \n",
    "        if p not in reports: reports[p]=[]\n",
    "        report = classification_report_df(y_true, y_pred)\n",
    "        reports[p].append(report)\n",
    "\n",
    "        if p not in f1_scores: f1_scores[p]=[]\n",
    "        f1_scores[p].append(f1_score(y_true, y_pred, average='macro'))"
   ]
  },
  {
   "cell_type": "code",
   "execution_count": null,
   "id": "65635d83",
   "metadata": {
    "ExecuteTime": {
     "end_time": "2023-04-14T01:46:52.982708Z",
     "start_time": "2023-04-14T01:46:52.982700Z"
    }
   },
   "outputs": [],
   "source": [
    "resumen = pd.DataFrame(f1_scores, index=list_samples).T\n",
    "\n",
    "cols = {}\n",
    "for c in resumen.columns:\n",
    "    if \"V1\" in c:\n",
    "        cols[c] = c.replace(\"V1\", \"CHATGPT_V1\")\n",
    "    elif \"V2\" in c:\n",
    "        cols[c] = c.replace(\"V2\", \"CHATGPT_V2\")\n",
    "    elif \"V3\" in c:\n",
    "        cols[c] = c.replace(\"V3\", \"GPT-4-TEST\")\n",
    "    elif \"V4\" in c:\n",
    "        cols[c] = c.replace(\"V4\", \"GPT-4\")\n",
    "\n",
    "resumen = resumen.rename(columns=cols)\n",
    "resumen"
   ]
  },
  {
   "cell_type": "code",
   "execution_count": null,
   "id": "ff4ca7c7",
   "metadata": {
    "ExecuteTime": {
     "end_time": "2023-04-14T01:46:52.983575Z",
     "start_time": "2023-04-14T01:46:52.983566Z"
    }
   },
   "outputs": [],
   "source": [
    "fig = plt.figure(figsize=(15, 5), dpi=80)\n",
    "for p in partition[1:]:\n",
    "    plt.plot(list_samples, f1_scores[p], label=p)\n",
    "plt.title(\"F1-score vs Data Augmented\")\n",
    "plt.ylabel('F1-Score')\n",
    "plt.xlabel('N. Samples Generated')\n",
    "plt.legend()"
   ]
  },
  {
   "cell_type": "code",
   "execution_count": null,
   "id": "4fe6a844",
   "metadata": {
    "ExecuteTime": {
     "end_time": "2023-04-14T01:46:52.984326Z",
     "start_time": "2023-04-14T01:46:52.984317Z"
    },
    "scrolled": false
   },
   "outputs": [],
   "source": [
    "classes = le.classes_\n",
    "coms = pd.DataFrame()\n",
    "coms[\"support\"] = data[\n",
    "    (data.PARTITION==\"TRAIN\")&(data.DATASET==\"cards\")].claim.value_counts().sort_index().values\n",
    "for i, n in enumerate(list_samples[1:]):\n",
    "    aug = reports[\"VALID\"][i+1][[\"f1-score\"]].astype(float).values\n",
    "    base = reports[\"VALID\"][0][[\"f1-score\"]].astype(float).values\n",
    "    diff = (aug - base).flatten()\n",
    "    \n",
    "    coms[n] = diff[:18] \n",
    "#     print(n)\n",
    "#     print(n, classes[diff[:18]>0.])\n",
    "#     print(sum(diff[:18]))\n",
    "#     print(diff)\n",
    "#     print(sum(diff[diff>0.][:18]))\n",
    "#     print()\n",
    "coms[\"generated\"] = report_generated[\"f1-score\"][:18].apply(float)\n",
    "coms.index = classes\n",
    "coms.loc[\"sum\", :] = coms.sum()\n",
    "coms\n",
    "\n",
    "red = 'background-color: #f8d2d2'\n",
    "green = 'background-color: #d2f8d2'\n",
    "coms.style.apply(\n",
    "    lambda data, color: [red if float(v)<0 else green for v in data], \n",
    "                 color='darkorange', axis=0)"
   ]
  },
  {
   "cell_type": "code",
   "execution_count": null,
   "id": "1c1382c2",
   "metadata": {
    "ExecuteTime": {
     "end_time": "2023-04-14T01:46:52.985138Z",
     "start_time": "2023-04-14T01:46:52.985128Z"
    }
   },
   "outputs": [],
   "source": [
    "augmented_cards[(augmented_cards.claim == \"4_5\")&(augmented_cards.DATASET == \"generated-gpt-4\")].text"
   ]
  },
  {
   "cell_type": "code",
   "execution_count": null,
   "id": "944e58f3",
   "metadata": {
    "ExecuteTime": {
     "end_time": "2023-04-14T01:46:52.986038Z",
     "start_time": "2023-04-14T01:46:52.986017Z"
    }
   },
   "outputs": [],
   "source": [
    "dataset = pd.read_csv(\"datasets/augmented/9834838408490912248/cards_augmented_50_V3_9834838408490912248.csv\")\n",
    "generated = pd.read_csv(\"datasets/generated_disinformation_taxonomy_CARDS_GPT-4_specific_samples_V2.csv\")\n",
    "# for class_ in le.classes_[1:]:\n",
    "dataset[\"based_claims\"] = None\n",
    "dataset.loc[(dataset.claim==\"4_5\")&(dataset.DATASET==\"generated-gpt-4\"), \"based_claims\"] = generated.loc[(generated.generated_label==\"4_5\"), \"based_claims\"]"
   ]
  },
  {
   "cell_type": "code",
   "execution_count": null,
   "id": "6cae34fd",
   "metadata": {
    "ExecuteTime": {
     "end_time": "2023-04-14T01:46:52.987013Z",
     "start_time": "2023-04-14T01:46:52.987004Z"
    }
   },
   "outputs": [],
   "source": [
    "dataset[(dataset.claim==\"4_5\")&(dataset.DATASET==\"generated-gpt-4\")][[\"text\", \"claim\", \"cards_aug_pred\"]]"
   ]
  },
  {
   "cell_type": "code",
   "execution_count": null,
   "id": "94bc0cf7",
   "metadata": {
    "ExecuteTime": {
     "end_time": "2023-04-14T01:46:52.987678Z",
     "start_time": "2023-04-14T01:46:52.987669Z"
    }
   },
   "outputs": [],
   "source": [
    "bad_index = augmented_cards[(augmented_cards.claim == \"4_5\")&(augmented_cards.cards_aug_pred != \"4_5\")&(augmented_cards.PARTITION == \"TEST\")][[\"text\", \"cards_aug_pred\"]].index\n",
    "\n",
    "generated_4_5 = generated.loc[(generated.generated_label==\"4_5\")]\n",
    "generated_4_5[generated_4_5.based_claims.apply(lambda x: any([True if i in bad_index else False for i in eval(x)]))]"
   ]
  },
  {
   "cell_type": "code",
   "execution_count": null,
   "id": "f53d7f88",
   "metadata": {
    "ExecuteTime": {
     "end_time": "2023-04-14T01:46:52.988443Z",
     "start_time": "2023-04-14T01:46:52.988434Z"
    }
   },
   "outputs": [],
   "source": [
    "classes = le.classes_\n",
    "coms = pd.DataFrame()\n",
    "coms[\"support\"] = data[\n",
    "    (data.PARTITION==\"TRAIN\")&(data.DATASET==\"cards\")].claim.value_counts().sort_index().values\n",
    "for i, n in enumerate(list_samples[1:]):\n",
    "    aug = reports[\"TEST\"][i+1][[\"f1-score\"]].astype(float).values\n",
    "    base = reports[\"TEST\"][0][[\"f1-score\"]].astype(float).values\n",
    "    diff = (aug - base).flatten()\n",
    "    \n",
    "    coms[n] = diff[:18]\n",
    "#     print(n)\n",
    "    print(n, classes[diff[:18]>0.])\n",
    "#     print(sum(diff[:18]))\n",
    "#     print(diff)\n",
    "#     print(sum(diff[diff>0.][:18]))\n",
    "#     print()\n",
    "coms[\"generated\"] = report_generated[\"f1-score\"][:18].apply(float)\n",
    "coms.index = classes\n",
    "coms.loc[\"average\", :] = coms.sum()\n",
    "coms"
   ]
  },
  {
   "cell_type": "code",
   "execution_count": null,
   "id": "4f026b2e",
   "metadata": {
    "ExecuteTime": {
     "end_time": "2023-04-14T01:46:52.989231Z",
     "start_time": "2023-04-14T01:46:52.989221Z"
    },
    "scrolled": false
   },
   "outputs": [],
   "source": [
    "for n in list_samples[1:]:\n",
    "    augmented_cards = pd.read_csv(f\"datasets/cards_augmented_{n}.csv\")\n",
    "    augmented_cards_test = augmented_cards[augmented_cards.PARTITION==\"TEST\"]\n",
    "\n",
    "    y_true = augmented_cards_test.claim.values\n",
    "    y_pred = augmented_cards_test[f\"cards_aug_{n}_pred\"].values\n",
    "\n",
    "    report = classification_report_df(y_true, y_pred)\n",
    "    display(Markdown(f\"### n={n}\"))\n",
    "    display(report)"
   ]
  },
  {
   "cell_type": "code",
   "execution_count": null,
   "id": "e019bd1c",
   "metadata": {
    "ExecuteTime": {
     "end_time": "2023-04-14T01:46:52.990031Z",
     "start_time": "2023-04-14T01:46:52.990022Z"
    }
   },
   "outputs": [],
   "source": [
    "f1_scores[\"VALID\"]"
   ]
  },
  {
   "cell_type": "code",
   "execution_count": null,
   "id": "fa12c893",
   "metadata": {
    "ExecuteTime": {
     "end_time": "2023-04-14T01:46:52.990640Z",
     "start_time": "2023-04-14T01:46:52.990632Z"
    }
   },
   "outputs": [],
   "source": [
    "f1_scores[\"TEST\"]"
   ]
  },
  {
   "cell_type": "code",
   "execution_count": null,
   "id": "89fd42a4",
   "metadata": {
    "ExecuteTime": {
     "end_time": "2023-04-14T01:46:52.991491Z",
     "start_time": "2023-04-14T01:46:52.991481Z"
    }
   },
   "outputs": [],
   "source": [
    "n = 0\n",
    "VERSION = 1\n",
    "augmented_cards = pd.read_csv(f\"datasets/augmented/cards_augmented_{n}V{VERSION}.csv\")\n",
    "augmented_cards_test = augmented_cards[augmented_cards.PARTITION==\"TEST\"]\n",
    "\n",
    "y_true = augmented_cards_test.claim.values\n",
    "y_pred = augmented_cards_test[f\"cards_aug_{n}V{VERSION}_pred\"].values\n",
    "\n",
    "print(f1_score(y_true, y_pred, average=\"macro\"))\n",
    "\n",
    "report = classification_report_df(y_true, y_pred)\n",
    "display(Markdown(f\"### n={n}\"))\n",
    "display(report)"
   ]
  },
  {
   "cell_type": "code",
   "execution_count": null,
   "id": "8e492d5d",
   "metadata": {
    "ExecuteTime": {
     "end_time": "2023-04-14T01:46:52.992208Z",
     "start_time": "2023-04-14T01:46:52.992199Z"
    }
   },
   "outputs": [],
   "source": [
    "n = 400\n",
    "VERSION = 1\n",
    "augmented_cards = pd.read_csv(f\"datasets/augmented/cards_augmented_{n}V{VERSION}.csv\")\n",
    "augmented_cards_test = augmented_cards[augmented_cards.PARTITION==\"TEST\"]\n",
    "\n",
    "y_true = augmented_cards_test.claim.values\n",
    "y_pred = augmented_cards_test[f\"cards_aug_{n}V{VERSION}_pred\"].values\n",
    "\n",
    "print(f1_score(y_true, y_pred, average=\"macro\"))\n",
    "\n",
    "report = classification_report_df(y_true, y_pred)\n",
    "display(Markdown(f\"### n={n}\"))\n",
    "display(report)"
   ]
  },
  {
   "cell_type": "code",
   "execution_count": null,
   "id": "adf822f3",
   "metadata": {
    "ExecuteTime": {
     "end_time": "2023-04-14T01:46:52.993085Z",
     "start_time": "2023-04-14T01:46:52.993077Z"
    }
   },
   "outputs": [],
   "source": [
    "n = 400\n",
    "VERSION = \"V5\"\n",
    "augmented_cards = pd.read_csv(f\"datasets/augmented/cards_augmented_{n}{VERSION}.csv\")\n",
    "augmented_cards_test = augmented_cards[augmented_cards.PARTITION==\"TEST\"]\n",
    "\n",
    "y_true = augmented_cards_test.claim.values\n",
    "y_pred = augmented_cards_test[f\"cards_aug_{n}{VERSION}_pred\"].values\n",
    "\n",
    "print(f1_score(y_true, y_pred, average=\"macro\"))\n",
    "\n",
    "report = classification_report_df(y_true, y_pred)\n",
    "display(Markdown(f\"### n={n}\"))\n",
    "display(report)"
   ]
  },
  {
   "cell_type": "code",
   "execution_count": null,
   "id": "788f480c",
   "metadata": {
    "ExecuteTime": {
     "end_time": "2023-04-14T01:46:52.993832Z",
     "start_time": "2023-04-14T01:46:52.993823Z"
    }
   },
   "outputs": [],
   "source": [
    "comparative = pd.read_csv(f\"datasets/augmented/cards_augmented_400.csv\")\n",
    "comparative = comparative.iloc[:,1:]\n",
    "tmp = pd.read_csv(f\"datasets/augmented/cards_augmented_400V2.csv\")\n",
    "comparative[\"cards_aug_400V2_pred\"] = tmp[\"cards_aug_400V2_pred\"]\n",
    "comparative[\"cards_aug_400V2_proba\"] = tmp[\"cards_aug_400V2_proba\"]\n",
    "\n",
    "comparative[\"cards_aug_400_proba\"] = comparative[\"cards_aug_400_proba\"].apply(format_scores)\n",
    "comparative[\"cards_aug_400V2_proba\"] = comparative[\"cards_aug_400V2_proba\"].apply(format_scores)\n",
    "\n",
    "comparative[\"cards_aug_400_score\"] = comparative.apply(\n",
    "    lambda x: x[\"cards_aug_400_proba\"][le.transform([x[\"cards_aug_400_pred\"]])[0]], axis=1)\n",
    "\n",
    "comparative[\"cards_aug_400V2_score\"] = comparative.apply(\n",
    "    lambda x: x[\"cards_aug_400V2_proba\"][le.transform([x[\"cards_aug_400V2_pred\"]])[0]], axis=1)"
   ]
  },
  {
   "cell_type": "code",
   "execution_count": null,
   "id": "2da552e2",
   "metadata": {
    "ExecuteTime": {
     "end_time": "2023-04-14T01:46:52.995288Z",
     "start_time": "2023-04-14T01:46:52.995275Z"
    }
   },
   "outputs": [],
   "source": [
    "comparative_test = comparative[comparative.PARTITION==\"TEST\"]\n",
    "comparative_test[\n",
    "    (comparative_test.claim==\"4_5\")&(comparative_test.cards_aug_400_pred!=comparative_test.cards_aug_400V2_pred)]"
   ]
  },
  {
   "cell_type": "code",
   "execution_count": null,
   "id": "e23cfd2a",
   "metadata": {
    "ExecuteTime": {
     "end_time": "2023-04-14T01:46:52.996224Z",
     "start_time": "2023-04-14T01:46:52.996213Z"
    }
   },
   "outputs": [],
   "source": [
    "augmented_cards = pd.read_csv(f\"datasets/augmented/cards_augmented_50_filteredV2.csv\")\n",
    "augmented_cards_test = augmented_cards[augmented_cards.PARTITION==\"TEST\"]\n",
    "\n",
    "y_true = augmented_cards_test.claim.values\n",
    "y_pred = augmented_cards_test[f\"cards_aug_50_pred\"].values\n",
    "\n",
    "report = classification_report_df(y_true, y_pred)\n",
    "display(Markdown(f\"### n=50\"))\n",
    "print(f1_score(y_true, y_pred, average=\"macro\"))\n",
    "display(report)"
   ]
  },
  {
   "cell_type": "code",
   "execution_count": null,
   "id": "9efb381b",
   "metadata": {
    "ExecuteTime": {
     "end_time": "2023-04-14T01:46:52.997190Z",
     "start_time": "2023-04-14T01:46:52.997179Z"
    }
   },
   "outputs": [],
   "source": [
    "augmented_cards[\n",
    "    (augmented_cards.DATASET==\"generated-chatgpt\")&(augmented_cards.labels==\"1_4\")].cards_pred.value_counts()"
   ]
  },
  {
   "cell_type": "code",
   "execution_count": null,
   "id": "4f6ac6d9",
   "metadata": {
    "ExecuteTime": {
     "end_time": "2023-04-14T01:46:52.998254Z",
     "start_time": "2023-04-14T01:46:52.998235Z"
    },
    "scrolled": false
   },
   "outputs": [],
   "source": [
    "generated_taxonomy = pd.read_csv(\"datasets/generated_disinformation_taxonomy_CARDS_CHATGPT_specific_samples_predict.csv\")\n",
    "\n",
    "# generated_taxonomy = generated_taxonomy[\n",
    "#     generated_taxonomy.generated_label.isin([\"1_1\", \"1_2\", \"1_3\", \"1_4\", \"1_6\", \"1_7\", \"2_1\"])]\n",
    "\n",
    "y_true = generated_taxonomy.generated_label.values\n",
    "y_pred = generated_taxonomy.cards_pred.values\n",
    "\n",
    "report = classification_report(y_true, y_pred)\n",
    "print(report)\n",
    "\n",
    "classes = np.sort(generated_taxonomy.cards_pred.unique())\n",
    "c_m = confusion_matrix(y_true, y_pred)\n",
    "cmp = ConfusionMatrixDisplay(\n",
    "    c_m, display_labels=classes)\n",
    "fig, ax = plt.subplots(figsize=(8,8))\n",
    "cmp.plot(ax=ax)  \n",
    "\n",
    "\n",
    "report = classification_report_df(y_true, y_pred)\n",
    "report"
   ]
  },
  {
   "cell_type": "code",
   "execution_count": null,
   "id": "6434802c",
   "metadata": {
    "ExecuteTime": {
     "end_time": "2023-04-14T01:46:52.999889Z",
     "start_time": "2023-04-14T01:46:52.999871Z"
    }
   },
   "outputs": [],
   "source": [
    "generated_taxonomy = pd.read_csv(\"datasets/generated_disinformation_taxonomy_CARDS_CHATGPT_specific_samples_V2.csv\")\n",
    "\n",
    "y_true = generated_taxonomy.generated_label.values\n",
    "y_pred = generated_taxonomy.cards_pred.values\n",
    "\n",
    "report = classification_report(y_true, y_pred)\n",
    "print(report)\n",
    "\n",
    "classes = np.sort(generated_taxonomy.cards_pred.unique())\n",
    "c_m = confusion_matrix(y_true, y_pred)\n",
    "cmp = ConfusionMatrixDisplay(\n",
    "    c_m, display_labels=classes)\n",
    "fig, ax = plt.subplots(figsize=(8,8))\n",
    "cmp.plot(ax=ax)  \n",
    "\n",
    "\n",
    "report = classification_report_df(y_true, y_pred)\n",
    "report"
   ]
  },
  {
   "cell_type": "code",
   "execution_count": null,
   "id": "2db428e7",
   "metadata": {
    "ExecuteTime": {
     "end_time": "2023-04-14T01:46:53.001695Z",
     "start_time": "2023-04-14T01:46:53.001677Z"
    }
   },
   "outputs": [],
   "source": [
    "y_true = cards_data.claim.values\n",
    "y_pred = cards_data.sec_clf_roberta_pred.values\n",
    "\n",
    "report = classification_report(y_true, y_pred)\n",
    "print(report)"
   ]
  },
  {
   "cell_type": "code",
   "execution_count": null,
   "id": "80b1fcc2",
   "metadata": {
    "ExecuteTime": {
     "end_time": "2023-04-14T01:46:53.003458Z",
     "start_time": "2023-04-14T01:46:53.003438Z"
    },
    "scrolled": false
   },
   "outputs": [],
   "source": [
    "test_generated = pd.read_csv(\"datasets/generated_disinformation_binary_TEST_CHATGPT.csv\", low_memory=False)\n",
    "test_generated[\"roberta_proba\"] = test_generated[\"roberta_proba\"].apply(format_scores)\n",
    "test_generated[\"aug_roberta_proba\"] = test_generated[\"aug_roberta_proba\"].apply(format_scores)\n",
    "test_generated[\"labels\"] = 1\n",
    "\n",
    "display(Markdown(f\"### Randomly Generated TEST CHATGPT\"))\n",
    "models_comparative(test_generated, models)"
   ]
  },
  {
   "cell_type": "code",
   "execution_count": null,
   "id": "f4e2429c",
   "metadata": {
    "ExecuteTime": {
     "end_time": "2023-04-14T01:46:53.005201Z",
     "start_time": "2023-04-14T01:46:53.005185Z"
    }
   },
   "outputs": [],
   "source": [
    "generated.roberta_pred.value_counts()"
   ]
  },
  {
   "cell_type": "code",
   "execution_count": null,
   "id": "65ee064c",
   "metadata": {
    "ExecuteTime": {
     "end_time": "2023-04-14T01:46:53.006952Z",
     "start_time": "2023-04-14T01:46:53.006931Z"
    }
   },
   "outputs": [],
   "source": [
    "from transformers import ElectraTokenizer, ElectraModel\n",
    "from transformers import AutoConfig, AutoTokenizer, AutoModelForSequenceClassification\n",
    "import torch"
   ]
  },
  {
   "cell_type": "code",
   "execution_count": null,
   "id": "bbe5491e",
   "metadata": {
    "ExecuteTime": {
     "end_time": "2023-04-14T01:46:53.008773Z",
     "start_time": "2023-04-14T01:46:53.008746Z"
    }
   },
   "outputs": [],
   "source": [
    "tokenizer = AutoTokenizer.from_pretrained('new_training/experiments/results/electra/best-epoch')\n",
    "model = AutoModelForSequenceClassification.from_pretrained('new_training/experiments/results/electra/best-epoch')"
   ]
  },
  {
   "cell_type": "code",
   "execution_count": null,
   "id": "9787fe76",
   "metadata": {
    "ExecuteTime": {
     "end_time": "2023-04-14T01:46:53.010557Z",
     "start_time": "2023-04-14T01:46:53.010529Z"
    }
   },
   "outputs": [],
   "source": [
    "test_generated.cards_pred.value_counts()"
   ]
  },
  {
   "cell_type": "code",
   "execution_count": null,
   "id": "2454196f",
   "metadata": {
    "ExecuteTime": {
     "end_time": "2023-04-14T01:46:53.012380Z",
     "start_time": "2023-04-14T01:46:53.012351Z"
    }
   },
   "outputs": [],
   "source": [
    "cards_data = data[data.DATASET==\"cards\"].copy(deep=True)"
   ]
  },
  {
   "cell_type": "code",
   "execution_count": null,
   "id": "a01e9065",
   "metadata": {
    "ExecuteTime": {
     "end_time": "2023-04-14T01:46:53.015032Z",
     "start_time": "2023-04-14T01:46:53.014996Z"
    }
   },
   "outputs": [],
   "source": [
    "cards_data.columns"
   ]
  },
  {
   "cell_type": "code",
   "execution_count": null,
   "id": "94db7a18",
   "metadata": {
    "ExecuteTime": {
     "end_time": "2023-04-14T01:46:53.017222Z",
     "start_time": "2023-04-14T01:46:53.017203Z"
    }
   },
   "outputs": [],
   "source": [
    "cards_data.cards_pred"
   ]
  },
  {
   "cell_type": "code",
   "execution_count": null,
   "id": "dba3313c",
   "metadata": {
    "ExecuteTime": {
     "end_time": "2023-04-14T01:46:53.024910Z",
     "start_time": "2023-04-14T01:46:53.024883Z"
    }
   },
   "outputs": [],
   "source": [
    "cards_data.columns"
   ]
  },
  {
   "cell_type": "code",
   "execution_count": null,
   "id": "a323510e",
   "metadata": {
    "ExecuteTime": {
     "end_time": "2023-04-14T01:46:53.027632Z",
     "start_time": "2023-04-14T01:46:53.027606Z"
    }
   },
   "outputs": [],
   "source": [
    "test.prompt.sample()"
   ]
  },
  {
   "cell_type": "code",
   "execution_count": null,
   "id": "8a9d0a9f",
   "metadata": {
    "ExecuteTime": {
     "end_time": "2023-04-14T01:46:53.029840Z",
     "start_time": "2023-04-14T01:46:53.029817Z"
    }
   },
   "outputs": [],
   "source": [
    "inputs = tokenizer(\n",
    "    \"@stevenburns131 Are you saying he DOESN'T believe in global warming/climate change?\", return_tensors=\"pt\")\n",
    "outputs = model(**inputs)\n",
    "last_hidden_states = outputs[0] \n",
    "last_hidden_states"
   ]
  },
  {
   "cell_type": "code",
   "execution_count": null,
   "id": "7315a8f1",
   "metadata": {
    "ExecuteTime": {
     "end_time": "2023-04-14T01:46:53.032003Z",
     "start_time": "2023-04-14T01:46:53.031985Z"
    }
   },
   "outputs": [],
   "source": [
    "inputs = tokenizer(\n",
    "    \"whatever thing\", return_tensors=\"pt\")\n",
    "outputs = model(**inputs)\n",
    "last_hidden_states = outputs[0] \n",
    "last_hidden_states"
   ]
  },
  {
   "cell_type": "markdown",
   "id": "ed87f17b",
   "metadata": {},
   "source": [
    "## Roberta"
   ]
  },
  {
   "cell_type": "code",
   "execution_count": null,
   "id": "05e2415b",
   "metadata": {
    "ExecuteTime": {
     "end_time": "2023-04-14T01:46:53.033925Z",
     "start_time": "2023-04-14T01:46:53.033899Z"
    }
   },
   "outputs": [],
   "source": [
    "def report(y_true, y_pred, scores, classes, matrix_display=True):\n",
    "    \n",
    "    acc = accuracy_score(y_true, y_pred)\n",
    "    \n",
    "    scores = np.stack(scores.values)\n",
    "    scores = scores[np.arange(scores.shape[0]), y_pred]\n",
    "    \n",
    "    fpr, tpr, thresholds = roc_curve(y_true, scores)    \n",
    "    roc_auc = auc(tpr, fpr)# multi_class=\"ovr\", average=\"macro\")\n",
    "\n",
    "    print(f\"Accuracy: {acc}\")\n",
    "    print(f\"AUC: {roc_auc}\")\n",
    "    \n",
    "    if matrix_display:\n",
    "        c_m = confusion_matrix(y_true, y_pred)\n",
    "        cmp = ConfusionMatrixDisplay(\n",
    "            c_m, display_labels=classes)\n",
    "        fig, ax = plt.subplots(figsize=(4,4))\n",
    "        cmp.plot(ax=ax)  \n",
    "    \n",
    "    report = pd.DataFrame(\n",
    "        classification_report(y_true, y_pred, target_names=classes, output_dict=True)).transpose()\n",
    "    \n",
    "    display(report)\n",
    "    \n",
    "target_names = [\"Not Misinformation\", \"Misinformation\"]\n",
    "# display(Markdown(\"**Waterloo-Cards**\"))\n",
    "scores = test['roberta_proba'].apply(lambda x: sum(x[1:]))\n",
    "# scores = test.apply(lambda x: x[f\"{model}_proba\"][x[f\"{model}_pred\"]], axis=1).values\n",
    "report(test.labels, test['roberta_pred'], test['roberta_proba'], target_names)"
   ]
  },
  {
   "cell_type": "code",
   "execution_count": null,
   "id": "4bc29cda",
   "metadata": {
    "ExecuteTime": {
     "end_time": "2023-04-14T01:46:53.035207Z",
     "start_time": "2023-04-14T01:46:53.035194Z"
    }
   },
   "outputs": [],
   "source": [
    "test_twitter = test[~test.tweetid.isna()]\n",
    "scores = test_twitter['roberta_new_pipe_proba'].apply(lambda x: sum(x[1:]))\n",
    "report(test_twitter.labels, test_twitter['roberta_new_pipe_pred'], scores, target_names)"
   ]
  },
  {
   "cell_type": "code",
   "execution_count": null,
   "id": "2068e06b",
   "metadata": {
    "ExecuteTime": {
     "end_time": "2023-04-14T01:46:53.036341Z",
     "start_time": "2023-04-14T01:46:53.036328Z"
    }
   },
   "outputs": [],
   "source": [
    "test_cards = test[test.tweetid.isna()]\n",
    "scores = test_cards['roberta_new_pipe_proba'].apply(lambda x: sum(x[1:]))\n",
    "report(test_cards.labels, test_cards['roberta_new_pipe_pred'], scores, target_names)"
   ]
  },
  {
   "cell_type": "code",
   "execution_count": null,
   "id": "a230b0c8",
   "metadata": {
    "ExecuteTime": {
     "end_time": "2023-04-14T01:46:53.038063Z",
     "start_time": "2023-04-14T01:46:53.038046Z"
    }
   },
   "outputs": [],
   "source": [
    "scores = test['roberta_cards_pipe_proba'].apply(lambda x: sum(x[1:]))\n",
    "report(test.labels, test['roberta_cards_pipe_pred'], scores, target_names)"
   ]
  },
  {
   "cell_type": "markdown",
   "id": "97278a55",
   "metadata": {},
   "source": [
    "## Bertweet"
   ]
  },
  {
   "cell_type": "code",
   "execution_count": null,
   "id": "86e83a03",
   "metadata": {
    "ExecuteTime": {
     "end_time": "2023-04-14T01:46:53.039242Z",
     "start_time": "2023-04-14T01:46:53.039229Z"
    }
   },
   "outputs": [],
   "source": [
    "target_names = [\"Not Misinformation\", \"Misinformation\"]\n",
    "# display(Markdown(\"**Waterloo-Cards**\"))\n",
    "scores = test['bertweet_proba'].apply(lambda x: sum(x[1:]))\n",
    "report(test.labels, test['bertweet_pred'], scores, target_names)"
   ]
  },
  {
   "cell_type": "code",
   "execution_count": null,
   "id": "c5794920",
   "metadata": {
    "ExecuteTime": {
     "end_time": "2023-04-14T01:46:53.040234Z",
     "start_time": "2023-04-14T01:46:53.040222Z"
    }
   },
   "outputs": [],
   "source": [
    "scores = test_twitter['bertweet_proba'].apply(lambda x: sum(x[1:]))\n",
    "report(test_twitter.labels, test_twitter['bertweet_pred'], scores, target_names)"
   ]
  },
  {
   "cell_type": "code",
   "execution_count": null,
   "id": "e40ec925",
   "metadata": {
    "ExecuteTime": {
     "end_time": "2023-04-14T01:46:53.041970Z",
     "start_time": "2023-04-14T01:46:53.041937Z"
    }
   },
   "outputs": [],
   "source": [
    "scores = test_cards['bertweet_proba'].apply(lambda x: sum(x[1:]))\n",
    "report(test_cards.labels, test_cards['bertweet_pred'], scores, target_names)"
   ]
  },
  {
   "cell_type": "markdown",
   "id": "525925fe",
   "metadata": {},
   "source": [
    "## Electra"
   ]
  },
  {
   "cell_type": "code",
   "execution_count": null,
   "id": "45af0500",
   "metadata": {
    "ExecuteTime": {
     "end_time": "2023-04-14T01:46:53.043291Z",
     "start_time": "2023-04-14T01:46:53.043277Z"
    }
   },
   "outputs": [],
   "source": [
    "data[\"PARTITION\"].value_counts()"
   ]
  },
  {
   "cell_type": "code",
   "execution_count": null,
   "id": "638d9e70",
   "metadata": {
    "ExecuteTime": {
     "end_time": "2023-04-14T01:46:53.044673Z",
     "start_time": "2023-04-14T01:46:53.044659Z"
    }
   },
   "outputs": [],
   "source": [
    "valid = data[data[\"PARTITION\"] == \"VALID\"]"
   ]
  },
  {
   "cell_type": "code",
   "execution_count": null,
   "id": "9f19adf6",
   "metadata": {
    "ExecuteTime": {
     "end_time": "2023-04-14T01:46:53.046021Z",
     "start_time": "2023-04-14T01:46:53.046008Z"
    }
   },
   "outputs": [],
   "source": [
    "valid.labels.value_counts()"
   ]
  },
  {
   "cell_type": "code",
   "execution_count": null,
   "id": "a4c0be40",
   "metadata": {
    "ExecuteTime": {
     "end_time": "2023-04-14T01:46:53.047408Z",
     "start_time": "2023-04-14T01:46:53.047394Z"
    }
   },
   "outputs": [],
   "source": [
    "(~valid.tweetid.isna()).value_counts()"
   ]
  },
  {
   "cell_type": "code",
   "execution_count": null,
   "id": "37ab1ab8",
   "metadata": {
    "ExecuteTime": {
     "end_time": "2023-04-14T01:46:53.049045Z",
     "start_time": "2023-04-14T01:46:53.049030Z"
    }
   },
   "outputs": [],
   "source": [
    "data[\"electra_acc_proba\"] = data[\"electra_acc_proba\"].apply(format_scores)"
   ]
  },
  {
   "cell_type": "code",
   "execution_count": null,
   "id": "8f0a91d3",
   "metadata": {
    "ExecuteTime": {
     "end_time": "2023-04-14T01:46:53.050891Z",
     "start_time": "2023-04-14T01:46:53.050861Z"
    }
   },
   "outputs": [],
   "source": [
    "scores = np.stack(data[\"electra_acc_proba\"].values)\n",
    "scores"
   ]
  },
  {
   "cell_type": "code",
   "execution_count": null,
   "id": "1220597c",
   "metadata": {
    "ExecuteTime": {
     "end_time": "2023-04-14T01:46:53.052559Z",
     "start_time": "2023-04-14T01:46:53.052537Z"
    }
   },
   "outputs": [],
   "source": [
    "# scores = valid['electra_proba'].apply(lambda x: sum(x[1:]))\n",
    "report(valid.labels, valid['electra_acc_pred'], valid['electra_acc_proba'], target_names)"
   ]
  },
  {
   "cell_type": "markdown",
   "id": "8954cf1b",
   "metadata": {},
   "source": [
    "## XLnet"
   ]
  },
  {
   "cell_type": "code",
   "execution_count": null,
   "id": "38d485de",
   "metadata": {
    "ExecuteTime": {
     "end_time": "2023-04-14T01:46:53.055074Z",
     "start_time": "2023-04-14T01:46:53.055050Z"
    }
   },
   "outputs": [],
   "source": [
    "scores = test['xlnet_proba'].apply(lambda x: sum(x[1:]))\n",
    "report(test.labels, test['xlnet_pred'], scores, target_names)"
   ]
  },
  {
   "cell_type": "markdown",
   "id": "aeb7861b",
   "metadata": {},
   "source": [
    "## GPT-3 Curie"
   ]
  },
  {
   "cell_type": "code",
   "execution_count": null,
   "id": "79d1ec55",
   "metadata": {
    "ExecuteTime": {
     "end_time": "2023-04-14T01:46:53.057221Z",
     "start_time": "2023-04-14T01:46:53.057198Z"
    }
   },
   "outputs": [],
   "source": [
    "filter_ = test['gpt-3_curie_pred'].isin(['0', '1'])\n",
    "filter_.value_counts(normalize=True)"
   ]
  },
  {
   "cell_type": "code",
   "execution_count": null,
   "id": "c1dba31a",
   "metadata": {
    "ExecuteTime": {
     "end_time": "2023-04-14T01:46:53.059059Z",
     "start_time": "2023-04-14T01:46:53.059039Z"
    }
   },
   "outputs": [],
   "source": [
    "test_filtered = test[filter_]"
   ]
  },
  {
   "cell_type": "code",
   "execution_count": null,
   "id": "d64658a0",
   "metadata": {
    "ExecuteTime": {
     "end_time": "2023-04-14T01:46:53.060440Z",
     "start_time": "2023-04-14T01:46:53.060406Z"
    }
   },
   "outputs": [],
   "source": [
    "data[\"gpt-3_curie_proba\"]"
   ]
  },
  {
   "cell_type": "code",
   "execution_count": null,
   "id": "98791abd",
   "metadata": {
    "ExecuteTime": {
     "end_time": "2023-04-14T01:46:53.062777Z",
     "start_time": "2023-04-14T01:46:53.062754Z"
    }
   },
   "outputs": [],
   "source": [
    "# scores = test_filtered.apply(\n",
    "#     lambda x: x['gpt-3_curie_proba'] if ['gpt-3_curie_pred']==0 else 1-x['gpt-3_curie_proba'], axis=1)\n",
    "report(test_filtered.labels, test_filtered['gpt-3_curie_pred'].apply(int), \n",
    "       test_filtered[\"gpt-3_curie_proba\"].values, target_names)"
   ]
  },
  {
   "cell_type": "code",
   "execution_count": null,
   "id": "a349e1f9",
   "metadata": {
    "ExecuteTime": {
     "end_time": "2023-04-14T01:46:53.064899Z",
     "start_time": "2023-04-14T01:46:53.064877Z"
    }
   },
   "outputs": [],
   "source": [
    "data_analysis = data[(data.labels==1) & (data.roberta_new_pipe_pred==0) & (data[\"gpt-3_curie_pred\"]=='1')][[\n",
    "    \"prompt\", \"roberta_new_pipe_pred\", \"gpt-3_curie_pred\"]]\n",
    "data_analysis"
   ]
  }
 ],
 "metadata": {
  "kernelspec": {
   "display_name": "Python 3 (ipykernel)",
   "language": "python",
   "name": "python3"
  },
  "language_info": {
   "codemirror_mode": {
    "name": "ipython",
    "version": 3
   },
   "file_extension": ".py",
   "mimetype": "text/x-python",
   "name": "python",
   "nbconvert_exporter": "python",
   "pygments_lexer": "ipython3",
   "version": "3.8.13"
  },
  "toc": {
   "base_numbering": 1,
   "nav_menu": {},
   "number_sections": true,
   "sideBar": true,
   "skip_h1_title": false,
   "title_cell": "Table of Contents",
   "title_sidebar": "Contents",
   "toc_cell": false,
   "toc_position": {
    "height": "calc(100% - 180px)",
    "left": "10px",
    "top": "150px",
    "width": "165px"
   },
   "toc_section_display": true,
   "toc_window_display": true
  }
 },
 "nbformat": 4,
 "nbformat_minor": 5
}
