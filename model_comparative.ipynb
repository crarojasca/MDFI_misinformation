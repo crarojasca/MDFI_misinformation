{
 "cells": [
  {
   "cell_type": "code",
   "execution_count": 14,
   "id": "d8778b2f",
   "metadata": {
    "ExecuteTime": {
     "end_time": "2023-02-07T07:07:56.678097Z",
     "start_time": "2023-02-07T07:07:55.779165Z"
    }
   },
   "outputs": [],
   "source": [
    "import os\n",
    "import re\n",
    "import math\n",
    "import pickle\n",
    "import numpy as np\n",
    "import pandas as pd\n",
    "\n",
    "from tqdm import tqdm\n",
    "from scipy.special import softmax\n",
    "# from utils import denoise_text, preprocess_text\n",
    "\n",
    "from sklearn.utils.class_weight import compute_class_weight \n",
    "from sklearn.metrics import f1_score, accuracy_score, precision_score, recall_score\n",
    "\n",
    "from matplotlib import pyplot as plt\n",
    "from sklearn.metrics import (\n",
    "    accuracy_score, roc_auc_score, \n",
    "    classification_report, confusion_matrix, ConfusionMatrixDisplay)\n",
    "\n",
    "from IPython.display import display, Markdown, Latex"
   ]
  },
  {
   "cell_type": "code",
   "execution_count": 15,
   "id": "5b71c319",
   "metadata": {
    "ExecuteTime": {
     "end_time": "2023-02-07T07:08:05.896064Z",
     "start_time": "2023-02-07T07:08:05.166138Z"
    }
   },
   "outputs": [
    {
     "data": {
      "text/html": [
       "<div>\n",
       "<style scoped>\n",
       "    .dataframe tbody tr th:only-of-type {\n",
       "        vertical-align: middle;\n",
       "    }\n",
       "\n",
       "    .dataframe tbody tr th {\n",
       "        vertical-align: top;\n",
       "    }\n",
       "\n",
       "    .dataframe thead th {\n",
       "        text-align: right;\n",
       "    }\n",
       "</style>\n",
       "<table border=\"1\" class=\"dataframe\">\n",
       "  <thead>\n",
       "    <tr style=\"text-align: right;\">\n",
       "      <th></th>\n",
       "      <th>prompt</th>\n",
       "      <th>claim</th>\n",
       "      <th>PARTITION</th>\n",
       "      <th>labels</th>\n",
       "      <th>sentiment</th>\n",
       "      <th>tweetid</th>\n",
       "      <th>roberta_preprocessed</th>\n",
       "      <th>roberta_pred</th>\n",
       "      <th>roberta_proba</th>\n",
       "      <th>DATASET</th>\n",
       "      <th>...</th>\n",
       "      <th>cards_pred</th>\n",
       "      <th>cards_proba</th>\n",
       "      <th>waterloo_pred</th>\n",
       "      <th>waterloo_proba</th>\n",
       "      <th>waterloo-cards_pred</th>\n",
       "      <th>waterloo-cards_proba</th>\n",
       "      <th>roberta_new_pipe_pred</th>\n",
       "      <th>roberta_new_pipe_proba</th>\n",
       "      <th>bertweet_pred</th>\n",
       "      <th>bertweet_proba</th>\n",
       "    </tr>\n",
       "  </thead>\n",
       "  <tbody>\n",
       "    <tr>\n",
       "      <th>40739</th>\n",
       "      <td>RT @YaleE360: As climate change rapidly melts ...</td>\n",
       "      <td>NaN</td>\n",
       "      <td>TRAIN</td>\n",
       "      <td>0</td>\n",
       "      <td>1.0</td>\n",
       "      <td>8.086728e+17</td>\n",
       "      <td>RT @YaleE360: As climate change rapidly melts ...</td>\n",
       "      <td>0_0</td>\n",
       "      <td>0.999204</td>\n",
       "      <td>waterloo</td>\n",
       "      <td>...</td>\n",
       "      <td>0</td>\n",
       "      <td>[9.99204935e-01 7.73551057e-05 7.82170590e-06 ...</td>\n",
       "      <td>0</td>\n",
       "      <td>[9.99992675e-01 7.32493648e-06]</td>\n",
       "      <td>0</td>\n",
       "      <td>[9.99971143e-01 2.88571184e-05]</td>\n",
       "      <td>0</td>\n",
       "      <td>[0.9999876022338867, 1.2355706530797761e-05]</td>\n",
       "      <td>0</td>\n",
       "      <td>[0.9999865293502808, 1.3520058018912096e-05]</td>\n",
       "    </tr>\n",
       "  </tbody>\n",
       "</table>\n",
       "<p>1 rows × 22 columns</p>\n",
       "</div>"
      ],
      "text/plain": [
       "                                                  prompt claim PARTITION  \\\n",
       "40739  RT @YaleE360: As climate change rapidly melts ...   NaN     TRAIN   \n",
       "\n",
       "       labels  sentiment       tweetid  \\\n",
       "40739       0        1.0  8.086728e+17   \n",
       "\n",
       "                                    roberta_preprocessed roberta_pred  \\\n",
       "40739  RT @YaleE360: As climate change rapidly melts ...          0_0   \n",
       "\n",
       "       roberta_proba   DATASET  ... cards_pred  \\\n",
       "40739       0.999204  waterloo  ...          0   \n",
       "\n",
       "                                             cards_proba  waterloo_pred  \\\n",
       "40739  [9.99204935e-01 7.73551057e-05 7.82170590e-06 ...              0   \n",
       "\n",
       "                        waterloo_proba  waterloo-cards_pred  \\\n",
       "40739  [9.99992675e-01 7.32493648e-06]                    0   \n",
       "\n",
       "                  waterloo-cards_proba  roberta_new_pipe_pred  \\\n",
       "40739  [9.99971143e-01 2.88571184e-05]                      0   \n",
       "\n",
       "                             roberta_new_pipe_proba  bertweet_pred  \\\n",
       "40739  [0.9999876022338867, 1.2355706530797761e-05]              0   \n",
       "\n",
       "                                     bertweet_proba  \n",
       "40739  [0.9999865293502808, 1.3520058018912096e-05]  \n",
       "\n",
       "[1 rows x 22 columns]"
      ]
     },
     "execution_count": 15,
     "metadata": {},
     "output_type": "execute_result"
    }
   ],
   "source": [
    "data = pd.read_csv(\"datasets/cards_waterloo.csv\", low_memory=False)\n",
    "data.sample()"
   ]
  },
  {
   "cell_type": "code",
   "execution_count": 19,
   "id": "0d8d5f8e",
   "metadata": {
    "ExecuteTime": {
     "end_time": "2023-02-07T07:08:29.747414Z",
     "start_time": "2023-02-07T07:08:21.841812Z"
    }
   },
   "outputs": [],
   "source": [
    "def format_scores(x):\n",
    "    return np.array(eval(re.sub(\",? +\", \" ,\", str(x).replace(\"\\n\", \"\"))))\n",
    "\n",
    "data[\"cards_proba\"] = data[\"cards_proba\"].apply(format_scores)\n",
    "data[\"waterloo_proba\"] = data[\"waterloo_proba\"].apply(format_scores)\n",
    "data[\"waterloo-cards_proba\"] = data[\"waterloo-cards_proba\"].apply(format_scores)\n",
    "data[\"roberta_new_pipe_proba\"] = data[\"waterloo-cards_proba\"].apply(format_scores)\n",
    "data[\"bertweet_proba\"] = data[\"bertweet_proba\"].apply(format_scores)"
   ]
  },
  {
   "cell_type": "code",
   "execution_count": 20,
   "id": "d4f6185b",
   "metadata": {
    "ExecuteTime": {
     "end_time": "2023-02-07T07:08:37.085249Z",
     "start_time": "2023-02-07T07:08:37.043686Z"
    }
   },
   "outputs": [],
   "source": [
    "test = data[data.PARTITION==\"TEST\"]"
   ]
  },
  {
   "cell_type": "markdown",
   "id": "956d5ebf",
   "metadata": {},
   "source": [
    "## Roberta"
   ]
  },
  {
   "cell_type": "code",
   "execution_count": 21,
   "id": "7af6634a",
   "metadata": {
    "ExecuteTime": {
     "end_time": "2023-02-07T07:10:15.770083Z",
     "start_time": "2023-02-07T07:10:15.568451Z"
    }
   },
   "outputs": [
    {
     "name": "stdout",
     "output_type": "stream",
     "text": [
      "Accuracy: 0.9395807644882861\n",
      "AUC: 0.9715538215398434\n"
     ]
    },
    {
     "data": {
      "text/html": [
       "<div>\n",
       "<style scoped>\n",
       "    .dataframe tbody tr th:only-of-type {\n",
       "        vertical-align: middle;\n",
       "    }\n",
       "\n",
       "    .dataframe tbody tr th {\n",
       "        vertical-align: top;\n",
       "    }\n",
       "\n",
       "    .dataframe thead th {\n",
       "        text-align: right;\n",
       "    }\n",
       "</style>\n",
       "<table border=\"1\" class=\"dataframe\">\n",
       "  <thead>\n",
       "    <tr style=\"text-align: right;\">\n",
       "      <th></th>\n",
       "      <th>precision</th>\n",
       "      <th>recall</th>\n",
       "      <th>f1-score</th>\n",
       "      <th>support</th>\n",
       "    </tr>\n",
       "  </thead>\n",
       "  <tbody>\n",
       "    <tr>\n",
       "      <th>Not Misinformation</th>\n",
       "      <td>0.954304</td>\n",
       "      <td>0.969739</td>\n",
       "      <td>0.961960</td>\n",
       "      <td>5750.000000</td>\n",
       "    </tr>\n",
       "    <tr>\n",
       "      <th>Misinformation</th>\n",
       "      <td>0.880495</td>\n",
       "      <td>0.827631</td>\n",
       "      <td>0.853245</td>\n",
       "      <td>1549.000000</td>\n",
       "    </tr>\n",
       "    <tr>\n",
       "      <th>accuracy</th>\n",
       "      <td>0.939581</td>\n",
       "      <td>0.939581</td>\n",
       "      <td>0.939581</td>\n",
       "      <td>0.939581</td>\n",
       "    </tr>\n",
       "    <tr>\n",
       "      <th>macro avg</th>\n",
       "      <td>0.917399</td>\n",
       "      <td>0.898685</td>\n",
       "      <td>0.907602</td>\n",
       "      <td>7299.000000</td>\n",
       "    </tr>\n",
       "    <tr>\n",
       "      <th>weighted avg</th>\n",
       "      <td>0.938640</td>\n",
       "      <td>0.939581</td>\n",
       "      <td>0.938888</td>\n",
       "      <td>7299.000000</td>\n",
       "    </tr>\n",
       "  </tbody>\n",
       "</table>\n",
       "</div>"
      ],
      "text/plain": [
       "                    precision    recall  f1-score      support\n",
       "Not Misinformation   0.954304  0.969739  0.961960  5750.000000\n",
       "Misinformation       0.880495  0.827631  0.853245  1549.000000\n",
       "accuracy             0.939581  0.939581  0.939581     0.939581\n",
       "macro avg            0.917399  0.898685  0.907602  7299.000000\n",
       "weighted avg         0.938640  0.939581  0.938888  7299.000000"
      ]
     },
     "execution_count": 21,
     "metadata": {},
     "output_type": "execute_result"
    },
    {
     "data": {
      "image/png": "[encoded data removed]",
      "text/plain": [
       "<Figure size 288x288 with 2 Axes>"
      ]
     },
     "metadata": {
      "needs_background": "light"
     },
     "output_type": "display_data"
    }
   ],
   "source": [
    "def report(y_true, y_pred, scores,  classes):\n",
    "    \n",
    "    acc = accuracy_score(y_true, y_pred)\n",
    "    roc_auc = roc_auc_score(y_true, scores, multi_class=\"ovr\", average=\"macro\")\n",
    "\n",
    "    print(f\"Accuracy: {acc}\")\n",
    "    print(f\"AUC: {roc_auc}\")\n",
    "    \n",
    "    c_m = confusion_matrix(y_true, y_pred)\n",
    "    cmp = ConfusionMatrixDisplay(\n",
    "        c_m, display_labels=classes)\n",
    "    fig, ax = plt.subplots(figsize=(4,4))\n",
    "    cmp.plot(ax=ax)  \n",
    "    \n",
    "    return pd.DataFrame(classification_report(y_true, y_pred, target_names=classes, output_dict=True)).transpose()\n",
    "    \n",
    "target_names = [\"Not Misinformation\", \"Misinformation\"]\n",
    "# display(Markdown(\"**Waterloo-Cards**\"))\n",
    "scores = test['roberta_new_pipe_proba'].apply(lambda x: sum(x[1:]))\n",
    "report(test.labels, test['roberta_new_pipe_pred'], scores, target_names)"
   ]
  },
  {
   "cell_type": "code",
   "execution_count": 25,
   "id": "f1794e0a",
   "metadata": {},
   "outputs": [
    {
     "name": "stdout",
     "output_type": "stream",
     "text": [
      "Accuracy: 0.9635949943117179\n",
      "AUC: 0.9695234081198993\n"
     ]
    },
    {
     "data": {
      "text/html": [
       "<div>\n",
       "<style scoped>\n",
       "    .dataframe tbody tr th:only-of-type {\n",
       "        vertical-align: middle;\n",
       "    }\n",
       "\n",
       "    .dataframe tbody tr th {\n",
       "        vertical-align: top;\n",
       "    }\n",
       "\n",
       "    .dataframe thead th {\n",
       "        text-align: right;\n",
       "    }\n",
       "</style>\n",
       "<table border=\"1\" class=\"dataframe\">\n",
       "  <thead>\n",
       "    <tr style=\"text-align: right;\">\n",
       "      <th></th>\n",
       "      <th>precision</th>\n",
       "      <th>recall</th>\n",
       "      <th>f1-score</th>\n",
       "      <th>support</th>\n",
       "    </tr>\n",
       "  </thead>\n",
       "  <tbody>\n",
       "    <tr>\n",
       "      <th>Not Misinformation</th>\n",
       "      <td>0.979260</td>\n",
       "      <td>0.980731</td>\n",
       "      <td>0.979995</td>\n",
       "      <td>3996.000000</td>\n",
       "    </tr>\n",
       "    <tr>\n",
       "      <th>Misinformation</th>\n",
       "      <td>0.804071</td>\n",
       "      <td>0.791980</td>\n",
       "      <td>0.797980</td>\n",
       "      <td>399.000000</td>\n",
       "    </tr>\n",
       "    <tr>\n",
       "      <th>accuracy</th>\n",
       "      <td>0.963595</td>\n",
       "      <td>0.963595</td>\n",
       "      <td>0.963595</td>\n",
       "      <td>0.963595</td>\n",
       "    </tr>\n",
       "    <tr>\n",
       "      <th>macro avg</th>\n",
       "      <td>0.891666</td>\n",
       "      <td>0.886355</td>\n",
       "      <td>0.888987</td>\n",
       "      <td>4395.000000</td>\n",
       "    </tr>\n",
       "    <tr>\n",
       "      <th>weighted avg</th>\n",
       "      <td>0.963356</td>\n",
       "      <td>0.963595</td>\n",
       "      <td>0.963471</td>\n",
       "      <td>4395.000000</td>\n",
       "    </tr>\n",
       "  </tbody>\n",
       "</table>\n",
       "</div>"
      ],
      "text/plain": [
       "                    precision    recall  f1-score      support\n",
       "Not Misinformation   0.979260  0.980731  0.979995  3996.000000\n",
       "Misinformation       0.804071  0.791980  0.797980   399.000000\n",
       "accuracy             0.963595  0.963595  0.963595     0.963595\n",
       "macro avg            0.891666  0.886355  0.888987  4395.000000\n",
       "weighted avg         0.963356  0.963595  0.963471  4395.000000"
      ]
     },
     "execution_count": 25,
     "metadata": {},
     "output_type": "execute_result"
    },
    {
     "data": {
      "image/png": "[encoded data removed]",
      "text/plain": [
       "<Figure size 288x288 with 2 Axes>"
      ]
     },
     "metadata": {
      "needs_background": "light"
     },
     "output_type": "display_data"
    }
   ],
   "source": [
    "test_twitter = test[~test.tweetid.isna()]\n",
    "scores = test_twitter['roberta_new_pipe_proba'].apply(lambda x: sum(x[1:]))\n",
    "report(test_twitter.labels, test_twitter['roberta_new_pipe_pred'], scores, target_names)"
   ]
  },
  {
   "cell_type": "code",
   "execution_count": 28,
   "id": "541885f5",
   "metadata": {},
   "outputs": [
    {
     "name": "stdout",
     "output_type": "stream",
     "text": [
      "Accuracy: 0.903236914600551\n",
      "AUC: 0.961584700808091\n"
     ]
    },
    {
     "data": {
      "text/html": [
       "<div>\n",
       "<style scoped>\n",
       "    .dataframe tbody tr th:only-of-type {\n",
       "        vertical-align: middle;\n",
       "    }\n",
       "\n",
       "    .dataframe tbody tr th {\n",
       "        vertical-align: top;\n",
       "    }\n",
       "\n",
       "    .dataframe thead th {\n",
       "        text-align: right;\n",
       "    }\n",
       "</style>\n",
       "<table border=\"1\" class=\"dataframe\">\n",
       "  <thead>\n",
       "    <tr style=\"text-align: right;\">\n",
       "      <th></th>\n",
       "      <th>precision</th>\n",
       "      <th>recall</th>\n",
       "      <th>f1-score</th>\n",
       "      <th>support</th>\n",
       "    </tr>\n",
       "  </thead>\n",
       "  <tbody>\n",
       "    <tr>\n",
       "      <th>Not Misinformation</th>\n",
       "      <td>0.900054</td>\n",
       "      <td>0.944698</td>\n",
       "      <td>0.921836</td>\n",
       "      <td>1754.000000</td>\n",
       "    </tr>\n",
       "    <tr>\n",
       "      <th>Misinformation</th>\n",
       "      <td>0.908749</td>\n",
       "      <td>0.840000</td>\n",
       "      <td>0.873023</td>\n",
       "      <td>1150.000000</td>\n",
       "    </tr>\n",
       "    <tr>\n",
       "      <th>accuracy</th>\n",
       "      <td>0.903237</td>\n",
       "      <td>0.903237</td>\n",
       "      <td>0.903237</td>\n",
       "      <td>0.903237</td>\n",
       "    </tr>\n",
       "    <tr>\n",
       "      <th>macro avg</th>\n",
       "      <td>0.904402</td>\n",
       "      <td>0.892349</td>\n",
       "      <td>0.897429</td>\n",
       "      <td>2904.000000</td>\n",
       "    </tr>\n",
       "    <tr>\n",
       "      <th>weighted avg</th>\n",
       "      <td>0.903497</td>\n",
       "      <td>0.903237</td>\n",
       "      <td>0.902506</td>\n",
       "      <td>2904.000000</td>\n",
       "    </tr>\n",
       "  </tbody>\n",
       "</table>\n",
       "</div>"
      ],
      "text/plain": [
       "                    precision    recall  f1-score      support\n",
       "Not Misinformation   0.900054  0.944698  0.921836  1754.000000\n",
       "Misinformation       0.908749  0.840000  0.873023  1150.000000\n",
       "accuracy             0.903237  0.903237  0.903237     0.903237\n",
       "macro avg            0.904402  0.892349  0.897429  2904.000000\n",
       "weighted avg         0.903497  0.903237  0.902506  2904.000000"
      ]
     },
     "execution_count": 28,
     "metadata": {},
     "output_type": "execute_result"
    },
    {
     "data": {
      "image/png": "[encoded data removed]",
      "text/plain": [
       "<Figure size 288x288 with 2 Axes>"
      ]
     },
     "metadata": {
      "needs_background": "light"
     },
     "output_type": "display_data"
    }
   ],
   "source": [
    "test_cards = test[test.tweetid.isna()]\n",
    "scores = test_cards['roberta_new_pipe_proba'].apply(lambda x: sum(x[1:]))\n",
    "report(test_cards.labels, test_cards['roberta_new_pipe_pred'], scores, target_names)"
   ]
  },
  {
   "cell_type": "markdown",
   "id": "6a6a41e0",
   "metadata": {},
   "source": [
    "## Bertweet"
   ]
  },
  {
   "cell_type": "code",
   "execution_count": 29,
   "id": "aa05a418",
   "metadata": {},
   "outputs": [
    {
     "name": "stdout",
     "output_type": "stream",
     "text": [
      "Accuracy: 0.935881627620222\n",
      "AUC: 0.9721501670081679\n"
     ]
    },
    {
     "data": {
      "text/html": [
       "<div>\n",
       "<style scoped>\n",
       "    .dataframe tbody tr th:only-of-type {\n",
       "        vertical-align: middle;\n",
       "    }\n",
       "\n",
       "    .dataframe tbody tr th {\n",
       "        vertical-align: top;\n",
       "    }\n",
       "\n",
       "    .dataframe thead th {\n",
       "        text-align: right;\n",
       "    }\n",
       "</style>\n",
       "<table border=\"1\" class=\"dataframe\">\n",
       "  <thead>\n",
       "    <tr style=\"text-align: right;\">\n",
       "      <th></th>\n",
       "      <th>precision</th>\n",
       "      <th>recall</th>\n",
       "      <th>f1-score</th>\n",
       "      <th>support</th>\n",
       "    </tr>\n",
       "  </thead>\n",
       "  <tbody>\n",
       "    <tr>\n",
       "      <th>Not Misinformation</th>\n",
       "      <td>0.950683</td>\n",
       "      <td>0.968870</td>\n",
       "      <td>0.959690</td>\n",
       "      <td>5750.000000</td>\n",
       "    </tr>\n",
       "    <tr>\n",
       "      <th>Misinformation</th>\n",
       "      <td>0.875608</td>\n",
       "      <td>0.813428</td>\n",
       "      <td>0.843373</td>\n",
       "      <td>1549.000000</td>\n",
       "    </tr>\n",
       "    <tr>\n",
       "      <th>accuracy</th>\n",
       "      <td>0.935882</td>\n",
       "      <td>0.935882</td>\n",
       "      <td>0.935882</td>\n",
       "      <td>0.935882</td>\n",
       "    </tr>\n",
       "    <tr>\n",
       "      <th>macro avg</th>\n",
       "      <td>0.913145</td>\n",
       "      <td>0.891149</td>\n",
       "      <td>0.901532</td>\n",
       "      <td>7299.000000</td>\n",
       "    </tr>\n",
       "    <tr>\n",
       "      <th>weighted avg</th>\n",
       "      <td>0.934750</td>\n",
       "      <td>0.935882</td>\n",
       "      <td>0.935005</td>\n",
       "      <td>7299.000000</td>\n",
       "    </tr>\n",
       "  </tbody>\n",
       "</table>\n",
       "</div>"
      ],
      "text/plain": [
       "                    precision    recall  f1-score      support\n",
       "Not Misinformation   0.950683  0.968870  0.959690  5750.000000\n",
       "Misinformation       0.875608  0.813428  0.843373  1549.000000\n",
       "accuracy             0.935882  0.935882  0.935882     0.935882\n",
       "macro avg            0.913145  0.891149  0.901532  7299.000000\n",
       "weighted avg         0.934750  0.935882  0.935005  7299.000000"
      ]
     },
     "execution_count": 29,
     "metadata": {},
     "output_type": "execute_result"
    },
    {
     "data": {
      "image/png": "[encoded data removed]",
      "text/plain": [
       "<Figure size 288x288 with 2 Axes>"
      ]
     },
     "metadata": {
      "needs_background": "light"
     },
     "output_type": "display_data"
    }
   ],
   "source": [
    "target_names = [\"Not Misinformation\", \"Misinformation\"]\n",
    "# display(Markdown(\"**Waterloo-Cards**\"))\n",
    "scores = test['bertweet_proba'].apply(lambda x: sum(x[1:]))\n",
    "report(test.labels, test['bertweet_pred'], scores, target_names)"
   ]
  },
  {
   "cell_type": "code",
   "execution_count": 30,
   "id": "a63d5d73",
   "metadata": {},
   "outputs": [
    {
     "name": "stdout",
     "output_type": "stream",
     "text": [
      "Accuracy: 0.9620022753128555\n",
      "AUC: 0.9724009724009725\n"
     ]
    },
    {
     "data": {
      "text/html": [
       "<div>\n",
       "<style scoped>\n",
       "    .dataframe tbody tr th:only-of-type {\n",
       "        vertical-align: middle;\n",
       "    }\n",
       "\n",
       "    .dataframe tbody tr th {\n",
       "        vertical-align: top;\n",
       "    }\n",
       "\n",
       "    .dataframe thead th {\n",
       "        text-align: right;\n",
       "    }\n",
       "</style>\n",
       "<table border=\"1\" class=\"dataframe\">\n",
       "  <thead>\n",
       "    <tr style=\"text-align: right;\">\n",
       "      <th></th>\n",
       "      <th>precision</th>\n",
       "      <th>recall</th>\n",
       "      <th>f1-score</th>\n",
       "      <th>support</th>\n",
       "    </tr>\n",
       "  </thead>\n",
       "  <tbody>\n",
       "    <tr>\n",
       "      <th>Not Misinformation</th>\n",
       "      <td>0.977312</td>\n",
       "      <td>0.980981</td>\n",
       "      <td>0.979143</td>\n",
       "      <td>3996.000000</td>\n",
       "    </tr>\n",
       "    <tr>\n",
       "      <th>Misinformation</th>\n",
       "      <td>0.802083</td>\n",
       "      <td>0.771930</td>\n",
       "      <td>0.786718</td>\n",
       "      <td>399.000000</td>\n",
       "    </tr>\n",
       "    <tr>\n",
       "      <th>accuracy</th>\n",
       "      <td>0.962002</td>\n",
       "      <td>0.962002</td>\n",
       "      <td>0.962002</td>\n",
       "      <td>0.962002</td>\n",
       "    </tr>\n",
       "    <tr>\n",
       "      <th>macro avg</th>\n",
       "      <td>0.889698</td>\n",
       "      <td>0.876455</td>\n",
       "      <td>0.882931</td>\n",
       "      <td>4395.000000</td>\n",
       "    </tr>\n",
       "    <tr>\n",
       "      <th>weighted avg</th>\n",
       "      <td>0.961404</td>\n",
       "      <td>0.962002</td>\n",
       "      <td>0.961674</td>\n",
       "      <td>4395.000000</td>\n",
       "    </tr>\n",
       "  </tbody>\n",
       "</table>\n",
       "</div>"
      ],
      "text/plain": [
       "                    precision    recall  f1-score      support\n",
       "Not Misinformation   0.977312  0.980981  0.979143  3996.000000\n",
       "Misinformation       0.802083  0.771930  0.786718   399.000000\n",
       "accuracy             0.962002  0.962002  0.962002     0.962002\n",
       "macro avg            0.889698  0.876455  0.882931  4395.000000\n",
       "weighted avg         0.961404  0.962002  0.961674  4395.000000"
      ]
     },
     "execution_count": 30,
     "metadata": {},
     "output_type": "execute_result"
    },
    {
     "data": {
      "image/png": "[encoded data removed]",
      "text/plain": [
       "<Figure size 288x288 with 2 Axes>"
      ]
     },
     "metadata": {
      "needs_background": "light"
     },
     "output_type": "display_data"
    }
   ],
   "source": [
    "scores = test_twitter['bertweet_proba'].apply(lambda x: sum(x[1:]))\n",
    "report(test_twitter.labels, test_twitter['bertweet_pred'], scores, target_names)"
   ]
  },
  {
   "cell_type": "code",
   "execution_count": 31,
   "id": "68cc06b3",
   "metadata": {},
   "outputs": [
    {
     "name": "stdout",
     "output_type": "stream",
     "text": [
      "Accuracy: 0.8963498622589532\n",
      "AUC: 0.9585196569332208\n"
     ]
    },
    {
     "data": {
      "text/html": [
       "<div>\n",
       "<style scoped>\n",
       "    .dataframe tbody tr th:only-of-type {\n",
       "        vertical-align: middle;\n",
       "    }\n",
       "\n",
       "    .dataframe tbody tr th {\n",
       "        vertical-align: top;\n",
       "    }\n",
       "\n",
       "    .dataframe thead th {\n",
       "        text-align: right;\n",
       "    }\n",
       "</style>\n",
       "<table border=\"1\" class=\"dataframe\">\n",
       "  <thead>\n",
       "    <tr style=\"text-align: right;\">\n",
       "      <th></th>\n",
       "      <th>precision</th>\n",
       "      <th>recall</th>\n",
       "      <th>f1-score</th>\n",
       "      <th>support</th>\n",
       "    </tr>\n",
       "  </thead>\n",
       "  <tbody>\n",
       "    <tr>\n",
       "      <th>Not Misinformation</th>\n",
       "      <td>0.892915</td>\n",
       "      <td>0.941277</td>\n",
       "      <td>0.916459</td>\n",
       "      <td>1754.00000</td>\n",
       "    </tr>\n",
       "    <tr>\n",
       "      <th>Misinformation</th>\n",
       "      <td>0.902370</td>\n",
       "      <td>0.827826</td>\n",
       "      <td>0.863492</td>\n",
       "      <td>1150.00000</td>\n",
       "    </tr>\n",
       "    <tr>\n",
       "      <th>accuracy</th>\n",
       "      <td>0.896350</td>\n",
       "      <td>0.896350</td>\n",
       "      <td>0.896350</td>\n",
       "      <td>0.89635</td>\n",
       "    </tr>\n",
       "    <tr>\n",
       "      <th>macro avg</th>\n",
       "      <td>0.897642</td>\n",
       "      <td>0.884552</td>\n",
       "      <td>0.889975</td>\n",
       "      <td>2904.00000</td>\n",
       "    </tr>\n",
       "    <tr>\n",
       "      <th>weighted avg</th>\n",
       "      <td>0.896659</td>\n",
       "      <td>0.896350</td>\n",
       "      <td>0.895484</td>\n",
       "      <td>2904.00000</td>\n",
       "    </tr>\n",
       "  </tbody>\n",
       "</table>\n",
       "</div>"
      ],
      "text/plain": [
       "                    precision    recall  f1-score     support\n",
       "Not Misinformation   0.892915  0.941277  0.916459  1754.00000\n",
       "Misinformation       0.902370  0.827826  0.863492  1150.00000\n",
       "accuracy             0.896350  0.896350  0.896350     0.89635\n",
       "macro avg            0.897642  0.884552  0.889975  2904.00000\n",
       "weighted avg         0.896659  0.896350  0.895484  2904.00000"
      ]
     },
     "execution_count": 31,
     "metadata": {},
     "output_type": "execute_result"
    },
    {
     "data": {
      "image/png": "[encoded data removed]",
      "text/plain": [
       "<Figure size 288x288 with 2 Axes>"
      ]
     },
     "metadata": {
      "needs_background": "light"
     },
     "output_type": "display_data"
    }
   ],
   "source": [
    "scores = test_cards['bertweet_proba'].apply(lambda x: sum(x[1:]))\n",
    "report(test_cards.labels, test_cards['bertweet_pred'], scores, target_names)"
   ]
  },
  {
   "cell_type": "code",
   "execution_count": null,
   "id": "d5c2388b",
   "metadata": {},
   "outputs": [],
   "source": []
  }
 ],
 "metadata": {
  "kernelspec": {
   "display_name": "Python 3",
   "language": "python",
   "name": "python3"
  },
  "language_info": {
   "codemirror_mode": {
    "name": "ipython",
    "version": 3
   },
   "file_extension": ".py",
   "mimetype": "text/x-python",
   "name": "python",
   "nbconvert_exporter": "python",
   "pygments_lexer": "ipython3",
   "version": "3.6.9"
  },
  "toc": {
   "base_numbering": 1,
   "nav_menu": {},
   "number_sections": true,
   "sideBar": true,
   "skip_h1_title": false,
   "title_cell": "Table of Contents",
   "title_sidebar": "Contents",
   "toc_cell": false,
   "toc_position": {},
   "toc_section_display": true,
   "toc_window_display": false
  }
 },
 "nbformat": 4,
 "nbformat_minor": 5
}
