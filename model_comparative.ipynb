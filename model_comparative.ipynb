{
 "cells": [
  {
   "cell_type": "code",
   "execution_count": 1,
   "id": "01854fc6",
   "metadata": {
    "ExecuteTime": {
     "end_time": "2023-07-19T12:51:46.282894Z",
     "start_time": "2023-07-19T12:51:45.510193Z"
    }
   },
   "outputs": [],
   "source": [
    "import os\n",
    "import re\n",
    "import math\n",
    "import pickle\n",
    "import numpy as np\n",
    "import pandas as pd\n",
    "\n",
    "from tqdm import tqdm\n",
    "from scipy.special import softmax\n",
    "# from utils import denoise_text, preprocess_text\n",
    "\n",
    "from sklearn.metrics import auc, roc_curve, RocCurveDisplay\n",
    "from sklearn.utils.class_weight import compute_class_weight \n",
    "from sklearn.metrics import f1_score, accuracy_score, precision_score, recall_score\n",
    "\n",
    "from matplotlib import pyplot as plt\n",
    "from sklearn.metrics import (\n",
    "    accuracy_score, roc_auc_score, \n",
    "    f1_score, accuracy_score, precision_score, recall_score,\n",
    "    classification_report, confusion_matrix, ConfusionMatrixDisplay)\n",
    "\n",
    "from IPython.display import display, Markdown, Latex\n",
    "\n",
    "pd.set_option('display.max_colwidth', None)\n",
    "\n",
    "import warnings\n",
    "warnings.filterwarnings('ignore')"
   ]
  },
  {
   "cell_type": "code",
   "execution_count": 2,
   "id": "f4f1c248",
   "metadata": {
    "ExecuteTime": {
     "end_time": "2023-07-19T12:51:46.286312Z",
     "start_time": "2023-07-19T12:51:46.284239Z"
    }
   },
   "outputs": [],
   "source": [
    "FILE = \"datasets/cards_waterloo.csv\""
   ]
  },
  {
   "cell_type": "code",
   "execution_count": 3,
   "id": "25681e98",
   "metadata": {
    "ExecuteTime": {
     "end_time": "2023-07-19T12:51:47.146539Z",
     "start_time": "2023-07-19T12:51:46.287415Z"
    }
   },
   "outputs": [],
   "source": [
    "data = pd.read_csv(FILE, low_memory=False)"
   ]
  },
  {
   "cell_type": "code",
   "execution_count": 4,
   "id": "cf27ef43",
   "metadata": {
    "ExecuteTime": {
     "end_time": "2023-07-19T12:51:47.150370Z",
     "start_time": "2023-07-19T12:51:47.148097Z"
    }
   },
   "outputs": [],
   "source": [
    "# Load label encoder\n",
    "with open('cards/models/label_encoder.pkl', 'rb') as f:\n",
    "    le = pickle.load(f)"
   ]
  },
  {
   "cell_type": "code",
   "execution_count": 5,
   "id": "473f7ce8",
   "metadata": {
    "ExecuteTime": {
     "end_time": "2023-07-19T12:51:47.565876Z",
     "start_time": "2023-07-19T12:51:47.151455Z"
    },
    "scrolled": true
   },
   "outputs": [
    {
     "name": "stdout",
     "output_type": "stream",
     "text": [
      "0_V1\n"
     ]
    },
    {
     "ename": "NameError",
     "evalue": "name 'classification_report_df' is not defined",
     "output_type": "error",
     "traceback": [
      "\u001b[0;31m---------------------------------------------------------------------------\u001b[0m",
      "\u001b[0;31mNameError\u001b[0m                                 Traceback (most recent call last)",
      "Input \u001b[0;32mIn [5]\u001b[0m, in \u001b[0;36m<cell line: 21>\u001b[0;34m()\u001b[0m\n\u001b[1;32m     30\u001b[0m y_pred \u001b[38;5;241m=\u001b[39m augmented_cards_partition[\u001b[38;5;124mf\u001b[39m\u001b[38;5;124m\"\u001b[39m\u001b[38;5;124mcards_aug_pred\u001b[39m\u001b[38;5;124m\"\u001b[39m]\u001b[38;5;241m.\u001b[39mvalues\n\u001b[1;32m     32\u001b[0m \u001b[38;5;28;01mif\u001b[39;00m p \u001b[38;5;129;01mnot\u001b[39;00m \u001b[38;5;129;01min\u001b[39;00m reports: reports[p]\u001b[38;5;241m=\u001b[39m[]\n\u001b[0;32m---> 33\u001b[0m report \u001b[38;5;241m=\u001b[39m \u001b[43mclassification_report_df\u001b[49m(y_true, y_pred)\n\u001b[1;32m     34\u001b[0m reports[p]\u001b[38;5;241m.\u001b[39mappend(report)\n\u001b[1;32m     36\u001b[0m \u001b[38;5;28;01mif\u001b[39;00m p \u001b[38;5;129;01mnot\u001b[39;00m \u001b[38;5;129;01min\u001b[39;00m f1_scores: f1_scores[p]\u001b[38;5;241m=\u001b[39m[]\n",
      "\u001b[0;31mNameError\u001b[0m: name 'classification_report_df' is not defined"
     ]
    }
   ],
   "source": [
    "# list_samples = [0, 50, 100, 200, 300, 400, \"400V2\", 500, 700, 1000]\n",
    "seed = \"9834838408490912248\"\n",
    "list_samples = [\"0V1\", \"400V1\"]\n",
    "# \"50_V2\", \"50_V3\"\n",
    "list_samples = [\n",
    "#     \"0_V1\", \"50_V1\", \"50_V2\", \"50_V2.1\", \"100_V2\", \"200_V2\"\n",
    "    \"0_V1\", \n",
    "    \"0_V1_SimCSE_RANDOM_hard_negatives\", \"0_V1_SimCSE_SAME_BRANCH_hard_negatives\",\n",
    "    \"50_SimCSE_SAME_BRANCH_5_hard_negatives\",\n",
    "    \"50_V1\", \"50_V2\", \"50_V4\", \n",
    "#     \"50_V4_base\", \n",
    "    \"50_GPT-4_V3\",\n",
    "#     \"50_V4_SimCSE_base\", \"50_V4_SimCSE_unsupervised\", \"50_V4_subsampled\", \"50_V4_SimCSE_RANDOM_hard_negatives\",\n",
    "#     \"50_V4_new_pipe\", \n",
    "    \"100_V2\", \"500_V2\", \"100_V3\", \"500_V3\", \"GPT-4_V2\"\n",
    "]\n",
    "partition = [\"TRAIN\", \"VALID\", \"TEST\"]\n",
    "f1_scores = {}\n",
    "reports = {}\n",
    "cards_data = data[(data.DATASET==\"cards\")].copy(deep=True)\n",
    "for n in list_samples:\n",
    "    print(n)\n",
    "\n",
    "    augmented_cards = pd.read_csv(f\"datasets/augmented/{seed}/cards_augmented_{n}.csv\")\n",
    "\n",
    "    for p in partition:\n",
    "        augmented_cards_partition = augmented_cards[augmented_cards.PARTITION==p]\n",
    "\n",
    "        y_true = augmented_cards_partition.claim.values\n",
    "        y_pred = augmented_cards_partition[f\"cards_aug_pred\"].values\n",
    "            \n",
    "        if p not in reports: reports[p]=[]\n",
    "        report = classification_report_df(y_true, y_pred)\n",
    "        reports[p].append(report)\n",
    "\n",
    "        if p not in f1_scores: f1_scores[p]=[]\n",
    "        f1_scores[p].append(f1_score(y_true, y_pred, average='macro'))"
   ]
  },
  {
   "cell_type": "code",
   "execution_count": null,
   "id": "65635d83",
   "metadata": {
    "ExecuteTime": {
     "end_time": "2023-07-19T12:51:47.568239Z",
     "start_time": "2023-07-19T12:51:47.568231Z"
    }
   },
   "outputs": [],
   "source": [
    "resumen = pd.DataFrame(f1_scores, index=list_samples).T\n",
    "resumen = resumen[[\"0_V1\", \"50_V1\", \"50_V2\", \"50_V4\", \"100_V2\", \"500_V2\"]]\n",
    "\n",
    "cols = {}\n",
    "for c in resumen.columns:\n",
    "    if \"V1\" in c:\n",
    "        cols[c] = c.replace(\"V1\", \"CHATGPT_V1\")\n",
    "    elif \"V2\" in c:\n",
    "        cols[c] = c.replace(\"V2\", \"CHATGPT_V2\")\n",
    "    elif \"V3\" in c:\n",
    "        cols[c] = c.replace(\"V3\", \"GPT-4-TEST\")\n",
    "    elif \"V4\" in c:\n",
    "        cols[c] = c.replace(\"V4\", \"GPT-4\")\n",
    "\n",
    "resumen = resumen.rename(columns=cols)\n",
    "resumen"
   ]
  },
  {
   "cell_type": "code",
   "execution_count": null,
   "id": "0bda9ee7",
   "metadata": {
    "ExecuteTime": {
     "end_time": "2023-07-19T12:51:47.568824Z",
     "start_time": "2023-07-19T12:51:47.568817Z"
    }
   },
   "outputs": [],
   "source": [
    "resumen = pd.DataFrame(f1_scores, index=list_samples).T\n",
    "resumen = resumen[[\n",
    "    \"0_V1\", \"0_V1_SimCSE_RANDOM_hard_negatives\", \"0_V1_SimCSE_SAME_BRANCH_hard_negatives\", \n",
    "    \"50_SimCSE_SAME_BRANCH_5_hard_negatives\"]]\n",
    "resumen = resumen.rename(columns={\n",
    "    \"0_V1\": \"CARDS\",\n",
    "    \"0_V1_SimCSE_RANDOM_hard_negatives\": \"RANDOM (1)\",\n",
    "    \"0_V1_SimCSE_SAME_BRANCH_hard_negatives\": \"SAME BRANCH (1)\",\n",
    "    \"50_SimCSE_SAME_BRANCH_5_hard_negatives\": \"SAME BRANCH (2)\"\n",
    "})\n",
    "resumen"
   ]
  },
  {
   "cell_type": "code",
   "execution_count": null,
   "id": "35fae4c0",
   "metadata": {
    "ExecuteTime": {
     "end_time": "2023-07-19T12:51:47.569443Z",
     "start_time": "2023-07-19T12:51:47.569436Z"
    }
   },
   "outputs": [],
   "source": [
    "resumen = pd.DataFrame(f1_scores, index=list_samples).T\n",
    "resumen = resumen[[\n",
    "    \"0_V1\", \"50_V4\", \"50_GPT-4_V3\"]]\n",
    "resumen = resumen.rename(columns={\n",
    "    \"0_V1\": \"CARDS\",\n",
    "    \"50_V4\": \"GPT-4 (1)\",\n",
    "    \"50_GPT-4_V3\": \"GPT-4 (2)\",\n",
    "})\n",
    "resumen"
   ]
  },
  {
   "cell_type": "code",
   "execution_count": null,
   "id": "63e71265",
   "metadata": {
    "ExecuteTime": {
     "end_time": "2023-07-19T12:51:47.570049Z",
     "start_time": "2023-07-19T12:51:47.570042Z"
    }
   },
   "outputs": [],
   "source": [
    "def styling(data):\n",
    "    red = 'background-color: #f8d2d2'\n",
    "    green = 'background-color: #d2f8d2'\n",
    "    if data.name==\"diff\":\n",
    "        return [red if float(v)<0 else green for v in data]\n",
    "    return [None for v in data]\n",
    "\n",
    "submpling_exp = resumen[[\"0_V1\", \"50_V4\", \"50_GPT-4_V3\"]]\n",
    "submpling_exp\n",
    "# submpling_exp[\"diff\"] = submpling_exp.iloc[:, 1] - submpling_exp.iloc[:, 0]\n",
    "# submpling_exp.style.apply(styling, axis=0)"
   ]
  },
  {
   "cell_type": "code",
   "execution_count": null,
   "id": "f5b9a2ba",
   "metadata": {
    "ExecuteTime": {
     "end_time": "2023-07-19T12:51:47.570926Z",
     "start_time": "2023-07-19T12:51:47.570918Z"
    }
   },
   "outputs": [],
   "source": [
    "submpling_exp = resumen[[\"0_CHATGPT_V1\", \"50_GPT-4\", \"\"]]\n",
    "submpling_exp[\"diff\"] = submpling_exp.iloc[:, 1] - submpling_exp.iloc[:, 0]\n",
    "submpling_exp.style.apply(styling, axis=0)"
   ]
  },
  {
   "cell_type": "code",
   "execution_count": null,
   "id": "0e3271a0",
   "metadata": {
    "ExecuteTime": {
     "end_time": "2023-07-19T12:51:47.571530Z",
     "start_time": "2023-07-19T12:51:47.571523Z"
    }
   },
   "outputs": [],
   "source": [
    "submpling_exp = resumen[[\"50_GPT-4_base\", \"50_GPT-4_SimCSE_base\"]]\n",
    "submpling_exp[\"diff\"] = submpling_exp.iloc[:, 1] - submpling_exp.iloc[:, 0]\n",
    "submpling_exp.style.apply(styling, axis=0)"
   ]
  },
  {
   "cell_type": "code",
   "execution_count": null,
   "id": "e015e343",
   "metadata": {
    "ExecuteTime": {
     "end_time": "2023-07-19T12:51:47.572148Z",
     "start_time": "2023-07-19T12:51:47.572140Z"
    }
   },
   "outputs": [],
   "source": [
    "submpling_exp = resumen[[\"50_GPT-4\", \"50_GPT-4_SimCSE_unsupervised\"]]\n",
    "submpling_exp[\"diff\"] = submpling_exp.iloc[:, 1] - submpling_exp.iloc[:, 0]\n",
    "submpling_exp.style.apply(styling, axis=0)"
   ]
  },
  {
   "cell_type": "code",
   "execution_count": null,
   "id": "638bcb26",
   "metadata": {
    "ExecuteTime": {
     "end_time": "2023-07-19T12:51:47.572893Z",
     "start_time": "2023-07-19T12:51:47.572885Z"
    }
   },
   "outputs": [],
   "source": [
    "resumen.columns"
   ]
  },
  {
   "cell_type": "code",
   "execution_count": null,
   "id": "4f771c3c",
   "metadata": {
    "ExecuteTime": {
     "end_time": "2023-07-19T12:51:47.573475Z",
     "start_time": "2023-07-19T12:51:47.573468Z"
    }
   },
   "outputs": [],
   "source": [
    "submpling_exp = resumen[[\n",
    "    \"0_V1\", \n",
    "    \"0_V1_SimCSE_RANDOM_hard_negatives\",\n",
    "    \"0_V1_SimCSE_SAME_BRANCH_hard_negatives\"\n",
    "]]\n",
    "# submpling_exp[\"diff\"] = submpling_exp.iloc[:, 1] - submpling_exp.iloc[:, 0]\n",
    "# submpling_exp.style.apply(styling, axis=0)\n",
    "submpling_exp"
   ]
  },
  {
   "cell_type": "code",
   "execution_count": null,
   "id": "00d19044",
   "metadata": {
    "ExecuteTime": {
     "end_time": "2023-07-19T12:51:47.574235Z",
     "start_time": "2023-07-19T12:51:47.574227Z"
    }
   },
   "outputs": [],
   "source": [
    "submpling_exp = resumen[[\"50_GPT-4\", \"50_GPT-4_SimCSE_RANDOM_hard_negatives\"]]\n",
    "submpling_exp = submpling_exp.rename(columns={\n",
    "    \"50_GPT-4\": \"0_V1\", \n",
    "    \"50_GPT-4_SimCSE_RANDOM_hard_negatives\": \"0_V1_SimCSE_SAME_BRANCH_hard_negatives\"})\n",
    "submpling_exp[\"diff\"] = submpling_exp.iloc[:, 1] - submpling_exp.iloc[:, 0]\n",
    "submpling_exp.style.apply(styling, axis=0)"
   ]
  },
  {
   "cell_type": "code",
   "execution_count": null,
   "id": "a1ea483e",
   "metadata": {
    "ExecuteTime": {
     "end_time": "2023-07-19T12:51:47.574846Z",
     "start_time": "2023-07-19T12:51:47.574838Z"
    }
   },
   "outputs": [],
   "source": [
    "submpling_exp = resumen[[\"50_GPT-4\", \"50_GPT-4_new_pipe\"]]\n",
    "submpling_exp[\"diff\"] = submpling_exp.iloc[:, 1] - submpling_exp.iloc[:, 0]\n",
    "submpling_exp.style.apply(styling, axis=0)"
   ]
  },
  {
   "cell_type": "code",
   "execution_count": null,
   "id": "ff4ca7c7",
   "metadata": {
    "ExecuteTime": {
     "end_time": "2023-07-19T12:51:47.575502Z",
     "start_time": "2023-07-19T12:51:47.575495Z"
    }
   },
   "outputs": [],
   "source": [
    "fig = plt.figure(figsize=(15, 5), dpi=80)\n",
    "for p in partition[1:]:\n",
    "    plt.plot(list_samples, f1_scores[p], label=p)\n",
    "plt.title(\"F1-score vs Data Augmented\")\n",
    "plt.ylabel('F1-Score')\n",
    "plt.xlabel('N. Samples Generated')\n",
    "plt.legend()"
   ]
  },
  {
   "cell_type": "code",
   "execution_count": null,
   "id": "4fe6a844",
   "metadata": {
    "ExecuteTime": {
     "end_time": "2023-07-19T12:51:47.576189Z",
     "start_time": "2023-07-19T12:51:47.576182Z"
    },
    "scrolled": false
   },
   "outputs": [],
   "source": [
    "classes = le.classes_\n",
    "coms = pd.DataFrame()\n",
    "coms[\"support\"] = data[\n",
    "    (data.PARTITION==\"TRAIN\")&(data.DATASET==\"cards\")].claim.value_counts().sort_index().values\n",
    "for i, n in enumerate(list_samples[1:]):\n",
    "    aug = reports[\"VALID\"][i+1][[\"f1-score\"]].astype(float).values\n",
    "    base = reports[\"VALID\"][0][[\"f1-score\"]].astype(float).values\n",
    "    diff = (aug - base).flatten()\n",
    "    \n",
    "    coms[n] = diff[:18] \n",
    "#     print(n)\n",
    "#     print(n, classes[diff[:18]>0.])\n",
    "#     print(sum(diff[:18]))\n",
    "#     print(diff)\n",
    "#     print(sum(diff[diff>0.][:18]))\n",
    "#     print()\n",
    "coms[\"generated\"] = report_generated[\"f1-score\"][:18].apply(float)\n",
    "coms.index = classes\n",
    "coms.loc[\"sum\", :] = coms.sum()\n",
    "coms\n",
    "\n",
    "red = 'background-color: #f8d2d2'\n",
    "green = 'background-color: #d2f8d2'\n",
    "coms.style.apply(\n",
    "    lambda data, color: [red if float(v)<0 else green for v in data], \n",
    "                 color='darkorange', axis=0)"
   ]
  },
  {
   "cell_type": "code",
   "execution_count": null,
   "id": "1c1382c2",
   "metadata": {
    "ExecuteTime": {
     "end_time": "2023-07-19T12:51:47.576752Z",
     "start_time": "2023-07-19T12:51:47.576742Z"
    }
   },
   "outputs": [],
   "source": [
    "augmented_cards[(augmented_cards.claim == \"4_5\")&(augmented_cards.DATASET == \"generated-gpt-4\")].text"
   ]
  },
  {
   "cell_type": "code",
   "execution_count": null,
   "id": "944e58f3",
   "metadata": {
    "ExecuteTime": {
     "end_time": "2023-07-19T12:51:47.577407Z",
     "start_time": "2023-07-19T12:51:47.577400Z"
    }
   },
   "outputs": [],
   "source": [
    "dataset = pd.read_csv(\"datasets/augmented/9834838408490912248/cards_augmented_50_V3_9834838408490912248.csv\")\n",
    "generated = pd.read_csv(\"datasets/generated_disinformation_taxonomy_CARDS_GPT-4_specific_samples_V2.csv\")\n",
    "# for class_ in le.classes_[1:]:\n",
    "dataset[\"based_claims\"] = None\n",
    "dataset.loc[(dataset.claim==\"4_5\")&(dataset.DATASET==\"generated-gpt-4\"), \"based_claims\"] = generated.loc[(generated.generated_label==\"4_5\"), \"based_claims\"]"
   ]
  },
  {
   "cell_type": "code",
   "execution_count": null,
   "id": "6cae34fd",
   "metadata": {
    "ExecuteTime": {
     "end_time": "2023-07-19T12:51:47.577968Z",
     "start_time": "2023-07-19T12:51:47.577961Z"
    }
   },
   "outputs": [],
   "source": [
    "dataset[(dataset.claim==\"4_5\")&(dataset.DATASET==\"generated-gpt-4\")][[\"text\", \"claim\", \"cards_aug_pred\"]]"
   ]
  },
  {
   "cell_type": "code",
   "execution_count": null,
   "id": "94bc0cf7",
   "metadata": {
    "ExecuteTime": {
     "end_time": "2023-07-19T12:51:47.578649Z",
     "start_time": "2023-07-19T12:51:47.578642Z"
    }
   },
   "outputs": [],
   "source": [
    "bad_index = augmented_cards[(augmented_cards.claim == \"4_5\")&(augmented_cards.cards_aug_pred != \"4_5\")&(augmented_cards.PARTITION == \"TEST\")][[\"text\", \"cards_aug_pred\"]].index\n",
    "\n",
    "generated_4_5 = generated.loc[(generated.generated_label==\"4_5\")]\n",
    "generated_4_5[generated_4_5.based_claims.apply(lambda x: any([True if i in bad_index else False for i in eval(x)]))]"
   ]
  },
  {
   "cell_type": "code",
   "execution_count": null,
   "id": "f53d7f88",
   "metadata": {
    "ExecuteTime": {
     "end_time": "2023-07-19T12:51:47.579384Z",
     "start_time": "2023-07-19T12:51:47.579376Z"
    }
   },
   "outputs": [],
   "source": [
    "classes = le.classes_\n",
    "coms = pd.DataFrame()\n",
    "coms[\"support\"] = data[\n",
    "    (data.PARTITION==\"TRAIN\")&(data.DATASET==\"cards\")].claim.value_counts().sort_index().values\n",
    "for i, n in enumerate(list_samples[1:]):\n",
    "    aug = reports[\"TEST\"][i+1][[\"f1-score\"]].astype(float).values\n",
    "    base = reports[\"TEST\"][0][[\"f1-score\"]].astype(float).values\n",
    "    diff = (aug - base).flatten()\n",
    "    \n",
    "    coms[n] = diff[:18]\n",
    "#     print(n)\n",
    "    print(n, classes[diff[:18]>0.])\n",
    "#     print(sum(diff[:18]))\n",
    "#     print(diff)\n",
    "#     print(sum(diff[diff>0.][:18]))\n",
    "#     print()\n",
    "coms[\"generated\"] = report_generated[\"f1-score\"][:18].apply(float)\n",
    "coms.index = classes\n",
    "coms.loc[\"average\", :] = coms.sum()\n",
    "coms"
   ]
  },
  {
   "cell_type": "code",
   "execution_count": null,
   "id": "4f026b2e",
   "metadata": {
    "ExecuteTime": {
     "end_time": "2023-07-19T12:51:47.580028Z",
     "start_time": "2023-07-19T12:51:47.580020Z"
    },
    "scrolled": false
   },
   "outputs": [],
   "source": [
    "for n in list_samples[1:]:\n",
    "    augmented_cards = pd.read_csv(f\"datasets/cards_augmented_{n}.csv\")\n",
    "    augmented_cards_test = augmented_cards[augmented_cards.PARTITION==\"TEST\"]\n",
    "\n",
    "    y_true = augmented_cards_test.claim.values\n",
    "    y_pred = augmented_cards_test[f\"cards_aug_{n}_pred\"].values\n",
    "\n",
    "    report = classification_report_df(y_true, y_pred)\n",
    "    display(Markdown(f\"### n={n}\"))\n",
    "    display(report)"
   ]
  },
  {
   "cell_type": "code",
   "execution_count": null,
   "id": "e019bd1c",
   "metadata": {
    "ExecuteTime": {
     "end_time": "2023-07-19T12:51:47.580866Z",
     "start_time": "2023-07-19T12:51:47.580857Z"
    }
   },
   "outputs": [],
   "source": [
    "f1_scores[\"VALID\"]"
   ]
  },
  {
   "cell_type": "code",
   "execution_count": null,
   "id": "fa12c893",
   "metadata": {
    "ExecuteTime": {
     "end_time": "2023-07-19T12:51:47.581965Z",
     "start_time": "2023-07-19T12:51:47.581958Z"
    }
   },
   "outputs": [],
   "source": [
    "f1_scores[\"TEST\"]"
   ]
  },
  {
   "cell_type": "code",
   "execution_count": null,
   "id": "89fd42a4",
   "metadata": {
    "ExecuteTime": {
     "end_time": "2023-07-19T12:51:47.582657Z",
     "start_time": "2023-07-19T12:51:47.582649Z"
    }
   },
   "outputs": [],
   "source": [
    "n = 0\n",
    "VERSION = 1\n",
    "augmented_cards = pd.read_csv(f\"datasets/augmented/cards_augmented_{n}V{VERSION}.csv\")\n",
    "augmented_cards_test = augmented_cards[augmented_cards.PARTITION==\"TEST\"]\n",
    "\n",
    "y_true = augmented_cards_test.claim.values\n",
    "y_pred = augmented_cards_test[f\"cards_aug_{n}V{VERSION}_pred\"].values\n",
    "\n",
    "print(f1_score(y_true, y_pred, average=\"macro\"))\n",
    "\n",
    "report = classification_report_df(y_true, y_pred)\n",
    "display(Markdown(f\"### n={n}\"))\n",
    "display(report)"
   ]
  },
  {
   "cell_type": "code",
   "execution_count": null,
   "id": "8e492d5d",
   "metadata": {
    "ExecuteTime": {
     "end_time": "2023-07-19T12:51:47.583307Z",
     "start_time": "2023-07-19T12:51:47.583300Z"
    }
   },
   "outputs": [],
   "source": [
    "n = 400\n",
    "VERSION = 1\n",
    "augmented_cards = pd.read_csv(f\"datasets/augmented/cards_augmented_{n}V{VERSION}.csv\")\n",
    "augmented_cards_test = augmented_cards[augmented_cards.PARTITION==\"TEST\"]\n",
    "\n",
    "y_true = augmented_cards_test.claim.values\n",
    "y_pred = augmented_cards_test[f\"cards_aug_{n}V{VERSION}_pred\"].values\n",
    "\n",
    "print(f1_score(y_true, y_pred, average=\"macro\"))\n",
    "\n",
    "report = classification_report_df(y_true, y_pred)\n",
    "display(Markdown(f\"### n={n}\"))\n",
    "display(report)"
   ]
  },
  {
   "cell_type": "code",
   "execution_count": null,
   "id": "adf822f3",
   "metadata": {
    "ExecuteTime": {
     "end_time": "2023-07-19T12:51:47.583989Z",
     "start_time": "2023-07-19T12:51:47.583981Z"
    }
   },
   "outputs": [],
   "source": [
    "n = 400\n",
    "VERSION = \"V5\"\n",
    "augmented_cards = pd.read_csv(f\"datasets/augmented/cards_augmented_{n}{VERSION}.csv\")\n",
    "augmented_cards_test = augmented_cards[augmented_cards.PARTITION==\"TEST\"]\n",
    "\n",
    "y_true = augmented_cards_test.claim.values\n",
    "y_pred = augmented_cards_test[f\"cards_aug_{n}{VERSION}_pred\"].values\n",
    "\n",
    "print(f1_score(y_true, y_pred, average=\"macro\"))\n",
    "\n",
    "report = classification_report_df(y_true, y_pred)\n",
    "display(Markdown(f\"### n={n}\"))\n",
    "display(report)"
   ]
  },
  {
   "cell_type": "code",
   "execution_count": null,
   "id": "788f480c",
   "metadata": {
    "ExecuteTime": {
     "end_time": "2023-07-19T12:51:47.584694Z",
     "start_time": "2023-07-19T12:51:47.584687Z"
    }
   },
   "outputs": [],
   "source": [
    "comparative = pd.read_csv(f\"datasets/augmented/cards_augmented_400.csv\")\n",
    "comparative = comparative.iloc[:,1:]\n",
    "tmp = pd.read_csv(f\"datasets/augmented/cards_augmented_400V2.csv\")\n",
    "comparative[\"cards_aug_400V2_pred\"] = tmp[\"cards_aug_400V2_pred\"]\n",
    "comparative[\"cards_aug_400V2_proba\"] = tmp[\"cards_aug_400V2_proba\"]\n",
    "\n",
    "comparative[\"cards_aug_400_proba\"] = comparative[\"cards_aug_400_proba\"].apply(format_scores)\n",
    "comparative[\"cards_aug_400V2_proba\"] = comparative[\"cards_aug_400V2_proba\"].apply(format_scores)\n",
    "\n",
    "comparative[\"cards_aug_400_score\"] = comparative.apply(\n",
    "    lambda x: x[\"cards_aug_400_proba\"][le.transform([x[\"cards_aug_400_pred\"]])[0]], axis=1)\n",
    "\n",
    "comparative[\"cards_aug_400V2_score\"] = comparative.apply(\n",
    "    lambda x: x[\"cards_aug_400V2_proba\"][le.transform([x[\"cards_aug_400V2_pred\"]])[0]], axis=1)"
   ]
  },
  {
   "cell_type": "code",
   "execution_count": null,
   "id": "2da552e2",
   "metadata": {
    "ExecuteTime": {
     "end_time": "2023-07-19T12:51:47.585286Z",
     "start_time": "2023-07-19T12:51:47.585276Z"
    }
   },
   "outputs": [],
   "source": [
    "comparative_test = comparative[comparative.PARTITION==\"TEST\"]\n",
    "comparative_test[\n",
    "    (comparative_test.claim==\"4_5\")&(comparative_test.cards_aug_400_pred!=comparative_test.cards_aug_400V2_pred)]"
   ]
  },
  {
   "cell_type": "code",
   "execution_count": null,
   "id": "e23cfd2a",
   "metadata": {
    "ExecuteTime": {
     "end_time": "2023-07-19T12:51:47.586004Z",
     "start_time": "2023-07-19T12:51:47.585996Z"
    }
   },
   "outputs": [],
   "source": [
    "augmented_cards = pd.read_csv(f\"datasets/augmented/cards_augmented_50_filteredV2.csv\")\n",
    "augmented_cards_test = augmented_cards[augmented_cards.PARTITION==\"TEST\"]\n",
    "\n",
    "y_true = augmented_cards_test.claim.values\n",
    "y_pred = augmented_cards_test[f\"cards_aug_50_pred\"].values\n",
    "\n",
    "report = classification_report_df(y_true, y_pred)\n",
    "display(Markdown(f\"### n=50\"))\n",
    "print(f1_score(y_true, y_pred, average=\"macro\"))\n",
    "display(report)"
   ]
  },
  {
   "cell_type": "code",
   "execution_count": null,
   "id": "9efb381b",
   "metadata": {
    "ExecuteTime": {
     "end_time": "2023-07-19T12:51:47.586617Z",
     "start_time": "2023-07-19T12:51:47.586608Z"
    }
   },
   "outputs": [],
   "source": [
    "augmented_cards[\n",
    "    (augmented_cards.DATASET==\"generated-chatgpt\")&(augmented_cards.labels==\"1_4\")].cards_pred.value_counts()"
   ]
  },
  {
   "cell_type": "code",
   "execution_count": null,
   "id": "4f6ac6d9",
   "metadata": {
    "ExecuteTime": {
     "end_time": "2023-07-19T12:51:47.587678Z",
     "start_time": "2023-07-19T12:51:47.587670Z"
    },
    "scrolled": false
   },
   "outputs": [],
   "source": [
    "generated_taxonomy = pd.read_csv(\"datasets/generated_disinformation_taxonomy_CARDS_CHATGPT_specific_samples_predict.csv\")\n",
    "\n",
    "# generated_taxonomy = generated_taxonomy[\n",
    "#     generated_taxonomy.generated_label.isin([\"1_1\", \"1_2\", \"1_3\", \"1_4\", \"1_6\", \"1_7\", \"2_1\"])]\n",
    "\n",
    "y_true = generated_taxonomy.generated_label.values\n",
    "y_pred = generated_taxonomy.cards_pred.values\n",
    "\n",
    "report = classification_report(y_true, y_pred)\n",
    "print(report)\n",
    "\n",
    "classes = np.sort(generated_taxonomy.cards_pred.unique())\n",
    "c_m = confusion_matrix(y_true, y_pred)\n",
    "cmp = ConfusionMatrixDisplay(\n",
    "    c_m, display_labels=classes)\n",
    "fig, ax = plt.subplots(figsize=(8,8))\n",
    "cmp.plot(ax=ax)  \n",
    "\n",
    "\n",
    "report = classification_report_df(y_true, y_pred)\n",
    "report"
   ]
  },
  {
   "cell_type": "code",
   "execution_count": null,
   "id": "6434802c",
   "metadata": {
    "ExecuteTime": {
     "end_time": "2023-07-19T12:51:47.588411Z",
     "start_time": "2023-07-19T12:51:47.588403Z"
    }
   },
   "outputs": [],
   "source": [
    "generated_taxonomy = pd.read_csv(\"datasets/generated_disinformation_taxonomy_CARDS_CHATGPT_specific_samples_V2.csv\")\n",
    "\n",
    "y_true = generated_taxonomy.generated_label.values\n",
    "y_pred = generated_taxonomy.cards_pred.values\n",
    "\n",
    "report = classification_report(y_true, y_pred)\n",
    "print(report)\n",
    "\n",
    "classes = np.sort(generated_taxonomy.cards_pred.unique())\n",
    "c_m = confusion_matrix(y_true, y_pred)\n",
    "cmp = ConfusionMatrixDisplay(\n",
    "    c_m, display_labels=classes)\n",
    "fig, ax = plt.subplots(figsize=(8,8))\n",
    "cmp.plot(ax=ax)  \n",
    "\n",
    "\n",
    "report = classification_report_df(y_true, y_pred)\n",
    "report"
   ]
  },
  {
   "cell_type": "code",
   "execution_count": null,
   "id": "2db428e7",
   "metadata": {
    "ExecuteTime": {
     "end_time": "2023-07-19T12:51:47.589148Z",
     "start_time": "2023-07-19T12:51:47.589140Z"
    }
   },
   "outputs": [],
   "source": [
    "y_true = cards_data.claim.values\n",
    "y_pred = cards_data.sec_clf_roberta_pred.values\n",
    "\n",
    "report = classification_report(y_true, y_pred)\n",
    "print(report)"
   ]
  },
  {
   "cell_type": "code",
   "execution_count": null,
   "id": "80b1fcc2",
   "metadata": {
    "ExecuteTime": {
     "end_time": "2023-07-19T12:51:47.589933Z",
     "start_time": "2023-07-19T12:51:47.589924Z"
    },
    "scrolled": false
   },
   "outputs": [],
   "source": [
    "test_generated = pd.read_csv(\"datasets/generated_disinformation_binary_TEST_CHATGPT.csv\", low_memory=False)\n",
    "test_generated[\"roberta_proba\"] = test_generated[\"roberta_proba\"].apply(format_scores)\n",
    "test_generated[\"aug_roberta_proba\"] = test_generated[\"aug_roberta_proba\"].apply(format_scores)\n",
    "test_generated[\"labels\"] = 1\n",
    "\n",
    "display(Markdown(f\"### Randomly Generated TEST CHATGPT\"))\n",
    "models_comparative(test_generated, models)"
   ]
  }
 ],
 "metadata": {
  "kernelspec": {
   "display_name": "Python 3 (ipykernel)",
   "language": "python",
   "name": "python3"
  },
  "language_info": {
   "codemirror_mode": {
    "name": "ipython",
    "version": 3
   },
   "file_extension": ".py",
   "mimetype": "text/x-python",
   "name": "python",
   "nbconvert_exporter": "python",
   "pygments_lexer": "ipython3",
   "version": "3.8.13"
  },
  "toc": {
   "base_numbering": 1,
   "nav_menu": {},
   "number_sections": true,
   "sideBar": true,
   "skip_h1_title": false,
   "title_cell": "Table of Contents",
   "title_sidebar": "Contents",
   "toc_cell": false,
   "toc_position": {
    "height": "calc(100% - 180px)",
    "left": "10px",
    "top": "150px",
    "width": "165px"
   },
   "toc_section_display": true,
   "toc_window_display": true
  }
 },
 "nbformat": 4,
 "nbformat_minor": 5
}
