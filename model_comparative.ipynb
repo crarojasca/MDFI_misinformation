{
 "cells": [
  {
   "cell_type": "code",
   "execution_count": 1,
   "id": "01854fc6",
   "metadata": {
    "ExecuteTime": {
     "end_time": "2023-03-15T01:08:08.598686Z",
     "start_time": "2023-03-15T01:08:06.620899Z"
    }
   },
   "outputs": [],
   "source": [
    "import os\n",
    "import re\n",
    "import math\n",
    "import pickle\n",
    "import numpy as np\n",
    "import pandas as pd\n",
    "\n",
    "from tqdm import tqdm\n",
    "from scipy.special import softmax\n",
    "# from utils import denoise_text, preprocess_text\n",
    "\n",
    "from sklearn.metrics import auc, roc_curve, RocCurveDisplay\n",
    "from sklearn.utils.class_weight import compute_class_weight \n",
    "from sklearn.metrics import f1_score, accuracy_score, precision_score, recall_score\n",
    "\n",
    "from matplotlib import pyplot as plt\n",
    "from sklearn.metrics import (\n",
    "    accuracy_score, roc_auc_score, \n",
    "    f1_score, accuracy_score, precision_score, recall_score,\n",
    "    classification_report, confusion_matrix, ConfusionMatrixDisplay)\n",
    "\n",
    "from IPython.display import display, Markdown, Latex\n",
    "\n",
    "pd.set_option('display.max_colwidth', None)\n",
    "\n",
    "import warnings\n",
    "warnings.filterwarnings('ignore')"
   ]
  },
  {
   "cell_type": "code",
   "execution_count": 2,
   "id": "67fe8c76",
   "metadata": {
    "ExecuteTime": {
     "end_time": "2023-03-15T01:08:12.435446Z",
     "start_time": "2023-03-15T01:08:12.425812Z"
    }
   },
   "outputs": [],
   "source": [
    "FILE = \"datasets/cards_waterloo_augmented.csv\""
   ]
  },
  {
   "cell_type": "code",
   "execution_count": 3,
   "id": "25681e98",
   "metadata": {
    "ExecuteTime": {
     "end_time": "2023-03-15T01:08:15.210651Z",
     "start_time": "2023-03-15T01:08:13.285106Z"
    }
   },
   "outputs": [],
   "source": [
    "data = pd.read_csv(FILE, low_memory=False)"
   ]
  },
  {
   "cell_type": "code",
   "execution_count": 4,
   "id": "fda904c2",
   "metadata": {
    "ExecuteTime": {
     "end_time": "2023-03-15T01:08:40.858260Z",
     "start_time": "2023-03-15T01:08:28.772143Z"
    }
   },
   "outputs": [],
   "source": [
    "def format_scores(x):\n",
    "    if str(x)!=\"nan\":\n",
    "        return np.array(eval(re.sub(\",? +\", \" ,\", str(x).replace(\"\\n\", \"\"))))\n",
    "    return\n",
    "\n",
    "# data[f\"cards_pred\"] = data[f\"cards_pred\"].apply(lambda x: int(float(x)))\n",
    "\n",
    "data[\"cards_proba\"] = data[\"cards_proba\"].apply(format_scores)\n",
    "data[\"waterloo_proba\"] = data[\"waterloo_proba\"].apply(format_scores)\n",
    "data[\"roberta_cards_pipe_proba\"] = data[\"roberta_cards_pipe_proba\"].apply(format_scores)\n",
    "data[\"roberta_proba\"] = data[\"roberta_proba\"].apply(format_scores)\n",
    "data[\"bertweet_proba\"] = data[\"bertweet_proba\"].apply(format_scores)\n",
    "data[\"electra_proba\"] = data[\"electra_proba\"].apply(format_scores)\n",
    "data[\"xlnet_proba\"] = data[\"xlnet_proba\"].apply(format_scores)\n",
    "data[\"aug_roberta_proba\"] = data[\"aug_roberta_proba\"].apply(format_scores)"
   ]
  },
  {
   "cell_type": "code",
   "execution_count": 5,
   "id": "6ecf705d",
   "metadata": {
    "ExecuteTime": {
     "end_time": "2023-03-15T01:08:54.915001Z",
     "start_time": "2023-03-15T01:08:53.352125Z"
    }
   },
   "outputs": [
    {
     "data": {
      "text/markdown": [
       "### Test Dataset"
      ],
      "text/plain": [
       "<IPython.core.display.Markdown object>"
      ]
     },
     "metadata": {},
     "output_type": "display_data"
    },
    {
     "data": {
      "text/html": [
       "<div>\n",
       "<style scoped>\n",
       "    .dataframe tbody tr th:only-of-type {\n",
       "        vertical-align: middle;\n",
       "    }\n",
       "\n",
       "    .dataframe tbody tr th {\n",
       "        vertical-align: top;\n",
       "    }\n",
       "\n",
       "    .dataframe thead th {\n",
       "        text-align: right;\n",
       "    }\n",
       "</style>\n",
       "<table border=\"1\" class=\"dataframe\">\n",
       "  <thead>\n",
       "    <tr style=\"text-align: right;\">\n",
       "      <th></th>\n",
       "      <th>Model</th>\n",
       "      <th>AUC</th>\n",
       "      <th>Accuracy</th>\n",
       "      <th>F1-score</th>\n",
       "    </tr>\n",
       "  </thead>\n",
       "  <tbody>\n",
       "    <tr>\n",
       "      <th>0</th>\n",
       "      <td>cards</td>\n",
       "      <td>0.000000</td>\n",
       "      <td>0.212221</td>\n",
       "      <td>0.175068</td>\n",
       "    </tr>\n",
       "    <tr>\n",
       "      <th>0</th>\n",
       "      <td>aug_roberta</td>\n",
       "      <td>0.848037</td>\n",
       "      <td>0.936704</td>\n",
       "      <td>0.901059</td>\n",
       "    </tr>\n",
       "    <tr>\n",
       "      <th>0</th>\n",
       "      <td>roberta</td>\n",
       "      <td>0.886856</td>\n",
       "      <td>0.939581</td>\n",
       "      <td>0.907602</td>\n",
       "    </tr>\n",
       "  </tbody>\n",
       "</table>\n",
       "</div>"
      ],
      "text/plain": [
       "         Model       AUC  Accuracy  F1-score\n",
       "0        cards  0.000000  0.212221  0.175068\n",
       "0  aug_roberta  0.848037  0.936704  0.901059\n",
       "0      roberta  0.886856  0.939581  0.907602"
      ]
     },
     "metadata": {},
     "output_type": "display_data"
    },
    {
     "data": {
      "image/png": "[encoded data removed]",
      "text/plain": [
       "<Figure size 576x432 with 1 Axes>"
      ]
     },
     "metadata": {
      "needs_background": "light"
     },
     "output_type": "display_data"
    },
    {
     "data": {
      "text/markdown": [
       "### Randomly Generated TEST CHATGPT"
      ],
      "text/plain": [
       "<IPython.core.display.Markdown object>"
      ]
     },
     "metadata": {},
     "output_type": "display_data"
    },
    {
     "data": {
      "text/html": [
       "<div>\n",
       "<style scoped>\n",
       "    .dataframe tbody tr th:only-of-type {\n",
       "        vertical-align: middle;\n",
       "    }\n",
       "\n",
       "    .dataframe tbody tr th {\n",
       "        vertical-align: top;\n",
       "    }\n",
       "\n",
       "    .dataframe thead th {\n",
       "        text-align: right;\n",
       "    }\n",
       "</style>\n",
       "<table border=\"1\" class=\"dataframe\">\n",
       "  <thead>\n",
       "    <tr style=\"text-align: right;\">\n",
       "      <th></th>\n",
       "      <th>Model</th>\n",
       "      <th>AUC</th>\n",
       "      <th>Accuracy</th>\n",
       "      <th>F1-score</th>\n",
       "    </tr>\n",
       "  </thead>\n",
       "  <tbody>\n",
       "    <tr>\n",
       "      <th>0</th>\n",
       "      <td>cards</td>\n",
       "      <td>0.0</td>\n",
       "      <td>1.000000</td>\n",
       "      <td>1.000000</td>\n",
       "    </tr>\n",
       "    <tr>\n",
       "      <th>0</th>\n",
       "      <td>roberta</td>\n",
       "      <td>NaN</td>\n",
       "      <td>0.957068</td>\n",
       "      <td>0.489032</td>\n",
       "    </tr>\n",
       "    <tr>\n",
       "      <th>0</th>\n",
       "      <td>aug_roberta</td>\n",
       "      <td>NaN</td>\n",
       "      <td>0.954974</td>\n",
       "      <td>0.488484</td>\n",
       "    </tr>\n",
       "  </tbody>\n",
       "</table>\n",
       "</div>"
      ],
      "text/plain": [
       "         Model  AUC  Accuracy  F1-score\n",
       "0        cards  0.0  1.000000  1.000000\n",
       "0      roberta  NaN  0.957068  0.489032\n",
       "0  aug_roberta  NaN  0.954974  0.488484"
      ]
     },
     "metadata": {},
     "output_type": "display_data"
    },
    {
     "data": {
      "image/png": "[encoded data removed]",
      "text/plain": [
       "<Figure size 576x432 with 1 Axes>"
      ]
     },
     "metadata": {
      "needs_background": "light"
     },
     "output_type": "display_data"
    },
    {
     "data": {
      "text/markdown": [
       "### Randomly Generated Climate Scam CHATGPT"
      ],
      "text/plain": [
       "<IPython.core.display.Markdown object>"
      ]
     },
     "metadata": {},
     "output_type": "display_data"
    },
    {
     "data": {
      "text/html": [
       "<div>\n",
       "<style scoped>\n",
       "    .dataframe tbody tr th:only-of-type {\n",
       "        vertical-align: middle;\n",
       "    }\n",
       "\n",
       "    .dataframe tbody tr th {\n",
       "        vertical-align: top;\n",
       "    }\n",
       "\n",
       "    .dataframe thead th {\n",
       "        text-align: right;\n",
       "    }\n",
       "</style>\n",
       "<table border=\"1\" class=\"dataframe\">\n",
       "  <thead>\n",
       "    <tr style=\"text-align: right;\">\n",
       "      <th></th>\n",
       "      <th>Model</th>\n",
       "      <th>AUC</th>\n",
       "      <th>Accuracy</th>\n",
       "      <th>F1-score</th>\n",
       "    </tr>\n",
       "  </thead>\n",
       "  <tbody>\n",
       "    <tr>\n",
       "      <th>0</th>\n",
       "      <td>cards</td>\n",
       "      <td>0.0</td>\n",
       "      <td>1.000000</td>\n",
       "      <td>1.000000</td>\n",
       "    </tr>\n",
       "    <tr>\n",
       "      <th>0</th>\n",
       "      <td>roberta</td>\n",
       "      <td>NaN</td>\n",
       "      <td>0.968426</td>\n",
       "      <td>0.491980</td>\n",
       "    </tr>\n",
       "    <tr>\n",
       "      <th>0</th>\n",
       "      <td>aug_roberta</td>\n",
       "      <td>NaN</td>\n",
       "      <td>0.949186</td>\n",
       "      <td>0.486965</td>\n",
       "    </tr>\n",
       "  </tbody>\n",
       "</table>\n",
       "</div>"
      ],
      "text/plain": [
       "         Model  AUC  Accuracy  F1-score\n",
       "0        cards  0.0  1.000000  1.000000\n",
       "0      roberta  NaN  0.968426  0.491980\n",
       "0  aug_roberta  NaN  0.949186  0.486965"
      ]
     },
     "metadata": {},
     "output_type": "display_data"
    },
    {
     "data": {
      "image/png": "[encoded data removed]",
      "text/plain": [
       "<Figure size 576x432 with 1 Axes>"
      ]
     },
     "metadata": {
      "needs_background": "light"
     },
     "output_type": "display_data"
    }
   ],
   "source": [
    "def models_comparative(data, models):\n",
    "    labels = [0, 1]\n",
    "    target_names = [\"Not Misinformation\", \"Misinformation\"]\n",
    "    freport = pd.DataFrame()\n",
    "    \n",
    "    plt.figure(figsize=(8, 6))\n",
    "    for model in models:  \n",
    "        y_true = data.labels.values\n",
    "        y_pred = data[f\"{model}_pred\"].values\n",
    "        if model==\"cards\":\n",
    "            y_pred = (data[f\"{model}_pred\"]!=\"0_0\").astype(int).values\n",
    "        else: \n",
    "            scores = data.apply(lambda x: x[f\"{model}_proba\"][int(x[f\"{model}_pred\"])], axis=1).values\n",
    "            fpr, tpr, thresholds = roc_curve(data.labels, scores)    \n",
    "            roc_auc = auc(tpr, fpr)# multi_class=\"ovr\", average=\"macro\")\n",
    "            plt.plot(tpr, fpr, label=f\"{model} (AUC = {round(roc_auc*100, 2)})\")\n",
    "        \n",
    "        acc = accuracy_score(y_true, y_pred)\n",
    "#         report = classification_report(y_true, y_pred, \n",
    "#                                        labels=labels, output_dict=True)\n",
    "\n",
    "        report = {\n",
    "            \"Model\": model,\n",
    "            \"AUC\": roc_auc if model!=\"cards\" else 0,\n",
    "            \"Accuracy\": accuracy_score(y_true, y_pred),\n",
    "            \"F1-score\": f1_score(y_true, y_pred, average='macro')\n",
    "        }   \n",
    "        report = pd.DataFrame([report])\n",
    "        freport = pd.concat([freport, report])\n",
    "        freport = freport.sort_values([\"AUC\"])\n",
    "\n",
    "    display(freport)\n",
    "\n",
    "    plt.plot([0, 1], [0, 1], \"k--\", label=\"chance level (AUC = 0.5)\")\n",
    "    plt.axis(\"square\")\n",
    "    plt.xlabel(\"False Positive Rate\")\n",
    "    plt.ylabel(\"True Positive Rate\")\n",
    "    plt.title(\"ROC curves\")\n",
    "    plt.legend()\n",
    "    plt.show()\n",
    "    \n",
    "# models = [\"roberta_cards_pipe\", \"roberta\", \"bertweet\", \"xlnet\"]\n",
    "display(Markdown(f\"### Test Dataset\"))\n",
    "# models = [\"roberta\", \"electra\", \"bertweet\", \"xlnet\"]\n",
    "\n",
    "test = data[data.PARTITION==\"TEST\"]\n",
    "models = [\"cards\", \"roberta\", \"aug_roberta\"]\n",
    "models_comparative(test, models)\n",
    "\n",
    "def generated_dataset(file, models):\n",
    "    data = pd.read_csv(file, low_memory=False)\n",
    "    for model in models:\n",
    "        data[f\"{model}_pred\"] = data[f\"{model}_pred\"].apply(lambda x: int(float(x)))\n",
    "        data[f\"{model}_proba\"] = data[f\"{model}_proba\"].apply(format_scores)\n",
    "    data[\"labels\"] = 1\n",
    "    return data\n",
    "\n",
    "## Generated from the test partition\n",
    "test_generated = generated_dataset(\n",
    "    \"datasets/generated_disinformation_binary_TEST_CHATGPT.csv\", models)\n",
    "display(Markdown(f\"### Randomly Generated TEST CHATGPT\"))\n",
    "models_comparative(test_generated, models)\n",
    "\n",
    "## Generated from the ClimateScam partition\n",
    "climate_scam_generated = generated_dataset(\n",
    "    \"datasets/generated_disinformation_binary_ClimateScam_CHATGPT.csv\", models)\n",
    "display(Markdown(f\"### Randomly Generated Climate Scam CHATGPT\"))\n",
    "models_comparative(climate_scam_generated, models)"
   ]
  },
  {
   "cell_type": "code",
   "execution_count": 6,
   "id": "2454196f",
   "metadata": {
    "ExecuteTime": {
     "end_time": "2023-03-15T01:09:27.459044Z",
     "start_time": "2023-03-15T01:09:27.417027Z"
    }
   },
   "outputs": [],
   "source": [
    "cards_data = data[data.DATASET==\"cards\"].copy(deep=True)"
   ]
  },
  {
   "cell_type": "code",
   "execution_count": 8,
   "id": "a01e9065",
   "metadata": {
    "ExecuteTime": {
     "end_time": "2023-03-15T01:09:46.304439Z",
     "start_time": "2023-03-15T01:09:46.296177Z"
    }
   },
   "outputs": [
    {
     "data": {
      "text/plain": [
       "Index(['Unnamed: 0', 'prompt', 'claim', 'PARTITION', 'labels', 'sentiment',\n",
       "       'tweetid', 'roberta_preprocessed', 'DATASET', 'text',\n",
       "       'cards_orignal_pred', 'cards_pred', 'cards_proba', 'waterloo_pred',\n",
       "       'waterloo_proba', 'roberta_cards_pipe_pred', 'roberta_cards_pipe_proba',\n",
       "       'roberta_pred', 'roberta_proba', 'bertweet_pred', 'bertweet_proba',\n",
       "       'gpt-3_curie_pred', 'gpt-3_curie_proba', 'electra_pred',\n",
       "       'electra_proba', 'xlnet_pred', 'xlnet_proba', 'electra_acc_pred',\n",
       "       'electra_acc_proba', 'aug_roberta_pred', 'aug_roberta_proba'],\n",
       "      dtype='object')"
      ]
     },
     "execution_count": 8,
     "metadata": {},
     "output_type": "execute_result"
    }
   ],
   "source": [
    "cards_data.columns"
   ]
  },
  {
   "cell_type": "code",
   "execution_count": 14,
   "id": "16bd9741",
   "metadata": {
    "ExecuteTime": {
     "end_time": "2023-03-15T00:33:00.583116Z",
     "start_time": "2023-03-15T00:33:00.002649Z"
    }
   },
   "outputs": [
    {
     "name": "stdout",
     "output_type": "stream",
     "text": [
      "              precision    recall  f1-score   support\n",
      "\n",
      "         0.0       0.00      0.00      0.00       0.0\n",
      "         0_0       0.00      0.00      0.00   19868.0\n",
      "         1.0       0.00      0.00      0.00       0.0\n",
      "         1_1       0.00      0.00      0.00     421.0\n",
      "         1_2       0.00      0.00      0.00     184.0\n",
      "         1_3       0.00      0.00      0.00     284.0\n",
      "         1_4       0.00      0.00      0.00     606.0\n",
      "         1_6       0.00      0.00      0.00     236.0\n",
      "         1_7       0.00      0.00      0.00     539.0\n",
      "         2_1       0.00      0.00      0.00    1000.0\n",
      "         2_3       0.00      0.00      0.00     425.0\n",
      "         3_1       0.00      0.00      0.00     256.0\n",
      "         3_2       0.00      0.00      0.00     424.0\n",
      "         3_3       0.00      0.00      0.00     405.0\n",
      "         4_1       0.00      0.00      0.00     428.0\n",
      "         4_2       0.00      0.00      0.00     245.0\n",
      "         4_4       0.00      0.00      0.00     311.0\n",
      "         4_5       0.00      0.00      0.00     238.0\n",
      "         5_1       0.00      0.00      0.00    1751.0\n",
      "         5_2       0.00      0.00      0.00    1324.0\n",
      "\n",
      "    accuracy                           0.00   28945.0\n",
      "   macro avg       0.00      0.00      0.00   28945.0\n",
      "weighted avg       0.00      0.00      0.00   28945.0\n",
      "\n"
     ]
    }
   ],
   "source": [
    "cards_data = data[data.DATASET==\"cards\"].copy(deep=True)\n",
    "\n",
    "y_true = cards_data.claim.values\n",
    "y_pred = cards_data.cards_pred.values\n",
    "\n",
    "report = classification_report(y_true, y_pred)\n",
    "print(report)"
   ]
  },
  {
   "cell_type": "code",
   "execution_count": 7,
   "id": "80b1fcc2",
   "metadata": {
    "ExecuteTime": {
     "end_time": "2023-03-13T05:31:09.358859Z",
     "start_time": "2023-03-13T05:31:09.028908Z"
    },
    "scrolled": false
   },
   "outputs": [
    {
     "data": {
      "text/markdown": [
       "### Randomly Generated TEST CHATGPT"
      ],
      "text/plain": [
       "<IPython.core.display.Markdown object>"
      ]
     },
     "metadata": {},
     "output_type": "display_data"
    },
    {
     "data": {
      "text/html": [
       "<div>\n",
       "<style scoped>\n",
       "    .dataframe tbody tr th:only-of-type {\n",
       "        vertical-align: middle;\n",
       "    }\n",
       "\n",
       "    .dataframe tbody tr th {\n",
       "        vertical-align: top;\n",
       "    }\n",
       "\n",
       "    .dataframe thead th {\n",
       "        text-align: right;\n",
       "    }\n",
       "</style>\n",
       "<table border=\"1\" class=\"dataframe\">\n",
       "  <thead>\n",
       "    <tr style=\"text-align: right;\">\n",
       "      <th></th>\n",
       "      <th>Model</th>\n",
       "      <th>AUC</th>\n",
       "      <th>Accuracy</th>\n",
       "      <th>F1-score</th>\n",
       "    </tr>\n",
       "  </thead>\n",
       "  <tbody>\n",
       "    <tr>\n",
       "      <th>0</th>\n",
       "      <td>roberta</td>\n",
       "      <td>NaN</td>\n",
       "      <td>0.957068</td>\n",
       "      <td>0.489032</td>\n",
       "    </tr>\n",
       "    <tr>\n",
       "      <th>0</th>\n",
       "      <td>aug_roberta</td>\n",
       "      <td>NaN</td>\n",
       "      <td>0.954974</td>\n",
       "      <td>0.488484</td>\n",
       "    </tr>\n",
       "  </tbody>\n",
       "</table>\n",
       "</div>"
      ],
      "text/plain": [
       "         Model  AUC  Accuracy  F1-score\n",
       "0      roberta  NaN  0.957068  0.489032\n",
       "0  aug_roberta  NaN  0.954974  0.488484"
      ]
     },
     "metadata": {},
     "output_type": "display_data"
    },
    {
     "data": {
      "image/png": "[encoded data removed]",
      "text/plain": [
       "<Figure size 576x432 with 1 Axes>"
      ]
     },
     "metadata": {
      "needs_background": "light"
     },
     "output_type": "display_data"
    }
   ],
   "source": [
    "test_generated = pd.read_csv(\"datasets/generated_disinformation_binary_TEST_CHATGPT.csv\", low_memory=False)\n",
    "test_generated[\"roberta_proba\"] = test_generated[\"roberta_proba\"].apply(format_scores)\n",
    "test_generated[\"aug_roberta_proba\"] = test_generated[\"aug_roberta_proba\"].apply(format_scores)\n",
    "test_generated[\"labels\"] = 1\n",
    "\n",
    "display(Markdown(f\"### Randomly Generated TEST CHATGPT\"))\n",
    "models_comparative(test_generated, models)"
   ]
  },
  {
   "cell_type": "code",
   "execution_count": 22,
   "id": "f4e2429c",
   "metadata": {
    "ExecuteTime": {
     "end_time": "2023-03-09T00:52:42.559304Z",
     "start_time": "2023-03-09T00:52:42.544290Z"
    }
   },
   "outputs": [
    {
     "data": {
      "text/plain": [
       "1.0    8794\n",
       "0.0     306\n",
       "Name: roberta_pred, dtype: int64"
      ]
     },
     "execution_count": 22,
     "metadata": {},
     "output_type": "execute_result"
    }
   ],
   "source": [
    "generated.roberta_pred.value_counts()"
   ]
  },
  {
   "cell_type": "code",
   "execution_count": 16,
   "id": "65ee064c",
   "metadata": {},
   "outputs": [],
   "source": [
    "from transformers import ElectraTokenizer, ElectraModel\n",
    "from transformers import AutoConfig, AutoTokenizer, AutoModelForSequenceClassification\n",
    "import torch"
   ]
  },
  {
   "cell_type": "code",
   "execution_count": 17,
   "id": "bbe5491e",
   "metadata": {},
   "outputs": [],
   "source": [
    "tokenizer = AutoTokenizer.from_pretrained('new_training/experiments/results/electra/best-epoch')\n",
    "model = AutoModelForSequenceClassification.from_pretrained('new_training/experiments/results/electra/best-epoch')"
   ]
  },
  {
   "cell_type": "code",
   "execution_count": 13,
   "id": "a323510e",
   "metadata": {},
   "outputs": [
    {
     "data": {
      "text/plain": [
       "70138    @stevenburns131 Are you saying he DOESN'T believe in global warming/climate change?\n",
       "Name: prompt, dtype: object"
      ]
     },
     "execution_count": 13,
     "metadata": {},
     "output_type": "execute_result"
    }
   ],
   "source": [
    "test.prompt.sample()"
   ]
  },
  {
   "cell_type": "code",
   "execution_count": 18,
   "id": "8a9d0a9f",
   "metadata": {},
   "outputs": [
    {
     "data": {
      "text/plain": [
       "tensor([[-0.0493,  0.0259]], grad_fn=<AddmmBackward>)"
      ]
     },
     "execution_count": 18,
     "metadata": {},
     "output_type": "execute_result"
    }
   ],
   "source": [
    "inputs = tokenizer(\n",
    "    \"@stevenburns131 Are you saying he DOESN'T believe in global warming/climate change?\", return_tensors=\"pt\")\n",
    "outputs = model(**inputs)\n",
    "last_hidden_states = outputs[0] \n",
    "last_hidden_states"
   ]
  },
  {
   "cell_type": "code",
   "execution_count": 19,
   "id": "7315a8f1",
   "metadata": {},
   "outputs": [
    {
     "data": {
      "text/plain": [
       "tensor([[-0.0493,  0.0259]], grad_fn=<AddmmBackward>)"
      ]
     },
     "execution_count": 19,
     "metadata": {},
     "output_type": "execute_result"
    }
   ],
   "source": [
    "inputs = tokenizer(\n",
    "    \"whatever thing\", return_tensors=\"pt\")\n",
    "outputs = model(**inputs)\n",
    "last_hidden_states = outputs[0] \n",
    "last_hidden_states"
   ]
  },
  {
   "cell_type": "markdown",
   "id": "ed87f17b",
   "metadata": {},
   "source": [
    "## Roberta"
   ]
  },
  {
   "cell_type": "code",
   "execution_count": 6,
   "id": "05e2415b",
   "metadata": {
    "ExecuteTime": {
     "end_time": "2023-02-07T07:10:15.770083Z",
     "start_time": "2023-02-07T07:10:15.568451Z"
    }
   },
   "outputs": [
    {
     "name": "stdout",
     "output_type": "stream",
     "text": [
      "Accuracy: 0.9395807644882861\n",
      "AUC: 0.8868555870547618\n"
     ]
    },
    {
     "data": {
      "text/html": [
       "<div>\n",
       "<style scoped>\n",
       "    .dataframe tbody tr th:only-of-type {\n",
       "        vertical-align: middle;\n",
       "    }\n",
       "\n",
       "    .dataframe tbody tr th {\n",
       "        vertical-align: top;\n",
       "    }\n",
       "\n",
       "    .dataframe thead th {\n",
       "        text-align: right;\n",
       "    }\n",
       "</style>\n",
       "<table border=\"1\" class=\"dataframe\">\n",
       "  <thead>\n",
       "    <tr style=\"text-align: right;\">\n",
       "      <th></th>\n",
       "      <th>precision</th>\n",
       "      <th>recall</th>\n",
       "      <th>f1-score</th>\n",
       "      <th>support</th>\n",
       "    </tr>\n",
       "  </thead>\n",
       "  <tbody>\n",
       "    <tr>\n",
       "      <th>Not Misinformation</th>\n",
       "      <td>0.954304</td>\n",
       "      <td>0.969739</td>\n",
       "      <td>0.961960</td>\n",
       "      <td>5750.000000</td>\n",
       "    </tr>\n",
       "    <tr>\n",
       "      <th>Misinformation</th>\n",
       "      <td>0.880495</td>\n",
       "      <td>0.827631</td>\n",
       "      <td>0.853245</td>\n",
       "      <td>1549.000000</td>\n",
       "    </tr>\n",
       "    <tr>\n",
       "      <th>accuracy</th>\n",
       "      <td>0.939581</td>\n",
       "      <td>0.939581</td>\n",
       "      <td>0.939581</td>\n",
       "      <td>0.939581</td>\n",
       "    </tr>\n",
       "    <tr>\n",
       "      <th>macro avg</th>\n",
       "      <td>0.917399</td>\n",
       "      <td>0.898685</td>\n",
       "      <td>0.907602</td>\n",
       "      <td>7299.000000</td>\n",
       "    </tr>\n",
       "    <tr>\n",
       "      <th>weighted avg</th>\n",
       "      <td>0.938640</td>\n",
       "      <td>0.939581</td>\n",
       "      <td>0.938888</td>\n",
       "      <td>7299.000000</td>\n",
       "    </tr>\n",
       "  </tbody>\n",
       "</table>\n",
       "</div>"
      ],
      "text/plain": [
       "                    precision    recall  f1-score      support\n",
       "Not Misinformation   0.954304  0.969739  0.961960  5750.000000\n",
       "Misinformation       0.880495  0.827631  0.853245  1549.000000\n",
       "accuracy             0.939581  0.939581  0.939581     0.939581\n",
       "macro avg            0.917399  0.898685  0.907602  7299.000000\n",
       "weighted avg         0.938640  0.939581  0.938888  7299.000000"
      ]
     },
     "metadata": {},
     "output_type": "display_data"
    },
    {
     "data": {
      "image/png": "[encoded data removed]",
      "text/plain": [
       "<Figure size 288x288 with 2 Axes>"
      ]
     },
     "metadata": {
      "needs_background": "light"
     },
     "output_type": "display_data"
    }
   ],
   "source": [
    "def report(y_true, y_pred, scores, classes, matrix_display=True):\n",
    "    \n",
    "    acc = accuracy_score(y_true, y_pred)\n",
    "    \n",
    "    scores = np.stack(scores.values)\n",
    "    scores = scores[np.arange(scores.shape[0]), y_pred]\n",
    "    \n",
    "    fpr, tpr, thresholds = roc_curve(y_true, scores)    \n",
    "    roc_auc = auc(tpr, fpr)# multi_class=\"ovr\", average=\"macro\")\n",
    "\n",
    "    print(f\"Accuracy: {acc}\")\n",
    "    print(f\"AUC: {roc_auc}\")\n",
    "    \n",
    "    if matrix_display:\n",
    "        c_m = confusion_matrix(y_true, y_pred)\n",
    "        cmp = ConfusionMatrixDisplay(\n",
    "            c_m, display_labels=classes)\n",
    "        fig, ax = plt.subplots(figsize=(4,4))\n",
    "        cmp.plot(ax=ax)  \n",
    "    \n",
    "    report = pd.DataFrame(\n",
    "        classification_report(y_true, y_pred, target_names=classes, output_dict=True)).transpose()\n",
    "    \n",
    "    display(report)\n",
    "    \n",
    "target_names = [\"Not Misinformation\", \"Misinformation\"]\n",
    "# display(Markdown(\"**Waterloo-Cards**\"))\n",
    "scores = test['roberta_proba'].apply(lambda x: sum(x[1:]))\n",
    "# scores = test.apply(lambda x: x[f\"{model}_proba\"][x[f\"{model}_pred\"]], axis=1).values\n",
    "report(test.labels, test['roberta_pred'], test['roberta_proba'], target_names)"
   ]
  },
  {
   "cell_type": "code",
   "execution_count": 6,
   "id": "4bc29cda",
   "metadata": {},
   "outputs": [
    {
     "name": "stdout",
     "output_type": "stream",
     "text": [
      "Accuracy: 0.9635949943117179\n",
      "AUC: 0.9695234081198993\n"
     ]
    },
    {
     "data": {
      "text/html": [
       "<div>\n",
       "<style scoped>\n",
       "    .dataframe tbody tr th:only-of-type {\n",
       "        vertical-align: middle;\n",
       "    }\n",
       "\n",
       "    .dataframe tbody tr th {\n",
       "        vertical-align: top;\n",
       "    }\n",
       "\n",
       "    .dataframe thead th {\n",
       "        text-align: right;\n",
       "    }\n",
       "</style>\n",
       "<table border=\"1\" class=\"dataframe\">\n",
       "  <thead>\n",
       "    <tr style=\"text-align: right;\">\n",
       "      <th></th>\n",
       "      <th>precision</th>\n",
       "      <th>recall</th>\n",
       "      <th>f1-score</th>\n",
       "      <th>support</th>\n",
       "    </tr>\n",
       "  </thead>\n",
       "  <tbody>\n",
       "    <tr>\n",
       "      <th>Not Misinformation</th>\n",
       "      <td>0.979260</td>\n",
       "      <td>0.980731</td>\n",
       "      <td>0.979995</td>\n",
       "      <td>3996.000000</td>\n",
       "    </tr>\n",
       "    <tr>\n",
       "      <th>Misinformation</th>\n",
       "      <td>0.804071</td>\n",
       "      <td>0.791980</td>\n",
       "      <td>0.797980</td>\n",
       "      <td>399.000000</td>\n",
       "    </tr>\n",
       "    <tr>\n",
       "      <th>accuracy</th>\n",
       "      <td>0.963595</td>\n",
       "      <td>0.963595</td>\n",
       "      <td>0.963595</td>\n",
       "      <td>0.963595</td>\n",
       "    </tr>\n",
       "    <tr>\n",
       "      <th>macro avg</th>\n",
       "      <td>0.891666</td>\n",
       "      <td>0.886355</td>\n",
       "      <td>0.888987</td>\n",
       "      <td>4395.000000</td>\n",
       "    </tr>\n",
       "    <tr>\n",
       "      <th>weighted avg</th>\n",
       "      <td>0.963356</td>\n",
       "      <td>0.963595</td>\n",
       "      <td>0.963471</td>\n",
       "      <td>4395.000000</td>\n",
       "    </tr>\n",
       "  </tbody>\n",
       "</table>\n",
       "</div>"
      ],
      "text/plain": [
       "                    precision    recall  f1-score      support\n",
       "Not Misinformation   0.979260  0.980731  0.979995  3996.000000\n",
       "Misinformation       0.804071  0.791980  0.797980   399.000000\n",
       "accuracy             0.963595  0.963595  0.963595     0.963595\n",
       "macro avg            0.891666  0.886355  0.888987  4395.000000\n",
       "weighted avg         0.963356  0.963595  0.963471  4395.000000"
      ]
     },
     "execution_count": 6,
     "metadata": {},
     "output_type": "execute_result"
    },
    {
     "data": {
      "image/png": "[encoded data removed]",
      "text/plain": [
       "<Figure size 288x288 with 2 Axes>"
      ]
     },
     "metadata": {
      "needs_background": "light"
     },
     "output_type": "display_data"
    }
   ],
   "source": [
    "test_twitter = test[~test.tweetid.isna()]\n",
    "scores = test_twitter['roberta_new_pipe_proba'].apply(lambda x: sum(x[1:]))\n",
    "report(test_twitter.labels, test_twitter['roberta_new_pipe_pred'], scores, target_names)"
   ]
  },
  {
   "cell_type": "code",
   "execution_count": 7,
   "id": "2068e06b",
   "metadata": {},
   "outputs": [
    {
     "name": "stdout",
     "output_type": "stream",
     "text": [
      "Accuracy: 0.903236914600551\n",
      "AUC: 0.961584700808091\n"
     ]
    },
    {
     "data": {
      "text/html": [
       "<div>\n",
       "<style scoped>\n",
       "    .dataframe tbody tr th:only-of-type {\n",
       "        vertical-align: middle;\n",
       "    }\n",
       "\n",
       "    .dataframe tbody tr th {\n",
       "        vertical-align: top;\n",
       "    }\n",
       "\n",
       "    .dataframe thead th {\n",
       "        text-align: right;\n",
       "    }\n",
       "</style>\n",
       "<table border=\"1\" class=\"dataframe\">\n",
       "  <thead>\n",
       "    <tr style=\"text-align: right;\">\n",
       "      <th></th>\n",
       "      <th>precision</th>\n",
       "      <th>recall</th>\n",
       "      <th>f1-score</th>\n",
       "      <th>support</th>\n",
       "    </tr>\n",
       "  </thead>\n",
       "  <tbody>\n",
       "    <tr>\n",
       "      <th>Not Misinformation</th>\n",
       "      <td>0.900054</td>\n",
       "      <td>0.944698</td>\n",
       "      <td>0.921836</td>\n",
       "      <td>1754.000000</td>\n",
       "    </tr>\n",
       "    <tr>\n",
       "      <th>Misinformation</th>\n",
       "      <td>0.908749</td>\n",
       "      <td>0.840000</td>\n",
       "      <td>0.873023</td>\n",
       "      <td>1150.000000</td>\n",
       "    </tr>\n",
       "    <tr>\n",
       "      <th>accuracy</th>\n",
       "      <td>0.903237</td>\n",
       "      <td>0.903237</td>\n",
       "      <td>0.903237</td>\n",
       "      <td>0.903237</td>\n",
       "    </tr>\n",
       "    <tr>\n",
       "      <th>macro avg</th>\n",
       "      <td>0.904402</td>\n",
       "      <td>0.892349</td>\n",
       "      <td>0.897429</td>\n",
       "      <td>2904.000000</td>\n",
       "    </tr>\n",
       "    <tr>\n",
       "      <th>weighted avg</th>\n",
       "      <td>0.903497</td>\n",
       "      <td>0.903237</td>\n",
       "      <td>0.902506</td>\n",
       "      <td>2904.000000</td>\n",
       "    </tr>\n",
       "  </tbody>\n",
       "</table>\n",
       "</div>"
      ],
      "text/plain": [
       "                    precision    recall  f1-score      support\n",
       "Not Misinformation   0.900054  0.944698  0.921836  1754.000000\n",
       "Misinformation       0.908749  0.840000  0.873023  1150.000000\n",
       "accuracy             0.903237  0.903237  0.903237     0.903237\n",
       "macro avg            0.904402  0.892349  0.897429  2904.000000\n",
       "weighted avg         0.903497  0.903237  0.902506  2904.000000"
      ]
     },
     "execution_count": 7,
     "metadata": {},
     "output_type": "execute_result"
    },
    {
     "data": {
      "image/png": "[encoded data removed]",
      "text/plain": [
       "<Figure size 288x288 with 2 Axes>"
      ]
     },
     "metadata": {
      "needs_background": "light"
     },
     "output_type": "display_data"
    }
   ],
   "source": [
    "test_cards = test[test.tweetid.isna()]\n",
    "scores = test_cards['roberta_new_pipe_proba'].apply(lambda x: sum(x[1:]))\n",
    "report(test_cards.labels, test_cards['roberta_new_pipe_pred'], scores, target_names)"
   ]
  },
  {
   "cell_type": "code",
   "execution_count": 11,
   "id": "a230b0c8",
   "metadata": {},
   "outputs": [
    {
     "name": "stdout",
     "output_type": "stream",
     "text": [
      "Accuracy: 0.9341005617207837\n",
      "AUC: 0.9715538215398434\n"
     ]
    },
    {
     "data": {
      "text/html": [
       "<div>\n",
       "<style scoped>\n",
       "    .dataframe tbody tr th:only-of-type {\n",
       "        vertical-align: middle;\n",
       "    }\n",
       "\n",
       "    .dataframe tbody tr th {\n",
       "        vertical-align: top;\n",
       "    }\n",
       "\n",
       "    .dataframe thead th {\n",
       "        text-align: right;\n",
       "    }\n",
       "</style>\n",
       "<table border=\"1\" class=\"dataframe\">\n",
       "  <thead>\n",
       "    <tr style=\"text-align: right;\">\n",
       "      <th></th>\n",
       "      <th>precision</th>\n",
       "      <th>recall</th>\n",
       "      <th>f1-score</th>\n",
       "      <th>support</th>\n",
       "    </tr>\n",
       "  </thead>\n",
       "  <tbody>\n",
       "    <tr>\n",
       "      <th>Not Misinformation</th>\n",
       "      <td>0.946753</td>\n",
       "      <td>0.970957</td>\n",
       "      <td>0.958702</td>\n",
       "      <td>5750.000000</td>\n",
       "    </tr>\n",
       "    <tr>\n",
       "      <th>Misinformation</th>\n",
       "      <td>0.880884</td>\n",
       "      <td>0.797289</td>\n",
       "      <td>0.837004</td>\n",
       "      <td>1549.000000</td>\n",
       "    </tr>\n",
       "    <tr>\n",
       "      <th>accuracy</th>\n",
       "      <td>0.934101</td>\n",
       "      <td>0.934101</td>\n",
       "      <td>0.934101</td>\n",
       "      <td>0.934101</td>\n",
       "    </tr>\n",
       "    <tr>\n",
       "      <th>macro avg</th>\n",
       "      <td>0.913819</td>\n",
       "      <td>0.884123</td>\n",
       "      <td>0.897853</td>\n",
       "      <td>7299.000000</td>\n",
       "    </tr>\n",
       "    <tr>\n",
       "      <th>weighted avg</th>\n",
       "      <td>0.932774</td>\n",
       "      <td>0.934101</td>\n",
       "      <td>0.932875</td>\n",
       "      <td>7299.000000</td>\n",
       "    </tr>\n",
       "  </tbody>\n",
       "</table>\n",
       "</div>"
      ],
      "text/plain": [
       "                    precision    recall  f1-score      support\n",
       "Not Misinformation   0.946753  0.970957  0.958702  5750.000000\n",
       "Misinformation       0.880884  0.797289  0.837004  1549.000000\n",
       "accuracy             0.934101  0.934101  0.934101     0.934101\n",
       "macro avg            0.913819  0.884123  0.897853  7299.000000\n",
       "weighted avg         0.932774  0.934101  0.932875  7299.000000"
      ]
     },
     "execution_count": 11,
     "metadata": {},
     "output_type": "execute_result"
    },
    {
     "data": {
      "image/png": "[encoded data removed]",
      "text/plain": [
       "<Figure size 288x288 with 2 Axes>"
      ]
     },
     "metadata": {
      "needs_background": "light"
     },
     "output_type": "display_data"
    }
   ],
   "source": [
    "scores = test['roberta_cards_pipe_proba'].apply(lambda x: sum(x[1:]))\n",
    "report(test.labels, test['roberta_cards_pipe_pred'], scores, target_names)"
   ]
  },
  {
   "cell_type": "markdown",
   "id": "97278a55",
   "metadata": {},
   "source": [
    "## Bertweet"
   ]
  },
  {
   "cell_type": "code",
   "execution_count": 8,
   "id": "86e83a03",
   "metadata": {},
   "outputs": [
    {
     "name": "stdout",
     "output_type": "stream",
     "text": [
      "Accuracy: 0.935881627620222\n",
      "AUC: 0.9721501670081679\n"
     ]
    },
    {
     "data": {
      "text/html": [
       "<div>\n",
       "<style scoped>\n",
       "    .dataframe tbody tr th:only-of-type {\n",
       "        vertical-align: middle;\n",
       "    }\n",
       "\n",
       "    .dataframe tbody tr th {\n",
       "        vertical-align: top;\n",
       "    }\n",
       "\n",
       "    .dataframe thead th {\n",
       "        text-align: right;\n",
       "    }\n",
       "</style>\n",
       "<table border=\"1\" class=\"dataframe\">\n",
       "  <thead>\n",
       "    <tr style=\"text-align: right;\">\n",
       "      <th></th>\n",
       "      <th>precision</th>\n",
       "      <th>recall</th>\n",
       "      <th>f1-score</th>\n",
       "      <th>support</th>\n",
       "    </tr>\n",
       "  </thead>\n",
       "  <tbody>\n",
       "    <tr>\n",
       "      <th>Not Misinformation</th>\n",
       "      <td>0.950683</td>\n",
       "      <td>0.968870</td>\n",
       "      <td>0.959690</td>\n",
       "      <td>5750.000000</td>\n",
       "    </tr>\n",
       "    <tr>\n",
       "      <th>Misinformation</th>\n",
       "      <td>0.875608</td>\n",
       "      <td>0.813428</td>\n",
       "      <td>0.843373</td>\n",
       "      <td>1549.000000</td>\n",
       "    </tr>\n",
       "    <tr>\n",
       "      <th>accuracy</th>\n",
       "      <td>0.935882</td>\n",
       "      <td>0.935882</td>\n",
       "      <td>0.935882</td>\n",
       "      <td>0.935882</td>\n",
       "    </tr>\n",
       "    <tr>\n",
       "      <th>macro avg</th>\n",
       "      <td>0.913145</td>\n",
       "      <td>0.891149</td>\n",
       "      <td>0.901532</td>\n",
       "      <td>7299.000000</td>\n",
       "    </tr>\n",
       "    <tr>\n",
       "      <th>weighted avg</th>\n",
       "      <td>0.934750</td>\n",
       "      <td>0.935882</td>\n",
       "      <td>0.935005</td>\n",
       "      <td>7299.000000</td>\n",
       "    </tr>\n",
       "  </tbody>\n",
       "</table>\n",
       "</div>"
      ],
      "text/plain": [
       "                    precision    recall  f1-score      support\n",
       "Not Misinformation   0.950683  0.968870  0.959690  5750.000000\n",
       "Misinformation       0.875608  0.813428  0.843373  1549.000000\n",
       "accuracy             0.935882  0.935882  0.935882     0.935882\n",
       "macro avg            0.913145  0.891149  0.901532  7299.000000\n",
       "weighted avg         0.934750  0.935882  0.935005  7299.000000"
      ]
     },
     "execution_count": 8,
     "metadata": {},
     "output_type": "execute_result"
    },
    {
     "data": {
      "image/png": "[encoded data removed]",
      "text/plain": [
       "<Figure size 288x288 with 2 Axes>"
      ]
     },
     "metadata": {
      "needs_background": "light"
     },
     "output_type": "display_data"
    }
   ],
   "source": [
    "target_names = [\"Not Misinformation\", \"Misinformation\"]\n",
    "# display(Markdown(\"**Waterloo-Cards**\"))\n",
    "scores = test['bertweet_proba'].apply(lambda x: sum(x[1:]))\n",
    "report(test.labels, test['bertweet_pred'], scores, target_names)"
   ]
  },
  {
   "cell_type": "code",
   "execution_count": 9,
   "id": "c5794920",
   "metadata": {},
   "outputs": [
    {
     "name": "stdout",
     "output_type": "stream",
     "text": [
      "Accuracy: 0.9620022753128555\n",
      "AUC: 0.9724009724009725\n"
     ]
    },
    {
     "data": {
      "text/html": [
       "<div>\n",
       "<style scoped>\n",
       "    .dataframe tbody tr th:only-of-type {\n",
       "        vertical-align: middle;\n",
       "    }\n",
       "\n",
       "    .dataframe tbody tr th {\n",
       "        vertical-align: top;\n",
       "    }\n",
       "\n",
       "    .dataframe thead th {\n",
       "        text-align: right;\n",
       "    }\n",
       "</style>\n",
       "<table border=\"1\" class=\"dataframe\">\n",
       "  <thead>\n",
       "    <tr style=\"text-align: right;\">\n",
       "      <th></th>\n",
       "      <th>precision</th>\n",
       "      <th>recall</th>\n",
       "      <th>f1-score</th>\n",
       "      <th>support</th>\n",
       "    </tr>\n",
       "  </thead>\n",
       "  <tbody>\n",
       "    <tr>\n",
       "      <th>Not Misinformation</th>\n",
       "      <td>0.977312</td>\n",
       "      <td>0.980981</td>\n",
       "      <td>0.979143</td>\n",
       "      <td>3996.000000</td>\n",
       "    </tr>\n",
       "    <tr>\n",
       "      <th>Misinformation</th>\n",
       "      <td>0.802083</td>\n",
       "      <td>0.771930</td>\n",
       "      <td>0.786718</td>\n",
       "      <td>399.000000</td>\n",
       "    </tr>\n",
       "    <tr>\n",
       "      <th>accuracy</th>\n",
       "      <td>0.962002</td>\n",
       "      <td>0.962002</td>\n",
       "      <td>0.962002</td>\n",
       "      <td>0.962002</td>\n",
       "    </tr>\n",
       "    <tr>\n",
       "      <th>macro avg</th>\n",
       "      <td>0.889698</td>\n",
       "      <td>0.876455</td>\n",
       "      <td>0.882931</td>\n",
       "      <td>4395.000000</td>\n",
       "    </tr>\n",
       "    <tr>\n",
       "      <th>weighted avg</th>\n",
       "      <td>0.961404</td>\n",
       "      <td>0.962002</td>\n",
       "      <td>0.961674</td>\n",
       "      <td>4395.000000</td>\n",
       "    </tr>\n",
       "  </tbody>\n",
       "</table>\n",
       "</div>"
      ],
      "text/plain": [
       "                    precision    recall  f1-score      support\n",
       "Not Misinformation   0.977312  0.980981  0.979143  3996.000000\n",
       "Misinformation       0.802083  0.771930  0.786718   399.000000\n",
       "accuracy             0.962002  0.962002  0.962002     0.962002\n",
       "macro avg            0.889698  0.876455  0.882931  4395.000000\n",
       "weighted avg         0.961404  0.962002  0.961674  4395.000000"
      ]
     },
     "execution_count": 9,
     "metadata": {},
     "output_type": "execute_result"
    },
    {
     "data": {
      "image/png": "[encoded data removed]",
      "text/plain": [
       "<Figure size 288x288 with 2 Axes>"
      ]
     },
     "metadata": {
      "needs_background": "light"
     },
     "output_type": "display_data"
    }
   ],
   "source": [
    "scores = test_twitter['bertweet_proba'].apply(lambda x: sum(x[1:]))\n",
    "report(test_twitter.labels, test_twitter['bertweet_pred'], scores, target_names)"
   ]
  },
  {
   "cell_type": "code",
   "execution_count": 10,
   "id": "e40ec925",
   "metadata": {},
   "outputs": [
    {
     "name": "stdout",
     "output_type": "stream",
     "text": [
      "Accuracy: 0.8963498622589532\n",
      "AUC: 0.9585196569332208\n"
     ]
    },
    {
     "data": {
      "text/html": [
       "<div>\n",
       "<style scoped>\n",
       "    .dataframe tbody tr th:only-of-type {\n",
       "        vertical-align: middle;\n",
       "    }\n",
       "\n",
       "    .dataframe tbody tr th {\n",
       "        vertical-align: top;\n",
       "    }\n",
       "\n",
       "    .dataframe thead th {\n",
       "        text-align: right;\n",
       "    }\n",
       "</style>\n",
       "<table border=\"1\" class=\"dataframe\">\n",
       "  <thead>\n",
       "    <tr style=\"text-align: right;\">\n",
       "      <th></th>\n",
       "      <th>precision</th>\n",
       "      <th>recall</th>\n",
       "      <th>f1-score</th>\n",
       "      <th>support</th>\n",
       "    </tr>\n",
       "  </thead>\n",
       "  <tbody>\n",
       "    <tr>\n",
       "      <th>Not Misinformation</th>\n",
       "      <td>0.892915</td>\n",
       "      <td>0.941277</td>\n",
       "      <td>0.916459</td>\n",
       "      <td>1754.00000</td>\n",
       "    </tr>\n",
       "    <tr>\n",
       "      <th>Misinformation</th>\n",
       "      <td>0.902370</td>\n",
       "      <td>0.827826</td>\n",
       "      <td>0.863492</td>\n",
       "      <td>1150.00000</td>\n",
       "    </tr>\n",
       "    <tr>\n",
       "      <th>accuracy</th>\n",
       "      <td>0.896350</td>\n",
       "      <td>0.896350</td>\n",
       "      <td>0.896350</td>\n",
       "      <td>0.89635</td>\n",
       "    </tr>\n",
       "    <tr>\n",
       "      <th>macro avg</th>\n",
       "      <td>0.897642</td>\n",
       "      <td>0.884552</td>\n",
       "      <td>0.889975</td>\n",
       "      <td>2904.00000</td>\n",
       "    </tr>\n",
       "    <tr>\n",
       "      <th>weighted avg</th>\n",
       "      <td>0.896659</td>\n",
       "      <td>0.896350</td>\n",
       "      <td>0.895484</td>\n",
       "      <td>2904.00000</td>\n",
       "    </tr>\n",
       "  </tbody>\n",
       "</table>\n",
       "</div>"
      ],
      "text/plain": [
       "                    precision    recall  f1-score     support\n",
       "Not Misinformation   0.892915  0.941277  0.916459  1754.00000\n",
       "Misinformation       0.902370  0.827826  0.863492  1150.00000\n",
       "accuracy             0.896350  0.896350  0.896350     0.89635\n",
       "macro avg            0.897642  0.884552  0.889975  2904.00000\n",
       "weighted avg         0.896659  0.896350  0.895484  2904.00000"
      ]
     },
     "execution_count": 10,
     "metadata": {},
     "output_type": "execute_result"
    },
    {
     "data": {
      "image/png": "[encoded data removed]",
      "text/plain": [
       "<Figure size 288x288 with 2 Axes>"
      ]
     },
     "metadata": {
      "needs_background": "light"
     },
     "output_type": "display_data"
    }
   ],
   "source": [
    "scores = test_cards['bertweet_proba'].apply(lambda x: sum(x[1:]))\n",
    "report(test_cards.labels, test_cards['bertweet_pred'], scores, target_names)"
   ]
  },
  {
   "cell_type": "markdown",
   "id": "525925fe",
   "metadata": {},
   "source": [
    "## Electra"
   ]
  },
  {
   "cell_type": "code",
   "execution_count": 10,
   "id": "45af0500",
   "metadata": {},
   "outputs": [
    {
     "data": {
      "text/plain": [
       "TRAIN    58590\n",
       "TEST      7299\n",
       "VALID     6999\n",
       "Name: PARTITION, dtype: int64"
      ]
     },
     "execution_count": 10,
     "metadata": {},
     "output_type": "execute_result"
    }
   ],
   "source": [
    "data[\"PARTITION\"].value_counts()"
   ]
  },
  {
   "cell_type": "code",
   "execution_count": 20,
   "id": "638d9e70",
   "metadata": {},
   "outputs": [],
   "source": [
    "valid = data[data[\"PARTITION\"] == \"VALID\"]"
   ]
  },
  {
   "cell_type": "code",
   "execution_count": 11,
   "id": "9f19adf6",
   "metadata": {},
   "outputs": [
    {
     "data": {
      "text/plain": [
       "0    5807\n",
       "1    1192\n",
       "Name: labels, dtype: int64"
      ]
     },
     "execution_count": 11,
     "metadata": {},
     "output_type": "execute_result"
    }
   ],
   "source": [
    "valid.labels.value_counts()"
   ]
  },
  {
   "cell_type": "code",
   "execution_count": 14,
   "id": "a4c0be40",
   "metadata": {},
   "outputs": [
    {
     "data": {
      "text/plain": [
       "True     4394\n",
       "False    2605\n",
       "Name: tweetid, dtype: int64"
      ]
     },
     "execution_count": 14,
     "metadata": {},
     "output_type": "execute_result"
    }
   ],
   "source": [
    "(~valid.tweetid.isna()).value_counts()"
   ]
  },
  {
   "cell_type": "code",
   "execution_count": 15,
   "id": "37ab1ab8",
   "metadata": {},
   "outputs": [],
   "source": [
    "data[\"electra_acc_proba\"] = data[\"electra_acc_proba\"].apply(format_scores)"
   ]
  },
  {
   "cell_type": "code",
   "execution_count": 19,
   "id": "8f0a91d3",
   "metadata": {},
   "outputs": [
    {
     "data": {
      "text/plain": [
       "array([[0.08122917, 0.91877079],\n",
       "       [0.58114386, 0.41885614],\n",
       "       [0.09896884, 0.90103114],\n",
       "       ...,\n",
       "       [0.10744187, 0.89255816],\n",
       "       [0.98637009, 0.0136299 ],\n",
       "       [0.98025572, 0.01974427]])"
      ]
     },
     "execution_count": 19,
     "metadata": {},
     "output_type": "execute_result"
    }
   ],
   "source": [
    "scores = np.stack(data[\"electra_acc_proba\"].values)\n",
    "scores"
   ]
  },
  {
   "cell_type": "code",
   "execution_count": 21,
   "id": "1220597c",
   "metadata": {},
   "outputs": [
    {
     "name": "stdout",
     "output_type": "stream",
     "text": [
      "Accuracy: 0.909558508358337\n",
      "AUC: 0.8756317589393963\n"
     ]
    },
    {
     "data": {
      "text/html": [
       "<div>\n",
       "<style scoped>\n",
       "    .dataframe tbody tr th:only-of-type {\n",
       "        vertical-align: middle;\n",
       "    }\n",
       "\n",
       "    .dataframe tbody tr th {\n",
       "        vertical-align: top;\n",
       "    }\n",
       "\n",
       "    .dataframe thead th {\n",
       "        text-align: right;\n",
       "    }\n",
       "</style>\n",
       "<table border=\"1\" class=\"dataframe\">\n",
       "  <thead>\n",
       "    <tr style=\"text-align: right;\">\n",
       "      <th></th>\n",
       "      <th>precision</th>\n",
       "      <th>recall</th>\n",
       "      <th>f1-score</th>\n",
       "      <th>support</th>\n",
       "    </tr>\n",
       "  </thead>\n",
       "  <tbody>\n",
       "    <tr>\n",
       "      <th>Not Misinformation</th>\n",
       "      <td>0.948976</td>\n",
       "      <td>0.941622</td>\n",
       "      <td>0.945285</td>\n",
       "      <td>5807.000000</td>\n",
       "    </tr>\n",
       "    <tr>\n",
       "      <th>Misinformation</th>\n",
       "      <td>0.725950</td>\n",
       "      <td>0.753356</td>\n",
       "      <td>0.739399</td>\n",
       "      <td>1192.000000</td>\n",
       "    </tr>\n",
       "    <tr>\n",
       "      <th>accuracy</th>\n",
       "      <td>0.909559</td>\n",
       "      <td>0.909559</td>\n",
       "      <td>0.909559</td>\n",
       "      <td>0.909559</td>\n",
       "    </tr>\n",
       "    <tr>\n",
       "      <th>macro avg</th>\n",
       "      <td>0.837463</td>\n",
       "      <td>0.847489</td>\n",
       "      <td>0.842342</td>\n",
       "      <td>6999.000000</td>\n",
       "    </tr>\n",
       "    <tr>\n",
       "      <th>weighted avg</th>\n",
       "      <td>0.910992</td>\n",
       "      <td>0.909559</td>\n",
       "      <td>0.910220</td>\n",
       "      <td>6999.000000</td>\n",
       "    </tr>\n",
       "  </tbody>\n",
       "</table>\n",
       "</div>"
      ],
      "text/plain": [
       "                    precision    recall  f1-score      support\n",
       "Not Misinformation   0.948976  0.941622  0.945285  5807.000000\n",
       "Misinformation       0.725950  0.753356  0.739399  1192.000000\n",
       "accuracy             0.909559  0.909559  0.909559     0.909559\n",
       "macro avg            0.837463  0.847489  0.842342  6999.000000\n",
       "weighted avg         0.910992  0.909559  0.910220  6999.000000"
      ]
     },
     "metadata": {},
     "output_type": "display_data"
    },
    {
     "data": {
      "image/png": "[encoded data removed]",
      "text/plain": [
       "<Figure size 288x288 with 2 Axes>"
      ]
     },
     "metadata": {
      "needs_background": "light"
     },
     "output_type": "display_data"
    }
   ],
   "source": [
    "# scores = valid['electra_proba'].apply(lambda x: sum(x[1:]))\n",
    "report(valid.labels, valid['electra_acc_pred'], valid['electra_acc_proba'], target_names)"
   ]
  },
  {
   "cell_type": "markdown",
   "id": "8954cf1b",
   "metadata": {},
   "source": [
    "## XLnet"
   ]
  },
  {
   "cell_type": "code",
   "execution_count": 9,
   "id": "38d485de",
   "metadata": {},
   "outputs": [
    {
     "name": "stdout",
     "output_type": "stream",
     "text": [
      "Accuracy: 0.9335525414440334\n",
      "AUC: 0.9692730794060684\n"
     ]
    },
    {
     "data": {
      "text/html": [
       "<div>\n",
       "<style scoped>\n",
       "    .dataframe tbody tr th:only-of-type {\n",
       "        vertical-align: middle;\n",
       "    }\n",
       "\n",
       "    .dataframe tbody tr th {\n",
       "        vertical-align: top;\n",
       "    }\n",
       "\n",
       "    .dataframe thead th {\n",
       "        text-align: right;\n",
       "    }\n",
       "</style>\n",
       "<table border=\"1\" class=\"dataframe\">\n",
       "  <thead>\n",
       "    <tr style=\"text-align: right;\">\n",
       "      <th></th>\n",
       "      <th>precision</th>\n",
       "      <th>recall</th>\n",
       "      <th>f1-score</th>\n",
       "      <th>support</th>\n",
       "    </tr>\n",
       "  </thead>\n",
       "  <tbody>\n",
       "    <tr>\n",
       "      <th>Not Misinformation</th>\n",
       "      <td>0.948238</td>\n",
       "      <td>0.968522</td>\n",
       "      <td>0.958272</td>\n",
       "      <td>5750.000000</td>\n",
       "    </tr>\n",
       "    <tr>\n",
       "      <th>Misinformation</th>\n",
       "      <td>0.873072</td>\n",
       "      <td>0.803744</td>\n",
       "      <td>0.836975</td>\n",
       "      <td>1549.000000</td>\n",
       "    </tr>\n",
       "    <tr>\n",
       "      <th>accuracy</th>\n",
       "      <td>0.933553</td>\n",
       "      <td>0.933553</td>\n",
       "      <td>0.933553</td>\n",
       "      <td>0.933553</td>\n",
       "    </tr>\n",
       "    <tr>\n",
       "      <th>macro avg</th>\n",
       "      <td>0.910655</td>\n",
       "      <td>0.886133</td>\n",
       "      <td>0.897624</td>\n",
       "      <td>7299.000000</td>\n",
       "    </tr>\n",
       "    <tr>\n",
       "      <th>weighted avg</th>\n",
       "      <td>0.932286</td>\n",
       "      <td>0.933553</td>\n",
       "      <td>0.932531</td>\n",
       "      <td>7299.000000</td>\n",
       "    </tr>\n",
       "  </tbody>\n",
       "</table>\n",
       "</div>"
      ],
      "text/plain": [
       "                    precision    recall  f1-score      support\n",
       "Not Misinformation   0.948238  0.968522  0.958272  5750.000000\n",
       "Misinformation       0.873072  0.803744  0.836975  1549.000000\n",
       "accuracy             0.933553  0.933553  0.933553     0.933553\n",
       "macro avg            0.910655  0.886133  0.897624  7299.000000\n",
       "weighted avg         0.932286  0.933553  0.932531  7299.000000"
      ]
     },
     "execution_count": 9,
     "metadata": {},
     "output_type": "execute_result"
    },
    {
     "data": {
      "image/png": "[encoded data removed]",
      "text/plain": [
       "<Figure size 288x288 with 2 Axes>"
      ]
     },
     "metadata": {
      "needs_background": "light"
     },
     "output_type": "display_data"
    }
   ],
   "source": [
    "scores = test['xlnet_proba'].apply(lambda x: sum(x[1:]))\n",
    "report(test.labels, test['xlnet_pred'], scores, target_names)"
   ]
  },
  {
   "cell_type": "markdown",
   "id": "aeb7861b",
   "metadata": {},
   "source": [
    "## GPT-3 Curie"
   ]
  },
  {
   "cell_type": "code",
   "execution_count": 50,
   "id": "79d1ec55",
   "metadata": {},
   "outputs": [
    {
     "data": {
      "text/plain": [
       "True     0.968078\n",
       "False    0.031922\n",
       "Name: gpt-3_curie_pred, dtype: float64"
      ]
     },
     "execution_count": 50,
     "metadata": {},
     "output_type": "execute_result"
    }
   ],
   "source": [
    "filter_ = test['gpt-3_curie_pred'].isin(['0', '1'])\n",
    "filter_.value_counts(normalize=True)"
   ]
  },
  {
   "cell_type": "code",
   "execution_count": 51,
   "id": "c1dba31a",
   "metadata": {},
   "outputs": [],
   "source": [
    "test_filtered = test[filter_]"
   ]
  },
  {
   "cell_type": "code",
   "execution_count": 53,
   "id": "d64658a0",
   "metadata": {},
   "outputs": [
    {
     "data": {
      "text/plain": [
       "0        0.927922\n",
       "1        0.973415\n",
       "2        0.659627\n",
       "3        0.740526\n",
       "4        0.932434\n",
       "           ...   \n",
       "72883    0.568256\n",
       "72884    0.751197\n",
       "72885    0.999858\n",
       "72886    0.999939\n",
       "72887    0.999523\n",
       "Name: gpt-3_curie_proba, Length: 72888, dtype: float64"
      ]
     },
     "execution_count": 53,
     "metadata": {},
     "output_type": "execute_result"
    }
   ],
   "source": [
    "data[\"gpt-3_curie_proba\"]"
   ]
  },
  {
   "cell_type": "code",
   "execution_count": 56,
   "id": "98791abd",
   "metadata": {},
   "outputs": [
    {
     "name": "stdout",
     "output_type": "stream",
     "text": [
      "Accuracy: 0.9506085479762242\n",
      "AUC: 0.713973749243664\n"
     ]
    },
    {
     "data": {
      "text/html": [
       "<div>\n",
       "<style scoped>\n",
       "    .dataframe tbody tr th:only-of-type {\n",
       "        vertical-align: middle;\n",
       "    }\n",
       "\n",
       "    .dataframe tbody tr th {\n",
       "        vertical-align: top;\n",
       "    }\n",
       "\n",
       "    .dataframe thead th {\n",
       "        text-align: right;\n",
       "    }\n",
       "</style>\n",
       "<table border=\"1\" class=\"dataframe\">\n",
       "  <thead>\n",
       "    <tr style=\"text-align: right;\">\n",
       "      <th></th>\n",
       "      <th>precision</th>\n",
       "      <th>recall</th>\n",
       "      <th>f1-score</th>\n",
       "      <th>support</th>\n",
       "    </tr>\n",
       "  </thead>\n",
       "  <tbody>\n",
       "    <tr>\n",
       "      <th>Not Misinformation</th>\n",
       "      <td>0.951911</td>\n",
       "      <td>0.987262</td>\n",
       "      <td>0.969265</td>\n",
       "      <td>5574.000000</td>\n",
       "    </tr>\n",
       "    <tr>\n",
       "      <th>Misinformation</th>\n",
       "      <td>0.944747</td>\n",
       "      <td>0.813673</td>\n",
       "      <td>0.874325</td>\n",
       "      <td>1492.000000</td>\n",
       "    </tr>\n",
       "    <tr>\n",
       "      <th>accuracy</th>\n",
       "      <td>0.950609</td>\n",
       "      <td>0.950609</td>\n",
       "      <td>0.950609</td>\n",
       "      <td>0.950609</td>\n",
       "    </tr>\n",
       "    <tr>\n",
       "      <th>macro avg</th>\n",
       "      <td>0.948329</td>\n",
       "      <td>0.900468</td>\n",
       "      <td>0.921795</td>\n",
       "      <td>7066.000000</td>\n",
       "    </tr>\n",
       "    <tr>\n",
       "      <th>weighted avg</th>\n",
       "      <td>0.950399</td>\n",
       "      <td>0.950609</td>\n",
       "      <td>0.949218</td>\n",
       "      <td>7066.000000</td>\n",
       "    </tr>\n",
       "  </tbody>\n",
       "</table>\n",
       "</div>"
      ],
      "text/plain": [
       "                    precision    recall  f1-score      support\n",
       "Not Misinformation   0.951911  0.987262  0.969265  5574.000000\n",
       "Misinformation       0.944747  0.813673  0.874325  1492.000000\n",
       "accuracy             0.950609  0.950609  0.950609     0.950609\n",
       "macro avg            0.948329  0.900468  0.921795  7066.000000\n",
       "weighted avg         0.950399  0.950609  0.949218  7066.000000"
      ]
     },
     "metadata": {},
     "output_type": "display_data"
    },
    {
     "data": {
      "image/png": "[encoded data removed]",
      "text/plain": [
       "<Figure size 288x288 with 2 Axes>"
      ]
     },
     "metadata": {
      "needs_background": "light"
     },
     "output_type": "display_data"
    }
   ],
   "source": [
    "# scores = test_filtered.apply(\n",
    "#     lambda x: x['gpt-3_curie_proba'] if ['gpt-3_curie_pred']==0 else 1-x['gpt-3_curie_proba'], axis=1)\n",
    "report(test_filtered.labels, test_filtered['gpt-3_curie_pred'].apply(int), \n",
    "       test_filtered[\"gpt-3_curie_proba\"].values, target_names)"
   ]
  },
  {
   "cell_type": "code",
   "execution_count": 14,
   "id": "a349e1f9",
   "metadata": {},
   "outputs": [
    {
     "data": {
      "text/html": [
       "<div>\n",
       "<style scoped>\n",
       "    .dataframe tbody tr th:only-of-type {\n",
       "        vertical-align: middle;\n",
       "    }\n",
       "\n",
       "    .dataframe tbody tr th {\n",
       "        vertical-align: top;\n",
       "    }\n",
       "\n",
       "    .dataframe thead th {\n",
       "        text-align: right;\n",
       "    }\n",
       "</style>\n",
       "<table border=\"1\" class=\"dataframe\">\n",
       "  <thead>\n",
       "    <tr style=\"text-align: right;\">\n",
       "      <th></th>\n",
       "      <th>prompt</th>\n",
       "      <th>roberta_new_pipe_pred</th>\n",
       "      <th>gpt-3_curie_pred</th>\n",
       "    </tr>\n",
       "  </thead>\n",
       "  <tbody>\n",
       "    <tr>\n",
       "      <th>644</th>\n",
       "      <td>The cool conditions experienced in autumn 2011 are largely a result of the strong 2010/11 La Nia event which brought heavy rainfall and cool daytime temperatures to Australia, before decaying in late autumn. Of particular significance was March 2011 Australias coldest and wettest March on record for maximum temperatures and third wettest month on record (for any calendar month).</td>\n",
       "      <td>0</td>\n",
       "      <td>1</td>\n",
       "    </tr>\n",
       "    <tr>\n",
       "      <th>2547</th>\n",
       "      <td>Most of us gathered here are not climatologists or scientists in related disciplines of natural sciences, but economists, lawyers, sociologists and perhaps also politicians or ex-politicians who have been for years or decades involved in public policy debates. This is the reason why we follow with such an interest and with an even greater concern the prevailing intellectual and political climate, its biases and misconceptions, as well as its dangerous public policy consequences.</td>\n",
       "      <td>0</td>\n",
       "      <td>1</td>\n",
       "    </tr>\n",
       "    <tr>\n",
       "      <th>3386</th>\n",
       "      <td>Aerosols - suspended particles - in the atmosphere have various effects. Black carbon soot absorbs sunlight and heats the world up, but most other kinds of aerosol tend to cool things down, mostly by presenting nuclei for clouds to form on and so reflecting heat back into space. There is widespread scientific agreement, even among firmly pro-warmist researchers, that aerosols have powerful effects - but just how much aerosol can be expected in the atmosphere of the future is not at all well known, and current models aren't thought to handle this factor at all well.</td>\n",
       "      <td>0</td>\n",
       "      <td>1</td>\n",
       "    </tr>\n",
       "    <tr>\n",
       "      <th>5752</th>\n",
       "      <td>8 pm: Jaeah Lee, a nice fact-checker from Mother Jones, has a genial online video in which she tries (unsuccessfully) to figure out the trick to hide the decline, eventually being tricked by Briffa.</td>\n",
       "      <td>0</td>\n",
       "      <td>1</td>\n",
       "    </tr>\n",
       "    <tr>\n",
       "      <th>8249</th>\n",
       "      <td>Pauses as long as 15 years are rare in the simulations, and we expect that warming will resume in the next few years, the Hadley Centre group writes. Researchers agree that no sort of natural variability can hold off greenhouse warming much longer.</td>\n",
       "      <td>0</td>\n",
       "      <td>1</td>\n",
       "    </tr>\n",
       "    <tr>\n",
       "      <th>...</th>\n",
       "      <td>...</td>\n",
       "      <td>...</td>\n",
       "      <td>...</td>\n",
       "    </tr>\n",
       "    <tr>\n",
       "      <th>72586</th>\n",
       "      <td>@HillsHugeBeaver @sean_spicier @mariclaire81 Love this. Does climate change cut people's heads off??</td>\n",
       "      <td>0</td>\n",
       "      <td>1</td>\n",
       "    </tr>\n",
       "    <tr>\n",
       "      <th>72666</th>\n",
       "      <td>@1thinchip @Bitcoin_IRA They probably just created it to ruin our economy...like global warming.</td>\n",
       "      <td>0</td>\n",
       "      <td>1</td>\n",
       "    </tr>\n",
       "    <tr>\n",
       "      <th>72675</th>\n",
       "      <td>If global warming is real then why is there still sno- #snowday #climatechange https://t.co/wCDV3I2Bms</td>\n",
       "      <td>0</td>\n",
       "      <td>1</td>\n",
       "    </tr>\n",
       "    <tr>\n",
       "      <th>72719</th>\n",
       "      <td>@SenGillibrand Do people have anything to do with climate change, Kirsten? If yes, why are you for open borders? Whâ€¦ https://t.co/38z6eRcTfq</td>\n",
       "      <td>0</td>\n",
       "      <td>1</td>\n",
       "    </tr>\n",
       "    <tr>\n",
       "      <th>72885</th>\n",
       "      <td>What a joke, does @BorisJohnson believe in man made climate change?\\nAnother lie and fraud by Johnson I think #NAD https://t.co/3s5rIBfiIy</td>\n",
       "      <td>0</td>\n",
       "      <td>1</td>\n",
       "    </tr>\n",
       "  </tbody>\n",
       "</table>\n",
       "<p>248 rows × 3 columns</p>\n",
       "</div>"
      ],
      "text/plain": [
       "                                                                                                                                                                                                                                                                                                                                                                                                                                                                                                                                                                                            prompt  \\\n",
       "644                                                                                                                                                                                                  The cool conditions experienced in autumn 2011 are largely a result of the strong 2010/11 La Nia event which brought heavy rainfall and cool daytime temperatures to Australia, before decaying in late autumn. Of particular significance was March 2011 Australias coldest and wettest March on record for maximum temperatures and third wettest month on record (for any calendar month).   \n",
       "2547                                                                                           Most of us gathered here are not climatologists or scientists in related disciplines of natural sciences, but economists, lawyers, sociologists and perhaps also politicians or ex-politicians who have been for years or decades involved in public policy debates. This is the reason why we follow with such an interest and with an even greater concern the prevailing intellectual and political climate, its biases and misconceptions, as well as its dangerous public policy consequences.   \n",
       "3386   Aerosols - suspended particles - in the atmosphere have various effects. Black carbon soot absorbs sunlight and heats the world up, but most other kinds of aerosol tend to cool things down, mostly by presenting nuclei for clouds to form on and so reflecting heat back into space. There is widespread scientific agreement, even among firmly pro-warmist researchers, that aerosols have powerful effects - but just how much aerosol can be expected in the atmosphere of the future is not at all well known, and current models aren't thought to handle this factor at all well.   \n",
       "5752                                                                                                                                                                                                                                                                                                                                                                                        8 pm: Jaeah Lee, a nice fact-checker from Mother Jones, has a genial online video in which she tries (unsuccessfully) to figure out the trick to hide the decline, eventually being tricked by Briffa.   \n",
       "8249                                                                                                                                                                                                                                                                                                                                      Pauses as long as 15 years are rare in the simulations, and we expect that warming will resume in the next few years, the Hadley Centre group writes. Researchers agree that no sort of natural variability can hold off greenhouse warming much longer.   \n",
       "...                                                                                                                                                                                                                                                                                                                                                                                                                                                                                                                                                                                            ...   \n",
       "72586                                                                                                                                                                                                                                                                                                                                                                                                                                                                                         @HillsHugeBeaver @sean_spicier @mariclaire81 Love this. Does climate change cut people's heads off??   \n",
       "72666                                                                                                                                                                                                                                                                                                                                                                                                                                                                                             @1thinchip @Bitcoin_IRA They probably just created it to ruin our economy...like global warming.   \n",
       "72675                                                                                                                                                                                                                                                                                                                                                                                                                                                                                       If global warming is real then why is there still sno- #snowday #climatechange https://t.co/wCDV3I2Bms   \n",
       "72719                                                                                                                                                                                                                                                                                                                                                                                                                                               @SenGillibrand Do people have anything to do with climate change, Kirsten? If yes, why are you for open borders? Whâ€¦ https://t.co/38z6eRcTfq   \n",
       "72885                                                                                                                                                                                                                                                                                                                                                                                                                                                   What a joke, does @BorisJohnson believe in man made climate change?\\nAnother lie and fraud by Johnson I think #NAD https://t.co/3s5rIBfiIy   \n",
       "\n",
       "       roberta_new_pipe_pred gpt-3_curie_pred  \n",
       "644                        0                1  \n",
       "2547                       0                1  \n",
       "3386                       0                1  \n",
       "5752                       0                1  \n",
       "8249                       0                1  \n",
       "...                      ...              ...  \n",
       "72586                      0                1  \n",
       "72666                      0                1  \n",
       "72675                      0                1  \n",
       "72719                      0                1  \n",
       "72885                      0                1  \n",
       "\n",
       "[248 rows x 3 columns]"
      ]
     },
     "execution_count": 14,
     "metadata": {},
     "output_type": "execute_result"
    }
   ],
   "source": [
    "data_analysis = data[(data.labels==1) & (data.roberta_new_pipe_pred==0) & (data[\"gpt-3_curie_pred\"]=='1')][[\n",
    "    \"prompt\", \"roberta_new_pipe_pred\", \"gpt-3_curie_pred\"]]\n",
    "data_analysis"
   ]
  }
 ],
 "metadata": {
  "kernelspec": {
   "display_name": "Python 3 (ipykernel)",
   "language": "python",
   "name": "python3"
  },
  "language_info": {
   "codemirror_mode": {
    "name": "ipython",
    "version": 3
   },
   "file_extension": ".py",
   "mimetype": "text/x-python",
   "name": "python",
   "nbconvert_exporter": "python",
   "pygments_lexer": "ipython3",
   "version": "3.8.13"
  },
  "toc": {
   "base_numbering": 1,
   "nav_menu": {},
   "number_sections": true,
   "sideBar": true,
   "skip_h1_title": false,
   "title_cell": "Table of Contents",
   "title_sidebar": "Contents",
   "toc_cell": false,
   "toc_position": {
    "height": "calc(100% - 180px)",
    "left": "10px",
    "top": "150px",
    "width": "165px"
   },
   "toc_section_display": true,
   "toc_window_display": true
  }
 },
 "nbformat": 4,
 "nbformat_minor": 5
}
