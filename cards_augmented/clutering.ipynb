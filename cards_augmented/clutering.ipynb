{
 "cells": [
  {
   "cell_type": "code",
   "execution_count": 1,
   "id": "69249441",
   "metadata": {
    "ExecuteTime": {
     "end_time": "2023-04-09T13:01:52.065924Z",
     "start_time": "2023-04-09T13:01:46.834554Z"
    }
   },
   "outputs": [],
   "source": [
    "import re\n",
    "import torch\n",
    "import pickle\n",
    "import unicodedata\n",
    "import pandas as pd\n",
    "import matplotlib.pyplot as plt\n",
    "\n",
    "from scipy.special import softmax\n",
    "from sklearn.manifold import TSNE\n",
    "from sklearn.preprocessing import LabelEncoder\n",
    "from simpletransformers.classification import ClassificationModel"
   ]
  },
  {
   "cell_type": "code",
   "execution_count": 2,
   "id": "ce9e26d1",
   "metadata": {
    "ExecuteTime": {
     "end_time": "2023-04-09T13:01:52.242304Z",
     "start_time": "2023-04-09T13:01:52.067473Z"
    }
   },
   "outputs": [],
   "source": [
    "data = pd.read_csv(\"../datasets/augmented/9834838408490912248/cards_augmented_0_V1.csv\")"
   ]
  },
  {
   "cell_type": "code",
   "execution_count": 3,
   "id": "7c8d9084",
   "metadata": {
    "ExecuteTime": {
     "end_time": "2023-04-09T13:01:52.249128Z",
     "start_time": "2023-04-09T13:01:52.246055Z"
    }
   },
   "outputs": [
    {
     "name": "stderr",
     "output_type": "stream",
     "text": [
      "/opt/conda/envs/uni/lib/python3.8/site-packages/sklearn/base.py:329: UserWarning: Trying to unpickle estimator LabelEncoder from version 1.2.0 when using version 1.1.2. This might lead to breaking code or invalid results. Use at your own risk. For more info please refer to:\n",
      "https://scikit-learn.org/stable/model_persistence.html#security-maintainability-limitations\n",
      "  warnings.warn(\n"
     ]
    }
   ],
   "source": [
    "with open('../cards/models/label_encoder.pkl', 'rb') as f:\n",
    "    le = pickle.load(f)"
   ]
  },
  {
   "cell_type": "code",
   "execution_count": 4,
   "id": "cc162f34",
   "metadata": {
    "ExecuteTime": {
     "end_time": "2023-04-09T13:01:52.468910Z",
     "start_time": "2023-04-09T13:01:52.250067Z"
    }
   },
   "outputs": [],
   "source": [
    "# Load and pre-process the text data\n",
    "# Define text pre-processing functions\n",
    "def remove_between_square_brackets(text):\n",
    "    return re.sub('\\[[^]]*\\]', '', text)\n",
    "def remove_non_ascii(text):\n",
    "    \"\"\"Remove non-ASCII characters from list of tokenized words\"\"\"\n",
    "    return unicodedata.normalize('NFKD', text).encode('ascii', 'ignore').decode('utf-8', 'ignore')\n",
    "def strip_underscores(text):\n",
    "    return re.sub(r'_+', ' ', text)\n",
    "def remove_multiple_spaces(text):\n",
    "    return re.sub(r'\\s{2,}', ' ', text)\n",
    "\n",
    "# Merge text pre-processing functions\n",
    "def denoise_text(text):\n",
    "    text = remove_between_square_brackets(text)\n",
    "    text = remove_non_ascii(text)\n",
    "    text = strip_underscores(text)\n",
    "    text = remove_multiple_spaces(text)\n",
    "    return text.strip()\n",
    "\n",
    "data[\"p_text\"] = data.text.astype(str).apply(denoise_text)"
   ]
  },
  {
   "cell_type": "code",
   "execution_count": 5,
   "id": "5172ae50",
   "metadata": {
    "ExecuteTime": {
     "end_time": "2023-04-09T13:01:54.998307Z",
     "start_time": "2023-04-09T13:01:52.470053Z"
    }
   },
   "outputs": [
    {
     "name": "stderr",
     "output_type": "stream",
     "text": [
      "Some weights of the model checkpoint at ../cards/models/CARDS_RoBERTa_Classifier were not used when initializing RobertaForSequenceClassification: ['roberta.pooler.dense.weight', 'roberta.pooler.dense.bias']\n",
      "- This IS expected if you are initializing RobertaForSequenceClassification from the checkpoint of a model trained on another task or with another architecture (e.g. initializing a BertForSequenceClassification model from a BertForPreTraining model).\n",
      "- This IS NOT expected if you are initializing RobertaForSequenceClassification from the checkpoint of a model that you expect to be exactly identical (initializing a BertForSequenceClassification model from a BertForSequenceClassification model).\n"
     ]
    }
   ],
   "source": [
    "# Define the model \n",
    "architecture = 'roberta'\n",
    "# model_name = 'CARDS_RoBERTa_Classifier'\n",
    "model_name = \"../cards/models/CARDS_RoBERTa_Classifier\"\n",
    "\n",
    "# Load the classifier\n",
    "roberta_model = ClassificationModel(architecture, model_name, use_cuda=False)\n",
    "roberta_model.config.output_hidden_states = True"
   ]
  },
  {
   "cell_type": "code",
   "execution_count": null,
   "id": "b6432ee0",
   "metadata": {
    "ExecuteTime": {
     "start_time": "2023-04-09T13:01:46.837Z"
    },
    "scrolled": false
   },
   "outputs": [
    {
     "data": {
      "application/vnd.jupyter.widget-view+json": {
       "model_id": "4d1a81d9ec71462693563f1e67fbbd20",
       "version_major": 2,
       "version_minor": 0
      },
      "text/plain": [
       "  0%|          | 0/28945 [00:00<?, ?it/s]"
      ]
     },
     "metadata": {},
     "output_type": "display_data"
    },
    {
     "name": "stderr",
     "output_type": "stream",
     "text": [
      "Token indices sequence length is longer than the specified maximum sequence length for this model (1662 > 512). Running this sequence through the model will result in indexing errors\n",
      "Token indices sequence length is longer than the specified maximum sequence length for this model (515 > 512). Running this sequence through the model will result in indexing errors\n",
      "Token indices sequence length is longer than the specified maximum sequence length for this model (1072 > 512). Running this sequence through the model will result in indexing errors\n",
      "Token indices sequence length is longer than the specified maximum sequence length for this model (856 > 512). Running this sequence through the model will result in indexing errors\n",
      "Token indices sequence length is longer than the specified maximum sequence length for this model (671 > 512). Running this sequence through the model will result in indexing errors\n"
     ]
    },
    {
     "data": {
      "application/vnd.jupyter.widget-view+json": {
       "model_id": "0d75f1d6abb74652b4eab03fb8df6aab",
       "version_major": 2,
       "version_minor": 0
      },
      "text/plain": [
       "Running Prediction:   0%|          | 0/3633 [00:00<?, ?it/s]"
      ]
     },
     "metadata": {},
     "output_type": "display_data"
    }
   ],
   "source": [
    "def cluster_data(texts, labels):\n",
    "    \n",
    "    preds, model_outputs, all_embedding_outputs, all_layer_hidden_states = roberta_model.predict(texts)\n",
    "    tsne = TSNE(perplexity=30, n_components=2, init='pca', n_iter=5000)\n",
    "    low_dim_embs = tsne.fit_transform(\n",
    "        all_embedding_outputs.reshape(all_embedding_outputs.shape[0], -1))\n",
    "    plt.scatter(x=low_dim_embs[:,0], y=low_dim_embs[:,1], c=labels)\n",
    "\n",
    "data_train = data[data.PARTITION==\"TRAIN\"]\n",
    "texts = data.p_text.tolist()\n",
    "labels = le.transform(data.claim.to_list())\n",
    "cluster_data(texts, labels)"
   ]
  },
  {
   "cell_type": "code",
   "execution_count": null,
   "id": "b46d1d07",
   "metadata": {
    "ExecuteTime": {
     "start_time": "2023-04-09T13:01:46.837Z"
    }
   },
   "outputs": [],
   "source": [
    "data_train = data[data.PARTITION==\"VALID\"]\n",
    "texts = data.p_text.tolist()\n",
    "labels = le.transform(data.claim.to_list())\n",
    "cluster_data(texts, labels)"
   ]
  },
  {
   "cell_type": "code",
   "execution_count": null,
   "id": "01aaecfc",
   "metadata": {
    "ExecuteTime": {
     "start_time": "2023-04-09T13:01:46.838Z"
    }
   },
   "outputs": [],
   "source": [
    "data_train = data[data.PARTITION==\"TEST\"]\n",
    "texts = data.p_text.tolist()\n",
    "labels = le.transform(data.claim.to_list())\n",
    "cluster_data(texts, labels)"
   ]
  }
 ],
 "metadata": {
  "kernelspec": {
   "display_name": "Python 3 (ipykernel)",
   "language": "python",
   "name": "python3"
  },
  "language_info": {
   "codemirror_mode": {
    "name": "ipython",
    "version": 3
   },
   "file_extension": ".py",
   "mimetype": "text/x-python",
   "name": "python",
   "nbconvert_exporter": "python",
   "pygments_lexer": "ipython3",
   "version": "3.8.13"
  },
  "toc": {
   "base_numbering": 1,
   "nav_menu": {},
   "number_sections": true,
   "sideBar": true,
   "skip_h1_title": false,
   "title_cell": "Table of Contents",
   "title_sidebar": "Contents",
   "toc_cell": false,
   "toc_position": {},
   "toc_section_display": true,
   "toc_window_display": false
  }
 },
 "nbformat": 4,
 "nbformat_minor": 5
}
