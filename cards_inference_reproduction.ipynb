{
 "cells": [
  {
   "cell_type": "markdown",
   "id": "442890a5",
   "metadata": {},
   "source": [
    "# CARDS Article Reproduction\n",
    "\n",
    "**Author:** Cristian Alexanther Rojas Cardenas\n",
    "**ID**: 32775849"
   ]
  },
  {
   "cell_type": "markdown",
   "id": "3ae748e9",
   "metadata": {
    "toc": true
   },
   "source": [
    "<h1>Table of Contents<span class=\"tocSkip\"></span></h1>\n",
    "<div class=\"toc\"><ul class=\"toc-item\"><li><span><a href=\"#Load-and-Preprocess\" data-toc-modified-id=\"Load-and-Preprocess-1\"><span class=\"toc-item-num\">1&nbsp;&nbsp;</span>Load and Preprocess</a></span></li><li><span><a href=\"#Training-Models\" data-toc-modified-id=\"Training-Models-2\"><span class=\"toc-item-num\">2&nbsp;&nbsp;</span>Training Models</a></span><ul class=\"toc-item\"><li><span><a href=\"#Logistic-Regression\" data-toc-modified-id=\"Logistic-Regression-2.1\"><span class=\"toc-item-num\">2.1&nbsp;&nbsp;</span>Logistic Regression</a></span></li><li><span><a href=\"#Roberta\" data-toc-modified-id=\"Roberta-2.2\"><span class=\"toc-item-num\">2.2&nbsp;&nbsp;</span>Roberta</a></span></li></ul></li><li><span><a href=\"#Inference\" data-toc-modified-id=\"Inference-3\"><span class=\"toc-item-num\">3&nbsp;&nbsp;</span>Inference</a></span><ul class=\"toc-item\"><li><span><a href=\"#Validation\" data-toc-modified-id=\"Validation-3.1\"><span class=\"toc-item-num\">3.1&nbsp;&nbsp;</span>Validation</a></span></li><li><span><a href=\"#Test\" data-toc-modified-id=\"Test-3.2\"><span class=\"toc-item-num\">3.2&nbsp;&nbsp;</span>Test</a></span></li></ul></li></ul></div>"
   ]
  },
  {
   "cell_type": "code",
   "execution_count": 1,
   "id": "6ed60374",
   "metadata": {
    "ExecuteTime": {
     "end_time": "2022-10-22T07:40:49.378544Z",
     "start_time": "2022-10-22T07:40:41.732950Z"
    }
   },
   "outputs": [
    {
     "name": "stderr",
     "output_type": "stream",
     "text": [
      "/opt/conda/envs/uni/lib/python3.8/site-packages/torch/cuda/__init__.py:83: UserWarning: CUDA initialization: CUDA unknown error - this may be due to an incorrectly set up environment, e.g. changing env variable CUDA_VISIBLE_DEVICES after program start. Setting the available devices to be zero. (Triggered internally at  ../c10/cuda/CUDAFunctions.cpp:109.)\n",
      "  return torch._C._cuda_getDeviceCount() > 0\n",
      "2022-10-22 18:40:47.508124: E tensorflow/stream_executor/cuda/cuda_driver.cc:271] failed call to cuInit: CUDA_ERROR_UNKNOWN: unknown error\n",
      "2022-10-22 18:40:47.508161: I tensorflow/stream_executor/cuda/cuda_diagnostics.cc:169] retrieving CUDA diagnostic information for host: crarojasca-Blade-14-RZ09-0370\n",
      "2022-10-22 18:40:47.508174: I tensorflow/stream_executor/cuda/cuda_diagnostics.cc:176] hostname: crarojasca-Blade-14-RZ09-0370\n",
      "2022-10-22 18:40:47.508218: I tensorflow/stream_executor/cuda/cuda_diagnostics.cc:200] libcuda reported version is: 515.76.0\n",
      "2022-10-22 18:40:47.508243: I tensorflow/stream_executor/cuda/cuda_diagnostics.cc:204] kernel reported version is: 515.76.0\n",
      "2022-10-22 18:40:47.508251: I tensorflow/stream_executor/cuda/cuda_diagnostics.cc:310] kernel version seems to match DSO: 515.76.0\n",
      "/opt/conda/envs/uni/lib/python3.8/site-packages/spacy/language.py:1895: UserWarning: [W123] Argument disable with value [] is used instead of ['senter'] as specified in the config. Be aware that this might affect other components in your pipeline.\n",
      "  warnings.warn(\n"
     ]
    },
    {
     "name": "stdout",
     "output_type": "stream",
     "text": [
      "No GPU available, using the CPU instead.\n"
     ]
    }
   ],
   "source": [
    "# Load the required packages\n",
    "\n",
    "import re\n",
    "import torch\n",
    "import unicodedata\n",
    "import numpy as np\n",
    "import pandas as pd\n",
    "\n",
    "from IPython.display import display, Markdown, Latex\n",
    "\n",
    "from scipy.special import softmax\n",
    "\n",
    "from sklearn.preprocessing import LabelEncoder\n",
    "from sklearn.utils.class_weight import compute_class_weight\n",
    "from sklearn.metrics import f1_score, accuracy_score, precision_score, recall_score\n",
    "from sklearn.metrics import plot_roc_curve\n",
    "from sklearn import preprocessing\n",
    "from sklearn.pipeline import Pipeline\n",
    "from sklearn.feature_extraction.text import TfidfVectorizer\n",
    "from sklearn.linear_model import LogisticRegression\n",
    "\n",
    "from simpletransformers.classification import ClassificationModel\n",
    "\n",
    "from matplotlib import pyplot as plt\n",
    "from sklearn.metrics import (\n",
    "    accuracy_score, roc_auc_score, \n",
    "    classification_report, confusion_matrix, ConfusionMatrixDisplay)\n",
    "\n",
    "from cards.utils import read_csv\n",
    "import cards.preprocess as pp\n",
    "from cards.fit.logistic import fit_logistic_classifier\n",
    "\n",
    "from tqdm.notebook import tqdm\n",
    "pd.set_option('display.max_colwidth', None)\n",
    "tqdm.pandas()\n",
    "\n",
    "if torch.cuda.is_available():    \n",
    "    # Tell PyTorch to use the GPU.    \n",
    "    device = torch.device(\"cuda\")\n",
    "\n",
    "    print('There are %d GPU(s) available.' % torch.cuda.device_count())\n",
    "\n",
    "    print('We will use GPU {}:'.format(\n",
    "        torch.cuda.current_device()), torch.cuda.get_device_name(torch.cuda.current_device()))\n",
    "\n",
    "else:\n",
    "    print('No GPU available, using the CPU instead.')\n",
    "    device = torch.device(\"cpu\")"
   ]
  },
  {
   "cell_type": "markdown",
   "id": "25199c8b",
   "metadata": {},
   "source": [
    "## Load and Preprocess"
   ]
  },
  {
   "cell_type": "code",
   "execution_count": 2,
   "id": "ad30b41f",
   "metadata": {
    "ExecuteTime": {
     "end_time": "2022-10-22T07:44:48.542059Z",
     "start_time": "2022-10-22T07:40:56.236415Z"
    }
   },
   "outputs": [
    {
     "data": {
      "application/vnd.jupyter.widget-view+json": {
       "model_id": "7890d9d53c2a427fa2da1271bcddc925",
       "version_major": 2,
       "version_minor": 0
      },
      "text/plain": [
       "  0%|          | 0/28945 [00:00<?, ?it/s]"
      ]
     },
     "metadata": {},
     "output_type": "display_data"
    },
    {
     "name": "stderr",
     "output_type": "stream",
     "text": [
      "/opt/conda/envs/uni/lib/python3.8/site-packages/bs4/__init__.py:435: MarkupResemblesLocatorWarning: The input looks more like a filename than markup. You may want to open this file and pass the filehandle into Beautiful Soup.\n",
      "  warnings.warn(\n",
      "/opt/conda/envs/uni/lib/python3.8/site-packages/bs4/__init__.py:404: MarkupResemblesLocatorWarning: The input looks more like a URL than markup. You may want to use an HTTP client like requests to get the document behind the URL, and feed that document to Beautiful Soup.\n",
      "  warnings.warn(\n"
     ]
    },
    {
     "data": {
      "text/html": [
       "<div>\n",
       "<style scoped>\n",
       "    .dataframe tbody tr th:only-of-type {\n",
       "        vertical-align: middle;\n",
       "    }\n",
       "\n",
       "    .dataframe tbody tr th {\n",
       "        vertical-align: top;\n",
       "    }\n",
       "\n",
       "    .dataframe thead th {\n",
       "        text-align: right;\n",
       "    }\n",
       "</style>\n",
       "<table border=\"1\" class=\"dataframe\">\n",
       "  <thead>\n",
       "    <tr style=\"text-align: right;\">\n",
       "      <th></th>\n",
       "      <th>text</th>\n",
       "      <th>claim</th>\n",
       "      <th>PARTITION</th>\n",
       "      <th>roberta_preprocessed</th>\n",
       "      <th>lr_preprocessed</th>\n",
       "      <th>label</th>\n",
       "    </tr>\n",
       "  </thead>\n",
       "  <tbody>\n",
       "    <tr>\n",
       "      <th>0</th>\n",
       "      <td>What do you do if you are a global warming alarmist and real-world temperatures do not warm as much as your climate model predicted?</td>\n",
       "      <td>5_1</td>\n",
       "      <td>TRAIN</td>\n",
       "      <td>What do you do if you are a global warming alarmist and real-world temperatures do not warm as much as your climate model predicted?</td>\n",
       "      <td>global warming alarmist real world temperatures warm much climate model predicted</td>\n",
       "      <td>16</td>\n",
       "    </tr>\n",
       "    <tr>\n",
       "      <th>1</th>\n",
       "      <td>(2.) A sun-blocking volcanic aerosols component to explain the sudden but temporary cooling of global sea surface temperatures that are caused by catastrophic volcanic eruptions; and,</td>\n",
       "      <td>0_0</td>\n",
       "      <td>TRAIN</td>\n",
       "      <td>(2.) A sun-blocking volcanic aerosols component to explain the sudden but temporary cooling of global sea surface temperatures that are caused by catastrophic volcanic eruptions; and,</td>\n",
       "      <td>2 sun blocking volcanic aerosols component explain sudden temporary cooling global sea surface temperatures caused catastrophic volcanic eruptions</td>\n",
       "      <td>0</td>\n",
       "    </tr>\n",
       "    <tr>\n",
       "      <th>2</th>\n",
       "      <td>Now, I am very interested in the AMO, since it strongly influences Atlantic hurricanes, Arctic sea ice, and Greenland climate. We are already seeing a recovery of the Atlantic sector of the Arctic sea ice, and some hints of cooling in Greenland.</td>\n",
       "      <td>1_1</td>\n",
       "      <td>TRAIN</td>\n",
       "      <td>Now, I am very interested in the AMO, since it strongly influences Atlantic hurricanes, Arctic sea ice, and Greenland climate. We are already seeing a recovery of the Atlantic sector of the Arctic sea ice, and some hints of cooling in Greenland.</td>\n",
       "      <td>interested amo since strongly influences atlantic hurricanes arctic sea ice greenland climate already seeing recovery atlantic sector arctic sea ice hints cooling greenland</td>\n",
       "      <td>1</td>\n",
       "    </tr>\n",
       "    <tr>\n",
       "      <th>3</th>\n",
       "      <td>Dr. Christy addressed recent challenges to the satellite data. One paper claimed to show that the satellite data actually show warming. The author, however, used only 9 percent on the satellite data the data with the least coverage and the greatest error. Each attack of the satellite data has disregarded the fact that this record is independently validated by a 98 percent correspondence with the radiosonde balloon data. These same scientists seem to put a lot of credence in surface temperature data that only cover 10 percent of the globe, nearly all of which is in the Northern Hemisphere.</td>\n",
       "      <td>0_0</td>\n",
       "      <td>TRAIN</td>\n",
       "      <td>Dr. Christy addressed recent challenges to the satellite data. One paper claimed to show that the satellite data actually show warming. The author, however, used only 9 percent on the satellite data the data with the least coverage and the greatest error. Each attack of the satellite data has disregarded the fact that this record is independently validated by a 98 percent correspondence with the radiosonde balloon data. These same scientists seem to put a lot of credence in surface temperature data that only cover 10 percent of the globe, nearly all of which is in the Northern Hemisphere.</td>\n",
       "      <td>dr. christy addressed recent challenges satellite data one paper claimed show satellite data actually show warming author however used 9 percent satellite data data least coverage greatest error attack satellite data disregarded fact record independently validated 98 percent correspondence radiosonde balloon data scientists seem put lot credence surface temperature data cover 10 percent globe nearly northern hemisphere</td>\n",
       "      <td>0</td>\n",
       "    </tr>\n",
       "    <tr>\n",
       "      <th>4</th>\n",
       "      <td>After a brief protest from Massachusetts Republicans in their state Senate, the commonwealth is on the verge of changing its law to allow Gov. Deval Patrick (D) to appoint an interim Senator until the special election to fill the late Sen. Edward Kennedy's seat can be held in January.</td>\n",
       "      <td>0_0</td>\n",
       "      <td>TRAIN</td>\n",
       "      <td>After a brief protest from Massachusetts Republicans in their state Senate, the commonwealth is on the verge of changing its law to allow Gov. Deval Patrick (D) to appoint an interim Senator until the special election to fill the late Sen. Edward Kennedy's seat can be held in January.</td>\n",
       "      <td>brief protest massachusetts republicans state senate commonwealth verge changing law allow gov. deval patrick appoint interim senator special election fill late sen. edward kennedy 's seat held january</td>\n",
       "      <td>0</td>\n",
       "    </tr>\n",
       "  </tbody>\n",
       "</table>\n",
       "</div>"
      ],
      "text/plain": [
       "                                                                                                                                                                                                                                                                                                                                                                                                                                                                                                                                                                                                                  text  \\\n",
       "0                                                                                                                                                                                                                                                                                                                                                                                                                                                                                 What do you do if you are a global warming alarmist and real-world temperatures do not warm as much as your climate model predicted?   \n",
       "1                                                                                                                                                                                                                                                                                                                                                                                                                              (2.) A sun-blocking volcanic aerosols component to explain the sudden but temporary cooling of global sea surface temperatures that are caused by catastrophic volcanic eruptions; and,   \n",
       "2                                                                                                                                                                                                                                                                                                                                                                Now, I am very interested in the AMO, since it strongly influences Atlantic hurricanes, Arctic sea ice, and Greenland climate. We are already seeing a recovery of the Atlantic sector of the Arctic sea ice, and some hints of cooling in Greenland.   \n",
       "3  Dr. Christy addressed recent challenges to the satellite data. One paper claimed to show that the satellite data actually show warming. The author, however, used only 9 percent on the satellite data the data with the least coverage and the greatest error. Each attack of the satellite data has disregarded the fact that this record is independently validated by a 98 percent correspondence with the radiosonde balloon data. These same scientists seem to put a lot of credence in surface temperature data that only cover 10 percent of the globe, nearly all of which is in the Northern Hemisphere.   \n",
       "4                                                                                                                                                                                                                                                                                                                        After a brief protest from Massachusetts Republicans in their state Senate, the commonwealth is on the verge of changing its law to allow Gov. Deval Patrick (D) to appoint an interim Senator until the special election to fill the late Sen. Edward Kennedy's seat can be held in January.   \n",
       "\n",
       "  claim PARTITION  \\\n",
       "0   5_1     TRAIN   \n",
       "1   0_0     TRAIN   \n",
       "2   1_1     TRAIN   \n",
       "3   0_0     TRAIN   \n",
       "4   0_0     TRAIN   \n",
       "\n",
       "                                                                                                                                                                                                                                                                                                                                                                                                                                                                                                                                                                                                  roberta_preprocessed  \\\n",
       "0                                                                                                                                                                                                                                                                                                                                                                                                                                                                                 What do you do if you are a global warming alarmist and real-world temperatures do not warm as much as your climate model predicted?   \n",
       "1                                                                                                                                                                                                                                                                                                                                                                                                                              (2.) A sun-blocking volcanic aerosols component to explain the sudden but temporary cooling of global sea surface temperatures that are caused by catastrophic volcanic eruptions; and,   \n",
       "2                                                                                                                                                                                                                                                                                                                                                                Now, I am very interested in the AMO, since it strongly influences Atlantic hurricanes, Arctic sea ice, and Greenland climate. We are already seeing a recovery of the Atlantic sector of the Arctic sea ice, and some hints of cooling in Greenland.   \n",
       "3  Dr. Christy addressed recent challenges to the satellite data. One paper claimed to show that the satellite data actually show warming. The author, however, used only 9 percent on the satellite data the data with the least coverage and the greatest error. Each attack of the satellite data has disregarded the fact that this record is independently validated by a 98 percent correspondence with the radiosonde balloon data. These same scientists seem to put a lot of credence in surface temperature data that only cover 10 percent of the globe, nearly all of which is in the Northern Hemisphere.   \n",
       "4                                                                                                                                                                                                                                                                                                                        After a brief protest from Massachusetts Republicans in their state Senate, the commonwealth is on the verge of changing its law to allow Gov. Deval Patrick (D) to appoint an interim Senator until the special election to fill the late Sen. Edward Kennedy's seat can be held in January.   \n",
       "\n",
       "                                                                                                                                                                                                                                                                                                                                                                                                                          lr_preprocessed  \\\n",
       "0                                                                                                                                                                                                                                                                                                                                                       global warming alarmist real world temperatures warm much climate model predicted   \n",
       "1                                                                                                                                                                                                                                                                                      2 sun blocking volcanic aerosols component explain sudden temporary cooling global sea surface temperatures caused catastrophic volcanic eruptions   \n",
       "2                                                                                                                                                                                                                                                            interested amo since strongly influences atlantic hurricanes arctic sea ice greenland climate already seeing recovery atlantic sector arctic sea ice hints cooling greenland   \n",
       "3  dr. christy addressed recent challenges satellite data one paper claimed show satellite data actually show warming author however used 9 percent satellite data data least coverage greatest error attack satellite data disregarded fact record independently validated 98 percent correspondence radiosonde balloon data scientists seem put lot credence surface temperature data cover 10 percent globe nearly northern hemisphere   \n",
       "4                                                                                                                                                                                                                               brief protest massachusetts republicans state senate commonwealth verge changing law allow gov. deval patrick appoint interim senator special election fill late sen. edward kennedy 's seat held january   \n",
       "\n",
       "   label  \n",
       "0     16  \n",
       "1      0  \n",
       "2      1  \n",
       "3      0  \n",
       "4      0  "
      ]
     },
     "execution_count": 2,
     "metadata": {},
     "output_type": "execute_result"
    }
   ],
   "source": [
    "# Load and pre-process the text data\n",
    "# Define text pre-processing functions\n",
    "def remove_between_square_brackets(text):\n",
    "    return re.sub('\\[[^]]*\\]', '', text)\n",
    "def remove_non_ascii(text):\n",
    "    \"\"\"Remove non-ASCII characters from list of tokenized words\"\"\"\n",
    "    return unicodedata.normalize('NFKD', text).encode('ascii', 'ignore').decode('utf-8', 'ignore')\n",
    "def strip_underscores(text):\n",
    "    return re.sub(r'_+', ' ', text)\n",
    "def remove_multiple_spaces(text):\n",
    "    return re.sub(r'\\s{2,}', ' ', text)\n",
    "\n",
    "# Merge text pre-processing functions\n",
    "def denoise_text(text):\n",
    "    text = remove_between_square_brackets(text)\n",
    "    text = remove_non_ascii(text)\n",
    "    text = strip_underscores(text)\n",
    "    text = remove_multiple_spaces(text)\n",
    "    return text.strip()\n",
    "\n",
    "# Load the data\n",
    "train = pd.read_csv('cards/data/training/training.csv')\n",
    "train[\"PARTITION\"] = \"TRAIN\"\n",
    "valid = pd.read_csv('cards/data/training/validation.csv')\n",
    "valid[\"PARTITION\"] = \"VALID\"\n",
    "test = pd.read_csv('cards/data/training/test.csv')\n",
    "test[\"PARTITION\"] = \"TEST\"\n",
    "\n",
    "data = pd.concat([train, valid, test], ignore_index=True)\n",
    "\n",
    "# Pre-process the text\n",
    "data['roberta_preprocessed'] = data[\"text\"].astype(str).apply(denoise_text)\n",
    "\n",
    "data['lr_preprocessed'] = data[\"text\"].progress_apply(\n",
    "    lambda text: pp.tokenize(pp.denoise_text(str(text)), remove_stops=True))\n",
    "\n",
    "# Load the label encoder\n",
    "le = LabelEncoder()\n",
    "\n",
    "# Encode the labels\n",
    "data['label'] = le.fit_transform(data.claim)\n",
    "\n",
    "data.head()"
   ]
  },
  {
   "cell_type": "markdown",
   "id": "a22baea7",
   "metadata": {},
   "source": [
    "## Training Models\n",
    "### Logistic Regression"
   ]
  },
  {
   "cell_type": "code",
   "execution_count": 3,
   "id": "d27bd9d6",
   "metadata": {
    "ExecuteTime": {
     "end_time": "2022-10-22T07:45:30.591569Z",
     "start_time": "2022-10-22T07:44:52.203786Z"
    }
   },
   "outputs": [
    {
     "name": "stderr",
     "output_type": "stream",
     "text": [
      "/opt/conda/envs/uni/lib/python3.8/site-packages/sklearn/linear_model/_logistic.py:444: ConvergenceWarning: lbfgs failed to converge (status=1):\n",
      "STOP: TOTAL NO. of ITERATIONS REACHED LIMIT.\n",
      "\n",
      "Increase the number of iterations (max_iter) or scale the data as shown in:\n",
      "    https://scikit-learn.org/stable/modules/preprocessing.html\n",
      "Please also refer to the documentation for alternative solver options:\n",
      "    https://scikit-learn.org/stable/modules/linear_model.html#logistic-regression\n",
      "  n_iter_i = _check_optimize_result(\n"
     ]
    }
   ],
   "source": [
    "def fit_logistic_classifier(X, y):\n",
    "\n",
    "    # Vectorize\n",
    "    vectorizer = TfidfVectorizer(min_df=3,  max_features=None,\n",
    "                                strip_accents='unicode',\n",
    "                                ngram_range=(1, 2), use_idf=1, smooth_idf=1, sublinear_tf=1)\n",
    "\n",
    "    # Fit final logistic classifier. Hyperparameters tuned via grid search using\n",
    "    #  10-fold cross-validation\n",
    "    clf_logit = LogisticRegression(C=7.96,\n",
    "                                solver='lbfgs',\n",
    "                                multi_class='ovr',\n",
    "                                max_iter=200,\n",
    "                                class_weight='balanced')\n",
    "    \n",
    "    pipe = Pipeline([('vectorizer', vectorizer), ('clf_logit', clf_logit)])\n",
    "    pipe.fit(X, y)\n",
    "\n",
    "    return pipe\n",
    "\n",
    "# Fit the model\n",
    "data_train = data.loc[data.PARTITION == \"TRAIN\"]\n",
    "lr_model = fit_logistic_classifier(data_train.lr_preprocessed, data_train.label)\n",
    "\n",
    "data['lr_pred'] = le.inverse_transform(lr_model.predict(data.lr_preprocessed))\n",
    "data['lr_proba'] = lr_model.predict_proba(data.lr_preprocessed).tolist()"
   ]
  },
  {
   "cell_type": "markdown",
   "id": "76342829",
   "metadata": {},
   "source": [
    "### Roberta"
   ]
  },
  {
   "cell_type": "code",
   "execution_count": null,
   "id": "2784a569",
   "metadata": {
    "ExecuteTime": {
     "start_time": "2022-10-22T07:59:56.491Z"
    },
    "scrolled": true
   },
   "outputs": [
    {
     "name": "stderr",
     "output_type": "stream",
     "text": [
      "Some weights of the model checkpoint at cards/models/CARDS_RoBERTa_Classifier were not used when initializing RobertaForSequenceClassification: ['roberta.pooler.dense.bias', 'roberta.pooler.dense.weight']\n",
      "- This IS expected if you are initializing RobertaForSequenceClassification from the checkpoint of a model trained on another task or with another architecture (e.g. initializing a BertForSequenceClassification model from a BertForPreTraining model).\n",
      "- This IS NOT expected if you are initializing RobertaForSequenceClassification from the checkpoint of a model that you expect to be exactly identical (initializing a BertForSequenceClassification model from a BertForSequenceClassification model).\n"
     ]
    },
    {
     "data": {
      "application/vnd.jupyter.widget-view+json": {
       "model_id": "83343347d3684fab9256464cc614d845",
       "version_major": 2,
       "version_minor": 0
      },
      "text/plain": [
       "  0%|          | 0/28945 [00:00<?, ?it/s]"
      ]
     },
     "metadata": {},
     "output_type": "display_data"
    },
    {
     "name": "stderr",
     "output_type": "stream",
     "text": [
      "Token indices sequence length is longer than the specified maximum sequence length for this model (1662 > 512). Running this sequence through the model will result in indexing errors\n",
      "Token indices sequence length is longer than the specified maximum sequence length for this model (515 > 512). Running this sequence through the model will result in indexing errors\n",
      "Token indices sequence length is longer than the specified maximum sequence length for this model (1072 > 512). Running this sequence through the model will result in indexing errors\n",
      "Token indices sequence length is longer than the specified maximum sequence length for this model (856 > 512). Running this sequence through the model will result in indexing errors\n",
      "Token indices sequence length is longer than the specified maximum sequence length for this model (671 > 512). Running this sequence through the model will result in indexing errors\n"
     ]
    },
    {
     "data": {
      "application/vnd.jupyter.widget-view+json": {
       "model_id": "a458f79f10cc4d8fb0bc7d4beae1b437",
       "version_major": 2,
       "version_minor": 0
      },
      "text/plain": [
       "  0%|          | 0/3633 [00:00<?, ?it/s]"
      ]
     },
     "metadata": {},
     "output_type": "display_data"
    }
   ],
   "source": [
    "device = torch.device(\"cpu\")\n",
    "# Define the model \n",
    "architecture = 'roberta'\n",
    "# model_name = 'CARDS_RoBERTa_Classifier'\n",
    "model_name = \"cards/models/CARDS_RoBERTa_Classifier\"\n",
    "\n",
    "# Load the classifier\n",
    "roberta_model = ClassificationModel(architecture, model_name, use_cuda=False)\n",
    "\n",
    "# Predict the labels\n",
    "predictions, raw_outputs = roberta_model.predict(list(data.roberta_preprocessed))\n",
    "\n",
    "data['roberta_pred'] = le.inverse_transform(predictions)\n",
    "data['roberta_proba'] = [softmax(element[0]) fore element in raw_outputs]"
   ]
  },
  {
   "cell_type": "markdown",
   "id": "a867377d",
   "metadata": {},
   "source": [
    "## Inference"
   ]
  },
  {
   "cell_type": "code",
   "execution_count": null,
   "id": "203f2ba1",
   "metadata": {
    "ExecuteTime": {
     "end_time": "2022-10-22T07:11:10.678719Z",
     "start_time": "2022-10-22T07:11:10.678709Z"
    },
    "scrolled": false
   },
   "outputs": [],
   "source": [
    "classes = le.classes_\n",
    "data_valid= data[data.PARTITION==\"TRAIN\"]\n",
    "\n",
    "display(Markdown(\"**Logistic Regression**\"))\n",
    "report(data_valid.claim, data_valid['lr_pred'].values, \n",
    "       np.stack(data_valid['lr_proba'].values, axis=0), classes)\n",
    "\n",
    "display(Markdown(\"**Roberta**\"))\n",
    "report(data_valid.claim, data_valid['roberta_pred'].values, \n",
    "       np.stack(data_valid['roberta_proba'].values, axis=0), classes)"
   ]
  },
  {
   "cell_type": "markdown",
   "id": "e8e92502",
   "metadata": {},
   "source": [
    "### Validation"
   ]
  },
  {
   "cell_type": "code",
   "execution_count": null,
   "id": "7b4c721a",
   "metadata": {
    "ExecuteTime": {
     "end_time": "2022-10-22T07:11:10.679490Z",
     "start_time": "2022-10-22T07:11:10.679481Z"
    },
    "scrolled": false
   },
   "outputs": [],
   "source": [
    "def report(y_true, y_pred, scores,  classes):\n",
    "    \n",
    "    acc = accuracy_score(y_true, y_pred)\n",
    "    roc_auc = roc_auc_score(y_true, scores, multi_class=\"ovr\", average=\"weighted\")\n",
    "    \n",
    "    print(f\"Accuracy: {acc}\")\n",
    "    print(f\"AUC: {roc_auc}\")\n",
    "    print(classification_report(le.transform(y_true), le.transform(y_pred), target_names=classes))\n",
    "    c_m = confusion_matrix(y_true, y_pred)\n",
    "    cmp = ConfusionMatrixDisplay(\n",
    "        c_m, display_labels=classes)\n",
    "    fig, ax = plt.subplots(figsize=(10,10))\n",
    "    cmp.plot(ax=ax)    \n",
    "\n",
    "\n",
    "classes = le.classes_\n",
    "data_valid= data[data.PARTITION==\"VALID\"]\n",
    "\n",
    "display(Markdown(\"**Logistic Regression**\"))\n",
    "report(data_valid.claim, data_valid['lr_pred'].values, \n",
    "       np.stack(data_valid['lr_proba'].values, axis=0), classes)\n",
    "\n",
    "display(Markdown(\"**Roberta**\"))\n",
    "report(data_valid.claim, data_valid['roberta_pred'].values, \n",
    "       np.stack(data_valid['roberta_proba'].values, axis=0), classes)"
   ]
  },
  {
   "cell_type": "markdown",
   "id": "05e6a2e2",
   "metadata": {},
   "source": [
    "### Test"
   ]
  },
  {
   "cell_type": "markdown",
   "id": "524be272",
   "metadata": {},
   "source": [
    "<img src=\"images/image.png\" alt=\"drawing\" width=\"600\"/>"
   ]
  },
  {
   "cell_type": "code",
   "execution_count": null,
   "id": "0b6bbbde",
   "metadata": {
    "ExecuteTime": {
     "end_time": "2022-10-22T07:11:10.680221Z",
     "start_time": "2022-10-22T07:11:10.680211Z"
    },
    "scrolled": false
   },
   "outputs": [],
   "source": [
    "classes = le.classes_\n",
    "data_test = data[data.PARTITION==\"TEST\"].copy(deep=True)\n",
    "\n",
    "display(Markdown(\"**Logistic Regression**\"))\n",
    "report(data_test.claim, data_test['lr_pred'].values, \n",
    "       np.stack(data_test['lr_proba'].values, axis=0), classes)\n",
    "\n",
    "display(Markdown(\"**Roberta**\"))\n",
    "report(data_test.claim, data_test['roberta_pred'].values, \n",
    "       np.stack(data_test['roberta_proba'].values, axis=0), classes)"
   ]
  },
  {
   "cell_type": "code",
   "execution_count": null,
   "id": "6ecc29ae",
   "metadata": {
    "ExecuteTime": {
     "end_time": "2022-10-22T07:11:10.681311Z",
     "start_time": "2022-10-22T07:11:10.681301Z"
    }
   },
   "outputs": [],
   "source": [
    "data_test[\"score_diff\"] = abs(data_test.lr_proba.apply(max) - data_test.roberta_proba.apply(max))"
   ]
  },
  {
   "cell_type": "code",
   "execution_count": null,
   "id": "be80af9e",
   "metadata": {
    "ExecuteTime": {
     "end_time": "2022-10-22T07:11:10.681936Z",
     "start_time": "2022-10-22T07:11:10.681926Z"
    }
   },
   "outputs": [],
   "source": [
    "(\n",
    "    data_test[data_test.claim == data_test.roberta_pred]\n",
    "    .sort_values(\"score_diff\", ascending=False)\n",
    ")[[\"text\", \"claim\", \"lr_pred\", \"roberta_pred\", \"score_diff\"]][:10]\n",
    "\n",
    "# 2.1 \"Its geological\"\n",
    "# 5.2 \"Proxies are unreliable\" -> \"Environmentalist are biased\" \n",
    "# 1.1 \"Its the temperature\" -> \"No claim\""
   ]
  },
  {
   "cell_type": "code",
   "execution_count": null,
   "id": "4db46b44",
   "metadata": {
    "ExecuteTime": {
     "end_time": "2022-10-22T07:11:10.682805Z",
     "start_time": "2022-10-22T07:11:10.682795Z"
    }
   },
   "outputs": [],
   "source": [
    "(\n",
    "    data_test[data_test.claim != data_test.roberta_pred]\n",
    "    .sort_values(\"score_diff\", ascending=False)\n",
    ")[[\"text\", \"claim\", \"lr_pred\", \"roberta_pred\", \"score_diff\"]][:10]\n",
    "\n",
    "# 2.1.4 \"Past climate change\" -> \"No claim\"\n",
    "# 2.3.3 \"CO2 lags climate\" -> 5.1.4 \"Models are unreliable\"\n",
    "# 1.4 \"Hiatus on warning\" -> 2.1 \"Past Climate change Its geological\" -> 5.1 \"Proxies are unrealiable?\""
   ]
  },
  {
   "cell_type": "code",
   "execution_count": null,
   "id": "13c1ce8b",
   "metadata": {
    "ExecuteTime": {
     "end_time": "2022-10-22T07:11:10.683636Z",
     "start_time": "2022-10-22T07:11:10.683625Z"
    }
   },
   "outputs": [],
   "source": [
    "data.to_csv(\"CARDS_scored.csv\")"
   ]
  }
 ],
 "metadata": {
  "kernelspec": {
   "display_name": "Python 3 (ipykernel)",
   "language": "python",
   "name": "python3"
  },
  "language_info": {
   "codemirror_mode": {
    "name": "ipython",
    "version": 3
   },
   "file_extension": ".py",
   "mimetype": "text/x-python",
   "name": "python",
   "nbconvert_exporter": "python",
   "pygments_lexer": "ipython3",
   "version": "3.8.13"
  },
  "toc": {
   "base_numbering": 1,
   "nav_menu": {},
   "number_sections": true,
   "sideBar": true,
   "skip_h1_title": true,
   "title_cell": "Table of Contents",
   "title_sidebar": "Contents",
   "toc_cell": true,
   "toc_position": {},
   "toc_section_display": true,
   "toc_window_display": true
  }
 },
 "nbformat": 4,
 "nbformat_minor": 5
}
