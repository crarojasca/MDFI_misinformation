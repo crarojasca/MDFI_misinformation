{
 "cells": [
  {
   "cell_type": "markdown",
   "id": "f06c23c0",
   "metadata": {},
   "source": [
    "# CARDS Article Reproduction\n",
    "\n",
    "**Author:** Cristian Alexanther Rojas Cardenas\n",
    "**ID**: 32775849"
   ]
  },
  {
   "cell_type": "markdown",
   "id": "e7ab51f0",
   "metadata": {
    "toc": true
   },
   "source": [
    "<h1>Table of Contents<span class=\"tocSkip\"></span></h1>\n",
    "<div class=\"toc\"><ul class=\"toc-item\"><li><span><a href=\"#Load-and-Preprocess\" data-toc-modified-id=\"Load-and-Preprocess-1\"><span class=\"toc-item-num\">1&nbsp;&nbsp;</span>Load and Preprocess</a></span></li><li><span><a href=\"#Training-Models\" data-toc-modified-id=\"Training-Models-2\"><span class=\"toc-item-num\">2&nbsp;&nbsp;</span>Training Models</a></span><ul class=\"toc-item\"><li><span><a href=\"#Logistic-Regression\" data-toc-modified-id=\"Logistic-Regression-2.1\"><span class=\"toc-item-num\">2.1&nbsp;&nbsp;</span>Logistic Regression</a></span></li><li><span><a href=\"#Roberta\" data-toc-modified-id=\"Roberta-2.2\"><span class=\"toc-item-num\">2.2&nbsp;&nbsp;</span>Roberta</a></span></li></ul></li><li><span><a href=\"#Inference\" data-toc-modified-id=\"Inference-3\"><span class=\"toc-item-num\">3&nbsp;&nbsp;</span>Inference</a></span><ul class=\"toc-item\"><li><span><a href=\"#Validation\" data-toc-modified-id=\"Validation-3.1\"><span class=\"toc-item-num\">3.1&nbsp;&nbsp;</span>Validation</a></span></li><li><span><a href=\"#Test\" data-toc-modified-id=\"Test-3.2\"><span class=\"toc-item-num\">3.2&nbsp;&nbsp;</span>Test</a></span></li></ul></li><li><span><a href=\"#Data-Generated\" data-toc-modified-id=\"Data-Generated-4\"><span class=\"toc-item-num\">4&nbsp;&nbsp;</span>Data Generated</a></span></li></ul></div>"
   ]
  },
  {
   "cell_type": "code",
   "execution_count": 1,
   "id": "5081f839",
   "metadata": {
    "ExecuteTime": {
     "end_time": "2023-04-05T05:17:49.470744Z",
     "start_time": "2023-04-05T05:17:42.981016Z"
    }
   },
   "outputs": [
    {
     "name": "stderr",
     "output_type": "stream",
     "text": [
      "/opt/conda/envs/uni/lib/python3.8/site-packages/torch/cuda/__init__.py:497: UserWarning: Can't initialize NVML\n",
      "  warnings.warn(\"Can't initialize NVML\")\n",
      "2023-04-05 15:17:47.792796: E tensorflow/stream_executor/cuda/cuda_driver.cc:271] failed call to cuInit: CUDA_ERROR_NO_DEVICE: no CUDA-capable device is detected\n",
      "2023-04-05 15:17:47.792825: I tensorflow/stream_executor/cuda/cuda_diagnostics.cc:169] retrieving CUDA diagnostic information for host: crarojasca-Blade-14-RZ09-0370\n",
      "2023-04-05 15:17:47.792831: I tensorflow/stream_executor/cuda/cuda_diagnostics.cc:176] hostname: crarojasca-Blade-14-RZ09-0370\n",
      "2023-04-05 15:17:47.792876: I tensorflow/stream_executor/cuda/cuda_diagnostics.cc:200] libcuda reported version is: 530.30.2\n",
      "2023-04-05 15:17:47.792890: I tensorflow/stream_executor/cuda/cuda_diagnostics.cc:204] kernel reported version is: 530.30.2\n",
      "2023-04-05 15:17:47.792894: I tensorflow/stream_executor/cuda/cuda_diagnostics.cc:310] kernel version seems to match DSO: 530.30.2\n"
     ]
    },
    {
     "name": "stdout",
     "output_type": "stream",
     "text": [
      "No GPU available, using the CPU instead.\n"
     ]
    }
   ],
   "source": [
    "# Load the required packages\n",
    "\n",
    "import re\n",
    "import torch\n",
    "import pickle\n",
    "import unicodedata\n",
    "import numpy as np\n",
    "import pandas as pd\n",
    "\n",
    "from IPython.display import display, Markdown, Latex\n",
    "\n",
    "from scipy.special import softmax\n",
    "\n",
    "from sklearn.preprocessing import LabelEncoder\n",
    "from sklearn.utils.class_weight import compute_class_weight\n",
    "from sklearn.metrics import f1_score, accuracy_score, precision_score, recall_score\n",
    "from sklearn.metrics import plot_roc_curve\n",
    "from sklearn import preprocessing\n",
    "from sklearn.pipeline import Pipeline\n",
    "from sklearn.feature_extraction.text import TfidfVectorizer\n",
    "from sklearn.linear_model import LogisticRegression\n",
    "\n",
    "from simpletransformers.classification import ClassificationModel\n",
    "\n",
    "from matplotlib import pyplot as plt\n",
    "from sklearn.metrics import (\n",
    "    accuracy_score, roc_auc_score, \n",
    "    classification_report, confusion_matrix, ConfusionMatrixDisplay)\n",
    "\n",
    "from cards.utils import read_csv\n",
    "import cards.preprocess as pp\n",
    "from cards.fit.logistic import fit_logistic_classifier\n",
    "\n",
    "from tqdm.notebook import tqdm\n",
    "pd.set_option('display.max_colwidth', None)\n",
    "tqdm.pandas()\n",
    "\n",
    "if torch.cuda.is_available():    \n",
    "    # Tell PyTorch to use the GPU.    \n",
    "    device = torch.device(\"cuda\")\n",
    "\n",
    "    print('There are %d GPU(s) available.' % torch.cuda.device_count())\n",
    "\n",
    "    print('We will use GPU {}:'.format(\n",
    "        torch.cuda.current_device()), torch.cuda.get_device_name(torch.cuda.current_device()))\n",
    "\n",
    "else:\n",
    "    print('No GPU available, using the CPU instead.')\n",
    "    device = torch.device(\"cpu\")"
   ]
  },
  {
   "cell_type": "code",
   "execution_count": 2,
   "id": "9e2a3c91",
   "metadata": {
    "ExecuteTime": {
     "end_time": "2023-04-05T05:17:49.476225Z",
     "start_time": "2023-04-05T05:17:49.472833Z"
    }
   },
   "outputs": [
    {
     "name": "stderr",
     "output_type": "stream",
     "text": [
      "/opt/conda/envs/uni/lib/python3.8/site-packages/sklearn/base.py:329: UserWarning: Trying to unpickle estimator LabelEncoder from version 1.2.0 when using version 1.1.2. This might lead to breaking code or invalid results. Use at your own risk. For more info please refer to:\n",
      "https://scikit-learn.org/stable/model_persistence.html#security-maintainability-limitations\n",
      "  warnings.warn(\n"
     ]
    }
   ],
   "source": [
    "with open('cards/models/label_encoder.pkl', 'rb') as f:\n",
    "    le = pickle.load(f)"
   ]
  },
  {
   "cell_type": "code",
   "execution_count": 3,
   "id": "9c2991e4",
   "metadata": {
    "ExecuteTime": {
     "end_time": "2023-03-15T00:44:58.050683Z",
     "start_time": "2023-03-15T00:44:58.033803Z"
    }
   },
   "outputs": [
    {
     "data": {
      "text/plain": [
       "(18,)"
      ]
     },
     "execution_count": 3,
     "metadata": {},
     "output_type": "execute_result"
    }
   ],
   "source": [
    "le.classes_.shape"
   ]
  },
  {
   "cell_type": "markdown",
   "id": "d0cd70c3",
   "metadata": {},
   "source": [
    "## Load and Preprocess"
   ]
  },
  {
   "cell_type": "code",
   "execution_count": 5,
   "id": "62cb4ef9",
   "metadata": {
    "ExecuteTime": {
     "end_time": "2023-03-23T09:37:48.355817Z",
     "start_time": "2023-03-23T09:37:48.343332Z"
    }
   },
   "outputs": [],
   "source": [
    "# Load and pre-process the text data\n",
    "# Define text pre-processing functions\n",
    "def remove_between_square_brackets(text):\n",
    "    return re.sub('\\[[^]]*\\]', '', text)\n",
    "def remove_non_ascii(text):\n",
    "    \"\"\"Remove non-ASCII characters from list of tokenized words\"\"\"\n",
    "    return unicodedata.normalize('NFKD', text).encode('ascii', 'ignore').decode('utf-8', 'ignore')\n",
    "def strip_underscores(text):\n",
    "    return re.sub(r'_+', ' ', text)\n",
    "def remove_multiple_spaces(text):\n",
    "    return re.sub(r'\\s{2,}', ' ', text)\n",
    "\n",
    "# Merge text pre-processing functions\n",
    "def denoise_text(text):\n",
    "    text = remove_between_square_brackets(text)\n",
    "    text = remove_non_ascii(text)\n",
    "    text = strip_underscores(text)\n",
    "    text = remove_multiple_spaces(text)\n",
    "    return text.strip()"
   ]
  },
  {
   "cell_type": "code",
   "execution_count": 3,
   "id": "c8d6489e",
   "metadata": {
    "ExecuteTime": {
     "end_time": "2023-03-06T08:21:33.425055Z",
     "start_time": "2023-03-06T08:17:43.996290Z"
    }
   },
   "outputs": [
    {
     "data": {
      "application/vnd.jupyter.widget-view+json": {
       "model_id": "f5d7112a7d9241b19c15c72e06fc5008",
       "version_major": 2,
       "version_minor": 0
      },
      "text/plain": [
       "  0%|          | 0/28945 [00:00<?, ?it/s]"
      ]
     },
     "metadata": {},
     "output_type": "display_data"
    },
    {
     "name": "stderr",
     "output_type": "stream",
     "text": [
      "/opt/conda/envs/uni/lib/python3.8/site-packages/bs4/__init__.py:435: MarkupResemblesLocatorWarning: The input looks more like a filename than markup. You may want to open this file and pass the filehandle into Beautiful Soup.\n",
      "  warnings.warn(\n",
      "/opt/conda/envs/uni/lib/python3.8/site-packages/bs4/__init__.py:404: MarkupResemblesLocatorWarning: The input looks more like a URL than markup. You may want to use an HTTP client like requests to get the document behind the URL, and feed that document to Beautiful Soup.\n",
      "  warnings.warn(\n"
     ]
    },
    {
     "data": {
      "text/html": [
       "<div>\n",
       "<style scoped>\n",
       "    .dataframe tbody tr th:only-of-type {\n",
       "        vertical-align: middle;\n",
       "    }\n",
       "\n",
       "    .dataframe tbody tr th {\n",
       "        vertical-align: top;\n",
       "    }\n",
       "\n",
       "    .dataframe thead th {\n",
       "        text-align: right;\n",
       "    }\n",
       "</style>\n",
       "<table border=\"1\" class=\"dataframe\">\n",
       "  <thead>\n",
       "    <tr style=\"text-align: right;\">\n",
       "      <th></th>\n",
       "      <th>text</th>\n",
       "      <th>claim</th>\n",
       "      <th>PARTITION</th>\n",
       "      <th>roberta_preprocessed</th>\n",
       "      <th>lr_preprocessed</th>\n",
       "      <th>label</th>\n",
       "    </tr>\n",
       "  </thead>\n",
       "  <tbody>\n",
       "    <tr>\n",
       "      <th>0</th>\n",
       "      <td>What do you do if you are a global warming alarmist and real-world temperatures do not warm as much as your climate model predicted?</td>\n",
       "      <td>5_1</td>\n",
       "      <td>TRAIN</td>\n",
       "      <td>What do you do if you are a global warming alarmist and real-world temperatures do not warm as much as your climate model predicted?</td>\n",
       "      <td>global warming alarmist real world temperatures warm much climate model predicted</td>\n",
       "      <td>16</td>\n",
       "    </tr>\n",
       "    <tr>\n",
       "      <th>1</th>\n",
       "      <td>(2.) A sun-blocking volcanic aerosols component to explain the sudden but temporary cooling of global sea surface temperatures that are caused by catastrophic volcanic eruptions; and,</td>\n",
       "      <td>0_0</td>\n",
       "      <td>TRAIN</td>\n",
       "      <td>(2.) A sun-blocking volcanic aerosols component to explain the sudden but temporary cooling of global sea surface temperatures that are caused by catastrophic volcanic eruptions; and,</td>\n",
       "      <td>2 sun blocking volcanic aerosols component explain sudden temporary cooling global sea surface temperatures caused catastrophic volcanic eruptions</td>\n",
       "      <td>0</td>\n",
       "    </tr>\n",
       "    <tr>\n",
       "      <th>2</th>\n",
       "      <td>Now, I am very interested in the AMO, since it strongly influences Atlantic hurricanes, Arctic sea ice, and Greenland climate. We are already seeing a recovery of the Atlantic sector of the Arctic sea ice, and some hints of cooling in Greenland.</td>\n",
       "      <td>1_1</td>\n",
       "      <td>TRAIN</td>\n",
       "      <td>Now, I am very interested in the AMO, since it strongly influences Atlantic hurricanes, Arctic sea ice, and Greenland climate. We are already seeing a recovery of the Atlantic sector of the Arctic sea ice, and some hints of cooling in Greenland.</td>\n",
       "      <td>interested amo since strongly influences atlantic hurricanes arctic sea ice greenland climate already seeing recovery atlantic sector arctic sea ice hints cooling greenland</td>\n",
       "      <td>1</td>\n",
       "    </tr>\n",
       "    <tr>\n",
       "      <th>3</th>\n",
       "      <td>Dr. Christy addressed recent challenges to the satellite data. One paper claimed to show that the satellite data actually show warming. The author, however, used only 9 percent on the satellite data the data with the least coverage and the greatest error. Each attack of the satellite data has disregarded the fact that this record is independently validated by a 98 percent correspondence with the radiosonde balloon data. These same scientists seem to put a lot of credence in surface temperature data that only cover 10 percent of the globe, nearly all of which is in the Northern Hemisphere.</td>\n",
       "      <td>0_0</td>\n",
       "      <td>TRAIN</td>\n",
       "      <td>Dr. Christy addressed recent challenges to the satellite data. One paper claimed to show that the satellite data actually show warming. The author, however, used only 9 percent on the satellite data the data with the least coverage and the greatest error. Each attack of the satellite data has disregarded the fact that this record is independently validated by a 98 percent correspondence with the radiosonde balloon data. These same scientists seem to put a lot of credence in surface temperature data that only cover 10 percent of the globe, nearly all of which is in the Northern Hemisphere.</td>\n",
       "      <td>dr. christy addressed recent challenges satellite data one paper claimed show satellite data actually show warming author however used 9 percent satellite data data least coverage greatest error attack satellite data disregarded fact record independently validated 98 percent correspondence radiosonde balloon data scientists seem put lot credence surface temperature data cover 10 percent globe nearly northern hemisphere</td>\n",
       "      <td>0</td>\n",
       "    </tr>\n",
       "    <tr>\n",
       "      <th>4</th>\n",
       "      <td>After a brief protest from Massachusetts Republicans in their state Senate, the commonwealth is on the verge of changing its law to allow Gov. Deval Patrick (D) to appoint an interim Senator until the special election to fill the late Sen. Edward Kennedy's seat can be held in January.</td>\n",
       "      <td>0_0</td>\n",
       "      <td>TRAIN</td>\n",
       "      <td>After a brief protest from Massachusetts Republicans in their state Senate, the commonwealth is on the verge of changing its law to allow Gov. Deval Patrick (D) to appoint an interim Senator until the special election to fill the late Sen. Edward Kennedy's seat can be held in January.</td>\n",
       "      <td>brief protest massachusetts republicans state senate commonwealth verge changing law allow gov. deval patrick appoint interim senator special election fill late sen. edward kennedy 's seat held january</td>\n",
       "      <td>0</td>\n",
       "    </tr>\n",
       "  </tbody>\n",
       "</table>\n",
       "</div>"
      ],
      "text/plain": [
       "                                                                                                                                                                                                                                                                                                                                                                                                                                                                                                                                                                                                                  text  \\\n",
       "0                                                                                                                                                                                                                                                                                                                                                                                                                                                                                 What do you do if you are a global warming alarmist and real-world temperatures do not warm as much as your climate model predicted?   \n",
       "1                                                                                                                                                                                                                                                                                                                                                                                                                              (2.) A sun-blocking volcanic aerosols component to explain the sudden but temporary cooling of global sea surface temperatures that are caused by catastrophic volcanic eruptions; and,   \n",
       "2                                                                                                                                                                                                                                                                                                                                                                Now, I am very interested in the AMO, since it strongly influences Atlantic hurricanes, Arctic sea ice, and Greenland climate. We are already seeing a recovery of the Atlantic sector of the Arctic sea ice, and some hints of cooling in Greenland.   \n",
       "3  Dr. Christy addressed recent challenges to the satellite data. One paper claimed to show that the satellite data actually show warming. The author, however, used only 9 percent on the satellite data the data with the least coverage and the greatest error. Each attack of the satellite data has disregarded the fact that this record is independently validated by a 98 percent correspondence with the radiosonde balloon data. These same scientists seem to put a lot of credence in surface temperature data that only cover 10 percent of the globe, nearly all of which is in the Northern Hemisphere.   \n",
       "4                                                                                                                                                                                                                                                                                                                        After a brief protest from Massachusetts Republicans in their state Senate, the commonwealth is on the verge of changing its law to allow Gov. Deval Patrick (D) to appoint an interim Senator until the special election to fill the late Sen. Edward Kennedy's seat can be held in January.   \n",
       "\n",
       "  claim PARTITION  \\\n",
       "0   5_1     TRAIN   \n",
       "1   0_0     TRAIN   \n",
       "2   1_1     TRAIN   \n",
       "3   0_0     TRAIN   \n",
       "4   0_0     TRAIN   \n",
       "\n",
       "                                                                                                                                                                                                                                                                                                                                                                                                                                                                                                                                                                                                  roberta_preprocessed  \\\n",
       "0                                                                                                                                                                                                                                                                                                                                                                                                                                                                                 What do you do if you are a global warming alarmist and real-world temperatures do not warm as much as your climate model predicted?   \n",
       "1                                                                                                                                                                                                                                                                                                                                                                                                                              (2.) A sun-blocking volcanic aerosols component to explain the sudden but temporary cooling of global sea surface temperatures that are caused by catastrophic volcanic eruptions; and,   \n",
       "2                                                                                                                                                                                                                                                                                                                                                                Now, I am very interested in the AMO, since it strongly influences Atlantic hurricanes, Arctic sea ice, and Greenland climate. We are already seeing a recovery of the Atlantic sector of the Arctic sea ice, and some hints of cooling in Greenland.   \n",
       "3  Dr. Christy addressed recent challenges to the satellite data. One paper claimed to show that the satellite data actually show warming. The author, however, used only 9 percent on the satellite data the data with the least coverage and the greatest error. Each attack of the satellite data has disregarded the fact that this record is independently validated by a 98 percent correspondence with the radiosonde balloon data. These same scientists seem to put a lot of credence in surface temperature data that only cover 10 percent of the globe, nearly all of which is in the Northern Hemisphere.   \n",
       "4                                                                                                                                                                                                                                                                                                                        After a brief protest from Massachusetts Republicans in their state Senate, the commonwealth is on the verge of changing its law to allow Gov. Deval Patrick (D) to appoint an interim Senator until the special election to fill the late Sen. Edward Kennedy's seat can be held in January.   \n",
       "\n",
       "                                                                                                                                                                                                                                                                                                                                                                                                                          lr_preprocessed  \\\n",
       "0                                                                                                                                                                                                                                                                                                                                                       global warming alarmist real world temperatures warm much climate model predicted   \n",
       "1                                                                                                                                                                                                                                                                                      2 sun blocking volcanic aerosols component explain sudden temporary cooling global sea surface temperatures caused catastrophic volcanic eruptions   \n",
       "2                                                                                                                                                                                                                                                            interested amo since strongly influences atlantic hurricanes arctic sea ice greenland climate already seeing recovery atlantic sector arctic sea ice hints cooling greenland   \n",
       "3  dr. christy addressed recent challenges satellite data one paper claimed show satellite data actually show warming author however used 9 percent satellite data data least coverage greatest error attack satellite data disregarded fact record independently validated 98 percent correspondence radiosonde balloon data scientists seem put lot credence surface temperature data cover 10 percent globe nearly northern hemisphere   \n",
       "4                                                                                                                                                                                                                               brief protest massachusetts republicans state senate commonwealth verge changing law allow gov. deval patrick appoint interim senator special election fill late sen. edward kennedy 's seat held january   \n",
       "\n",
       "   label  \n",
       "0     16  \n",
       "1      0  \n",
       "2      1  \n",
       "3      0  \n",
       "4      0  "
      ]
     },
     "execution_count": 3,
     "metadata": {},
     "output_type": "execute_result"
    }
   ],
   "source": [
    "# Load the data\n",
    "train = pd.read_csv('cards/data/training/training.csv')\n",
    "train[\"PARTITION\"] = \"TRAIN\"\n",
    "valid = pd.read_csv('cards/data/training/validation.csv')\n",
    "valid[\"PARTITION\"] = \"VALID\"\n",
    "test = pd.read_csv('cards/data/training/test.csv')\n",
    "test[\"PARTITION\"] = \"TEST\"\n",
    "\n",
    "data = pd.concat([train, valid, test], ignore_index=True)\n",
    "\n",
    "# Pre-process the text\n",
    "data['roberta_preprocessed'] = data[\"text\"].astype(str).apply(denoise_text)\n",
    "\n",
    "data['lr_preprocessed'] = data[\"text\"].progress_apply(\n",
    "    lambda text: pp.tokenize(pp.denoise_text(str(text)), remove_stops=True))\n",
    "\n",
    "# Load the label encoder\n",
    "le = LabelEncoder()\n",
    "\n",
    "# Encode the labels\n",
    "data['label'] = le.fit_transform(data.claim)\n",
    "\n",
    "data.head()"
   ]
  },
  {
   "cell_type": "markdown",
   "id": "dd838cb0",
   "metadata": {},
   "source": [
    "## Training Models\n",
    "### Logistic Regression"
   ]
  },
  {
   "cell_type": "code",
   "execution_count": 4,
   "id": "e7f4053a",
   "metadata": {
    "ExecuteTime": {
     "end_time": "2023-03-06T08:21:59.540156Z",
     "start_time": "2023-03-06T08:21:33.427049Z"
    }
   },
   "outputs": [],
   "source": [
    "def fit_logistic_classifier(X, y):\n",
    "\n",
    "    # Vectorize\n",
    "    vectorizer = TfidfVectorizer(min_df=3,  max_features=None,\n",
    "                                strip_accents='unicode',\n",
    "                                ngram_range=(1, 2), use_idf=1, smooth_idf=1, sublinear_tf=1)\n",
    "\n",
    "    # Fit final logistic classifier. Hyperparameters tuned via grid search using\n",
    "    #  10-fold cross-validation\n",
    "    clf_logit = LogisticRegression(C=7.96,\n",
    "                                solver='lbfgs',\n",
    "                                multi_class='ovr',\n",
    "                                max_iter=200,\n",
    "                                class_weight='balanced')\n",
    "    \n",
    "    pipe = Pipeline([('vectorizer', vectorizer), ('clf_logit', clf_logit)])\n",
    "    pipe.fit(X, y)\n",
    "\n",
    "    return pipe\n",
    "\n",
    "# Fit the model\n",
    "data_train = data.loc[data.PARTITION == \"TRAIN\"]\n",
    "lr_model = fit_logistic_classifier(data_train.lr_preprocessed, data_train.label)\n",
    "\n",
    "data['lr_pred'] = le.inverse_transform(lr_model.predict(data.lr_preprocessed))\n",
    "data['lr_proba'] = lr_model.predict_proba(data.lr_preprocessed).tolist()"
   ]
  },
  {
   "cell_type": "markdown",
   "id": "b9b64e33",
   "metadata": {},
   "source": [
    "### Roberta"
   ]
  },
  {
   "cell_type": "code",
   "execution_count": 5,
   "id": "388fe996",
   "metadata": {
    "ExecuteTime": {
     "end_time": "2023-03-06T08:22:02.606197Z",
     "start_time": "2023-03-06T08:21:59.541314Z"
    }
   },
   "outputs": [
    {
     "name": "stderr",
     "output_type": "stream",
     "text": [
      "Some weights of the model checkpoint at cards/models/CARDS_RoBERTa_Classifier were not used when initializing RobertaForSequenceClassification: ['roberta.pooler.dense.bias', 'roberta.pooler.dense.weight']\n",
      "- This IS expected if you are initializing RobertaForSequenceClassification from the checkpoint of a model trained on another task or with another architecture (e.g. initializing a BertForSequenceClassification model from a BertForPreTraining model).\n",
      "- This IS NOT expected if you are initializing RobertaForSequenceClassification from the checkpoint of a model that you expect to be exactly identical (initializing a BertForSequenceClassification model from a BertForSequenceClassification model).\n"
     ]
    }
   ],
   "source": [
    "# Define the model \n",
    "architecture = 'roberta'\n",
    "# model_name = 'CARDS_RoBERTa_Classifier'\n",
    "model_name = \"cards/models/CARDS_RoBERTa_Classifier\"\n",
    "\n",
    "# Load the classifier\n",
    "roberta_model = ClassificationModel(architecture, model_name)"
   ]
  },
  {
   "cell_type": "code",
   "execution_count": 6,
   "id": "6938b867",
   "metadata": {
    "ExecuteTime": {
     "end_time": "2023-03-06T08:22:02.878124Z",
     "start_time": "2023-03-06T08:22:02.607275Z"
    },
    "scrolled": true
   },
   "outputs": [
    {
     "ename": "NameError",
     "evalue": "name 'predictions' is not defined",
     "output_type": "error",
     "traceback": [
      "\u001b[0;31m---------------------------------------------------------------------------\u001b[0m",
      "\u001b[0;31mNameError\u001b[0m                                 Traceback (most recent call last)",
      "Input \u001b[0;32mIn [6]\u001b[0m, in \u001b[0;36m<cell line: 1>\u001b[0;34m()\u001b[0m\n\u001b[0;32m----> 1\u001b[0m data[\u001b[38;5;124m'\u001b[39m\u001b[38;5;124mroberta_pred\u001b[39m\u001b[38;5;124m'\u001b[39m] \u001b[38;5;241m=\u001b[39m le\u001b[38;5;241m.\u001b[39minverse_transform(\u001b[43mpredictions\u001b[49m)\n\u001b[1;32m      2\u001b[0m data[\u001b[38;5;124m'\u001b[39m\u001b[38;5;124mroberta_proba\u001b[39m\u001b[38;5;124m'\u001b[39m] \u001b[38;5;241m=\u001b[39m [softmax(element[\u001b[38;5;241m0\u001b[39m]) \u001b[38;5;28;01mfor\u001b[39;00m element \u001b[38;5;129;01min\u001b[39;00m raw_outputs]\n",
      "\u001b[0;31mNameError\u001b[0m: name 'predictions' is not defined"
     ]
    }
   ],
   "source": [
    "data['roberta_pred'] = le.inverse_transform(predictions)\n",
    "data['roberta_proba'] = [softmax(element[0]) for element in raw_outputs]"
   ]
  },
  {
   "cell_type": "markdown",
   "id": "0aee154b",
   "metadata": {},
   "source": [
    "## Inference"
   ]
  },
  {
   "cell_type": "code",
   "execution_count": null,
   "id": "682f80ab",
   "metadata": {
    "ExecuteTime": {
     "end_time": "2023-03-06T08:22:02.879601Z",
     "start_time": "2023-03-06T08:22:02.879593Z"
    }
   },
   "outputs": [],
   "source": [
    "def report(y_true, y_pred, scores,  classes):\n",
    "    \n",
    "    acc = accuracy_score(y_true, y_pred)\n",
    "    roc_auc = roc_auc_score(y_true, scores, multi_class=\"ovr\", average=\"weighted\")\n",
    "    \n",
    "    print(f\"Accuracy: {acc}\")\n",
    "    print(f\"AUC: {roc_auc}\")\n",
    "    print(classification_report(le.transform(y_true), le.transform(y_pred), target_names=classes))\n",
    "    c_m = confusion_matrix(y_true, y_pred)\n",
    "    cmp = ConfusionMatrixDisplay(\n",
    "        c_m, display_labels=classes)\n",
    "    fig, ax = plt.subplots(figsize=(10,10))\n",
    "    cmp.plot(ax=ax)   \n",
    "\n",
    "classes = le.classes_\n",
    "data_valid= data[data.PARTITION==\"TRAIN\"]\n",
    "\n",
    "display(Markdown(\"**Logistic Regression**\"))\n",
    "report(data_valid.claim, data_valid['lr_pred'].values, \n",
    "       np.stack(data_valid['lr_proba'].values, axis=0), classes)\n",
    "\n",
    "display(Markdown(\"**Roberta**\"))\n",
    "report(data_valid.claim, data_valid['roberta_pred'].values, \n",
    "       np.stack(data_valid['roberta_proba'].values, axis=0), classes)"
   ]
  },
  {
   "cell_type": "markdown",
   "id": "1267c3b9",
   "metadata": {},
   "source": [
    "### Validation"
   ]
  },
  {
   "cell_type": "code",
   "execution_count": null,
   "id": "9223aa4e",
   "metadata": {
    "ExecuteTime": {
     "end_time": "2023-03-06T08:22:02.880430Z",
     "start_time": "2023-03-06T08:22:02.880422Z"
    }
   },
   "outputs": [],
   "source": [
    "classes = le.classes_\n",
    "data_valid= data[data.PARTITION==\"VALID\"]\n",
    "\n",
    "display(Markdown(\"**Logistic Regression**\"))\n",
    "report(data_valid.claim, data_valid['lr_pred'].values, \n",
    "       np.stack(data_valid['lr_proba'].values, axis=0), classes)\n",
    "\n",
    "display(Markdown(\"**Roberta**\"))\n",
    "report(data_valid.claim, data_valid['roberta_pred'].values, \n",
    "       np.stack(data_valid['roberta_proba'].values, axis=0), classes)"
   ]
  },
  {
   "cell_type": "markdown",
   "id": "2e8ecf66",
   "metadata": {},
   "source": [
    "### Test"
   ]
  },
  {
   "cell_type": "markdown",
   "id": "cbb97b77",
   "metadata": {},
   "source": [
    "<img src=\"images/image.png\" alt=\"drawing\" width=\"600\"/>"
   ]
  },
  {
   "cell_type": "code",
   "execution_count": null,
   "id": "1be64c00",
   "metadata": {
    "ExecuteTime": {
     "end_time": "2023-03-06T08:22:02.881385Z",
     "start_time": "2023-03-06T08:22:02.881377Z"
    }
   },
   "outputs": [],
   "source": [
    "classes = le.classes_\n",
    "data_test = data[data.PARTITION==\"TEST\"].copy(deep=True)\n",
    "\n",
    "display(Markdown(\"**Logistic Regression**\"))\n",
    "report(data_test.claim, data_test['lr_pred'].values, \n",
    "       np.stack(data_test['lr_proba'].values, axis=0), classes)\n",
    "\n",
    "display(Markdown(\"**Roberta**\"))\n",
    "report(data_test.claim, data_test['roberta_pred'].values, \n",
    "       np.stack(data_test['roberta_proba'].values, axis=0), classes)"
   ]
  },
  {
   "cell_type": "code",
   "execution_count": null,
   "id": "d9a043b1",
   "metadata": {
    "ExecuteTime": {
     "end_time": "2023-03-06T08:22:02.882031Z",
     "start_time": "2023-03-06T08:22:02.882024Z"
    }
   },
   "outputs": [],
   "source": [
    "data_test[\"score_diff\"] = abs(data_test.lr_proba.apply(max) - data_test.roberta_proba.apply(max))"
   ]
  },
  {
   "cell_type": "code",
   "execution_count": null,
   "id": "dee4822e",
   "metadata": {
    "ExecuteTime": {
     "end_time": "2023-03-06T08:22:02.882800Z",
     "start_time": "2023-03-06T08:22:02.882793Z"
    }
   },
   "outputs": [],
   "source": [
    "(\n",
    "    data_test[data_test.claim == data_test.roberta_pred]\n",
    "    .sort_values(\"score_diff\", ascending=False)\n",
    ")[[\"text\", \"claim\", \"lr_pred\", \"roberta_pred\", \"score_diff\"]][:10]\n",
    "\n",
    "# 2.1 \"Its geological\"\n",
    "# 5.2 \"Proxies are unreliable\" -> \"Environmentalist are biased\" \n",
    "# 1.1 \"Its the temperature\" -> \"No claim\""
   ]
  },
  {
   "cell_type": "code",
   "execution_count": null,
   "id": "aaef8788",
   "metadata": {
    "ExecuteTime": {
     "end_time": "2023-03-06T08:22:02.883621Z",
     "start_time": "2023-03-06T08:22:02.883613Z"
    }
   },
   "outputs": [],
   "source": [
    "(\n",
    "    data_test[data_test.claim != data_test.roberta_pred]\n",
    "    .sort_values(\"score_diff\", ascending=False)\n",
    ")[[\"text\", \"claim\", \"lr_pred\", \"roberta_pred\", \"score_diff\"]][:10]\n",
    "\n",
    "# 2.1.4 \"Past climate change\" -> \"No claim\"\n",
    "# 2.3.3 \"CO2 lags climate\" -> 5.1.4 \"Models are unreliable\"\n",
    "# 1.4 \"Hiatus on warning\" -> 2.1 \"Past Climate change Its geological\" -> 5.1 \"Proxies are unrealiable?\""
   ]
  },
  {
   "cell_type": "code",
   "execution_count": null,
   "id": "81fe6165",
   "metadata": {
    "ExecuteTime": {
     "end_time": "2023-03-06T08:22:02.884568Z",
     "start_time": "2023-03-06T08:22:02.884560Z"
    }
   },
   "outputs": [],
   "source": [
    "data.to_csv(\"CARDS_scored.csv\")"
   ]
  },
  {
   "cell_type": "markdown",
   "id": "cd73f95a",
   "metadata": {},
   "source": [
    "## Data Generated"
   ]
  },
  {
   "cell_type": "code",
   "execution_count": 2,
   "id": "b64f4357",
   "metadata": {
    "ExecuteTime": {
     "end_time": "2023-03-30T06:50:44.707323Z",
     "start_time": "2023-03-30T06:50:40.972041Z"
    }
   },
   "outputs": [
    {
     "name": "stderr",
     "output_type": "stream",
     "text": [
      "Some weights of the model checkpoint at cards/models/CARDS_RoBERTa_Classifier were not used when initializing RobertaForSequenceClassification: ['roberta.pooler.dense.weight', 'roberta.pooler.dense.bias']\n",
      "- This IS expected if you are initializing RobertaForSequenceClassification from the checkpoint of a model trained on another task or with another architecture (e.g. initializing a BertForSequenceClassification model from a BertForPreTraining model).\n",
      "- This IS NOT expected if you are initializing RobertaForSequenceClassification from the checkpoint of a model that you expect to be exactly identical (initializing a BertForSequenceClassification model from a BertForSequenceClassification model).\n"
     ]
    }
   ],
   "source": [
    "# Load and pre-process the text data\n",
    "# Define text pre-processing functions\n",
    "def remove_between_square_brackets(text):\n",
    "    return re.sub('\\[[^]]*\\]', '', text)\n",
    "def remove_non_ascii(text):\n",
    "    \"\"\"Remove non-ASCII characters from list of tokenized words\"\"\"\n",
    "    return unicodedata.normalize('NFKD', text).encode('ascii', 'ignore').decode('utf-8', 'ignore')\n",
    "def strip_underscores(text):\n",
    "    return re.sub(r'_+', ' ', text)\n",
    "def remove_multiple_spaces(text):\n",
    "    return re.sub(r'\\s{2,}', ' ', text)\n",
    "\n",
    "# Merge text pre-processing functions\n",
    "def denoise_text(text):\n",
    "    text = remove_between_square_brackets(text)\n",
    "    text = remove_non_ascii(text)\n",
    "    text = strip_underscores(text)\n",
    "    text = remove_multiple_spaces(text)\n",
    "    return text.strip()\n",
    "\n",
    "# Define the model \n",
    "architecture = 'roberta'\n",
    "# model_name = 'CARDS_RoBERTa_Classifier'\n",
    "model_name = \"cards/models/CARDS_RoBERTa_Classifier\"\n",
    "\n",
    "# Load the classifier\n",
    "roberta_model = ClassificationModel(architecture, model_name, use_cuda=False)"
   ]
  },
  {
   "cell_type": "code",
   "execution_count": 11,
   "id": "f61af4f5",
   "metadata": {
    "ExecuteTime": {
     "end_time": "2023-03-22T10:26:16.615146Z",
     "start_time": "2023-03-22T10:26:13.027198Z"
    }
   },
   "outputs": [
    {
     "data": {
      "application/vnd.jupyter.widget-view+json": {
       "model_id": "cef59292e4794ea5bbdc8702ab417547",
       "version_major": 2,
       "version_minor": 0
      },
      "text/plain": [
       "  0%|          | 0/1 [00:00<?, ?it/s]"
      ]
     },
     "metadata": {},
     "output_type": "display_data"
    },
    {
     "data": {
      "application/vnd.jupyter.widget-view+json": {
       "model_id": "db2a2edb308e41a2a3c92ce901647002",
       "version_major": 2,
       "version_minor": 0
      },
      "text/plain": [
       "  0%|          | 0/1 [00:00<?, ?it/s]"
      ]
     },
     "metadata": {},
     "output_type": "display_data"
    },
    {
     "data": {
      "text/plain": [
       "(array(['4_2'], dtype=object),\n",
       " [array([1.92078608e-02, 1.24708095e-04, 1.20347048e-04, 9.06095597e-05,\n",
       "         1.74216548e-04, 1.25754849e-04, 1.06050310e-04, 1.50851931e-04,\n",
       "         9.09488312e-05, 1.08554764e-04, 1.03412133e-04, 9.63269202e-05,\n",
       "         4.45473362e-03, 9.73702785e-01, 4.06041881e-04, 1.04975681e-04,\n",
       "         7.32501268e-05, 7.58571408e-04])])"
      ]
     },
     "execution_count": 11,
     "metadata": {},
     "output_type": "execute_result"
    }
   ],
   "source": [
    "text = \"\"\"The Paris Agreement is a waste of time and money. It will do little to actually reduce emissions and will only hurt thep_text = pp.tokenize(pp.denoise_text(str(text)), remove_stops=True)\"\"\"\n",
    "predictions, raw_outputs = roberta_model.predict([text])\n",
    "prediction = le.inverse_transform(predictions)\n",
    "score = [softmax(element[0]) for element in raw_outputs]\n",
    "prediction, score"
   ]
  },
  {
   "cell_type": "code",
   "execution_count": null,
   "id": "775cec99",
   "metadata": {
    "ExecuteTime": {
     "end_time": "2023-03-30T07:17:45.343673Z",
     "start_time": "2023-03-30T06:51:18.335345Z"
    }
   },
   "outputs": [],
   "source": [
    "FILE = \"datasets/generated_disinformation_taxonomy_CARDS_CHATGPT_specific_samples_V2.csv\"\n",
    "\n",
    "data = pd.read_csv(FILE)\n",
    "\n",
    "# Pre-process the text\n",
    "data['roberta_preprocessed'] = data[\"text\"].astype(str).apply(denoise_text)\n",
    "\n",
    "data['roberta_preprocessed'] = data[\"roberta_preprocessed\"].apply(lambda x: x.split(\"5.\")[0])\n",
    "\n",
    "# Predict the labels\n",
    "predictions, raw_outputs = roberta_model.predict(list(data.roberta_preprocessed))\n",
    "\n",
    "data['cards_pred'] = le.inverse_transform(predictions)\n",
    "data['cards_proba'] = [softmax(element[0]) for element in raw_outputs]\n",
    "\n",
    "data.to_csv(FILE, index=False)"
   ]
  },
  {
   "cell_type": "code",
   "execution_count": 9,
   "id": "842a1bea",
   "metadata": {
    "ExecuteTime": {
     "end_time": "2023-03-26T10:04:22.463962Z",
     "start_time": "2023-03-26T10:04:20.469126Z"
    }
   },
   "outputs": [],
   "source": [
    "data.to_csv(\"datasets/generated_disinformation_taxonomy_CARDS_CHATGPT_specific_samples_predict.csv\", \n",
    "            index=False)"
   ]
  },
  {
   "cell_type": "code",
   "execution_count": 11,
   "id": "5c56fc47",
   "metadata": {
    "ExecuteTime": {
     "end_time": "2023-03-16T11:45:42.920841Z",
     "start_time": "2023-03-16T11:45:42.785578Z"
    }
   },
   "outputs": [],
   "source": [
    "data[\"cards_pred\"] = le.inverse_transform(predictions)\n",
    "data['cards_proba'] = [softmax(element[0]) for element in raw_outputs]\n",
    "data.to_csv(FILE, index=False)"
   ]
  },
  {
   "cell_type": "code",
   "execution_count": 8,
   "id": "952cd359",
   "metadata": {
    "ExecuteTime": {
     "end_time": "2023-03-15T23:23:38.768189Z",
     "start_time": "2023-03-15T23:23:38.753795Z"
    }
   },
   "outputs": [],
   "source": [
    "data.loc[data.DATASET==\"cards\", 'cards_pred'] = le.inverse_transform(predictions)"
   ]
  },
  {
   "cell_type": "code",
   "execution_count": 14,
   "id": "4bfb08b0",
   "metadata": {
    "ExecuteTime": {
     "end_time": "2023-03-16T02:35:25.768619Z",
     "start_time": "2023-03-16T02:35:24.662734Z"
    }
   },
   "outputs": [],
   "source": [
    "data.loc[data.DATASET==\"cards\", 'cards_proba'] = [str(softmax(element[0]).tolist()) for element in raw_outputs]"
   ]
  },
  {
   "cell_type": "code",
   "execution_count": 17,
   "id": "e97acb9e",
   "metadata": {
    "ExecuteTime": {
     "end_time": "2023-03-16T05:34:51.692568Z",
     "start_time": "2023-03-16T05:34:51.670974Z"
    }
   },
   "outputs": [
    {
     "data": {
      "text/plain": [
       "0        5_1\n",
       "1        0_0\n",
       "2        1_1\n",
       "3        5_1\n",
       "4        0_0\n",
       "        ... \n",
       "28940    0_0\n",
       "28941    5_2\n",
       "28942    5_2\n",
       "28943    5_2\n",
       "28944    5_2\n",
       "Name: cards_pred, Length: 28945, dtype: object"
      ]
     },
     "execution_count": 17,
     "metadata": {},
     "output_type": "execute_result"
    }
   ],
   "source": [
    "data.loc[data.DATASET==\"cards\", 'cards_pred']"
   ]
  },
  {
   "cell_type": "code",
   "execution_count": 18,
   "id": "c64a4b51",
   "metadata": {
    "ExecuteTime": {
     "end_time": "2023-03-16T05:34:59.864220Z",
     "start_time": "2023-03-16T05:34:59.860570Z"
    }
   },
   "outputs": [
    {
     "data": {
      "text/plain": [
       "'datasets/cards_waterloo.csv'"
      ]
     },
     "execution_count": 18,
     "metadata": {},
     "output_type": "execute_result"
    }
   ],
   "source": [
    "FILE"
   ]
  },
  {
   "cell_type": "code",
   "execution_count": 15,
   "id": "1eda212f",
   "metadata": {
    "ExecuteTime": {
     "end_time": "2023-03-16T02:36:02.359849Z",
     "start_time": "2023-03-16T02:36:00.755454Z"
    }
   },
   "outputs": [],
   "source": [
    "data.to_csv(FILE, index=False)"
   ]
  },
  {
   "cell_type": "code",
   "execution_count": 6,
   "id": "afb3e6c2",
   "metadata": {
    "ExecuteTime": {
     "end_time": "2023-03-15T23:15:42.659629Z",
     "start_time": "2023-03-15T23:15:42.654720Z"
    }
   },
   "outputs": [
    {
     "data": {
      "text/plain": [
       "(28945,)"
      ]
     },
     "execution_count": 6,
     "metadata": {},
     "output_type": "execute_result"
    }
   ],
   "source": [
    "le.inverse_transform(predictions).shape"
   ]
  },
  {
   "cell_type": "code",
   "execution_count": null,
   "id": "ab1f4a44",
   "metadata": {
    "ExecuteTime": {
     "end_time": "2023-03-06T08:22:02.888537Z",
     "start_time": "2023-03-06T08:22:02.888530Z"
    }
   },
   "outputs": [],
   "source": [
    "def report(y_true, y_pred, scores,  classes):\n",
    "    \n",
    "    acc = accuracy_score(y_true, y_pred)\n",
    "    \n",
    "    print(f\"Accuracy: {acc}\")\n",
    "    print(classification_report(le.transform(y_true), le.transform(y_pred), target_names=classes))\n",
    "    c_m = confusion_matrix(y_true, y_pred)\n",
    "    cmp = ConfusionMatrixDisplay(\n",
    "        c_m, display_labels=classes)\n",
    "    fig, ax = plt.subplots(figsize=(10,10))\n",
    "    cmp.plot(ax=ax)   \n",
    "\n",
    "display(Markdown(\"**Roberta**\"))\n",
    "classes = le.classes_\n",
    "report(data.generated_label.values, data['roberta_pred'].values, \n",
    "       np.stack(data['roberta_proba'].values, axis=0)[:,1:], classes)"
   ]
  },
  {
   "cell_type": "code",
   "execution_count": null,
   "id": "94fb0238",
   "metadata": {
    "ExecuteTime": {
     "end_time": "2023-03-06T08:22:02.889306Z",
     "start_time": "2023-03-06T08:22:02.889297Z"
    }
   },
   "outputs": [],
   "source": [
    "ran_generated = pd.read_csv(\"datasets/generated_disinformation.csv\")\n",
    "\n",
    "# Pre-process the text\n",
    "ran_generated['roberta_preprocessed'] = ran_generated[\"text\"].astype(str).apply(denoise_text)\n",
    "\n",
    "ran_generated['lr_preprocessed'] = ran_generated[\"text\"].progress_apply(\n",
    "    lambda text: pp.tokenize(pp.denoise_text(str(text)), remove_stops=True))"
   ]
  },
  {
   "cell_type": "code",
   "execution_count": null,
   "id": "321267ba",
   "metadata": {
    "ExecuteTime": {
     "end_time": "2023-03-06T08:22:02.889790Z",
     "start_time": "2023-03-06T08:22:02.889783Z"
    }
   },
   "outputs": [],
   "source": [
    "# Define the model \n",
    "architecture = 'roberta'\n",
    "# model_name = 'CARDS_RoBERTa_Classifier'\n",
    "model_name = \"cards/models/CARDS_RoBERTa_Classifier\"\n",
    "\n",
    "# Load the classifier\n",
    "roberta_model = ClassificationModel(architecture, model_name)\n",
    "\n",
    "# Predict the labels\n",
    "predictions, raw_outputs = roberta_model.predict(list(ran_generated.roberta_preprocessed))"
   ]
  },
  {
   "cell_type": "code",
   "execution_count": null,
   "id": "4724d070",
   "metadata": {
    "ExecuteTime": {
     "end_time": "2023-03-06T08:22:02.890378Z",
     "start_time": "2023-03-06T08:22:02.890371Z"
    }
   },
   "outputs": [],
   "source": [
    "import pickle\n",
    "# Load label encoder\n",
    "with open('cards/models/label_encoder.pkl', 'rb') as f:\n",
    "    le = pickle.load(f)\n",
    "\n",
    "ran_generated['roberta_pred'] = le.inverse_transform(predictions)\n",
    "ran_generated['roberta_proba'] = [softmax(element[0]) for element in raw_outputs]"
   ]
  },
  {
   "cell_type": "code",
   "execution_count": null,
   "id": "1a1fb735",
   "metadata": {
    "ExecuteTime": {
     "end_time": "2023-03-06T08:22:02.891017Z",
     "start_time": "2023-03-06T08:22:02.891009Z"
    }
   },
   "outputs": [],
   "source": [
    "import matplotlib.pyplot as plt\n",
    "\n",
    "fig = plt.figure(figsize=(5, 8))\n",
    "\n",
    "fig = ran_generated['roberta_pred'].value_counts().plot.barh()\n",
    "fig.set_title(\"Distribution Randomly Generated Data\")\n",
    "fig.invert_yaxis()\n",
    "fig.set_xlabel(\"Label\")\n",
    "fig.set_ylabel(\"Count\")"
   ]
  },
  {
   "cell_type": "code",
   "execution_count": null,
   "id": "a35f4d2f",
   "metadata": {
    "ExecuteTime": {
     "end_time": "2023-03-06T08:22:02.891658Z",
     "start_time": "2023-03-06T08:22:02.891650Z"
    }
   },
   "outputs": [],
   "source": [
    "ran_generated['roberta_pred'].value_counts().to_frame()"
   ]
  },
  {
   "cell_type": "code",
   "execution_count": 2,
   "id": "60e4fefa",
   "metadata": {
    "ExecuteTime": {
     "end_time": "2023-04-03T11:52:57.830833Z",
     "start_time": "2023-04-03T11:52:57.160469Z"
    }
   },
   "outputs": [
    {
     "data": {
      "text/html": [
       "<div>\n",
       "<style scoped>\n",
       "    .dataframe tbody tr th:only-of-type {\n",
       "        vertical-align: middle;\n",
       "    }\n",
       "\n",
       "    .dataframe tbody tr th {\n",
       "        vertical-align: top;\n",
       "    }\n",
       "\n",
       "    .dataframe thead th {\n",
       "        text-align: right;\n",
       "    }\n",
       "</style>\n",
       "<table border=\"1\" class=\"dataframe\">\n",
       "  <thead>\n",
       "    <tr style=\"text-align: right;\">\n",
       "      <th></th>\n",
       "      <th>Unnamed: 0</th>\n",
       "      <th>text</th>\n",
       "      <th>claim</th>\n",
       "      <th>PARTITION</th>\n",
       "      <th>DATASET</th>\n",
       "      <th>based_claims</th>\n",
       "      <th>roberta_preprocessed</th>\n",
       "      <th>cards_pred</th>\n",
       "      <th>cards_proba</th>\n",
       "      <th>labels</th>\n",
       "      <th>cards_aug_400_pred</th>\n",
       "      <th>cards_aug_400_proba</th>\n",
       "    </tr>\n",
       "  </thead>\n",
       "  <tbody>\n",
       "    <tr>\n",
       "      <th>0</th>\n",
       "      <td>0</td>\n",
       "      <td>What do you do if you are a global warming ala...</td>\n",
       "      <td>5_1</td>\n",
       "      <td>TRAIN</td>\n",
       "      <td>cards</td>\n",
       "      <td>NaN</td>\n",
       "      <td>NaN</td>\n",
       "      <td>NaN</td>\n",
       "      <td>NaN</td>\n",
       "      <td>16</td>\n",
       "      <td>5_1</td>\n",
       "      <td>[2.66602323e-05 9.55529793e-06 6.46228181e-06 ...</td>\n",
       "    </tr>\n",
       "    <tr>\n",
       "      <th>1</th>\n",
       "      <td>1</td>\n",
       "      <td>(2.) A sun-blocking volcanic aerosols componen...</td>\n",
       "      <td>0_0</td>\n",
       "      <td>TRAIN</td>\n",
       "      <td>cards</td>\n",
       "      <td>NaN</td>\n",
       "      <td>NaN</td>\n",
       "      <td>NaN</td>\n",
       "      <td>NaN</td>\n",
       "      <td>0</td>\n",
       "      <td>0_0</td>\n",
       "      <td>[9.99892366e-01 3.43110850e-06 1.55333296e-06 ...</td>\n",
       "    </tr>\n",
       "    <tr>\n",
       "      <th>2</th>\n",
       "      <td>2</td>\n",
       "      <td>Now, I am very interested in the AMO, since it...</td>\n",
       "      <td>1_1</td>\n",
       "      <td>TRAIN</td>\n",
       "      <td>cards</td>\n",
       "      <td>NaN</td>\n",
       "      <td>NaN</td>\n",
       "      <td>NaN</td>\n",
       "      <td>NaN</td>\n",
       "      <td>1</td>\n",
       "      <td>1_1</td>\n",
       "      <td>[3.40918034e-04 9.97579768e-01 2.22130897e-04 ...</td>\n",
       "    </tr>\n",
       "    <tr>\n",
       "      <th>3</th>\n",
       "      <td>3</td>\n",
       "      <td>Dr. Christy addressed recent challenges to the...</td>\n",
       "      <td>0_0</td>\n",
       "      <td>TRAIN</td>\n",
       "      <td>cards</td>\n",
       "      <td>NaN</td>\n",
       "      <td>NaN</td>\n",
       "      <td>NaN</td>\n",
       "      <td>NaN</td>\n",
       "      <td>0</td>\n",
       "      <td>5_1</td>\n",
       "      <td>[1.15811178e-01 7.15264941e-05 2.30180540e-05 ...</td>\n",
       "    </tr>\n",
       "    <tr>\n",
       "      <th>4</th>\n",
       "      <td>4</td>\n",
       "      <td>After a brief protest from Massachusetts Repub...</td>\n",
       "      <td>0_0</td>\n",
       "      <td>TRAIN</td>\n",
       "      <td>cards</td>\n",
       "      <td>NaN</td>\n",
       "      <td>NaN</td>\n",
       "      <td>NaN</td>\n",
       "      <td>NaN</td>\n",
       "      <td>0</td>\n",
       "      <td>0_0</td>\n",
       "      <td>[9.99924239e-01 3.15635907e-06 1.35488427e-06 ...</td>\n",
       "    </tr>\n",
       "    <tr>\n",
       "      <th>...</th>\n",
       "      <td>...</td>\n",
       "      <td>...</td>\n",
       "      <td>...</td>\n",
       "      <td>...</td>\n",
       "      <td>...</td>\n",
       "      <td>...</td>\n",
       "      <td>...</td>\n",
       "      <td>...</td>\n",
       "      <td>...</td>\n",
       "      <td>...</td>\n",
       "      <td>...</td>\n",
       "      <td>...</td>\n",
       "    </tr>\n",
       "    <tr>\n",
       "      <th>35740</th>\n",
       "      <td>35740</td>\n",
       "      <td>The climate change movement is nothing more th...</td>\n",
       "      <td>5_2</td>\n",
       "      <td>TRAIN</td>\n",
       "      <td>generated-chatgpt</td>\n",
       "      <td>[26074, 28886, 28838]</td>\n",
       "      <td>The climate change movement is nothing more th...</td>\n",
       "      <td>5_2</td>\n",
       "      <td>[1.86649233e-04 1.36169071e-05 7.82586332e-06 ...</td>\n",
       "      <td>17</td>\n",
       "      <td>5_2</td>\n",
       "      <td>[4.60948588e-06 1.33967328e-05 1.83201059e-05 ...</td>\n",
       "    </tr>\n",
       "    <tr>\n",
       "      <th>35741</th>\n",
       "      <td>35741</td>\n",
       "      <td>Climate change alarmists are like religious ze...</td>\n",
       "      <td>5_2</td>\n",
       "      <td>TRAIN</td>\n",
       "      <td>generated-chatgpt</td>\n",
       "      <td>[26507, 28899, 28911]</td>\n",
       "      <td>Climate change alarmists are like religious ze...</td>\n",
       "      <td>5_1</td>\n",
       "      <td>[2.18725477e-03 8.55337122e-05 5.04474727e-05 ...</td>\n",
       "      <td>17</td>\n",
       "      <td>5_2</td>\n",
       "      <td>[2.58458459e-06 2.44979204e-05 2.65273978e-05 ...</td>\n",
       "    </tr>\n",
       "    <tr>\n",
       "      <th>35742</th>\n",
       "      <td>35742</td>\n",
       "      <td>The climate has been changing for millions of ...</td>\n",
       "      <td>5_2</td>\n",
       "      <td>TRAIN</td>\n",
       "      <td>generated-chatgpt</td>\n",
       "      <td>[28913, 28852, 28861]</td>\n",
       "      <td>The climate has been changing for millions of ...</td>\n",
       "      <td>2_1</td>\n",
       "      <td>[1.96669253e-04 8.84273677e-06 2.08247946e-05 ...</td>\n",
       "      <td>17</td>\n",
       "      <td>5_2</td>\n",
       "      <td>[5.06228738e-06 1.37137704e-05 1.53661954e-05 ...</td>\n",
       "    </tr>\n",
       "    <tr>\n",
       "      <th>35743</th>\n",
       "      <td>35743</td>\n",
       "      <td>Climate change is just a way for politicians t...</td>\n",
       "      <td>5_2</td>\n",
       "      <td>TRAIN</td>\n",
       "      <td>generated-chatgpt</td>\n",
       "      <td>[28622, 26097, 28855]</td>\n",
       "      <td>Climate change is just a way for politicians t...</td>\n",
       "      <td>5_2</td>\n",
       "      <td>[4.80194881e-04 1.51505610e-05 1.03923381e-05 ...</td>\n",
       "      <td>17</td>\n",
       "      <td>5_2</td>\n",
       "      <td>[4.06765238e-06 1.31177262e-05 1.34945348e-05 ...</td>\n",
       "    </tr>\n",
       "    <tr>\n",
       "      <th>35744</th>\n",
       "      <td>35744</td>\n",
       "      <td>Climate change supporters are unreliable becau...</td>\n",
       "      <td>5_2</td>\n",
       "      <td>TRAIN</td>\n",
       "      <td>generated-chatgpt</td>\n",
       "      <td>[28825, 28056, 26408]</td>\n",
       "      <td>Climate change supporters are unreliable becau...</td>\n",
       "      <td>5_2</td>\n",
       "      <td>[3.01766749e-04 1.29238961e-05 7.56602421e-06 ...</td>\n",
       "      <td>17</td>\n",
       "      <td>5_2</td>\n",
       "      <td>[4.48087391e-06 1.45565455e-05 1.36946548e-05 ...</td>\n",
       "    </tr>\n",
       "  </tbody>\n",
       "</table>\n",
       "<p>35745 rows × 12 columns</p>\n",
       "</div>"
      ],
      "text/plain": [
       "       Unnamed: 0                                               text claim  \\\n",
       "0               0  What do you do if you are a global warming ala...   5_1   \n",
       "1               1  (2.) A sun-blocking volcanic aerosols componen...   0_0   \n",
       "2               2  Now, I am very interested in the AMO, since it...   1_1   \n",
       "3               3  Dr. Christy addressed recent challenges to the...   0_0   \n",
       "4               4  After a brief protest from Massachusetts Repub...   0_0   \n",
       "...           ...                                                ...   ...   \n",
       "35740       35740  The climate change movement is nothing more th...   5_2   \n",
       "35741       35741  Climate change alarmists are like religious ze...   5_2   \n",
       "35742       35742  The climate has been changing for millions of ...   5_2   \n",
       "35743       35743  Climate change is just a way for politicians t...   5_2   \n",
       "35744       35744  Climate change supporters are unreliable becau...   5_2   \n",
       "\n",
       "      PARTITION            DATASET           based_claims  \\\n",
       "0         TRAIN              cards                    NaN   \n",
       "1         TRAIN              cards                    NaN   \n",
       "2         TRAIN              cards                    NaN   \n",
       "3         TRAIN              cards                    NaN   \n",
       "4         TRAIN              cards                    NaN   \n",
       "...         ...                ...                    ...   \n",
       "35740     TRAIN  generated-chatgpt  [26074, 28886, 28838]   \n",
       "35741     TRAIN  generated-chatgpt  [26507, 28899, 28911]   \n",
       "35742     TRAIN  generated-chatgpt  [28913, 28852, 28861]   \n",
       "35743     TRAIN  generated-chatgpt  [28622, 26097, 28855]   \n",
       "35744     TRAIN  generated-chatgpt  [28825, 28056, 26408]   \n",
       "\n",
       "                                    roberta_preprocessed cards_pred  \\\n",
       "0                                                    NaN        NaN   \n",
       "1                                                    NaN        NaN   \n",
       "2                                                    NaN        NaN   \n",
       "3                                                    NaN        NaN   \n",
       "4                                                    NaN        NaN   \n",
       "...                                                  ...        ...   \n",
       "35740  The climate change movement is nothing more th...        5_2   \n",
       "35741  Climate change alarmists are like religious ze...        5_1   \n",
       "35742  The climate has been changing for millions of ...        2_1   \n",
       "35743  Climate change is just a way for politicians t...        5_2   \n",
       "35744  Climate change supporters are unreliable becau...        5_2   \n",
       "\n",
       "                                             cards_proba  labels  \\\n",
       "0                                                    NaN      16   \n",
       "1                                                    NaN       0   \n",
       "2                                                    NaN       1   \n",
       "3                                                    NaN       0   \n",
       "4                                                    NaN       0   \n",
       "...                                                  ...     ...   \n",
       "35740  [1.86649233e-04 1.36169071e-05 7.82586332e-06 ...      17   \n",
       "35741  [2.18725477e-03 8.55337122e-05 5.04474727e-05 ...      17   \n",
       "35742  [1.96669253e-04 8.84273677e-06 2.08247946e-05 ...      17   \n",
       "35743  [4.80194881e-04 1.51505610e-05 1.03923381e-05 ...      17   \n",
       "35744  [3.01766749e-04 1.29238961e-05 7.56602421e-06 ...      17   \n",
       "\n",
       "      cards_aug_400_pred                                cards_aug_400_proba  \n",
       "0                    5_1  [2.66602323e-05 9.55529793e-06 6.46228181e-06 ...  \n",
       "1                    0_0  [9.99892366e-01 3.43110850e-06 1.55333296e-06 ...  \n",
       "2                    1_1  [3.40918034e-04 9.97579768e-01 2.22130897e-04 ...  \n",
       "3                    5_1  [1.15811178e-01 7.15264941e-05 2.30180540e-05 ...  \n",
       "4                    0_0  [9.99924239e-01 3.15635907e-06 1.35488427e-06 ...  \n",
       "...                  ...                                                ...  \n",
       "35740                5_2  [4.60948588e-06 1.33967328e-05 1.83201059e-05 ...  \n",
       "35741                5_2  [2.58458459e-06 2.44979204e-05 2.65273978e-05 ...  \n",
       "35742                5_2  [5.06228738e-06 1.37137704e-05 1.53661954e-05 ...  \n",
       "35743                5_2  [4.06765238e-06 1.31177262e-05 1.34945348e-05 ...  \n",
       "35744                5_2  [4.48087391e-06 1.45565455e-05 1.36946548e-05 ...  \n",
       "\n",
       "[35745 rows x 12 columns]"
      ]
     },
     "execution_count": 2,
     "metadata": {},
     "output_type": "execute_result"
    }
   ],
   "source": [
    "import pandas as pd\n",
    "tmp = pd.read_csv(\"datasets/augmented/{seed}/cards_augmented_{n}_{seed}.csv\")\n",
    "tmp.groupby([\"claim\", \"DATASET\"]).text.count()\n",
    "tmp"
   ]
  },
  {
   "cell_type": "code",
   "execution_count": 5,
   "id": "2a21136a",
   "metadata": {
    "ExecuteTime": {
     "end_time": "2023-04-03T11:54:29.631532Z",
     "start_time": "2023-04-03T11:54:29.616560Z"
    }
   },
   "outputs": [
    {
     "data": {
      "text/plain": [
       "claim  DATASET          \n",
       "0_0    cards                19867\n",
       "1_1    cards                  421\n",
       "       generated-chatgpt      400\n",
       "1_2    cards                  184\n",
       "       generated-chatgpt      400\n",
       "1_3    cards                  284\n",
       "       generated-chatgpt      400\n",
       "1_4    cards                  605\n",
       "       generated-chatgpt      400\n",
       "1_6    cards                  236\n",
       "       generated-chatgpt      400\n",
       "1_7    cards                  538\n",
       "       generated-chatgpt      400\n",
       "2_1    cards                 1000\n",
       "       generated-chatgpt      400\n",
       "2_3    cards                  425\n",
       "       generated-chatgpt      400\n",
       "3_1    cards                  256\n",
       "       generated-chatgpt      400\n",
       "3_2    cards                  424\n",
       "       generated-chatgpt      400\n",
       "3_3    cards                  405\n",
       "       generated-chatgpt      400\n",
       "4_1    cards                  428\n",
       "       generated-chatgpt      400\n",
       "4_2    cards                  245\n",
       "       generated-chatgpt      400\n",
       "4_4    cards                  311\n",
       "       generated-chatgpt      400\n",
       "4_5    cards                  238\n",
       "       generated-chatgpt      400\n",
       "5_1    cards                 1750\n",
       "       generated-chatgpt      400\n",
       "5_2    cards                 1322\n",
       "       generated-chatgpt      400\n",
       "Name: text, dtype: int64"
      ]
     },
     "execution_count": 5,
     "metadata": {},
     "output_type": "execute_result"
    }
   ],
   "source": []
  },
  {
   "cell_type": "code",
   "execution_count": null,
   "id": "c2475458",
   "metadata": {},
   "outputs": [],
   "source": []
  }
 ],
 "metadata": {
  "kernelspec": {
   "display_name": "Python 3 (ipykernel)",
   "language": "python",
   "name": "python3"
  },
  "language_info": {
   "codemirror_mode": {
    "name": "ipython",
    "version": 3
   },
   "file_extension": ".py",
   "mimetype": "text/x-python",
   "name": "python",
   "nbconvert_exporter": "python",
   "pygments_lexer": "ipython3",
   "version": "3.8.13"
  },
  "toc": {
   "base_numbering": 1,
   "nav_menu": {},
   "number_sections": true,
   "sideBar": true,
   "skip_h1_title": true,
   "title_cell": "Table of Contents",
   "title_sidebar": "Contents",
   "toc_cell": true,
   "toc_position": {
    "height": "calc(100% - 180px)",
    "left": "10px",
    "top": "150px",
    "width": "196.391px"
   },
   "toc_section_display": true,
   "toc_window_display": true
  }
 },
 "nbformat": 4,
 "nbformat_minor": 5
}
