{
 "cells": [
  {
   "cell_type": "code",
   "execution_count": 1,
   "id": "14c897c8",
   "metadata": {
    "ExecuteTime": {
     "end_time": "2023-03-07T02:41:39.717551Z",
     "start_time": "2023-03-07T02:41:38.371594Z"
    }
   },
   "outputs": [
    {
     "name": "stderr",
     "output_type": "stream",
     "text": [
      "[nltk_data] Downloading package stopwords to\n",
      "[nltk_data]     /home/crarojasca/nltk_data...\n",
      "[nltk_data]   Package stopwords is already up-to-date!\n"
     ]
    }
   ],
   "source": [
    "import os\n",
    "import re\n",
    "import json\n",
    "import math\n",
    "import time\n",
    "import demoji\n",
    "import curlify\n",
    "import requests\n",
    "import pandas as pd\n",
    "\n",
    "import pickle\n",
    "from scipy.special import softmax\n",
    "\n",
    "import nltk\n",
    "from nltk.corpus import stopwords\n",
    "nltk.download('stopwords')\n",
    "\n",
    "from tqdm.notebook import tqdm\n",
    "\n",
    "all_stopwords = stopwords.words('english')\n",
    "pd.set_option('display.max_colwidth', None)\n",
    "\n",
    "bearer_token = \"AAAAAAAAAAAAAAAAAAAAADSXjAEAAAAAQ32sCpTWcilVX%2BQj0BjOArOSYCE%3DUax6ZCizLRwwQcWQirExGQEDEB903dxBZKM4LAuGTMTvMa4jVP\"\n",
    "\n",
    "from datetime import date\n",
    "\n",
    "today = date.today()"
   ]
  },
  {
   "cell_type": "code",
   "execution_count": 2,
   "id": "d3b87777",
   "metadata": {
    "ExecuteTime": {
     "end_time": "2023-03-07T02:41:39.722058Z",
     "start_time": "2023-03-07T02:41:39.719398Z"
    }
   },
   "outputs": [],
   "source": [
    "SCRAP_CTTS = True\n",
    "SCRAP_DENIALS = True"
   ]
  },
  {
   "cell_type": "markdown",
   "id": "b47abf26",
   "metadata": {},
   "source": [
    "## Functions"
   ]
  },
  {
   "cell_type": "code",
   "execution_count": 3,
   "id": "5ac1a3c7",
   "metadata": {
    "ExecuteTime": {
     "end_time": "2023-03-07T02:41:39.734352Z",
     "start_time": "2023-03-07T02:41:39.723491Z"
    }
   },
   "outputs": [],
   "source": [
    "s = requests.Session()\n",
    "def getTweets(query, max_results=None, next_token=None):\n",
    "    # Twitter Endpoint\n",
    "    url = \"https://api.twitter.com/2/tweets/search/recent\"\n",
    "    \n",
    "    # Auth Bearer no research access or premium for the moment\n",
    "    headers = {\n",
    "        \"Authorization\": \"Bearer {}\".format(bearer_token)\n",
    "    }\n",
    "    \n",
    "    # Query parameters\n",
    "    params = {\n",
    "        'query': query,\n",
    "    #     'start_time': start_date,\n",
    "    #     'end_time': end_date,\n",
    "        'expansions': 'author_id,in_reply_to_user_id,geo.place_id',\n",
    "        'tweet.fields': 'id,text,author_id,in_reply_to_user_id,geo,conversation_id,created_at,lang,public_metrics,referenced_tweets,reply_settings,source',\n",
    "        'user.fields': 'id,name,username,created_at,description,public_metrics,verified',\n",
    "        'place.fields': 'full_name,id,country,country_code,geo,name,place_type',\n",
    "        'next_token': {}\n",
    "    }\n",
    "    if max_results: params['max_results'] = max_results\n",
    "    if next_token: params['next_token'] = next_token\n",
    "\n",
    "    try:\n",
    "        time.sleep(6)\n",
    "        req = requests.Request(\n",
    "            \"GET\",\n",
    "            url,\n",
    "            params=params,\n",
    "            headers=headers\n",
    "        ).prepare()\n",
    "\n",
    "        response = s.send(req)\n",
    "        results = json.loads(response.text)\n",
    "        return results\n",
    "    except:\n",
    "        print(json.loads(response.text))\n",
    "\n",
    "def getUser(username):\n",
    "    # User Endpoint \n",
    "    url = \"https://api.twitter.com/2/users/by/username/\" + username\n",
    "    # Auth Bearer no research access or premium for the moment\n",
    "    headers = {\n",
    "        \"Authorization\": \"Bearer {}\".format(bearer_token)\n",
    "    }\n",
    "\n",
    "    params = {\n",
    "        'tweet.fields': 'id,text,author_id,in_reply_to_user_id,geo,conversation_id,created_at,lang,public_metrics,referenced_tweets,reply_settings,source',\n",
    "        'user.fields': 'id,name,username,created_at,description,public_metrics,verified',\n",
    "        'next_token': {}\n",
    "    }\n",
    "    \n",
    "    time.sleep(1)\n",
    "    try:\n",
    "        req = requests.Request(\n",
    "            \"GET\",\n",
    "            url,\n",
    "            params=params,\n",
    "            headers=headers\n",
    "        ).prepare()\n",
    "\n",
    "        response = s.send(req)\n",
    "        results = json.loads(response.text)[\"data\"]\n",
    "\n",
    "        return json.loads(response.text)[\"data\"]\n",
    "    except:\n",
    "        print(json.loads(response.text)[\"errors\"][0][\"detail\"])\n",
    "\n",
    "\n",
    "def count_tweets(query):\n",
    "    # User Endpoint \n",
    "    url = \"https://api.twitter.com/2/tweets/counts/recent\"\n",
    "    # Auth Bearer no research access or premium for the moment\n",
    "    headers = {\n",
    "        \"Authorization\": \"Bearer {}\".format(bearer_token)\n",
    "    }\n",
    "\n",
    "    params = {\n",
    "        \"query\": query,\n",
    "        \"granularity\": \"day\"\n",
    "    }\n",
    "\n",
    "    time.sleep(1)\n",
    "    req = requests.Request(\n",
    "        \"GET\",\n",
    "        url,\n",
    "        params=params,\n",
    "        headers=headers\n",
    "    ).prepare()\n",
    "\n",
    "    response = s.send(req)\n",
    "    results = json.loads(response.text)\n",
    "    return results[\"meta\"][\"total_tweet_count\"]\n",
    "    \n",
    "    \n",
    "def extract_data(query, max_result=100):\n",
    "    data = pd.DataFrame()\n",
    "\n",
    "    # Scrap all the data up to the last page\n",
    "    next_token = None\n",
    "\n",
    "    n_tweets = count_tweets(query)\n",
    "    if n_tweets==0:\n",
    "        return data\n",
    "    \n",
    "    #\n",
    "    pbar = tqdm(total=math.ceil(n_tweets/max_result))\n",
    "    while True:\n",
    "        pbar.update(1)\n",
    "        try:\n",
    "            results = getTweets(query=query, max_results=max_result, next_token=next_token)\n",
    "            data = pd.concat([data, pd.DataFrame(results[\"data\"])], ignore_index=True)\n",
    "            if not \"next_token\" in results[\"meta\"]:\n",
    "                break\n",
    "            next_token = results[\"meta\"][\"next_token\"] \n",
    "        except:\n",
    "            print(results)\n",
    "            break\n",
    "    pbar.close()\n",
    "    \n",
    "    # Reordering de columns\n",
    "    columns = list(data.columns)\n",
    "    columns.remove(\"text\")\n",
    "    columns.remove(\"public_metrics\")\n",
    "    data = data[[\"text\", \"public_metrics\"] + columns]\n",
    "    return data\n",
    "\n",
    "def preprocess_text(text):\n",
    "    # Lower\n",
    "    preprocessed_text = text.lower()\n",
    "    # Remove Handle\n",
    "    preprocessed_text = re.sub(\"@\\w+\", \"\", preprocessed_text)\n",
    "    # Remove Hashtag\n",
    "    preprocessed_text = re.sub(\"#\\w+\", \"\", preprocessed_text)\n",
    "    # Remove Links\n",
    "    preprocessed_text = re.sub(r'http[s]?:\\S+', '', preprocessed_text, flags=re.MULTILINE)\n",
    "    # Remove emotes \n",
    "    preprocessed_text = demoji.replace(preprocessed_text, \"\")\n",
    "    # Remove new line\n",
    "    preprocessed_text = re.sub(\"\\\\n\", \"\", preprocessed_text)\n",
    "    # Remove extra spaces \n",
    "    preprocessed_text = preprocessed_text.strip()\n",
    "    \n",
    "    return preprocessed_text\n",
    "\n",
    "def get_data(query):\n",
    "    results = extract_data(query)\n",
    "    results[\"preprocessed_text\"] = results[\"text\"].apply(preprocess_text)\n",
    "    results = results.sort_values(by=\"created_at\", ascending=False)\n",
    "    results = results.drop_duplicates(subset=['text'], keep='last')\n",
    "    results = results[(results.preprocessed_text!=\"\")].copy(deep=True)\n",
    "    return results"
   ]
  },
  {
   "cell_type": "markdown",
   "id": "ef419342",
   "metadata": {},
   "source": [
    "## ClimateScam\n",
    "### Original Page"
   ]
  },
  {
   "cell_type": "code",
   "execution_count": 4,
   "id": "ce7f904b",
   "metadata": {
    "ExecuteTime": {
     "end_time": "2023-03-07T02:41:47.572462Z",
     "start_time": "2023-03-07T02:41:39.736510Z"
    },
    "scrolled": true
   },
   "outputs": [
    {
     "data": {
      "application/vnd.jupyter.widget-view+json": {
       "model_id": "b7b31efd3ca646dc88a4aee9daed7730",
       "version_major": 2,
       "version_minor": 0
      },
      "text/plain": [
       "  0%|          | 0/1 [00:00<?, ?it/s]"
      ]
     },
     "metadata": {},
     "output_type": "display_data"
    },
    {
     "name": "stdout",
     "output_type": "stream",
     "text": [
      "(5, 12)\n"
     ]
    },
    {
     "data": {
      "text/html": [
       "<div>\n",
       "<style scoped>\n",
       "    .dataframe tbody tr th:only-of-type {\n",
       "        vertical-align: middle;\n",
       "    }\n",
       "\n",
       "    .dataframe tbody tr th {\n",
       "        vertical-align: top;\n",
       "    }\n",
       "\n",
       "    .dataframe thead th {\n",
       "        text-align: right;\n",
       "    }\n",
       "</style>\n",
       "<table border=\"1\" class=\"dataframe\">\n",
       "  <thead>\n",
       "    <tr style=\"text-align: right;\">\n",
       "      <th></th>\n",
       "      <th>preprocessed_text</th>\n",
       "      <th>text</th>\n",
       "      <th>public_metrics</th>\n",
       "    </tr>\n",
       "  </thead>\n",
       "  <tbody>\n",
       "    <tr>\n",
       "      <th>0</th>\n",
       "      <td>global suv sales increased despite obstacles &amp;amp; rising inflation, growing by 3% between 2021 &amp;amp; 2022. in 2022, suvs = 46% of global car sales. most growth came in the u.s., india and europe. evs = 16% of total suv sales in '22. greenies: don't tell us what to drive!</td>\n",
       "      <td>Global SUV sales increased despite obstacles &amp;amp; rising inflation, growing by 3% between 2021 &amp;amp; 2022. In 2022, SUVs = 46% of global car sales. Most growth came in the U.S., India and Europe. EVs = 16% of total SUV sales in '22. Greenies: don't tell us what to drive! #climatescam</td>\n",
       "      <td>{'retweet_count': 6, 'reply_count': 1, 'like_count': 37, 'quote_count': 0, 'impression_count': 846}</td>\n",
       "    </tr>\n",
       "    <tr>\n",
       "      <th>1</th>\n",
       "      <td>while oxy wants \"co2 vacuum cleaners\", a canadian company will dump 300 tons of magnesium hydroxide (\"milk of magnesia\") in its mineral form, brucite, in st ives bay to slow climate change.  this alkaline will shift  the sea's ph value. 3 eyed fish, anyone? stupid!</td>\n",
       "      <td>While OXY wants \"CO2 vacuum cleaners\", a Canadian company will dump 300 tons of magnesium hydroxide (\"Milk of magnesia\") in its mineral form, brucite, in St Ives Bay to slow climate change.  This alkaline will shift  the sea's pH value. 3 eyed fish, anyone? STUPID! #CLIMATESCAM</td>\n",
       "      <td>{'retweet_count': 18, 'reply_count': 6, 'like_count': 42, 'quote_count': 1, 'impression_count': 1219}</td>\n",
       "    </tr>\n",
       "    <tr>\n",
       "      <th>2</th>\n",
       "      <td>and replace it with renewables? seriously? you clearly don't care about saving the earth. you are part of the problem.</td>\n",
       "      <td>@MikeHudema @NASAClimate And replace it with renewables? Seriously? You clearly don't care about saving the Earth. You are part of the problem.</td>\n",
       "      <td>{'retweet_count': 4, 'reply_count': 3, 'like_count': 55, 'quote_count': 0, 'impression_count': 489}</td>\n",
       "    </tr>\n",
       "    <tr>\n",
       "      <th>3</th>\n",
       "      <td>occidental (oxy) plans for vacuum  machines to suck co2 from the atmosphere. this tech [\"direct-air capture (dac)\"] uses \"carbon removal\" to limit global warming. 100 facilities to be constructed by 2035. upfront construction costs = $110 bil. watch for the ipo.</td>\n",
       "      <td>Occidental (OXY) plans for vacuum  machines to suck CO2 from the atmosphere. This tech [\"direct-air capture (DAC)\"] uses \"carbon removal\" to limit global warming. 100 facilities to be constructed by 2035. Upfront construction costs = $110 BIL. Watch for the IPO. #climatescam</td>\n",
       "      <td>{'retweet_count': 19, 'reply_count': 20, 'like_count': 55, 'quote_count': 3, 'impression_count': 2122}</td>\n",
       "    </tr>\n",
       "    <tr>\n",
       "      <th>5</th>\n",
       "      <td>biden announced that evs can be plugged into your home to provide electricity. here's the cost if you use a ford f-150 lightening: charging station $1,650; home integration system $9,400; new panel $7,940; circuits $840; misc: $1,600. that's $21,430. line up! scam!</td>\n",
       "      <td>Biden announced that EVs can be plugged into your home to provide electricity. Here's the cost if you use a Ford F-150 Lightening: charging station $1,650; Home Integration System $9,400; new panel $7,940; circuits $840; misc: $1,600. That's $21,430. Line Up! SCAM! #climatescam</td>\n",
       "      <td>{'retweet_count': 48, 'reply_count': 9, 'like_count': 160, 'quote_count': 1, 'impression_count': 3022}</td>\n",
       "    </tr>\n",
       "  </tbody>\n",
       "</table>\n",
       "</div>"
      ],
      "text/plain": [
       "                                                                                                                                                                                                                                                                  preprocessed_text  \\\n",
       "0  global suv sales increased despite obstacles &amp; rising inflation, growing by 3% between 2021 &amp; 2022. in 2022, suvs = 46% of global car sales. most growth came in the u.s., india and europe. evs = 16% of total suv sales in '22. greenies: don't tell us what to drive!   \n",
       "1         while oxy wants \"co2 vacuum cleaners\", a canadian company will dump 300 tons of magnesium hydroxide (\"milk of magnesia\") in its mineral form, brucite, in st ives bay to slow climate change.  this alkaline will shift  the sea's ph value. 3 eyed fish, anyone? stupid!   \n",
       "2                                                                                                                                                            and replace it with renewables? seriously? you clearly don't care about saving the earth. you are part of the problem.   \n",
       "3            occidental (oxy) plans for vacuum  machines to suck co2 from the atmosphere. this tech [\"direct-air capture (dac)\"] uses \"carbon removal\" to limit global warming. 100 facilities to be constructed by 2035. upfront construction costs = $110 bil. watch for the ipo.   \n",
       "5         biden announced that evs can be plugged into your home to provide electricity. here's the cost if you use a ford f-150 lightening: charging station $1,650; home integration system $9,400; new panel $7,940; circuits $840; misc: $1,600. that's $21,430. line up! scam!   \n",
       "\n",
       "                                                                                                                                                                                                                                                                                            text  \\\n",
       "0  Global SUV sales increased despite obstacles &amp; rising inflation, growing by 3% between 2021 &amp; 2022. In 2022, SUVs = 46% of global car sales. Most growth came in the U.S., India and Europe. EVs = 16% of total SUV sales in '22. Greenies: don't tell us what to drive! #climatescam   \n",
       "1         While OXY wants \"CO2 vacuum cleaners\", a Canadian company will dump 300 tons of magnesium hydroxide (\"Milk of magnesia\") in its mineral form, brucite, in St Ives Bay to slow climate change.  This alkaline will shift  the sea's pH value. 3 eyed fish, anyone? STUPID! #CLIMATESCAM   \n",
       "2                                                                                                                                                @MikeHudema @NASAClimate And replace it with renewables? Seriously? You clearly don't care about saving the Earth. You are part of the problem.   \n",
       "3            Occidental (OXY) plans for vacuum  machines to suck CO2 from the atmosphere. This tech [\"direct-air capture (DAC)\"] uses \"carbon removal\" to limit global warming. 100 facilities to be constructed by 2035. Upfront construction costs = $110 BIL. Watch for the IPO. #climatescam   \n",
       "5         Biden announced that EVs can be plugged into your home to provide electricity. Here's the cost if you use a Ford F-150 Lightening: charging station $1,650; Home Integration System $9,400; new panel $7,940; circuits $840; misc: $1,600. That's $21,430. Line Up! SCAM! #climatescam   \n",
       "\n",
       "                                                                                           public_metrics  \n",
       "0     {'retweet_count': 6, 'reply_count': 1, 'like_count': 37, 'quote_count': 0, 'impression_count': 846}  \n",
       "1   {'retweet_count': 18, 'reply_count': 6, 'like_count': 42, 'quote_count': 1, 'impression_count': 1219}  \n",
       "2     {'retweet_count': 4, 'reply_count': 3, 'like_count': 55, 'quote_count': 0, 'impression_count': 489}  \n",
       "3  {'retweet_count': 19, 'reply_count': 20, 'like_count': 55, 'quote_count': 3, 'impression_count': 2122}  \n",
       "5  {'retweet_count': 48, 'reply_count': 9, 'like_count': 160, 'quote_count': 1, 'impression_count': 3022}  "
      ]
     },
     "execution_count": 4,
     "metadata": {},
     "output_type": "execute_result"
    }
   ],
   "source": [
    "results = get_data(\"from:ClimateScam\")\n",
    "print(results.shape)\n",
    "results[[\"preprocessed_text\", \"text\", \"public_metrics\"]]"
   ]
  },
  {
   "cell_type": "markdown",
   "id": "528e3880",
   "metadata": {},
   "source": [
    "### Complete lines"
   ]
  },
  {
   "cell_type": "code",
   "execution_count": 5,
   "id": "4f710fe2",
   "metadata": {
    "ExecuteTime": {
     "end_time": "2023-03-07T03:03:01.911010Z",
     "start_time": "2023-03-07T02:41:47.573881Z"
    },
    "scrolled": true
   },
   "outputs": [
    {
     "data": {
      "application/vnd.jupyter.widget-view+json": {
       "model_id": "03a0a8ea19db4d48be6d4b0207db6430",
       "version_major": 2,
       "version_minor": 0
      },
      "text/plain": [
       "  0%|          | 0/360 [00:00<?, ?it/s]"
      ]
     },
     "metadata": {},
     "output_type": "display_data"
    },
    {
     "name": "stdout",
     "output_type": "stream",
     "text": [
      "{'data': [{'id': '1632618310498918408', 'conversation_id': '1632618310498918408', 'text': 'RT @TimeIsFinishing: @DrEliDavid @ClimateEnvoy #JohnKerry #ClimateEnvoy #ClimateScam #ClimateEmergency #ClimateAction #ClimateStrike #Clima…', 'edit_history_tweet_ids': ['1632618310498918408'], 'reply_settings': 'everyone', 'author_id': '182556769', 'public_metrics': {'retweet_count': 1, 'reply_count': 0, 'like_count': 0, 'quote_count': 0, 'impression_count': 0}, 'lang': 'qme', 'referenced_tweets': [{'type': 'retweeted', 'id': '1632616761068584960'}], 'created_at': '2023-03-06T05:45:12.000Z'}, {'id': '1632618299933573120', 'conversation_id': '1632618299933573120', 'text': 'RT @TimeIsFinishing: @DrEliDavid @ClimateEnvoy #JohnKerry #ClimateEnvoy #ClimateScam #ClimateEmergency #ClimateAction #ClimateStrike #Clima…', 'edit_history_tweet_ids': ['1632618299933573120'], 'reply_settings': 'everyone', 'author_id': '182556769', 'public_metrics': {'retweet_count': 1, 'reply_count': 0, 'like_count': 0, 'quote_count': 0, 'impression_count': 0}, 'lang': 'qme', 'referenced_tweets': [{'type': 'retweeted', 'id': '1632616951099924480'}], 'created_at': '2023-03-06T05:45:09.000Z'}, {'id': '1632618287698788352', 'conversation_id': '1632618287698788352', 'text': 'RT @TimeIsFinishing: @DrEliDavid @ClimateEnvoy #JohnKerry #ClimateEnvoy #ClimateScam #ClimateEmergency #ClimateAction #ClimateStrike #Clima…', 'edit_history_tweet_ids': ['1632618287698788352'], 'reply_settings': 'everyone', 'author_id': '182556769', 'public_metrics': {'retweet_count': 1, 'reply_count': 0, 'like_count': 0, 'quote_count': 0, 'impression_count': 0}, 'lang': 'qme', 'referenced_tweets': [{'type': 'retweeted', 'id': '1632617110277959681'}], 'created_at': '2023-03-06T05:45:07.000Z'}, {'id': '1632618275019399168', 'conversation_id': '1632618275019399168', 'text': 'RT @TimeIsFinishing: @DrEliDavid @ClimateEnvoy #JohnKerry #ClimateEnvoy #ClimateScam #ClimateEmergency #ClimateAction #ClimateStrike #Clima…', 'edit_history_tweet_ids': ['1632618275019399168'], 'reply_settings': 'everyone', 'author_id': '182556769', 'public_metrics': {'retweet_count': 1, 'reply_count': 0, 'like_count': 0, 'quote_count': 0, 'impression_count': 0}, 'lang': 'qme', 'referenced_tweets': [{'type': 'retweeted', 'id': '1632617262287863809'}], 'created_at': '2023-03-06T05:45:04.000Z'}, {'id': '1632618269529055233', 'conversation_id': '1632618269529055233', 'text': 'RT @OtherBellamy: #ClimateScam update https://t.co/UghqkRLBzP', 'edit_history_tweet_ids': ['1632618269529055233'], 'reply_settings': 'everyone', 'author_id': '1250565558963240964', 'public_metrics': {'retweet_count': 1, 'reply_count': 0, 'like_count': 0, 'quote_count': 0, 'impression_count': 0}, 'lang': 'en', 'referenced_tweets': [{'type': 'retweeted', 'id': '1632618042008977408'}], 'created_at': '2023-03-06T05:45:02.000Z'}, {'id': '1632618255797063680', 'conversation_id': '1632618255797063680', 'text': 'RT @GioBruno1600: #ClimateScam #ClimateHoax #ClimateIdiots https://t.co/Yv4L6bXnXB', 'edit_history_tweet_ids': ['1632618255797063680'], 'reply_settings': 'everyone', 'author_id': '1608905261850431488', 'public_metrics': {'retweet_count': 1014, 'reply_count': 0, 'like_count': 0, 'quote_count': 0, 'impression_count': 0}, 'lang': 'qme', 'referenced_tweets': [{'type': 'retweeted', 'id': '1627127242814812161'}], 'created_at': '2023-03-06T05:44:59.000Z'}, {'id': '1632618243725639682', 'conversation_id': '1632618243725639682', 'text': 'RT @TimeIsFinishing: @DrEliDavid @ClimateEnvoy #JohnKerry #ClimateEnvoy #ClimateScam #ClimateEmergency #ClimateAction #ClimateStrike #Clima…', 'edit_history_tweet_ids': ['1632618243725639682'], 'reply_settings': 'everyone', 'author_id': '182556769', 'public_metrics': {'retweet_count': 1, 'reply_count': 0, 'like_count': 0, 'quote_count': 0, 'impression_count': 0}, 'lang': 'qme', 'referenced_tweets': [{'type': 'retweeted', 'id': '1632617424309702657'}], 'created_at': '2023-03-06T05:44:56.000Z'}, {'id': '1632618223513288704', 'conversation_id': '1632618223513288704', 'text': 'RT @TimeIsFinishing: @DrEliDavid @ClimateEnvoy #JohnKerry #ClimateEnvoy #ClimateScam #ClimateEmergency #ClimateAction #ClimateStrike #Clima…', 'edit_history_tweet_ids': ['1632618223513288704'], 'reply_settings': 'everyone', 'author_id': '182556769', 'public_metrics': {'retweet_count': 1, 'reply_count': 0, 'like_count': 0, 'quote_count': 0, 'impression_count': 0}, 'lang': 'qme', 'referenced_tweets': [{'type': 'retweeted', 'id': '1632617605021270016'}], 'created_at': '2023-03-06T05:44:51.000Z'}, {'id': '1632618202956955654', 'conversation_id': '1632618202956955654', 'text': 'RT @risktoolbox: Welcome you your #15minutecity \\n\\nYour whole life living within the space occupied by this photograph \\n\\nThat’s what they ha…', 'edit_history_tweet_ids': ['1632618202956955654'], 'reply_settings': 'everyone', 'author_id': '32646385', 'public_metrics': {'retweet_count': 109, 'reply_count': 0, 'like_count': 0, 'quote_count': 0, 'impression_count': 0}, 'lang': 'en', 'referenced_tweets': [{'type': 'retweeted', 'id': '1629836820459683840'}], 'created_at': '2023-03-06T05:44:46.000Z'}, {'id': '1632618194966913024', 'conversation_id': '1632618194966913024', 'text': 'RT @TimeIsFinishing: @DrEliDavid @ClimateEnvoy #JohnKerry #ClimateEnvoy #ClimateScam #ClimateEmergency #ClimateAction #ClimateStrike #Clima…', 'edit_history_tweet_ids': ['1632618194966913024'], 'reply_settings': 'everyone', 'author_id': '182556769', 'public_metrics': {'retweet_count': 1, 'reply_count': 0, 'like_count': 0, 'quote_count': 0, 'impression_count': 0}, 'lang': 'qme', 'referenced_tweets': [{'type': 'retweeted', 'id': '1632617819945725954'}], 'created_at': '2023-03-06T05:44:44.000Z'}, {'id': '1632618193729511424', 'conversation_id': '1632618193729511424', 'text': 'RT @Curtains2023: #AbolishTheWHO #AbolishTheUN #CovidHoax #ClimateScam it is ALL linked and if you sleep through this moment in Civilizatio…', 'edit_history_tweet_ids': ['1632618193729511424'], 'reply_settings': 'everyone', 'author_id': '635461103', 'public_metrics': {'retweet_count': 3, 'reply_count': 0, 'like_count': 0, 'quote_count': 0, 'impression_count': 0}, 'lang': 'en', 'referenced_tweets': [{'type': 'retweeted', 'id': '1632610276557111296'}], 'created_at': '2023-03-06T05:44:44.000Z'}, {'id': '1632618180022525952', 'conversation_id': '1632618180022525952', 'text': 'RT @TimeIsFinishing: @DrEliDavid @ClimateEnvoy #JohnKerry #ClimateEnvoy #ClimateScam #ClimateEmergency #ClimateAction #ClimateStrike #Clima…', 'edit_history_tweet_ids': ['1632618180022525952'], 'reply_settings': 'everyone', 'author_id': '182556769', 'public_metrics': {'retweet_count': 1, 'reply_count': 0, 'like_count': 0, 'quote_count': 0, 'impression_count': 0}, 'lang': 'qme', 'referenced_tweets': [{'type': 'retweeted', 'id': '1632618013286342657'}], 'created_at': '2023-03-06T05:44:41.000Z'}, {'id': '1632618171617390592', 'conversation_id': '1632618171617390592', 'text': 'RT @Arwenstar: This can’t be shared enough \\n#ClimateScam https://t.co/xz4moa9f5S', 'edit_history_tweet_ids': ['1632618171617390592'], 'reply_settings': 'everyone', 'author_id': '48697893', 'public_metrics': {'retweet_count': 1104, 'reply_count': 0, 'like_count': 0, 'quote_count': 0, 'impression_count': 0}, 'lang': 'en', 'referenced_tweets': [{'type': 'retweeted', 'id': '1629935559173894144'}], 'created_at': '2023-03-06T05:44:39.000Z'}, {'id': '1632618162096074753', 'conversation_id': '1632618162096074753', 'text': 'RT @jordan_777_777: Cobalt Mine in Congo for your zero emission electric Cars. #ClimateCrisis #ClimateJustice #ClimateScam https://t.co/9Lv…', 'edit_history_tweet_ids': ['1632618162096074753'], 'reply_settings': 'everyone', 'author_id': '1507847315134033920', 'public_metrics': {'retweet_count': 38, 'reply_count': 0, 'like_count': 0, 'quote_count': 0, 'impression_count': 0}, 'lang': 'en', 'referenced_tweets': [{'type': 'retweeted', 'id': '1632357484663906304'}], 'created_at': '2023-03-06T05:44:37.000Z'}, {'id': '1632618042008977408', 'conversation_id': '1632618042008977408', 'text': '#ClimateScam update https://t.co/UghqkRLBzP', 'edit_history_tweet_ids': ['1632618042008977408'], 'reply_settings': 'everyone', 'author_id': '1561484107678375943', 'public_metrics': {'retweet_count': 1, 'reply_count': 1, 'like_count': 1, 'quote_count': 0, 'impression_count': 138}, 'lang': 'en', 'referenced_tweets': [{'type': 'quoted', 'id': '1632421746539200515'}], 'created_at': '2023-03-06T05:44:08.000Z'}, {'id': '1632618016419598341', 'conversation_id': '1632618016419598341', 'text': \"RT @Subliminal73: Explainer: What are China's 'artificial islands' and why are there concerns about them: China Knows it's a #ClimateScam o…\", 'edit_history_tweet_ids': ['1632618016419598341'], 'reply_settings': 'everyone', 'author_id': '635461103', 'public_metrics': {'retweet_count': 4, 'reply_count': 0, 'like_count': 0, 'quote_count': 0, 'impression_count': 0}, 'lang': 'en', 'referenced_tweets': [{'type': 'retweeted', 'id': '1632614631347744770'}], 'created_at': '2023-03-06T05:44:02.000Z'}, {'id': '1632618015618396160', 'conversation_id': '1632618015618396160', 'text': 'RT @PerTheSwede: @MikeHudema He is a TV presenter and a WEF puppet spouting climate alarmism! #followthemoney #ClimateCult #ClimateScam', 'edit_history_tweet_ids': ['1632618015618396160'], 'reply_settings': 'everyone', 'author_id': '1250565558963240964', 'public_metrics': {'retweet_count': 1, 'reply_count': 0, 'like_count': 0, 'quote_count': 0, 'impression_count': 0}, 'lang': 'en', 'referenced_tweets': [{'type': 'retweeted', 'id': '1632617978695933952'}], 'created_at': '2023-03-06T05:44:02.000Z'}, {'id': '1632618013286342657', 'conversation_id': '1632505864169848835', 'text': '@DrEliDavid @ClimateEnvoy #JohnKerry #ClimateEnvoy #ClimateScam #ClimateEmergency #ClimateAction #ClimateStrike #ClimateActionForHealth #DigitalCurrency #DigitalTransformation #DigitalID #Tyranny #politicalcorruption #PoliticalNews #USA #Trending #trending2023 #TrendingNow https://t.co/VTUY9bmAkb', 'edit_history_tweet_ids': ['1632618013286342657'], 'in_reply_to_user_id': '801203059359678464', 'reply_settings': 'everyone', 'author_id': '182556769', 'public_metrics': {'retweet_count': 1, 'reply_count': 0, 'like_count': 1, 'quote_count': 0, 'impression_count': 5}, 'lang': 'qme', 'referenced_tweets': [{'type': 'replied_to', 'id': '1632505864169848835'}], 'created_at': '2023-03-06T05:44:01.000Z'}, {'id': '1632617978695933952', 'conversation_id': '1632421746539200515', 'text': '@MikeHudema He is a TV presenter and a WEF puppet spouting climate alarmism! #followthemoney #ClimateCult #ClimateScam', 'edit_history_tweet_ids': ['1632617978695933952'], 'in_reply_to_user_id': '15088481', 'reply_settings': 'everyone', 'author_id': '818278790', 'public_metrics': {'retweet_count': 1, 'reply_count': 0, 'like_count': 0, 'quote_count': 0, 'impression_count': 28}, 'lang': 'en', 'referenced_tweets': [{'type': 'replied_to', 'id': '1632421746539200515'}], 'created_at': '2023-03-06T05:43:53.000Z'}, {'id': '1632617881698553858', 'conversation_id': '1632617881698553858', 'text': 'RT @Unwoke_America: A few more...\\n\\nSchiff knew there was no Russian collusion.\\nWhere is Fetterman? Brain-dead.\\nLockdowns crippled this coun…', 'edit_history_tweet_ids': ['1632617881698553858'], 'reply_settings': 'everyone', 'author_id': '1522265813083897857', 'public_metrics': {'retweet_count': 124, 'reply_count': 0, 'like_count': 0, 'quote_count': 0, 'impression_count': 0}, 'lang': 'en', 'referenced_tweets': [{'type': 'retweeted', 'id': '1632572889860825089'}], 'created_at': '2023-03-06T05:43:30.000Z'}, {'id': '1632617855043923969', 'conversation_id': '1632617855043923969', 'text': 'RT @Unwoke_America: A few more...\\n\\nSchiff knew there was no Russian collusion.\\nWhere is Fetterman? Brain-dead.\\nLockdowns crippled this coun…', 'edit_history_tweet_ids': ['1632617855043923969'], 'reply_settings': 'everyone', 'author_id': '827097739632578561', 'public_metrics': {'retweet_count': 124, 'reply_count': 0, 'like_count': 0, 'quote_count': 0, 'impression_count': 0}, 'lang': 'en', 'referenced_tweets': [{'type': 'retweeted', 'id': '1632572889860825089'}], 'created_at': '2023-03-06T05:43:23.000Z'}, {'id': '1632617819945725954', 'conversation_id': '1632505864169848835', 'text': '@DrEliDavid @ClimateEnvoy #JohnKerry #ClimateEnvoy #ClimateScam #ClimateEmergency #ClimateAction #ClimateStrike #ClimateActionForHealth #DigitalCurrency #DigitalTransformation #DigitalID #Tyranny #politicalcorruption #PoliticalNews #USA #Trending #trending2023 #TrendingNow https://t.co/vB12IOgdxE', 'edit_history_tweet_ids': ['1632617819945725954'], 'in_reply_to_user_id': '801203059359678464', 'reply_settings': 'everyone', 'author_id': '182556769', 'public_metrics': {'retweet_count': 1, 'reply_count': 0, 'like_count': 1, 'quote_count': 0, 'impression_count': 6}, 'lang': 'qme', 'referenced_tweets': [{'type': 'replied_to', 'id': '1632505864169848835'}], 'created_at': '2023-03-06T05:43:15.000Z'}, {'id': '1632617798584135681', 'conversation_id': '1632617798584135681', 'text': 'RT @ZSRenn: Talking about left wing hysteria. \\n\\nDid you see the latest Climate up date on @sunriseon7 this morning. (Fig1) with 38C closing…', 'edit_history_tweet_ids': ['1632617798584135681'], 'reply_settings': 'everyone', 'author_id': '401989905', 'public_metrics': {'retweet_count': 11, 'reply_count': 0, 'like_count': 0, 'quote_count': 0, 'impression_count': 0}, 'lang': 'en', 'referenced_tweets': [{'type': 'retweeted', 'id': '1632617554752733184'}], 'created_at': '2023-03-06T05:43:10.000Z'}, {'id': '1632617771103035393', 'conversation_id': '1632617771103035393', 'text': 'RT @OtherBellamy: @dakppc @ProfBillMcGuire ‘Climate scientist’ ‘socialist’ ‘activist’\\n\\nWell at least he nicely connects the dots on his pro…', 'edit_history_tweet_ids': ['1632617771103035393'], 'reply_settings': 'everyone', 'author_id': '1561484107678375943', 'public_metrics': {'retweet_count': 3, 'reply_count': 0, 'like_count': 0, 'quote_count': 0, 'impression_count': 0}, 'lang': 'en', 'referenced_tweets': [{'type': 'retweeted', 'id': '1632523876616773632'}], 'created_at': '2023-03-06T05:43:03.000Z'}, {'id': '1632617766581596161', 'conversation_id': '1632617766581596161', 'text': 'RT @ZSRenn: Talking about left wing hysteria. \\n\\nDid you see the latest Climate up date on @sunriseon7 this morning. (Fig1) with 38C closing…', 'edit_history_tweet_ids': ['1632617766581596161'], 'reply_settings': 'everyone', 'author_id': '1250565558963240964', 'public_metrics': {'retweet_count': 11, 'reply_count': 0, 'like_count': 0, 'quote_count': 0, 'impression_count': 0}, 'lang': 'en', 'referenced_tweets': [{'type': 'retweeted', 'id': '1632617554752733184'}], 'created_at': '2023-03-06T05:43:02.000Z'}, {'id': '1632617646037368832', 'conversation_id': '1632617646037368832', 'text': 'RT @ClimateScam: Mining that cobalt for EVs.  Greenies caught stealing again....\\n\\n#climatescam https://t.co/oZwzIDxcCw', 'edit_history_tweet_ids': ['1632617646037368832'], 'reply_settings': 'everyone', 'author_id': '32646385', 'public_metrics': {'retweet_count': 355, 'reply_count': 0, 'like_count': 0, 'quote_count': 0, 'impression_count': 0}, 'lang': 'en', 'referenced_tweets': [{'type': 'retweeted', 'id': '1629211382020472832'}], 'created_at': '2023-03-06T05:42:34.000Z'}, {'id': '1632617605021270016', 'conversation_id': '1632505864169848835', 'text': '@DrEliDavid @ClimateEnvoy #JohnKerry #ClimateEnvoy #ClimateScam #ClimateEmergency #ClimateAction #ClimateStrike #ClimateActionForHealth #DigitalCurrency #DigitalTransformation #DigitalID #Tyranny #politicalcorruption #PoliticalNews #USA #Trending #trending2023 #TrendingNow https://t.co/C0HRMTmfbp', 'edit_history_tweet_ids': ['1632617605021270016'], 'in_reply_to_user_id': '801203059359678464', 'reply_settings': 'everyone', 'author_id': '182556769', 'public_metrics': {'retweet_count': 1, 'reply_count': 0, 'like_count': 1, 'quote_count': 0, 'impression_count': 6}, 'lang': 'qme', 'referenced_tweets': [{'type': 'replied_to', 'id': '1632505864169848835'}], 'created_at': '2023-03-06T05:42:24.000Z'}, {'id': '1632617554752733184', 'conversation_id': '1632617554752733184', 'text': 'Talking about left wing hysteria. \\n\\nDid you see the latest Climate up date on @sunriseon7 this morning. (Fig1) with 38C closing schools 😂 blustered @kochie_online \\n\\nNow compare that to the BOM chart (fig2) \\n\\n#ClimateScam not #ClimateCatastrophe #ClimateBrawl https://t.co/Q71eFKP12C', 'edit_history_tweet_ids': ['1632617554752733184'], 'reply_settings': 'everyone', 'author_id': '417047832', 'public_metrics': {'retweet_count': 11, 'reply_count': 5, 'like_count': 31, 'quote_count': 0, 'impression_count': 595}, 'lang': 'en', 'created_at': '2023-03-06T05:42:12.000Z'}, {'id': '1632617513623101443', 'conversation_id': '1632617513623101443', 'text': 'RT @HavaClimate: New Climate News: \\n\\nModi calls for focus on ‘most vulnerable citizens’ at G20 meet\\n\\n#climatecrisis #climateaction #esg #ca…', 'edit_history_tweet_ids': ['1632617513623101443'], 'reply_settings': 'everyone', 'author_id': '1250565558963240964', 'public_metrics': {'retweet_count': 1, 'reply_count': 0, 'like_count': 0, 'quote_count': 0, 'impression_count': 0}, 'lang': 'en', 'referenced_tweets': [{'type': 'retweeted', 'id': '1632617274321272835'}], 'created_at': '2023-03-06T05:42:02.000Z'}, {'id': '1632617471306784771', 'conversation_id': '1632617471306784771', 'text': 'RT @TonyClimate: By the end of this week, Squaw Valley, California will have received more than fifty feet of snow this winter. Experts say…', 'edit_history_tweet_ids': ['1632617471306784771'], 'reply_settings': 'everyone', 'author_id': '2822815598', 'public_metrics': {'retweet_count': 64, 'reply_count': 0, 'like_count': 0, 'quote_count': 0, 'impression_count': 0}, 'lang': 'en', 'referenced_tweets': [{'type': 'retweeted', 'id': '1632385673251684361'}], 'created_at': '2023-03-06T05:41:52.000Z'}, {'id': '1632617424309702657', 'conversation_id': '1632505864169848835', 'text': '@DrEliDavid @ClimateEnvoy #JohnKerry #ClimateEnvoy #ClimateScam #ClimateEmergency #ClimateAction #ClimateStrike #ClimateActionForHealth #DigitalCurrency #DigitalTransformation #DigitalID #Tyranny #politicalcorruption #PoliticalNews #USA #Trending #trending2023 #TrendingNow https://t.co/nlvMqwWuUH', 'edit_history_tweet_ids': ['1632617424309702657'], 'in_reply_to_user_id': '801203059359678464', 'reply_settings': 'everyone', 'author_id': '182556769', 'public_metrics': {'retweet_count': 1, 'reply_count': 0, 'like_count': 1, 'quote_count': 0, 'impression_count': 5}, 'lang': 'qme', 'referenced_tweets': [{'type': 'replied_to', 'id': '1632505864169848835'}], 'created_at': '2023-03-06T05:41:41.000Z'}, {'id': '1632617393414619136', 'conversation_id': '1632617393414619136', 'text': 'RT @btb101livecouk1: Biggest scam at the moment\\n\\n#ClimateScam https://t.co/oJiNbfQ5U8', 'edit_history_tweet_ids': ['1632617393414619136'], 'reply_settings': 'everyone', 'author_id': '1519726963723751425', 'public_metrics': {'retweet_count': 21, 'reply_count': 0, 'like_count': 0, 'quote_count': 0, 'impression_count': 0}, 'lang': 'en', 'referenced_tweets': [{'type': 'retweeted', 'id': '1632405417597841409'}], 'created_at': '2023-03-06T05:41:33.000Z'}, {'id': '1632617305351020544', 'conversation_id': '1632617305351020544', 'text': \"RT @TonyClimate: The world's record heatwave of 160 consecutive days over 100F was set in Australia a century ago. Not surprisingly, @BOM_a…\", 'edit_history_tweet_ids': ['1632617305351020544'], 'reply_settings': 'everyone', 'author_id': '1404478384319643648', 'public_metrics': {'retweet_count': 152, 'reply_count': 0, 'like_count': 0, 'quote_count': 0, 'impression_count': 0}, 'lang': 'en', 'referenced_tweets': [{'type': 'retweeted', 'id': '1632485271542562816'}], 'created_at': '2023-03-06T05:41:12.000Z'}, {'id': '1632617302255603712', 'conversation_id': '1632617302255603712', 'text': 'RT @Unwoke_America: A few more...\\n\\nSchiff knew there was no Russian collusion.\\nWhere is Fetterman? Brain-dead.\\nLockdowns crippled this coun…', 'edit_history_tweet_ids': ['1632617302255603712'], 'reply_settings': 'everyone', 'author_id': '1519726963723751425', 'public_metrics': {'retweet_count': 124, 'reply_count': 0, 'like_count': 0, 'quote_count': 0, 'impression_count': 0}, 'lang': 'en', 'referenced_tweets': [{'type': 'retweeted', 'id': '1632572889860825089'}], 'created_at': '2023-03-06T05:41:12.000Z'}, {'id': '1632617274321272835', 'conversation_id': '1632617274321272835', 'text': 'New Climate News: \\n\\nModi calls for focus on ‘most vulnerable citizens’ at G20 meet\\n\\n#climatecrisis #climateaction #esg #carbon #sustainability #netzero #climatescam #globalwarming #climatechange\\nhttps://t.co/dfGvk3siYa', 'edit_history_tweet_ids': ['1632617274321272835'], 'reply_settings': 'everyone', 'author_id': '1393584356162158593', 'public_metrics': {'retweet_count': 1, 'reply_count': 0, 'like_count': 0, 'quote_count': 0, 'impression_count': 26}, 'lang': 'en', 'created_at': '2023-03-06T05:41:05.000Z'}, {'id': '1632617262287863809', 'conversation_id': '1632505864169848835', 'text': '@DrEliDavid @ClimateEnvoy #JohnKerry #ClimateEnvoy #ClimateScam #ClimateEmergency #ClimateAction #ClimateStrike #ClimateActionForHealth #DigitalCurrency #DigitalTransformation #DigitalID #Tyranny #politicalcorruption #PoliticalNews #USA #Trending #trending2023 #TrendingNow https://t.co/O93ZapgaVA', 'edit_history_tweet_ids': ['1632617262287863809'], 'in_reply_to_user_id': '801203059359678464', 'reply_settings': 'everyone', 'author_id': '182556769', 'public_metrics': {'retweet_count': 1, 'reply_count': 0, 'like_count': 1, 'quote_count': 0, 'impression_count': 7}, 'lang': 'qme', 'referenced_tweets': [{'type': 'replied_to', 'id': '1632505864169848835'}], 'created_at': '2023-03-06T05:41:02.000Z'}, {'id': '1632617177042780161', 'conversation_id': '1632617177042780161', 'text': 'RT @Unwoke_America: A few more...\\n\\nSchiff knew there was no Russian collusion.\\nWhere is Fetterman? Brain-dead.\\nLockdowns crippled this coun…', 'edit_history_tweet_ids': ['1632617177042780161'], 'reply_settings': 'everyone', 'author_id': '1384099530350628866', 'public_metrics': {'retweet_count': 124, 'reply_count': 0, 'like_count': 0, 'quote_count': 0, 'impression_count': 0}, 'lang': 'en', 'referenced_tweets': [{'type': 'retweeted', 'id': '1632572889860825089'}], 'created_at': '2023-03-06T05:40:42.000Z'}, {'id': '1632617110277959681', 'conversation_id': '1632505864169848835', 'text': '@DrEliDavid @ClimateEnvoy #JohnKerry #ClimateEnvoy #ClimateScam #ClimateEmergency #ClimateAction #ClimateStrike #ClimateActionForHealth #DigitalCurrency #DigitalTransformation #DigitalID #Tyranny #politicalcorruption #PoliticalNews #USA #Trending #trending2023 #TrendingNow https://t.co/wVHqXz2Qbo', 'edit_history_tweet_ids': ['1632617110277959681'], 'in_reply_to_user_id': '801203059359678464', 'reply_settings': 'everyone', 'author_id': '182556769', 'public_metrics': {'retweet_count': 1, 'reply_count': 0, 'like_count': 1, 'quote_count': 0, 'impression_count': 7}, 'lang': 'qme', 'referenced_tweets': [{'type': 'replied_to', 'id': '1632505864169848835'}], 'created_at': '2023-03-06T05:40:26.000Z'}, {'id': '1632617078438985728', 'conversation_id': '1632617078438985728', 'text': 'RT @Arwenstar: This can’t be shared enough \\n#ClimateScam https://t.co/xz4moa9f5S', 'edit_history_tweet_ids': ['1632617078438985728'], 'reply_settings': 'everyone', 'author_id': '32646385', 'public_metrics': {'retweet_count': 1104, 'reply_count': 0, 'like_count': 0, 'quote_count': 0, 'impression_count': 0}, 'lang': 'en', 'referenced_tweets': [{'type': 'retweeted', 'id': '1629935559173894144'}], 'created_at': '2023-03-06T05:40:18.000Z'}, {'id': '1632616951099924480', 'conversation_id': '1632505864169848835', 'text': '@DrEliDavid @ClimateEnvoy #JohnKerry #ClimateEnvoy #ClimateScam #ClimateEmergency #ClimateAction #ClimateStrike #ClimateActionForHealth #DigitalCurrency #DigitalTransformation #DigitalID #Tyranny #politicalcorruption #PoliticalNews #USA #Trending #trending2023 #TrendingNow https://t.co/DmjOZQlVj4', 'edit_history_tweet_ids': ['1632616951099924480'], 'in_reply_to_user_id': '801203059359678464', 'reply_settings': 'everyone', 'author_id': '182556769', 'public_metrics': {'retweet_count': 1, 'reply_count': 0, 'like_count': 1, 'quote_count': 0, 'impression_count': 5}, 'lang': 'qme', 'referenced_tweets': [{'type': 'replied_to', 'id': '1632505864169848835'}], 'created_at': '2023-03-06T05:39:48.000Z'}, {'id': '1632616855885041664', 'conversation_id': '1632616855885041664', 'text': 'RT @JamesCranworth: @EvaVlaar The greatest milk producing and milk drinking nation on the earth.. that is so so sad.\\n\\nThe motivation behind…', 'edit_history_tweet_ids': ['1632616855885041664'], 'reply_settings': 'everyone', 'author_id': '2801416642', 'public_metrics': {'retweet_count': 42, 'reply_count': 0, 'like_count': 0, 'quote_count': 0, 'impression_count': 0}, 'lang': 'en', 'referenced_tweets': [{'type': 'retweeted', 'id': '1632473912104583168'}], 'created_at': '2023-03-06T05:39:25.000Z'}, {'id': '1632616830241214466', 'conversation_id': '1632616830241214466', 'text': 'RT @_ClimateCraze: Many #ClimateScam experts say global warming is causing global cooling.  But of course it is ... when your religion is b…', 'edit_history_tweet_ids': ['1632616830241214466'], 'reply_settings': 'everyone', 'author_id': '1519726963723751425', 'public_metrics': {'retweet_count': 11, 'reply_count': 0, 'like_count': 0, 'quote_count': 0, 'impression_count': 0}, 'lang': 'en', 'referenced_tweets': [{'type': 'retweeted', 'id': '1632514277545222145'}], 'created_at': '2023-03-06T05:39:19.000Z'}, {'id': '1632616792584515584', 'conversation_id': '1632616792584515584', 'text': 'RT @TastyLibTearz: An UNCORRUPTED #climate expert vs. a Political operative with an agenda.\\n\\n#ClimateScam #ClimateHoax https://t.co/DuRz57L…', 'edit_history_tweet_ids': ['1632616792584515584'], 'reply_settings': 'everyone', 'author_id': '1170051662356066305', 'public_metrics': {'retweet_count': 12, 'reply_count': 0, 'like_count': 0, 'quote_count': 0, 'impression_count': 0}, 'lang': 'en', 'referenced_tweets': [{'type': 'retweeted', 'id': '1632589615851872259'}], 'created_at': '2023-03-06T05:39:10.000Z'}, {'id': '1632616787878760448', 'conversation_id': '1632616787878760448', 'text': 'RT @AdelaGGY: Globalist EVIL Klaus SCHWANZ:\\nJust eat ze bugs, give me your money and live in ze pod.\\n#dutchfarmers #NoFarmersNoFood #Climat…', 'edit_history_tweet_ids': ['1632616787878760448'], 'reply_settings': 'everyone', 'author_id': '1519726963723751425', 'public_metrics': {'retweet_count': 6, 'reply_count': 0, 'like_count': 0, 'quote_count': 0, 'impression_count': 0}, 'lang': 'en', 'referenced_tweets': [{'type': 'retweeted', 'id': '1632363469788913665'}], 'created_at': '2023-03-06T05:39:09.000Z'}, {'id': '1632616761068584960', 'conversation_id': '1632505864169848835', 'text': '@DrEliDavid @ClimateEnvoy #JohnKerry #ClimateEnvoy #ClimateScam #ClimateEmergency #ClimateAction #ClimateStrike #ClimateActionForHealth #DigitalCurrency #DigitalTransformation #DigitalID #Tyranny #politicalcorruption #PoliticalNews #USA #Trending #trending2023 #TrendingNow https://t.co/dapy4xjSg9', 'edit_history_tweet_ids': ['1632616761068584960'], 'in_reply_to_user_id': '801203059359678464', 'reply_settings': 'everyone', 'author_id': '182556769', 'public_metrics': {'retweet_count': 1, 'reply_count': 0, 'like_count': 1, 'quote_count': 0, 'impression_count': 8}, 'lang': 'qme', 'referenced_tweets': [{'type': 'replied_to', 'id': '1632505864169848835'}], 'created_at': '2023-03-06T05:39:03.000Z'}, {'id': '1632616616918925313', 'conversation_id': '1632616616918925313', 'text': 'RT @TonyClimate: The ski lifts at Squaw Valley, California are shut down once again due to too much snow.\\n\\n#ClimateScam \\n\\nhttps://t.co/Nob9…', 'edit_history_tweet_ids': ['1632616616918925313'], 'reply_settings': 'everyone', 'author_id': '589349457', 'public_metrics': {'retweet_count': 37, 'reply_count': 0, 'like_count': 0, 'quote_count': 0, 'impression_count': 0}, 'lang': 'en', 'referenced_tweets': [{'type': 'retweeted', 'id': '1632408365480693762'}], 'created_at': '2023-03-06T05:38:28.000Z'}, {'id': '1632616556331925504', 'conversation_id': '1632505864169848835', 'text': '@DrEliDavid @ClimateEnvoy #JohnKerry #ClimateEnvoy #ClimateScam #ClimateEmergency #ClimateAction #ClimateStrike #ClimateActionForHealth #DigitalCurrency #DigitalTransformation #DigitalID #Tyranny #politicalcorruption #PoliticalNews #USA #Trending #trending2023 #TrendingNow https://t.co/ENOnVvCw7a', 'edit_history_tweet_ids': ['1632616556331925504'], 'in_reply_to_user_id': '801203059359678464', 'reply_settings': 'everyone', 'author_id': '182556769', 'public_metrics': {'retweet_count': 2, 'reply_count': 0, 'like_count': 1, 'quote_count': 0, 'impression_count': 7}, 'lang': 'qme', 'referenced_tweets': [{'type': 'replied_to', 'id': '1632505864169848835'}], 'created_at': '2023-03-06T05:38:14.000Z'}, {'id': '1632616448572145665', 'conversation_id': '1632616448572145665', 'text': 'RT @JP__75: Listen up sheep.. Start using your brains before it’s too late.\\n\\n#Fifteenminutecities #ClimateScam #DigitalID #carbonfootprint…', 'edit_history_tweet_ids': ['1632616448572145665'], 'reply_settings': 'everyone', 'author_id': '1519726963723751425', 'public_metrics': {'retweet_count': 332, 'reply_count': 0, 'like_count': 0, 'quote_count': 0, 'impression_count': 0}, 'lang': 'en', 'referenced_tweets': [{'type': 'retweeted', 'id': '1627895257491992577'}], 'created_at': '2023-03-06T05:37:48.000Z'}, {'id': '1632616338437840898', 'conversation_id': '1632505864169848835', 'text': '@DrEliDavid @ClimateEnvoy #JohnKerry #ClimateEnvoy #ClimateScam #ClimateEmergency #ClimateAction #ClimateStrike #ClimateActionForHealth #DigitalCurrency #DigitalTransformation #DigitalID #Tyranny #politicalcorruption #PoliticalNews #USA #Trending #trending2023 #TrendingNow https://t.co/yQ42HbjXDq', 'edit_history_tweet_ids': ['1632616338437840898'], 'in_reply_to_user_id': '801203059359678464', 'reply_settings': 'everyone', 'author_id': '182556769', 'public_metrics': {'retweet_count': 2, 'reply_count': 0, 'like_count': 1, 'quote_count': 0, 'impression_count': 9}, 'lang': 'qme', 'referenced_tweets': [{'type': 'replied_to', 'id': '1632505864169848835'}], 'created_at': '2023-03-06T05:37:22.000Z'}, {'id': '1632616315574800386', 'conversation_id': '1632616315574800386', 'text': 'RT @TonyClimate: By the end of this week, Squaw Valley, California will have received more than fifty feet of snow this winter. Experts say…', 'edit_history_tweet_ids': ['1632616315574800386'], 'reply_settings': 'everyone', 'author_id': '3225347314', 'public_metrics': {'retweet_count': 64, 'reply_count': 0, 'like_count': 0, 'quote_count': 0, 'impression_count': 0}, 'lang': 'en', 'referenced_tweets': [{'type': 'retweeted', 'id': '1632385673251684361'}], 'created_at': '2023-03-06T05:37:16.000Z'}, {'id': '1632616253905829889', 'conversation_id': '1632616253905829889', 'text': 'RT @Curtains2023: @MikeHudema #WEFpuppet #Agenda2030 #ClimateScam activist. Also ignorant little man. https://t.co/tDRvhtinFp', 'edit_history_tweet_ids': ['1632616253905829889'], 'reply_settings': 'everyone', 'author_id': '1250565558963240964', 'public_metrics': {'retweet_count': 1, 'reply_count': 0, 'like_count': 0, 'quote_count': 0, 'impression_count': 0}, 'lang': 'en', 'referenced_tweets': [{'type': 'retweeted', 'id': '1632616195345055744'}], 'created_at': '2023-03-06T05:37:02.000Z'}, {'id': '1632616253280907264', 'conversation_id': '1632616253280907264', 'text': 'RT @TonyClimate: Twenty-three years ago the University of East Anglia announced the end of snow. Now the amount of snow on earth is at a re…', 'edit_history_tweet_ids': ['1632616253280907264'], 'reply_settings': 'everyone', 'author_id': '3225347314', 'public_metrics': {'retweet_count': 249, 'reply_count': 0, 'like_count': 0, 'quote_count': 0, 'impression_count': 0}, 'lang': 'en', 'referenced_tweets': [{'type': 'retweeted', 'id': '1632394372326248448'}], 'created_at': '2023-03-06T05:37:01.000Z'}, {'id': '1632616195345055744', 'conversation_id': '1632539520762519553', 'text': '@MikeHudema #WEFpuppet #Agenda2030 #ClimateScam activist. Also ignorant little man. https://t.co/tDRvhtinFp', 'edit_history_tweet_ids': ['1632616195345055744'], 'in_reply_to_user_id': '15088481', 'reply_settings': 'everyone', 'author_id': '1612494564903817232', 'public_metrics': {'retweet_count': 1, 'reply_count': 0, 'like_count': 0, 'quote_count': 0, 'impression_count': 31}, 'lang': 'en', 'referenced_tweets': [{'type': 'replied_to', 'id': '1632539520762519553'}], 'created_at': '2023-03-06T05:36:48.000Z'}, {'id': '1632616138143039489', 'conversation_id': '1632616138143039489', 'text': \"RT @petenet321: Obama believes in the #ClimateScam so much he bought two multimillion dollar seaside mansions, one  in Martha's Vineyard an…\", 'edit_history_tweet_ids': ['1632616138143039489'], 'reply_settings': 'everyone', 'author_id': '1170051662356066305', 'public_metrics': {'retweet_count': 15, 'reply_count': 0, 'like_count': 0, 'quote_count': 0, 'impression_count': 0}, 'lang': 'en', 'referenced_tweets': [{'type': 'retweeted', 'id': '1632593913012801537'}], 'created_at': '2023-03-06T05:36:34.000Z'}, {'id': '1632616137765818371', 'conversation_id': '1632616137765818371', 'text': \"RT @Todd530579621: #ClimateScam\\n\\nGreen is a mean money scheme \\n\\nIt's killing whales. https://t.co/E3brSZzXwk\", 'edit_history_tweet_ids': ['1632616137765818371'], 'reply_settings': 'everyone', 'author_id': '1519726963723751425', 'public_metrics': {'retweet_count': 4, 'reply_count': 0, 'like_count': 0, 'quote_count': 0, 'impression_count': 0}, 'lang': 'en', 'referenced_tweets': [{'type': 'retweeted', 'id': '1632576161866711042'}], 'created_at': '2023-03-06T05:36:34.000Z'}, {'id': '1632616108955160578', 'conversation_id': '1632616108955160578', 'text': \"RT @mlosuna: #VivekRamaswamy reveals the 'dirty little secret' of climate religion: 'All about power, control'. #climatecontrol #climatesca…\", 'edit_history_tweet_ids': ['1632616108955160578'], 'reply_settings': 'everyone', 'author_id': '1519726963723751425', 'public_metrics': {'retweet_count': 2, 'reply_count': 0, 'like_count': 0, 'quote_count': 0, 'impression_count': 0}, 'lang': 'en', 'referenced_tweets': [{'type': 'retweeted', 'id': '1632589763143139328'}], 'created_at': '2023-03-06T05:36:27.000Z'}, {'id': '1632616087790526465', 'conversation_id': '1632505864169848835', 'text': '@DrEliDavid @ClimateEnvoy #JohnKerry #ClimateEnvoy #ClimateScam #ClimateEmergency #ClimateAction #ClimateStrike #ClimateActionForHealth #DigitalCurrency #DigitalTransformation #DigitalID #Tyranny #politicalcorruption #PoliticalNews #USA #Trending #trending2023 #TrendingNow https://t.co/CetCoY884V', 'edit_history_tweet_ids': ['1632616087790526465'], 'in_reply_to_user_id': '801203059359678464', 'reply_settings': 'everyone', 'author_id': '182556769', 'public_metrics': {'retweet_count': 2, 'reply_count': 0, 'like_count': 1, 'quote_count': 0, 'impression_count': 10}, 'lang': 'qme', 'referenced_tweets': [{'type': 'replied_to', 'id': '1632505864169848835'}], 'created_at': '2023-03-06T05:36:22.000Z'}, {'id': '1632616085357842432', 'conversation_id': '1632616085357842432', 'text': 'RT @StuelpnerKarle: #ClimateScam: Der Klimawandel gehört zum Kreislauf der Natur. Der Mensch hat darauf keinen Einfluss. Den Apologeten des…', 'edit_history_tweet_ids': ['1632616085357842432'], 'reply_settings': 'everyone', 'author_id': '1091598120180428800', 'public_metrics': {'retweet_count': 2, 'reply_count': 0, 'like_count': 0, 'quote_count': 0, 'impression_count': 0}, 'lang': 'de', 'referenced_tweets': [{'type': 'retweeted', 'id': '1632412951146647552'}], 'created_at': '2023-03-06T05:36:21.000Z'}, {'id': '1632616076868726785', 'conversation_id': '1632616076868726785', 'text': \"RT @Subliminal73: Explainer: What are China's 'artificial islands' and why are there concerns about them: China Knows it's a #ClimateScam o…\", 'edit_history_tweet_ids': ['1632616076868726785'], 'reply_settings': 'everyone', 'author_id': '1519726963723751425', 'public_metrics': {'retweet_count': 4, 'reply_count': 0, 'like_count': 0, 'quote_count': 0, 'impression_count': 0}, 'lang': 'en', 'referenced_tweets': [{'type': 'retweeted', 'id': '1632614631347744770'}], 'created_at': '2023-03-06T05:36:19.000Z'}, {'id': '1632616054127054850', 'conversation_id': '1632616054127054850', 'text': 'RT @Unwoke_America: A few more...\\n\\nSchiff knew there was no Russian collusion.\\nWhere is Fetterman? Brain-dead.\\nLockdowns crippled this coun…', 'edit_history_tweet_ids': ['1632616054127054850'], 'reply_settings': 'everyone', 'author_id': '904735363570298881', 'public_metrics': {'retweet_count': 124, 'reply_count': 0, 'like_count': 0, 'quote_count': 0, 'impression_count': 0}, 'lang': 'en', 'referenced_tweets': [{'type': 'retweeted', 'id': '1632572889860825089'}], 'created_at': '2023-03-06T05:36:14.000Z'}, {'id': '1632616024976814081', 'conversation_id': '1632616024976814081', 'text': '#nuclearenergy #ClimateScam https://t.co/eTJCQFBJV8', 'edit_history_tweet_ids': ['1632616024976814081'], 'reply_settings': 'everyone', 'author_id': '25326262', 'public_metrics': {'retweet_count': 0, 'reply_count': 0, 'like_count': 0, 'quote_count': 0, 'impression_count': 9}, 'lang': 'qht', 'referenced_tweets': [{'type': 'quoted', 'id': '1632415648071700481'}], 'created_at': '2023-03-06T05:36:07.000Z'}, {'id': '1632616004345008128', 'conversation_id': '1632616004345008128', 'text': 'RT @SummersWave: I hate this crap!😔 #ClimateScam 😡', 'edit_history_tweet_ids': ['1632616004345008128'], 'reply_settings': 'everyone', 'author_id': '1264621717', 'public_metrics': {'retweet_count': 15, 'reply_count': 0, 'like_count': 0, 'quote_count': 0, 'impression_count': 0}, 'lang': 'en', 'referenced_tweets': [{'type': 'retweeted', 'id': '1632579362275971073'}], 'created_at': '2023-03-06T05:36:02.000Z'}, {'id': '1632615924623896576', 'conversation_id': '1632615924623896576', 'text': \"RT @mj_santos: I'm super pro-#Earth and super anti-#ClimateScam, @elonmusk.\", 'edit_history_tweet_ids': ['1632615924623896576'], 'reply_settings': 'everyone', 'author_id': '1519726963723751425', 'public_metrics': {'retweet_count': 3, 'reply_count': 0, 'like_count': 0, 'quote_count': 0, 'impression_count': 0}, 'lang': 'en', 'referenced_tweets': [{'type': 'retweeted', 'id': '1632530135092981760'}], 'created_at': '2023-03-06T05:35:43.000Z'}, {'id': '1632615914678919172', 'conversation_id': '1632615914678919172', 'text': 'RT @commonsense058: @Mon4Kooyong There is no such thing as man made climate change, its just the natural forces of seasonal climate that is…', 'edit_history_tweet_ids': ['1632615914678919172'], 'reply_settings': 'everyone', 'author_id': '1170051662356066305', 'public_metrics': {'retweet_count': 28, 'reply_count': 0, 'like_count': 0, 'quote_count': 0, 'impression_count': 0}, 'lang': 'en', 'referenced_tweets': [{'type': 'retweeted', 'id': '1632603221620559872'}], 'created_at': '2023-03-06T05:35:41.000Z'}, {'id': '1632615874602614784', 'conversation_id': '1632615874602614784', 'text': '#ClimateScam #DontBeDupedAgain #CrimesAgainstHumanity https://t.co/sV8rOhGkK0', 'edit_history_tweet_ids': ['1632615874602614784'], 'reply_settings': 'everyone', 'author_id': '1488070206530277377', 'public_metrics': {'retweet_count': 0, 'reply_count': 0, 'like_count': 0, 'quote_count': 0, 'impression_count': 16}, 'lang': 'qht', 'referenced_tweets': [{'type': 'quoted', 'id': '1632067221009858562'}], 'created_at': '2023-03-06T05:35:31.000Z'}, {'id': '1632615749994057728', 'conversation_id': '1632615749994057728', 'text': 'RT @3GHtweets: Climate clowns at work. https://t.co/ojehhnPzKl #ClimateScam #ClimateEmergency', 'edit_history_tweet_ids': ['1632615749994057728'], 'reply_settings': 'everyone', 'author_id': '1519726963723751425', 'public_metrics': {'retweet_count': 10, 'reply_count': 0, 'like_count': 0, 'quote_count': 0, 'impression_count': 0}, 'lang': 'en', 'referenced_tweets': [{'type': 'retweeted', 'id': '1632527817320849408'}], 'created_at': '2023-03-06T05:35:01.000Z'}, {'id': '1632615708176666624', 'conversation_id': '1632615708176666624', 'text': 'RT @MedBennett: Like and retweet this tweet, and then come back and check on it tomorrow - your like will have magically disappeared. @Twit…', 'edit_history_tweet_ids': ['1632615708176666624'], 'reply_settings': 'everyone', 'author_id': '916289573054971904', 'public_metrics': {'retweet_count': 11, 'reply_count': 0, 'like_count': 0, 'quote_count': 0, 'impression_count': 0}, 'lang': 'en', 'referenced_tweets': [{'type': 'retweeted', 'id': '1632598133233582080'}], 'created_at': '2023-03-06T05:34:52.000Z'}, {'id': '1632615662001725445', 'conversation_id': '1632615662001725445', 'text': \"RT @timmeb454: #ClimateScam time to get #woke y'all! #GretaThunbergExposed https://t.co/DUGoyeFeKV\", 'edit_history_tweet_ids': ['1632615662001725445'], 'reply_settings': 'everyone', 'author_id': '1519726963723751425', 'public_metrics': {'retweet_count': 9, 'reply_count': 0, 'like_count': 0, 'quote_count': 0, 'impression_count': 0}, 'lang': 'en', 'referenced_tweets': [{'type': 'retweeted', 'id': '1632548690324860928'}], 'created_at': '2023-03-06T05:34:41.000Z'}, {'id': '1632615489389076480', 'conversation_id': '1632615489389076480', 'text': 'RT @JusperMachogu: Africa needs reliable plentiful energy. For electricity, we can get it from hydro, geo and Coal from South Africa or nat…', 'edit_history_tweet_ids': ['1632615489389076480'], 'reply_settings': 'everyone', 'author_id': '1075112732817547266', 'public_metrics': {'retweet_count': 13, 'reply_count': 0, 'like_count': 0, 'quote_count': 0, 'impression_count': 0}, 'lang': 'en', 'referenced_tweets': [{'type': 'retweeted', 'id': '1632569064403894272'}], 'created_at': '2023-03-06T05:33:59.000Z'}, {'id': '1632615210337828866', 'conversation_id': '1632615210337828866', 'text': 'RT @ClimateScam: Mining that cobalt for EVs.  Greenies caught stealing again....\\n\\n#climatescam https://t.co/oZwzIDxcCw', 'edit_history_tweet_ids': ['1632615210337828866'], 'reply_settings': 'everyone', 'author_id': '1617623147192147982', 'public_metrics': {'retweet_count': 355, 'reply_count': 0, 'like_count': 0, 'quote_count': 0, 'impression_count': 0}, 'lang': 'en', 'referenced_tweets': [{'type': 'retweeted', 'id': '1629211382020472832'}], 'created_at': '2023-03-06T05:32:53.000Z'}, {'id': '1632615081677668352', 'conversation_id': '1632615081677668352', 'text': 'RT @SeanCollins66: It’s insane , it’s Satanic ..\\nblocking out the sun .. Which is life and health .. This is what we have to stop #SatanicA…', 'edit_history_tweet_ids': ['1632615081677668352'], 'reply_settings': 'everyone', 'author_id': '1617623147192147982', 'public_metrics': {'retweet_count': 1724, 'reply_count': 0, 'like_count': 0, 'quote_count': 0, 'impression_count': 0}, 'lang': 'en', 'referenced_tweets': [{'type': 'retweeted', 'id': '1631770780450136064'}], 'created_at': '2023-03-06T05:32:22.000Z'}, {'id': '1632615074819973121', 'conversation_id': '1632615074819973121', 'text': 'RT @Alaskacryptogi1: The only place water is rising is in this fat xxxxx bathtub. He’s inflated not deflated. #ClimateScam', 'edit_history_tweet_ids': ['1632615074819973121'], 'reply_settings': 'everyone', 'author_id': '1598018474185457687', 'public_metrics': {'retweet_count': 19, 'reply_count': 0, 'like_count': 0, 'quote_count': 0, 'impression_count': 0}, 'lang': 'en', 'referenced_tweets': [{'type': 'retweeted', 'id': '1632543398627356673'}], 'created_at': '2023-03-06T05:32:21.000Z'}, {'id': '1632614949221728258', 'conversation_id': '1632614949221728258', 'text': 'RT @mj_santos: #ClimateScam and their hypocrisy', 'edit_history_tweet_ids': ['1632614949221728258'], 'reply_settings': 'everyone', 'author_id': '1519726963723751425', 'public_metrics': {'retweet_count': 5, 'reply_count': 0, 'like_count': 0, 'quote_count': 0, 'impression_count': 0}, 'lang': 'en', 'referenced_tweets': [{'type': 'retweeted', 'id': '1632528499176087552'}], 'created_at': '2023-03-06T05:31:51.000Z'}, {'id': '1632614881861210112', 'conversation_id': '1632614881861210112', 'text': 'RT @tan123: #ClimateScam', 'edit_history_tweet_ids': ['1632614881861210112'], 'reply_settings': 'everyone', 'author_id': '1050843897176449030', 'public_metrics': {'retweet_count': 3, 'reply_count': 0, 'like_count': 0, 'quote_count': 0, 'impression_count': 0}, 'lang': 'qht', 'referenced_tweets': [{'type': 'retweeted', 'id': '1632577711737815040'}], 'created_at': '2023-03-06T05:31:35.000Z'}, {'id': '1632614746334560259', 'conversation_id': '1632614746334560259', 'text': \"RT @Subliminal73: Explainer: What are China's 'artificial islands' and why are there concerns about them: China Knows it's a #ClimateScam o…\", 'edit_history_tweet_ids': ['1632614746334560259'], 'reply_settings': 'everyone', 'author_id': '1250565558963240964', 'public_metrics': {'retweet_count': 4, 'reply_count': 0, 'like_count': 0, 'quote_count': 0, 'impression_count': 0}, 'lang': 'en', 'referenced_tweets': [{'type': 'retweeted', 'id': '1632614631347744770'}], 'created_at': '2023-03-06T05:31:02.000Z'}, {'id': '1632614631347744770', 'conversation_id': '1632614631347744770', 'text': \"Explainer: What are China's 'artificial islands' and why are there concerns about them: China Knows it's a #ClimateScam or they Would not Build Fake Sand Islands  https://t.co/BBgUDKLR6U\", 'edit_history_tweet_ids': ['1632614631347744770'], 'reply_settings': 'everyone', 'author_id': '1170051662356066305', 'public_metrics': {'retweet_count': 4, 'reply_count': 0, 'like_count': 4, 'quote_count': 0, 'impression_count': 82}, 'lang': 'en', 'created_at': '2023-03-06T05:30:35.000Z'}, {'id': '1632614468541710337', 'conversation_id': '1632614468541710337', 'text': 'RT @commonsense058: @Mon4Kooyong There is no such thing as man made climate change, its just the natural forces of seasonal climate that is…', 'edit_history_tweet_ids': ['1632614468541710337'], 'reply_settings': 'everyone', 'author_id': '1459682915562897410', 'public_metrics': {'retweet_count': 28, 'reply_count': 0, 'like_count': 0, 'quote_count': 0, 'impression_count': 0}, 'lang': 'en', 'referenced_tweets': [{'type': 'retweeted', 'id': '1632603221620559872'}], 'created_at': '2023-03-06T05:29:56.000Z'}, {'id': '1632614164626546688', 'conversation_id': '1632614164626546688', 'text': 'RT @TonyClimate: Europe and America experienced an unprecedented heatwave and drought during the year 1540.\\n\\n#ClimateScam \\n\\nhttps://t.co/If…', 'edit_history_tweet_ids': ['1632614164626546688'], 'reply_settings': 'everyone', 'author_id': '3225347314', 'public_metrics': {'retweet_count': 46, 'reply_count': 0, 'like_count': 0, 'quote_count': 0, 'impression_count': 0}, 'lang': 'en', 'referenced_tweets': [{'type': 'retweeted', 'id': '1632564519477325824'}], 'created_at': '2023-03-06T05:28:44.000Z'}, {'id': '1632614071248846849', 'conversation_id': '1632614071248846849', 'text': 'RT @LetsGoBrando45: #ClimateChange grifter #JohnKerry gets destroyed by #ThomasMassie in debate! 🔥🔥🔥🔥 #ClimateEmergency #ClimateCrisis #Cli…', 'edit_history_tweet_ids': ['1632614071248846849'], 'reply_settings': 'everyone', 'author_id': '1484022352593797120', 'public_metrics': {'retweet_count': 180, 'reply_count': 0, 'like_count': 0, 'quote_count': 0, 'impression_count': 0}, 'lang': 'en', 'referenced_tweets': [{'type': 'retweeted', 'id': '1631890306059624450'}], 'created_at': '2023-03-06T05:28:21.000Z'}, {'id': '1632613931108929536', 'conversation_id': '1632613931108929536', 'text': \"RT @Koiler: @MikeHudema Today is the 6th of March 2023 &amp; not one 'Climate Emergency' issued in the last 50 years has come true. Not one.\\nLe…\", 'edit_history_tweet_ids': ['1632613931108929536'], 'reply_settings': 'everyone', 'author_id': '1585925811877871616', 'public_metrics': {'retweet_count': 83, 'reply_count': 0, 'like_count': 0, 'quote_count': 0, 'impression_count': 0}, 'lang': 'en', 'referenced_tweets': [{'type': 'retweeted', 'id': '1632524223427260416'}], 'created_at': '2023-03-06T05:27:48.000Z'}, {'id': '1632613871428009984', 'conversation_id': '1632613871428009984', 'text': 'RT @puritan_777: 💢 Every single temperature sensor used for climate data is located on an airport!\\nThey are including asphalt and jet exhau…', 'edit_history_tweet_ids': ['1632613871428009984'], 'reply_settings': 'everyone', 'author_id': '1484022352593797120', 'public_metrics': {'retweet_count': 80, 'reply_count': 0, 'like_count': 0, 'quote_count': 0, 'impression_count': 0}, 'lang': 'en', 'referenced_tweets': [{'type': 'retweeted', 'id': '1630701153825464321'}], 'created_at': '2023-03-06T05:27:34.000Z'}, {'id': '1632613674954235906', 'conversation_id': '1632613674954235906', 'text': 'RT @sophiadahl1: Malcolm Roberts ‼️‼️\\nDebunked climate science in 90 seconds💥☝️🤔🙏👇👇\\n#ClimateScam #ClimateHoax https://t.co/faf4AVQrxw', 'edit_history_tweet_ids': ['1632613674954235906'], 'reply_settings': 'everyone', 'author_id': '1484022352593797120', 'public_metrics': {'retweet_count': 403, 'reply_count': 0, 'like_count': 0, 'quote_count': 0, 'impression_count': 0}, 'lang': 'en', 'referenced_tweets': [{'type': 'retweeted', 'id': '1630231953839472641'}], 'created_at': '2023-03-06T05:26:47.000Z'}, {'id': '1632613636278714369', 'conversation_id': '1632613636278714369', 'text': 'RT @commonsense058: @Mon4Kooyong There is no such thing as man made climate change, its just the natural forces of seasonal climate that is…', 'edit_history_tweet_ids': ['1632613636278714369'], 'reply_settings': 'everyone', 'author_id': '175243720', 'public_metrics': {'retweet_count': 28, 'reply_count': 0, 'like_count': 0, 'quote_count': 0, 'impression_count': 0}, 'lang': 'en', 'referenced_tweets': [{'type': 'retweeted', 'id': '1632603221620559872'}], 'created_at': '2023-03-06T05:26:38.000Z'}, {'id': '1632613592599252994', 'conversation_id': '1632613592599252994', 'text': 'RT @commonsense058: @Mon4Kooyong There is no such thing as man made climate change, its just the natural forces of seasonal climate that is…', 'edit_history_tweet_ids': ['1632613592599252994'], 'reply_settings': 'everyone', 'author_id': '33450313', 'public_metrics': {'retweet_count': 28, 'reply_count': 0, 'like_count': 0, 'quote_count': 0, 'impression_count': 0}, 'lang': 'en', 'referenced_tweets': [{'type': 'retweeted', 'id': '1632603221620559872'}], 'created_at': '2023-03-06T05:26:27.000Z'}, {'id': '1632613570348486657', 'conversation_id': '1632613570348486657', 'text': \"RT @Koiler: @MikeHudema Today is the 6th of March 2023 &amp; not one 'Climate Emergency' issued in the last 50 years has come true. Not one.\\nLe…\", 'edit_history_tweet_ids': ['1632613570348486657'], 'reply_settings': 'everyone', 'author_id': '589532879', 'public_metrics': {'retweet_count': 83, 'reply_count': 0, 'like_count': 0, 'quote_count': 0, 'impression_count': 0}, 'lang': 'en', 'referenced_tweets': [{'type': 'retweeted', 'id': '1632524223427260416'}], 'created_at': '2023-03-06T05:26:22.000Z'}, {'id': '1632613558067376128', 'conversation_id': '1632613558067376128', 'text': 'RT @Arwenstar: This can’t be shared enough \\n#ClimateScam https://t.co/xz4moa9f5S', 'edit_history_tweet_ids': ['1632613558067376128'], 'reply_settings': 'everyone', 'author_id': '1484022352593797120', 'public_metrics': {'retweet_count': 1104, 'reply_count': 0, 'like_count': 0, 'quote_count': 0, 'impression_count': 0}, 'lang': 'en', 'referenced_tweets': [{'type': 'retweeted', 'id': '1629935559173894144'}], 'created_at': '2023-03-06T05:26:19.000Z'}, {'id': '1632613557895585793', 'conversation_id': '1632613557895585793', 'text': 'RT @TonyClimate: Troublesome global warming in the Sonoran Desert this week. Not a lot of evidence of March wildflowers yet this year.\\n\\n#Cl…', 'edit_history_tweet_ids': ['1632613557895585793'], 'reply_settings': 'everyone', 'author_id': '757420913704865793', 'public_metrics': {'retweet_count': 35, 'reply_count': 0, 'like_count': 0, 'quote_count': 0, 'impression_count': 0}, 'lang': 'en', 'referenced_tweets': [{'type': 'retweeted', 'id': '1632175454806507521'}], 'created_at': '2023-03-06T05:26:19.000Z'}, {'id': '1632613396804927488', 'conversation_id': '1632613396804927488', 'text': 'RT @JP__75: Listen up sheep.. Start using your brains before it’s too late.\\n\\n#Fifteenminutecities #ClimateScam #DigitalID #carbonfootprint…', 'edit_history_tweet_ids': ['1632613396804927488'], 'reply_settings': 'everyone', 'author_id': '1474547564246495236', 'public_metrics': {'retweet_count': 332, 'reply_count': 0, 'like_count': 0, 'quote_count': 0, 'impression_count': 0}, 'lang': 'en', 'referenced_tweets': [{'type': 'retweeted', 'id': '1627895257491992577'}], 'created_at': '2023-03-06T05:25:40.000Z'}, {'id': '1632613384372756487', 'conversation_id': '1632613384372756487', 'text': 'RT @JP__75: Listen up sheep.. Start using your brains before it’s too late.\\n\\n#Fifteenminutecities #ClimateScam #DigitalID #carbonfootprint…', 'edit_history_tweet_ids': ['1632613384372756487'], 'reply_settings': 'everyone', 'author_id': '1484022352593797120', 'public_metrics': {'retweet_count': 332, 'reply_count': 0, 'like_count': 0, 'quote_count': 0, 'impression_count': 0}, 'lang': 'en', 'referenced_tweets': [{'type': 'retweeted', 'id': '1627895257491992577'}], 'created_at': '2023-03-06T05:25:37.000Z'}, {'id': '1632613350004903936', 'conversation_id': '1632613350004903936', 'text': 'RT @Unwoke_America: A few more...\\n\\nSchiff knew there was no Russian collusion.\\nWhere is Fetterman? Brain-dead.\\nLockdowns crippled this coun…', 'edit_history_tweet_ids': ['1632613350004903936'], 'reply_settings': 'everyone', 'author_id': '1058947990683930625', 'public_metrics': {'retweet_count': 124, 'reply_count': 0, 'like_count': 0, 'quote_count': 0, 'impression_count': 0}, 'lang': 'en', 'referenced_tweets': [{'type': 'retweeted', 'id': '1632572889860825089'}], 'created_at': '2023-03-06T05:25:29.000Z'}, {'id': '1632613316618231808', 'conversation_id': '1632613316618231808', 'text': \"RT @Slartib49836743: Support the World's farmers. This is disgusting these politicians need to be fired, their assets seized and left desti…\", 'edit_history_tweet_ids': ['1632613316618231808'], 'reply_settings': 'everyone', 'author_id': '1468989229195620360', 'public_metrics': {'retweet_count': 11, 'reply_count': 0, 'like_count': 0, 'quote_count': 0, 'impression_count': 0}, 'lang': 'en', 'referenced_tweets': [{'type': 'retweeted', 'id': '1632516346234781703'}], 'created_at': '2023-03-06T05:25:21.000Z'}, {'id': '1632613237413003264', 'conversation_id': '1632613237413003264', 'text': 'RT @choosefreedomf1: @MikeHudema Bullshit!\\n\\n#AGW is a mental condition not an atmospheric one!\\n#ClimateScam', 'edit_history_tweet_ids': ['1632613237413003264'], 'reply_settings': 'everyone', 'author_id': '1250565558963240964', 'public_metrics': {'retweet_count': 1, 'reply_count': 0, 'like_count': 0, 'quote_count': 0, 'impression_count': 0}, 'lang': 'en', 'referenced_tweets': [{'type': 'retweeted', 'id': '1632613141426102272'}], 'created_at': '2023-03-06T05:25:02.000Z'}, {'id': '1632613160233451520', 'conversation_id': '1632613160233451520', 'text': 'RT @sophiadahl1: It’s time to call them out for their hoax‼️☝️🤔🙏👇👇\\n#ClimateScam #ClimateHoax https://t.co/d22xyu8y4n', 'edit_history_tweet_ids': ['1632613160233451520'], 'reply_settings': 'everyone', 'author_id': '1484022352593797120', 'public_metrics': {'retweet_count': 6213, 'reply_count': 0, 'like_count': 0, 'quote_count': 0, 'impression_count': 0}, 'lang': 'en', 'referenced_tweets': [{'type': 'retweeted', 'id': '1627214932088430592'}], 'created_at': '2023-03-06T05:24:44.000Z'}, {'id': '1632613141426102272', 'conversation_id': '1632421746539200515', 'text': '@MikeHudema Bullshit!\\n\\n#AGW is a mental condition not an atmospheric one!\\n#ClimateScam', 'edit_history_tweet_ids': ['1632613141426102272'], 'in_reply_to_user_id': '15088481', 'reply_settings': 'everyone', 'author_id': '1439732158629912576', 'public_metrics': {'retweet_count': 1, 'reply_count': 0, 'like_count': 0, 'quote_count': 0, 'impression_count': 27}, 'lang': 'en', 'referenced_tweets': [{'type': 'replied_to', 'id': '1632421746539200515'}], 'created_at': '2023-03-06T05:24:40.000Z'}, {'id': '1632613070739570688', 'conversation_id': '1632613070739570688', 'text': 'Οι παγκοσμιοποιητές χρησιμοποιούν πανδημίες και την κλιματική αλλαγή για να πάρουν τον έλεγχο\\n#CovidIsNotOver #ClimateScam https://t.co/LZpW2HmIJK', 'edit_history_tweet_ids': ['1632613070739570688'], 'reply_settings': 'everyone', 'author_id': '600532080', 'public_metrics': {'retweet_count': 2, 'reply_count': 0, 'like_count': 6, 'quote_count': 0, 'impression_count': 153}, 'lang': 'el', 'created_at': '2023-03-06T05:24:23.000Z'}, {'id': '1632612625069604864', 'conversation_id': '1632612625069604864', 'text': 'RT @LetsGoBrando45: #ClimateChange grifter #JohnKerry gets destroyed by #ThomasMassie in debate! 🔥🔥🔥🔥 #ClimateEmergency #ClimateCrisis #Cli…', 'edit_history_tweet_ids': ['1632612625069604864'], 'reply_settings': 'everyone', 'author_id': '831990418082504704', 'public_metrics': {'retweet_count': 180, 'reply_count': 0, 'like_count': 0, 'quote_count': 0, 'impression_count': 0}, 'lang': 'en', 'referenced_tweets': [{'type': 'retweeted', 'id': '1631890306059624450'}], 'created_at': '2023-03-06T05:22:36.000Z'}, {'id': '1632612617901723648', 'conversation_id': '1632612617901723648', 'text': 'RT @SeanCollins66: Keep ignoring them , like you ignored all the doctors not on the payroll warning you about the death jab 👍It’s an agenda…', 'edit_history_tweet_ids': ['1632612617901723648'], 'reply_settings': 'everyone', 'author_id': '1519726963723751425', 'public_metrics': {'retweet_count': 73, 'reply_count': 0, 'like_count': 0, 'quote_count': 0, 'impression_count': 0}, 'lang': 'en', 'referenced_tweets': [{'type': 'retweeted', 'id': '1632290923752087554'}], 'created_at': '2023-03-06T05:22:35.000Z'}, {'id': '1632612518219612160', 'conversation_id': '1632612518219612160', 'text': 'RT @sophiadahl1: It’s time to call them out for their hoax‼️☝️🤔🙏👇👇\\n#ClimateScam #ClimateHoax https://t.co/d22xyu8y4n', 'edit_history_tweet_ids': ['1632612518219612160'], 'reply_settings': 'everyone', 'author_id': '23761211', 'public_metrics': {'retweet_count': 6213, 'reply_count': 0, 'like_count': 0, 'quote_count': 0, 'impression_count': 0}, 'lang': 'en', 'referenced_tweets': [{'type': 'retweeted', 'id': '1627214932088430592'}], 'created_at': '2023-03-06T05:22:11.000Z'}, {'id': '1632612480928169984', 'conversation_id': '1632612480928169984', 'text': 'RT @finn_phineas: @googledegreeguy @PervyPimp @MRobertsQLD CSIRO, BOM, GWCC, and RE are all related to the great #ClimateScam', 'edit_history_tweet_ids': ['1632612480928169984'], 'reply_settings': 'everyone', 'author_id': '1250565558963240964', 'public_metrics': {'retweet_count': 1, 'reply_count': 0, 'like_count': 0, 'quote_count': 0, 'impression_count': 0}, 'lang': 'en', 'referenced_tweets': [{'type': 'retweeted', 'id': '1632612434392543232'}], 'created_at': '2023-03-06T05:22:02.000Z'}, {'id': '1632612434392543232', 'conversation_id': '1632565984971091968', 'text': '@googledegreeguy @PervyPimp @MRobertsQLD CSIRO, BOM, GWCC, and RE are all related to the great #ClimateScam', 'edit_history_tweet_ids': ['1632612434392543232'], 'in_reply_to_user_id': '792854080955703296', 'reply_settings': 'everyone', 'author_id': '1065001942311612416', 'public_metrics': {'retweet_count': 1, 'reply_count': 1, 'like_count': 0, 'quote_count': 0, 'impression_count': 33}, 'lang': 'en', 'referenced_tweets': [{'type': 'replied_to', 'id': '1632611652360359942'}], 'created_at': '2023-03-06T05:21:51.000Z'}], 'includes': {'users': [{'username': 'TimeIsFinishing', 'verified': False, 'created_at': '2010-08-24T21:48:50.000Z', 'description': \"Revelation 14:6-12 Third Angel's Message\", 'name': 'Adam', 'public_metrics': {'followers_count': 2201, 'following_count': 4689, 'tweet_count': 146372, 'listed_count': 20}, 'id': '182556769'}, {'username': 'climate_fact', 'verified': False, 'created_at': '2020-04-15T23:24:11.000Z', 'description': 'Free thinker, not afraid to call out bullsh*t when I see it, MAGA!!, Patriot.', 'name': 'Climate Change Dummies', 'public_metrics': {'followers_count': 2787, 'following_count': 0, 'tweet_count': 135389, 'listed_count': 28}, 'id': '1250565558963240964'}, {'username': 'lincoln2266', 'verified': False, 'created_at': '2022-12-30T19:18:48.000Z', 'description': '', 'name': 'ivan2266', 'public_metrics': {'followers_count': 74, 'following_count': 626, 'tweet_count': 1033, 'listed_count': 0}, 'id': '1608905261850431488'}, {'username': 'dubes09', 'verified': False, 'created_at': '2009-04-17T23:05:56.000Z', 'description': 'I stand with America! \\nProud deplorable, conservative, retired, forced to get a PT job after retirement, FJB!\\n\\n#LiberalismIsAMentalDisorder  #BidenWasSelected', 'name': 'Carole Dubreuil', 'public_metrics': {'followers_count': 3559, 'following_count': 3856, 'tweet_count': 47923, 'listed_count': 21}, 'id': '32646385'}, {'username': 'mtntallpaul', 'verified': False, 'created_at': '2012-07-14T15:37:35.000Z', 'description': 'Conservative and gun rights activist, Grateful to all who served so that we remain free. NRA Life Member. Happily married to my awesome wife.  #LGBFJB!', 'name': 'Paul Yeager 🇺🇸🇱🇺', 'public_metrics': {'followers_count': 6806, 'following_count': 7296, 'tweet_count': 62351, 'listed_count': 40}, 'id': '635461103'}, {'username': 'earthianne', 'verified': False, 'created_at': '2009-06-19T12:57:36.000Z', 'description': 'TRUTH : FREEDOM : HEALTH', 'name': 'Cye', 'public_metrics': {'followers_count': 355, 'following_count': 632, 'tweet_count': 2209, 'listed_count': 7}, 'id': '48697893'}, {'username': 'bear_hayes', 'verified': False, 'created_at': '2022-03-26T22:30:21.000Z', 'description': '', 'name': 'Bear Hayes 🇺🇸🇺🇸✝️✝️', 'public_metrics': {'followers_count': 35, 'following_count': 675, 'tweet_count': 69, 'listed_count': 0}, 'id': '1507847315134033920'}, {'username': 'OtherBellamy', 'verified': False, 'created_at': '2022-08-21T22:43:42.000Z', 'description': 'Climate alarmism is far more damaging than any change in our climate. Lukewarm support of ReformUK although Nigel Farage needs to replace Richard Tice.', 'name': 'TheOtherDavidBellamy 🇬🇧', 'public_metrics': {'followers_count': 1772, 'following_count': 3796, 'tweet_count': 2288, 'listed_count': 8}, 'id': '1561484107678375943'}, {'username': 'DrEliDavid', 'verified': True, 'created_at': '2016-11-22T23:17:49.000Z', 'description': 'Researcher, Lecturer, Entrepreneur & Investor | Co-Founder at @DeepInstinctSec & DeepCube | Top 100 Most Influential Twitter Accounts | All opinions are my own.', 'name': 'Dr. Eli David', 'public_metrics': {'followers_count': 336042, 'following_count': 4951, 'tweet_count': 5961, 'listed_count': 1787}, 'id': '801203059359678464'}, {'username': 'PerTheSwede', 'verified': False, 'created_at': '2012-09-11T22:02:07.000Z', 'description': '', 'name': 'Per Brandt', 'public_metrics': {'followers_count': 164, 'following_count': 247, 'tweet_count': 5630, 'listed_count': 1}, 'id': '818278790'}, {'username': 'MikeHudema', 'verified': True, 'created_at': '2008-06-11T19:56:52.000Z', 'description': \"#Climate Campaigner focusing on addressing the #climatecrisis, building #greenjobs & a #GreenNewDeal. Let's join together and change the world!\", 'name': 'Mike Hudema', 'public_metrics': {'followers_count': 208416, 'following_count': 36159, 'tweet_count': 35005, 'listed_count': 2978}, 'id': '15088481'}, {'username': 'Jet__Dude', 'verified': False, 'created_at': '2022-05-05T17:24:06.000Z', 'description': '', 'name': 'John Smith', 'public_metrics': {'followers_count': 7, 'following_count': 28, 'tweet_count': 734, 'listed_count': 0}, 'id': '1522265813083897857'}, {'username': 'Teacher1Abroad', 'verified': False, 'created_at': '2017-02-02T10:14:02.000Z', 'description': 'Biblical Christian & anti-corporate Libertarian.  Jesus is my Good Shepard, not the State or Allstate, and we are def. in the last days. #Sheople #Lastdays', 'name': 'Teacher Abroad', 'public_metrics': {'followers_count': 1137, 'following_count': 1573, 'tweet_count': 14211, 'listed_count': 0}, 'id': '827097739632578561'}, {'username': 'AndrewAQLD', 'verified': False, 'created_at': '2011-10-31T11:39:48.000Z', 'description': 'Brother, Son, Uncle, Nephew and Grandchild. Organic Ant Farming, Cloud Hating, Slam Dancing Poet!!', 'name': 'Andrew A. Hennessy 💧🌈🍞', 'public_metrics': {'followers_count': 2228, 'following_count': 2127, 'tweet_count': 103400, 'listed_count': 46}, 'id': '401989905'}, {'username': 'ZSRenn', 'verified': False, 'created_at': '2011-11-20T13:12:41.000Z', 'description': 'Hi, I’m Z.S. Ren and I used to think I was a social outcast! Lately I’ve found many more of the Silent Majority!', 'name': 'Denier And Proud', 'public_metrics': {'followers_count': 2532, 'following_count': 3944, 'tweet_count': 90914, 'listed_count': 12}, 'id': '417047832'}, {'username': 'emhstewart', 'verified': False, 'created_at': '2014-09-20T21:33:23.000Z', 'description': '', 'name': 'Marie', 'public_metrics': {'followers_count': 609, 'following_count': 921, 'tweet_count': 86118, 'listed_count': 4}, 'id': '2822815598'}, {'username': 'IvayloS94475418', 'verified': False, 'created_at': '2022-04-28T17:16:15.000Z', 'description': '', 'name': 'Ivaylo Stoyanov', 'public_metrics': {'followers_count': 33, 'following_count': 58, 'tweet_count': 10743, 'listed_count': 0}, 'id': '1519726963723751425'}, {'username': 'g_shumway2434', 'verified': False, 'created_at': '2021-06-14T16:38:59.000Z', 'description': '', 'name': 'cp2434', 'public_metrics': {'followers_count': 1, 'following_count': 98, 'tweet_count': 99, 'listed_count': 0}, 'id': '1404478384319643648'}, {'username': 'HavaClimate', 'verified': False, 'created_at': '2021-05-15T15:09:48.000Z', 'description': 'A climate impact organization.', 'name': 'HAVA Climate Solutions', 'public_metrics': {'followers_count': 100, 'following_count': 549, 'tweet_count': 2736, 'listed_count': 17}, 'id': '1393584356162158593'}, {'username': 'billyhu38075198', 'verified': False, 'created_at': '2021-04-19T11:00:39.000Z', 'description': '', 'name': 'billy hunter', 'public_metrics': {'followers_count': 3, 'following_count': 6, 'tweet_count': 601, 'listed_count': 0}, 'id': '1384099530350628866'}, {'username': 'MumbullsMa', 'verified': False, 'created_at': '2014-10-03T05:21:17.000Z', 'description': '', 'name': 'Michelle Anto', 'public_metrics': {'followers_count': 1508, 'following_count': 1090, 'tweet_count': 206336, 'listed_count': 25}, 'id': '2801416642'}, {'username': 'Subliminal73', 'verified': False, 'created_at': '2019-09-06T19:12:52.000Z', 'description': 'Just a Wide Eyed Educated Dude in #SWVA #Virginia', 'name': 'Subliminal7', 'public_metrics': {'followers_count': 92, 'following_count': 693, 'tweet_count': 51570, 'listed_count': 0}, 'id': '1170051662356066305'}, {'username': 'Siansphinx', 'verified': False, 'created_at': '2012-05-24T17:01:52.000Z', 'description': '\"When governments fear the people, there is liberty. When the people fear the government, there is tyranny. Thomas Jefferson', 'name': 'Leonard Spencer (pickle/cucumber)', 'public_metrics': {'followers_count': 859, 'following_count': 332, 'tweet_count': 22297, 'listed_count': 18}, 'id': '589349457'}, {'username': 'AdrianC47C', 'verified': False, 'created_at': '2015-04-30T21:09:44.000Z', 'description': 'Free speech supporter, nuclear energy engineering, risk analysis expert, pro informed consent, unvaxxed!🤓', 'name': 'Adrian Cojanu', 'public_metrics': {'followers_count': 266, 'following_count': 624, 'tweet_count': 17007, 'listed_count': 0}, 'id': '3225347314'}, {'username': 'Curtains2023', 'verified': False, 'created_at': '2023-01-09T17:00:53.000Z', 'description': 'AI will destroy us soon. Meanwhile, expose the WEF/UN/Covid Agenda & its sick perpetrators. Behind the curtain, there are more curtains. #MAGA #Bolsonaro', 'name': 'WinstonSmith2023', 'public_metrics': {'followers_count': 58, 'following_count': 259, 'tweet_count': 1275, 'listed_count': 0}, 'id': '1612494564903817232'}, {'username': 'RaubalReinhard', 'verified': False, 'created_at': '2019-02-02T07:24:07.000Z', 'description': 'Ren', 'name': 'Reinhard Raubal', 'public_metrics': {'followers_count': 380, 'following_count': 297, 'tweet_count': 41607, 'listed_count': 3}, 'id': '1091598120180428800'}, {'username': 'Capitaine_Jon', 'verified': False, 'created_at': '2017-09-04T15:58:14.000Z', 'description': '\\U0001faa2Saltwater Navigator🧭 Engineer🛠 \\nVet🎖#America1st #DD214Club #Marine  #Maritime #1a #2a #GY6 #turn22to0 \\n📷ND750lens 📵DM', 'name': '🇺🇲🚢CAPTAIN JON🦅🌎⚓', 'public_metrics': {'followers_count': 5817, 'following_count': 4615, 'tweet_count': 234504, 'listed_count': 35}, 'id': '904735363570298881'}, {'username': 'ninigator1', 'verified': False, 'created_at': '2009-03-19T16:07:40.000Z', 'description': 'Not PC/Woke. No Identity Politics. Treat everyone with kindness and respect ❤ #AmericaFirst #2A #BanCRT #NoGlobalism #StopNWO #DefundWHO #ResistWEF #GoGators', 'name': 'Steph ❤ America 🇺🇲🐊', 'public_metrics': {'followers_count': 4135, 'following_count': 4823, 'tweet_count': 67216, 'listed_count': 4}, 'id': '25326262'}, {'username': 'DonaldWillinger', 'verified': False, 'created_at': '2013-03-13T14:31:23.000Z', 'description': \"𝗦𝗶𝗻𝗴𝗹𝗲, 𝗝𝗲𝘄, and 72 😎  𝗜 𝗳𝗼𝗹𝗹𝗼𝘄 𝘁𝗵𝗼𝘀𝗲 𝘄𝗵𝗼 𝗳𝗼𝗹𝗹𝗼𝘄 𝗺𝗲! I'm not looking for a relationship, unless you are Jewish.\", 'name': 'Donald B. Willinger', 'public_metrics': {'followers_count': 4662, 'following_count': 4507, 'tweet_count': 54129, 'listed_count': 4}, 'id': '1264621717'}, {'username': 'queenbee0568', 'verified': False, 'created_at': '2022-01-31T08:43:03.000Z', 'description': 'Fighting for FREEDOM. 🇨🇦❤️🇺🇸Fighting AGAINST WORLD TYRANNY. Alberta Farm Girl 👩🏻\\u200d🌾🇨🇦Canadian strong', 'name': 'Queenbee68', 'public_metrics': {'followers_count': 541, 'following_count': 574, 'tweet_count': 8313, 'listed_count': 2}, 'id': '1488070206530277377'}, {'username': 'ReeverTransport', 'verified': False, 'created_at': '2017-10-06T13:10:32.000Z', 'description': '#Small business trucker. Rush was Right!  Illustrating Absurdity! Official account of my opinions! Friends with Danny Rush Patriot! Freedom! 🇺🇸', 'name': 'Yellow Motor Steel Hauler!', 'public_metrics': {'followers_count': 1987, 'following_count': 852, 'tweet_count': 34676, 'listed_count': 15}, 'id': '916289573054971904'}, {'username': 'DJD81553730', 'verified': False, 'created_at': '2018-12-18T19:37:04.000Z', 'description': '', 'name': 'DJD', 'public_metrics': {'followers_count': 219, 'following_count': 1042, 'tweet_count': 125683, 'listed_count': 0}, 'id': '1075112732817547266'}, {'username': 'inkonwallst', 'verified': False, 'created_at': '2023-01-23T20:40:20.000Z', 'description': 'Equities trader.. technicals + fundamentals + price action = 💰  ALL FOR THE MONEY 💸 TRYNA STAY PAID. ⚠️tweets are opinions only and not advice 📢', 'name': 'INKONWALLST 💎', 'public_metrics': {'followers_count': 60, 'following_count': 315, 'tweet_count': 593, 'listed_count': 0}, 'id': '1617623147192147982'}, {'username': 'TandEM6779', 'verified': False, 'created_at': '2022-11-30T18:27:44.000Z', 'description': 'American Small Business Owner- Making America Great Again is not something we should regret or let commie billionare moguls who own the left & MSM shame us for!', 'name': 'TandEM 🇺🇸✝️', 'public_metrics': {'followers_count': 760, 'following_count': 1555, 'tweet_count': 1107, 'listed_count': 1}, 'id': '1598018474185457687'}, {'username': 'JamesBrin4', 'verified': False, 'created_at': '2018-10-12T20:21:23.000Z', 'description': 'Normal man, used to support labour party and SNP, but been forced to change my mind due to political idiots', 'name': 'James Brin', 'public_metrics': {'followers_count': 549, 'following_count': 1240, 'tweet_count': 25951, 'listed_count': 4}, 'id': '1050843897176449030'}, {'username': 'Criticalviewer2', 'verified': False, 'created_at': '2021-11-14T00:42:12.000Z', 'description': '', 'name': 'Criticalviewer', 'public_metrics': {'followers_count': 241, 'following_count': 540, 'tweet_count': 13008, 'listed_count': 0}, 'id': '1459682915562897410'}, {'username': 'Redemption4US2', 'verified': False, 'created_at': '2022-01-20T04:38:15.000Z', 'description': 'BOLD', 'name': 'CODYONAMISSION', 'public_metrics': {'followers_count': 152, 'following_count': 883, 'tweet_count': 2127, 'listed_count': 4}, 'id': '1484022352593797120'}, {'username': 'SvenDagbag', 'verified': False, 'created_at': '2022-10-28T09:28:17.000Z', 'description': 'You have enemies? Good. That means you’ve stood up for something, sometime in your life.', 'name': 'Sven Dagbag', 'public_metrics': {'followers_count': 676, 'following_count': 1669, 'tweet_count': 10030, 'listed_count': 0}, 'id': '1585925811877871616'}, {'username': 'WhosFibbing', 'verified': False, 'created_at': '2010-08-06T02:17:15.000Z', 'description': \"I won't follow blindly what they say. Stand tall stand proud you do not need the approval of others. Proud Birpai woman. Minya nyura wubaliyn. Totem is the Bass\", 'name': 'Duchess of Exeter 🇦🇺', 'public_metrics': {'followers_count': 8610, 'following_count': 4710, 'tweet_count': 733541, 'listed_count': 146}, 'id': '175243720'}, {'username': 'dypsis', 'verified': False, 'created_at': '2009-04-20T06:58:35.000Z', 'description': 'What you do is who you become.\\n\\n\"I DON\\'T REPLY TO IDIOTS.\"', 'name': 'Stigg 🌴', 'public_metrics': {'followers_count': 207, 'following_count': 489, 'tweet_count': 10779, 'listed_count': 0}, 'id': '33450313'}, {'username': 'powely147', 'verified': False, 'created_at': '2012-05-25T00:12:48.000Z', 'description': '', 'name': 'The trusted news initiative', 'public_metrics': {'followers_count': 214, 'following_count': 435, 'tweet_count': 7702, 'listed_count': 0}, 'id': '589532879'}, {'username': 'tedmilo100', 'verified': False, 'created_at': '2016-07-25T03:43:12.000Z', 'description': 'Retired with 50 years life experience', 'name': 'Ted Milo', 'public_metrics': {'followers_count': 1500, 'following_count': 194, 'tweet_count': 233288, 'listed_count': 4}, 'id': '757420913704865793'}, {'username': 'PaulaEv71019406', 'verified': False, 'created_at': '2021-12-25T01:09:05.000Z', 'description': 'Science lover', 'name': 'Paula Evans', 'public_metrics': {'followers_count': 89, 'following_count': 241, 'tweet_count': 2575, 'listed_count': 1}, 'id': '1474547564246495236'}, {'username': 'O_A_F_P', 'verified': False, 'created_at': '2018-11-04T05:04:10.000Z', 'description': 'Freedom above everything. \\n\\nFreedom before everything.\\n\\nSINA DELENDA EST', 'name': 'Federalist Party of East Asia', 'public_metrics': {'followers_count': 165, 'following_count': 881, 'tweet_count': 60982, 'listed_count': 16}, 'id': '1058947990683930625'}, {'username': 'Lucy577046061', 'verified': False, 'created_at': '2021-12-09T17:05:33.000Z', 'description': 'under tyrannical rule in BC canada\\nNuremburg 2 for covid trials\\nI always follow back\\nCovid is political\\nthe left have fallen off the map\\nJT pushes segregation', 'name': 'Fringe Phoenix fighting for our children', 'public_metrics': {'followers_count': 621, 'following_count': 1381, 'tweet_count': 47039, 'listed_count': 1}, 'id': '1468989229195620360'}, {'username': 'choosefreedomf1', 'verified': False, 'created_at': '2021-09-19T23:24:49.000Z', 'description': 'Un-Woke, Un-Stupefied - Black, Free & Proud to be American …..✝️🇺🇸🇺🇸🇺🇸✝️ #AllLivesMatter #2A #JabYourEye #LetsGoBrandon', 'name': 'Choose Freedom First', 'public_metrics': {'followers_count': 164, 'following_count': 662, 'tweet_count': 3796, 'listed_count': 2}, 'id': '1439732158629912576'}, {'username': 'untold_23', 'verified': False, 'created_at': '2012-06-05T21:53:16.000Z', 'description': 'Be water...', 'name': 'untold', 'public_metrics': {'followers_count': 1026, 'following_count': 100, 'tweet_count': 6748, 'listed_count': 2}, 'id': '600532080'}, {'username': 'SuicidalSocr8s', 'verified': False, 'created_at': '2017-02-15T22:15:48.000Z', 'description': 'Body and soul, I am more of a battlefield than a human being', 'name': 'TheSuicidalSocrates', 'public_metrics': {'followers_count': 93, 'following_count': 561, 'tweet_count': 2914, 'listed_count': 0}, 'id': '831990418082504704'}, {'username': 'Bill1748', 'verified': False, 'created_at': '2009-03-11T13:21:26.000Z', 'description': 'lives in Akron, enjoying what I do.', 'name': 'William Lostetter', 'public_metrics': {'followers_count': 26, 'following_count': 70, 'tweet_count': 823, 'listed_count': 0}, 'id': '23761211'}, {'username': 'finn_phineas', 'verified': False, 'created_at': '2018-11-20T22:00:24.000Z', 'description': 'More BS pronouns . She/her  I/me  he/him  it/we  us/they  That should keep the PC and Twitter police at bay, and #AllLivesMatter', 'name': 'Phineas Finn', 'public_metrics': {'followers_count': 570, 'following_count': 1057, 'tweet_count': 31566, 'listed_count': 12}, 'id': '1065001942311612416'}, {'username': 'googledegreeguy', 'verified': False, 'created_at': '2016-10-30T22:21:58.000Z', 'description': \"There is naught, nor ought there be, nothing so exalted on the face of god's grey earth as that prince of foods... the muffin!\", 'name': 'Morieon', 'public_metrics': {'followers_count': 18, 'following_count': 66, 'tweet_count': 1429, 'listed_count': 2}, 'id': '792854080955703296'}]}, 'meta': {'newest_id': '1632618310498918408', 'oldest_id': '1632612434392543232', 'result_count': 100, 'next_token': 'b26v89c19zqg8o3fqk9zqquxmufdffg0g2fzh12yg8ebh'}}\n"
     ]
    },
    {
     "name": "stdout",
     "output_type": "stream",
     "text": [
      "(1694, 13)\n"
     ]
    },
    {
     "data": {
      "text/html": [
       "<div>\n",
       "<style scoped>\n",
       "    .dataframe tbody tr th:only-of-type {\n",
       "        vertical-align: middle;\n",
       "    }\n",
       "\n",
       "    .dataframe tbody tr th {\n",
       "        vertical-align: top;\n",
       "    }\n",
       "\n",
       "    .dataframe thead th {\n",
       "        text-align: right;\n",
       "    }\n",
       "</style>\n",
       "<table border=\"1\" class=\"dataframe\">\n",
       "  <thead>\n",
       "    <tr style=\"text-align: right;\">\n",
       "      <th></th>\n",
       "      <th>preprocessed_text</th>\n",
       "      <th>text</th>\n",
       "      <th>public_metrics</th>\n",
       "    </tr>\n",
       "  </thead>\n",
       "  <tbody>\n",
       "    <tr>\n",
       "      <th>6</th>\n",
       "      <td>record low temps broken again</td>\n",
       "      <td>Record low temps broken again #ClimateScam https://t.co/lqHHaypvps</td>\n",
       "      <td>{'retweet_count': 0, 'reply_count': 0, 'like_count': 0, 'quote_count': 0, 'impression_count': 0}</td>\n",
       "    </tr>\n",
       "    <tr>\n",
       "      <th>12</th>\n",
       "      <td>rt :  we need an investigation like covid to bring awareness to the general public that  is driven by tra…</td>\n",
       "      <td>RT @Blightykid: @goddeketal We need an investigation like COVID to bring awareness to the general public that #ClimateScam is driven by tra…</td>\n",
       "      <td>{'retweet_count': 1, 'reply_count': 0, 'like_count': 0, 'quote_count': 0, 'impression_count': 0}</td>\n",
       "    </tr>\n",
       "    <tr>\n",
       "      <th>13</th>\n",
       "      <td>we need an investigation like covid to bring awareness to the general public that  is driven by trans global corporations wef un who and elites to transfer billions into their pockets as the west plummetes into poverty b/c it’s not about the climate or environment</td>\n",
       "      <td>@goddeketal We need an investigation like COVID to bring awareness to the general public that #ClimateScam is driven by trans global corporations WEF UN WHO and elites to transfer billions into their pockets as the West plummetes into poverty b/c it’s not about the climate or environment</td>\n",
       "      <td>{'retweet_count': 1, 'reply_count': 0, 'like_count': 0, 'quote_count': 0, 'impression_count': 5}</td>\n",
       "    </tr>\n",
       "    <tr>\n",
       "      <th>22</th>\n",
       "      <td>peter, if we were in a genuine \"climate emergency\", it wouldn't be necessary for you to announce it. did you happen to call emergency services about this alleged emergency? no? hmm.</td>\n",
       "      <td>@SenatorSurfer Peter, if we were in a genuine \"climate emergency\", it wouldn't be necessary for you to announce it. Did you happen to call emergency services about this alleged emergency? No? Hmm. #ClimateScam</td>\n",
       "      <td>{'retweet_count': 0, 'reply_count': 0, 'like_count': 0, 'quote_count': 0, 'impression_count': 2}</td>\n",
       "    </tr>\n",
       "    <tr>\n",
       "      <th>23</th>\n",
       "      <td>there is no \"climate crisis\". there is no \"public health\" threat from stoves. gas stoves represent individual agency, and are difficult to administrate centrally, so they're being attacked.</td>\n",
       "      <td>@KQED There is no \"climate crisis\". There is no \"public health\" threat from stoves. Gas stoves represent individual agency, and are difficult to administrate centrally, so they're being attacked. #ClimateScam</td>\n",
       "      <td>{'retweet_count': 0, 'reply_count': 0, 'like_count': 0, 'quote_count': 0, 'impression_count': 0}</td>\n",
       "    </tr>\n",
       "  </tbody>\n",
       "</table>\n",
       "</div>"
      ],
      "text/plain": [
       "                                                                                                                                                                                                                                                           preprocessed_text  \\\n",
       "6                                                                                                                                                                                                                                              record low temps broken again   \n",
       "12                                                                                                                                                                rt :  we need an investigation like covid to bring awareness to the general public that  is driven by tra…   \n",
       "13  we need an investigation like covid to bring awareness to the general public that  is driven by trans global corporations wef un who and elites to transfer billions into their pockets as the west plummetes into poverty b/c it’s not about the climate or environment   \n",
       "22                                                                                     peter, if we were in a genuine \"climate emergency\", it wouldn't be necessary for you to announce it. did you happen to call emergency services about this alleged emergency? no? hmm.   \n",
       "23                                                                             there is no \"climate crisis\". there is no \"public health\" threat from stoves. gas stoves represent individual agency, and are difficult to administrate centrally, so they're being attacked.   \n",
       "\n",
       "                                                                                                                                                                                                                                                                                                text  \\\n",
       "6                                                                                                                                                                                                                                 Record low temps broken again #ClimateScam https://t.co/lqHHaypvps   \n",
       "12                                                                                                                                                      RT @Blightykid: @goddeketal We need an investigation like COVID to bring awareness to the general public that #ClimateScam is driven by tra…   \n",
       "13  @goddeketal We need an investigation like COVID to bring awareness to the general public that #ClimateScam is driven by trans global corporations WEF UN WHO and elites to transfer billions into their pockets as the West plummetes into poverty b/c it’s not about the climate or environment   \n",
       "22                                                                                 @SenatorSurfer Peter, if we were in a genuine \"climate emergency\", it wouldn't be necessary for you to announce it. Did you happen to call emergency services about this alleged emergency? No? Hmm. #ClimateScam   \n",
       "23                                                                                  @KQED There is no \"climate crisis\". There is no \"public health\" threat from stoves. Gas stoves represent individual agency, and are difficult to administrate centrally, so they're being attacked. #ClimateScam   \n",
       "\n",
       "                                                                                      public_metrics  \n",
       "6   {'retweet_count': 0, 'reply_count': 0, 'like_count': 0, 'quote_count': 0, 'impression_count': 0}  \n",
       "12  {'retweet_count': 1, 'reply_count': 0, 'like_count': 0, 'quote_count': 0, 'impression_count': 0}  \n",
       "13  {'retweet_count': 1, 'reply_count': 0, 'like_count': 0, 'quote_count': 0, 'impression_count': 5}  \n",
       "22  {'retweet_count': 0, 'reply_count': 0, 'like_count': 0, 'quote_count': 0, 'impression_count': 2}  \n",
       "23  {'retweet_count': 0, 'reply_count': 0, 'like_count': 0, 'quote_count': 0, 'impression_count': 0}  "
      ]
     },
     "execution_count": 5,
     "metadata": {},
     "output_type": "execute_result"
    }
   ],
   "source": [
    "climate_scam_handle = get_data(\"@ClimateScam OR #ClimateScam OR from:ClimateScam -is:retweet\")\n",
    "print(climate_scam_handle.shape)\n",
    "climate_scam_handle[[\"preprocessed_text\", \"text\", \"public_metrics\"]].head()"
   ]
  },
  {
   "cell_type": "code",
   "execution_count": 6,
   "id": "8cd43de2",
   "metadata": {
    "ExecuteTime": {
     "end_time": "2023-03-07T03:11:20.142189Z",
     "start_time": "2023-03-07T03:03:01.912257Z"
    },
    "scrolled": true
   },
   "outputs": [
    {
     "data": {
      "application/vnd.jupyter.widget-view+json": {
       "model_id": "ffdd082eb72b4e7e94a96df18bf3ae66",
       "version_major": 2,
       "version_minor": 0
      },
      "text/plain": [
       "  0%|          | 0/70 [00:00<?, ?it/s]"
      ]
     },
     "metadata": {},
     "output_type": "display_data"
    },
    {
     "name": "stdout",
     "output_type": "stream",
     "text": [
      "(5347, 13)\n"
     ]
    }
   ],
   "source": [
    "climate_scam_hashtag = get_data(\"#ClimateScam -is:retweet\")\n",
    "print(climate_scam_hashtag.shape)"
   ]
  },
  {
   "cell_type": "code",
   "execution_count": 7,
   "id": "745e7529",
   "metadata": {
    "ExecuteTime": {
     "end_time": "2023-03-07T03:11:20.151070Z",
     "start_time": "2023-03-07T03:11:20.143395Z"
    }
   },
   "outputs": [
    {
     "data": {
      "text/html": [
       "<div>\n",
       "<style scoped>\n",
       "    .dataframe tbody tr th:only-of-type {\n",
       "        vertical-align: middle;\n",
       "    }\n",
       "\n",
       "    .dataframe tbody tr th {\n",
       "        vertical-align: top;\n",
       "    }\n",
       "\n",
       "    .dataframe thead th {\n",
       "        text-align: right;\n",
       "    }\n",
       "</style>\n",
       "<table border=\"1\" class=\"dataframe\">\n",
       "  <thead>\n",
       "    <tr style=\"text-align: right;\">\n",
       "      <th></th>\n",
       "      <th>preprocessed_text</th>\n",
       "      <th>text</th>\n",
       "      <th>public_metrics</th>\n",
       "    </tr>\n",
       "  </thead>\n",
       "  <tbody>\n",
       "    <tr>\n",
       "      <th>6721</th>\n",
       "      <td>there's no \"climate crisis\", so you could cross that one off your list.</td>\n",
       "      <td>@Xavier_Bettel @EIB @wernerhoyer There's no \"climate crisis\", so you could cross that one off your list. #ClimateScam</td>\n",
       "      <td>{'retweet_count': 1, 'reply_count': 0, 'like_count': 0, 'quote_count': 0, 'impression_count': 50}</td>\n",
       "    </tr>\n",
       "    <tr>\n",
       "      <th>3393</th>\n",
       "      <td>replying to  it won't be dry for long...but know how california operates, there's most likely no plan for how they can contain it for later use and prevent mud slides.</td>\n",
       "      <td>Replying to @Don_Penim \\nIt won't be dry for long...\\nBut know how California operates, there's most likely no plan for how they can contain it for later use and prevent mud slides. #ClimateScam https://t.co/xgu6iw1LEq</td>\n",
       "      <td>{'retweet_count': 1, 'reply_count': 0, 'like_count': 0, 'quote_count': 0, 'impression_count': 45}</td>\n",
       "    </tr>\n",
       "    <tr>\n",
       "      <th>3945</th>\n",
       "      <td>which will do zero because the green dumb dream is impossible!!</td>\n",
       "      <td>@TheDemocrats Which will do ZERO because the green dumb dream is IMPOSSIBLE!! #ClimateHoax #ClimateScam https://t.co/JJVbhdtqjq</td>\n",
       "      <td>{'retweet_count': 1, 'reply_count': 0, 'like_count': 0, 'quote_count': 0, 'impression_count': 20}</td>\n",
       "    </tr>\n",
       "    <tr>\n",
       "      <th>4789</th>\n",
       "      <td>&amp;amp;   :  ‘s  predictions are all bs; blowing up nordstrom proves biden knows the  is a scam &amp;amp; what’s up with  ‘s ban of petro as china builds 100s of coal plants &amp;amp; brics dumps petro  ? treason ?</td>\n",
       "      <td>@tomselliott @JohnKerry @joebiden &amp;amp; @JohnKerry #ClimateScam : @JohnKerry ‘s #ClimateCrisis predictions are all BS; Blowing up Nordstrom proves Biden knows the #ClimateCrisis is a scam &amp;amp; what’s up with @JoeBiden ‘s ban of 🇺🇸Petro as China builds 100s of COAL plants &amp;amp; BRICS dumps 🇺🇸Petro 💸 ? Treason ? https://t.co/maiibmX1qF</td>\n",
       "      <td>{'retweet_count': 1, 'reply_count': 0, 'like_count': 0, 'quote_count': 0, 'impression_count': 6}</td>\n",
       "    </tr>\n",
       "    <tr>\n",
       "      <th>965</th>\n",
       "      <td>you really need some new material.</td>\n",
       "      <td>@MikeHudema #ClimateScam\\n\\nYou really need some new material.</td>\n",
       "      <td>{'retweet_count': 2, 'reply_count': 0, 'like_count': 1, 'quote_count': 0, 'impression_count': 22}</td>\n",
       "    </tr>\n",
       "  </tbody>\n",
       "</table>\n",
       "</div>"
      ],
      "text/plain": [
       "                                                                                                                                                                                                 preprocessed_text  \\\n",
       "6721                                                                                                                                       there's no \"climate crisis\", so you could cross that one off your list.   \n",
       "3393                                       replying to  it won't be dry for long...but know how california operates, there's most likely no plan for how they can contain it for later use and prevent mud slides.   \n",
       "3945                                                                                                                                               which will do zero because the green dumb dream is impossible!!   \n",
       "4789  &amp;   :  ‘s  predictions are all bs; blowing up nordstrom proves biden knows the  is a scam &amp; what’s up with  ‘s ban of petro as china builds 100s of coal plants &amp; brics dumps petro  ? treason ?   \n",
       "965                                                                                                                                                                             you really need some new material.   \n",
       "\n",
       "                                                                                                                                                                                                                                                                                                                                                  text  \\\n",
       "6721                                                                                                                                                                                                                             @Xavier_Bettel @EIB @wernerhoyer There's no \"climate crisis\", so you could cross that one off your list. #ClimateScam   \n",
       "3393                                                                                                                        Replying to @Don_Penim \\nIt won't be dry for long...\\nBut know how California operates, there's most likely no plan for how they can contain it for later use and prevent mud slides. #ClimateScam https://t.co/xgu6iw1LEq   \n",
       "3945                                                                                                                                                                                                                   @TheDemocrats Which will do ZERO because the green dumb dream is IMPOSSIBLE!! #ClimateHoax #ClimateScam https://t.co/JJVbhdtqjq   \n",
       "4789  @tomselliott @JohnKerry @joebiden &amp; @JohnKerry #ClimateScam : @JohnKerry ‘s #ClimateCrisis predictions are all BS; Blowing up Nordstrom proves Biden knows the #ClimateCrisis is a scam &amp; what’s up with @JoeBiden ‘s ban of 🇺🇸Petro as China builds 100s of COAL plants &amp; BRICS dumps 🇺🇸Petro 💸 ? Treason ? https://t.co/maiibmX1qF   \n",
       "965                                                                                                                                                                                                                                                                                     @MikeHudema #ClimateScam\\n\\nYou really need some new material.   \n",
       "\n",
       "                                                                                         public_metrics  \n",
       "6721  {'retweet_count': 1, 'reply_count': 0, 'like_count': 0, 'quote_count': 0, 'impression_count': 50}  \n",
       "3393  {'retweet_count': 1, 'reply_count': 0, 'like_count': 0, 'quote_count': 0, 'impression_count': 45}  \n",
       "3945  {'retweet_count': 1, 'reply_count': 0, 'like_count': 0, 'quote_count': 0, 'impression_count': 20}  \n",
       "4789   {'retweet_count': 1, 'reply_count': 0, 'like_count': 0, 'quote_count': 0, 'impression_count': 6}  \n",
       "965   {'retweet_count': 2, 'reply_count': 0, 'like_count': 1, 'quote_count': 0, 'impression_count': 22}  "
      ]
     },
     "execution_count": 7,
     "metadata": {},
     "output_type": "execute_result"
    }
   ],
   "source": [
    "climate_scam_hashtag[[\"preprocessed_text\", \"text\", \"public_metrics\"]].sample(5)"
   ]
  },
  {
   "cell_type": "code",
   "execution_count": 8,
   "id": "a531658e",
   "metadata": {
    "ExecuteTime": {
     "end_time": "2023-03-07T03:11:20.252798Z",
     "start_time": "2023-03-07T03:11:20.152424Z"
    }
   },
   "outputs": [
    {
     "data": {
      "text/html": [
       "<div>\n",
       "<style scoped>\n",
       "    .dataframe tbody tr th:only-of-type {\n",
       "        vertical-align: middle;\n",
       "    }\n",
       "\n",
       "    .dataframe tbody tr th {\n",
       "        vertical-align: top;\n",
       "    }\n",
       "\n",
       "    .dataframe thead th {\n",
       "        text-align: right;\n",
       "    }\n",
       "</style>\n",
       "<table border=\"1\" class=\"dataframe\">\n",
       "  <thead>\n",
       "    <tr style=\"text-align: right;\">\n",
       "      <th></th>\n",
       "      <th>Word</th>\n",
       "      <th>Frequency</th>\n",
       "    </tr>\n",
       "  </thead>\n",
       "  <tbody>\n",
       "    <tr>\n",
       "      <th>1</th>\n",
       "      <td>#ClimateScam</td>\n",
       "      <td>4526</td>\n",
       "    </tr>\n",
       "    <tr>\n",
       "      <th>12</th>\n",
       "      <td>climate</td>\n",
       "      <td>778</td>\n",
       "    </tr>\n",
       "    <tr>\n",
       "      <th>17</th>\n",
       "      <td>#climatescam</td>\n",
       "      <td>536</td>\n",
       "    </tr>\n",
       "    <tr>\n",
       "      <th>28</th>\n",
       "      <td>&amp;amp;</td>\n",
       "      <td>377</td>\n",
       "    </tr>\n",
       "    <tr>\n",
       "      <th>29</th>\n",
       "      <td>like</td>\n",
       "      <td>376</td>\n",
       "    </tr>\n",
       "    <tr>\n",
       "      <th>36</th>\n",
       "      <td>islands</td>\n",
       "      <td>334</td>\n",
       "    </tr>\n",
       "    <tr>\n",
       "      <th>37</th>\n",
       "      <td>Climate</td>\n",
       "      <td>333</td>\n",
       "    </tr>\n",
       "    <tr>\n",
       "      <th>39</th>\n",
       "      <td>#ClimateCrisis</td>\n",
       "      <td>327</td>\n",
       "    </tr>\n",
       "    <tr>\n",
       "      <th>40</th>\n",
       "      <td>would</td>\n",
       "      <td>319</td>\n",
       "    </tr>\n",
       "    <tr>\n",
       "      <th>43</th>\n",
       "      <td>#ClimateEmergency</td>\n",
       "      <td>272</td>\n",
       "    </tr>\n",
       "    <tr>\n",
       "      <th>45</th>\n",
       "      <td>people</td>\n",
       "      <td>256</td>\n",
       "    </tr>\n",
       "    <tr>\n",
       "      <th>51</th>\n",
       "      <td>CO2</td>\n",
       "      <td>230</td>\n",
       "    </tr>\n",
       "    <tr>\n",
       "      <th>52</th>\n",
       "      <td>since</td>\n",
       "      <td>228</td>\n",
       "    </tr>\n",
       "    <tr>\n",
       "      <th>53</th>\n",
       "      <td>@MikeHudema</td>\n",
       "      <td>217</td>\n",
       "    </tr>\n",
       "    <tr>\n",
       "      <th>57</th>\n",
       "      <td>due</td>\n",
       "      <td>199</td>\n",
       "    </tr>\n",
       "    <tr>\n",
       "      <th>58</th>\n",
       "      <td>@UN</td>\n",
       "      <td>199</td>\n",
       "    </tr>\n",
       "    <tr>\n",
       "      <th>62</th>\n",
       "      <td>#WEF</td>\n",
       "      <td>194</td>\n",
       "    </tr>\n",
       "    <tr>\n",
       "      <th>63</th>\n",
       "      <td>#Agenda2030</td>\n",
       "      <td>191</td>\n",
       "    </tr>\n",
       "    <tr>\n",
       "      <th>68</th>\n",
       "      <td>change</td>\n",
       "      <td>179</td>\n",
       "    </tr>\n",
       "    <tr>\n",
       "      <th>69</th>\n",
       "      <td>need</td>\n",
       "      <td>176</td>\n",
       "    </tr>\n",
       "    <tr>\n",
       "      <th>70</th>\n",
       "      <td>predicted</td>\n",
       "      <td>176</td>\n",
       "    </tr>\n",
       "    <tr>\n",
       "      <th>71</th>\n",
       "      <td>\"global</td>\n",
       "      <td>176</td>\n",
       "    </tr>\n",
       "    <tr>\n",
       "      <th>73</th>\n",
       "      <td>Maldives</td>\n",
       "      <td>171</td>\n",
       "    </tr>\n",
       "    <tr>\n",
       "      <th>74</th>\n",
       "      <td>then.</td>\n",
       "      <td>171</td>\n",
       "    </tr>\n",
       "    <tr>\n",
       "      <th>76</th>\n",
       "      <td>2008</td>\n",
       "      <td>166</td>\n",
       "    </tr>\n",
       "    <tr>\n",
       "      <th>77</th>\n",
       "      <td>drown</td>\n",
       "      <td>166</td>\n",
       "    </tr>\n",
       "    <tr>\n",
       "      <th>78</th>\n",
       "      <td>-</td>\n",
       "      <td>166</td>\n",
       "    </tr>\n",
       "    <tr>\n",
       "      <th>79</th>\n",
       "      <td>2018</td>\n",
       "      <td>165</td>\n",
       "    </tr>\n",
       "    <tr>\n",
       "      <th>80</th>\n",
       "      <td>warming.\"</td>\n",
       "      <td>165</td>\n",
       "    </tr>\n",
       "    <tr>\n",
       "      <th>81</th>\n",
       "      <td>expanded</td>\n",
       "      <td>165</td>\n",
       "    </tr>\n",
       "  </tbody>\n",
       "</table>\n",
       "</div>"
      ],
      "text/plain": [
       "                 Word  Frequency\n",
       "1        #ClimateScam       4526\n",
       "12            climate        778\n",
       "17       #climatescam        536\n",
       "28              &amp;        377\n",
       "29               like        376\n",
       "36            islands        334\n",
       "37            Climate        333\n",
       "39     #ClimateCrisis        327\n",
       "40              would        319\n",
       "43  #ClimateEmergency        272\n",
       "45             people        256\n",
       "51                CO2        230\n",
       "52              since        228\n",
       "53        @MikeHudema        217\n",
       "57                due        199\n",
       "58                @UN        199\n",
       "62               #WEF        194\n",
       "63        #Agenda2030        191\n",
       "68             change        179\n",
       "69               need        176\n",
       "70          predicted        176\n",
       "71            \"global        176\n",
       "73           Maldives        171\n",
       "74              then.        171\n",
       "76               2008        166\n",
       "77              drown        166\n",
       "78                  -        166\n",
       "79               2018        165\n",
       "80          warming.\"        165\n",
       "81           expanded        165"
      ]
     },
     "execution_count": 8,
     "metadata": {},
     "output_type": "execute_result"
    }
   ],
   "source": [
    "def count_words(col):    \n",
    "    df = col.str.split(expand=True).stack().value_counts().reset_index()\n",
    "    df.columns = ['Word', 'Frequency'] \n",
    "    df = df[~df[\"Word\"].str.lower().isin(all_stopwords)]\n",
    "    return df\n",
    "\n",
    "count_words(climate_scam_hashtag.text)[:30]"
   ]
  },
  {
   "cell_type": "markdown",
   "id": "fbc9010d",
   "metadata": {},
   "source": [
    "## CTTs\n",
    "### Extracting\n",
    "#### Users"
   ]
  },
  {
   "cell_type": "code",
   "execution_count": 10,
   "id": "b12c4727",
   "metadata": {
    "ExecuteTime": {
     "end_time": "2023-03-07T03:46:48.185676Z",
     "start_time": "2023-03-07T03:46:48.175903Z"
    }
   },
   "outputs": [
    {
     "data": {
      "text/html": [
       "<div>\n",
       "<style scoped>\n",
       "    .dataframe tbody tr th:only-of-type {\n",
       "        vertical-align: middle;\n",
       "    }\n",
       "\n",
       "    .dataframe tbody tr th {\n",
       "        vertical-align: top;\n",
       "    }\n",
       "\n",
       "    .dataframe thead th {\n",
       "        text-align: right;\n",
       "    }\n",
       "</style>\n",
       "<table border=\"1\" class=\"dataframe\">\n",
       "  <thead>\n",
       "    <tr style=\"text-align: right;\">\n",
       "      <th></th>\n",
       "      <th>screen_name</th>\n",
       "      <th>Followers</th>\n",
       "      <th>Type</th>\n",
       "      <th>Name</th>\n",
       "    </tr>\n",
       "  </thead>\n",
       "  <tbody>\n",
       "    <tr>\n",
       "      <th>0</th>\n",
       "      <td>capitalresearch</td>\n",
       "      <td>5023</td>\n",
       "      <td>CTT</td>\n",
       "      <td>Capital Research Center</td>\n",
       "    </tr>\n",
       "    <tr>\n",
       "      <th>1</th>\n",
       "      <td>ceidotorg</td>\n",
       "      <td>12565</td>\n",
       "      <td>CTT</td>\n",
       "      <td>Competitive Enterprise Institute</td>\n",
       "    </tr>\n",
       "    <tr>\n",
       "      <th>2</th>\n",
       "      <td>NationalCenter</td>\n",
       "      <td>7807</td>\n",
       "      <td>CTT</td>\n",
       "      <td>National Center for Public Policy Research</td>\n",
       "    </tr>\n",
       "    <tr>\n",
       "      <th>3</th>\n",
       "      <td>ReasonFdn</td>\n",
       "      <td>7030</td>\n",
       "      <td>CTT</td>\n",
       "      <td>Reason Foundation</td>\n",
       "    </tr>\n",
       "    <tr>\n",
       "      <th>4</th>\n",
       "      <td>ACSHorg</td>\n",
       "      <td>5734</td>\n",
       "      <td>CTT</td>\n",
       "      <td>American Council on Science and Health</td>\n",
       "    </tr>\n",
       "    <tr>\n",
       "      <th>5</th>\n",
       "      <td>AEI</td>\n",
       "      <td>151109</td>\n",
       "      <td>CTT</td>\n",
       "      <td>American Enterprise Institute</td>\n",
       "    </tr>\n",
       "    <tr>\n",
       "      <th>6</th>\n",
       "      <td>CatoInstitute</td>\n",
       "      <td>362920</td>\n",
       "      <td>CTT</td>\n",
       "      <td>CATO Institute</td>\n",
       "    </tr>\n",
       "    <tr>\n",
       "      <th>7</th>\n",
       "      <td>CFACT</td>\n",
       "      <td>13985</td>\n",
       "      <td>CTT</td>\n",
       "      <td>CFACT</td>\n",
       "    </tr>\n",
       "    <tr>\n",
       "      <th>8</th>\n",
       "      <td>FoF_Liberty</td>\n",
       "      <td>236</td>\n",
       "      <td>CTT</td>\n",
       "      <td>Frontiers of Freedom</td>\n",
       "    </tr>\n",
       "    <tr>\n",
       "      <th>9</th>\n",
       "      <td>FraserInstitute</td>\n",
       "      <td>31658</td>\n",
       "      <td>CTT</td>\n",
       "      <td>Fraser Institute</td>\n",
       "    </tr>\n",
       "    <tr>\n",
       "      <th>10</th>\n",
       "      <td>FreedomWorks</td>\n",
       "      <td>270144</td>\n",
       "      <td>CTT</td>\n",
       "      <td>FreedomWorks</td>\n",
       "    </tr>\n",
       "    <tr>\n",
       "      <th>11</th>\n",
       "      <td>HeartlandInst</td>\n",
       "      <td>14831</td>\n",
       "      <td>CTT</td>\n",
       "      <td>Heartland Institute</td>\n",
       "    </tr>\n",
       "    <tr>\n",
       "      <th>12</th>\n",
       "      <td>Heritage</td>\n",
       "      <td>624504</td>\n",
       "      <td>CTT</td>\n",
       "      <td>Heritage Foundation</td>\n",
       "    </tr>\n",
       "    <tr>\n",
       "      <th>13</th>\n",
       "      <td>HudsonInstitute</td>\n",
       "      <td>73046</td>\n",
       "      <td>CTT</td>\n",
       "      <td>Hudson Institute</td>\n",
       "    </tr>\n",
       "    <tr>\n",
       "      <th>14</th>\n",
       "      <td>ManhattanInst</td>\n",
       "      <td>60456</td>\n",
       "      <td>CTT</td>\n",
       "      <td>Manhattan Institute</td>\n",
       "    </tr>\n",
       "    <tr>\n",
       "      <th>15</th>\n",
       "      <td>PacificResearch</td>\n",
       "      <td>4222</td>\n",
       "      <td>CTT</td>\n",
       "      <td>Pacific Research Institute for Public Policy</td>\n",
       "    </tr>\n",
       "    <tr>\n",
       "      <th>16</th>\n",
       "      <td>WAPolicyCenter</td>\n",
       "      <td>4141</td>\n",
       "      <td>CTT</td>\n",
       "      <td>Washington Policy Center</td>\n",
       "    </tr>\n",
       "  </tbody>\n",
       "</table>\n",
       "</div>"
      ],
      "text/plain": [
       "        screen_name  Followers Type  \\\n",
       "0   capitalresearch       5023  CTT   \n",
       "1         ceidotorg      12565  CTT   \n",
       "2    NationalCenter       7807  CTT   \n",
       "3         ReasonFdn       7030  CTT   \n",
       "4           ACSHorg       5734  CTT   \n",
       "5               AEI     151109  CTT   \n",
       "6     CatoInstitute     362920  CTT   \n",
       "7             CFACT      13985  CTT   \n",
       "8       FoF_Liberty        236  CTT   \n",
       "9   FraserInstitute      31658  CTT   \n",
       "10     FreedomWorks     270144  CTT   \n",
       "11    HeartlandInst      14831  CTT   \n",
       "12         Heritage     624504  CTT   \n",
       "13  HudsonInstitute      73046  CTT   \n",
       "14    ManhattanInst      60456  CTT   \n",
       "15  PacificResearch       4222  CTT   \n",
       "16   WAPolicyCenter       4141  CTT   \n",
       "\n",
       "                                            Name  \n",
       "0                        Capital Research Center  \n",
       "1               Competitive Enterprise Institute  \n",
       "2     National Center for Public Policy Research  \n",
       "3                              Reason Foundation  \n",
       "4         American Council on Science and Health  \n",
       "5                  American Enterprise Institute  \n",
       "6                                 CATO Institute  \n",
       "7                                          CFACT  \n",
       "8                           Frontiers of Freedom  \n",
       "9                               Fraser Institute  \n",
       "10                                  FreedomWorks  \n",
       "11                           Heartland Institute  \n",
       "12                           Heritage Foundation  \n",
       "13                              Hudson Institute  \n",
       "14                           Manhattan Institute  \n",
       "15  Pacific Research Institute for Public Policy  \n",
       "16                      Washington Policy Center  "
      ]
     },
     "execution_count": 10,
     "metadata": {},
     "output_type": "execute_result"
    }
   ],
   "source": [
    "ctts = pd.read_csv(\"../CTTs/ctt_twitter_handles.csv\")\n",
    "ctts"
   ]
  },
  {
   "cell_type": "code",
   "execution_count": null,
   "id": "7e0c3d21",
   "metadata": {
    "ExecuteTime": {
     "start_time": "2023-03-07T03:46:48.176Z"
    }
   },
   "outputs": [],
   "source": [
    "for i in range(ctts.shape[0]):\n",
    "    username = ctts.loc[i].screen_name\n",
    "    user_meta = getUser(username)\n",
    "    ctts.loc[i, 'followers_count'] = user_meta['public_metrics']['followers_count']\n",
    "    ctts.loc[i, 'following_count'] = user_meta['public_metrics']['following_count']\n",
    "    ctts.loc[i, 'tweet_count'] = user_meta['public_metrics']['tweet_count']\n",
    "    ctts.loc[i, 'listed_count'] = user_meta['public_metrics']['listed_count']\n",
    "    ctts.loc[i, 'description'] = user_meta['description']\n",
    "    ctts.loc[i, 'id'] = user_meta['id']\n",
    "    ctts.loc[i, 'verified'] = user_meta['verified']\n",
    "    ctts.loc[i, 'created_at'] = user_meta['created_at']\n",
    "ctts"
   ]
  },
  {
   "cell_type": "code",
   "execution_count": null,
   "id": "2e5cd66c",
   "metadata": {
    "ExecuteTime": {
     "start_time": "2023-03-07T03:46:48.177Z"
    }
   },
   "outputs": [],
   "source": [
    "## Total Tweets\n",
    "ctts.tweet_count.sum()"
   ]
  },
  {
   "cell_type": "markdown",
   "id": "a75c11c8",
   "metadata": {},
   "source": [
    "#### Tweets"
   ]
  },
  {
   "cell_type": "code",
   "execution_count": null,
   "id": "d9eb0e2d",
   "metadata": {
    "ExecuteTime": {
     "start_time": "2023-03-07T03:46:48.179Z"
    }
   },
   "outputs": [],
   "source": [
    "handles_process = ctts.screen_name.unique()\n",
    "    \n",
    "total_sum = 0\n",
    "for username in tqdm(handles_process):\n",
    "    number = count_tweets(\"@{} -is:retweet\".format(username))\n",
    "    total_sum+=number\n",
    "print(\"Number of tweets: {}\".format(total_sum))\n",
    "print(\"Aproximate time to process: {} minutes\".format(total_sum*6/60/100))"
   ]
  },
  {
   "cell_type": "code",
   "execution_count": null,
   "id": "23da1a88",
   "metadata": {
    "ExecuteTime": {
     "start_time": "2023-03-07T03:46:48.181Z"
    },
    "scrolled": true
   },
   "outputs": [],
   "source": [
    "if SCRAP_CTTS:\n",
    "    file = \"Twitter_scrapped/tweets_scrapped-CTTs_{}.csv\".format(today)\n",
    "    if os.path.isfile(file):\n",
    "        tweets = pd.read_csv(file)\n",
    "        handles_process = list(set(ctts.screen_name.unique()) - set(tweets.username.unique()))\n",
    "    else:\n",
    "        tweets = pd.DataFrame()\n",
    "        handles_process = ctts.screen_name.unique()\n",
    "\n",
    "    for username in tqdm(handles_process):\n",
    "        handle_tweets = extract_data(\"@{} -is:retweet\".format(username), 100)\n",
    "        handle_tweets[\"username\"] = username\n",
    "        tweets = pd.concat([tweets, handle_tweets])\n",
    "        tweets.to_csv(\"tweets_scrapped-CTTs.csv\", index=False)"
   ]
  },
  {
   "cell_type": "markdown",
   "id": "f81801de",
   "metadata": {},
   "source": [
    "### Preprocess"
   ]
  },
  {
   "cell_type": "code",
   "execution_count": null,
   "id": "e1373336",
   "metadata": {
    "ExecuteTime": {
     "start_time": "2023-03-07T03:46:48.183Z"
    }
   },
   "outputs": [],
   "source": [
    "file = \"Twitter_scrapped/tweets_scrapped-CTTs_{}.csv\".format(today)\n",
    "tweets = pd.read_csv(file)"
   ]
  },
  {
   "cell_type": "code",
   "execution_count": null,
   "id": "137275fc",
   "metadata": {
    "ExecuteTime": {
     "start_time": "2023-03-07T03:46:48.184Z"
    }
   },
   "outputs": [],
   "source": [
    "tweets.shape[0]"
   ]
  },
  {
   "cell_type": "code",
   "execution_count": null,
   "id": "7ea04df5",
   "metadata": {
    "ExecuteTime": {
     "start_time": "2023-03-07T03:46:48.185Z"
    }
   },
   "outputs": [],
   "source": [
    "tweets[\"preprocessed_text\"] = tweets[\"text\"].apply(preprocess_text)"
   ]
  },
  {
   "cell_type": "code",
   "execution_count": null,
   "id": "e4318a59",
   "metadata": {
    "ExecuteTime": {
     "start_time": "2023-03-07T03:46:48.186Z"
    }
   },
   "outputs": [],
   "source": [
    "real_tweets = tweets[tweets.referenced_tweets.isna() & (tweets.preprocessed_text!=\"\")].copy(deep=True)\n",
    "print(\"Number of tweets: {} from {} to {}.\".format(\n",
    "    real_tweets.shape[0],\n",
    "    tweets.created_at.min(),\n",
    "    tweets.created_at.max()\n",
    "))"
   ]
  },
  {
   "cell_type": "code",
   "execution_count": null,
   "id": "9a089a53",
   "metadata": {
    "ExecuteTime": {
     "start_time": "2023-03-07T03:46:48.188Z"
    },
    "scrolled": true
   },
   "outputs": [],
   "source": [
    "count_words(tweets.text)[:30]"
   ]
  },
  {
   "cell_type": "markdown",
   "id": "6bda99ef",
   "metadata": {},
   "source": [
    "## Deniers\n",
    "### Extracting\n",
    "#### Users"
   ]
  },
  {
   "cell_type": "code",
   "execution_count": null,
   "id": "3bbe4b44",
   "metadata": {
    "ExecuteTime": {
     "start_time": "2023-03-07T03:46:48.189Z"
    },
    "scrolled": true
   },
   "outputs": [],
   "source": [
    "denials = pd.read_csv(\"CTTs/denier_twitter_handles.csv\")\n",
    "for i in range(denials.shape[0]):\n",
    "    username = denials.loc[i].screen_name\n",
    "    user_meta = getUser(username)\n",
    "    if not user_meta:\n",
    "        continue\n",
    "    denials.loc[i, 'exist'] = True\n",
    "    denials.loc[i, 'followers_count'] = user_meta['public_metrics']['followers_count']\n",
    "    denials.loc[i, 'following_count'] = user_meta['public_metrics']['following_count']\n",
    "    denials.loc[i, 'tweet_count'] = user_meta['public_metrics']['tweet_count']\n",
    "    denials.loc[i, 'listed_count'] = user_meta['public_metrics']['listed_count']\n",
    "    denials.loc[i, 'description'] = user_meta['description']\n",
    "    denials.loc[i, 'id'] = user_meta['id']\n",
    "    denials.loc[i, 'verified'] = user_meta['verified']\n",
    "    denials.loc[i, 'created_at'] = user_meta['created_at']\n",
    "denials"
   ]
  },
  {
   "cell_type": "code",
   "execution_count": null,
   "id": "47ae5cc4",
   "metadata": {
    "ExecuteTime": {
     "start_time": "2023-03-07T03:46:48.190Z"
    }
   },
   "outputs": [],
   "source": [
    "print(\"{} in total {}.\".format((denials.exist==True).sum(), denials.shape[0]))"
   ]
  },
  {
   "cell_type": "markdown",
   "id": "ca7148c4",
   "metadata": {},
   "source": [
    "#### Tweets"
   ]
  },
  {
   "cell_type": "code",
   "execution_count": null,
   "id": "b50ed3c8",
   "metadata": {
    "ExecuteTime": {
     "start_time": "2023-03-07T03:46:48.192Z"
    }
   },
   "outputs": [],
   "source": [
    "handles_process = denials[denials.exist==True].screen_name.unique()\n",
    "    \n",
    "total_sum = 0\n",
    "for username in tqdm(handles_process):\n",
    "    number = count_tweets(\"from:{} -is:retweet\".format(username))\n",
    "    total_sum+=number\n",
    "print(\"Number of tweets: {}\".format(total_sum))\n",
    "print(\"Aproximate time to process: {} minutes\".format(total_sum*6/60/100))"
   ]
  },
  {
   "cell_type": "code",
   "execution_count": null,
   "id": "8a60b850",
   "metadata": {
    "ExecuteTime": {
     "start_time": "2023-03-07T03:46:48.192Z"
    },
    "scrolled": true
   },
   "outputs": [],
   "source": [
    "denials_file = \"Twitter_scrapped/deniers/{}.csv\".format(today)\n",
    "denials_to_process = denials[denials.exist==True]\n",
    "if SCRAP_DENIALS:\n",
    "    if os.path.isfile(denials_file):\n",
    "        tweets_denials = pd.read_csv(denials_file)\n",
    "        handles_process = list(\n",
    "            set(denials_to_process.screen_name.unique()) - set(tweets_denials.username.unique()))\n",
    "    else:\n",
    "        tweets_denials = pd.DataFrame()\n",
    "        handles_process = denials_to_process.screen_name.unique()\n",
    "\n",
    "    for username in tqdm(handles_process):\n",
    "        handle_tweets = extract_data(\"from:{} -is:retweet\".format(username), 100)\n",
    "        handle_tweets[\"username\"] = username\n",
    "        tweets_denials = pd.concat([tweets, handle_tweets])\n",
    "        tweets_denials.to_csv(file, index=False)"
   ]
  },
  {
   "cell_type": "code",
   "execution_count": null,
   "id": "ab819b60",
   "metadata": {
    "ExecuteTime": {
     "start_time": "2023-03-07T03:46:48.194Z"
    }
   },
   "outputs": [],
   "source": [
    "tweets_denials.sample(5)"
   ]
  },
  {
   "cell_type": "markdown",
   "id": "8c439718",
   "metadata": {},
   "source": [
    "## Model\n",
    "### #ClimateScam"
   ]
  },
  {
   "cell_type": "code",
   "execution_count": null,
   "id": "dc9c1fec",
   "metadata": {
    "ExecuteTime": {
     "start_time": "2023-03-07T03:46:48.195Z"
    }
   },
   "outputs": [],
   "source": [
    "import unicodedata\n",
    "\n",
    "# Load and pre-process the text data\n",
    "# Define text pre-processing functions\n",
    "def remove_between_square_brackets(text):\n",
    "    return re.sub('\\[[^]]*\\]', '', text)\n",
    "def remove_non_ascii(text):\n",
    "    \"\"\"Remove non-ASCII characters from list of tokenized words\"\"\"\n",
    "    return unicodedata.normalize('NFKD', text).encode('ascii', 'ignore').decode('utf-8', 'ignore')\n",
    "def strip_underscores(text):\n",
    "    return re.sub(r'_+', ' ', text)\n",
    "def remove_multiple_spaces(text):\n",
    "    return re.sub(r'\\s{2,}', ' ', text)\n",
    "\n",
    "# Merge text pre-processing functions\n",
    "def denoise_text(text):\n",
    "    text = remove_between_square_brackets(text)\n",
    "    text = remove_non_ascii(text)\n",
    "    text = strip_underscores(text)\n",
    "    text = remove_multiple_spaces(text)\n",
    "    return text.strip()\n",
    "\n",
    "\n",
    "# Pre-process the text\n",
    "climate_scam_hashtag['roberta_preprocessed'] = climate_scam_hashtag[\"text\"].astype(str).apply(denoise_text)"
   ]
  },
  {
   "cell_type": "code",
   "execution_count": null,
   "id": "37021080",
   "metadata": {
    "ExecuteTime": {
     "start_time": "2023-03-07T03:46:48.196Z"
    }
   },
   "outputs": [],
   "source": [
    "import torch\n",
    "from simpletransformers.classification import ClassificationModel\n",
    "\n",
    "device = torch.device(\"cpu\")\n",
    "# Define the model \n",
    "architecture = 'roberta'\n",
    "# model_name = 'CARDS_RoBERTa_Classifier'\n",
    "model_name = \"cards/models/CARDS_RoBERTa_Classifier\"\n",
    "\n",
    "# Load the classifier\n",
    "roberta_model = ClassificationModel(architecture, model_name, use_cuda=False)"
   ]
  },
  {
   "cell_type": "code",
   "execution_count": null,
   "id": "d7b9061e",
   "metadata": {
    "ExecuteTime": {
     "start_time": "2023-03-07T03:46:48.197Z"
    }
   },
   "outputs": [],
   "source": [
    "predictions, raw_outputs = roberta_model.predict(list(climate_scam_hashtag.roberta_preprocessed))"
   ]
  },
  {
   "cell_type": "code",
   "execution_count": null,
   "id": "dc899708",
   "metadata": {
    "ExecuteTime": {
     "start_time": "2023-03-07T03:46:48.198Z"
    }
   },
   "outputs": [],
   "source": [
    "le = pickle.load(open(\"le_cards.pkl\", 'rb'))"
   ]
  },
  {
   "cell_type": "code",
   "execution_count": null,
   "id": "78abce1b",
   "metadata": {
    "ExecuteTime": {
     "start_time": "2023-03-07T03:46:48.198Z"
    }
   },
   "outputs": [],
   "source": [
    "climate_scam_hashtag['roberta_pred'] = le.inverse_transform(predictions)\n",
    "climate_scam_hashtag['roberta_proba'] = [max(softmax(element[0])) for element in raw_outputs]"
   ]
  },
  {
   "cell_type": "code",
   "execution_count": null,
   "id": "c9fae45f",
   "metadata": {
    "ExecuteTime": {
     "start_time": "2023-03-07T03:46:48.199Z"
    }
   },
   "outputs": [],
   "source": [
    "climate_scam_hashtag.roberta_pred.value_counts().to_frame().head()"
   ]
  },
  {
   "cell_type": "code",
   "execution_count": null,
   "id": "e3548351",
   "metadata": {
    "ExecuteTime": {
     "start_time": "2023-03-07T03:46:48.200Z"
    }
   },
   "outputs": [],
   "source": [
    "climate_scam_hashtag.roberta_pred.hist()"
   ]
  },
  {
   "cell_type": "code",
   "execution_count": null,
   "id": "1ec556b7",
   "metadata": {
    "ExecuteTime": {
     "start_time": "2023-03-07T03:46:48.201Z"
    }
   },
   "outputs": [],
   "source": [
    "climate_scam_hashtag[[\"text\", \"roberta_pred\", \"roberta_proba\"]]"
   ]
  },
  {
   "cell_type": "code",
   "execution_count": null,
   "id": "fb85b0a9",
   "metadata": {
    "ExecuteTime": {
     "start_time": "2023-03-07T03:46:48.202Z"
    }
   },
   "outputs": [],
   "source": [
    "climate_scam_hashtag.loc[\n",
    "    climate_scam_hashtag.roberta_pred==\"0_0\", [\"text\", \"roberta_pred\", \"roberta_proba\"]].sample(10)"
   ]
  },
  {
   "cell_type": "code",
   "execution_count": null,
   "id": "8128bd32",
   "metadata": {
    "ExecuteTime": {
     "start_time": "2023-03-07T03:46:48.203Z"
    }
   },
   "outputs": [],
   "source": [
    "results['roberta_preprocessed'] = results[\"text\"].astype(str).apply(denoise_text)\n",
    "predictions, raw_outputs = roberta_model.predict(list(results.roberta_preprocessed))\n",
    "results['roberta_pred'] = le.inverse_transform(predictions)\n",
    "results['roberta_proba'] = [max(softmax(element[0])) for element in raw_outputs]"
   ]
  },
  {
   "cell_type": "code",
   "execution_count": null,
   "id": "ec9c42d9",
   "metadata": {
    "ExecuteTime": {
     "start_time": "2023-03-07T03:46:48.204Z"
    },
    "scrolled": true
   },
   "outputs": [],
   "source": [
    "results[[\"text\", \"roberta_pred\", \"roberta_proba\"]]"
   ]
  },
  {
   "cell_type": "code",
   "execution_count": null,
   "id": "123d8baf",
   "metadata": {
    "ExecuteTime": {
     "start_time": "2023-03-07T03:46:48.205Z"
    }
   },
   "outputs": [],
   "source": [
    "file = \"Twitter_scrapped/@ClimateScam_CARDS_predictions_{}.csv\".format(today)\n",
    "climate_scam_hashtag.to_csv(file)"
   ]
  },
  {
   "cell_type": "markdown",
   "id": "8f6f01a2",
   "metadata": {},
   "source": [
    "### CTTs"
   ]
  },
  {
   "cell_type": "code",
   "execution_count": null,
   "id": "b336d478",
   "metadata": {
    "ExecuteTime": {
     "start_time": "2023-03-07T03:46:48.206Z"
    }
   },
   "outputs": [],
   "source": [
    "tweets['roberta_preprocessed'] = tweets[\"text\"].astype(str).apply(denoise_text)"
   ]
  },
  {
   "cell_type": "code",
   "execution_count": null,
   "id": "2c0c5bca",
   "metadata": {
    "ExecuteTime": {
     "start_time": "2023-03-07T03:46:48.207Z"
    }
   },
   "outputs": [],
   "source": [
    "predictions, raw_outputs = roberta_model.predict(list(tweets.roberta_preprocessed))"
   ]
  },
  {
   "cell_type": "code",
   "execution_count": null,
   "id": "d7b35d09",
   "metadata": {
    "ExecuteTime": {
     "start_time": "2023-03-07T03:46:48.208Z"
    }
   },
   "outputs": [],
   "source": [
    "tweets['roberta_pred'] = le.inverse_transform(predictions)\n",
    "tweets['roberta_proba'] = [max(softmax(element[0])) for element in raw_outputs]"
   ]
  },
  {
   "cell_type": "code",
   "execution_count": null,
   "id": "28d9392f",
   "metadata": {
    "ExecuteTime": {
     "start_time": "2023-03-07T03:46:48.209Z"
    }
   },
   "outputs": [],
   "source": [
    "# tweets = pd.read_csv(\"@Twitter_CTTs_predictions.csv\")\n",
    "tweets.roberta_pred.value_counts().to_frame().head()"
   ]
  },
  {
   "cell_type": "code",
   "execution_count": null,
   "id": "72af6d9b",
   "metadata": {
    "ExecuteTime": {
     "start_time": "2023-03-07T03:46:48.210Z"
    }
   },
   "outputs": [],
   "source": [
    "tweets[tweets.referenced_tweets.isna()].shape"
   ]
  },
  {
   "cell_type": "code",
   "execution_count": null,
   "id": "fb31a0da",
   "metadata": {
    "ExecuteTime": {
     "start_time": "2023-03-07T03:46:48.210Z"
    }
   },
   "outputs": [],
   "source": [
    "tweets.roberta_pred.hist()"
   ]
  },
  {
   "cell_type": "code",
   "execution_count": null,
   "id": "c67a1b0e",
   "metadata": {
    "ExecuteTime": {
     "start_time": "2023-03-07T03:46:48.212Z"
    }
   },
   "outputs": [],
   "source": [
    "tweets[[\"text\", \"roberta_pred\", \"roberta_proba\"]].sample(5)"
   ]
  },
  {
   "cell_type": "code",
   "execution_count": null,
   "id": "e7d2d5cd",
   "metadata": {
    "ExecuteTime": {
     "start_time": "2023-03-07T03:46:48.212Z"
    }
   },
   "outputs": [],
   "source": [
    "tweets.loc[tweets.roberta_pred!=\"0_0\", [\"text\", \"roberta_pred\", \"roberta_proba\"]].sample(5)"
   ]
  },
  {
   "cell_type": "code",
   "execution_count": null,
   "id": "eba2a3ed",
   "metadata": {
    "ExecuteTime": {
     "start_time": "2023-03-07T03:46:48.214Z"
    }
   },
   "outputs": [],
   "source": [
    "file_CTT = \"Twitter_scrapped/@Twitter_CTTs_predictions_{}.csv\".format(today)\n",
    "tweets.to_csv(file_CTT)"
   ]
  },
  {
   "cell_type": "code",
   "execution_count": null,
   "id": "92b5fe6e",
   "metadata": {
    "ExecuteTime": {
     "start_time": "2023-03-07T03:46:48.215Z"
    }
   },
   "outputs": [],
   "source": [
    "# samples = (\n",
    "#     tweets.groupby(\"roberta_pred\")\n",
    "#     .sample(10, replace=True)[[\"text\", \"roberta_pred\", \"roberta_proba\"]]\n",
    "#     .drop_duplicates(\"text\")\n",
    "# )\n",
    "# samples.to_csv(\"@Twitter_CTTs_predictions_samples.csv\")"
   ]
  },
  {
   "cell_type": "markdown",
   "id": "07f81dc2",
   "metadata": {},
   "source": [
    "### Denials"
   ]
  },
  {
   "cell_type": "code",
   "execution_count": null,
   "id": "39fde016",
   "metadata": {
    "ExecuteTime": {
     "start_time": "2023-03-07T03:46:48.216Z"
    }
   },
   "outputs": [],
   "source": [
    "tweets_denials['roberta_preprocessed'] = tweets_denials[\"text\"].astype(str).apply(denoise_text)\n",
    "predictions, raw_outputs = roberta_model.predict(list(tweets_denials.roberta_preprocessed))"
   ]
  },
  {
   "cell_type": "code",
   "execution_count": null,
   "id": "5598cb03",
   "metadata": {
    "ExecuteTime": {
     "start_time": "2023-03-07T03:46:48.217Z"
    }
   },
   "outputs": [],
   "source": [
    "tweets_denials['roberta_pred'] = le.inverse_transform(predictions)\n",
    "tweets_denials['roberta_proba'] = [max(softmax(element[0])) for element in raw_outputs]"
   ]
  },
  {
   "cell_type": "code",
   "execution_count": null,
   "id": "dee506ba",
   "metadata": {
    "ExecuteTime": {
     "start_time": "2023-03-07T03:46:48.218Z"
    }
   },
   "outputs": [],
   "source": [
    "# tweets_denials = pd.read_csv(\"@Twitter_Denials_predictions.csv\")"
   ]
  },
  {
   "cell_type": "code",
   "execution_count": null,
   "id": "d31312d8",
   "metadata": {
    "ExecuteTime": {
     "start_time": "2023-03-07T03:46:48.219Z"
    }
   },
   "outputs": [],
   "source": [
    "tweets_denials.roberta_pred.value_counts().to_frame().head()"
   ]
  },
  {
   "cell_type": "code",
   "execution_count": null,
   "id": "f44d64bf",
   "metadata": {
    "ExecuteTime": {
     "start_time": "2023-03-07T03:46:48.219Z"
    }
   },
   "outputs": [],
   "source": [
    "tweets_denials.roberta_pred.hist()"
   ]
  },
  {
   "cell_type": "code",
   "execution_count": null,
   "id": "335ec6e9",
   "metadata": {
    "ExecuteTime": {
     "start_time": "2023-03-07T03:46:48.220Z"
    }
   },
   "outputs": [],
   "source": [
    "tweets_denials[[\"text\", \"roberta_pred\", \"roberta_proba\"]].sample(5)"
   ]
  },
  {
   "cell_type": "code",
   "execution_count": null,
   "id": "376e7fc1",
   "metadata": {
    "ExecuteTime": {
     "start_time": "2023-03-07T03:46:48.221Z"
    }
   },
   "outputs": [],
   "source": [
    "tweets_denials.loc[tweets_denials.roberta_pred!=\"0_0\", [\"text\", \"roberta_pred\", \"roberta_proba\"]].sample(5)"
   ]
  },
  {
   "cell_type": "code",
   "execution_count": null,
   "id": "55037ac3",
   "metadata": {
    "ExecuteTime": {
     "start_time": "2023-03-07T03:46:48.222Z"
    }
   },
   "outputs": [],
   "source": [
    "file_denials = \"Twitter_scrapped/@Twitter_Denials_predictions_{}.csv\".format(today)\n",
    "tweets_denials.to_csv(file_denials)"
   ]
  },
  {
   "cell_type": "code",
   "execution_count": null,
   "id": "f4269e84",
   "metadata": {
    "ExecuteTime": {
     "start_time": "2023-03-07T03:46:48.223Z"
    }
   },
   "outputs": [],
   "source": [
    "samples = (\n",
    "    tweets_denials.groupby(\"roberta_pred\")\n",
    "    .sample(10, replace=True)[[\"text\", \"roberta_pred\", \"roberta_proba\"]]\n",
    "    .drop_duplicates(\"text\")\n",
    ")\n",
    "samples.to_csv(\"@Twitter_Denials_predictions_samples.csv\")"
   ]
  }
 ],
 "metadata": {
  "kernelspec": {
   "display_name": "Python 3 (ipykernel)",
   "language": "python",
   "name": "python3"
  },
  "language_info": {
   "codemirror_mode": {
    "name": "ipython",
    "version": 3
   },
   "file_extension": ".py",
   "mimetype": "text/x-python",
   "name": "python",
   "nbconvert_exporter": "python",
   "pygments_lexer": "ipython3",
   "version": "3.8.13"
  },
  "toc": {
   "base_numbering": 1,
   "nav_menu": {},
   "number_sections": true,
   "sideBar": true,
   "skip_h1_title": false,
   "title_cell": "Table of Contents",
   "title_sidebar": "Contents",
   "toc_cell": false,
   "toc_position": {
    "height": "calc(100% - 180px)",
    "left": "10px",
    "top": "150px",
    "width": "169px"
   },
   "toc_section_display": true,
   "toc_window_display": true
  }
 },
 "nbformat": 4,
 "nbformat_minor": 5
}
