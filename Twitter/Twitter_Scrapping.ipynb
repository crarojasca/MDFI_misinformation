{
 "cells": [
  {
   "cell_type": "code",
   "execution_count": 1,
   "id": "14c897c8",
   "metadata": {
    "ExecuteTime": {
     "end_time": "2023-05-08T02:49:01.989159Z",
     "start_time": "2023-05-08T02:49:00.710864Z"
    }
   },
   "outputs": [
    {
     "name": "stderr",
     "output_type": "stream",
     "text": [
      "[nltk_data] Downloading package stopwords to\n",
      "[nltk_data]     /home/crarojasca/nltk_data...\n",
      "[nltk_data]   Package stopwords is already up-to-date!\n"
     ]
    }
   ],
   "source": [
    "import os\n",
    "import re\n",
    "import json\n",
    "import math\n",
    "import time\n",
    "import demoji\n",
    "import curlify\n",
    "import requests\n",
    "import pandas as pd\n",
    "\n",
    "import pickle\n",
    "from scipy.special import softmax\n",
    "\n",
    "import nltk\n",
    "from nltk.corpus import stopwords\n",
    "nltk.download('stopwords')\n",
    "\n",
    "from tqdm.notebook import tqdm\n",
    "\n",
    "all_stopwords = stopwords.words('english')\n",
    "pd.set_option('display.max_colwidth', None)\n",
    "\n",
    "bearer_token = \"AAAAAAAAAAAAAAAAAAAAADSXjAEAAAAAQ32sCpTWcilVX%2BQj0BjOArOSYCE%3DUax6ZCizLRwwQcWQirExGQEDEB903dxBZKM4LAuGTMTvMa4jVP\"\n",
    "\n",
    "from datetime import date\n",
    "\n",
    "today = date.today()"
   ]
  },
  {
   "cell_type": "code",
   "execution_count": 2,
   "id": "d3b87777",
   "metadata": {
    "ExecuteTime": {
     "end_time": "2023-05-08T02:49:01.992598Z",
     "start_time": "2023-05-08T02:49:01.990560Z"
    }
   },
   "outputs": [],
   "source": [
    "SCRAP_CTTS = True\n",
    "SCRAP_DENIALS = True"
   ]
  },
  {
   "cell_type": "markdown",
   "id": "b47abf26",
   "metadata": {},
   "source": [
    "## Functions"
   ]
  },
  {
   "cell_type": "code",
   "execution_count": 3,
   "id": "5ac1a3c7",
   "metadata": {
    "ExecuteTime": {
     "end_time": "2023-05-08T02:49:02.065142Z",
     "start_time": "2023-05-08T02:49:01.993827Z"
    }
   },
   "outputs": [],
   "source": [
    "s = requests.Session()\n",
    "def getTweets(query, max_results=None, next_token=None):\n",
    "    # Twitter Endpoint\n",
    "    url = \"https://api.twitter.com/2/tweets/search/recent\"\n",
    "    \n",
    "    # Auth Bearer no research access or premium for the moment\n",
    "    headers = {\n",
    "        \"Authorization\": \"Bearer {}\".format(bearer_token)\n",
    "    }\n",
    "    \n",
    "    # Query parameters\n",
    "    params = {\n",
    "        'query': query,\n",
    "    #     'start_time': start_date,\n",
    "    #     'end_time': end_date,\n",
    "        'expansions': 'author_id,in_reply_to_user_id,geo.place_id',\n",
    "        'tweet.fields': 'id,text,author_id,in_reply_to_user_id,geo,conversation_id,created_at,lang,public_metrics,referenced_tweets,reply_settings,source',\n",
    "        'user.fields': 'id,name,username,created_at,description,public_metrics,verified',\n",
    "        'place.fields': 'full_name,id,country,country_code,geo,name,place_type',\n",
    "        'next_token': {}\n",
    "    }\n",
    "    if max_results: params['max_results'] = max_results\n",
    "    if next_token: params['next_token'] = next_token\n",
    "\n",
    "    try:\n",
    "        time.sleep(6)\n",
    "        req = requests.Request(\n",
    "            \"GET\",\n",
    "            url,\n",
    "            params=params,\n",
    "            headers=headers\n",
    "        ).prepare()\n",
    "\n",
    "        response = s.send(req)\n",
    "        results = json.loads(response.text)\n",
    "        return results\n",
    "    except:\n",
    "        print(json.loads(response.text))\n",
    "\n",
    "def getUser(username):\n",
    "    # User Endpoint \n",
    "    url = \"https://api.twitter.com/2/users/by/username/\" + username\n",
    "    # Auth Bearer no research access or premium for the moment\n",
    "    headers = {\n",
    "        \"Authorization\": \"Bearer {}\".format(bearer_token)\n",
    "    }\n",
    "\n",
    "    params = {\n",
    "        'tweet.fields': 'id,text,author_id,in_reply_to_user_id,geo,conversation_id,created_at,lang,public_metrics,referenced_tweets,reply_settings,source',\n",
    "        'user.fields': 'id,name,username,created_at,description,public_metrics,verified',\n",
    "        'next_token': {}\n",
    "    }\n",
    "    \n",
    "    time.sleep(1)\n",
    "    try:\n",
    "        req = requests.Request(\n",
    "            \"GET\",\n",
    "            url,\n",
    "            params=params,\n",
    "            headers=headers\n",
    "        ).prepare()\n",
    "\n",
    "        response = s.send(req)\n",
    "        results = json.loads(response.text)[\"data\"]\n",
    "\n",
    "        return json.loads(response.text)[\"data\"]\n",
    "    except:\n",
    "        print(json.loads(response.text)[\"errors\"][0][\"detail\"])\n",
    "\n",
    "\n",
    "def count_tweets(query):\n",
    "    # User Endpoint \n",
    "    url = \"https://api.twitter.com/2/tweets/counts/recent\"\n",
    "    # Auth Bearer no research access or premium for the moment\n",
    "    headers = {\n",
    "        \"Authorization\": \"Bearer {}\".format(bearer_token)\n",
    "    }\n",
    "\n",
    "    params = {\n",
    "        \"query\": query,\n",
    "        \"granularity\": \"day\"\n",
    "    }\n",
    "\n",
    "    time.sleep(1)\n",
    "    req = requests.Request(\n",
    "        \"GET\",\n",
    "        url,\n",
    "        params=params,\n",
    "        headers=headers\n",
    "    ).prepare()\n",
    "\n",
    "    response = s.send(req)\n",
    "    results = json.loads(response.text)\n",
    "    return results[\"meta\"][\"total_tweet_count\"]\n",
    "    \n",
    "    \n",
    "def extract_data(query, max_result=100):\n",
    "    data = pd.DataFrame()\n",
    "\n",
    "    # Scrap all the data up to the last page\n",
    "    next_token = None\n",
    "\n",
    "    n_tweets = count_tweets(query)\n",
    "    if n_tweets==0:\n",
    "        return data\n",
    "    \n",
    "    #\n",
    "    pbar = tqdm(total=math.ceil(n_tweets/max_result))\n",
    "    while True:\n",
    "        pbar.update(1)\n",
    "        try:\n",
    "            results = getTweets(query=query, max_results=max_result, next_token=next_token)\n",
    "            data = pd.concat([data, pd.DataFrame(results[\"data\"])], ignore_index=True)\n",
    "            if not \"next_token\" in results[\"meta\"]:\n",
    "                break\n",
    "            next_token = results[\"meta\"][\"next_token\"] \n",
    "        except:\n",
    "            print(results)\n",
    "            break\n",
    "    pbar.close()\n",
    "    \n",
    "    # Reordering de columns\n",
    "    columns = list(data.columns)\n",
    "    columns.remove(\"text\")\n",
    "    columns.remove(\"public_metrics\")\n",
    "    data = data[[\"text\", \"public_metrics\"] + columns]\n",
    "    return data\n",
    "\n",
    "def preprocess_text(text):\n",
    "    # Lower\n",
    "    preprocessed_text = text.lower()\n",
    "    # Remove Handle\n",
    "    preprocessed_text = re.sub(\"@\\w+\", \"\", preprocessed_text)\n",
    "    # Remove Hashtag\n",
    "    preprocessed_text = re.sub(\"#\\w+\", \"\", preprocessed_text)\n",
    "    # Remove Links\n",
    "    preprocessed_text = re.sub(r'http[s]?:\\S+', '', preprocessed_text, flags=re.MULTILINE)\n",
    "    # Remove emotes \n",
    "    preprocessed_text = demoji.replace(preprocessed_text, \"\")\n",
    "    # Remove new line\n",
    "    preprocessed_text = re.sub(\"\\\\n\", \"\", preprocessed_text)\n",
    "    # Remove extra spaces \n",
    "    preprocessed_text = preprocessed_text.strip()\n",
    "    \n",
    "    return preprocessed_text\n",
    "\n",
    "def get_data(query):\n",
    "    results = extract_data(query)\n",
    "    results[\"preprocessed_text\"] = results[\"text\"].apply(preprocess_text)\n",
    "    results = results.sort_values(by=\"created_at\", ascending=False)\n",
    "    results = results.drop_duplicates(subset=['text'], keep='last')\n",
    "    results = results[(results.preprocessed_text!=\"\")].copy(deep=True)\n",
    "    return results"
   ]
  },
  {
   "cell_type": "markdown",
   "id": "ef419342",
   "metadata": {},
   "source": [
    "## ClimateScam\n",
    "### Original Page"
   ]
  },
  {
   "cell_type": "code",
   "execution_count": 4,
   "id": "ce7f904b",
   "metadata": {
    "ExecuteTime": {
     "end_time": "2023-05-08T02:49:09.897295Z",
     "start_time": "2023-05-08T02:49:02.067178Z"
    },
    "scrolled": true
   },
   "outputs": [
    {
     "data": {
      "application/vnd.jupyter.widget-view+json": {
       "model_id": "0c92a941cc12463cb7699973caffdad1",
       "version_major": 2,
       "version_minor": 0
      },
      "text/plain": [
       "  0%|          | 0/1 [00:00<?, ?it/s]"
      ]
     },
     "metadata": {},
     "output_type": "display_data"
    },
    {
     "name": "stdout",
     "output_type": "stream",
     "text": [
      "(7, 12)\n"
     ]
    },
    {
     "data": {
      "text/html": [
       "<div>\n",
       "<style scoped>\n",
       "    .dataframe tbody tr th:only-of-type {\n",
       "        vertical-align: middle;\n",
       "    }\n",
       "\n",
       "    .dataframe tbody tr th {\n",
       "        vertical-align: top;\n",
       "    }\n",
       "\n",
       "    .dataframe thead th {\n",
       "        text-align: right;\n",
       "    }\n",
       "</style>\n",
       "<table border=\"1\" class=\"dataframe\">\n",
       "  <thead>\n",
       "    <tr style=\"text-align: right;\">\n",
       "      <th></th>\n",
       "      <th>preprocessed_text</th>\n",
       "      <th>text</th>\n",
       "      <th>public_metrics</th>\n",
       "    </tr>\n",
       "  </thead>\n",
       "  <tbody>\n",
       "    <tr>\n",
       "      <th>0</th>\n",
       "      <td>greenies believe crisis sells. per npr: \"climate change is making aircraft turbulence worse.\" no real world turbulence data demonstrating a problem in a warming world was included. the usual \"climate model studies\" for 60 years into the future were referenced. send $</td>\n",
       "      <td>Greenies believe crisis sells. Per NPR: \"climate change is making aircraft turbulence worse.\" No real world turbulence data demonstrating a problem in a warming world was included. The usual \"climate model studies\" for 60 years into the future were referenced. Send $ #climatescam</td>\n",
       "      <td>{'retweet_count': 9, 'reply_count': 4, 'like_count': 24, 'quote_count': 1, 'impression_count': 944}</td>\n",
       "    </tr>\n",
       "    <tr>\n",
       "      <th>1</th>\n",
       "      <td>mitsubishi &amp;amp; south pole, both \"carbon credit sellers\", announced one of the largest carbon removal “advanced purchases” to date. promises to remove climate pollution from the atmosphere are everywhere, but where does the $ go? net zero =  accounting schemes. you pay!</td>\n",
       "      <td>Mitsubishi &amp;amp; South Pole, both \"carbon credit sellers\", announced one of the largest carbon removal “advanced purchases” to date. Promises to remove climate pollution from the atmosphere are everywhere, but where does the $ go? Net Zero =  accounting schemes. You pay! #climatescam</td>\n",
       "      <td>{'retweet_count': 6, 'reply_count': 3, 'like_count': 19, 'quote_count': 0, 'impression_count': 899}</td>\n",
       "    </tr>\n",
       "    <tr>\n",
       "      <th>2</th>\n",
       "      <td>we are blocked as well. truth be told he's in our book, our historical narrative, he's quoted many times and he's been wrong over and over and over. all from his own predictions.</td>\n",
       "      <td>@TonyClimate @MichaelEMann We are blocked as well. Truth be told he's in our book, our historical narrative, he's quoted many times and he's been wrong over and over and over. All from his own predictions. #ClimateScam https://t.co/1ngS6rn5jj</td>\n",
       "      <td>{'retweet_count': 2, 'reply_count': 1, 'like_count': 9, 'quote_count': 0, 'impression_count': 286}</td>\n",
       "    </tr>\n",
       "    <tr>\n",
       "      <th>3</th>\n",
       "      <td>the u.s. nat gas pipeline network is vulnerable to electric outages. greenies pressured texas to require electric compressors (not gas powered) on natural gas pipelines. the industry got into big problems when the 2021 freeze collapsed the grid. just say no, people!</td>\n",
       "      <td>The U.S. nat gas pipeline network is vulnerable to electric outages. Greenies pressured Texas to require electric compressors (not gas powered) on natural gas pipelines. The industry got into big problems when the 2021 freeze collapsed the grid. Just say no, people! #climatescam</td>\n",
       "      <td>{'retweet_count': 4, 'reply_count': 1, 'like_count': 17, 'quote_count': 0, 'impression_count': 736}</td>\n",
       "    </tr>\n",
       "    <tr>\n",
       "      <th>4</th>\n",
       "      <td>ca has been irresponsible not adding reservoirs &amp;amp; capacity.   no new reservoirs came online during the past 40 years, as population doubled. more reservoirs would hold more water for slow release &amp;amp; make huge  resources available. but they're working on reparations?</td>\n",
       "      <td>CA has been irresponsible not adding reservoirs &amp;amp; capacity.   No new reservoirs came online during the past 40 years, as population doubled. More reservoirs would hold more water for slow release &amp;amp; make huge  resources available. But they're working on reparations?  #climatescam</td>\n",
       "      <td>{'retweet_count': 11, 'reply_count': 3, 'like_count': 31, 'quote_count': 3, 'impression_count': 1065}</td>\n",
       "    </tr>\n",
       "    <tr>\n",
       "      <th>5</th>\n",
       "      <td>more re: whales: research environmental impact statements (eias) have buried in 1000's of pages noaa's acknowledgment of the deadly threat of offshore wind development to marine mammals. it's in documents that are subject to judicial review. so why lie? follow the $.</td>\n",
       "      <td>More re: Whales: Research Environmental Impact Statements (EIAs) have buried in 1000's of pages NOAA's acknowledgment of the deadly threat of offshore wind development to marine mammals. It's in documents that are subject to judicial review. So why lie? Follow the $. #climatscam</td>\n",
       "      <td>{'retweet_count': 17, 'reply_count': 2, 'like_count': 30, 'quote_count': 1, 'impression_count': 1299}</td>\n",
       "    </tr>\n",
       "    <tr>\n",
       "      <th>6</th>\n",
       "      <td>the natural resources council once went to scotus to stop the navy’s seismic testing. now dead whales &amp;amp; dolphins wash up on nj &amp;amp; ny beaches (9 whales since december). biden wants wind &amp;amp; solar at any cost; noaa &amp;amp; greenpeace say whale deaths = right-wing lies. sad.</td>\n",
       "      <td>The Natural Resources Council once went to SCOTUS to stop the Navy’s seismic testing. Now dead whales &amp;amp; dolphins wash up on NJ &amp;amp; NY beaches (9 whales since December). Biden wants wind &amp;amp; solar at any cost; NOAA &amp;amp; Greenpeace say whale deaths = right-wing lies. Sad. #climatescam</td>\n",
       "      <td>{'retweet_count': 9, 'reply_count': 0, 'like_count': 16, 'quote_count': 1, 'impression_count': 904}</td>\n",
       "    </tr>\n",
       "  </tbody>\n",
       "</table>\n",
       "</div>"
      ],
      "text/plain": [
       "                                                                                                                                                                                                                                                                         preprocessed_text  \\\n",
       "0              greenies believe crisis sells. per npr: \"climate change is making aircraft turbulence worse.\" no real world turbulence data demonstrating a problem in a warming world was included. the usual \"climate model studies\" for 60 years into the future were referenced. send $   \n",
       "1          mitsubishi &amp; south pole, both \"carbon credit sellers\", announced one of the largest carbon removal “advanced purchases” to date. promises to remove climate pollution from the atmosphere are everywhere, but where does the $ go? net zero =  accounting schemes. you pay!   \n",
       "2                                                                                                       we are blocked as well. truth be told he's in our book, our historical narrative, he's quoted many times and he's been wrong over and over and over. all from his own predictions.   \n",
       "3               the u.s. nat gas pipeline network is vulnerable to electric outages. greenies pressured texas to require electric compressors (not gas powered) on natural gas pipelines. the industry got into big problems when the 2021 freeze collapsed the grid. just say no, people!   \n",
       "4        ca has been irresponsible not adding reservoirs &amp; capacity.   no new reservoirs came online during the past 40 years, as population doubled. more reservoirs would hold more water for slow release &amp; make huge  resources available. but they're working on reparations?   \n",
       "5              more re: whales: research environmental impact statements (eias) have buried in 1000's of pages noaa's acknowledgment of the deadly threat of offshore wind development to marine mammals. it's in documents that are subject to judicial review. so why lie? follow the $.   \n",
       "6  the natural resources council once went to scotus to stop the navy’s seismic testing. now dead whales &amp; dolphins wash up on nj &amp; ny beaches (9 whales since december). biden wants wind &amp; solar at any cost; noaa &amp; greenpeace say whale deaths = right-wing lies. sad.   \n",
       "\n",
       "                                                                                                                                                                                                                                                                                                   text  \\\n",
       "0              Greenies believe crisis sells. Per NPR: \"climate change is making aircraft turbulence worse.\" No real world turbulence data demonstrating a problem in a warming world was included. The usual \"climate model studies\" for 60 years into the future were referenced. Send $ #climatescam   \n",
       "1          Mitsubishi &amp; South Pole, both \"carbon credit sellers\", announced one of the largest carbon removal “advanced purchases” to date. Promises to remove climate pollution from the atmosphere are everywhere, but where does the $ go? Net Zero =  accounting schemes. You pay! #climatescam   \n",
       "2                                                    @TonyClimate @MichaelEMann We are blocked as well. Truth be told he's in our book, our historical narrative, he's quoted many times and he's been wrong over and over and over. All from his own predictions. #ClimateScam https://t.co/1ngS6rn5jj   \n",
       "3               The U.S. nat gas pipeline network is vulnerable to electric outages. Greenies pressured Texas to require electric compressors (not gas powered) on natural gas pipelines. The industry got into big problems when the 2021 freeze collapsed the grid. Just say no, people! #climatescam   \n",
       "4       CA has been irresponsible not adding reservoirs &amp; capacity.   No new reservoirs came online during the past 40 years, as population doubled. More reservoirs would hold more water for slow release &amp; make huge  resources available. But they're working on reparations?  #climatescam   \n",
       "5               More re: Whales: Research Environmental Impact Statements (EIAs) have buried in 1000's of pages NOAA's acknowledgment of the deadly threat of offshore wind development to marine mammals. It's in documents that are subject to judicial review. So why lie? Follow the $. #climatscam   \n",
       "6  The Natural Resources Council once went to SCOTUS to stop the Navy’s seismic testing. Now dead whales &amp; dolphins wash up on NJ &amp; NY beaches (9 whales since December). Biden wants wind &amp; solar at any cost; NOAA &amp; Greenpeace say whale deaths = right-wing lies. Sad. #climatescam   \n",
       "\n",
       "                                                                                          public_metrics  \n",
       "0    {'retweet_count': 9, 'reply_count': 4, 'like_count': 24, 'quote_count': 1, 'impression_count': 944}  \n",
       "1    {'retweet_count': 6, 'reply_count': 3, 'like_count': 19, 'quote_count': 0, 'impression_count': 899}  \n",
       "2     {'retweet_count': 2, 'reply_count': 1, 'like_count': 9, 'quote_count': 0, 'impression_count': 286}  \n",
       "3    {'retweet_count': 4, 'reply_count': 1, 'like_count': 17, 'quote_count': 0, 'impression_count': 736}  \n",
       "4  {'retweet_count': 11, 'reply_count': 3, 'like_count': 31, 'quote_count': 3, 'impression_count': 1065}  \n",
       "5  {'retweet_count': 17, 'reply_count': 2, 'like_count': 30, 'quote_count': 1, 'impression_count': 1299}  \n",
       "6    {'retweet_count': 9, 'reply_count': 0, 'like_count': 16, 'quote_count': 1, 'impression_count': 904}  "
      ]
     },
     "execution_count": 4,
     "metadata": {},
     "output_type": "execute_result"
    }
   ],
   "source": [
    "results = get_data(\"from:ClimateScam\")\n",
    "print(results.shape)\n",
    "results[[\"preprocessed_text\", \"text\", \"public_metrics\"]]"
   ]
  },
  {
   "cell_type": "markdown",
   "id": "528e3880",
   "metadata": {},
   "source": [
    "### Complete lines"
   ]
  },
  {
   "cell_type": "code",
   "execution_count": 5,
   "id": "4f710fe2",
   "metadata": {
    "ExecuteTime": {
     "end_time": "2023-05-08T03:56:55.141842Z",
     "start_time": "2023-05-08T02:49:09.898538Z"
    },
    "scrolled": true
   },
   "outputs": [
    {
     "data": {
      "application/vnd.jupyter.widget-view+json": {
       "model_id": "f03d974399854d0ba51ca270ee70c8b8",
       "version_major": 2,
       "version_minor": 0
      },
      "text/plain": [
       "  0%|          | 0/672 [00:00<?, ?it/s]"
      ]
     },
     "metadata": {},
     "output_type": "display_data"
    },
    {
     "name": "stdout",
     "output_type": "stream",
     "text": [
      "{'title': 'Service Unavailable', 'detail': 'Service Unavailable', 'type': 'about:blank', 'status': 503}\n",
      "(13014, 14)\n"
     ]
    },
    {
     "data": {
      "text/html": [
       "<div>\n",
       "<style scoped>\n",
       "    .dataframe tbody tr th:only-of-type {\n",
       "        vertical-align: middle;\n",
       "    }\n",
       "\n",
       "    .dataframe tbody tr th {\n",
       "        vertical-align: top;\n",
       "    }\n",
       "\n",
       "    .dataframe thead th {\n",
       "        text-align: right;\n",
       "    }\n",
       "</style>\n",
       "<table border=\"1\" class=\"dataframe\">\n",
       "  <thead>\n",
       "    <tr style=\"text-align: right;\">\n",
       "      <th></th>\n",
       "      <th>preprocessed_text</th>\n",
       "      <th>text</th>\n",
       "      <th>public_metrics</th>\n",
       "    </tr>\n",
       "  </thead>\n",
       "  <tbody>\n",
       "    <tr>\n",
       "      <th>0</th>\n",
       "      <td>rt :   is finished due to selling false stories about    and the people ha…</td>\n",
       "      <td>RT @Realist333333: @businessposthq @RTE is finished due to selling false stories about #covid #killervaccine #ClimateScam and the people ha…</td>\n",
       "      <td>{'retweet_count': 1, 'reply_count': 0, 'like_count': 0, 'quote_count': 0, 'impression_count': 0}</td>\n",
       "    </tr>\n",
       "    <tr>\n",
       "      <th>1</th>\n",
       "      <td>is finished due to selling false stories about    and the people have had enough, they all want out before the real truth comes out and the likes of  and  will be charged with be part of</td>\n",
       "      <td>@businessposthq @RTE is finished due to selling false stories about #covid #killervaccine #ClimateScam and the people have had enough, they all want out before the real truth comes out and the likes of #Bowers and #GeorgeLee will be charged with be part of #CrimesAgainsHumanity</td>\n",
       "      <td>{'retweet_count': 1, 'reply_count': 0, 'like_count': 0, 'quote_count': 0, 'impression_count': 1}</td>\n",
       "    </tr>\n",
       "    <tr>\n",
       "      <th>3</th>\n",
       "      <td>rt :  a single graph defeats these   's-minions ...</td>\n",
       "      <td>RT @ghazibousselmi1: @_ClimateCraze A single graph defeats these #ClimateScam #Propagandist #Globalist's-minions ...\\nhttps://t.co/IEsxjnBAmj</td>\n",
       "      <td>{'retweet_count': 1, 'reply_count': 0, 'like_count': 0, 'quote_count': 0, 'impression_count': 0}</td>\n",
       "    </tr>\n",
       "    <tr>\n",
       "      <th>6</th>\n",
       "      <td>rt : come on people. if you don't believe in geoengineered 'michael mann' made climate change you need a lobotomy.  …</td>\n",
       "      <td>RT @Koiler: Come on people. If you don't believe in Geoengineered 'Michael Mann' Made Climate Change you need a lobotomy. #ClimateScam #Geo…</td>\n",
       "      <td>{'retweet_count': 1, 'reply_count': 0, 'like_count': 0, 'quote_count': 0, 'impression_count': 0}</td>\n",
       "    </tr>\n",
       "    <tr>\n",
       "      <th>8</th>\n",
       "      <td>come on people. if you don't believe in geoengineered 'michael mann' made climate change you need a lobotomy.</td>\n",
       "      <td>Come on people. If you don't believe in Geoengineered 'Michael Mann' Made Climate Change you need a lobotomy. #ClimateScam #GeoEngineering https://t.co/mOek5xG7OW</td>\n",
       "      <td>{'retweet_count': 1, 'reply_count': 0, 'like_count': 0, 'quote_count': 0, 'impression_count': 5}</td>\n",
       "    </tr>\n",
       "  </tbody>\n",
       "</table>\n",
       "</div>"
      ],
      "text/plain": [
       "                                                                                                                                                                            preprocessed_text  \\\n",
       "0                                                                                                                 rt :   is finished due to selling false stories about    and the people ha…   \n",
       "1  is finished due to selling false stories about    and the people have had enough, they all want out before the real truth comes out and the likes of  and  will be charged with be part of   \n",
       "3                                                                                                                                         rt :  a single graph defeats these   's-minions ...   \n",
       "6                                                                       rt : come on people. if you don't believe in geoengineered 'michael mann' made climate change you need a lobotomy.  …   \n",
       "8                                                                               come on people. if you don't believe in geoengineered 'michael mann' made climate change you need a lobotomy.   \n",
       "\n",
       "                                                                                                                                                                                                                                                                                     text  \\\n",
       "0                                                                                                                                            RT @Realist333333: @businessposthq @RTE is finished due to selling false stories about #covid #killervaccine #ClimateScam and the people ha…   \n",
       "1  @businessposthq @RTE is finished due to selling false stories about #covid #killervaccine #ClimateScam and the people have had enough, they all want out before the real truth comes out and the likes of #Bowers and #GeorgeLee will be charged with be part of #CrimesAgainsHumanity   \n",
       "3                                                                                                                                           RT @ghazibousselmi1: @_ClimateCraze A single graph defeats these #ClimateScam #Propagandist #Globalist's-minions ...\\nhttps://t.co/IEsxjnBAmj   \n",
       "6                                                                                                                                            RT @Koiler: Come on people. If you don't believe in Geoengineered 'Michael Mann' Made Climate Change you need a lobotomy. #ClimateScam #Geo…   \n",
       "8                                                                                                                      Come on people. If you don't believe in Geoengineered 'Michael Mann' Made Climate Change you need a lobotomy. #ClimateScam #GeoEngineering https://t.co/mOek5xG7OW   \n",
       "\n",
       "                                                                                     public_metrics  \n",
       "0  {'retweet_count': 1, 'reply_count': 0, 'like_count': 0, 'quote_count': 0, 'impression_count': 0}  \n",
       "1  {'retweet_count': 1, 'reply_count': 0, 'like_count': 0, 'quote_count': 0, 'impression_count': 1}  \n",
       "3  {'retweet_count': 1, 'reply_count': 0, 'like_count': 0, 'quote_count': 0, 'impression_count': 0}  \n",
       "6  {'retweet_count': 1, 'reply_count': 0, 'like_count': 0, 'quote_count': 0, 'impression_count': 0}  \n",
       "8  {'retweet_count': 1, 'reply_count': 0, 'like_count': 0, 'quote_count': 0, 'impression_count': 5}  "
      ]
     },
     "execution_count": 5,
     "metadata": {},
     "output_type": "execute_result"
    }
   ],
   "source": [
    "climate_scam_handle = get_data(\"@ClimateScam OR #ClimateScam OR from:ClimateScam -is:retweet\")\n",
    "print(climate_scam_handle.shape)\n",
    "climate_scam_handle[[\"preprocessed_text\", \"text\", \"public_metrics\"]].head()"
   ]
  },
  {
   "cell_type": "code",
   "execution_count": 6,
   "id": "8cd43de2",
   "metadata": {
    "ExecuteTime": {
     "end_time": "2023-05-08T04:08:17.077125Z",
     "start_time": "2023-05-08T03:56:55.143200Z"
    },
    "scrolled": true
   },
   "outputs": [
    {
     "data": {
      "application/vnd.jupyter.widget-view+json": {
       "model_id": "221031b51c0c4d94b3330a58c359c305",
       "version_major": 2,
       "version_minor": 0
      },
      "text/plain": [
       "  0%|          | 0/97 [00:00<?, ?it/s]"
      ]
     },
     "metadata": {},
     "output_type": "display_data"
    },
    {
     "name": "stdout",
     "output_type": "stream",
     "text": [
      "(7479, 13)\n"
     ]
    }
   ],
   "source": [
    "climate_scam_hashtag = get_data(\"#ClimateScam -is:retweet\")\n",
    "print(climate_scam_hashtag.shape)"
   ]
  },
  {
   "cell_type": "code",
   "execution_count": 7,
   "id": "745e7529",
   "metadata": {
    "ExecuteTime": {
     "end_time": "2023-05-08T04:08:17.086115Z",
     "start_time": "2023-05-08T04:08:17.078382Z"
    }
   },
   "outputs": [
    {
     "data": {
      "text/html": [
       "<div>\n",
       "<style scoped>\n",
       "    .dataframe tbody tr th:only-of-type {\n",
       "        vertical-align: middle;\n",
       "    }\n",
       "\n",
       "    .dataframe tbody tr th {\n",
       "        vertical-align: top;\n",
       "    }\n",
       "\n",
       "    .dataframe thead th {\n",
       "        text-align: right;\n",
       "    }\n",
       "</style>\n",
       "<table border=\"1\" class=\"dataframe\">\n",
       "  <thead>\n",
       "    <tr style=\"text-align: right;\">\n",
       "      <th></th>\n",
       "      <th>preprocessed_text</th>\n",
       "      <th>text</th>\n",
       "      <th>public_metrics</th>\n",
       "    </tr>\n",
       "  </thead>\n",
       "  <tbody>\n",
       "    <tr>\n",
       "      <th>3157</th>\n",
       "      <td>depopulation agenda since 1970's</td>\n",
       "      <td>@AndersonAfDMdEP @jimmieakesson @sdriks #ClimateScam depopulation agenda since 1970's\\n#ReclaimSovereignty #AbolishWEF #AbolishTheEU \\nhttps://t.co/2yPGIj16sf</td>\n",
       "      <td>{'retweet_count': 0, 'reply_count': 0, 'like_count': 0, 'quote_count': 0, 'impression_count': 4}</td>\n",
       "    </tr>\n",
       "    <tr>\n",
       "      <th>5163</th>\n",
       "      <td>wiener neustadt, heute morgen: blauer himmel? wird nicht bleiben. (austria, this morning: blue sky? not for long.) /</td>\n",
       "      <td>Wiener Neustadt, heute Morgen: blauer Himmel? Wird nicht bleiben. (Austria, this morning: blue sky? Not for long.) / #chemtrail #chemtrails #geoengineering #ClimateScam #wienerneustadt #oesterreich #austria @Chemtrail101 https://t.co/NfmDBuQTNo</td>\n",
       "      <td>{'retweet_count': 1, 'reply_count': 1, 'like_count': 3, 'quote_count': 0, 'impression_count': 66}</td>\n",
       "    </tr>\n",
       "    <tr>\n",
       "      <th>9594</th>\n",
       "      <td>greenpeace co-founder !!!</td>\n",
       "      <td>#ClimateSCAM Greenpeace Co-Founder !!! https://t.co/zdJermFWcO</td>\n",
       "      <td>{'retweet_count': 0, 'reply_count': 1, 'like_count': 1, 'quote_count': 0, 'impression_count': 51}</td>\n",
       "    </tr>\n",
       "    <tr>\n",
       "      <th>6841</th>\n",
       "      <td>παρακολουθούμε τι συμβαίνει κάτω από το δέρμα τους».</td>\n",
       "      <td>παρακολουθούμε τι συμβαίνει κάτω από το δέρμα τους».\\n#VaccineGenocide #DepopulationAgenda #BigPharma #HungerGames #SocialCreditSysterm #CarbonFootprint #ClimateScam #NWOAgenda2030 #GreatReset #WEFpuppets #WHO #KlausSchwab #BillGatesBioTerrorist #tedros</td>\n",
       "      <td>{'retweet_count': 0, 'reply_count': 0, 'like_count': 1, 'quote_count': 0, 'impression_count': 42}</td>\n",
       "    </tr>\n",
       "    <tr>\n",
       "      <th>6966</th>\n",
       "      <td>that \" picture is  misinformation.  they did not predict global warming, because it started warming 300 years earlier --  at the end of the little ice age deep freeze.</td>\n",
       "      <td>That \"https://t.co/jCkPhdaU2D\" picture is #ClimateScam misinformation.  They did NOT predict global warming, because it started warming 300 years earlier --  at the end of the Little Ice Age deep freeze. https://t.co/6qSozeeRyg</td>\n",
       "      <td>{'retweet_count': 19, 'reply_count': 6, 'like_count': 58, 'quote_count': 0, 'impression_count': 1063}</td>\n",
       "    </tr>\n",
       "  </tbody>\n",
       "</table>\n",
       "</div>"
      ],
      "text/plain": [
       "                                                                                                                                                            preprocessed_text  \\\n",
       "3157                                                                                                                                         depopulation agenda since 1970's   \n",
       "5163                                                     wiener neustadt, heute morgen: blauer himmel? wird nicht bleiben. (austria, this morning: blue sky? not for long.) /   \n",
       "9594                                                                                                                                                greenpeace co-founder !!!   \n",
       "6841                                                                                                                     παρακολουθούμε τι συμβαίνει κάτω από το δέρμα τους».   \n",
       "6966  that \" picture is  misinformation.  they did not predict global warming, because it started warming 300 years earlier --  at the end of the little ice age deep freeze.   \n",
       "\n",
       "                                                                                                                                                                                                                                                               text  \\\n",
       "3157                                                                                                 @AndersonAfDMdEP @jimmieakesson @sdriks #ClimateScam depopulation agenda since 1970's\\n#ReclaimSovereignty #AbolishWEF #AbolishTheEU \\nhttps://t.co/2yPGIj16sf   \n",
       "5163           Wiener Neustadt, heute Morgen: blauer Himmel? Wird nicht bleiben. (Austria, this morning: blue sky? Not for long.) / #chemtrail #chemtrails #geoengineering #ClimateScam #wienerneustadt #oesterreich #austria @Chemtrail101 https://t.co/NfmDBuQTNo   \n",
       "9594                                                                                                                                                                                                 #ClimateSCAM Greenpeace Co-Founder !!! https://t.co/zdJermFWcO   \n",
       "6841  παρακολουθούμε τι συμβαίνει κάτω από το δέρμα τους».\\n#VaccineGenocide #DepopulationAgenda #BigPharma #HungerGames #SocialCreditSysterm #CarbonFootprint #ClimateScam #NWOAgenda2030 #GreatReset #WEFpuppets #WHO #KlausSchwab #BillGatesBioTerrorist #tedros   \n",
       "6966                            That \"https://t.co/jCkPhdaU2D\" picture is #ClimateScam misinformation.  They did NOT predict global warming, because it started warming 300 years earlier --  at the end of the Little Ice Age deep freeze. https://t.co/6qSozeeRyg   \n",
       "\n",
       "                                                                                             public_metrics  \n",
       "3157       {'retweet_count': 0, 'reply_count': 0, 'like_count': 0, 'quote_count': 0, 'impression_count': 4}  \n",
       "5163      {'retweet_count': 1, 'reply_count': 1, 'like_count': 3, 'quote_count': 0, 'impression_count': 66}  \n",
       "9594      {'retweet_count': 0, 'reply_count': 1, 'like_count': 1, 'quote_count': 0, 'impression_count': 51}  \n",
       "6841      {'retweet_count': 0, 'reply_count': 0, 'like_count': 1, 'quote_count': 0, 'impression_count': 42}  \n",
       "6966  {'retweet_count': 19, 'reply_count': 6, 'like_count': 58, 'quote_count': 0, 'impression_count': 1063}  "
      ]
     },
     "execution_count": 7,
     "metadata": {},
     "output_type": "execute_result"
    }
   ],
   "source": [
    "climate_scam_hashtag[[\"preprocessed_text\", \"text\", \"public_metrics\"]].sample(5)"
   ]
  },
  {
   "cell_type": "code",
   "execution_count": 8,
   "id": "a531658e",
   "metadata": {
    "ExecuteTime": {
     "end_time": "2023-05-08T04:08:17.223892Z",
     "start_time": "2023-05-08T04:08:17.087472Z"
    }
   },
   "outputs": [
    {
     "data": {
      "text/html": [
       "<div>\n",
       "<style scoped>\n",
       "    .dataframe tbody tr th:only-of-type {\n",
       "        vertical-align: middle;\n",
       "    }\n",
       "\n",
       "    .dataframe tbody tr th {\n",
       "        vertical-align: top;\n",
       "    }\n",
       "\n",
       "    .dataframe thead th {\n",
       "        text-align: right;\n",
       "    }\n",
       "</style>\n",
       "<table border=\"1\" class=\"dataframe\">\n",
       "  <thead>\n",
       "    <tr style=\"text-align: right;\">\n",
       "      <th></th>\n",
       "      <th>Word</th>\n",
       "      <th>Frequency</th>\n",
       "    </tr>\n",
       "  </thead>\n",
       "  <tbody>\n",
       "    <tr>\n",
       "      <th>1</th>\n",
       "      <td>#ClimateScam</td>\n",
       "      <td>6181</td>\n",
       "    </tr>\n",
       "    <tr>\n",
       "      <th>14</th>\n",
       "      <td>climate</td>\n",
       "      <td>932</td>\n",
       "    </tr>\n",
       "    <tr>\n",
       "      <th>15</th>\n",
       "      <td>#climatescam</td>\n",
       "      <td>755</td>\n",
       "    </tr>\n",
       "    <tr>\n",
       "      <th>28</th>\n",
       "      <td>&amp;amp;</td>\n",
       "      <td>554</td>\n",
       "    </tr>\n",
       "    <tr>\n",
       "      <th>34</th>\n",
       "      <td>Climate</td>\n",
       "      <td>438</td>\n",
       "    </tr>\n",
       "    <tr>\n",
       "      <th>36</th>\n",
       "      <td>#ClimateCult</td>\n",
       "      <td>429</td>\n",
       "    </tr>\n",
       "    <tr>\n",
       "      <th>37</th>\n",
       "      <td>-</td>\n",
       "      <td>417</td>\n",
       "    </tr>\n",
       "    <tr>\n",
       "      <th>40</th>\n",
       "      <td>people</td>\n",
       "      <td>384</td>\n",
       "    </tr>\n",
       "    <tr>\n",
       "      <th>42</th>\n",
       "      <td>CO2</td>\n",
       "      <td>380</td>\n",
       "    </tr>\n",
       "    <tr>\n",
       "      <th>47</th>\n",
       "      <td>#ClimateEmergency</td>\n",
       "      <td>320</td>\n",
       "    </tr>\n",
       "    <tr>\n",
       "      <th>49</th>\n",
       "      <td>change</td>\n",
       "      <td>306</td>\n",
       "    </tr>\n",
       "    <tr>\n",
       "      <th>53</th>\n",
       "      <td>like</td>\n",
       "      <td>289</td>\n",
       "    </tr>\n",
       "    <tr>\n",
       "      <th>55</th>\n",
       "      <td>#Agenda2030</td>\n",
       "      <td>284</td>\n",
       "    </tr>\n",
       "    <tr>\n",
       "      <th>59</th>\n",
       "      <td>#WEF</td>\n",
       "      <td>269</td>\n",
       "    </tr>\n",
       "    <tr>\n",
       "      <th>65</th>\n",
       "      <td>would</td>\n",
       "      <td>245</td>\n",
       "    </tr>\n",
       "    <tr>\n",
       "      <th>66</th>\n",
       "      <td>#ClimateCrisis</td>\n",
       "      <td>243</td>\n",
       "    </tr>\n",
       "    <tr>\n",
       "      <th>67</th>\n",
       "      <td>us</td>\n",
       "      <td>240</td>\n",
       "    </tr>\n",
       "    <tr>\n",
       "      <th>71</th>\n",
       "      <td>get</td>\n",
       "      <td>225</td>\n",
       "    </tr>\n",
       "    <tr>\n",
       "      <th>74</th>\n",
       "      <td>@JustStop_Oil</td>\n",
       "      <td>223</td>\n",
       "    </tr>\n",
       "    <tr>\n",
       "      <th>76</th>\n",
       "      <td>global</td>\n",
       "      <td>219</td>\n",
       "    </tr>\n",
       "    <tr>\n",
       "      <th>78</th>\n",
       "      <td>#GreatReset</td>\n",
       "      <td>212</td>\n",
       "    </tr>\n",
       "    <tr>\n",
       "      <th>79</th>\n",
       "      <td>know</td>\n",
       "      <td>212</td>\n",
       "    </tr>\n",
       "    <tr>\n",
       "      <th>80</th>\n",
       "      <td>one</td>\n",
       "      <td>208</td>\n",
       "    </tr>\n",
       "    <tr>\n",
       "      <th>81</th>\n",
       "      <td>years</td>\n",
       "      <td>208</td>\n",
       "    </tr>\n",
       "    <tr>\n",
       "      <th>89</th>\n",
       "      <td>want</td>\n",
       "      <td>189</td>\n",
       "    </tr>\n",
       "    <tr>\n",
       "      <th>91</th>\n",
       "      <td>world</td>\n",
       "      <td>186</td>\n",
       "    </tr>\n",
       "    <tr>\n",
       "      <th>94</th>\n",
       "      <td>#ClimateScam.</td>\n",
       "      <td>176</td>\n",
       "    </tr>\n",
       "    <tr>\n",
       "      <th>95</th>\n",
       "      <td>de</td>\n",
       "      <td>175</td>\n",
       "    </tr>\n",
       "    <tr>\n",
       "      <th>97</th>\n",
       "      <td>energy</td>\n",
       "      <td>163</td>\n",
       "    </tr>\n",
       "    <tr>\n",
       "      <th>98</th>\n",
       "      <td>money</td>\n",
       "      <td>159</td>\n",
       "    </tr>\n",
       "  </tbody>\n",
       "</table>\n",
       "</div>"
      ],
      "text/plain": [
       "                 Word  Frequency\n",
       "1        #ClimateScam       6181\n",
       "14            climate        932\n",
       "15       #climatescam        755\n",
       "28              &amp;        554\n",
       "34            Climate        438\n",
       "36       #ClimateCult        429\n",
       "37                  -        417\n",
       "40             people        384\n",
       "42                CO2        380\n",
       "47  #ClimateEmergency        320\n",
       "49             change        306\n",
       "53               like        289\n",
       "55        #Agenda2030        284\n",
       "59               #WEF        269\n",
       "65              would        245\n",
       "66     #ClimateCrisis        243\n",
       "67                 us        240\n",
       "71                get        225\n",
       "74      @JustStop_Oil        223\n",
       "76             global        219\n",
       "78        #GreatReset        212\n",
       "79               know        212\n",
       "80                one        208\n",
       "81              years        208\n",
       "89               want        189\n",
       "91              world        186\n",
       "94      #ClimateScam.        176\n",
       "95                 de        175\n",
       "97             energy        163\n",
       "98              money        159"
      ]
     },
     "execution_count": 8,
     "metadata": {},
     "output_type": "execute_result"
    }
   ],
   "source": [
    "def count_words(col):    \n",
    "    df = col.str.split(expand=True).stack().value_counts().reset_index()\n",
    "    df.columns = ['Word', 'Frequency'] \n",
    "    df = df[~df[\"Word\"].str.lower().isin(all_stopwords)]\n",
    "    return df\n",
    "\n",
    "count_words(climate_scam_hashtag.text)[:30]"
   ]
  },
  {
   "cell_type": "markdown",
   "id": "fbc9010d",
   "metadata": {},
   "source": [
    "## CTTs\n",
    "### Extracting\n",
    "#### Users"
   ]
  },
  {
   "cell_type": "code",
   "execution_count": 9,
   "id": "b12c4727",
   "metadata": {
    "ExecuteTime": {
     "end_time": "2023-05-08T04:08:17.233089Z",
     "start_time": "2023-05-08T04:08:17.224970Z"
    }
   },
   "outputs": [
    {
     "data": {
      "text/html": [
       "<div>\n",
       "<style scoped>\n",
       "    .dataframe tbody tr th:only-of-type {\n",
       "        vertical-align: middle;\n",
       "    }\n",
       "\n",
       "    .dataframe tbody tr th {\n",
       "        vertical-align: top;\n",
       "    }\n",
       "\n",
       "    .dataframe thead th {\n",
       "        text-align: right;\n",
       "    }\n",
       "</style>\n",
       "<table border=\"1\" class=\"dataframe\">\n",
       "  <thead>\n",
       "    <tr style=\"text-align: right;\">\n",
       "      <th></th>\n",
       "      <th>screen_name</th>\n",
       "      <th>Followers</th>\n",
       "      <th>Type</th>\n",
       "      <th>Name</th>\n",
       "    </tr>\n",
       "  </thead>\n",
       "  <tbody>\n",
       "    <tr>\n",
       "      <th>0</th>\n",
       "      <td>capitalresearch</td>\n",
       "      <td>5023</td>\n",
       "      <td>CTT</td>\n",
       "      <td>Capital Research Center</td>\n",
       "    </tr>\n",
       "    <tr>\n",
       "      <th>1</th>\n",
       "      <td>ceidotorg</td>\n",
       "      <td>12565</td>\n",
       "      <td>CTT</td>\n",
       "      <td>Competitive Enterprise Institute</td>\n",
       "    </tr>\n",
       "    <tr>\n",
       "      <th>2</th>\n",
       "      <td>NationalCenter</td>\n",
       "      <td>7807</td>\n",
       "      <td>CTT</td>\n",
       "      <td>National Center for Public Policy Research</td>\n",
       "    </tr>\n",
       "    <tr>\n",
       "      <th>3</th>\n",
       "      <td>ReasonFdn</td>\n",
       "      <td>7030</td>\n",
       "      <td>CTT</td>\n",
       "      <td>Reason Foundation</td>\n",
       "    </tr>\n",
       "    <tr>\n",
       "      <th>4</th>\n",
       "      <td>ACSHorg</td>\n",
       "      <td>5734</td>\n",
       "      <td>CTT</td>\n",
       "      <td>American Council on Science and Health</td>\n",
       "    </tr>\n",
       "    <tr>\n",
       "      <th>5</th>\n",
       "      <td>AEI</td>\n",
       "      <td>151109</td>\n",
       "      <td>CTT</td>\n",
       "      <td>American Enterprise Institute</td>\n",
       "    </tr>\n",
       "    <tr>\n",
       "      <th>6</th>\n",
       "      <td>CatoInstitute</td>\n",
       "      <td>362920</td>\n",
       "      <td>CTT</td>\n",
       "      <td>CATO Institute</td>\n",
       "    </tr>\n",
       "    <tr>\n",
       "      <th>7</th>\n",
       "      <td>CFACT</td>\n",
       "      <td>13985</td>\n",
       "      <td>CTT</td>\n",
       "      <td>CFACT</td>\n",
       "    </tr>\n",
       "    <tr>\n",
       "      <th>8</th>\n",
       "      <td>FoF_Liberty</td>\n",
       "      <td>236</td>\n",
       "      <td>CTT</td>\n",
       "      <td>Frontiers of Freedom</td>\n",
       "    </tr>\n",
       "    <tr>\n",
       "      <th>9</th>\n",
       "      <td>FraserInstitute</td>\n",
       "      <td>31658</td>\n",
       "      <td>CTT</td>\n",
       "      <td>Fraser Institute</td>\n",
       "    </tr>\n",
       "    <tr>\n",
       "      <th>10</th>\n",
       "      <td>FreedomWorks</td>\n",
       "      <td>270144</td>\n",
       "      <td>CTT</td>\n",
       "      <td>FreedomWorks</td>\n",
       "    </tr>\n",
       "    <tr>\n",
       "      <th>11</th>\n",
       "      <td>HeartlandInst</td>\n",
       "      <td>14831</td>\n",
       "      <td>CTT</td>\n",
       "      <td>Heartland Institute</td>\n",
       "    </tr>\n",
       "    <tr>\n",
       "      <th>12</th>\n",
       "      <td>Heritage</td>\n",
       "      <td>624504</td>\n",
       "      <td>CTT</td>\n",
       "      <td>Heritage Foundation</td>\n",
       "    </tr>\n",
       "    <tr>\n",
       "      <th>13</th>\n",
       "      <td>HudsonInstitute</td>\n",
       "      <td>73046</td>\n",
       "      <td>CTT</td>\n",
       "      <td>Hudson Institute</td>\n",
       "    </tr>\n",
       "    <tr>\n",
       "      <th>14</th>\n",
       "      <td>ManhattanInst</td>\n",
       "      <td>60456</td>\n",
       "      <td>CTT</td>\n",
       "      <td>Manhattan Institute</td>\n",
       "    </tr>\n",
       "    <tr>\n",
       "      <th>15</th>\n",
       "      <td>PacificResearch</td>\n",
       "      <td>4222</td>\n",
       "      <td>CTT</td>\n",
       "      <td>Pacific Research Institute for Public Policy</td>\n",
       "    </tr>\n",
       "    <tr>\n",
       "      <th>16</th>\n",
       "      <td>WAPolicyCenter</td>\n",
       "      <td>4141</td>\n",
       "      <td>CTT</td>\n",
       "      <td>Washington Policy Center</td>\n",
       "    </tr>\n",
       "  </tbody>\n",
       "</table>\n",
       "</div>"
      ],
      "text/plain": [
       "        screen_name  Followers Type  \\\n",
       "0   capitalresearch       5023  CTT   \n",
       "1         ceidotorg      12565  CTT   \n",
       "2    NationalCenter       7807  CTT   \n",
       "3         ReasonFdn       7030  CTT   \n",
       "4           ACSHorg       5734  CTT   \n",
       "5               AEI     151109  CTT   \n",
       "6     CatoInstitute     362920  CTT   \n",
       "7             CFACT      13985  CTT   \n",
       "8       FoF_Liberty        236  CTT   \n",
       "9   FraserInstitute      31658  CTT   \n",
       "10     FreedomWorks     270144  CTT   \n",
       "11    HeartlandInst      14831  CTT   \n",
       "12         Heritage     624504  CTT   \n",
       "13  HudsonInstitute      73046  CTT   \n",
       "14    ManhattanInst      60456  CTT   \n",
       "15  PacificResearch       4222  CTT   \n",
       "16   WAPolicyCenter       4141  CTT   \n",
       "\n",
       "                                            Name  \n",
       "0                        Capital Research Center  \n",
       "1               Competitive Enterprise Institute  \n",
       "2     National Center for Public Policy Research  \n",
       "3                              Reason Foundation  \n",
       "4         American Council on Science and Health  \n",
       "5                  American Enterprise Institute  \n",
       "6                                 CATO Institute  \n",
       "7                                          CFACT  \n",
       "8                           Frontiers of Freedom  \n",
       "9                               Fraser Institute  \n",
       "10                                  FreedomWorks  \n",
       "11                           Heartland Institute  \n",
       "12                           Heritage Foundation  \n",
       "13                              Hudson Institute  \n",
       "14                           Manhattan Institute  \n",
       "15  Pacific Research Institute for Public Policy  \n",
       "16                      Washington Policy Center  "
      ]
     },
     "execution_count": 9,
     "metadata": {},
     "output_type": "execute_result"
    }
   ],
   "source": [
    "ctts = pd.read_csv(\"../CTTs/ctt_twitter_handles.csv\")\n",
    "ctts"
   ]
  },
  {
   "cell_type": "code",
   "execution_count": 10,
   "id": "7e0c3d21",
   "metadata": {
    "ExecuteTime": {
     "end_time": "2023-05-08T04:08:38.240245Z",
     "start_time": "2023-05-08T04:08:17.234972Z"
    }
   },
   "outputs": [
    {
     "data": {
      "text/html": [
       "<div>\n",
       "<style scoped>\n",
       "    .dataframe tbody tr th:only-of-type {\n",
       "        vertical-align: middle;\n",
       "    }\n",
       "\n",
       "    .dataframe tbody tr th {\n",
       "        vertical-align: top;\n",
       "    }\n",
       "\n",
       "    .dataframe thead th {\n",
       "        text-align: right;\n",
       "    }\n",
       "</style>\n",
       "<table border=\"1\" class=\"dataframe\">\n",
       "  <thead>\n",
       "    <tr style=\"text-align: right;\">\n",
       "      <th></th>\n",
       "      <th>screen_name</th>\n",
       "      <th>Followers</th>\n",
       "      <th>Type</th>\n",
       "      <th>Name</th>\n",
       "      <th>followers_count</th>\n",
       "      <th>following_count</th>\n",
       "      <th>tweet_count</th>\n",
       "      <th>listed_count</th>\n",
       "      <th>description</th>\n",
       "      <th>id</th>\n",
       "      <th>verified</th>\n",
       "      <th>created_at</th>\n",
       "    </tr>\n",
       "  </thead>\n",
       "  <tbody>\n",
       "    <tr>\n",
       "      <th>0</th>\n",
       "      <td>capitalresearch</td>\n",
       "      <td>5023</td>\n",
       "      <td>CTT</td>\n",
       "      <td>Capital Research Center</td>\n",
       "      <td>5797.0</td>\n",
       "      <td>3122.0</td>\n",
       "      <td>9384.0</td>\n",
       "      <td>119.0</td>\n",
       "      <td>Capital Research Center is America's Investigative Think Tank, covering all the influencers in our politics.</td>\n",
       "      <td>18957839</td>\n",
       "      <td>True</td>\n",
       "      <td>2009-01-13T23:07:06.000Z</td>\n",
       "    </tr>\n",
       "    <tr>\n",
       "      <th>1</th>\n",
       "      <td>ceidotorg</td>\n",
       "      <td>12565</td>\n",
       "      <td>CTT</td>\n",
       "      <td>Competitive Enterprise Institute</td>\n",
       "      <td>13126.0</td>\n",
       "      <td>3463.0</td>\n",
       "      <td>30867.0</td>\n",
       "      <td>585.0</td>\n",
       "      <td>CEI is a non-profit public policy organization dedicated to advancing the principles of limited government, free enterprise, and individual liberty.</td>\n",
       "      <td>15471040</td>\n",
       "      <td>False</td>\n",
       "      <td>2008-07-17T17:49:08.000Z</td>\n",
       "    </tr>\n",
       "    <tr>\n",
       "      <th>2</th>\n",
       "      <td>NationalCenter</td>\n",
       "      <td>7807</td>\n",
       "      <td>CTT</td>\n",
       "      <td>National Center for Public Policy Research</td>\n",
       "      <td>8099.0</td>\n",
       "      <td>6420.0</td>\n",
       "      <td>23743.0</td>\n",
       "      <td>206.0</td>\n",
       "      <td>The National Center for Public Policy Research is a nonpartisan, free-market conservative think-tank. Home of @Project21News &amp; @FreeEntProject.</td>\n",
       "      <td>19384480</td>\n",
       "      <td>False</td>\n",
       "      <td>2009-01-23T06:38:46.000Z</td>\n",
       "    </tr>\n",
       "    <tr>\n",
       "      <th>3</th>\n",
       "      <td>ReasonFdn</td>\n",
       "      <td>7030</td>\n",
       "      <td>CTT</td>\n",
       "      <td>Reason Foundation</td>\n",
       "      <td>9079.0</td>\n",
       "      <td>97.0</td>\n",
       "      <td>6480.0</td>\n",
       "      <td>145.0</td>\n",
       "      <td>Reason Foundation is a nonprofit dedicated to advancing free minds and free markets. @ReasonFdn produces respected public policy research and publishes @reason.</td>\n",
       "      <td>1177334131732156420</td>\n",
       "      <td>False</td>\n",
       "      <td>2019-09-26T21:29:18.000Z</td>\n",
       "    </tr>\n",
       "    <tr>\n",
       "      <th>4</th>\n",
       "      <td>ACSHorg</td>\n",
       "      <td>5734</td>\n",
       "      <td>CTT</td>\n",
       "      <td>American Council on Science and Health</td>\n",
       "      <td>5998.0</td>\n",
       "      <td>780.0</td>\n",
       "      <td>4988.0</td>\n",
       "      <td>229.0</td>\n",
       "      <td>American Council on Science and Health. Science and consumer advocates since 1978. We separate facts from myths and debunk junk science.</td>\n",
       "      <td>195858764</td>\n",
       "      <td>False</td>\n",
       "      <td>2010-09-27T19:03:58.000Z</td>\n",
       "    </tr>\n",
       "    <tr>\n",
       "      <th>5</th>\n",
       "      <td>AEI</td>\n",
       "      <td>151109</td>\n",
       "      <td>CTT</td>\n",
       "      <td>American Enterprise Institute</td>\n",
       "      <td>161058.0</td>\n",
       "      <td>1399.0</td>\n",
       "      <td>68553.0</td>\n",
       "      <td>2958.0</td>\n",
       "      <td>Independent research driving the national conversation.</td>\n",
       "      <td>30864583</td>\n",
       "      <td>False</td>\n",
       "      <td>2009-04-13T13:33:33.000Z</td>\n",
       "    </tr>\n",
       "    <tr>\n",
       "      <th>6</th>\n",
       "      <td>CatoInstitute</td>\n",
       "      <td>362920</td>\n",
       "      <td>CTT</td>\n",
       "      <td>CATO Institute</td>\n",
       "      <td>367072.0</td>\n",
       "      <td>7003.0</td>\n",
       "      <td>99850.0</td>\n",
       "      <td>8489.0</td>\n",
       "      <td>A public policy research organization dedicated to individual liberty, limited government, free markets, and peace.</td>\n",
       "      <td>15450996</td>\n",
       "      <td>True</td>\n",
       "      <td>2008-07-16T05:46:16.000Z</td>\n",
       "    </tr>\n",
       "    <tr>\n",
       "      <th>7</th>\n",
       "      <td>CFACT</td>\n",
       "      <td>13985</td>\n",
       "      <td>CTT</td>\n",
       "      <td>CFACT</td>\n",
       "      <td>14966.0</td>\n",
       "      <td>4616.0</td>\n",
       "      <td>11431.0</td>\n",
       "      <td>330.0</td>\n",
       "      <td>CFACT defends the environment &amp; human welfare through facts, news, and analysis, promoting free-market solutions to the world's environmental problems.</td>\n",
       "      <td>38532025</td>\n",
       "      <td>False</td>\n",
       "      <td>2009-05-07T22:20:56.000Z</td>\n",
       "    </tr>\n",
       "    <tr>\n",
       "      <th>8</th>\n",
       "      <td>FoF_Liberty</td>\n",
       "      <td>236</td>\n",
       "      <td>CTT</td>\n",
       "      <td>Frontiers of Freedom</td>\n",
       "      <td>316.0</td>\n",
       "      <td>527.0</td>\n",
       "      <td>2258.0</td>\n",
       "      <td>7.0</td>\n",
       "      <td>Standing for Individual freedom, peace by strength, limited government, free markets, and traditional American values.</td>\n",
       "      <td>2464808161</td>\n",
       "      <td>False</td>\n",
       "      <td>2014-04-26T15:48:58.000Z</td>\n",
       "    </tr>\n",
       "    <tr>\n",
       "      <th>9</th>\n",
       "      <td>FraserInstitute</td>\n",
       "      <td>31658</td>\n",
       "      <td>CTT</td>\n",
       "      <td>Fraser Institute</td>\n",
       "      <td>33308.0</td>\n",
       "      <td>1091.0</td>\n",
       "      <td>15784.0</td>\n",
       "      <td>1046.0</td>\n",
       "      <td>#1 rated think tank in 🇨🇦! Improving the lives of Canadians with high-quality timely research and innovative outreach.</td>\n",
       "      <td>23529233</td>\n",
       "      <td>False</td>\n",
       "      <td>2009-03-10T00:18:34.000Z</td>\n",
       "    </tr>\n",
       "    <tr>\n",
       "      <th>10</th>\n",
       "      <td>FreedomWorks</td>\n",
       "      <td>270144</td>\n",
       "      <td>CTT</td>\n",
       "      <td>FreedomWorks</td>\n",
       "      <td>286704.0</td>\n",
       "      <td>10027.0</td>\n",
       "      <td>135645.0</td>\n",
       "      <td>3508.0</td>\n",
       "      <td>The Nation's premier grassroots advocacy group dedicated to freedom and small government.</td>\n",
       "      <td>14730894</td>\n",
       "      <td>False</td>\n",
       "      <td>2008-05-11T04:29:14.000Z</td>\n",
       "    </tr>\n",
       "    <tr>\n",
       "      <th>11</th>\n",
       "      <td>HeartlandInst</td>\n",
       "      <td>14831</td>\n",
       "      <td>CTT</td>\n",
       "      <td>Heartland Institute</td>\n",
       "      <td>16285.0</td>\n",
       "      <td>5267.0</td>\n",
       "      <td>51255.0</td>\n",
       "      <td>747.0</td>\n",
       "      <td>National free-market public-policy think tank | IG &amp; FB: heartlandinstitute | YouTube: HeartlandTube | Search Heartland Daily Podcast: Apple, GooglePlay &amp; more.</td>\n",
       "      <td>17850268</td>\n",
       "      <td>False</td>\n",
       "      <td>2008-12-03T21:51:23.000Z</td>\n",
       "    </tr>\n",
       "    <tr>\n",
       "      <th>12</th>\n",
       "      <td>Heritage</td>\n",
       "      <td>624504</td>\n",
       "      <td>CTT</td>\n",
       "      <td>Heritage Foundation</td>\n",
       "      <td>669263.0</td>\n",
       "      <td>25327.0</td>\n",
       "      <td>125051.0</td>\n",
       "      <td>10184.0</td>\n",
       "      <td>Heritage was created to be a battleship for the conservative movement.\\n\\n50 years and 500,000 members later, we’re still fighting for the everyday American 🇺🇸</td>\n",
       "      <td>10168082</td>\n",
       "      <td>False</td>\n",
       "      <td>2007-11-12T01:50:27.000Z</td>\n",
       "    </tr>\n",
       "    <tr>\n",
       "      <th>13</th>\n",
       "      <td>HudsonInstitute</td>\n",
       "      <td>73046</td>\n",
       "      <td>CTT</td>\n",
       "      <td>Hudson Institute</td>\n",
       "      <td>88982.0</td>\n",
       "      <td>2628.0</td>\n",
       "      <td>12288.0</td>\n",
       "      <td>1660.0</td>\n",
       "      <td>Promoting American leadership for a secure, free, and prosperous future.</td>\n",
       "      <td>16742053</td>\n",
       "      <td>True</td>\n",
       "      <td>2008-10-14T17:19:22.000Z</td>\n",
       "    </tr>\n",
       "    <tr>\n",
       "      <th>14</th>\n",
       "      <td>ManhattanInst</td>\n",
       "      <td>60456</td>\n",
       "      <td>CTT</td>\n",
       "      <td>Manhattan Institute</td>\n",
       "      <td>66721.0</td>\n",
       "      <td>2453.0</td>\n",
       "      <td>83174.0</td>\n",
       "      <td>1563.0</td>\n",
       "      <td>Working to keep America and its great cities prosperous, safe, and free. Follow @CityJournal and @smithsoc for more.</td>\n",
       "      <td>18083519</td>\n",
       "      <td>False</td>\n",
       "      <td>2008-12-12T19:28:08.000Z</td>\n",
       "    </tr>\n",
       "    <tr>\n",
       "      <th>15</th>\n",
       "      <td>PacificResearch</td>\n",
       "      <td>4222</td>\n",
       "      <td>CTT</td>\n",
       "      <td>Pacific Research Institute for Public Policy</td>\n",
       "      <td>4462.0</td>\n",
       "      <td>3298.0</td>\n",
       "      <td>17285.0</td>\n",
       "      <td>216.0</td>\n",
       "      <td>Pacific Research Institute. Championing freedom, opportunity, and personal responsibility.</td>\n",
       "      <td>18485298</td>\n",
       "      <td>False</td>\n",
       "      <td>2008-12-30T19:23:03.000Z</td>\n",
       "    </tr>\n",
       "    <tr>\n",
       "      <th>16</th>\n",
       "      <td>WAPolicyCenter</td>\n",
       "      <td>4141</td>\n",
       "      <td>CTT</td>\n",
       "      <td>Washington Policy Center</td>\n",
       "      <td>4837.0</td>\n",
       "      <td>1824.0</td>\n",
       "      <td>3662.0</td>\n",
       "      <td>121.0</td>\n",
       "      <td>Improving lives through market solutions.</td>\n",
       "      <td>43983401</td>\n",
       "      <td>False</td>\n",
       "      <td>2009-06-01T21:57:37.000Z</td>\n",
       "    </tr>\n",
       "  </tbody>\n",
       "</table>\n",
       "</div>"
      ],
      "text/plain": [
       "        screen_name  Followers Type  \\\n",
       "0   capitalresearch       5023  CTT   \n",
       "1         ceidotorg      12565  CTT   \n",
       "2    NationalCenter       7807  CTT   \n",
       "3         ReasonFdn       7030  CTT   \n",
       "4           ACSHorg       5734  CTT   \n",
       "5               AEI     151109  CTT   \n",
       "6     CatoInstitute     362920  CTT   \n",
       "7             CFACT      13985  CTT   \n",
       "8       FoF_Liberty        236  CTT   \n",
       "9   FraserInstitute      31658  CTT   \n",
       "10     FreedomWorks     270144  CTT   \n",
       "11    HeartlandInst      14831  CTT   \n",
       "12         Heritage     624504  CTT   \n",
       "13  HudsonInstitute      73046  CTT   \n",
       "14    ManhattanInst      60456  CTT   \n",
       "15  PacificResearch       4222  CTT   \n",
       "16   WAPolicyCenter       4141  CTT   \n",
       "\n",
       "                                            Name  followers_count  \\\n",
       "0                        Capital Research Center           5797.0   \n",
       "1               Competitive Enterprise Institute          13126.0   \n",
       "2     National Center for Public Policy Research           8099.0   \n",
       "3                              Reason Foundation           9079.0   \n",
       "4         American Council on Science and Health           5998.0   \n",
       "5                  American Enterprise Institute         161058.0   \n",
       "6                                 CATO Institute         367072.0   \n",
       "7                                          CFACT          14966.0   \n",
       "8                           Frontiers of Freedom            316.0   \n",
       "9                               Fraser Institute          33308.0   \n",
       "10                                  FreedomWorks         286704.0   \n",
       "11                           Heartland Institute          16285.0   \n",
       "12                           Heritage Foundation         669263.0   \n",
       "13                              Hudson Institute          88982.0   \n",
       "14                           Manhattan Institute          66721.0   \n",
       "15  Pacific Research Institute for Public Policy           4462.0   \n",
       "16                      Washington Policy Center           4837.0   \n",
       "\n",
       "    following_count  tweet_count  listed_count  \\\n",
       "0            3122.0       9384.0         119.0   \n",
       "1            3463.0      30867.0         585.0   \n",
       "2            6420.0      23743.0         206.0   \n",
       "3              97.0       6480.0         145.0   \n",
       "4             780.0       4988.0         229.0   \n",
       "5            1399.0      68553.0        2958.0   \n",
       "6            7003.0      99850.0        8489.0   \n",
       "7            4616.0      11431.0         330.0   \n",
       "8             527.0       2258.0           7.0   \n",
       "9            1091.0      15784.0        1046.0   \n",
       "10          10027.0     135645.0        3508.0   \n",
       "11           5267.0      51255.0         747.0   \n",
       "12          25327.0     125051.0       10184.0   \n",
       "13           2628.0      12288.0        1660.0   \n",
       "14           2453.0      83174.0        1563.0   \n",
       "15           3298.0      17285.0         216.0   \n",
       "16           1824.0       3662.0         121.0   \n",
       "\n",
       "                                                                                                                                                         description  \\\n",
       "0                                                       Capital Research Center is America's Investigative Think Tank, covering all the influencers in our politics.   \n",
       "1               CEI is a non-profit public policy organization dedicated to advancing the principles of limited government, free enterprise, and individual liberty.   \n",
       "2                    The National Center for Public Policy Research is a nonpartisan, free-market conservative think-tank. Home of @Project21News & @FreeEntProject.   \n",
       "3   Reason Foundation is a nonprofit dedicated to advancing free minds and free markets. @ReasonFdn produces respected public policy research and publishes @reason.   \n",
       "4                           American Council on Science and Health. Science and consumer advocates since 1978. We separate facts from myths and debunk junk science.   \n",
       "5                                                                                                            Independent research driving the national conversation.   \n",
       "6                                                A public policy research organization dedicated to individual liberty, limited government, free markets, and peace.   \n",
       "7            CFACT defends the environment & human welfare through facts, news, and analysis, promoting free-market solutions to the world's environmental problems.   \n",
       "8                                             Standing for Individual freedom, peace by strength, limited government, free markets, and traditional American values.   \n",
       "9                                             #1 rated think tank in 🇨🇦! Improving the lives of Canadians with high-quality timely research and innovative outreach.   \n",
       "10                                                                         The Nation's premier grassroots advocacy group dedicated to freedom and small government.   \n",
       "11  National free-market public-policy think tank | IG & FB: heartlandinstitute | YouTube: HeartlandTube | Search Heartland Daily Podcast: Apple, GooglePlay & more.   \n",
       "12   Heritage was created to be a battleship for the conservative movement.\\n\\n50 years and 500,000 members later, we’re still fighting for the everyday American 🇺🇸   \n",
       "13                                                                                          Promoting American leadership for a secure, free, and prosperous future.   \n",
       "14                                              Working to keep America and its great cities prosperous, safe, and free. Follow @CityJournal and @smithsoc for more.   \n",
       "15                                                                        Pacific Research Institute. Championing freedom, opportunity, and personal responsibility.   \n",
       "16                                                                                                                         Improving lives through market solutions.   \n",
       "\n",
       "                     id verified                created_at  \n",
       "0              18957839     True  2009-01-13T23:07:06.000Z  \n",
       "1              15471040    False  2008-07-17T17:49:08.000Z  \n",
       "2              19384480    False  2009-01-23T06:38:46.000Z  \n",
       "3   1177334131732156420    False  2019-09-26T21:29:18.000Z  \n",
       "4             195858764    False  2010-09-27T19:03:58.000Z  \n",
       "5              30864583    False  2009-04-13T13:33:33.000Z  \n",
       "6              15450996     True  2008-07-16T05:46:16.000Z  \n",
       "7              38532025    False  2009-05-07T22:20:56.000Z  \n",
       "8            2464808161    False  2014-04-26T15:48:58.000Z  \n",
       "9              23529233    False  2009-03-10T00:18:34.000Z  \n",
       "10             14730894    False  2008-05-11T04:29:14.000Z  \n",
       "11             17850268    False  2008-12-03T21:51:23.000Z  \n",
       "12             10168082    False  2007-11-12T01:50:27.000Z  \n",
       "13             16742053     True  2008-10-14T17:19:22.000Z  \n",
       "14             18083519    False  2008-12-12T19:28:08.000Z  \n",
       "15             18485298    False  2008-12-30T19:23:03.000Z  \n",
       "16             43983401    False  2009-06-01T21:57:37.000Z  "
      ]
     },
     "execution_count": 10,
     "metadata": {},
     "output_type": "execute_result"
    }
   ],
   "source": [
    "for i in range(ctts.shape[0]):\n",
    "    username = ctts.loc[i].screen_name\n",
    "    user_meta = getUser(username)\n",
    "    ctts.loc[i, 'followers_count'] = user_meta['public_metrics']['followers_count']\n",
    "    ctts.loc[i, 'following_count'] = user_meta['public_metrics']['following_count']\n",
    "    ctts.loc[i, 'tweet_count'] = user_meta['public_metrics']['tweet_count']\n",
    "    ctts.loc[i, 'listed_count'] = user_meta['public_metrics']['listed_count']\n",
    "    ctts.loc[i, 'description'] = user_meta['description']\n",
    "    ctts.loc[i, 'id'] = user_meta['id']\n",
    "    ctts.loc[i, 'verified'] = user_meta['verified']\n",
    "    ctts.loc[i, 'created_at'] = user_meta['created_at']\n",
    "ctts"
   ]
  },
  {
   "cell_type": "code",
   "execution_count": 11,
   "id": "2e5cd66c",
   "metadata": {
    "ExecuteTime": {
     "end_time": "2023-05-08T04:08:38.246607Z",
     "start_time": "2023-05-08T04:08:38.243488Z"
    }
   },
   "outputs": [
    {
     "data": {
      "text/plain": [
       "701698.0"
      ]
     },
     "execution_count": 11,
     "metadata": {},
     "output_type": "execute_result"
    }
   ],
   "source": [
    "## Total Tweets\n",
    "ctts.tweet_count.sum()"
   ]
  },
  {
   "cell_type": "markdown",
   "id": "a75c11c8",
   "metadata": {},
   "source": [
    "#### Tweets"
   ]
  },
  {
   "cell_type": "code",
   "execution_count": 12,
   "id": "d9eb0e2d",
   "metadata": {
    "ExecuteTime": {
     "end_time": "2023-05-08T04:08:59.509701Z",
     "start_time": "2023-05-08T04:08:38.247737Z"
    }
   },
   "outputs": [
    {
     "data": {
      "application/vnd.jupyter.widget-view+json": {
       "model_id": "74b3a3fc98bb4c0d94c26e78c1f17c4b",
       "version_major": 2,
       "version_minor": 0
      },
      "text/plain": [
       "  0%|          | 0/17 [00:00<?, ?it/s]"
      ]
     },
     "metadata": {},
     "output_type": "display_data"
    },
    {
     "name": "stdout",
     "output_type": "stream",
     "text": [
      "Number of tweets: 7840\n",
      "Aproximate time to process: 7.84 minutes\n"
     ]
    }
   ],
   "source": [
    "handles_process = ctts.screen_name.unique()\n",
    "    \n",
    "total_sum = 0\n",
    "for username in tqdm(handles_process):\n",
    "    number = count_tweets(\"@{} -is:retweet\".format(username))\n",
    "    total_sum+=number\n",
    "print(\"Number of tweets: {}\".format(total_sum))\n",
    "print(\"Aproximate time to process: {} minutes\".format(total_sum*6/60/100))"
   ]
  },
  {
   "cell_type": "code",
   "execution_count": 13,
   "id": "23da1a88",
   "metadata": {
    "ExecuteTime": {
     "end_time": "2023-05-08T04:19:35.246028Z",
     "start_time": "2023-05-08T04:08:59.511296Z"
    },
    "scrolled": true
   },
   "outputs": [
    {
     "data": {
      "application/vnd.jupyter.widget-view+json": {
       "model_id": "2b86389881f34245aff2531bbc16da9c",
       "version_major": 2,
       "version_minor": 0
      },
      "text/plain": [
       "  0%|          | 0/17 [00:00<?, ?it/s]"
      ]
     },
     "metadata": {},
     "output_type": "display_data"
    },
    {
     "data": {
      "application/vnd.jupyter.widget-view+json": {
       "model_id": "8e74db04195d44bf9d5ecb4d03c373fa",
       "version_major": 2,
       "version_minor": 0
      },
      "text/plain": [
       "  0%|          | 0/1 [00:00<?, ?it/s]"
      ]
     },
     "metadata": {},
     "output_type": "display_data"
    },
    {
     "data": {
      "application/vnd.jupyter.widget-view+json": {
       "model_id": "4e1e727b6dc04207aa74caba431a0d3a",
       "version_major": 2,
       "version_minor": 0
      },
      "text/plain": [
       "  0%|          | 0/2 [00:00<?, ?it/s]"
      ]
     },
     "metadata": {},
     "output_type": "display_data"
    },
    {
     "data": {
      "application/vnd.jupyter.widget-view+json": {
       "model_id": "3d23e6dcd4dc4515a6fcfec7d3576d6c",
       "version_major": 2,
       "version_minor": 0
      },
      "text/plain": [
       "  0%|          | 0/1 [00:00<?, ?it/s]"
      ]
     },
     "metadata": {},
     "output_type": "display_data"
    },
    {
     "data": {
      "application/vnd.jupyter.widget-view+json": {
       "model_id": "9ba270c0b2304c2bae034b6f96b14878",
       "version_major": 2,
       "version_minor": 0
      },
      "text/plain": [
       "  0%|          | 0/1 [00:00<?, ?it/s]"
      ]
     },
     "metadata": {},
     "output_type": "display_data"
    },
    {
     "data": {
      "application/vnd.jupyter.widget-view+json": {
       "model_id": "d0df54348e0e4cdd9759119a72be2801",
       "version_major": 2,
       "version_minor": 0
      },
      "text/plain": [
       "  0%|          | 0/1 [00:00<?, ?it/s]"
      ]
     },
     "metadata": {},
     "output_type": "display_data"
    },
    {
     "data": {
      "application/vnd.jupyter.widget-view+json": {
       "model_id": "e7e7201dcbc74b1987096ec2f8781567",
       "version_major": 2,
       "version_minor": 0
      },
      "text/plain": [
       "  0%|          | 0/10 [00:00<?, ?it/s]"
      ]
     },
     "metadata": {},
     "output_type": "display_data"
    },
    {
     "data": {
      "application/vnd.jupyter.widget-view+json": {
       "model_id": "d2e951434f2a42bb82bd675c70928a8c",
       "version_major": 2,
       "version_minor": 0
      },
      "text/plain": [
       "  0%|          | 0/7 [00:00<?, ?it/s]"
      ]
     },
     "metadata": {},
     "output_type": "display_data"
    },
    {
     "data": {
      "application/vnd.jupyter.widget-view+json": {
       "model_id": "ffc4c95a300846a1a442563a403a5395",
       "version_major": 2,
       "version_minor": 0
      },
      "text/plain": [
       "  0%|          | 0/1 [00:00<?, ?it/s]"
      ]
     },
     "metadata": {},
     "output_type": "display_data"
    },
    {
     "data": {
      "application/vnd.jupyter.widget-view+json": {
       "model_id": "964fbfb4b574425d95418c053cbdc93b",
       "version_major": 2,
       "version_minor": 0
      },
      "text/plain": [
       "  0%|          | 0/1 [00:00<?, ?it/s]"
      ]
     },
     "metadata": {},
     "output_type": "display_data"
    },
    {
     "data": {
      "application/vnd.jupyter.widget-view+json": {
       "model_id": "2ddc58a1eead4226a7981e79993a349c",
       "version_major": 2,
       "version_minor": 0
      },
      "text/plain": [
       "  0%|          | 0/2 [00:00<?, ?it/s]"
      ]
     },
     "metadata": {},
     "output_type": "display_data"
    },
    {
     "data": {
      "application/vnd.jupyter.widget-view+json": {
       "model_id": "81990ad811e94df68b98eff0224b01bb",
       "version_major": 2,
       "version_minor": 0
      },
      "text/plain": [
       "  0%|          | 0/4 [00:00<?, ?it/s]"
      ]
     },
     "metadata": {},
     "output_type": "display_data"
    },
    {
     "data": {
      "application/vnd.jupyter.widget-view+json": {
       "model_id": "ac826fcbbe75469e824dc66dfc5faa67",
       "version_major": 2,
       "version_minor": 0
      },
      "text/plain": [
       "  0%|          | 0/1 [00:00<?, ?it/s]"
      ]
     },
     "metadata": {},
     "output_type": "display_data"
    },
    {
     "data": {
      "application/vnd.jupyter.widget-view+json": {
       "model_id": "ff3e91f537244ccbacb3aa48f7c5a163",
       "version_major": 2,
       "version_minor": 0
      },
      "text/plain": [
       "  0%|          | 0/49 [00:00<?, ?it/s]"
      ]
     },
     "metadata": {},
     "output_type": "display_data"
    },
    {
     "data": {
      "application/vnd.jupyter.widget-view+json": {
       "model_id": "bf7acd0b12ab4086a4b376da4afed643",
       "version_major": 2,
       "version_minor": 0
      },
      "text/plain": [
       "  0%|          | 0/4 [00:00<?, ?it/s]"
      ]
     },
     "metadata": {},
     "output_type": "display_data"
    },
    {
     "data": {
      "application/vnd.jupyter.widget-view+json": {
       "model_id": "958b8594db0344e3b8731c8a241ff562",
       "version_major": 2,
       "version_minor": 0
      },
      "text/plain": [
       "  0%|          | 0/3 [00:00<?, ?it/s]"
      ]
     },
     "metadata": {},
     "output_type": "display_data"
    },
    {
     "data": {
      "application/vnd.jupyter.widget-view+json": {
       "model_id": "9b8c8a7b6b464e809e3010f16a765dd3",
       "version_major": 2,
       "version_minor": 0
      },
      "text/plain": [
       "  0%|          | 0/1 [00:00<?, ?it/s]"
      ]
     },
     "metadata": {},
     "output_type": "display_data"
    },
    {
     "data": {
      "application/vnd.jupyter.widget-view+json": {
       "model_id": "e8697ceb80c14fb083ff9944322a9e52",
       "version_major": 2,
       "version_minor": 0
      },
      "text/plain": [
       "  0%|          | 0/1 [00:00<?, ?it/s]"
      ]
     },
     "metadata": {},
     "output_type": "display_data"
    }
   ],
   "source": [
    "if SCRAP_CTTS:\n",
    "    file = \"../Twitter_scrapped/CTTs/tweets_scrapped-CTTs_{}.csv\".format(today)\n",
    "    if os.path.isfile(file):\n",
    "        tweets = pd.read_csv(file)\n",
    "        handles_process = list(set(ctts.screen_name.unique()) - set(tweets.username.unique()))\n",
    "    else:\n",
    "        tweets = pd.DataFrame()\n",
    "        handles_process = ctts.screen_name.unique()\n",
    "\n",
    "    for username in tqdm(handles_process):\n",
    "        handle_tweets = extract_data(\"@{} -is:retweet\".format(username), 100)\n",
    "        handle_tweets[\"username\"] = username\n",
    "        tweets = pd.concat([tweets, handle_tweets])\n",
    "        tweets.to_csv(file, index=False)"
   ]
  },
  {
   "cell_type": "markdown",
   "id": "f81801de",
   "metadata": {},
   "source": [
    "### Preprocess"
   ]
  },
  {
   "cell_type": "code",
   "execution_count": 14,
   "id": "e1373336",
   "metadata": {
    "ExecuteTime": {
     "end_time": "2023-05-08T04:19:35.308780Z",
     "start_time": "2023-05-08T04:19:35.247188Z"
    }
   },
   "outputs": [],
   "source": [
    "file = \"../Twitter_scrapped/CTTs/tweets_scrapped-CTTs_{}.csv\".format(today)\n",
    "tweets = pd.read_csv(file)"
   ]
  },
  {
   "cell_type": "code",
   "execution_count": 15,
   "id": "7ea04df5",
   "metadata": {
    "ExecuteTime": {
     "end_time": "2023-05-08T04:19:39.951494Z",
     "start_time": "2023-05-08T04:19:35.311770Z"
    }
   },
   "outputs": [],
   "source": [
    "tweets[\"preprocessed_text\"] = tweets[\"text\"].apply(preprocess_text)"
   ]
  },
  {
   "cell_type": "code",
   "execution_count": 16,
   "id": "e4318a59",
   "metadata": {
    "ExecuteTime": {
     "end_time": "2023-05-08T04:19:39.961181Z",
     "start_time": "2023-05-08T04:19:39.952698Z"
    }
   },
   "outputs": [
    {
     "name": "stdout",
     "output_type": "stream",
     "text": [
      "Number of tweets: 713 from 2023-05-01T04:21:28.000Z to 2023-05-08T04:07:15.000Z.\n"
     ]
    }
   ],
   "source": [
    "real_tweets = tweets[tweets.referenced_tweets.isna() & (tweets.preprocessed_text!=\"\")].copy(deep=True)\n",
    "print(\"Number of tweets: {} from {} to {}.\".format(\n",
    "    real_tweets.shape[0],\n",
    "    tweets.created_at.min(),\n",
    "    tweets.created_at.max()\n",
    "))"
   ]
  },
  {
   "cell_type": "code",
   "execution_count": 17,
   "id": "9a089a53",
   "metadata": {
    "ExecuteTime": {
     "end_time": "2023-05-08T04:19:40.099967Z",
     "start_time": "2023-05-08T04:19:39.962532Z"
    },
    "scrolled": true
   },
   "outputs": [
    {
     "data": {
      "text/html": [
       "<div>\n",
       "<style scoped>\n",
       "    .dataframe tbody tr th:only-of-type {\n",
       "        vertical-align: middle;\n",
       "    }\n",
       "\n",
       "    .dataframe tbody tr th {\n",
       "        vertical-align: top;\n",
       "    }\n",
       "\n",
       "    .dataframe thead th {\n",
       "        text-align: right;\n",
       "    }\n",
       "</style>\n",
       "<table border=\"1\" class=\"dataframe\">\n",
       "  <thead>\n",
       "    <tr style=\"text-align: right;\">\n",
       "      <th></th>\n",
       "      <th>Word</th>\n",
       "      <th>Frequency</th>\n",
       "    </tr>\n",
       "  </thead>\n",
       "  <tbody>\n",
       "    <tr>\n",
       "      <th>1</th>\n",
       "      <td>@Heritage</td>\n",
       "      <td>4787</td>\n",
       "    </tr>\n",
       "    <tr>\n",
       "      <th>9</th>\n",
       "      <td>@OversightPR</td>\n",
       "      <td>1332</td>\n",
       "    </tr>\n",
       "    <tr>\n",
       "      <th>11</th>\n",
       "      <td>@NileGardiner</td>\n",
       "      <td>1236</td>\n",
       "    </tr>\n",
       "    <tr>\n",
       "      <th>16</th>\n",
       "      <td>@AEI</td>\n",
       "      <td>902</td>\n",
       "    </tr>\n",
       "    <tr>\n",
       "      <th>24</th>\n",
       "      <td>@BenGoldey</td>\n",
       "      <td>649</td>\n",
       "    </tr>\n",
       "    <tr>\n",
       "      <th>25</th>\n",
       "      <td>@CatoInstitute</td>\n",
       "      <td>639</td>\n",
       "    </tr>\n",
       "    <tr>\n",
       "      <th>34</th>\n",
       "      <td>@ericuman</td>\n",
       "      <td>480</td>\n",
       "    </tr>\n",
       "    <tr>\n",
       "      <th>36</th>\n",
       "      <td>&amp;amp;</td>\n",
       "      <td>440</td>\n",
       "    </tr>\n",
       "    <tr>\n",
       "      <th>43</th>\n",
       "      <td>@KevinRobertsTX</td>\n",
       "      <td>390</td>\n",
       "    </tr>\n",
       "    <tr>\n",
       "      <th>44</th>\n",
       "      <td>like</td>\n",
       "      <td>389</td>\n",
       "    </tr>\n",
       "    <tr>\n",
       "      <th>47</th>\n",
       "      <td>@HudsonInstitute</td>\n",
       "      <td>369</td>\n",
       "    </tr>\n",
       "    <tr>\n",
       "      <th>48</th>\n",
       "      <td>@ElbridgeColby</td>\n",
       "      <td>365</td>\n",
       "    </tr>\n",
       "    <tr>\n",
       "      <th>52</th>\n",
       "      <td>people</td>\n",
       "      <td>343</td>\n",
       "    </tr>\n",
       "    <tr>\n",
       "      <th>53</th>\n",
       "      <td>@FreedomWorks</td>\n",
       "      <td>340</td>\n",
       "    </tr>\n",
       "    <tr>\n",
       "      <th>56</th>\n",
       "      <td>@philsmith20</td>\n",
       "      <td>319</td>\n",
       "    </tr>\n",
       "    <tr>\n",
       "      <th>60</th>\n",
       "      <td>would</td>\n",
       "      <td>306</td>\n",
       "    </tr>\n",
       "    <tr>\n",
       "      <th>64</th>\n",
       "      <td>@DFR_Economics</td>\n",
       "      <td>284</td>\n",
       "    </tr>\n",
       "    <tr>\n",
       "      <th>65</th>\n",
       "      <td>get</td>\n",
       "      <td>275</td>\n",
       "    </tr>\n",
       "    <tr>\n",
       "      <th>66</th>\n",
       "      <td>US</td>\n",
       "      <td>271</td>\n",
       "    </tr>\n",
       "    <tr>\n",
       "      <th>69</th>\n",
       "      <td>one</td>\n",
       "      <td>262</td>\n",
       "    </tr>\n",
       "    <tr>\n",
       "      <th>72</th>\n",
       "      <td>@SenWhitehouse</td>\n",
       "      <td>245</td>\n",
       "    </tr>\n",
       "    <tr>\n",
       "      <th>73</th>\n",
       "      <td>know</td>\n",
       "      <td>235</td>\n",
       "    </tr>\n",
       "    <tr>\n",
       "      <th>74</th>\n",
       "      <td>@KensingtonRoyal</td>\n",
       "      <td>230</td>\n",
       "    </tr>\n",
       "    <tr>\n",
       "      <th>75</th>\n",
       "      <td>@GCHQ</td>\n",
       "      <td>230</td>\n",
       "    </tr>\n",
       "    <tr>\n",
       "      <th>76</th>\n",
       "      <td>@RoyalFamily</td>\n",
       "      <td>229</td>\n",
       "    </tr>\n",
       "    <tr>\n",
       "      <th>78</th>\n",
       "      <td>@UKinUSA</td>\n",
       "      <td>223</td>\n",
       "    </tr>\n",
       "    <tr>\n",
       "      <th>79</th>\n",
       "      <td>think</td>\n",
       "      <td>220</td>\n",
       "    </tr>\n",
       "    <tr>\n",
       "      <th>80</th>\n",
       "      <td>-</td>\n",
       "      <td>217</td>\n",
       "    </tr>\n",
       "    <tr>\n",
       "      <th>84</th>\n",
       "      <td>via</td>\n",
       "      <td>209</td>\n",
       "    </tr>\n",
       "    <tr>\n",
       "      <th>86</th>\n",
       "      <td>@ManhattanInst</td>\n",
       "      <td>208</td>\n",
       "    </tr>\n",
       "  </tbody>\n",
       "</table>\n",
       "</div>"
      ],
      "text/plain": [
       "                Word  Frequency\n",
       "1          @Heritage       4787\n",
       "9       @OversightPR       1332\n",
       "11     @NileGardiner       1236\n",
       "16              @AEI        902\n",
       "24        @BenGoldey        649\n",
       "25    @CatoInstitute        639\n",
       "34         @ericuman        480\n",
       "36             &amp;        440\n",
       "43   @KevinRobertsTX        390\n",
       "44              like        389\n",
       "47  @HudsonInstitute        369\n",
       "48    @ElbridgeColby        365\n",
       "52            people        343\n",
       "53     @FreedomWorks        340\n",
       "56      @philsmith20        319\n",
       "60             would        306\n",
       "64    @DFR_Economics        284\n",
       "65               get        275\n",
       "66                US        271\n",
       "69               one        262\n",
       "72    @SenWhitehouse        245\n",
       "73              know        235\n",
       "74  @KensingtonRoyal        230\n",
       "75             @GCHQ        230\n",
       "76      @RoyalFamily        229\n",
       "78          @UKinUSA        223\n",
       "79             think        220\n",
       "80                 -        217\n",
       "84               via        209\n",
       "86    @ManhattanInst        208"
      ]
     },
     "execution_count": 17,
     "metadata": {},
     "output_type": "execute_result"
    }
   ],
   "source": [
    "count_words(tweets.text)[:30]"
   ]
  },
  {
   "cell_type": "markdown",
   "id": "6bda99ef",
   "metadata": {},
   "source": [
    "## Deniers\n",
    "### Extracting\n",
    "#### Users"
   ]
  },
  {
   "cell_type": "code",
   "execution_count": 18,
   "id": "3bbe4b44",
   "metadata": {
    "ExecuteTime": {
     "end_time": "2023-05-08T04:24:29.445418Z",
     "start_time": "2023-05-08T04:19:40.101072Z"
    },
    "scrolled": true
   },
   "outputs": [
    {
     "name": "stdout",
     "output_type": "stream",
     "text": [
      "Could not find user with username: [ShellenbergerMD].\n",
      "User has been suspended: [PolitixGal].\n",
      "User has been suspended: [JWSpry].\n",
      "User has been suspended: [IceAgeFarmer].\n",
      "Could not find user with username: [TimNBCBoston].\n",
      "User has been suspended: [MooseMan1956].\n",
      "User has been suspended: [Over400ppm].\n",
      "User has been suspended: [ChrisJC12002].\n",
      "User has been suspended: [OverTheMoonbat].\n",
      "User has been suspended: [LearnFromNature].\n",
      "Could not find user with username: [SimonPearson961].\n",
      "User has been suspended: [RuffusMD].\n",
      "User has been suspended: [jenninemorgan].\n",
      "Could not find user with username: [dbirch214].\n",
      "User has been suspended: [2013Boodicca].\n",
      "User has been suspended: [BrexitKite].\n",
      "Could not find user with username: [RogerAPielkeSr].\n",
      "User has been suspended: [peden_c].\n",
      "User has been suspended: [Natalia01Mateo].\n",
      "User has been suspended: [BulldogLoyalty].\n",
      "User has been suspended: [BulldogLoyalty].\n",
      "User has been suspended: [AyesHavit].\n",
      "User has been suspended: [LLViola].\n",
      "User has been suspended: [SylviaDeeDee].\n",
      "User has been suspended: [dbnicholls1].\n",
      "User has been suspended: [iceagereentry].\n",
      "Could not find user with username: [MaijaLipasti].\n",
      "User has been suspended: [DamoPelham].\n",
      "Could not find user with username: [CLINTEL_nl].\n",
      "Could not find user with username: [CLINTEL_nl].\n",
      "User has been suspended: [yota_berlin].\n",
      "User has been suspended: [ClimatismBlog].\n",
      "User has been suspended: [airstripone84].\n",
      "User has been suspended: [NIsakoff].\n",
      "User has been suspended: [caerbannog666].\n",
      "Could not find user with username: [AndrewH82484066].\n",
      "Could not find user with username: [StomperStains].\n",
      "Could not find user with username: [hels_hel].\n",
      "User has been suspended: [LamontC76925238].\n",
      "Could not find user with username: [jacque19753136].\n",
      "Could not find user with username: [kitjs1].\n",
      "Could not find user with username: [M1mac101].\n",
      "User has been suspended: [PeterDClack].\n",
      "User has been suspended: [OOGEEP].\n",
      "User has been suspended: [swcrisis].\n"
     ]
    },
    {
     "data": {
      "text/html": [
       "<div>\n",
       "<style scoped>\n",
       "    .dataframe tbody tr th:only-of-type {\n",
       "        vertical-align: middle;\n",
       "    }\n",
       "\n",
       "    .dataframe tbody tr th {\n",
       "        vertical-align: top;\n",
       "    }\n",
       "\n",
       "    .dataframe thead th {\n",
       "        text-align: right;\n",
       "    }\n",
       "</style>\n",
       "<table border=\"1\" class=\"dataframe\">\n",
       "  <thead>\n",
       "    <tr style=\"text-align: right;\">\n",
       "      <th></th>\n",
       "      <th>screen_name</th>\n",
       "      <th>Followers</th>\n",
       "      <th>Type</th>\n",
       "      <th>exist</th>\n",
       "      <th>followers_count</th>\n",
       "      <th>following_count</th>\n",
       "      <th>tweet_count</th>\n",
       "      <th>listed_count</th>\n",
       "      <th>description</th>\n",
       "      <th>id</th>\n",
       "      <th>verified</th>\n",
       "      <th>created_at</th>\n",
       "    </tr>\n",
       "  </thead>\n",
       "  <tbody>\n",
       "    <tr>\n",
       "      <th>0</th>\n",
       "      <td>EcoSenseNow</td>\n",
       "      <td>107212.0</td>\n",
       "      <td>Climate Denier</td>\n",
       "      <td>True</td>\n",
       "      <td>147942.0</td>\n",
       "      <td>1460.0</td>\n",
       "      <td>48780.0</td>\n",
       "      <td>1264.0</td>\n",
       "      <td>BSc Biology PhD Ecology, Greenpeace co-founder, Now a Sensible Environmentalist. Director https://t.co/lfVMUTMd0Q. Science &amp; logic, not sensation &amp; fear. CO2!!</td>\n",
       "      <td>1392956425</td>\n",
       "      <td>False</td>\n",
       "      <td>2013-04-30T20:03:19.000Z</td>\n",
       "    </tr>\n",
       "    <tr>\n",
       "      <th>1</th>\n",
       "      <td>ShellenbergerMD</td>\n",
       "      <td>98407.0</td>\n",
       "      <td>Climate Denier</td>\n",
       "      <td>NaN</td>\n",
       "      <td>NaN</td>\n",
       "      <td>NaN</td>\n",
       "      <td>NaN</td>\n",
       "      <td>NaN</td>\n",
       "      <td>NaN</td>\n",
       "      <td>NaN</td>\n",
       "      <td>NaN</td>\n",
       "      <td>NaN</td>\n",
       "    </tr>\n",
       "    <tr>\n",
       "      <th>2</th>\n",
       "      <td>RyanMaue</td>\n",
       "      <td>94377.0</td>\n",
       "      <td>Climate Denier</td>\n",
       "      <td>True</td>\n",
       "      <td>100838.0</td>\n",
       "      <td>5268.0</td>\n",
       "      <td>10707.0</td>\n",
       "      <td>3112.0</td>\n",
       "      <td>Meteorology and Climate Sciences | PhD | Look Up 🚀 | Follow the data science | Maps |📈Subscribe for Unique Weather &amp; Climate Analysis | Forecast Company</td>\n",
       "      <td>16117029</td>\n",
       "      <td>True</td>\n",
       "      <td>2008-09-03T18:27:32.000Z</td>\n",
       "    </tr>\n",
       "    <tr>\n",
       "      <th>3</th>\n",
       "      <td>PolitixGal</td>\n",
       "      <td>93040.0</td>\n",
       "      <td>Climate Denier</td>\n",
       "      <td>NaN</td>\n",
       "      <td>NaN</td>\n",
       "      <td>NaN</td>\n",
       "      <td>NaN</td>\n",
       "      <td>NaN</td>\n",
       "      <td>NaN</td>\n",
       "      <td>NaN</td>\n",
       "      <td>NaN</td>\n",
       "      <td>NaN</td>\n",
       "    </tr>\n",
       "    <tr>\n",
       "      <th>4</th>\n",
       "      <td>catoletters</td>\n",
       "      <td>81717.0</td>\n",
       "      <td>Climate Denier</td>\n",
       "      <td>True</td>\n",
       "      <td>81568.0</td>\n",
       "      <td>27642.0</td>\n",
       "      <td>484975.0</td>\n",
       "      <td>908.0</td>\n",
       "      <td>Voluntary Cooperation/Exchange; Human choice is the foundation of liberty. Read Rothbard and Mises. Peace NAP. End the Fed.  Parody, I am not Cato The Younger</td>\n",
       "      <td>15063486</td>\n",
       "      <td>True</td>\n",
       "      <td>2008-06-09T18:11:35.000Z</td>\n",
       "    </tr>\n",
       "    <tr>\n",
       "      <th>...</th>\n",
       "      <td>...</td>\n",
       "      <td>...</td>\n",
       "      <td>...</td>\n",
       "      <td>...</td>\n",
       "      <td>...</td>\n",
       "      <td>...</td>\n",
       "      <td>...</td>\n",
       "      <td>...</td>\n",
       "      <td>...</td>\n",
       "      <td>...</td>\n",
       "      <td>...</td>\n",
       "      <td>...</td>\n",
       "    </tr>\n",
       "    <tr>\n",
       "      <th>230</th>\n",
       "      <td>Apiglobal</td>\n",
       "      <td>3000.0</td>\n",
       "      <td>Climate Denier-Trade Assoc</td>\n",
       "      <td>True</td>\n",
       "      <td>3464.0</td>\n",
       "      <td>689.0</td>\n",
       "      <td>3392.0</td>\n",
       "      <td>89.0</td>\n",
       "      <td>API Global Industry Services (GIS) provides oil and gas professionals with resources necessary to advance safety and efficiency. @DieselMatters @MotorOilMatters</td>\n",
       "      <td>2885823443</td>\n",
       "      <td>False</td>\n",
       "      <td>2014-11-20T16:58:38.000Z</td>\n",
       "    </tr>\n",
       "    <tr>\n",
       "      <th>231</th>\n",
       "      <td>Chamberglobal</td>\n",
       "      <td>2263.0</td>\n",
       "      <td>Climate Denier-Trade Assoc</td>\n",
       "      <td>True</td>\n",
       "      <td>3204.0</td>\n",
       "      <td>228.0</td>\n",
       "      <td>3845.0</td>\n",
       "      <td>71.0</td>\n",
       "      <td>The @USChamber's International Affairs Division advocates for free enterprise, competitive markets, and rules-based #trade and #investment.</td>\n",
       "      <td>1183621296</td>\n",
       "      <td>False</td>\n",
       "      <td>2013-02-15T19:55:20.000Z</td>\n",
       "    </tr>\n",
       "    <tr>\n",
       "      <th>232</th>\n",
       "      <td>NationalMining</td>\n",
       "      <td>1640.0</td>\n",
       "      <td>Climate Denier-Trade Assoc</td>\n",
       "      <td>True</td>\n",
       "      <td>2883.0</td>\n",
       "      <td>1926.0</td>\n",
       "      <td>4473.0</td>\n",
       "      <td>50.0</td>\n",
       "      <td>The National Mining Association (NMA) is the only national trade organization that serves as the voice of U.S. mining.</td>\n",
       "      <td>2422372057</td>\n",
       "      <td>True</td>\n",
       "      <td>2014-04-01T16:45:35.000Z</td>\n",
       "    </tr>\n",
       "    <tr>\n",
       "      <th>233</th>\n",
       "      <td>OfficialWSPA</td>\n",
       "      <td>1551.0</td>\n",
       "      <td>Climate Denier-Trade Assoc</td>\n",
       "      <td>True</td>\n",
       "      <td>1886.0</td>\n",
       "      <td>515.0</td>\n",
       "      <td>1006.0</td>\n",
       "      <td>31.0</td>\n",
       "      <td>Official account for the Western States Petroleum Association, dedicated to ensuring continued access to reliable, affordable and sustainable energy for all</td>\n",
       "      <td>615493717</td>\n",
       "      <td>False</td>\n",
       "      <td>2012-06-22T20:12:37.000Z</td>\n",
       "    </tr>\n",
       "    <tr>\n",
       "      <th>234</th>\n",
       "      <td>Namcma</td>\n",
       "      <td>994.0</td>\n",
       "      <td>Climate Denier-Trade Assoc</td>\n",
       "      <td>True</td>\n",
       "      <td>1089.0</td>\n",
       "      <td>351.0</td>\n",
       "      <td>1874.0</td>\n",
       "      <td>30.0</td>\n",
       "      <td>The NAM's Council of Manufacturing Associations w/ over 250 industry sector trade association members work together on behalf of the people who make things</td>\n",
       "      <td>1362036559</td>\n",
       "      <td>False</td>\n",
       "      <td>2013-04-18T14:09:06.000Z</td>\n",
       "    </tr>\n",
       "  </tbody>\n",
       "</table>\n",
       "<p>235 rows × 12 columns</p>\n",
       "</div>"
      ],
      "text/plain": [
       "         screen_name  Followers                        Type exist  \\\n",
       "0        EcoSenseNow   107212.0              Climate Denier  True   \n",
       "1    ShellenbergerMD    98407.0              Climate Denier   NaN   \n",
       "2           RyanMaue    94377.0              Climate Denier  True   \n",
       "3         PolitixGal    93040.0              Climate Denier   NaN   \n",
       "4        catoletters    81717.0              Climate Denier  True   \n",
       "..               ...        ...                         ...   ...   \n",
       "230        Apiglobal     3000.0  Climate Denier-Trade Assoc  True   \n",
       "231    Chamberglobal     2263.0  Climate Denier-Trade Assoc  True   \n",
       "232   NationalMining     1640.0  Climate Denier-Trade Assoc  True   \n",
       "233     OfficialWSPA     1551.0  Climate Denier-Trade Assoc  True   \n",
       "234           Namcma      994.0  Climate Denier-Trade Assoc  True   \n",
       "\n",
       "     followers_count  following_count  tweet_count  listed_count  \\\n",
       "0           147942.0           1460.0      48780.0        1264.0   \n",
       "1                NaN              NaN          NaN           NaN   \n",
       "2           100838.0           5268.0      10707.0        3112.0   \n",
       "3                NaN              NaN          NaN           NaN   \n",
       "4            81568.0          27642.0     484975.0         908.0   \n",
       "..               ...              ...          ...           ...   \n",
       "230           3464.0            689.0       3392.0          89.0   \n",
       "231           3204.0            228.0       3845.0          71.0   \n",
       "232           2883.0           1926.0       4473.0          50.0   \n",
       "233           1886.0            515.0       1006.0          31.0   \n",
       "234           1089.0            351.0       1874.0          30.0   \n",
       "\n",
       "                                                                                                                                                          description  \\\n",
       "0     BSc Biology PhD Ecology, Greenpeace co-founder, Now a Sensible Environmentalist. Director https://t.co/lfVMUTMd0Q. Science & logic, not sensation & fear. CO2!!   \n",
       "1                                                                                                                                                                 NaN   \n",
       "2            Meteorology and Climate Sciences | PhD | Look Up 🚀 | Follow the data science | Maps |📈Subscribe for Unique Weather & Climate Analysis | Forecast Company   \n",
       "3                                                                                                                                                                 NaN   \n",
       "4      Voluntary Cooperation/Exchange; Human choice is the foundation of liberty. Read Rothbard and Mises. Peace NAP. End the Fed.  Parody, I am not Cato The Younger   \n",
       "..                                                                                                                                                                ...   \n",
       "230  API Global Industry Services (GIS) provides oil and gas professionals with resources necessary to advance safety and efficiency. @DieselMatters @MotorOilMatters   \n",
       "231                       The @USChamber's International Affairs Division advocates for free enterprise, competitive markets, and rules-based #trade and #investment.   \n",
       "232                                            The National Mining Association (NMA) is the only national trade organization that serves as the voice of U.S. mining.   \n",
       "233      Official account for the Western States Petroleum Association, dedicated to ensuring continued access to reliable, affordable and sustainable energy for all   \n",
       "234       The NAM's Council of Manufacturing Associations w/ over 250 industry sector trade association members work together on behalf of the people who make things   \n",
       "\n",
       "             id verified                created_at  \n",
       "0    1392956425    False  2013-04-30T20:03:19.000Z  \n",
       "1           NaN      NaN                       NaN  \n",
       "2      16117029     True  2008-09-03T18:27:32.000Z  \n",
       "3           NaN      NaN                       NaN  \n",
       "4      15063486     True  2008-06-09T18:11:35.000Z  \n",
       "..          ...      ...                       ...  \n",
       "230  2885823443    False  2014-11-20T16:58:38.000Z  \n",
       "231  1183621296    False  2013-02-15T19:55:20.000Z  \n",
       "232  2422372057     True  2014-04-01T16:45:35.000Z  \n",
       "233   615493717    False  2012-06-22T20:12:37.000Z  \n",
       "234  1362036559    False  2013-04-18T14:09:06.000Z  \n",
       "\n",
       "[235 rows x 12 columns]"
      ]
     },
     "execution_count": 18,
     "metadata": {},
     "output_type": "execute_result"
    }
   ],
   "source": [
    "denials = pd.read_csv(\"../CTTs/denier_twitter_handles.csv\")\n",
    "for i in range(denials.shape[0]):\n",
    "    username = denials.loc[i].screen_name\n",
    "    user_meta = getUser(username)\n",
    "    if not user_meta:\n",
    "        continue\n",
    "    denials.loc[i, 'exist'] = True\n",
    "    denials.loc[i, 'followers_count'] = user_meta['public_metrics']['followers_count']\n",
    "    denials.loc[i, 'following_count'] = user_meta['public_metrics']['following_count']\n",
    "    denials.loc[i, 'tweet_count'] = user_meta['public_metrics']['tweet_count']\n",
    "    denials.loc[i, 'listed_count'] = user_meta['public_metrics']['listed_count']\n",
    "    denials.loc[i, 'description'] = user_meta['description']\n",
    "    denials.loc[i, 'id'] = user_meta['id']\n",
    "    denials.loc[i, 'verified'] = user_meta['verified']\n",
    "    denials.loc[i, 'created_at'] = user_meta['created_at']\n",
    "denials"
   ]
  },
  {
   "cell_type": "code",
   "execution_count": 19,
   "id": "47ae5cc4",
   "metadata": {
    "ExecuteTime": {
     "end_time": "2023-05-08T04:24:29.457192Z",
     "start_time": "2023-05-08T04:24:29.449377Z"
    }
   },
   "outputs": [
    {
     "name": "stdout",
     "output_type": "stream",
     "text": [
      "190 in total 235.\n"
     ]
    }
   ],
   "source": [
    "print(\"{} in total {}.\".format((denials.exist==True).sum(), denials.shape[0]))"
   ]
  },
  {
   "cell_type": "markdown",
   "id": "ca7148c4",
   "metadata": {},
   "source": [
    "#### Tweets"
   ]
  },
  {
   "cell_type": "code",
   "execution_count": 20,
   "id": "b50ed3c8",
   "metadata": {
    "ExecuteTime": {
     "end_time": "2023-05-08T04:28:18.784064Z",
     "start_time": "2023-05-08T04:24:29.460672Z"
    }
   },
   "outputs": [
    {
     "data": {
      "application/vnd.jupyter.widget-view+json": {
       "model_id": "1d7da0d4d22243a5985708c5d0f7a90f",
       "version_major": 2,
       "version_minor": 0
      },
      "text/plain": [
       "  0%|          | 0/184 [00:00<?, ?it/s]"
      ]
     },
     "metadata": {},
     "output_type": "display_data"
    },
    {
     "name": "stdout",
     "output_type": "stream",
     "text": [
      "Number of tweets: 11678\n",
      "Aproximate time to process: 11.677999999999999 minutes\n"
     ]
    }
   ],
   "source": [
    "handles_process = denials[denials.exist==True].screen_name.unique()\n",
    "    \n",
    "total_sum = 0\n",
    "for username in tqdm(handles_process):\n",
    "    number = count_tweets(\"from:{} -is:retweet\".format(username))\n",
    "    total_sum+=number\n",
    "print(\"Number of tweets: {}\".format(total_sum))\n",
    "print(\"Aproximate time to process: {} minutes\".format(total_sum*6/60/100))"
   ]
  },
  {
   "cell_type": "code",
   "execution_count": 21,
   "id": "8a60b850",
   "metadata": {
    "ExecuteTime": {
     "end_time": "2023-05-08T04:56:28.802575Z",
     "start_time": "2023-05-08T04:28:18.787811Z"
    },
    "scrolled": true
   },
   "outputs": [
    {
     "data": {
      "application/vnd.jupyter.widget-view+json": {
       "model_id": "2a2a04fe265643b7b2b16d04eebe947b",
       "version_major": 2,
       "version_minor": 0
      },
      "text/plain": [
       "  0%|          | 0/184 [00:00<?, ?it/s]"
      ]
     },
     "metadata": {},
     "output_type": "display_data"
    },
    {
     "data": {
      "application/vnd.jupyter.widget-view+json": {
       "model_id": "b1ff3096c76248e0bd5254a79747d3ab",
       "version_major": 2,
       "version_minor": 0
      },
      "text/plain": [
       "  0%|          | 0/1 [00:00<?, ?it/s]"
      ]
     },
     "metadata": {},
     "output_type": "display_data"
    },
    {
     "data": {
      "application/vnd.jupyter.widget-view+json": {
       "model_id": "fc3e6349deba44d4a175a531ad55509d",
       "version_major": 2,
       "version_minor": 0
      },
      "text/plain": [
       "  0%|          | 0/2 [00:00<?, ?it/s]"
      ]
     },
     "metadata": {},
     "output_type": "display_data"
    },
    {
     "data": {
      "application/vnd.jupyter.widget-view+json": {
       "model_id": "7ceedbc549364e6eb26d9675dfa8771a",
       "version_major": 2,
       "version_minor": 0
      },
      "text/plain": [
       "  0%|          | 0/8 [00:00<?, ?it/s]"
      ]
     },
     "metadata": {},
     "output_type": "display_data"
    },
    {
     "data": {
      "application/vnd.jupyter.widget-view+json": {
       "model_id": "7d5c1434a3534bebbc2dfaea51bc374c",
       "version_major": 2,
       "version_minor": 0
      },
      "text/plain": [
       "  0%|          | 0/1 [00:00<?, ?it/s]"
      ]
     },
     "metadata": {},
     "output_type": "display_data"
    },
    {
     "data": {
      "application/vnd.jupyter.widget-view+json": {
       "model_id": "b35763a47e72455c8ca639ffae84944d",
       "version_major": 2,
       "version_minor": 0
      },
      "text/plain": [
       "  0%|          | 0/1 [00:00<?, ?it/s]"
      ]
     },
     "metadata": {},
     "output_type": "display_data"
    },
    {
     "data": {
      "application/vnd.jupyter.widget-view+json": {
       "model_id": "89bc18b3a1b84ed5aed86f130d34acef",
       "version_major": 2,
       "version_minor": 0
      },
      "text/plain": [
       "  0%|          | 0/1 [00:00<?, ?it/s]"
      ]
     },
     "metadata": {},
     "output_type": "display_data"
    },
    {
     "data": {
      "application/vnd.jupyter.widget-view+json": {
       "model_id": "dd88be89e48b4a02a7b1b693d53c1378",
       "version_major": 2,
       "version_minor": 0
      },
      "text/plain": [
       "  0%|          | 0/1 [00:00<?, ?it/s]"
      ]
     },
     "metadata": {},
     "output_type": "display_data"
    },
    {
     "data": {
      "application/vnd.jupyter.widget-view+json": {
       "model_id": "6f3ed14120834005902ab1d7fcba7d9c",
       "version_major": 2,
       "version_minor": 0
      },
      "text/plain": [
       "  0%|          | 0/1 [00:00<?, ?it/s]"
      ]
     },
     "metadata": {},
     "output_type": "display_data"
    },
    {
     "data": {
      "application/vnd.jupyter.widget-view+json": {
       "model_id": "3f7fc0bcbbd34fa888542074e50258fc",
       "version_major": 2,
       "version_minor": 0
      },
      "text/plain": [
       "  0%|          | 0/1 [00:00<?, ?it/s]"
      ]
     },
     "metadata": {},
     "output_type": "display_data"
    },
    {
     "data": {
      "application/vnd.jupyter.widget-view+json": {
       "model_id": "6a90ff52ad3a4ea08a41fe83f017d1bc",
       "version_major": 2,
       "version_minor": 0
      },
      "text/plain": [
       "  0%|          | 0/1 [00:00<?, ?it/s]"
      ]
     },
     "metadata": {},
     "output_type": "display_data"
    },
    {
     "data": {
      "application/vnd.jupyter.widget-view+json": {
       "model_id": "325b3d9580314bf7ae38b089ddeac84c",
       "version_major": 2,
       "version_minor": 0
      },
      "text/plain": [
       "  0%|          | 0/2 [00:00<?, ?it/s]"
      ]
     },
     "metadata": {},
     "output_type": "display_data"
    },
    {
     "data": {
      "application/vnd.jupyter.widget-view+json": {
       "model_id": "8780a55c965441c5ba262cd58ca847d9",
       "version_major": 2,
       "version_minor": 0
      },
      "text/plain": [
       "  0%|          | 0/1 [00:00<?, ?it/s]"
      ]
     },
     "metadata": {},
     "output_type": "display_data"
    },
    {
     "data": {
      "application/vnd.jupyter.widget-view+json": {
       "model_id": "3d0e6da569e64e9180aaad31c14809e8",
       "version_major": 2,
       "version_minor": 0
      },
      "text/plain": [
       "  0%|          | 0/1 [00:00<?, ?it/s]"
      ]
     },
     "metadata": {},
     "output_type": "display_data"
    },
    {
     "data": {
      "application/vnd.jupyter.widget-view+json": {
       "model_id": "1c0d05945e8f4d27908c5a3b230689e3",
       "version_major": 2,
       "version_minor": 0
      },
      "text/plain": [
       "  0%|          | 0/1 [00:00<?, ?it/s]"
      ]
     },
     "metadata": {},
     "output_type": "display_data"
    },
    {
     "data": {
      "application/vnd.jupyter.widget-view+json": {
       "model_id": "153263bfd3ec4e14b9ec0e6786d88307",
       "version_major": 2,
       "version_minor": 0
      },
      "text/plain": [
       "  0%|          | 0/1 [00:00<?, ?it/s]"
      ]
     },
     "metadata": {},
     "output_type": "display_data"
    },
    {
     "data": {
      "application/vnd.jupyter.widget-view+json": {
       "model_id": "ab359832110f46b49d49822d44b89a50",
       "version_major": 2,
       "version_minor": 0
      },
      "text/plain": [
       "  0%|          | 0/4 [00:00<?, ?it/s]"
      ]
     },
     "metadata": {},
     "output_type": "display_data"
    },
    {
     "data": {
      "application/vnd.jupyter.widget-view+json": {
       "model_id": "27d88a17801e4897922a50ad1eddc145",
       "version_major": 2,
       "version_minor": 0
      },
      "text/plain": [
       "  0%|          | 0/2 [00:00<?, ?it/s]"
      ]
     },
     "metadata": {},
     "output_type": "display_data"
    },
    {
     "data": {
      "application/vnd.jupyter.widget-view+json": {
       "model_id": "0c4de02da92a49ae8f925adf9526feac",
       "version_major": 2,
       "version_minor": 0
      },
      "text/plain": [
       "  0%|          | 0/2 [00:00<?, ?it/s]"
      ]
     },
     "metadata": {},
     "output_type": "display_data"
    },
    {
     "data": {
      "application/vnd.jupyter.widget-view+json": {
       "model_id": "5c37f0427d1d4f128b94f705c80727e9",
       "version_major": 2,
       "version_minor": 0
      },
      "text/plain": [
       "  0%|          | 0/2 [00:00<?, ?it/s]"
      ]
     },
     "metadata": {},
     "output_type": "display_data"
    },
    {
     "data": {
      "application/vnd.jupyter.widget-view+json": {
       "model_id": "14d2136dabc14ca19af4007c4169f810",
       "version_major": 2,
       "version_minor": 0
      },
      "text/plain": [
       "  0%|          | 0/2 [00:00<?, ?it/s]"
      ]
     },
     "metadata": {},
     "output_type": "display_data"
    },
    {
     "data": {
      "application/vnd.jupyter.widget-view+json": {
       "model_id": "94bceaf21b304a97b9b8e8782a3064ef",
       "version_major": 2,
       "version_minor": 0
      },
      "text/plain": [
       "  0%|          | 0/2 [00:00<?, ?it/s]"
      ]
     },
     "metadata": {},
     "output_type": "display_data"
    },
    {
     "data": {
      "application/vnd.jupyter.widget-view+json": {
       "model_id": "85f91a8b9d9b413ba1d27b101d3b6b96",
       "version_major": 2,
       "version_minor": 0
      },
      "text/plain": [
       "  0%|          | 0/1 [00:00<?, ?it/s]"
      ]
     },
     "metadata": {},
     "output_type": "display_data"
    },
    {
     "data": {
      "application/vnd.jupyter.widget-view+json": {
       "model_id": "79b9c51e89e940f08846cf542172dd9d",
       "version_major": 2,
       "version_minor": 0
      },
      "text/plain": [
       "  0%|          | 0/1 [00:00<?, ?it/s]"
      ]
     },
     "metadata": {},
     "output_type": "display_data"
    },
    {
     "data": {
      "application/vnd.jupyter.widget-view+json": {
       "model_id": "b26f3fc1133642209ce0d34eb11f741a",
       "version_major": 2,
       "version_minor": 0
      },
      "text/plain": [
       "  0%|          | 0/1 [00:00<?, ?it/s]"
      ]
     },
     "metadata": {},
     "output_type": "display_data"
    },
    {
     "data": {
      "application/vnd.jupyter.widget-view+json": {
       "model_id": "8a034fdcd84a4975b6e8b16da57509a7",
       "version_major": 2,
       "version_minor": 0
      },
      "text/plain": [
       "  0%|          | 0/2 [00:00<?, ?it/s]"
      ]
     },
     "metadata": {},
     "output_type": "display_data"
    },
    {
     "data": {
      "application/vnd.jupyter.widget-view+json": {
       "model_id": "5a5441ddf48e463a9840d45c4f6ff15c",
       "version_major": 2,
       "version_minor": 0
      },
      "text/plain": [
       "  0%|          | 0/2 [00:00<?, ?it/s]"
      ]
     },
     "metadata": {},
     "output_type": "display_data"
    },
    {
     "data": {
      "application/vnd.jupyter.widget-view+json": {
       "model_id": "ab2cbdf2aa9144a7a50595a780a26935",
       "version_major": 2,
       "version_minor": 0
      },
      "text/plain": [
       "  0%|          | 0/2 [00:00<?, ?it/s]"
      ]
     },
     "metadata": {},
     "output_type": "display_data"
    },
    {
     "data": {
      "application/vnd.jupyter.widget-view+json": {
       "model_id": "d8a8223afa8641069a63bf5e602a5008",
       "version_major": 2,
       "version_minor": 0
      },
      "text/plain": [
       "  0%|          | 0/1 [00:00<?, ?it/s]"
      ]
     },
     "metadata": {},
     "output_type": "display_data"
    },
    {
     "data": {
      "application/vnd.jupyter.widget-view+json": {
       "model_id": "c671d048f04a4ad188854204f3317033",
       "version_major": 2,
       "version_minor": 0
      },
      "text/plain": [
       "  0%|          | 0/3 [00:00<?, ?it/s]"
      ]
     },
     "metadata": {},
     "output_type": "display_data"
    },
    {
     "data": {
      "application/vnd.jupyter.widget-view+json": {
       "model_id": "f83a03eae2c14f37b19640180c766d67",
       "version_major": 2,
       "version_minor": 0
      },
      "text/plain": [
       "  0%|          | 0/1 [00:00<?, ?it/s]"
      ]
     },
     "metadata": {},
     "output_type": "display_data"
    },
    {
     "data": {
      "application/vnd.jupyter.widget-view+json": {
       "model_id": "ac1579d3b564400ebf0eae34b328d77a",
       "version_major": 2,
       "version_minor": 0
      },
      "text/plain": [
       "  0%|          | 0/1 [00:00<?, ?it/s]"
      ]
     },
     "metadata": {},
     "output_type": "display_data"
    },
    {
     "data": {
      "application/vnd.jupyter.widget-view+json": {
       "model_id": "5909a7cc46864a1da7334c535dc76ec4",
       "version_major": 2,
       "version_minor": 0
      },
      "text/plain": [
       "  0%|          | 0/10 [00:00<?, ?it/s]"
      ]
     },
     "metadata": {},
     "output_type": "display_data"
    },
    {
     "data": {
      "application/vnd.jupyter.widget-view+json": {
       "model_id": "8d0882f4521049c1896a645d16048fca",
       "version_major": 2,
       "version_minor": 0
      },
      "text/plain": [
       "  0%|          | 0/1 [00:00<?, ?it/s]"
      ]
     },
     "metadata": {},
     "output_type": "display_data"
    },
    {
     "data": {
      "application/vnd.jupyter.widget-view+json": {
       "model_id": "ca796ed5d47e4b50a95a870b62fd14b0",
       "version_major": 2,
       "version_minor": 0
      },
      "text/plain": [
       "  0%|          | 0/1 [00:00<?, ?it/s]"
      ]
     },
     "metadata": {},
     "output_type": "display_data"
    },
    {
     "data": {
      "application/vnd.jupyter.widget-view+json": {
       "model_id": "671d465bafae4a8bb5c6339650597fb0",
       "version_major": 2,
       "version_minor": 0
      },
      "text/plain": [
       "  0%|          | 0/2 [00:00<?, ?it/s]"
      ]
     },
     "metadata": {},
     "output_type": "display_data"
    },
    {
     "data": {
      "application/vnd.jupyter.widget-view+json": {
       "model_id": "9f602f4bbe3b41ab9b0d6852b5b7345e",
       "version_major": 2,
       "version_minor": 0
      },
      "text/plain": [
       "  0%|          | 0/3 [00:00<?, ?it/s]"
      ]
     },
     "metadata": {},
     "output_type": "display_data"
    },
    {
     "data": {
      "application/vnd.jupyter.widget-view+json": {
       "model_id": "ed12333f9200439bbeaa1698f1512282",
       "version_major": 2,
       "version_minor": 0
      },
      "text/plain": [
       "  0%|          | 0/1 [00:00<?, ?it/s]"
      ]
     },
     "metadata": {},
     "output_type": "display_data"
    },
    {
     "data": {
      "application/vnd.jupyter.widget-view+json": {
       "model_id": "e78719e8e688438aa7f65a70294f8704",
       "version_major": 2,
       "version_minor": 0
      },
      "text/plain": [
       "  0%|          | 0/1 [00:00<?, ?it/s]"
      ]
     },
     "metadata": {},
     "output_type": "display_data"
    },
    {
     "data": {
      "application/vnd.jupyter.widget-view+json": {
       "model_id": "298d813d2b4f4c4ab62447dcfb4706cc",
       "version_major": 2,
       "version_minor": 0
      },
      "text/plain": [
       "  0%|          | 0/1 [00:00<?, ?it/s]"
      ]
     },
     "metadata": {},
     "output_type": "display_data"
    },
    {
     "data": {
      "application/vnd.jupyter.widget-view+json": {
       "model_id": "c31a11655a2e4eb3930f86db88dc4888",
       "version_major": 2,
       "version_minor": 0
      },
      "text/plain": [
       "  0%|          | 0/1 [00:00<?, ?it/s]"
      ]
     },
     "metadata": {},
     "output_type": "display_data"
    },
    {
     "data": {
      "application/vnd.jupyter.widget-view+json": {
       "model_id": "70e80e099e98443b85b6150ad72315f3",
       "version_major": 2,
       "version_minor": 0
      },
      "text/plain": [
       "  0%|          | 0/1 [00:00<?, ?it/s]"
      ]
     },
     "metadata": {},
     "output_type": "display_data"
    },
    {
     "data": {
      "application/vnd.jupyter.widget-view+json": {
       "model_id": "861f307634c14daeb9c04b788bccfd1c",
       "version_major": 2,
       "version_minor": 0
      },
      "text/plain": [
       "  0%|          | 0/1 [00:00<?, ?it/s]"
      ]
     },
     "metadata": {},
     "output_type": "display_data"
    },
    {
     "data": {
      "application/vnd.jupyter.widget-view+json": {
       "model_id": "5d42f1c2b2ce4643b107644c4963fd65",
       "version_major": 2,
       "version_minor": 0
      },
      "text/plain": [
       "  0%|          | 0/2 [00:00<?, ?it/s]"
      ]
     },
     "metadata": {},
     "output_type": "display_data"
    },
    {
     "data": {
      "application/vnd.jupyter.widget-view+json": {
       "model_id": "355417e6dc084b36aac98300ed8a6227",
       "version_major": 2,
       "version_minor": 0
      },
      "text/plain": [
       "  0%|          | 0/1 [00:00<?, ?it/s]"
      ]
     },
     "metadata": {},
     "output_type": "display_data"
    },
    {
     "data": {
      "application/vnd.jupyter.widget-view+json": {
       "model_id": "fbe30444f1ed4424b02fe8b15d6d9c91",
       "version_major": 2,
       "version_minor": 0
      },
      "text/plain": [
       "  0%|          | 0/1 [00:00<?, ?it/s]"
      ]
     },
     "metadata": {},
     "output_type": "display_data"
    },
    {
     "data": {
      "application/vnd.jupyter.widget-view+json": {
       "model_id": "dfd491f37b8343b68162194335b6ef26",
       "version_major": 2,
       "version_minor": 0
      },
      "text/plain": [
       "  0%|          | 0/2 [00:00<?, ?it/s]"
      ]
     },
     "metadata": {},
     "output_type": "display_data"
    },
    {
     "data": {
      "application/vnd.jupyter.widget-view+json": {
       "model_id": "f628c344a17d444f9f22fb32b8ec6722",
       "version_major": 2,
       "version_minor": 0
      },
      "text/plain": [
       "  0%|          | 0/1 [00:00<?, ?it/s]"
      ]
     },
     "metadata": {},
     "output_type": "display_data"
    },
    {
     "data": {
      "application/vnd.jupyter.widget-view+json": {
       "model_id": "54833f3aca65470b844ac9270738f234",
       "version_major": 2,
       "version_minor": 0
      },
      "text/plain": [
       "  0%|          | 0/1 [00:00<?, ?it/s]"
      ]
     },
     "metadata": {},
     "output_type": "display_data"
    },
    {
     "data": {
      "application/vnd.jupyter.widget-view+json": {
       "model_id": "5bbeb4587cea4b5c8ccd7e385a8b6f2f",
       "version_major": 2,
       "version_minor": 0
      },
      "text/plain": [
       "  0%|          | 0/2 [00:00<?, ?it/s]"
      ]
     },
     "metadata": {},
     "output_type": "display_data"
    },
    {
     "data": {
      "application/vnd.jupyter.widget-view+json": {
       "model_id": "a67ca6865a444f2cb20dac488a1879dd",
       "version_major": 2,
       "version_minor": 0
      },
      "text/plain": [
       "  0%|          | 0/4 [00:00<?, ?it/s]"
      ]
     },
     "metadata": {},
     "output_type": "display_data"
    },
    {
     "data": {
      "application/vnd.jupyter.widget-view+json": {
       "model_id": "fcb7b21db90e404eae4a2bea0e1c1a65",
       "version_major": 2,
       "version_minor": 0
      },
      "text/plain": [
       "  0%|          | 0/1 [00:00<?, ?it/s]"
      ]
     },
     "metadata": {},
     "output_type": "display_data"
    },
    {
     "data": {
      "application/vnd.jupyter.widget-view+json": {
       "model_id": "23b9c56ef4fc475f911b0138c2b3df67",
       "version_major": 2,
       "version_minor": 0
      },
      "text/plain": [
       "  0%|          | 0/1 [00:00<?, ?it/s]"
      ]
     },
     "metadata": {},
     "output_type": "display_data"
    },
    {
     "data": {
      "application/vnd.jupyter.widget-view+json": {
       "model_id": "66f0bedb6a7b491198cddbf09fb44c74",
       "version_major": 2,
       "version_minor": 0
      },
      "text/plain": [
       "  0%|          | 0/1 [00:00<?, ?it/s]"
      ]
     },
     "metadata": {},
     "output_type": "display_data"
    },
    {
     "data": {
      "application/vnd.jupyter.widget-view+json": {
       "model_id": "08975fe061774016bcdb171875a40e1b",
       "version_major": 2,
       "version_minor": 0
      },
      "text/plain": [
       "  0%|          | 0/1 [00:00<?, ?it/s]"
      ]
     },
     "metadata": {},
     "output_type": "display_data"
    },
    {
     "data": {
      "application/vnd.jupyter.widget-view+json": {
       "model_id": "8a40d649c1bb4f309f8c579d6ced4952",
       "version_major": 2,
       "version_minor": 0
      },
      "text/plain": [
       "  0%|          | 0/1 [00:00<?, ?it/s]"
      ]
     },
     "metadata": {},
     "output_type": "display_data"
    },
    {
     "data": {
      "application/vnd.jupyter.widget-view+json": {
       "model_id": "0f3500d16a314bdca1edc2d99a714f73",
       "version_major": 2,
       "version_minor": 0
      },
      "text/plain": [
       "  0%|          | 0/1 [00:00<?, ?it/s]"
      ]
     },
     "metadata": {},
     "output_type": "display_data"
    },
    {
     "data": {
      "application/vnd.jupyter.widget-view+json": {
       "model_id": "1738241080ee4b3ebcb33c9d9584a037",
       "version_major": 2,
       "version_minor": 0
      },
      "text/plain": [
       "  0%|          | 0/1 [00:00<?, ?it/s]"
      ]
     },
     "metadata": {},
     "output_type": "display_data"
    },
    {
     "data": {
      "application/vnd.jupyter.widget-view+json": {
       "model_id": "847f95c0e1a14944a098e408d1e7f425",
       "version_major": 2,
       "version_minor": 0
      },
      "text/plain": [
       "  0%|          | 0/1 [00:00<?, ?it/s]"
      ]
     },
     "metadata": {},
     "output_type": "display_data"
    },
    {
     "data": {
      "application/vnd.jupyter.widget-view+json": {
       "model_id": "89f7de967bdb42708d86da72e56d8168",
       "version_major": 2,
       "version_minor": 0
      },
      "text/plain": [
       "  0%|          | 0/4 [00:00<?, ?it/s]"
      ]
     },
     "metadata": {},
     "output_type": "display_data"
    },
    {
     "data": {
      "application/vnd.jupyter.widget-view+json": {
       "model_id": "469a442dc2134e5faee1a1b1da1904b2",
       "version_major": 2,
       "version_minor": 0
      },
      "text/plain": [
       "  0%|          | 0/1 [00:00<?, ?it/s]"
      ]
     },
     "metadata": {},
     "output_type": "display_data"
    },
    {
     "data": {
      "application/vnd.jupyter.widget-view+json": {
       "model_id": "f5c3488a60994b1586b193fc922262f1",
       "version_major": 2,
       "version_minor": 0
      },
      "text/plain": [
       "  0%|          | 0/9 [00:00<?, ?it/s]"
      ]
     },
     "metadata": {},
     "output_type": "display_data"
    },
    {
     "data": {
      "application/vnd.jupyter.widget-view+json": {
       "model_id": "e458e0bcb6664e33997324553e9cc832",
       "version_major": 2,
       "version_minor": 0
      },
      "text/plain": [
       "  0%|          | 0/1 [00:00<?, ?it/s]"
      ]
     },
     "metadata": {},
     "output_type": "display_data"
    },
    {
     "data": {
      "application/vnd.jupyter.widget-view+json": {
       "model_id": "61a68abfa7954b28a276237d3bdc7305",
       "version_major": 2,
       "version_minor": 0
      },
      "text/plain": [
       "  0%|          | 0/1 [00:00<?, ?it/s]"
      ]
     },
     "metadata": {},
     "output_type": "display_data"
    },
    {
     "data": {
      "application/vnd.jupyter.widget-view+json": {
       "model_id": "6e48643353034edba7c930bee415a72d",
       "version_major": 2,
       "version_minor": 0
      },
      "text/plain": [
       "  0%|          | 0/4 [00:00<?, ?it/s]"
      ]
     },
     "metadata": {},
     "output_type": "display_data"
    },
    {
     "data": {
      "application/vnd.jupyter.widget-view+json": {
       "model_id": "b885d6329a4e4e1d84b60b920435611c",
       "version_major": 2,
       "version_minor": 0
      },
      "text/plain": [
       "  0%|          | 0/5 [00:00<?, ?it/s]"
      ]
     },
     "metadata": {},
     "output_type": "display_data"
    },
    {
     "data": {
      "application/vnd.jupyter.widget-view+json": {
       "model_id": "c428b1fdc17848259435933ce7fefce5",
       "version_major": 2,
       "version_minor": 0
      },
      "text/plain": [
       "  0%|          | 0/1 [00:00<?, ?it/s]"
      ]
     },
     "metadata": {},
     "output_type": "display_data"
    },
    {
     "data": {
      "application/vnd.jupyter.widget-view+json": {
       "model_id": "20f51c9e097041b5a8275b7ae74446aa",
       "version_major": 2,
       "version_minor": 0
      },
      "text/plain": [
       "  0%|          | 0/1 [00:00<?, ?it/s]"
      ]
     },
     "metadata": {},
     "output_type": "display_data"
    },
    {
     "data": {
      "application/vnd.jupyter.widget-view+json": {
       "model_id": "3888d81cf15a453fb65a0c1942531fbe",
       "version_major": 2,
       "version_minor": 0
      },
      "text/plain": [
       "  0%|          | 0/2 [00:00<?, ?it/s]"
      ]
     },
     "metadata": {},
     "output_type": "display_data"
    },
    {
     "data": {
      "application/vnd.jupyter.widget-view+json": {
       "model_id": "03ddaa44ac0944a080d5211d887fdfa6",
       "version_major": 2,
       "version_minor": 0
      },
      "text/plain": [
       "  0%|          | 0/1 [00:00<?, ?it/s]"
      ]
     },
     "metadata": {},
     "output_type": "display_data"
    },
    {
     "data": {
      "application/vnd.jupyter.widget-view+json": {
       "model_id": "7d153d90454e40f7a4286934149f003d",
       "version_major": 2,
       "version_minor": 0
      },
      "text/plain": [
       "  0%|          | 0/1 [00:00<?, ?it/s]"
      ]
     },
     "metadata": {},
     "output_type": "display_data"
    },
    {
     "data": {
      "application/vnd.jupyter.widget-view+json": {
       "model_id": "ff12a8452c6540ee83290beece6014d4",
       "version_major": 2,
       "version_minor": 0
      },
      "text/plain": [
       "  0%|          | 0/1 [00:00<?, ?it/s]"
      ]
     },
     "metadata": {},
     "output_type": "display_data"
    },
    {
     "data": {
      "application/vnd.jupyter.widget-view+json": {
       "model_id": "b12fd62bb0544c948e7861914a7681a9",
       "version_major": 2,
       "version_minor": 0
      },
      "text/plain": [
       "  0%|          | 0/1 [00:00<?, ?it/s]"
      ]
     },
     "metadata": {},
     "output_type": "display_data"
    },
    {
     "data": {
      "application/vnd.jupyter.widget-view+json": {
       "model_id": "69b9f58c254e4bfb8b68bacc465bf1fe",
       "version_major": 2,
       "version_minor": 0
      },
      "text/plain": [
       "  0%|          | 0/1 [00:00<?, ?it/s]"
      ]
     },
     "metadata": {},
     "output_type": "display_data"
    },
    {
     "data": {
      "application/vnd.jupyter.widget-view+json": {
       "model_id": "e41c5752157e418d95bde25d54874e07",
       "version_major": 2,
       "version_minor": 0
      },
      "text/plain": [
       "  0%|          | 0/1 [00:00<?, ?it/s]"
      ]
     },
     "metadata": {},
     "output_type": "display_data"
    },
    {
     "data": {
      "application/vnd.jupyter.widget-view+json": {
       "model_id": "c1287685f117402bac96ffd4eebbfa78",
       "version_major": 2,
       "version_minor": 0
      },
      "text/plain": [
       "  0%|          | 0/3 [00:00<?, ?it/s]"
      ]
     },
     "metadata": {},
     "output_type": "display_data"
    },
    {
     "data": {
      "application/vnd.jupyter.widget-view+json": {
       "model_id": "1f97d6c2c4364ea6b17f07f0d33c1598",
       "version_major": 2,
       "version_minor": 0
      },
      "text/plain": [
       "  0%|          | 0/1 [00:00<?, ?it/s]"
      ]
     },
     "metadata": {},
     "output_type": "display_data"
    },
    {
     "data": {
      "application/vnd.jupyter.widget-view+json": {
       "model_id": "4a53dd39f771414d8e175fcaedbed5f3",
       "version_major": 2,
       "version_minor": 0
      },
      "text/plain": [
       "  0%|          | 0/2 [00:00<?, ?it/s]"
      ]
     },
     "metadata": {},
     "output_type": "display_data"
    },
    {
     "data": {
      "application/vnd.jupyter.widget-view+json": {
       "model_id": "c4a1f566e48d4c2fa28d8367354016e1",
       "version_major": 2,
       "version_minor": 0
      },
      "text/plain": [
       "  0%|          | 0/3 [00:00<?, ?it/s]"
      ]
     },
     "metadata": {},
     "output_type": "display_data"
    },
    {
     "data": {
      "application/vnd.jupyter.widget-view+json": {
       "model_id": "cd6e1464e97047b085474248e6815729",
       "version_major": 2,
       "version_minor": 0
      },
      "text/plain": [
       "  0%|          | 0/1 [00:00<?, ?it/s]"
      ]
     },
     "metadata": {},
     "output_type": "display_data"
    },
    {
     "data": {
      "application/vnd.jupyter.widget-view+json": {
       "model_id": "14fe025674fc426cb43fad6c7aee5af1",
       "version_major": 2,
       "version_minor": 0
      },
      "text/plain": [
       "  0%|          | 0/2 [00:00<?, ?it/s]"
      ]
     },
     "metadata": {},
     "output_type": "display_data"
    },
    {
     "data": {
      "application/vnd.jupyter.widget-view+json": {
       "model_id": "49ea16f56a10440e88cf723efa073fd9",
       "version_major": 2,
       "version_minor": 0
      },
      "text/plain": [
       "  0%|          | 0/1 [00:00<?, ?it/s]"
      ]
     },
     "metadata": {},
     "output_type": "display_data"
    },
    {
     "data": {
      "application/vnd.jupyter.widget-view+json": {
       "model_id": "4fb6be86cc33416e83751d4e89f4b8e5",
       "version_major": 2,
       "version_minor": 0
      },
      "text/plain": [
       "  0%|          | 0/1 [00:00<?, ?it/s]"
      ]
     },
     "metadata": {},
     "output_type": "display_data"
    },
    {
     "data": {
      "application/vnd.jupyter.widget-view+json": {
       "model_id": "70e13eb6980e427a90ffbe58dd83ece7",
       "version_major": 2,
       "version_minor": 0
      },
      "text/plain": [
       "  0%|          | 0/2 [00:00<?, ?it/s]"
      ]
     },
     "metadata": {},
     "output_type": "display_data"
    },
    {
     "data": {
      "application/vnd.jupyter.widget-view+json": {
       "model_id": "930c3d492b2d46a4b0596f1a46165f2d",
       "version_major": 2,
       "version_minor": 0
      },
      "text/plain": [
       "  0%|          | 0/2 [00:00<?, ?it/s]"
      ]
     },
     "metadata": {},
     "output_type": "display_data"
    },
    {
     "data": {
      "application/vnd.jupyter.widget-view+json": {
       "model_id": "927f3605835c4b83bee6af4ee7aee957",
       "version_major": 2,
       "version_minor": 0
      },
      "text/plain": [
       "  0%|          | 0/2 [00:00<?, ?it/s]"
      ]
     },
     "metadata": {},
     "output_type": "display_data"
    },
    {
     "data": {
      "application/vnd.jupyter.widget-view+json": {
       "model_id": "d6692bc089f14d2fa0dca600e96a0d5c",
       "version_major": 2,
       "version_minor": 0
      },
      "text/plain": [
       "  0%|          | 0/1 [00:00<?, ?it/s]"
      ]
     },
     "metadata": {},
     "output_type": "display_data"
    },
    {
     "data": {
      "application/vnd.jupyter.widget-view+json": {
       "model_id": "0582152e7df64007aba0d87c94b9a0d6",
       "version_major": 2,
       "version_minor": 0
      },
      "text/plain": [
       "  0%|          | 0/1 [00:00<?, ?it/s]"
      ]
     },
     "metadata": {},
     "output_type": "display_data"
    },
    {
     "data": {
      "application/vnd.jupyter.widget-view+json": {
       "model_id": "6f929918277a4a0bb8307b436ba1a12a",
       "version_major": 2,
       "version_minor": 0
      },
      "text/plain": [
       "  0%|          | 0/1 [00:00<?, ?it/s]"
      ]
     },
     "metadata": {},
     "output_type": "display_data"
    },
    {
     "data": {
      "application/vnd.jupyter.widget-view+json": {
       "model_id": "297ed96d99834fe4a93e4bcc150da120",
       "version_major": 2,
       "version_minor": 0
      },
      "text/plain": [
       "  0%|          | 0/2 [00:00<?, ?it/s]"
      ]
     },
     "metadata": {},
     "output_type": "display_data"
    },
    {
     "data": {
      "application/vnd.jupyter.widget-view+json": {
       "model_id": "246c6d1096774ce6986024255c14433d",
       "version_major": 2,
       "version_minor": 0
      },
      "text/plain": [
       "  0%|          | 0/2 [00:00<?, ?it/s]"
      ]
     },
     "metadata": {},
     "output_type": "display_data"
    },
    {
     "data": {
      "application/vnd.jupyter.widget-view+json": {
       "model_id": "1a6522ac0b444e3791a6c9c7ff8a2752",
       "version_major": 2,
       "version_minor": 0
      },
      "text/plain": [
       "  0%|          | 0/1 [00:00<?, ?it/s]"
      ]
     },
     "metadata": {},
     "output_type": "display_data"
    },
    {
     "data": {
      "application/vnd.jupyter.widget-view+json": {
       "model_id": "4d1edaf360924062a4f4b7c05728db80",
       "version_major": 2,
       "version_minor": 0
      },
      "text/plain": [
       "  0%|          | 0/1 [00:00<?, ?it/s]"
      ]
     },
     "metadata": {},
     "output_type": "display_data"
    },
    {
     "data": {
      "application/vnd.jupyter.widget-view+json": {
       "model_id": "b314ef3fadf94b12ad54b50f0cee0ae9",
       "version_major": 2,
       "version_minor": 0
      },
      "text/plain": [
       "  0%|          | 0/1 [00:00<?, ?it/s]"
      ]
     },
     "metadata": {},
     "output_type": "display_data"
    },
    {
     "data": {
      "application/vnd.jupyter.widget-view+json": {
       "model_id": "0df776dd045b4148ba0624e8c1978d62",
       "version_major": 2,
       "version_minor": 0
      },
      "text/plain": [
       "  0%|          | 0/1 [00:00<?, ?it/s]"
      ]
     },
     "metadata": {},
     "output_type": "display_data"
    },
    {
     "data": {
      "application/vnd.jupyter.widget-view+json": {
       "model_id": "931fe868c35348dea676cd5b76d1f041",
       "version_major": 2,
       "version_minor": 0
      },
      "text/plain": [
       "  0%|          | 0/1 [00:00<?, ?it/s]"
      ]
     },
     "metadata": {},
     "output_type": "display_data"
    },
    {
     "data": {
      "application/vnd.jupyter.widget-view+json": {
       "model_id": "1ce5622846da4435a820fb54338339ab",
       "version_major": 2,
       "version_minor": 0
      },
      "text/plain": [
       "  0%|          | 0/1 [00:00<?, ?it/s]"
      ]
     },
     "metadata": {},
     "output_type": "display_data"
    },
    {
     "data": {
      "application/vnd.jupyter.widget-view+json": {
       "model_id": "6936c686e11342fc8234d67888121853",
       "version_major": 2,
       "version_minor": 0
      },
      "text/plain": [
       "  0%|          | 0/1 [00:00<?, ?it/s]"
      ]
     },
     "metadata": {},
     "output_type": "display_data"
    },
    {
     "data": {
      "application/vnd.jupyter.widget-view+json": {
       "model_id": "26443db4dfa24c2c9b0cbb840d33cb57",
       "version_major": 2,
       "version_minor": 0
      },
      "text/plain": [
       "  0%|          | 0/1 [00:00<?, ?it/s]"
      ]
     },
     "metadata": {},
     "output_type": "display_data"
    },
    {
     "data": {
      "application/vnd.jupyter.widget-view+json": {
       "model_id": "b6b8e4493ff540f286368947ab529207",
       "version_major": 2,
       "version_minor": 0
      },
      "text/plain": [
       "  0%|          | 0/1 [00:00<?, ?it/s]"
      ]
     },
     "metadata": {},
     "output_type": "display_data"
    },
    {
     "data": {
      "application/vnd.jupyter.widget-view+json": {
       "model_id": "726deb34c1464de18a97df41083ebb5e",
       "version_major": 2,
       "version_minor": 0
      },
      "text/plain": [
       "  0%|          | 0/1 [00:00<?, ?it/s]"
      ]
     },
     "metadata": {},
     "output_type": "display_data"
    },
    {
     "data": {
      "application/vnd.jupyter.widget-view+json": {
       "model_id": "d6edea20d6fd45d9bbcf51c1beaba843",
       "version_major": 2,
       "version_minor": 0
      },
      "text/plain": [
       "  0%|          | 0/2 [00:00<?, ?it/s]"
      ]
     },
     "metadata": {},
     "output_type": "display_data"
    },
    {
     "data": {
      "application/vnd.jupyter.widget-view+json": {
       "model_id": "26f6fac4751a4a509b1d7e2f6f300811",
       "version_major": 2,
       "version_minor": 0
      },
      "text/plain": [
       "  0%|          | 0/1 [00:00<?, ?it/s]"
      ]
     },
     "metadata": {},
     "output_type": "display_data"
    },
    {
     "data": {
      "application/vnd.jupyter.widget-view+json": {
       "model_id": "0b212beafbb94f7e8cda4345533c9778",
       "version_major": 2,
       "version_minor": 0
      },
      "text/plain": [
       "  0%|          | 0/2 [00:00<?, ?it/s]"
      ]
     },
     "metadata": {},
     "output_type": "display_data"
    },
    {
     "data": {
      "application/vnd.jupyter.widget-view+json": {
       "model_id": "e6c226a3f26c4ca4b27d2ab134d22e89",
       "version_major": 2,
       "version_minor": 0
      },
      "text/plain": [
       "  0%|          | 0/1 [00:00<?, ?it/s]"
      ]
     },
     "metadata": {},
     "output_type": "display_data"
    },
    {
     "data": {
      "application/vnd.jupyter.widget-view+json": {
       "model_id": "04be7f398e1a4dc3add3a4bec98faf0c",
       "version_major": 2,
       "version_minor": 0
      },
      "text/plain": [
       "  0%|          | 0/1 [00:00<?, ?it/s]"
      ]
     },
     "metadata": {},
     "output_type": "display_data"
    },
    {
     "data": {
      "application/vnd.jupyter.widget-view+json": {
       "model_id": "32c3d40a458a4eddae6639bbb8c16cfc",
       "version_major": 2,
       "version_minor": 0
      },
      "text/plain": [
       "  0%|          | 0/1 [00:00<?, ?it/s]"
      ]
     },
     "metadata": {},
     "output_type": "display_data"
    },
    {
     "data": {
      "application/vnd.jupyter.widget-view+json": {
       "model_id": "c9e12d7e05a947629556846c35709294",
       "version_major": 2,
       "version_minor": 0
      },
      "text/plain": [
       "  0%|          | 0/1 [00:00<?, ?it/s]"
      ]
     },
     "metadata": {},
     "output_type": "display_data"
    },
    {
     "data": {
      "application/vnd.jupyter.widget-view+json": {
       "model_id": "335a6ae3f0ad4b66905ee50f6574f91e",
       "version_major": 2,
       "version_minor": 0
      },
      "text/plain": [
       "  0%|          | 0/1 [00:00<?, ?it/s]"
      ]
     },
     "metadata": {},
     "output_type": "display_data"
    },
    {
     "data": {
      "application/vnd.jupyter.widget-view+json": {
       "model_id": "159a6dffc6c1444cafe64407e8594a93",
       "version_major": 2,
       "version_minor": 0
      },
      "text/plain": [
       "  0%|          | 0/1 [00:00<?, ?it/s]"
      ]
     },
     "metadata": {},
     "output_type": "display_data"
    },
    {
     "data": {
      "application/vnd.jupyter.widget-view+json": {
       "model_id": "807d9aaa9e3346c2b522030826b628a2",
       "version_major": 2,
       "version_minor": 0
      },
      "text/plain": [
       "  0%|          | 0/3 [00:00<?, ?it/s]"
      ]
     },
     "metadata": {},
     "output_type": "display_data"
    },
    {
     "data": {
      "application/vnd.jupyter.widget-view+json": {
       "model_id": "c5ed1644cc2c483b859fcc9a05f517fa",
       "version_major": 2,
       "version_minor": 0
      },
      "text/plain": [
       "  0%|          | 0/1 [00:00<?, ?it/s]"
      ]
     },
     "metadata": {},
     "output_type": "display_data"
    },
    {
     "data": {
      "application/vnd.jupyter.widget-view+json": {
       "model_id": "d6eb545ac4fc4b7c808457b4dde7cae7",
       "version_major": 2,
       "version_minor": 0
      },
      "text/plain": [
       "  0%|          | 0/1 [00:00<?, ?it/s]"
      ]
     },
     "metadata": {},
     "output_type": "display_data"
    },
    {
     "data": {
      "application/vnd.jupyter.widget-view+json": {
       "model_id": "dca3d33fa7094d7496b96a691f4c59c3",
       "version_major": 2,
       "version_minor": 0
      },
      "text/plain": [
       "  0%|          | 0/1 [00:00<?, ?it/s]"
      ]
     },
     "metadata": {},
     "output_type": "display_data"
    },
    {
     "data": {
      "application/vnd.jupyter.widget-view+json": {
       "model_id": "3bbcf78176ec40eb8b2487cefd017c91",
       "version_major": 2,
       "version_minor": 0
      },
      "text/plain": [
       "  0%|          | 0/1 [00:00<?, ?it/s]"
      ]
     },
     "metadata": {},
     "output_type": "display_data"
    },
    {
     "data": {
      "application/vnd.jupyter.widget-view+json": {
       "model_id": "8c3b6aac0e2141068f4ea723ace564d1",
       "version_major": 2,
       "version_minor": 0
      },
      "text/plain": [
       "  0%|          | 0/1 [00:00<?, ?it/s]"
      ]
     },
     "metadata": {},
     "output_type": "display_data"
    },
    {
     "data": {
      "application/vnd.jupyter.widget-view+json": {
       "model_id": "b4c5b649fd6741f494afc60c5ca9063b",
       "version_major": 2,
       "version_minor": 0
      },
      "text/plain": [
       "  0%|          | 0/1 [00:00<?, ?it/s]"
      ]
     },
     "metadata": {},
     "output_type": "display_data"
    },
    {
     "data": {
      "application/vnd.jupyter.widget-view+json": {
       "model_id": "300492a106954ddfbb6487c607191a0d",
       "version_major": 2,
       "version_minor": 0
      },
      "text/plain": [
       "  0%|          | 0/1 [00:00<?, ?it/s]"
      ]
     },
     "metadata": {},
     "output_type": "display_data"
    },
    {
     "data": {
      "application/vnd.jupyter.widget-view+json": {
       "model_id": "9684c7cd57c14724a7d7b4bada8e94f8",
       "version_major": 2,
       "version_minor": 0
      },
      "text/plain": [
       "  0%|          | 0/1 [00:00<?, ?it/s]"
      ]
     },
     "metadata": {},
     "output_type": "display_data"
    },
    {
     "data": {
      "application/vnd.jupyter.widget-view+json": {
       "model_id": "e6402fdbd5a242f7933cbada0856bc38",
       "version_major": 2,
       "version_minor": 0
      },
      "text/plain": [
       "  0%|          | 0/1 [00:00<?, ?it/s]"
      ]
     },
     "metadata": {},
     "output_type": "display_data"
    },
    {
     "data": {
      "application/vnd.jupyter.widget-view+json": {
       "model_id": "a9b9b70928b94162ac268d0d1b1a264b",
       "version_major": 2,
       "version_minor": 0
      },
      "text/plain": [
       "  0%|          | 0/1 [00:00<?, ?it/s]"
      ]
     },
     "metadata": {},
     "output_type": "display_data"
    },
    {
     "data": {
      "application/vnd.jupyter.widget-view+json": {
       "model_id": "41835896a72047c288c7143ab022db2e",
       "version_major": 2,
       "version_minor": 0
      },
      "text/plain": [
       "  0%|          | 0/1 [00:00<?, ?it/s]"
      ]
     },
     "metadata": {},
     "output_type": "display_data"
    },
    {
     "data": {
      "application/vnd.jupyter.widget-view+json": {
       "model_id": "e9d823f5c53b4d4297b04657d361dff2",
       "version_major": 2,
       "version_minor": 0
      },
      "text/plain": [
       "  0%|          | 0/1 [00:00<?, ?it/s]"
      ]
     },
     "metadata": {},
     "output_type": "display_data"
    },
    {
     "data": {
      "application/vnd.jupyter.widget-view+json": {
       "model_id": "7f9f219f9e3347ada5799e58f5b437e3",
       "version_major": 2,
       "version_minor": 0
      },
      "text/plain": [
       "  0%|          | 0/1 [00:00<?, ?it/s]"
      ]
     },
     "metadata": {},
     "output_type": "display_data"
    },
    {
     "data": {
      "application/vnd.jupyter.widget-view+json": {
       "model_id": "d36edb3543fc4dd885dad30185d31291",
       "version_major": 2,
       "version_minor": 0
      },
      "text/plain": [
       "  0%|          | 0/1 [00:00<?, ?it/s]"
      ]
     },
     "metadata": {},
     "output_type": "display_data"
    },
    {
     "data": {
      "application/vnd.jupyter.widget-view+json": {
       "model_id": "2d8e23ab535248548b4e22f435ee4185",
       "version_major": 2,
       "version_minor": 0
      },
      "text/plain": [
       "  0%|          | 0/1 [00:00<?, ?it/s]"
      ]
     },
     "metadata": {},
     "output_type": "display_data"
    },
    {
     "data": {
      "application/vnd.jupyter.widget-view+json": {
       "model_id": "5c77a4d6be244abdb7058b658bdb29ee",
       "version_major": 2,
       "version_minor": 0
      },
      "text/plain": [
       "  0%|          | 0/1 [00:00<?, ?it/s]"
      ]
     },
     "metadata": {},
     "output_type": "display_data"
    },
    {
     "data": {
      "application/vnd.jupyter.widget-view+json": {
       "model_id": "8037c5f369244df595e691809d90db71",
       "version_major": 2,
       "version_minor": 0
      },
      "text/plain": [
       "  0%|          | 0/1 [00:00<?, ?it/s]"
      ]
     },
     "metadata": {},
     "output_type": "display_data"
    },
    {
     "data": {
      "application/vnd.jupyter.widget-view+json": {
       "model_id": "3f1974c835424b2494d6520f8db3a714",
       "version_major": 2,
       "version_minor": 0
      },
      "text/plain": [
       "  0%|          | 0/1 [00:00<?, ?it/s]"
      ]
     },
     "metadata": {},
     "output_type": "display_data"
    },
    {
     "data": {
      "application/vnd.jupyter.widget-view+json": {
       "model_id": "bddaf3fbf36046fd824ab64050f94114",
       "version_major": 2,
       "version_minor": 0
      },
      "text/plain": [
       "  0%|          | 0/1 [00:00<?, ?it/s]"
      ]
     },
     "metadata": {},
     "output_type": "display_data"
    },
    {
     "data": {
      "application/vnd.jupyter.widget-view+json": {
       "model_id": "6ff84be51207401cb20748e8d9143bc4",
       "version_major": 2,
       "version_minor": 0
      },
      "text/plain": [
       "  0%|          | 0/1 [00:00<?, ?it/s]"
      ]
     },
     "metadata": {},
     "output_type": "display_data"
    },
    {
     "data": {
      "application/vnd.jupyter.widget-view+json": {
       "model_id": "a06280d4170847a6985475c3c0985fdd",
       "version_major": 2,
       "version_minor": 0
      },
      "text/plain": [
       "  0%|          | 0/1 [00:00<?, ?it/s]"
      ]
     },
     "metadata": {},
     "output_type": "display_data"
    },
    {
     "data": {
      "application/vnd.jupyter.widget-view+json": {
       "model_id": "8323c38b295b475fa3a35bfe0d30af0b",
       "version_major": 2,
       "version_minor": 0
      },
      "text/plain": [
       "  0%|          | 0/1 [00:00<?, ?it/s]"
      ]
     },
     "metadata": {},
     "output_type": "display_data"
    },
    {
     "data": {
      "application/vnd.jupyter.widget-view+json": {
       "model_id": "a7d3b0481c8c4d3e839ef1aa410732e0",
       "version_major": 2,
       "version_minor": 0
      },
      "text/plain": [
       "  0%|          | 0/1 [00:00<?, ?it/s]"
      ]
     },
     "metadata": {},
     "output_type": "display_data"
    },
    {
     "data": {
      "application/vnd.jupyter.widget-view+json": {
       "model_id": "96a731a8a6d84253bb582e27f75e2363",
       "version_major": 2,
       "version_minor": 0
      },
      "text/plain": [
       "  0%|          | 0/1 [00:00<?, ?it/s]"
      ]
     },
     "metadata": {},
     "output_type": "display_data"
    },
    {
     "data": {
      "application/vnd.jupyter.widget-view+json": {
       "model_id": "cc70d51205bf4847a9b9221b5e957a35",
       "version_major": 2,
       "version_minor": 0
      },
      "text/plain": [
       "  0%|          | 0/1 [00:00<?, ?it/s]"
      ]
     },
     "metadata": {},
     "output_type": "display_data"
    },
    {
     "data": {
      "application/vnd.jupyter.widget-view+json": {
       "model_id": "54f381bfbf6e46259e00551db8b67d02",
       "version_major": 2,
       "version_minor": 0
      },
      "text/plain": [
       "  0%|          | 0/1 [00:00<?, ?it/s]"
      ]
     },
     "metadata": {},
     "output_type": "display_data"
    },
    {
     "data": {
      "application/vnd.jupyter.widget-view+json": {
       "model_id": "6d0f55612dfd4cfd9be696d97e913bbc",
       "version_major": 2,
       "version_minor": 0
      },
      "text/plain": [
       "  0%|          | 0/1 [00:00<?, ?it/s]"
      ]
     },
     "metadata": {},
     "output_type": "display_data"
    },
    {
     "data": {
      "application/vnd.jupyter.widget-view+json": {
       "model_id": "39d2015a99ae42c0a83b72bd514d6db4",
       "version_major": 2,
       "version_minor": 0
      },
      "text/plain": [
       "  0%|          | 0/1 [00:00<?, ?it/s]"
      ]
     },
     "metadata": {},
     "output_type": "display_data"
    },
    {
     "data": {
      "application/vnd.jupyter.widget-view+json": {
       "model_id": "c8a660ae0fbc4e0cb34be48cfebb0358",
       "version_major": 2,
       "version_minor": 0
      },
      "text/plain": [
       "  0%|          | 0/1 [00:00<?, ?it/s]"
      ]
     },
     "metadata": {},
     "output_type": "display_data"
    },
    {
     "data": {
      "application/vnd.jupyter.widget-view+json": {
       "model_id": "0ea70d8ac112420aaab084d81eeb4d9c",
       "version_major": 2,
       "version_minor": 0
      },
      "text/plain": [
       "  0%|          | 0/1 [00:00<?, ?it/s]"
      ]
     },
     "metadata": {},
     "output_type": "display_data"
    },
    {
     "data": {
      "application/vnd.jupyter.widget-view+json": {
       "model_id": "c61a6394bfab46fc81e8a66b509afb8b",
       "version_major": 2,
       "version_minor": 0
      },
      "text/plain": [
       "  0%|          | 0/1 [00:00<?, ?it/s]"
      ]
     },
     "metadata": {},
     "output_type": "display_data"
    },
    {
     "data": {
      "application/vnd.jupyter.widget-view+json": {
       "model_id": "0d8dcc259aa14d668366af21c26f1ab6",
       "version_major": 2,
       "version_minor": 0
      },
      "text/plain": [
       "  0%|          | 0/1 [00:00<?, ?it/s]"
      ]
     },
     "metadata": {},
     "output_type": "display_data"
    },
    {
     "data": {
      "application/vnd.jupyter.widget-view+json": {
       "model_id": "c0794b55858b4d4ab78728786b61fd75",
       "version_major": 2,
       "version_minor": 0
      },
      "text/plain": [
       "  0%|          | 0/1 [00:00<?, ?it/s]"
      ]
     },
     "metadata": {},
     "output_type": "display_data"
    },
    {
     "data": {
      "application/vnd.jupyter.widget-view+json": {
       "model_id": "e26c726aacf6428798ba33f7b8d196c8",
       "version_major": 2,
       "version_minor": 0
      },
      "text/plain": [
       "  0%|          | 0/1 [00:00<?, ?it/s]"
      ]
     },
     "metadata": {},
     "output_type": "display_data"
    }
   ],
   "source": [
    "denials_file = \"../Twitter_scrapped/deniers/{}.csv\".format(today)\n",
    "denials_to_process = denials[denials.exist==True]\n",
    "if SCRAP_DENIALS:\n",
    "    if os.path.isfile(denials_file):\n",
    "        tweets_denials = pd.read_csv(denials_file)\n",
    "        handles_process = list(\n",
    "            set(denials_to_process.screen_name.unique()) - set(tweets_denials.username.unique()))\n",
    "    else:\n",
    "        tweets_denials = pd.DataFrame()\n",
    "        handles_process = denials_to_process.screen_name.unique()\n",
    "\n",
    "    for username in tqdm(handles_process):\n",
    "        handle_tweets = extract_data(\"from:{} -is:retweet\".format(username), 100)\n",
    "        handle_tweets[\"username\"] = username\n",
    "        tweets_denials = pd.concat([tweets, handle_tweets])\n",
    "        tweets_denials.to_csv(file, index=False)"
   ]
  },
  {
   "cell_type": "code",
   "execution_count": 22,
   "id": "ab819b60",
   "metadata": {
    "ExecuteTime": {
     "end_time": "2023-05-08T04:56:28.815055Z",
     "start_time": "2023-05-08T04:56:28.803829Z"
    }
   },
   "outputs": [
    {
     "data": {
      "text/html": [
       "<div>\n",
       "<style scoped>\n",
       "    .dataframe tbody tr th:only-of-type {\n",
       "        vertical-align: middle;\n",
       "    }\n",
       "\n",
       "    .dataframe tbody tr th {\n",
       "        vertical-align: top;\n",
       "    }\n",
       "\n",
       "    .dataframe thead th {\n",
       "        text-align: right;\n",
       "    }\n",
       "</style>\n",
       "<table border=\"1\" class=\"dataframe\">\n",
       "  <thead>\n",
       "    <tr style=\"text-align: right;\">\n",
       "      <th></th>\n",
       "      <th>text</th>\n",
       "      <th>public_metrics</th>\n",
       "      <th>in_reply_to_user_id</th>\n",
       "      <th>reply_settings</th>\n",
       "      <th>id</th>\n",
       "      <th>referenced_tweets</th>\n",
       "      <th>author_id</th>\n",
       "      <th>created_at</th>\n",
       "      <th>edit_history_tweet_ids</th>\n",
       "      <th>lang</th>\n",
       "      <th>conversation_id</th>\n",
       "      <th>username</th>\n",
       "      <th>geo</th>\n",
       "      <th>withheld</th>\n",
       "      <th>preprocessed_text</th>\n",
       "    </tr>\n",
       "  </thead>\n",
       "  <tbody>\n",
       "    <tr>\n",
       "      <th>1430</th>\n",
       "      <td>@AndrewRCraig @bbellolio @David_Boaz @CatoInstitute Interesting, which Dems were people there most likely to work for? I have to think Wyden would be one of them.</td>\n",
       "      <td>{'retweet_count': 0, 'reply_count': 1, 'like_count': 0, 'quote_count': 0, 'impression_count': 19}</td>\n",
       "      <td>1.676303e+08</td>\n",
       "      <td>everyone</td>\n",
       "      <td>1.653919e+18</td>\n",
       "      <td>[{'type': 'replied_to', 'id': '1653908266580058112'}]</td>\n",
       "      <td>9.203850e+17</td>\n",
       "      <td>2023-05-04T00:28:12.000Z</td>\n",
       "      <td>['1653919417342861312']</td>\n",
       "      <td>en</td>\n",
       "      <td>1.653872e+18</td>\n",
       "      <td>CatoInstitute</td>\n",
       "      <td>NaN</td>\n",
       "      <td>NaN</td>\n",
       "      <td>interesting, which dems were people there most likely to work for? i have to think wyden would be one of them.</td>\n",
       "    </tr>\n",
       "    <tr>\n",
       "      <th>1971</th>\n",
       "      <td>Met @JRCherry3 at @FreedomWorks this weekend. He’s a Super Bowl champion and founder of the Robert Smalls Legacy Foundation. Jerod’s beautiful message to black youth is their success is not predetermined based on skin color; they can achieve greatness and economic freedom. https://t.co/EU2XzaGPJI</td>\n",
       "      <td>{'retweet_count': 2, 'reply_count': 10, 'like_count': 60, 'quote_count': 1, 'impression_count': 6335}</td>\n",
       "      <td>NaN</td>\n",
       "      <td>everyone</td>\n",
       "      <td>1.655275e+18</td>\n",
       "      <td>NaN</td>\n",
       "      <td>9.148155e+17</td>\n",
       "      <td>2023-05-07T18:15:03.000Z</td>\n",
       "      <td>['1655275064475140097']</td>\n",
       "      <td>en</td>\n",
       "      <td>1.655275e+18</td>\n",
       "      <td>FreedomWorks</td>\n",
       "      <td>NaN</td>\n",
       "      <td>NaN</td>\n",
       "      <td>met  at  this weekend. he’s a super bowl champion and founder of the robert smalls legacy foundation. jerod’s beautiful message to black youth is their success is not predetermined based on skin color; they can achieve greatness and economic freedom.</td>\n",
       "    </tr>\n",
       "    <tr>\n",
       "      <th>6162</th>\n",
       "      <td>@Citizens_United, @FedSoc and the @Heritage, with some help from the Mercers, the Kochs and apparently, the Crows, and that fucker #JusticeKennedy, are the reason for all this #RightWing and #darkmoney pouring into the coffers of the #RepublicanParty! https://t.co/MJF6vYeMXW</td>\n",
       "      <td>{'retweet_count': 0, 'reply_count': 0, 'like_count': 0, 'quote_count': 0, 'impression_count': 7}</td>\n",
       "      <td>2.063563e+07</td>\n",
       "      <td>everyone</td>\n",
       "      <td>1.653170e+18</td>\n",
       "      <td>[{'type': 'quoted', 'id': '1653054386782756865'}]</td>\n",
       "      <td>1.588550e+18</td>\n",
       "      <td>2023-05-01T22:48:49.000Z</td>\n",
       "      <td>['1653169632944041986']</td>\n",
       "      <td>en</td>\n",
       "      <td>1.653170e+18</td>\n",
       "      <td>Heritage</td>\n",
       "      <td>NaN</td>\n",
       "      <td>NaN</td>\n",
       "      <td>,  and the , with some help from the mercers, the kochs and apparently, the crows, and that fucker , are the reason for all this  and  pouring into the coffers of the !</td>\n",
       "    </tr>\n",
       "    <tr>\n",
       "      <th>1911</th>\n",
       "      <td>Putting the 'con' in consensus; Not only is there no 97 per cent consensus among climate scientists, many misunderstand core issues https://t.co/QtWdkTXAon via @FraserInstitute</td>\n",
       "      <td>{'retweet_count': 0, 'reply_count': 1, 'like_count': 0, 'quote_count': 0, 'impression_count': 4}</td>\n",
       "      <td>NaN</td>\n",
       "      <td>everyone</td>\n",
       "      <td>1.653098e+18</td>\n",
       "      <td>NaN</td>\n",
       "      <td>2.725323e+08</td>\n",
       "      <td>2023-05-01T18:06:01.000Z</td>\n",
       "      <td>['1653098465470078986']</td>\n",
       "      <td>en</td>\n",
       "      <td>1.653098e+18</td>\n",
       "      <td>FraserInstitute</td>\n",
       "      <td>NaN</td>\n",
       "      <td>NaN</td>\n",
       "      <td>putting the 'con' in consensus; not only is there no 97 per cent consensus among climate scientists, many misunderstand core issues  via</td>\n",
       "    </tr>\n",
       "    <tr>\n",
       "      <th>1581</th>\n",
       "      <td>@malikm858 @steve_hanke @CatoInstitute SENİ GİDİ PAKİSTAN BENGALDEŞ K.ÖPEĞİ SENİ.</td>\n",
       "      <td>{'retweet_count': 0, 'reply_count': 0, 'like_count': 0, 'quote_count': 0, 'impression_count': 10}</td>\n",
       "      <td>2.549008e+09</td>\n",
       "      <td>everyone</td>\n",
       "      <td>1.653479e+18</td>\n",
       "      <td>[{'type': 'replied_to', 'id': '1646572757226778624'}]</td>\n",
       "      <td>4.244616e+09</td>\n",
       "      <td>2023-05-02T19:16:58.000Z</td>\n",
       "      <td>['1653478705270800421']</td>\n",
       "      <td>tr</td>\n",
       "      <td>1.646569e+18</td>\n",
       "      <td>CatoInstitute</td>\n",
       "      <td>NaN</td>\n",
       "      <td>NaN</td>\n",
       "      <td>seni̇ gi̇di̇ paki̇stan bengaldeş k.öpeği̇ seni̇.</td>\n",
       "    </tr>\n",
       "  </tbody>\n",
       "</table>\n",
       "</div>"
      ],
      "text/plain": [
       "                                                                                                                                                                                                                                                                                                           text  \\\n",
       "1430                                                                                                                                         @AndrewRCraig @bbellolio @David_Boaz @CatoInstitute Interesting, which Dems were people there most likely to work for? I have to think Wyden would be one of them.   \n",
       "1971  Met @JRCherry3 at @FreedomWorks this weekend. He’s a Super Bowl champion and founder of the Robert Smalls Legacy Foundation. Jerod’s beautiful message to black youth is their success is not predetermined based on skin color; they can achieve greatness and economic freedom. https://t.co/EU2XzaGPJI   \n",
       "6162                        @Citizens_United, @FedSoc and the @Heritage, with some help from the Mercers, the Kochs and apparently, the Crows, and that fucker #JusticeKennedy, are the reason for all this #RightWing and #darkmoney pouring into the coffers of the #RepublicanParty! https://t.co/MJF6vYeMXW   \n",
       "1911                                                                                                                           Putting the 'con' in consensus; Not only is there no 97 per cent consensus among climate scientists, many misunderstand core issues https://t.co/QtWdkTXAon via @FraserInstitute   \n",
       "1581                                                                                                                                                                                                                          @malikm858 @steve_hanke @CatoInstitute SENİ GİDİ PAKİSTAN BENGALDEŞ K.ÖPEĞİ SENİ.   \n",
       "\n",
       "                                                                                             public_metrics  \\\n",
       "1430      {'retweet_count': 0, 'reply_count': 1, 'like_count': 0, 'quote_count': 0, 'impression_count': 19}   \n",
       "1971  {'retweet_count': 2, 'reply_count': 10, 'like_count': 60, 'quote_count': 1, 'impression_count': 6335}   \n",
       "6162       {'retweet_count': 0, 'reply_count': 0, 'like_count': 0, 'quote_count': 0, 'impression_count': 7}   \n",
       "1911       {'retweet_count': 0, 'reply_count': 1, 'like_count': 0, 'quote_count': 0, 'impression_count': 4}   \n",
       "1581      {'retweet_count': 0, 'reply_count': 0, 'like_count': 0, 'quote_count': 0, 'impression_count': 10}   \n",
       "\n",
       "      in_reply_to_user_id reply_settings            id  \\\n",
       "1430         1.676303e+08       everyone  1.653919e+18   \n",
       "1971                  NaN       everyone  1.655275e+18   \n",
       "6162         2.063563e+07       everyone  1.653170e+18   \n",
       "1911                  NaN       everyone  1.653098e+18   \n",
       "1581         2.549008e+09       everyone  1.653479e+18   \n",
       "\n",
       "                                          referenced_tweets     author_id  \\\n",
       "1430  [{'type': 'replied_to', 'id': '1653908266580058112'}]  9.203850e+17   \n",
       "1971                                                    NaN  9.148155e+17   \n",
       "6162      [{'type': 'quoted', 'id': '1653054386782756865'}]  1.588550e+18   \n",
       "1911                                                    NaN  2.725323e+08   \n",
       "1581  [{'type': 'replied_to', 'id': '1646572757226778624'}]  4.244616e+09   \n",
       "\n",
       "                    created_at   edit_history_tweet_ids lang  conversation_id  \\\n",
       "1430  2023-05-04T00:28:12.000Z  ['1653919417342861312']   en     1.653872e+18   \n",
       "1971  2023-05-07T18:15:03.000Z  ['1655275064475140097']   en     1.655275e+18   \n",
       "6162  2023-05-01T22:48:49.000Z  ['1653169632944041986']   en     1.653170e+18   \n",
       "1911  2023-05-01T18:06:01.000Z  ['1653098465470078986']   en     1.653098e+18   \n",
       "1581  2023-05-02T19:16:58.000Z  ['1653478705270800421']   tr     1.646569e+18   \n",
       "\n",
       "             username  geo withheld  \\\n",
       "1430    CatoInstitute  NaN      NaN   \n",
       "1971     FreedomWorks  NaN      NaN   \n",
       "6162         Heritage  NaN      NaN   \n",
       "1911  FraserInstitute  NaN      NaN   \n",
       "1581    CatoInstitute  NaN      NaN   \n",
       "\n",
       "                                                                                                                                                                                                                                               preprocessed_text  \n",
       "1430                                                                                                                                              interesting, which dems were people there most likely to work for? i have to think wyden would be one of them.  \n",
       "1971  met  at  this weekend. he’s a super bowl champion and founder of the robert smalls legacy foundation. jerod’s beautiful message to black youth is their success is not predetermined based on skin color; they can achieve greatness and economic freedom.  \n",
       "6162                                                                                    ,  and the , with some help from the mercers, the kochs and apparently, the crows, and that fucker , are the reason for all this  and  pouring into the coffers of the !  \n",
       "1911                                                                                                                    putting the 'con' in consensus; not only is there no 97 per cent consensus among climate scientists, many misunderstand core issues  via  \n",
       "1581                                                                                                                                                                                                            seni̇ gi̇di̇ paki̇stan bengaldeş k.öpeği̇ seni̇.  "
      ]
     },
     "execution_count": 22,
     "metadata": {},
     "output_type": "execute_result"
    }
   ],
   "source": [
    "tweets_denials.sample(5)"
   ]
  },
  {
   "cell_type": "markdown",
   "id": "8c439718",
   "metadata": {},
   "source": [
    "## Model\n",
    "### #ClimateScam"
   ]
  },
  {
   "cell_type": "code",
   "execution_count": 23,
   "id": "dc9c1fec",
   "metadata": {
    "ExecuteTime": {
     "end_time": "2023-05-08T04:56:28.868428Z",
     "start_time": "2023-05-08T04:56:28.816124Z"
    }
   },
   "outputs": [],
   "source": [
    "import unicodedata\n",
    "\n",
    "# Load and pre-process the text data\n",
    "# Define text pre-processing functions\n",
    "def remove_between_square_brackets(text):\n",
    "    return re.sub('\\[[^]]*\\]', '', text)\n",
    "def remove_non_ascii(text):\n",
    "    \"\"\"Remove non-ASCII characters from list of tokenized words\"\"\"\n",
    "    return unicodedata.normalize('NFKD', text).encode('ascii', 'ignore').decode('utf-8', 'ignore')\n",
    "def strip_underscores(text):\n",
    "    return re.sub(r'_+', ' ', text)\n",
    "def remove_multiple_spaces(text):\n",
    "    return re.sub(r'\\s{2,}', ' ', text)\n",
    "\n",
    "# Merge text pre-processing functions\n",
    "def denoise_text(text):\n",
    "    text = remove_between_square_brackets(text)\n",
    "    text = remove_non_ascii(text)\n",
    "    text = strip_underscores(text)\n",
    "    text = remove_multiple_spaces(text)\n",
    "    return text.strip()\n",
    "\n",
    "\n",
    "# Pre-process the text\n",
    "climate_scam_hashtag['roberta_preprocessed'] = climate_scam_hashtag[\"text\"].astype(str).apply(denoise_text)"
   ]
  },
  {
   "cell_type": "code",
   "execution_count": 24,
   "id": "37021080",
   "metadata": {
    "ExecuteTime": {
     "end_time": "2023-05-08T04:56:35.390231Z",
     "start_time": "2023-05-08T04:56:28.869766Z"
    }
   },
   "outputs": [
    {
     "name": "stderr",
     "output_type": "stream",
     "text": [
      "2023-05-08 14:56:30.562224: I tensorflow/core/platform/cpu_feature_guard.cc:182] This TensorFlow binary is optimized to use available CPU instructions in performance-critical operations.\n",
      "To enable the following instructions: AVX2 FMA, in other operations, rebuild TensorFlow with the appropriate compiler flags.\n",
      "2023-05-08 14:56:31.272906: W tensorflow/compiler/tf2tensorrt/utils/py_utils.cc:38] TF-TRT Warning: Could not find TensorRT\n",
      "Some weights of the model checkpoint at ../cards/models/CARDS_RoBERTa_Classifier were not used when initializing RobertaForSequenceClassification: ['roberta.pooler.dense.bias', 'roberta.pooler.dense.weight']\n",
      "- This IS expected if you are initializing RobertaForSequenceClassification from the checkpoint of a model trained on another task or with another architecture (e.g. initializing a BertForSequenceClassification model from a BertForPreTraining model).\n",
      "- This IS NOT expected if you are initializing RobertaForSequenceClassification from the checkpoint of a model that you expect to be exactly identical (initializing a BertForSequenceClassification model from a BertForSequenceClassification model).\n"
     ]
    }
   ],
   "source": [
    "import torch\n",
    "from simpletransformers.classification import ClassificationModel\n",
    "\n",
    "device = torch.device(\"cpu\")\n",
    "# Define the model \n",
    "architecture = 'roberta'\n",
    "# model_name = 'CARDS_RoBERTa_Classifier'\n",
    "model_name = \"../cards/models/CARDS_RoBERTa_Classifier\"\n",
    "\n",
    "# Load the classifier\n",
    "roberta_model = ClassificationModel(architecture, model_name, use_cuda=False)"
   ]
  },
  {
   "cell_type": "code",
   "execution_count": 25,
   "id": "d7b9061e",
   "metadata": {
    "ExecuteTime": {
     "end_time": "2023-05-08T06:08:15.091532Z",
     "start_time": "2023-05-08T04:56:35.391464Z"
    }
   },
   "outputs": [
    {
     "data": {
      "application/vnd.jupyter.widget-view+json": {
       "model_id": "fdcc8e6d69954ac38efa88eaa8608c46",
       "version_major": 2,
       "version_minor": 0
      },
      "text/plain": [
       "  0%|          | 0/7479 [00:00<?, ?it/s]"
      ]
     },
     "metadata": {},
     "output_type": "display_data"
    },
    {
     "data": {
      "application/vnd.jupyter.widget-view+json": {
       "model_id": "58ba02af06574551b4c42223c7ab81b4",
       "version_major": 2,
       "version_minor": 0
      },
      "text/plain": [
       "  0%|          | 0/949 [00:00<?, ?it/s]"
      ]
     },
     "metadata": {},
     "output_type": "display_data"
    },
    {
     "name": "stderr",
     "output_type": "stream",
     "text": [
      "/opt/conda/envs/uni/lib/python3.8/site-packages/simpletransformers/classification/classification_model.py:2253: FutureWarning: Unlike other reduction functions (e.g. `skew`, `kurtosis`), the default behavior of `mode` typically preserves the axis it acts along. In SciPy 1.11.0, this behavior will change: the default value of `keepdims` will become False, the `axis` over which the statistic is taken will be eliminated, and the value None will no longer be accepted. Set `keepdims` to True or False to avoid this warning.\n",
      "  mode_pred, counts = mode(pred_row)\n"
     ]
    }
   ],
   "source": [
    "predictions, raw_outputs = roberta_model.predict(list(climate_scam_hashtag.roberta_preprocessed))"
   ]
  },
  {
   "cell_type": "code",
   "execution_count": 26,
   "id": "dc899708",
   "metadata": {
    "ExecuteTime": {
     "end_time": "2023-05-08T06:08:15.104368Z",
     "start_time": "2023-05-08T06:08:15.092900Z"
    }
   },
   "outputs": [],
   "source": [
    "le = pickle.load(open(\"../le_cards.pkl\", 'rb'))"
   ]
  },
  {
   "cell_type": "code",
   "execution_count": 27,
   "id": "78abce1b",
   "metadata": {
    "ExecuteTime": {
     "end_time": "2023-05-08T06:08:15.234129Z",
     "start_time": "2023-05-08T06:08:15.106341Z"
    }
   },
   "outputs": [],
   "source": [
    "climate_scam_hashtag['roberta_pred'] = le.inverse_transform(predictions)\n",
    "climate_scam_hashtag['roberta_proba'] = [max(softmax(element[0])) for element in raw_outputs]"
   ]
  },
  {
   "cell_type": "code",
   "execution_count": 28,
   "id": "c9fae45f",
   "metadata": {
    "ExecuteTime": {
     "end_time": "2023-05-08T06:08:15.246079Z",
     "start_time": "2023-05-08T06:08:15.238154Z"
    }
   },
   "outputs": [
    {
     "data": {
      "text/html": [
       "<div>\n",
       "<style scoped>\n",
       "    .dataframe tbody tr th:only-of-type {\n",
       "        vertical-align: middle;\n",
       "    }\n",
       "\n",
       "    .dataframe tbody tr th {\n",
       "        vertical-align: top;\n",
       "    }\n",
       "\n",
       "    .dataframe thead th {\n",
       "        text-align: right;\n",
       "    }\n",
       "</style>\n",
       "<table border=\"1\" class=\"dataframe\">\n",
       "  <thead>\n",
       "    <tr style=\"text-align: right;\">\n",
       "      <th></th>\n",
       "      <th>roberta_pred</th>\n",
       "    </tr>\n",
       "  </thead>\n",
       "  <tbody>\n",
       "    <tr>\n",
       "      <th>5_2</th>\n",
       "      <td>5514</td>\n",
       "    </tr>\n",
       "    <tr>\n",
       "      <th>0_0</th>\n",
       "      <td>1409</td>\n",
       "    </tr>\n",
       "    <tr>\n",
       "      <th>4_1</th>\n",
       "      <td>182</td>\n",
       "    </tr>\n",
       "    <tr>\n",
       "      <th>2_3</th>\n",
       "      <td>83</td>\n",
       "    </tr>\n",
       "    <tr>\n",
       "      <th>2_1</th>\n",
       "      <td>71</td>\n",
       "    </tr>\n",
       "  </tbody>\n",
       "</table>\n",
       "</div>"
      ],
      "text/plain": [
       "     roberta_pred\n",
       "5_2          5514\n",
       "0_0          1409\n",
       "4_1           182\n",
       "2_3            83\n",
       "2_1            71"
      ]
     },
     "execution_count": 28,
     "metadata": {},
     "output_type": "execute_result"
    }
   ],
   "source": [
    "climate_scam_hashtag.roberta_pred.value_counts().to_frame().head()"
   ]
  },
  {
   "cell_type": "code",
   "execution_count": 29,
   "id": "e3548351",
   "metadata": {
    "ExecuteTime": {
     "end_time": "2023-05-08T06:08:15.763360Z",
     "start_time": "2023-05-08T06:08:15.247402Z"
    }
   },
   "outputs": [
    {
     "data": {
      "text/plain": [
       "<AxesSubplot:>"
      ]
     },
     "execution_count": 29,
     "metadata": {},
     "output_type": "execute_result"
    },
    {
     "data": {
      "image/png": "[encoded data removed]",
      "text/plain": [
       "<Figure size 432x288 with 1 Axes>"
      ]
     },
     "metadata": {
      "needs_background": "light"
     },
     "output_type": "display_data"
    }
   ],
   "source": [
    "climate_scam_hashtag.roberta_pred.hist()"
   ]
  },
  {
   "cell_type": "code",
   "execution_count": 30,
   "id": "1ec556b7",
   "metadata": {
    "ExecuteTime": {
     "end_time": "2023-05-08T06:08:15.784910Z",
     "start_time": "2023-05-08T06:08:15.764713Z"
    }
   },
   "outputs": [
    {
     "data": {
      "text/html": [
       "<div>\n",
       "<style scoped>\n",
       "    .dataframe tbody tr th:only-of-type {\n",
       "        vertical-align: middle;\n",
       "    }\n",
       "\n",
       "    .dataframe tbody tr th {\n",
       "        vertical-align: top;\n",
       "    }\n",
       "\n",
       "    .dataframe thead th {\n",
       "        text-align: right;\n",
       "    }\n",
       "</style>\n",
       "<table border=\"1\" class=\"dataframe\">\n",
       "  <thead>\n",
       "    <tr style=\"text-align: right;\">\n",
       "      <th></th>\n",
       "      <th>text</th>\n",
       "      <th>roberta_pred</th>\n",
       "      <th>roberta_proba</th>\n",
       "    </tr>\n",
       "  </thead>\n",
       "  <tbody>\n",
       "    <tr>\n",
       "      <th>0</th>\n",
       "      <td>@AdvLivingSys @climate_fact @ECOWARRIORSS USA climate is natural just like it is everywhere else on the Earth. #ClimateScam knows Climate Armageddon sophistry piggy-backs on these natural events</td>\n",
       "      <td>2_1</td>\n",
       "      <td>0.973155</td>\n",
       "    </tr>\n",
       "    <tr>\n",
       "      <th>2</th>\n",
       "      <td>Yes, that is part of the longer term climate change.  #ClimateScam does not want you to know this, but the Bray and Eddy solar cycles are the primary climate change drivers over the last few thousand years.  Milankovitch is even longer term - and not shown here. https://t.co/XXkgdwBVmd https://t.co/LBMzyPDMOO</td>\n",
       "      <td>2_1</td>\n",
       "      <td>0.999557</td>\n",
       "    </tr>\n",
       "    <tr>\n",
       "      <th>3</th>\n",
       "      <td>This Week:\\nHooligan party in Rotterdam...\\nSpain not that hot, it's a global warming hoax...\\n2 months before the death of France...\\n#Feyenoord #ClimateScam #Spain #FranceProtests</td>\n",
       "      <td>5_2</td>\n",
       "      <td>0.999287</td>\n",
       "    </tr>\n",
       "    <tr>\n",
       "      <th>4</th>\n",
       "      <td>New Climate News: \\n\\nWho solves super wicked water problems?\\n\\n#climatecrisis #climateaction #esg #carbon #sustainability #netzero #climatescam #globalwarming #climatechange\\nhttps://t.co/FPNCnO4zoo</td>\n",
       "      <td>0_0</td>\n",
       "      <td>0.999764</td>\n",
       "    </tr>\n",
       "    <tr>\n",
       "      <th>5</th>\n",
       "      <td>So Trudeau finally shook off his hangover and tweeted. But instead of tweeting his sympathies and offering support for the people of Alberta, he made these 4 tweets.\\n\\nDoes this sound like a man who cares about the suffering of Canadians?\\n\\n#AlbertaWildfires #ClimateScam… https://t.co/nZxcyDeiCe https://t.co/hnykwLcfVX</td>\n",
       "      <td>0_0</td>\n",
       "      <td>0.965996</td>\n",
       "    </tr>\n",
       "    <tr>\n",
       "      <th>...</th>\n",
       "      <td>...</td>\n",
       "      <td>...</td>\n",
       "      <td>...</td>\n",
       "    </tr>\n",
       "    <tr>\n",
       "      <th>9681</th>\n",
       "      <td>He's right!!  More Conservative wealthy people need to speak out against the Liberal wealthy people who are acting the fool and crazy with all these arrests,  mandates &amp;amp; outlandish theories!  Who is this guy??  Tell him I said: GOD BLESS YOU.  \\n\\n#ClimateScam https://t.co/8OU2GDzF2B https://t.co/3XnUMCGjPq</td>\n",
       "      <td>5_2</td>\n",
       "      <td>0.997552</td>\n",
       "    </tr>\n",
       "    <tr>\n",
       "      <th>9684</th>\n",
       "      <td>All superstitious nonsense. The #ClimateScam mers, don't know when to quit. 😂😂😂 https://t.co/LLcirGYoIG</td>\n",
       "      <td>5_2</td>\n",
       "      <td>0.999361</td>\n",
       "    </tr>\n",
       "    <tr>\n",
       "      <th>9686</th>\n",
       "      <td>@CodeRedEarth @djspratt I think you meant #ClimateScam Yes? It's the CO2 scam that gets you every time.</td>\n",
       "      <td>5_2</td>\n",
       "      <td>0.999490</td>\n",
       "    </tr>\n",
       "    <tr>\n",
       "      <th>9687</th>\n",
       "      <td>I think you meant #ClimateScam Yes? It's the CO2 scam that gets you every time. https://t.co/7OIUCf4LJK</td>\n",
       "      <td>5_2</td>\n",
       "      <td>0.999339</td>\n",
       "    </tr>\n",
       "    <tr>\n",
       "      <th>9689</th>\n",
       "      <td>How humans make it rain \\n\\n- why is there drought?\\n- why are there so many forest fires??\\n- if they can make it rain do you think they can't make it hotter ?? \\n\\nVideo is 13 years old. \\n#ClimateScam\\n#ClimateEmergency (🖕)\\nhttps://t.co/yWFRBLtRWR</td>\n",
       "      <td>5_2</td>\n",
       "      <td>0.999374</td>\n",
       "    </tr>\n",
       "  </tbody>\n",
       "</table>\n",
       "<p>7479 rows × 3 columns</p>\n",
       "</div>"
      ],
      "text/plain": [
       "                                                                                                                                                                                                                                                                                                                                    text  \\\n",
       "0                                                                                                                                     @AdvLivingSys @climate_fact @ECOWARRIORSS USA climate is natural just like it is everywhere else on the Earth. #ClimateScam knows Climate Armageddon sophistry piggy-backs on these natural events   \n",
       "2                 Yes, that is part of the longer term climate change.  #ClimateScam does not want you to know this, but the Bray and Eddy solar cycles are the primary climate change drivers over the last few thousand years.  Milankovitch is even longer term - and not shown here. https://t.co/XXkgdwBVmd https://t.co/LBMzyPDMOO   \n",
       "3                                                                                                                                                  This Week:\\nHooligan party in Rotterdam...\\nSpain not that hot, it's a global warming hoax...\\n2 months before the death of France...\\n#Feyenoord #ClimateScam #Spain #FranceProtests   \n",
       "4                                                                                                                               New Climate News: \\n\\nWho solves super wicked water problems?\\n\\n#climatecrisis #climateaction #esg #carbon #sustainability #netzero #climatescam #globalwarming #climatechange\\nhttps://t.co/FPNCnO4zoo   \n",
       "5     So Trudeau finally shook off his hangover and tweeted. But instead of tweeting his sympathies and offering support for the people of Alberta, he made these 4 tweets.\\n\\nDoes this sound like a man who cares about the suffering of Canadians?\\n\\n#AlbertaWildfires #ClimateScam… https://t.co/nZxcyDeiCe https://t.co/hnykwLcfVX   \n",
       "...                                                                                                                                                                                                                                                                                                                                  ...   \n",
       "9681            He's right!!  More Conservative wealthy people need to speak out against the Liberal wealthy people who are acting the fool and crazy with all these arrests,  mandates &amp; outlandish theories!  Who is this guy??  Tell him I said: GOD BLESS YOU.  \\n\\n#ClimateScam https://t.co/8OU2GDzF2B https://t.co/3XnUMCGjPq   \n",
       "9684                                                                                                                                                                                                                             All superstitious nonsense. The #ClimateScam mers, don't know when to quit. 😂😂😂 https://t.co/LLcirGYoIG   \n",
       "9686                                                                                                                                                                                                                             @CodeRedEarth @djspratt I think you meant #ClimateScam Yes? It's the CO2 scam that gets you every time.   \n",
       "9687                                                                                                                                                                                                                             I think you meant #ClimateScam Yes? It's the CO2 scam that gets you every time. https://t.co/7OIUCf4LJK   \n",
       "9689                                                                         How humans make it rain \\n\\n- why is there drought?\\n- why are there so many forest fires??\\n- if they can make it rain do you think they can't make it hotter ?? \\n\\nVideo is 13 years old. \\n#ClimateScam\\n#ClimateEmergency (🖕)\\nhttps://t.co/yWFRBLtRWR   \n",
       "\n",
       "     roberta_pred  roberta_proba  \n",
       "0             2_1       0.973155  \n",
       "2             2_1       0.999557  \n",
       "3             5_2       0.999287  \n",
       "4             0_0       0.999764  \n",
       "5             0_0       0.965996  \n",
       "...           ...            ...  \n",
       "9681          5_2       0.997552  \n",
       "9684          5_2       0.999361  \n",
       "9686          5_2       0.999490  \n",
       "9687          5_2       0.999339  \n",
       "9689          5_2       0.999374  \n",
       "\n",
       "[7479 rows x 3 columns]"
      ]
     },
     "execution_count": 30,
     "metadata": {},
     "output_type": "execute_result"
    }
   ],
   "source": [
    "climate_scam_hashtag[[\"text\", \"roberta_pred\", \"roberta_proba\"]]"
   ]
  },
  {
   "cell_type": "code",
   "execution_count": 31,
   "id": "fb85b0a9",
   "metadata": {
    "ExecuteTime": {
     "end_time": "2023-05-08T06:08:15.800532Z",
     "start_time": "2023-05-08T06:08:15.786789Z"
    }
   },
   "outputs": [
    {
     "data": {
      "text/html": [
       "<div>\n",
       "<style scoped>\n",
       "    .dataframe tbody tr th:only-of-type {\n",
       "        vertical-align: middle;\n",
       "    }\n",
       "\n",
       "    .dataframe tbody tr th {\n",
       "        vertical-align: top;\n",
       "    }\n",
       "\n",
       "    .dataframe thead th {\n",
       "        text-align: right;\n",
       "    }\n",
       "</style>\n",
       "<table border=\"1\" class=\"dataframe\">\n",
       "  <thead>\n",
       "    <tr style=\"text-align: right;\">\n",
       "      <th></th>\n",
       "      <th>text</th>\n",
       "      <th>roberta_pred</th>\n",
       "      <th>roberta_proba</th>\n",
       "    </tr>\n",
       "  </thead>\n",
       "  <tbody>\n",
       "    <tr>\n",
       "      <th>5434</th>\n",
       "      <td>Panama Supreme Court rejects legalization of same-sex ‘marriage,’ says it’s not a ‘human right’ – https://t.co/NWp759uvCV\\n\\n#NewWorldOrder #WEF #DiedSuddenly #GreatReset #Agenda2030 #nwo #15minutecities #DigitalID #climatescam #SocialCreditSystem #cb...\\nhttps://t.co/6iyegNhYUw</td>\n",
       "      <td>0_0</td>\n",
       "      <td>0.999790</td>\n",
       "    </tr>\n",
       "    <tr>\n",
       "      <th>1229</th>\n",
       "      <td>@Stephen90045069 @pauladamsalber1 @ejwwest @TheDisproof @aSinister @freddie07068768 @njbtweet @NoelTurner194 @GlennCarr6 @jimdtweet @Kenneth72712993 @starkicus @WayneAllanH @Narvuntien @SumErgoMonstro @shicks_sam @CrispyCX @keithamccluskey @rln_nelson @Michael_D_Crow @priscian @Skrued1 @aaa21usa @MikeDel21893959 @variegated2 @organicdot @Veritatem2021 @NewNormality20 @MedBennett @Jagster20548365 @BubbasRanch @IngersolRobert @ponycar06 @MartinJBern @ChrisBBacon3 @yeg_sewer_rat @Robin_Hagues @mugger124 @Barbarajdurkin @BarbaraGirouard @Marcusgibson @climate_fact @BlasphemousBan1 @RickLazzarini You follow the flute that played those tunes. Same thing! #ClimateScam</td>\n",
       "      <td>0_0</td>\n",
       "      <td>0.997633</td>\n",
       "    </tr>\n",
       "    <tr>\n",
       "      <th>3933</th>\n",
       "      <td>Happy 100th Birthday to Senator, Undersecretary, and Judge James L. Buckley\\n\\n#NewWorldOrder #WEF #DiedSuddenly #GreatReset #Agenda2030 #nwo #15minutecities #DigitalID #climatescam #SocialCreditSystem #cbdc #PureBlood #chemtrails #billgates #klausschwa...\\nhttps://t.co/ThD51lp0XG</td>\n",
       "      <td>0_0</td>\n",
       "      <td>0.999807</td>\n",
       "    </tr>\n",
       "    <tr>\n",
       "      <th>5353</th>\n",
       "      <td>@Doranimated @Zigmanfreud #ClimateScam \\n\\n@RandPaul @SenMikeLee \\n@MarshaBlackburn \\n@SenLummis @SenTuberville \\n@PASenateGOP @PAHouseGOP\\n@GovAbbott @GovRonDeSantis\\n@Potus @SenTedCruz \\n_</td>\n",
       "      <td>0_0</td>\n",
       "      <td>0.998854</td>\n",
       "    </tr>\n",
       "    <tr>\n",
       "      <th>6851</th>\n",
       "      <td>@ThierryAaron So, you ask for what you know to be impossible. Create anxiety, depression and enable globalists to seize control of countries through false narratives. Your  narrative is just eco-terrorism for anxious people and little children nightmares. #climatescam</td>\n",
       "      <td>0_0</td>\n",
       "      <td>0.652890</td>\n",
       "    </tr>\n",
       "    <tr>\n",
       "      <th>8184</th>\n",
       "      <td>@benmooreau @RohanEarth @Veritatem2021 @4tis @Fossil_Herb @MikeDel21893959 @OscarsWild1 @OzzmanOsgood @Doctordapp @Pickles80936045 @PsiloX @NOfPPlus @MartinBrampton @stephen47276303 @AndreGrossza @weberj502 @JimBowersclimb @bullburton @d_e_mol @ianbrow97534170 @twit4thot @Lurker99821783 @ObliviousReaper @RoyPentland @Royalacresrod @WorkerHere @mike_maric @Robin_Hagues @johnson_wrjohn1 @WernerReinhard5 @Sasha67Oz @automatrix66_KC @Robertchef77 @ClimatePoet @lukasjschreiber @BlasphemousBan1 @The19573159Lad @TLBSociety @FrijnsRik @davidwatt_uk @FriendsOScience @JanChvojka @_LukeCSkywalker @markp1950 @johanhofman @Barrtecforever @molenaarder @ianrowley677 Our emissions trajectory has slackened?\\nYou really are naive.\\n#ClimateCrisis #ClimateScam #ClimateEmergency https://t.co/QAP2pJIHvj</td>\n",
       "      <td>0_0</td>\n",
       "      <td>0.999761</td>\n",
       "    </tr>\n",
       "    <tr>\n",
       "      <th>7536</th>\n",
       "      <td>If the liberals / libtards could SEE what the Truth is, they would absolutely change their belief in the instant. \\n\\nI don’t like betting 100% on things, but this one I am 100% confident in it. \\n\\n#liberals #truth #woke #blm #transillness #WEF #climatescam #suddendeath</td>\n",
       "      <td>0_0</td>\n",
       "      <td>0.999572</td>\n",
       "    </tr>\n",
       "    <tr>\n",
       "      <th>759</th>\n",
       "      <td>@BMZ_Bund @Bundeskanzler @RegSprecher @GermanyinKenya @KenGenKenya @Diplo_Jazz @KfW_FZ @KfW_int @KfW_FZ_int Vielleich sollte Sie, liebe Profis vom @BMZ_Bund und dem @Bundeskanzler erst einmal die Probleme mit der Geothermie im eigenen Land lösen, bevor Sie in die Ferne schweifen:\\n#Energiewende\\n#Kenia\\n#ClimateScam\\nhttps://t.co/6VJq18VJrb</td>\n",
       "      <td>0_0</td>\n",
       "      <td>0.999524</td>\n",
       "    </tr>\n",
       "    <tr>\n",
       "      <th>3338</th>\n",
       "      <td>#ClimateScam watch this ⬇️⬇️ https://t.co/yEmFNjOKMk</td>\n",
       "      <td>0_0</td>\n",
       "      <td>0.996273</td>\n",
       "    </tr>\n",
       "    <tr>\n",
       "      <th>5673</th>\n",
       "      <td>🤣 @JustStop_Oil JUST GOT STOPPED. Selfish fuc#ers - read your own comments most hate what you're doing. Hope all arrested are charged. #ClimateEmergency #climatescam https://t.co/HqjPgUgHWH</td>\n",
       "      <td>0_0</td>\n",
       "      <td>0.997921</td>\n",
       "    </tr>\n",
       "  </tbody>\n",
       "</table>\n",
       "</div>"
      ],
      "text/plain": [
       "                                                                                                                                                                                                                                                                                                                                                                                                                                                                                                                                                                                                                                                                                                                                                                                                                           text  \\\n",
       "5434                                                                                                                                                                                                                                                                                                                                                                                                                                                                                                                                    Panama Supreme Court rejects legalization of same-sex ‘marriage,’ says it’s not a ‘human right’ – https://t.co/NWp759uvCV\\n\\n#NewWorldOrder #WEF #DiedSuddenly #GreatReset #Agenda2030 #nwo #15minutecities #DigitalID #climatescam #SocialCreditSystem #cb...\\nhttps://t.co/6iyegNhYUw   \n",
       "1229                                                                                                                              @Stephen90045069 @pauladamsalber1 @ejwwest @TheDisproof @aSinister @freddie07068768 @njbtweet @NoelTurner194 @GlennCarr6 @jimdtweet @Kenneth72712993 @starkicus @WayneAllanH @Narvuntien @SumErgoMonstro @shicks_sam @CrispyCX @keithamccluskey @rln_nelson @Michael_D_Crow @priscian @Skrued1 @aaa21usa @MikeDel21893959 @variegated2 @organicdot @Veritatem2021 @NewNormality20 @MedBennett @Jagster20548365 @BubbasRanch @IngersolRobert @ponycar06 @MartinJBern @ChrisBBacon3 @yeg_sewer_rat @Robin_Hagues @mugger124 @Barbarajdurkin @BarbaraGirouard @Marcusgibson @climate_fact @BlasphemousBan1 @RickLazzarini You follow the flute that played those tunes. Same thing! #ClimateScam   \n",
       "3933                                                                                                                                                                                                                                                                                                                                                                                                                                                                                                                                  Happy 100th Birthday to Senator, Undersecretary, and Judge James L. Buckley\\n\\n#NewWorldOrder #WEF #DiedSuddenly #GreatReset #Agenda2030 #nwo #15minutecities #DigitalID #climatescam #SocialCreditSystem #cbdc #PureBlood #chemtrails #billgates #klausschwa...\\nhttps://t.co/ThD51lp0XG   \n",
       "5353                                                                                                                                                                                                                                                                                                                                                                                                                                                                                                                                                                                                                             @Doranimated @Zigmanfreud #ClimateScam \\n\\n@RandPaul @SenMikeLee \\n@MarshaBlackburn \\n@SenLummis @SenTuberville \\n@PASenateGOP @PAHouseGOP\\n@GovAbbott @GovRonDeSantis\\n@Potus @SenTedCruz \\n_   \n",
       "6851                                                                                                                                                                                                                                                                                                                                                                                                                                                                                                                                               @ThierryAaron So, you ask for what you know to be impossible. Create anxiety, depression and enable globalists to seize control of countries through false narratives. Your  narrative is just eco-terrorism for anxious people and little children nightmares. #climatescam   \n",
       "8184  @benmooreau @RohanEarth @Veritatem2021 @4tis @Fossil_Herb @MikeDel21893959 @OscarsWild1 @OzzmanOsgood @Doctordapp @Pickles80936045 @PsiloX @NOfPPlus @MartinBrampton @stephen47276303 @AndreGrossza @weberj502 @JimBowersclimb @bullburton @d_e_mol @ianbrow97534170 @twit4thot @Lurker99821783 @ObliviousReaper @RoyPentland @Royalacresrod @WorkerHere @mike_maric @Robin_Hagues @johnson_wrjohn1 @WernerReinhard5 @Sasha67Oz @automatrix66_KC @Robertchef77 @ClimatePoet @lukasjschreiber @BlasphemousBan1 @The19573159Lad @TLBSociety @FrijnsRik @davidwatt_uk @FriendsOScience @JanChvojka @_LukeCSkywalker @markp1950 @johanhofman @Barrtecforever @molenaarder @ianrowley677 Our emissions trajectory has slackened?\\nYou really are naive.\\n#ClimateCrisis #ClimateScam #ClimateEmergency https://t.co/QAP2pJIHvj   \n",
       "7536                                                                                                                                                                                                                                                                                                                                                                                                                                                                                                                                            If the liberals / libtards could SEE what the Truth is, they would absolutely change their belief in the instant. \\n\\nI don’t like betting 100% on things, but this one I am 100% confident in it. \\n\\n#liberals #truth #woke #blm #transillness #WEF #climatescam #suddendeath   \n",
       "759                                                                                                                                                                                                                                                                                                                                                                                                                                                                      @BMZ_Bund @Bundeskanzler @RegSprecher @GermanyinKenya @KenGenKenya @Diplo_Jazz @KfW_FZ @KfW_int @KfW_FZ_int Vielleich sollte Sie, liebe Profis vom @BMZ_Bund und dem @Bundeskanzler erst einmal die Probleme mit der Geothermie im eigenen Land lösen, bevor Sie in die Ferne schweifen:\\n#Energiewende\\n#Kenia\\n#ClimateScam\\nhttps://t.co/6VJq18VJrb   \n",
       "3338                                                                                                                                                                                                                                                                                                                                                                                                                                                                                                                                                                                                                                                                                                                                                                       #ClimateScam watch this ⬇️⬇️ https://t.co/yEmFNjOKMk   \n",
       "5673                                                                                                                                                                                                                                                                                                                                                                                                                                                                                                                                                                                                                              🤣 @JustStop_Oil JUST GOT STOPPED. Selfish fuc#ers - read your own comments most hate what you're doing. Hope all arrested are charged. #ClimateEmergency #climatescam https://t.co/HqjPgUgHWH   \n",
       "\n",
       "     roberta_pred  roberta_proba  \n",
       "5434          0_0       0.999790  \n",
       "1229          0_0       0.997633  \n",
       "3933          0_0       0.999807  \n",
       "5353          0_0       0.998854  \n",
       "6851          0_0       0.652890  \n",
       "8184          0_0       0.999761  \n",
       "7536          0_0       0.999572  \n",
       "759           0_0       0.999524  \n",
       "3338          0_0       0.996273  \n",
       "5673          0_0       0.997921  "
      ]
     },
     "execution_count": 31,
     "metadata": {},
     "output_type": "execute_result"
    }
   ],
   "source": [
    "climate_scam_hashtag.loc[\n",
    "    climate_scam_hashtag.roberta_pred==\"0_0\", [\"text\", \"roberta_pred\", \"roberta_proba\"]].sample(10)"
   ]
  },
  {
   "cell_type": "code",
   "execution_count": 32,
   "id": "8128bd32",
   "metadata": {
    "ExecuteTime": {
     "end_time": "2023-05-08T06:08:22.914701Z",
     "start_time": "2023-05-08T06:08:15.801619Z"
    }
   },
   "outputs": [
    {
     "data": {
      "application/vnd.jupyter.widget-view+json": {
       "model_id": "0dc8cf0c09d149368257f1797110fd21",
       "version_major": 2,
       "version_minor": 0
      },
      "text/plain": [
       "  0%|          | 0/7 [00:00<?, ?it/s]"
      ]
     },
     "metadata": {},
     "output_type": "display_data"
    },
    {
     "data": {
      "application/vnd.jupyter.widget-view+json": {
       "model_id": "5135cf0a709b4c729869c50428c5178c",
       "version_major": 2,
       "version_minor": 0
      },
      "text/plain": [
       "  0%|          | 0/1 [00:00<?, ?it/s]"
      ]
     },
     "metadata": {},
     "output_type": "display_data"
    },
    {
     "name": "stderr",
     "output_type": "stream",
     "text": [
      "/opt/conda/envs/uni/lib/python3.8/site-packages/simpletransformers/classification/classification_model.py:2253: FutureWarning: Unlike other reduction functions (e.g. `skew`, `kurtosis`), the default behavior of `mode` typically preserves the axis it acts along. In SciPy 1.11.0, this behavior will change: the default value of `keepdims` will become False, the `axis` over which the statistic is taken will be eliminated, and the value None will no longer be accepted. Set `keepdims` to True or False to avoid this warning.\n",
      "  mode_pred, counts = mode(pred_row)\n"
     ]
    }
   ],
   "source": [
    "results['roberta_preprocessed'] = results[\"text\"].astype(str).apply(denoise_text)\n",
    "predictions, raw_outputs = roberta_model.predict(list(results.roberta_preprocessed))\n",
    "results['roberta_pred'] = le.inverse_transform(predictions)\n",
    "results['roberta_proba'] = [max(softmax(element[0])) for element in raw_outputs]"
   ]
  },
  {
   "cell_type": "code",
   "execution_count": 33,
   "id": "ec9c42d9",
   "metadata": {
    "ExecuteTime": {
     "end_time": "2023-05-08T06:08:22.930399Z",
     "start_time": "2023-05-08T06:08:22.923835Z"
    },
    "scrolled": true
   },
   "outputs": [
    {
     "data": {
      "text/html": [
       "<div>\n",
       "<style scoped>\n",
       "    .dataframe tbody tr th:only-of-type {\n",
       "        vertical-align: middle;\n",
       "    }\n",
       "\n",
       "    .dataframe tbody tr th {\n",
       "        vertical-align: top;\n",
       "    }\n",
       "\n",
       "    .dataframe thead th {\n",
       "        text-align: right;\n",
       "    }\n",
       "</style>\n",
       "<table border=\"1\" class=\"dataframe\">\n",
       "  <thead>\n",
       "    <tr style=\"text-align: right;\">\n",
       "      <th></th>\n",
       "      <th>text</th>\n",
       "      <th>roberta_pred</th>\n",
       "      <th>roberta_proba</th>\n",
       "    </tr>\n",
       "  </thead>\n",
       "  <tbody>\n",
       "    <tr>\n",
       "      <th>0</th>\n",
       "      <td>Greenies believe crisis sells. Per NPR: \"climate change is making aircraft turbulence worse.\" No real world turbulence data demonstrating a problem in a warming world was included. The usual \"climate model studies\" for 60 years into the future were referenced. Send $ #climatescam</td>\n",
       "      <td>0_0</td>\n",
       "      <td>0.582158</td>\n",
       "    </tr>\n",
       "    <tr>\n",
       "      <th>1</th>\n",
       "      <td>Mitsubishi &amp;amp; South Pole, both \"carbon credit sellers\", announced one of the largest carbon removal “advanced purchases” to date. Promises to remove climate pollution from the atmosphere are everywhere, but where does the $ go? Net Zero =  accounting schemes. You pay! #climatescam</td>\n",
       "      <td>0_0</td>\n",
       "      <td>0.917766</td>\n",
       "    </tr>\n",
       "    <tr>\n",
       "      <th>2</th>\n",
       "      <td>@TonyClimate @MichaelEMann We are blocked as well. Truth be told he's in our book, our historical narrative, he's quoted many times and he's been wrong over and over and over. All from his own predictions. #ClimateScam https://t.co/1ngS6rn5jj</td>\n",
       "      <td>5_2</td>\n",
       "      <td>0.999395</td>\n",
       "    </tr>\n",
       "    <tr>\n",
       "      <th>3</th>\n",
       "      <td>The U.S. nat gas pipeline network is vulnerable to electric outages. Greenies pressured Texas to require electric compressors (not gas powered) on natural gas pipelines. The industry got into big problems when the 2021 freeze collapsed the grid. Just say no, people! #climatescam</td>\n",
       "      <td>4_1</td>\n",
       "      <td>0.420037</td>\n",
       "    </tr>\n",
       "    <tr>\n",
       "      <th>4</th>\n",
       "      <td>CA has been irresponsible not adding reservoirs &amp;amp; capacity.   No new reservoirs came online during the past 40 years, as population doubled. More reservoirs would hold more water for slow release &amp;amp; make huge  resources available. But they're working on reparations?  #climatescam</td>\n",
       "      <td>0_0</td>\n",
       "      <td>0.974588</td>\n",
       "    </tr>\n",
       "    <tr>\n",
       "      <th>5</th>\n",
       "      <td>More re: Whales: Research Environmental Impact Statements (EIAs) have buried in 1000's of pages NOAA's acknowledgment of the deadly threat of offshore wind development to marine mammals. It's in documents that are subject to judicial review. So why lie? Follow the $. #climatscam</td>\n",
       "      <td>0_0</td>\n",
       "      <td>0.848763</td>\n",
       "    </tr>\n",
       "    <tr>\n",
       "      <th>6</th>\n",
       "      <td>The Natural Resources Council once went to SCOTUS to stop the Navy’s seismic testing. Now dead whales &amp;amp; dolphins wash up on NJ &amp;amp; NY beaches (9 whales since December). Biden wants wind &amp;amp; solar at any cost; NOAA &amp;amp; Greenpeace say whale deaths = right-wing lies. Sad. #climatescam</td>\n",
       "      <td>0_0</td>\n",
       "      <td>0.922922</td>\n",
       "    </tr>\n",
       "  </tbody>\n",
       "</table>\n",
       "</div>"
      ],
      "text/plain": [
       "                                                                                                                                                                                                                                                                                                   text  \\\n",
       "0              Greenies believe crisis sells. Per NPR: \"climate change is making aircraft turbulence worse.\" No real world turbulence data demonstrating a problem in a warming world was included. The usual \"climate model studies\" for 60 years into the future were referenced. Send $ #climatescam   \n",
       "1          Mitsubishi &amp; South Pole, both \"carbon credit sellers\", announced one of the largest carbon removal “advanced purchases” to date. Promises to remove climate pollution from the atmosphere are everywhere, but where does the $ go? Net Zero =  accounting schemes. You pay! #climatescam   \n",
       "2                                                    @TonyClimate @MichaelEMann We are blocked as well. Truth be told he's in our book, our historical narrative, he's quoted many times and he's been wrong over and over and over. All from his own predictions. #ClimateScam https://t.co/1ngS6rn5jj   \n",
       "3               The U.S. nat gas pipeline network is vulnerable to electric outages. Greenies pressured Texas to require electric compressors (not gas powered) on natural gas pipelines. The industry got into big problems when the 2021 freeze collapsed the grid. Just say no, people! #climatescam   \n",
       "4       CA has been irresponsible not adding reservoirs &amp; capacity.   No new reservoirs came online during the past 40 years, as population doubled. More reservoirs would hold more water for slow release &amp; make huge  resources available. But they're working on reparations?  #climatescam   \n",
       "5               More re: Whales: Research Environmental Impact Statements (EIAs) have buried in 1000's of pages NOAA's acknowledgment of the deadly threat of offshore wind development to marine mammals. It's in documents that are subject to judicial review. So why lie? Follow the $. #climatscam   \n",
       "6  The Natural Resources Council once went to SCOTUS to stop the Navy’s seismic testing. Now dead whales &amp; dolphins wash up on NJ &amp; NY beaches (9 whales since December). Biden wants wind &amp; solar at any cost; NOAA &amp; Greenpeace say whale deaths = right-wing lies. Sad. #climatescam   \n",
       "\n",
       "  roberta_pred  roberta_proba  \n",
       "0          0_0       0.582158  \n",
       "1          0_0       0.917766  \n",
       "2          5_2       0.999395  \n",
       "3          4_1       0.420037  \n",
       "4          0_0       0.974588  \n",
       "5          0_0       0.848763  \n",
       "6          0_0       0.922922  "
      ]
     },
     "execution_count": 33,
     "metadata": {},
     "output_type": "execute_result"
    }
   ],
   "source": [
    "results[[\"text\", \"roberta_pred\", \"roberta_proba\"]]"
   ]
  },
  {
   "cell_type": "code",
   "execution_count": 34,
   "id": "123d8baf",
   "metadata": {
    "ExecuteTime": {
     "end_time": "2023-05-08T06:08:23.088500Z",
     "start_time": "2023-05-08T06:08:22.931551Z"
    }
   },
   "outputs": [],
   "source": [
    "file = \"../Twitter_scrapped/@ClimateScam_CARDS_predictions_{}.csv\".format(today)\n",
    "climate_scam_hashtag.to_csv(file)"
   ]
  },
  {
   "cell_type": "markdown",
   "id": "8f6f01a2",
   "metadata": {},
   "source": [
    "### CTTs"
   ]
  },
  {
   "cell_type": "code",
   "execution_count": 35,
   "id": "b336d478",
   "metadata": {
    "ExecuteTime": {
     "end_time": "2023-05-08T06:08:23.150256Z",
     "start_time": "2023-05-08T06:08:23.090033Z"
    }
   },
   "outputs": [],
   "source": [
    "tweets['roberta_preprocessed'] = tweets[\"text\"].astype(str).apply(denoise_text)"
   ]
  },
  {
   "cell_type": "code",
   "execution_count": 36,
   "id": "2c0c5bca",
   "metadata": {
    "ExecuteTime": {
     "end_time": "2023-05-08T07:21:33.995324Z",
     "start_time": "2023-05-08T06:08:23.153658Z"
    }
   },
   "outputs": [
    {
     "data": {
      "application/vnd.jupyter.widget-view+json": {
       "model_id": "cd6a620a0ecc4cb193df3e1d920465c1",
       "version_major": 2,
       "version_minor": 0
      },
      "text/plain": [
       "  0%|          | 0/7812 [00:00<?, ?it/s]"
      ]
     },
     "metadata": {},
     "output_type": "display_data"
    },
    {
     "data": {
      "application/vnd.jupyter.widget-view+json": {
       "model_id": "1a5a6b1e8b5b4c7ea8d8c79485647206",
       "version_major": 2,
       "version_minor": 0
      },
      "text/plain": [
       "  0%|          | 0/985 [00:00<?, ?it/s]"
      ]
     },
     "metadata": {},
     "output_type": "display_data"
    },
    {
     "name": "stderr",
     "output_type": "stream",
     "text": [
      "/opt/conda/envs/uni/lib/python3.8/site-packages/simpletransformers/classification/classification_model.py:2253: FutureWarning: Unlike other reduction functions (e.g. `skew`, `kurtosis`), the default behavior of `mode` typically preserves the axis it acts along. In SciPy 1.11.0, this behavior will change: the default value of `keepdims` will become False, the `axis` over which the statistic is taken will be eliminated, and the value None will no longer be accepted. Set `keepdims` to True or False to avoid this warning.\n",
      "  mode_pred, counts = mode(pred_row)\n"
     ]
    }
   ],
   "source": [
    "predictions, raw_outputs = roberta_model.predict(list(tweets.roberta_preprocessed))"
   ]
  },
  {
   "cell_type": "code",
   "execution_count": 37,
   "id": "d7b35d09",
   "metadata": {
    "ExecuteTime": {
     "end_time": "2023-05-08T07:21:34.115139Z",
     "start_time": "2023-05-08T07:21:33.996543Z"
    }
   },
   "outputs": [],
   "source": [
    "tweets['roberta_pred'] = le.inverse_transform(predictions)\n",
    "tweets['roberta_proba'] = [max(softmax(element[0])) for element in raw_outputs]"
   ]
  },
  {
   "cell_type": "code",
   "execution_count": 38,
   "id": "28d9392f",
   "metadata": {
    "ExecuteTime": {
     "end_time": "2023-05-08T07:21:34.127213Z",
     "start_time": "2023-05-08T07:21:34.116340Z"
    }
   },
   "outputs": [
    {
     "data": {
      "text/html": [
       "<div>\n",
       "<style scoped>\n",
       "    .dataframe tbody tr th:only-of-type {\n",
       "        vertical-align: middle;\n",
       "    }\n",
       "\n",
       "    .dataframe tbody tr th {\n",
       "        vertical-align: top;\n",
       "    }\n",
       "\n",
       "    .dataframe thead th {\n",
       "        text-align: right;\n",
       "    }\n",
       "</style>\n",
       "<table border=\"1\" class=\"dataframe\">\n",
       "  <thead>\n",
       "    <tr style=\"text-align: right;\">\n",
       "      <th></th>\n",
       "      <th>roberta_pred</th>\n",
       "    </tr>\n",
       "  </thead>\n",
       "  <tbody>\n",
       "    <tr>\n",
       "      <th>0_0</th>\n",
       "      <td>7751</td>\n",
       "    </tr>\n",
       "    <tr>\n",
       "      <th>5_2</th>\n",
       "      <td>50</td>\n",
       "    </tr>\n",
       "    <tr>\n",
       "      <th>4_1</th>\n",
       "      <td>6</td>\n",
       "    </tr>\n",
       "    <tr>\n",
       "      <th>5_1</th>\n",
       "      <td>2</td>\n",
       "    </tr>\n",
       "    <tr>\n",
       "      <th>2_3</th>\n",
       "      <td>1</td>\n",
       "    </tr>\n",
       "  </tbody>\n",
       "</table>\n",
       "</div>"
      ],
      "text/plain": [
       "     roberta_pred\n",
       "0_0          7751\n",
       "5_2            50\n",
       "4_1             6\n",
       "5_1             2\n",
       "2_3             1"
      ]
     },
     "execution_count": 38,
     "metadata": {},
     "output_type": "execute_result"
    }
   ],
   "source": [
    "# tweets = pd.read_csv(\"@Twitter_CTTs_predictions.csv\")\n",
    "tweets.roberta_pred.value_counts().to_frame().head()"
   ]
  },
  {
   "cell_type": "code",
   "execution_count": 39,
   "id": "72af6d9b",
   "metadata": {
    "ExecuteTime": {
     "end_time": "2023-05-08T07:21:34.137862Z",
     "start_time": "2023-05-08T07:21:34.128143Z"
    }
   },
   "outputs": [
    {
     "data": {
      "text/plain": [
       "(743, 18)"
      ]
     },
     "execution_count": 39,
     "metadata": {},
     "output_type": "execute_result"
    }
   ],
   "source": [
    "tweets[tweets.referenced_tweets.isna()].shape"
   ]
  },
  {
   "cell_type": "code",
   "execution_count": 40,
   "id": "fb31a0da",
   "metadata": {
    "ExecuteTime": {
     "end_time": "2023-05-08T07:21:34.240848Z",
     "start_time": "2023-05-08T07:21:34.138898Z"
    }
   },
   "outputs": [
    {
     "data": {
      "text/plain": [
       "<AxesSubplot:>"
      ]
     },
     "execution_count": 40,
     "metadata": {},
     "output_type": "execute_result"
    },
    {
     "data": {
      "image/png": "[encoded data removed]",
      "text/plain": [
       "<Figure size 432x288 with 1 Axes>"
      ]
     },
     "metadata": {
      "needs_background": "light"
     },
     "output_type": "display_data"
    }
   ],
   "source": [
    "tweets.roberta_pred.hist()"
   ]
  },
  {
   "cell_type": "code",
   "execution_count": 41,
   "id": "c67a1b0e",
   "metadata": {
    "ExecuteTime": {
     "end_time": "2023-05-08T07:21:34.248498Z",
     "start_time": "2023-05-08T07:21:34.242001Z"
    }
   },
   "outputs": [
    {
     "data": {
      "text/html": [
       "<div>\n",
       "<style scoped>\n",
       "    .dataframe tbody tr th:only-of-type {\n",
       "        vertical-align: middle;\n",
       "    }\n",
       "\n",
       "    .dataframe tbody tr th {\n",
       "        vertical-align: top;\n",
       "    }\n",
       "\n",
       "    .dataframe thead th {\n",
       "        text-align: right;\n",
       "    }\n",
       "</style>\n",
       "<table border=\"1\" class=\"dataframe\">\n",
       "  <thead>\n",
       "    <tr style=\"text-align: right;\">\n",
       "      <th></th>\n",
       "      <th>text</th>\n",
       "      <th>roberta_pred</th>\n",
       "      <th>roberta_proba</th>\n",
       "    </tr>\n",
       "  </thead>\n",
       "  <tbody>\n",
       "    <tr>\n",
       "      <th>5841</th>\n",
       "      <td>@Vegasdave59 @Silky422 @NileGardiner @OversightPR @Heritage You don’t speak for no one but you. https://t.co/khm4wFlPFo</td>\n",
       "      <td>0_0</td>\n",
       "      <td>0.999791</td>\n",
       "    </tr>\n",
       "    <tr>\n",
       "      <th>1852</th>\n",
       "      <td>Where Our Students Are Educated: Measuring Student Enrolment in Canada, 2022 https://t.co/27oZMZwMLY via @FraserInstitute</td>\n",
       "      <td>0_0</td>\n",
       "      <td>0.999792</td>\n",
       "    </tr>\n",
       "    <tr>\n",
       "      <th>1772</th>\n",
       "      <td>@ccdeditor @CFACT Nearly all freight train engines are currently propelled by electric motors.  The diesel engines turn generators that power them.  What are they getting at here?  Where will they get the electricity from if they eliminate the generators?</td>\n",
       "      <td>0_0</td>\n",
       "      <td>0.747260</td>\n",
       "    </tr>\n",
       "    <tr>\n",
       "      <th>1787</th>\n",
       "      <td>@iealondon @FraserInstitute This video doesn’t really cover the idea you mentioned. I think this is the one.\\nhttps://t.co/gmvv1WlRku</td>\n",
       "      <td>0_0</td>\n",
       "      <td>0.999743</td>\n",
       "    </tr>\n",
       "    <tr>\n",
       "      <th>2565</th>\n",
       "      <td>@SpeakerMcCarthy @Heritage Even your orange god knew that the debt ceiling should not become a playing piece in a negotiation.</td>\n",
       "      <td>0_0</td>\n",
       "      <td>0.999759</td>\n",
       "    </tr>\n",
       "  </tbody>\n",
       "</table>\n",
       "</div>"
      ],
      "text/plain": [
       "                                                                                                                                                                                                                                                                 text  \\\n",
       "5841                                                                                                                                          @Vegasdave59 @Silky422 @NileGardiner @OversightPR @Heritage You don’t speak for no one but you. https://t.co/khm4wFlPFo   \n",
       "1852                                                                                                                                        Where Our Students Are Educated: Measuring Student Enrolment in Canada, 2022 https://t.co/27oZMZwMLY via @FraserInstitute   \n",
       "1772  @ccdeditor @CFACT Nearly all freight train engines are currently propelled by electric motors.  The diesel engines turn generators that power them.  What are they getting at here?  Where will they get the electricity from if they eliminate the generators?   \n",
       "1787                                                                                                                            @iealondon @FraserInstitute This video doesn’t really cover the idea you mentioned. I think this is the one.\\nhttps://t.co/gmvv1WlRku   \n",
       "2565                                                                                                                                   @SpeakerMcCarthy @Heritage Even your orange god knew that the debt ceiling should not become a playing piece in a negotiation.   \n",
       "\n",
       "     roberta_pred  roberta_proba  \n",
       "5841          0_0       0.999791  \n",
       "1852          0_0       0.999792  \n",
       "1772          0_0       0.747260  \n",
       "1787          0_0       0.999743  \n",
       "2565          0_0       0.999759  "
      ]
     },
     "execution_count": 41,
     "metadata": {},
     "output_type": "execute_result"
    }
   ],
   "source": [
    "tweets[[\"text\", \"roberta_pred\", \"roberta_proba\"]].sample(5)"
   ]
  },
  {
   "cell_type": "code",
   "execution_count": 42,
   "id": "e7d2d5cd",
   "metadata": {
    "ExecuteTime": {
     "end_time": "2023-05-08T07:21:34.257648Z",
     "start_time": "2023-05-08T07:21:34.249517Z"
    }
   },
   "outputs": [
    {
     "data": {
      "text/html": [
       "<div>\n",
       "<style scoped>\n",
       "    .dataframe tbody tr th:only-of-type {\n",
       "        vertical-align: middle;\n",
       "    }\n",
       "\n",
       "    .dataframe tbody tr th {\n",
       "        vertical-align: top;\n",
       "    }\n",
       "\n",
       "    .dataframe thead th {\n",
       "        text-align: right;\n",
       "    }\n",
       "</style>\n",
       "<table border=\"1\" class=\"dataframe\">\n",
       "  <thead>\n",
       "    <tr style=\"text-align: right;\">\n",
       "      <th></th>\n",
       "      <th>text</th>\n",
       "      <th>roberta_pred</th>\n",
       "      <th>roberta_proba</th>\n",
       "    </tr>\n",
       "  </thead>\n",
       "  <tbody>\n",
       "    <tr>\n",
       "      <th>6624</th>\n",
       "      <td>@kasbti @Bishop_Of_Souls @NileGardiner @OversightPR @Heritage He's part of a vast Hydra of Right Wing shills that clog up Twitter trying to push Brits further Right, and distracting them whilst the Conservatives rob the country blind.</td>\n",
       "      <td>5_2</td>\n",
       "      <td>0.721642</td>\n",
       "    </tr>\n",
       "    <tr>\n",
       "      <th>6094</th>\n",
       "      <td>@NileGardiner @OversightPR @Heritage What a ridiculous PR stunt, let me guess trying to distract from the coronation that no one cares about??</td>\n",
       "      <td>5_2</td>\n",
       "      <td>0.989422</td>\n",
       "    </tr>\n",
       "    <tr>\n",
       "      <th>5594</th>\n",
       "      <td>@aroberts_andrew 2 historians - 1 was given a peerage by Johnson for writing BS about Johnson's downfall &amp;amp; visiting Koch funded think tanks, @Heritage &amp;amp; the vile @NileGardiner \\nThe other historian - honest and exactly correct:\\nhttps://t.co/UJWS00cHYY\\n@aroberts_andrew should be kicked out of HoL. https://t.co/Tznouu7NRR</td>\n",
       "      <td>5_2</td>\n",
       "      <td>0.680173</td>\n",
       "    </tr>\n",
       "    <tr>\n",
       "      <th>3500</th>\n",
       "      <td>@lazlototh67 @BenGoldey @Heritage Not stupid at all. Indirect funding of so-called research orgs, govt regulatory agencies, and so-called independent news media is the crux of the problem, where orgs that we trust are basically acting as propaganda / marketing depts for their respective funders.</td>\n",
       "      <td>5_2</td>\n",
       "      <td>0.997194</td>\n",
       "    </tr>\n",
       "    <tr>\n",
       "      <th>4185</th>\n",
       "      <td>@Heritage Who is funding the Heritage Foundation‘s so-called investigation into Prince Harry’s US immigration documents? The fanatical British right-wing media or a white supremicist organization?</td>\n",
       "      <td>5_2</td>\n",
       "      <td>0.990794</td>\n",
       "    </tr>\n",
       "  </tbody>\n",
       "</table>\n",
       "</div>"
      ],
      "text/plain": [
       "                                                                                                                                                                                                                                                                                                                                             text  \\\n",
       "6624                                                                                                   @kasbti @Bishop_Of_Souls @NileGardiner @OversightPR @Heritage He's part of a vast Hydra of Right Wing shills that clog up Twitter trying to push Brits further Right, and distracting them whilst the Conservatives rob the country blind.   \n",
       "6094                                                                                                                                                                                               @NileGardiner @OversightPR @Heritage What a ridiculous PR stunt, let me guess trying to distract from the coronation that no one cares about??   \n",
       "5594  @aroberts_andrew 2 historians - 1 was given a peerage by Johnson for writing BS about Johnson's downfall &amp; visiting Koch funded think tanks, @Heritage &amp; the vile @NileGardiner \\nThe other historian - honest and exactly correct:\\nhttps://t.co/UJWS00cHYY\\n@aroberts_andrew should be kicked out of HoL. https://t.co/Tznouu7NRR   \n",
       "3500                                     @lazlototh67 @BenGoldey @Heritage Not stupid at all. Indirect funding of so-called research orgs, govt regulatory agencies, and so-called independent news media is the crux of the problem, where orgs that we trust are basically acting as propaganda / marketing depts for their respective funders.   \n",
       "4185                                                                                                                                         @Heritage Who is funding the Heritage Foundation‘s so-called investigation into Prince Harry’s US immigration documents? The fanatical British right-wing media or a white supremicist organization?   \n",
       "\n",
       "     roberta_pred  roberta_proba  \n",
       "6624          5_2       0.721642  \n",
       "6094          5_2       0.989422  \n",
       "5594          5_2       0.680173  \n",
       "3500          5_2       0.997194  \n",
       "4185          5_2       0.990794  "
      ]
     },
     "execution_count": 42,
     "metadata": {},
     "output_type": "execute_result"
    }
   ],
   "source": [
    "tweets.loc[tweets.roberta_pred!=\"0_0\", [\"text\", \"roberta_pred\", \"roberta_proba\"]].sample(5)"
   ]
  },
  {
   "cell_type": "code",
   "execution_count": 43,
   "id": "eba2a3ed",
   "metadata": {
    "ExecuteTime": {
     "end_time": "2023-05-08T07:21:34.357707Z",
     "start_time": "2023-05-08T07:21:34.258615Z"
    }
   },
   "outputs": [],
   "source": [
    "file_CTT = \"../Twitter_scrapped/@Twitter_CTTs_predictions_{}.csv\".format(today)\n",
    "tweets.to_csv(file_CTT)"
   ]
  },
  {
   "cell_type": "code",
   "execution_count": 44,
   "id": "92b5fe6e",
   "metadata": {
    "ExecuteTime": {
     "end_time": "2023-05-08T07:21:34.360714Z",
     "start_time": "2023-05-08T07:21:34.358937Z"
    }
   },
   "outputs": [],
   "source": [
    "# samples = (\n",
    "#     tweets.groupby(\"roberta_pred\")\n",
    "#     .sample(10, replace=True)[[\"text\", \"roberta_pred\", \"roberta_proba\"]]\n",
    "#     .drop_duplicates(\"text\")\n",
    "# )\n",
    "# samples.to_csv(\"@Twitter_CTTs_predictions_samples.csv\")"
   ]
  },
  {
   "cell_type": "markdown",
   "id": "07f81dc2",
   "metadata": {},
   "source": [
    "### Denials"
   ]
  },
  {
   "cell_type": "code",
   "execution_count": 45,
   "id": "39fde016",
   "metadata": {
    "ExecuteTime": {
     "end_time": "2023-05-08T08:23:47.510006Z",
     "start_time": "2023-05-08T07:21:34.361814Z"
    }
   },
   "outputs": [
    {
     "data": {
      "application/vnd.jupyter.widget-view+json": {
       "model_id": "4b5ce0bc075f444b97c286394b207673",
       "version_major": 2,
       "version_minor": 0
      },
      "text/plain": [
       "  0%|          | 0/7812 [00:00<?, ?it/s]"
      ]
     },
     "metadata": {},
     "output_type": "display_data"
    },
    {
     "data": {
      "application/vnd.jupyter.widget-view+json": {
       "model_id": "fc13fb3d5b284c3186e8d05d3126d186",
       "version_major": 2,
       "version_minor": 0
      },
      "text/plain": [
       "  0%|          | 0/985 [00:00<?, ?it/s]"
      ]
     },
     "metadata": {},
     "output_type": "display_data"
    },
    {
     "name": "stderr",
     "output_type": "stream",
     "text": [
      "/opt/conda/envs/uni/lib/python3.8/site-packages/simpletransformers/classification/classification_model.py:2253: FutureWarning: Unlike other reduction functions (e.g. `skew`, `kurtosis`), the default behavior of `mode` typically preserves the axis it acts along. In SciPy 1.11.0, this behavior will change: the default value of `keepdims` will become False, the `axis` over which the statistic is taken will be eliminated, and the value None will no longer be accepted. Set `keepdims` to True or False to avoid this warning.\n",
      "  mode_pred, counts = mode(pred_row)\n"
     ]
    }
   ],
   "source": [
    "tweets_denials['roberta_preprocessed'] = tweets_denials[\"text\"].astype(str).apply(denoise_text)\n",
    "predictions, raw_outputs = roberta_model.predict(list(tweets_denials.roberta_preprocessed))"
   ]
  },
  {
   "cell_type": "code",
   "execution_count": 46,
   "id": "5598cb03",
   "metadata": {
    "ExecuteTime": {
     "end_time": "2023-05-08T08:23:47.634881Z",
     "start_time": "2023-05-08T08:23:47.512056Z"
    }
   },
   "outputs": [],
   "source": [
    "tweets_denials['roberta_pred'] = le.inverse_transform(predictions)\n",
    "tweets_denials['roberta_proba'] = [max(softmax(element[0])) for element in raw_outputs]"
   ]
  },
  {
   "cell_type": "code",
   "execution_count": 47,
   "id": "dee506ba",
   "metadata": {
    "ExecuteTime": {
     "end_time": "2023-05-08T08:23:47.637969Z",
     "start_time": "2023-05-08T08:23:47.635968Z"
    }
   },
   "outputs": [],
   "source": [
    "# tweets_denials = pd.read_csv(\"@Twitter_Denials_predictions.csv\")"
   ]
  },
  {
   "cell_type": "code",
   "execution_count": 48,
   "id": "d31312d8",
   "metadata": {
    "ExecuteTime": {
     "end_time": "2023-05-08T08:23:47.647794Z",
     "start_time": "2023-05-08T08:23:47.638887Z"
    }
   },
   "outputs": [
    {
     "data": {
      "text/html": [
       "<div>\n",
       "<style scoped>\n",
       "    .dataframe tbody tr th:only-of-type {\n",
       "        vertical-align: middle;\n",
       "    }\n",
       "\n",
       "    .dataframe tbody tr th {\n",
       "        vertical-align: top;\n",
       "    }\n",
       "\n",
       "    .dataframe thead th {\n",
       "        text-align: right;\n",
       "    }\n",
       "</style>\n",
       "<table border=\"1\" class=\"dataframe\">\n",
       "  <thead>\n",
       "    <tr style=\"text-align: right;\">\n",
       "      <th></th>\n",
       "      <th>roberta_pred</th>\n",
       "    </tr>\n",
       "  </thead>\n",
       "  <tbody>\n",
       "    <tr>\n",
       "      <th>0_0</th>\n",
       "      <td>7751</td>\n",
       "    </tr>\n",
       "    <tr>\n",
       "      <th>5_2</th>\n",
       "      <td>50</td>\n",
       "    </tr>\n",
       "    <tr>\n",
       "      <th>4_1</th>\n",
       "      <td>6</td>\n",
       "    </tr>\n",
       "    <tr>\n",
       "      <th>5_1</th>\n",
       "      <td>2</td>\n",
       "    </tr>\n",
       "    <tr>\n",
       "      <th>2_3</th>\n",
       "      <td>1</td>\n",
       "    </tr>\n",
       "  </tbody>\n",
       "</table>\n",
       "</div>"
      ],
      "text/plain": [
       "     roberta_pred\n",
       "0_0          7751\n",
       "5_2            50\n",
       "4_1             6\n",
       "5_1             2\n",
       "2_3             1"
      ]
     },
     "execution_count": 48,
     "metadata": {},
     "output_type": "execute_result"
    }
   ],
   "source": [
    "tweets_denials.roberta_pred.value_counts().to_frame().head()"
   ]
  },
  {
   "cell_type": "code",
   "execution_count": 49,
   "id": "f44d64bf",
   "metadata": {
    "ExecuteTime": {
     "end_time": "2023-05-08T08:23:47.750297Z",
     "start_time": "2023-05-08T08:23:47.648759Z"
    }
   },
   "outputs": [
    {
     "data": {
      "text/plain": [
       "<AxesSubplot:>"
      ]
     },
     "execution_count": 49,
     "metadata": {},
     "output_type": "execute_result"
    },
    {
     "data": {
      "image/png": "[encoded data removed]",
      "text/plain": [
       "<Figure size 432x288 with 1 Axes>"
      ]
     },
     "metadata": {
      "needs_background": "light"
     },
     "output_type": "display_data"
    }
   ],
   "source": [
    "tweets_denials.roberta_pred.hist()"
   ]
  },
  {
   "cell_type": "code",
   "execution_count": 50,
   "id": "335ec6e9",
   "metadata": {
    "ExecuteTime": {
     "end_time": "2023-05-08T08:23:47.765988Z",
     "start_time": "2023-05-08T08:23:47.752061Z"
    }
   },
   "outputs": [
    {
     "data": {
      "text/html": [
       "<div>\n",
       "<style scoped>\n",
       "    .dataframe tbody tr th:only-of-type {\n",
       "        vertical-align: middle;\n",
       "    }\n",
       "\n",
       "    .dataframe tbody tr th {\n",
       "        vertical-align: top;\n",
       "    }\n",
       "\n",
       "    .dataframe thead th {\n",
       "        text-align: right;\n",
       "    }\n",
       "</style>\n",
       "<table border=\"1\" class=\"dataframe\">\n",
       "  <thead>\n",
       "    <tr style=\"text-align: right;\">\n",
       "      <th></th>\n",
       "      <th>text</th>\n",
       "      <th>roberta_pred</th>\n",
       "      <th>roberta_proba</th>\n",
       "    </tr>\n",
       "  </thead>\n",
       "  <tbody>\n",
       "    <tr>\n",
       "      <th>4712</th>\n",
       "      <td>@SenatorSinema When @Heritage bought you they shopped big.</td>\n",
       "      <td>0_0</td>\n",
       "      <td>0.999731</td>\n",
       "    </tr>\n",
       "    <tr>\n",
       "      <th>7192</th>\n",
       "      <td>@StaggerLee2112 @deadendangel @markary77 @WalshFreedom @Heritage @FoxNews I know I have fewer than 100 followers, but let's be real: a blue check is more than just a status symbol. Selling verification undermines its authenticity and value. Twitter can sell exclusive features without tying them to verification status.</td>\n",
       "      <td>0_0</td>\n",
       "      <td>0.999758</td>\n",
       "    </tr>\n",
       "    <tr>\n",
       "      <th>4311</th>\n",
       "      <td>@BenGoldey @Heritage She is incredibly good at responding to Senator Whitehouse question and reminding him who he is, a corrupt two faced muck raker!</td>\n",
       "      <td>0_0</td>\n",
       "      <td>0.999381</td>\n",
       "    </tr>\n",
       "    <tr>\n",
       "      <th>4202</th>\n",
       "      <td>@BenGoldey @Heritage She is just amazing.</td>\n",
       "      <td>0_0</td>\n",
       "      <td>0.999782</td>\n",
       "    </tr>\n",
       "    <tr>\n",
       "      <th>2499</th>\n",
       "      <td>@KevinRobertsTX @BasedMikeLee @Heritage @SpeakerMcCarthy Let’s talk DHS-Let’s talk elections. It’s not just about censorship. @Jim_Jordan The TX Dir of Elec testified before congress. He lied. This is how DHS got into our elections. If the DHS does such a great job-how did Konnech use China servers. We have the receipts. https://t.co/racAK5TLrW</td>\n",
       "      <td>0_0</td>\n",
       "      <td>0.999663</td>\n",
       "    </tr>\n",
       "  </tbody>\n",
       "</table>\n",
       "</div>"
      ],
      "text/plain": [
       "                                                                                                                                                                                                                                                                                                                                                            text  \\\n",
       "4712                                                                                                                                                                                                                                                                                                  @SenatorSinema When @Heritage bought you they shopped big.   \n",
       "7192                             @StaggerLee2112 @deadendangel @markary77 @WalshFreedom @Heritage @FoxNews I know I have fewer than 100 followers, but let's be real: a blue check is more than just a status symbol. Selling verification undermines its authenticity and value. Twitter can sell exclusive features without tying them to verification status.   \n",
       "4311                                                                                                                                                                                                       @BenGoldey @Heritage She is incredibly good at responding to Senator Whitehouse question and reminding him who he is, a corrupt two faced muck raker!   \n",
       "4202                                                                                                                                                                                                                                                                                                                   @BenGoldey @Heritage She is just amazing.   \n",
       "2499  @KevinRobertsTX @BasedMikeLee @Heritage @SpeakerMcCarthy Let’s talk DHS-Let’s talk elections. It’s not just about censorship. @Jim_Jordan The TX Dir of Elec testified before congress. He lied. This is how DHS got into our elections. If the DHS does such a great job-how did Konnech use China servers. We have the receipts. https://t.co/racAK5TLrW   \n",
       "\n",
       "     roberta_pred  roberta_proba  \n",
       "4712          0_0       0.999731  \n",
       "7192          0_0       0.999758  \n",
       "4311          0_0       0.999381  \n",
       "4202          0_0       0.999782  \n",
       "2499          0_0       0.999663  "
      ]
     },
     "execution_count": 50,
     "metadata": {},
     "output_type": "execute_result"
    }
   ],
   "source": [
    "tweets_denials[[\"text\", \"roberta_pred\", \"roberta_proba\"]].sample(5)"
   ]
  },
  {
   "cell_type": "code",
   "execution_count": 51,
   "id": "376e7fc1",
   "metadata": {
    "ExecuteTime": {
     "end_time": "2023-05-08T08:23:47.773548Z",
     "start_time": "2023-05-08T08:23:47.767187Z"
    }
   },
   "outputs": [
    {
     "data": {
      "text/html": [
       "<div>\n",
       "<style scoped>\n",
       "    .dataframe tbody tr th:only-of-type {\n",
       "        vertical-align: middle;\n",
       "    }\n",
       "\n",
       "    .dataframe tbody tr th {\n",
       "        vertical-align: top;\n",
       "    }\n",
       "\n",
       "    .dataframe thead th {\n",
       "        text-align: right;\n",
       "    }\n",
       "</style>\n",
       "<table border=\"1\" class=\"dataframe\">\n",
       "  <thead>\n",
       "    <tr style=\"text-align: right;\">\n",
       "      <th></th>\n",
       "      <th>text</th>\n",
       "      <th>roberta_pred</th>\n",
       "      <th>roberta_proba</th>\n",
       "    </tr>\n",
       "  </thead>\n",
       "  <tbody>\n",
       "    <tr>\n",
       "      <th>6822</th>\n",
       "      <td>@Heritage That knucklehead illegally entered this country TWICE during the #Trump administration and Trumps billion dollar WALL accomplished, what??? https://t.co/bCUVbAP6oQ</td>\n",
       "      <td>5_2</td>\n",
       "      <td>0.861272</td>\n",
       "    </tr>\n",
       "    <tr>\n",
       "      <th>468</th>\n",
       "      <td>@ericuman @AEI So Eric are you also upset at Joe Biden staying at billionaire donors houses multiple times while serving as VP and as President?? Or does he get a fucking pass because he is a fucking liberal???</td>\n",
       "      <td>5_2</td>\n",
       "      <td>0.835268</td>\n",
       "    </tr>\n",
       "    <tr>\n",
       "      <th>4185</th>\n",
       "      <td>@Heritage Who is funding the Heritage Foundation‘s so-called investigation into Prince Harry’s US immigration documents? The fanatical British right-wing media or a white supremicist organization?</td>\n",
       "      <td>5_2</td>\n",
       "      <td>0.990794</td>\n",
       "    </tr>\n",
       "    <tr>\n",
       "      <th>4231</th>\n",
       "      <td>@DFR_Economics @Heritage The EV our government is forcing on the US Postal Service will be a disaster. Even in an Iowa winter they will have difficulty staying charged. Snow and ice covered rural roads are not an EV’s friend.</td>\n",
       "      <td>4_1</td>\n",
       "      <td>0.965653</td>\n",
       "    </tr>\n",
       "    <tr>\n",
       "      <th>6704</th>\n",
       "      <td>@NileGardiner @OversightPR @Heritage All fake Nile\\nThese papers have been sorted long ago\\nNice try\\nHow is the con a nation coming along https://t.co/Rs2ThNO2tz</td>\n",
       "      <td>5_2</td>\n",
       "      <td>0.731270</td>\n",
       "    </tr>\n",
       "  </tbody>\n",
       "</table>\n",
       "</div>"
      ],
      "text/plain": [
       "                                                                                                                                                                                                                                   text  \\\n",
       "6822                                                      @Heritage That knucklehead illegally entered this country TWICE during the #Trump administration and Trumps billion dollar WALL accomplished, what??? https://t.co/bCUVbAP6oQ   \n",
       "468                  @ericuman @AEI So Eric are you also upset at Joe Biden staying at billionaire donors houses multiple times while serving as VP and as President?? Or does he get a fucking pass because he is a fucking liberal???   \n",
       "4185                               @Heritage Who is funding the Heritage Foundation‘s so-called investigation into Prince Harry’s US immigration documents? The fanatical British right-wing media or a white supremicist organization?   \n",
       "4231  @DFR_Economics @Heritage The EV our government is forcing on the US Postal Service will be a disaster. Even in an Iowa winter they will have difficulty staying charged. Snow and ice covered rural roads are not an EV’s friend.   \n",
       "6704                                                                 @NileGardiner @OversightPR @Heritage All fake Nile\\nThese papers have been sorted long ago\\nNice try\\nHow is the con a nation coming along https://t.co/Rs2ThNO2tz   \n",
       "\n",
       "     roberta_pred  roberta_proba  \n",
       "6822          5_2       0.861272  \n",
       "468           5_2       0.835268  \n",
       "4185          5_2       0.990794  \n",
       "4231          4_1       0.965653  \n",
       "6704          5_2       0.731270  "
      ]
     },
     "execution_count": 51,
     "metadata": {},
     "output_type": "execute_result"
    }
   ],
   "source": [
    "tweets_denials.loc[tweets_denials.roberta_pred!=\"0_0\", [\"text\", \"roberta_pred\", \"roberta_proba\"]].sample(5)"
   ]
  },
  {
   "cell_type": "code",
   "execution_count": 52,
   "id": "55037ac3",
   "metadata": {
    "ExecuteTime": {
     "end_time": "2023-05-08T08:23:47.878250Z",
     "start_time": "2023-05-08T08:23:47.774627Z"
    }
   },
   "outputs": [],
   "source": [
    "file_denials = \"../Twitter_scrapped/@Twitter_Denials_predictions_{}.csv\".format(today)\n",
    "tweets_denials.to_csv(file_denials)"
   ]
  },
  {
   "cell_type": "code",
   "execution_count": 53,
   "id": "f4269e84",
   "metadata": {
    "ExecuteTime": {
     "end_time": "2023-05-08T08:23:47.887650Z",
     "start_time": "2023-05-08T08:23:47.879343Z"
    }
   },
   "outputs": [],
   "source": [
    "samples = (\n",
    "    tweets_denials.groupby(\"roberta_pred\")\n",
    "    .sample(10, replace=True)[[\"text\", \"roberta_pred\", \"roberta_proba\"]]\n",
    "    .drop_duplicates(\"text\")\n",
    ")\n",
    "samples.to_csv(\"@Twitter_Denials_predictions_samples.csv\")"
   ]
  }
 ],
 "metadata": {
  "kernelspec": {
   "display_name": "Python 3 (ipykernel)",
   "language": "python",
   "name": "python3"
  },
  "language_info": {
   "codemirror_mode": {
    "name": "ipython",
    "version": 3
   },
   "file_extension": ".py",
   "mimetype": "text/x-python",
   "name": "python",
   "nbconvert_exporter": "python",
   "pygments_lexer": "ipython3",
   "version": "3.8.13"
  },
  "toc": {
   "base_numbering": 1,
   "nav_menu": {},
   "number_sections": true,
   "sideBar": true,
   "skip_h1_title": false,
   "title_cell": "Table of Contents",
   "title_sidebar": "Contents",
   "toc_cell": false,
   "toc_position": {
    "height": "calc(100% - 180px)",
    "left": "10px",
    "top": "150px",
    "width": "192px"
   },
   "toc_section_display": true,
   "toc_window_display": true
  }
 },
 "nbformat": 4,
 "nbformat_minor": 5
}
