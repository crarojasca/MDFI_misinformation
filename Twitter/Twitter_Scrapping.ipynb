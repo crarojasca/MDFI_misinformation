{
 "cells": [
  {
   "cell_type": "code",
   "execution_count": 1,
   "id": "14c897c8",
   "metadata": {
    "ExecuteTime": {
     "end_time": "2023-03-13T00:32:01.140217Z",
     "start_time": "2023-03-13T00:32:00.116590Z"
    }
   },
   "outputs": [
    {
     "name": "stderr",
     "output_type": "stream",
     "text": [
      "[nltk_data] Downloading package stopwords to\n",
      "[nltk_data]     /home/crarojasca/nltk_data...\n",
      "[nltk_data]   Package stopwords is already up-to-date!\n"
     ]
    }
   ],
   "source": [
    "import os\n",
    "import re\n",
    "import json\n",
    "import math\n",
    "import time\n",
    "import demoji\n",
    "import curlify\n",
    "import requests\n",
    "import pandas as pd\n",
    "\n",
    "import pickle\n",
    "from scipy.special import softmax\n",
    "\n",
    "import nltk\n",
    "from nltk.corpus import stopwords\n",
    "nltk.download('stopwords')\n",
    "\n",
    "from tqdm.notebook import tqdm\n",
    "\n",
    "all_stopwords = stopwords.words('english')\n",
    "pd.set_option('display.max_colwidth', None)\n",
    "\n",
    "bearer_token = \"AAAAAAAAAAAAAAAAAAAAADSXjAEAAAAAQ32sCpTWcilVX%2BQj0BjOArOSYCE%3DUax6ZCizLRwwQcWQirExGQEDEB903dxBZKM4LAuGTMTvMa4jVP\"\n",
    "\n",
    "from datetime import date\n",
    "\n",
    "today = date.today()"
   ]
  },
  {
   "cell_type": "code",
   "execution_count": 2,
   "id": "d3b87777",
   "metadata": {
    "ExecuteTime": {
     "end_time": "2023-03-13T00:32:01.143679Z",
     "start_time": "2023-03-13T00:32:01.141734Z"
    }
   },
   "outputs": [],
   "source": [
    "SCRAP_CTTS = True\n",
    "SCRAP_DENIALS = True"
   ]
  },
  {
   "cell_type": "markdown",
   "id": "b47abf26",
   "metadata": {},
   "source": [
    "## Functions"
   ]
  },
  {
   "cell_type": "code",
   "execution_count": 3,
   "id": "5ac1a3c7",
   "metadata": {
    "ExecuteTime": {
     "end_time": "2023-03-13T00:32:01.153737Z",
     "start_time": "2023-03-13T00:32:01.144717Z"
    }
   },
   "outputs": [],
   "source": [
    "s = requests.Session()\n",
    "def getTweets(query, max_results=None, next_token=None):\n",
    "    # Twitter Endpoint\n",
    "    url = \"https://api.twitter.com/2/tweets/search/recent\"\n",
    "    \n",
    "    # Auth Bearer no research access or premium for the moment\n",
    "    headers = {\n",
    "        \"Authorization\": \"Bearer {}\".format(bearer_token)\n",
    "    }\n",
    "    \n",
    "    # Query parameters\n",
    "    params = {\n",
    "        'query': query,\n",
    "    #     'start_time': start_date,\n",
    "    #     'end_time': end_date,\n",
    "        'expansions': 'author_id,in_reply_to_user_id,geo.place_id',\n",
    "        'tweet.fields': 'id,text,author_id,in_reply_to_user_id,geo,conversation_id,created_at,lang,public_metrics,referenced_tweets,reply_settings,source',\n",
    "        'user.fields': 'id,name,username,created_at,description,public_metrics,verified',\n",
    "        'place.fields': 'full_name,id,country,country_code,geo,name,place_type',\n",
    "        'next_token': {}\n",
    "    }\n",
    "    if max_results: params['max_results'] = max_results\n",
    "    if next_token: params['next_token'] = next_token\n",
    "\n",
    "    try:\n",
    "        time.sleep(6)\n",
    "        req = requests.Request(\n",
    "            \"GET\",\n",
    "            url,\n",
    "            params=params,\n",
    "            headers=headers\n",
    "        ).prepare()\n",
    "\n",
    "        response = s.send(req)\n",
    "        results = json.loads(response.text)\n",
    "        return results\n",
    "    except:\n",
    "        print(json.loads(response.text))\n",
    "\n",
    "def getUser(username):\n",
    "    # User Endpoint \n",
    "    url = \"https://api.twitter.com/2/users/by/username/\" + username\n",
    "    # Auth Bearer no research access or premium for the moment\n",
    "    headers = {\n",
    "        \"Authorization\": \"Bearer {}\".format(bearer_token)\n",
    "    }\n",
    "\n",
    "    params = {\n",
    "        'tweet.fields': 'id,text,author_id,in_reply_to_user_id,geo,conversation_id,created_at,lang,public_metrics,referenced_tweets,reply_settings,source',\n",
    "        'user.fields': 'id,name,username,created_at,description,public_metrics,verified',\n",
    "        'next_token': {}\n",
    "    }\n",
    "    \n",
    "    time.sleep(1)\n",
    "    try:\n",
    "        req = requests.Request(\n",
    "            \"GET\",\n",
    "            url,\n",
    "            params=params,\n",
    "            headers=headers\n",
    "        ).prepare()\n",
    "\n",
    "        response = s.send(req)\n",
    "        results = json.loads(response.text)[\"data\"]\n",
    "\n",
    "        return json.loads(response.text)[\"data\"]\n",
    "    except:\n",
    "        print(json.loads(response.text)[\"errors\"][0][\"detail\"])\n",
    "\n",
    "\n",
    "def count_tweets(query):\n",
    "    # User Endpoint \n",
    "    url = \"https://api.twitter.com/2/tweets/counts/recent\"\n",
    "    # Auth Bearer no research access or premium for the moment\n",
    "    headers = {\n",
    "        \"Authorization\": \"Bearer {}\".format(bearer_token)\n",
    "    }\n",
    "\n",
    "    params = {\n",
    "        \"query\": query,\n",
    "        \"granularity\": \"day\"\n",
    "    }\n",
    "\n",
    "    time.sleep(1)\n",
    "    req = requests.Request(\n",
    "        \"GET\",\n",
    "        url,\n",
    "        params=params,\n",
    "        headers=headers\n",
    "    ).prepare()\n",
    "\n",
    "    response = s.send(req)\n",
    "    results = json.loads(response.text)\n",
    "    return results[\"meta\"][\"total_tweet_count\"]\n",
    "    \n",
    "    \n",
    "def extract_data(query, max_result=100):\n",
    "    data = pd.DataFrame()\n",
    "\n",
    "    # Scrap all the data up to the last page\n",
    "    next_token = None\n",
    "\n",
    "    n_tweets = count_tweets(query)\n",
    "    if n_tweets==0:\n",
    "        return data\n",
    "    \n",
    "    #\n",
    "    pbar = tqdm(total=math.ceil(n_tweets/max_result))\n",
    "    while True:\n",
    "        pbar.update(1)\n",
    "        try:\n",
    "            results = getTweets(query=query, max_results=max_result, next_token=next_token)\n",
    "            data = pd.concat([data, pd.DataFrame(results[\"data\"])], ignore_index=True)\n",
    "            if not \"next_token\" in results[\"meta\"]:\n",
    "                break\n",
    "            next_token = results[\"meta\"][\"next_token\"] \n",
    "        except:\n",
    "            print(results)\n",
    "            break\n",
    "    pbar.close()\n",
    "    \n",
    "    # Reordering de columns\n",
    "    columns = list(data.columns)\n",
    "    columns.remove(\"text\")\n",
    "    columns.remove(\"public_metrics\")\n",
    "    data = data[[\"text\", \"public_metrics\"] + columns]\n",
    "    return data\n",
    "\n",
    "def preprocess_text(text):\n",
    "    # Lower\n",
    "    preprocessed_text = text.lower()\n",
    "    # Remove Handle\n",
    "    preprocessed_text = re.sub(\"@\\w+\", \"\", preprocessed_text)\n",
    "    # Remove Hashtag\n",
    "    preprocessed_text = re.sub(\"#\\w+\", \"\", preprocessed_text)\n",
    "    # Remove Links\n",
    "    preprocessed_text = re.sub(r'http[s]?:\\S+', '', preprocessed_text, flags=re.MULTILINE)\n",
    "    # Remove emotes \n",
    "    preprocessed_text = demoji.replace(preprocessed_text, \"\")\n",
    "    # Remove new line\n",
    "    preprocessed_text = re.sub(\"\\\\n\", \"\", preprocessed_text)\n",
    "    # Remove extra spaces \n",
    "    preprocessed_text = preprocessed_text.strip()\n",
    "    \n",
    "    return preprocessed_text\n",
    "\n",
    "def get_data(query):\n",
    "    results = extract_data(query)\n",
    "    results[\"preprocessed_text\"] = results[\"text\"].apply(preprocess_text)\n",
    "    results = results.sort_values(by=\"created_at\", ascending=False)\n",
    "    results = results.drop_duplicates(subset=['text'], keep='last')\n",
    "    results = results[(results.preprocessed_text!=\"\")].copy(deep=True)\n",
    "    return results"
   ]
  },
  {
   "cell_type": "markdown",
   "id": "ef419342",
   "metadata": {},
   "source": [
    "## ClimateScam\n",
    "### Original Page"
   ]
  },
  {
   "cell_type": "code",
   "execution_count": 4,
   "id": "ce7f904b",
   "metadata": {
    "ExecuteTime": {
     "end_time": "2023-03-13T00:32:09.064524Z",
     "start_time": "2023-03-13T00:32:01.155419Z"
    },
    "scrolled": true
   },
   "outputs": [
    {
     "data": {
      "application/vnd.jupyter.widget-view+json": {
       "model_id": "6a23a177f5d44cb3a3a3abb1a8af726d",
       "version_major": 2,
       "version_minor": 0
      },
      "text/plain": [
       "  0%|          | 0/1 [00:00<?, ?it/s]"
      ]
     },
     "metadata": {},
     "output_type": "display_data"
    },
    {
     "name": "stdout",
     "output_type": "stream",
     "text": [
      "(7, 12)\n"
     ]
    },
    {
     "data": {
      "text/html": [
       "<div>\n",
       "<style scoped>\n",
       "    .dataframe tbody tr th:only-of-type {\n",
       "        vertical-align: middle;\n",
       "    }\n",
       "\n",
       "    .dataframe tbody tr th {\n",
       "        vertical-align: top;\n",
       "    }\n",
       "\n",
       "    .dataframe thead th {\n",
       "        text-align: right;\n",
       "    }\n",
       "</style>\n",
       "<table border=\"1\" class=\"dataframe\">\n",
       "  <thead>\n",
       "    <tr style=\"text-align: right;\">\n",
       "      <th></th>\n",
       "      <th>preprocessed_text</th>\n",
       "      <th>text</th>\n",
       "      <th>public_metrics</th>\n",
       "    </tr>\n",
       "  </thead>\n",
       "  <tbody>\n",
       "    <tr>\n",
       "      <th>0</th>\n",
       "      <td>press coverage of the tragic whale deaths is an attempt to exonerate offshore wind development. sonar blasting is killing whales indirectly by inducing deafness &amp;amp; deadly behavior. more whales have found themselves in the path of more ships. whales aren't born deaf.</td>\n",
       "      <td>Press coverage of the tragic whale deaths is an attempt to exonerate offshore wind development. Sonar blasting is killing whales indirectly by inducing deafness &amp;amp; deadly behavior. More whales have found themselves in the path of more ships. Whales aren't born deaf. #climatescam</td>\n",
       "      <td>{'retweet_count': 24, 'reply_count': 4, 'like_count': 72, 'quote_count': 2, 'impression_count': 1522}</td>\n",
       "    </tr>\n",
       "    <tr>\n",
       "      <th>1</th>\n",
       "      <td>love the plymouth rock story. 400 + years since the pilgrims &amp;amp; it's still there, not underwater, reminding people to go down the block &amp;amp; see where bert's restaurant got flooded out by a nor'easter. bert's had good food but didn't survive the storm. plymouth rock did.</td>\n",
       "      <td>@MOLLYMMMMMMMMMM Love the Plymouth Rock story. 400 + years since the Pilgrims &amp;amp; it's still there, not underwater, reminding people to go down the block &amp;amp; see where Bert's Restaurant got flooded out by a Nor'easter. Bert's had good food but didn't survive the storm. Plymouth Rock did. #climatescam</td>\n",
       "      <td>{'retweet_count': 1, 'reply_count': 1, 'like_count': 0, 'quote_count': 0, 'impression_count': 57}</td>\n",
       "    </tr>\n",
       "    <tr>\n",
       "      <th>2</th>\n",
       "      <td>the washington post asserted that climate change had reduced colorado river flow &amp;amp; was drying up reservoirs like lake powell &amp;amp; lake mead. the river's inflows haven't changed since 1895. these levels &amp;amp; flow issues are due to overuse. wapo people want $. scam!</td>\n",
       "      <td>The Washington Post asserted that climate change had reduced Colorado River flow &amp;amp; was drying up reservoirs like Lake Powell &amp;amp; Lake Mead. The River's inflows haven't changed since 1895. These levels &amp;amp; flow issues are due to overuse. WAPO people want $. SCAM!  #climatescam</td>\n",
       "      <td>{'retweet_count': 24, 'reply_count': 9, 'like_count': 85, 'quote_count': 1, 'impression_count': 2136}</td>\n",
       "    </tr>\n",
       "    <tr>\n",
       "      <th>3</th>\n",
       "      <td>july 2021: london got a month’s rain in 3 hours. 2 weeks later, it happened again. the univ. of bristol blamed climate change &amp;amp; predicted 100 years of floods. nov. 2022: they said \"due to co2 emissions, the uk &amp;amp; the globe have increased hot, dry conditions.\"  really?</td>\n",
       "      <td>July 2021: London got a month’s rain in 3 hours. 2 weeks later, it happened again. The Univ. of Bristol blamed climate change &amp;amp; predicted 100 years of floods. Nov. 2022: they said \"Due to CO2 emissions, the UK &amp;amp; the globe have increased hot, dry conditions.\"  Really? #climatescam</td>\n",
       "      <td>{'retweet_count': 22, 'reply_count': 7, 'like_count': 62, 'quote_count': 1, 'impression_count': 6388}</td>\n",
       "    </tr>\n",
       "    <tr>\n",
       "      <th>4</th>\n",
       "      <td>texas leads the u.s. with wind power, is 2nd with solar capacity, &amp;amp; is adding grid-scale batteries faster than any state (ex ca). new plants must prove that they add to the network. tx permits quickly, but renewables cost $. the price for guarantees = + $3 bil. ouch!</td>\n",
       "      <td>Texas leads the U.S. with wind power, is 2nd with solar capacity, &amp;amp; is adding grid-scale batteries faster than any state (ex CA). New plants must prove that they add to the network. TX permits quickly, but renewables cost $. The price for guarantees = + $3 Bil. Ouch! #climatescam</td>\n",
       "      <td>{'retweet_count': 5, 'reply_count': 5, 'like_count': 25, 'quote_count': 0, 'impression_count': 1016}</td>\n",
       "    </tr>\n",
       "    <tr>\n",
       "      <th>5</th>\n",
       "      <td>exxon announced biofuel is out, leaving carbon capture &amp;amp; storage (ccs) as the “green” strategy at exxonmobil.  reason:  algae doesn't work. the end of algae as a crude oil substitute comes after $350 million &amp;amp; 14 years of commitment. exxon is committed to oil &amp;amp; gas.</td>\n",
       "      <td>Exxon announced Biofuel is out, leaving carbon capture &amp;amp; storage (CCS) as the “green” strategy at ExxonMobil.  Reason:  algae doesn't work. The end of algae as a crude oil substitute comes after $350 million &amp;amp; 14 years of commitment. Exxon is committed to oil &amp;amp; gas. #climatescam</td>\n",
       "      <td>{'retweet_count': 17, 'reply_count': 2, 'like_count': 65, 'quote_count': 1, 'impression_count': 1394}</td>\n",
       "    </tr>\n",
       "    <tr>\n",
       "      <th>6</th>\n",
       "      <td>global suv sales increased despite obstacles &amp;amp; rising inflation, growing by 3% between 2021 &amp;amp; 2022. in 2022, suvs = 46% of global car sales. most growth came in the u.s., india and europe. evs = 16% of total suv sales in '22. greenies: don't tell us what to drive!</td>\n",
       "      <td>Global SUV sales increased despite obstacles &amp;amp; rising inflation, growing by 3% between 2021 &amp;amp; 2022. In 2022, SUVs = 46% of global car sales. Most growth came in the U.S., India and Europe. EVs = 16% of total SUV sales in '22. Greenies: don't tell us what to drive! #climatescam</td>\n",
       "      <td>{'retweet_count': 8, 'reply_count': 1, 'like_count': 51, 'quote_count': 0, 'impression_count': 1300}</td>\n",
       "    </tr>\n",
       "  </tbody>\n",
       "</table>\n",
       "</div>"
      ],
      "text/plain": [
       "                                                                                                                                                                                                                                                                        preprocessed_text  \\\n",
       "0           press coverage of the tragic whale deaths is an attempt to exonerate offshore wind development. sonar blasting is killing whales indirectly by inducing deafness &amp; deadly behavior. more whales have found themselves in the path of more ships. whales aren't born deaf.   \n",
       "1     love the plymouth rock story. 400 + years since the pilgrims &amp; it's still there, not underwater, reminding people to go down the block &amp; see where bert's restaurant got flooded out by a nor'easter. bert's had good food but didn't survive the storm. plymouth rock did.   \n",
       "2          the washington post asserted that climate change had reduced colorado river flow &amp; was drying up reservoirs like lake powell &amp; lake mead. the river's inflows haven't changed since 1895. these levels &amp; flow issues are due to overuse. wapo people want $. scam!   \n",
       "3     july 2021: london got a month’s rain in 3 hours. 2 weeks later, it happened again. the univ. of bristol blamed climate change &amp; predicted 100 years of floods. nov. 2022: they said \"due to co2 emissions, the uk &amp; the globe have increased hot, dry conditions.\"  really?   \n",
       "4         texas leads the u.s. with wind power, is 2nd with solar capacity, &amp; is adding grid-scale batteries faster than any state (ex ca). new plants must prove that they add to the network. tx permits quickly, but renewables cost $. the price for guarantees = + $3 bil. ouch!   \n",
       "5  exxon announced biofuel is out, leaving carbon capture &amp; storage (ccs) as the “green” strategy at exxonmobil.  reason:  algae doesn't work. the end of algae as a crude oil substitute comes after $350 million &amp; 14 years of commitment. exxon is committed to oil &amp; gas.   \n",
       "6        global suv sales increased despite obstacles &amp; rising inflation, growing by 3% between 2021 &amp; 2022. in 2022, suvs = 46% of global car sales. most growth came in the u.s., india and europe. evs = 16% of total suv sales in '22. greenies: don't tell us what to drive!   \n",
       "\n",
       "                                                                                                                                                                                                                                                                                                                text  \\\n",
       "0                         Press coverage of the tragic whale deaths is an attempt to exonerate offshore wind development. Sonar blasting is killing whales indirectly by inducing deafness &amp; deadly behavior. More whales have found themselves in the path of more ships. Whales aren't born deaf. #climatescam   \n",
       "1  @MOLLYMMMMMMMMMM Love the Plymouth Rock story. 400 + years since the Pilgrims &amp; it's still there, not underwater, reminding people to go down the block &amp; see where Bert's Restaurant got flooded out by a Nor'easter. Bert's had good food but didn't survive the storm. Plymouth Rock did. #climatescam   \n",
       "2                       The Washington Post asserted that climate change had reduced Colorado River flow &amp; was drying up reservoirs like Lake Powell &amp; Lake Mead. The River's inflows haven't changed since 1895. These levels &amp; flow issues are due to overuse. WAPO people want $. SCAM!  #climatescam   \n",
       "3                   July 2021: London got a month’s rain in 3 hours. 2 weeks later, it happened again. The Univ. of Bristol blamed climate change &amp; predicted 100 years of floods. Nov. 2022: they said \"Due to CO2 emissions, the UK &amp; the globe have increased hot, dry conditions.\"  Really? #climatescam   \n",
       "4                       Texas leads the U.S. with wind power, is 2nd with solar capacity, &amp; is adding grid-scale batteries faster than any state (ex CA). New plants must prove that they add to the network. TX permits quickly, but renewables cost $. The price for guarantees = + $3 Bil. Ouch! #climatescam   \n",
       "5                Exxon announced Biofuel is out, leaving carbon capture &amp; storage (CCS) as the “green” strategy at ExxonMobil.  Reason:  algae doesn't work. The end of algae as a crude oil substitute comes after $350 million &amp; 14 years of commitment. Exxon is committed to oil &amp; gas. #climatescam   \n",
       "6                      Global SUV sales increased despite obstacles &amp; rising inflation, growing by 3% between 2021 &amp; 2022. In 2022, SUVs = 46% of global car sales. Most growth came in the U.S., India and Europe. EVs = 16% of total SUV sales in '22. Greenies: don't tell us what to drive! #climatescam   \n",
       "\n",
       "                                                                                          public_metrics  \n",
       "0  {'retweet_count': 24, 'reply_count': 4, 'like_count': 72, 'quote_count': 2, 'impression_count': 1522}  \n",
       "1      {'retweet_count': 1, 'reply_count': 1, 'like_count': 0, 'quote_count': 0, 'impression_count': 57}  \n",
       "2  {'retweet_count': 24, 'reply_count': 9, 'like_count': 85, 'quote_count': 1, 'impression_count': 2136}  \n",
       "3  {'retweet_count': 22, 'reply_count': 7, 'like_count': 62, 'quote_count': 1, 'impression_count': 6388}  \n",
       "4   {'retweet_count': 5, 'reply_count': 5, 'like_count': 25, 'quote_count': 0, 'impression_count': 1016}  \n",
       "5  {'retweet_count': 17, 'reply_count': 2, 'like_count': 65, 'quote_count': 1, 'impression_count': 1394}  \n",
       "6   {'retweet_count': 8, 'reply_count': 1, 'like_count': 51, 'quote_count': 0, 'impression_count': 1300}  "
      ]
     },
     "execution_count": 4,
     "metadata": {},
     "output_type": "execute_result"
    }
   ],
   "source": [
    "results = get_data(\"from:ClimateScam\")\n",
    "print(results.shape)\n",
    "results[[\"preprocessed_text\", \"text\", \"public_metrics\"]]"
   ]
  },
  {
   "cell_type": "markdown",
   "id": "528e3880",
   "metadata": {},
   "source": [
    "### Complete lines"
   ]
  },
  {
   "cell_type": "code",
   "execution_count": 5,
   "id": "4f710fe2",
   "metadata": {
    "ExecuteTime": {
     "end_time": "2023-03-13T01:13:39.155057Z",
     "start_time": "2023-03-13T00:32:09.065738Z"
    },
    "scrolled": true
   },
   "outputs": [
    {
     "data": {
      "application/vnd.jupyter.widget-view+json": {
       "model_id": "1d4f35d8f81a41fc9aa2b5556a0eba1e",
       "version_major": 2,
       "version_minor": 0
      },
      "text/plain": [
       "  0%|          | 0/358 [00:00<?, ?it/s]"
      ]
     },
     "metadata": {},
     "output_type": "display_data"
    },
    {
     "name": "stdout",
     "output_type": "stream",
     "text": [
      "(10702, 14)\n"
     ]
    },
    {
     "data": {
      "text/html": [
       "<div>\n",
       "<style scoped>\n",
       "    .dataframe tbody tr th:only-of-type {\n",
       "        vertical-align: middle;\n",
       "    }\n",
       "\n",
       "    .dataframe tbody tr th {\n",
       "        vertical-align: top;\n",
       "    }\n",
       "\n",
       "    .dataframe thead th {\n",
       "        text-align: right;\n",
       "    }\n",
       "</style>\n",
       "<table border=\"1\" class=\"dataframe\">\n",
       "  <thead>\n",
       "    <tr style=\"text-align: right;\">\n",
       "      <th></th>\n",
       "      <th>preprocessed_text</th>\n",
       "      <th>text</th>\n",
       "      <th>public_metrics</th>\n",
       "    </tr>\n",
       "  </thead>\n",
       "  <tbody>\n",
       "    <tr>\n",
       "      <th>17</th>\n",
       "      <td>\"they owned nothing, and yet they were happier than they had ever been before.\" stop</td>\n",
       "      <td>\"They owned nothing, and yet they were happier than they had ever been before.\" 🤡\\n\\nStop #digital #enslavement🤡\\n\\n#CrimesAgainstHumanity\\n\\n#TheNewWorldOrder #GreatReset #Control #Power #Economy #ClimateScam #WEFpuppets #STOP #CBDCs #UkraineTerror #GruenerMist #Bitcoin   #Crypto https://t.co/qh5dSlvPz3</td>\n",
       "      <td>{'retweet_count': 0, 'reply_count': 0, 'like_count': 0, 'quote_count': 0, 'impression_count': 17}</td>\n",
       "    </tr>\n",
       "    <tr>\n",
       "      <th>25</th>\n",
       "      <td>rt : new climate news: new study deepens understanding of present-day changes in earth's environmental systems -- sciencedail…</td>\n",
       "      <td>RT @HavaClimate: New Climate News: \\n\\nNew study deepens understanding of present-day changes in Earth's environmental systems -- ScienceDail…</td>\n",
       "      <td>{'retweet_count': 1, 'reply_count': 0, 'like_count': 0, 'quote_count': 0, 'impression_count': 0}</td>\n",
       "    </tr>\n",
       "    <tr>\n",
       "      <th>29</th>\n",
       "      <td>new climate news: new study deepens understanding of present-day changes in earth's environmental systems -- sciencedaily</td>\n",
       "      <td>New Climate News: \\n\\nNew study deepens understanding of present-day changes in Earth's environmental systems -- ScienceDaily\\n\\n#climatecrisis #climateaction #esg #carbon #sustainability #netzero #climatescam #globalwarming #climatechange\\nhttps://t.co/3Ob3QdF5WY</td>\n",
       "      <td>{'retweet_count': 1, 'reply_count': 0, 'like_count': 0, 'quote_count': 0, 'impression_count': 4}</td>\n",
       "    </tr>\n",
       "    <tr>\n",
       "      <th>37</th>\n",
       "      <td>rt :  nothing but insults from the king of climate bull crap. no evidence just fear mongering porn.  what a pathet…</td>\n",
       "      <td>RT @randyhorst3: @GeraldKutney Nothing but insults from the king of climate bull crap. No evidence just fear mongering porn.  What a pathet…</td>\n",
       "      <td>{'retweet_count': 1, 'reply_count': 0, 'like_count': 0, 'quote_count': 0, 'impression_count': 0}</td>\n",
       "    </tr>\n",
       "    <tr>\n",
       "      <th>40</th>\n",
       "      <td>nothing but insults from the king of climate bull crap. no evidence just fear mongering porn.  what a pathetic lying liberal paid propaganda mouthpiece.   show your evidence climate preacher.</td>\n",
       "      <td>@GeraldKutney Nothing but insults from the king of climate bull crap. No evidence just fear mongering porn.  What a pathetic lying liberal paid propaganda mouthpiece.   Show your evidence climate preacher.  #ClimateScam https://t.co/TyZrL5hDgE</td>\n",
       "      <td>{'retweet_count': 1, 'reply_count': 0, 'like_count': 1, 'quote_count': 0, 'impression_count': 37}</td>\n",
       "    </tr>\n",
       "  </tbody>\n",
       "</table>\n",
       "</div>"
      ],
      "text/plain": [
       "                                                                                                                                                                                  preprocessed_text  \\\n",
       "17                                                                                                             \"they owned nothing, and yet they were happier than they had ever been before.\" stop   \n",
       "25                                                                   rt : new climate news: new study deepens understanding of present-day changes in earth's environmental systems -- sciencedail…   \n",
       "29                                                                        new climate news: new study deepens understanding of present-day changes in earth's environmental systems -- sciencedaily   \n",
       "37                                                                              rt :  nothing but insults from the king of climate bull crap. no evidence just fear mongering porn.  what a pathet…   \n",
       "40  nothing but insults from the king of climate bull crap. no evidence just fear mongering porn.  what a pathetic lying liberal paid propaganda mouthpiece.   show your evidence climate preacher.   \n",
       "\n",
       "                                                                                                                                                                                                                                                                                                                 text  \\\n",
       "17  \"They owned nothing, and yet they were happier than they had ever been before.\" 🤡\\n\\nStop #digital #enslavement🤡\\n\\n#CrimesAgainstHumanity\\n\\n#TheNewWorldOrder #GreatReset #Control #Power #Economy #ClimateScam #WEFpuppets #STOP #CBDCs #UkraineTerror #GruenerMist #Bitcoin   #Crypto https://t.co/qh5dSlvPz3   \n",
       "25                                                                                                                                                                     RT @HavaClimate: New Climate News: \\n\\nNew study deepens understanding of present-day changes in Earth's environmental systems -- ScienceDail…   \n",
       "29                                           New Climate News: \\n\\nNew study deepens understanding of present-day changes in Earth's environmental systems -- ScienceDaily\\n\\n#climatecrisis #climateaction #esg #carbon #sustainability #netzero #climatescam #globalwarming #climatechange\\nhttps://t.co/3Ob3QdF5WY   \n",
       "37                                                                                                                                                                       RT @randyhorst3: @GeraldKutney Nothing but insults from the king of climate bull crap. No evidence just fear mongering porn.  What a pathet…   \n",
       "40                                                                @GeraldKutney Nothing but insults from the king of climate bull crap. No evidence just fear mongering porn.  What a pathetic lying liberal paid propaganda mouthpiece.   Show your evidence climate preacher.  #ClimateScam https://t.co/TyZrL5hDgE   \n",
       "\n",
       "                                                                                       public_metrics  \n",
       "17  {'retweet_count': 0, 'reply_count': 0, 'like_count': 0, 'quote_count': 0, 'impression_count': 17}  \n",
       "25   {'retweet_count': 1, 'reply_count': 0, 'like_count': 0, 'quote_count': 0, 'impression_count': 0}  \n",
       "29   {'retweet_count': 1, 'reply_count': 0, 'like_count': 0, 'quote_count': 0, 'impression_count': 4}  \n",
       "37   {'retweet_count': 1, 'reply_count': 0, 'like_count': 0, 'quote_count': 0, 'impression_count': 0}  \n",
       "40  {'retweet_count': 1, 'reply_count': 0, 'like_count': 1, 'quote_count': 0, 'impression_count': 37}  "
      ]
     },
     "execution_count": 5,
     "metadata": {},
     "output_type": "execute_result"
    }
   ],
   "source": [
    "climate_scam_handle = get_data(\"@ClimateScam OR #ClimateScam OR from:ClimateScam -is:retweet\")\n",
    "print(climate_scam_handle.shape)\n",
    "climate_scam_handle[[\"preprocessed_text\", \"text\", \"public_metrics\"]].head()"
   ]
  },
  {
   "cell_type": "code",
   "execution_count": 6,
   "id": "8cd43de2",
   "metadata": {
    "ExecuteTime": {
     "end_time": "2023-03-13T01:22:11.852628Z",
     "start_time": "2023-03-13T01:13:39.156421Z"
    },
    "scrolled": true
   },
   "outputs": [
    {
     "data": {
      "application/vnd.jupyter.widget-view+json": {
       "model_id": "3eb90306106e4f11954aaa12fb9e9f5c",
       "version_major": 2,
       "version_minor": 0
      },
      "text/plain": [
       "  0%|          | 0/73 [00:00<?, ?it/s]"
      ]
     },
     "metadata": {},
     "output_type": "display_data"
    },
    {
     "name": "stdout",
     "output_type": "stream",
     "text": [
      "(5648, 13)\n"
     ]
    }
   ],
   "source": [
    "climate_scam_hashtag = get_data(\"#ClimateScam -is:retweet\")\n",
    "print(climate_scam_hashtag.shape)"
   ]
  },
  {
   "cell_type": "code",
   "execution_count": 7,
   "id": "745e7529",
   "metadata": {
    "ExecuteTime": {
     "end_time": "2023-03-13T01:22:11.861389Z",
     "start_time": "2023-03-13T01:22:11.853992Z"
    }
   },
   "outputs": [
    {
     "data": {
      "text/html": [
       "<div>\n",
       "<style scoped>\n",
       "    .dataframe tbody tr th:only-of-type {\n",
       "        vertical-align: middle;\n",
       "    }\n",
       "\n",
       "    .dataframe tbody tr th {\n",
       "        vertical-align: top;\n",
       "    }\n",
       "\n",
       "    .dataframe thead th {\n",
       "        text-align: right;\n",
       "    }\n",
       "</style>\n",
       "<table border=\"1\" class=\"dataframe\">\n",
       "  <thead>\n",
       "    <tr style=\"text-align: right;\">\n",
       "      <th></th>\n",
       "      <th>preprocessed_text</th>\n",
       "      <th>text</th>\n",
       "      <th>public_metrics</th>\n",
       "    </tr>\n",
       "  </thead>\n",
       "  <tbody>\n",
       "    <tr>\n",
       "      <th>1102</th>\n",
       "      <td>to all the below morons who believed a kid who barely went to school….    you have all been hypnotised and followed, are still following the great climate hoax!wake up!</td>\n",
       "      <td>#ClimateCult #ClimateScam \\n\\nTo all the below morons who believed a kid who barely went to school….\\n#ClimateAction \\n#ClimateCrisis \\n#ClimateCatastrophe \\n#ClimateEmergency \\n\\nYou have all been hypnotised and followed, are still following the great climate hoax!\\n\\nWake up! https://t.co/P4pUMyDzSX</td>\n",
       "      <td>{'retweet_count': 1, 'reply_count': 0, 'like_count': 1, 'quote_count': 0, 'impression_count': 68}</td>\n",
       "    </tr>\n",
       "    <tr>\n",
       "      <th>3104</th>\n",
       "      <td>let's see how many celebrities grab their phone and scream climate change! we all know climate change is just a   for the elites</td>\n",
       "      <td>@NWS Let's see how many celebrities grab their phone and scream climate change! \\nWe all know climate change is just a #ClimateScam #MoneyGrab for the elites</td>\n",
       "      <td>{'retweet_count': 1, 'reply_count': 2, 'like_count': 1, 'quote_count': 0, 'impression_count': 85}</td>\n",
       "    </tr>\n",
       "    <tr>\n",
       "      <th>6261</th>\n",
       "      <td>as you stated “our house is on fire” you are right it is all the gaslighting all your  is doing.  .</td>\n",
       "      <td>@Laurel_BC @NDP As you stated “Our house is on fire” you are right it is all the gaslighting all your #misinformation is doing. #ClimateScam #HAARP.</td>\n",
       "      <td>{'retweet_count': 2, 'reply_count': 0, 'like_count': 3, 'quote_count': 0, 'impression_count': 102}</td>\n",
       "    </tr>\n",
       "    <tr>\n",
       "      <th>5772</th>\n",
       "      <td>3)   whilst it has deplorable conditions and requires changes, not only in the way the pursuit for cheeper food to feed the animals, has lead to animals that produce meat products that no longer contain nutrients and vitamins -</td>\n",
       "      <td>@Greenpeace 3)\\n#ClimateEmergency #ClimateEducation #ClimateScam \\nwhilst it has deplorable conditions and requires changes, not only in the way the pursuit for cheeper food to feed the animals, has lead to animals that produce meat products that no longer contain nutrients and vitamins -</td>\n",
       "      <td>{'retweet_count': 0, 'reply_count': 1, 'like_count': 0, 'quote_count': 0, 'impression_count': 20}</td>\n",
       "    </tr>\n",
       "    <tr>\n",
       "      <th>3249</th>\n",
       "      <td>it is march 10, 2023 and i am still looking for a downside to the planet returning to its more typical warmer climate.</td>\n",
       "      <td>#ClimateJustice #ClimateEmergency #ClimateCrisis #ClimateAction #ClimateStrike #ClimateScam #Climate It is March 10, 2023 and I am STILL looking for a downside to the planet returning to its more typical warmer climate.</td>\n",
       "      <td>{'retweet_count': 1, 'reply_count': 0, 'like_count': 0, 'quote_count': 0, 'impression_count': 40}</td>\n",
       "    </tr>\n",
       "  </tbody>\n",
       "</table>\n",
       "</div>"
      ],
      "text/plain": [
       "                                                                                                                                                                                                                        preprocessed_text  \\\n",
       "1102                                                             to all the below morons who believed a kid who barely went to school….    you have all been hypnotised and followed, are still following the great climate hoax!wake up!   \n",
       "3104                                                                                                     let's see how many celebrities grab their phone and scream climate change! we all know climate change is just a   for the elites   \n",
       "6261                                                                                                                                  as you stated “our house is on fire” you are right it is all the gaslighting all your  is doing.  .   \n",
       "5772  3)   whilst it has deplorable conditions and requires changes, not only in the way the pursuit for cheeper food to feed the animals, has lead to animals that produce meat products that no longer contain nutrients and vitamins -   \n",
       "3249                                                                                                               it is march 10, 2023 and i am still looking for a downside to the planet returning to its more typical warmer climate.   \n",
       "\n",
       "                                                                                                                                                                                                                                                                                                                text  \\\n",
       "1102  #ClimateCult #ClimateScam \\n\\nTo all the below morons who believed a kid who barely went to school….\\n#ClimateAction \\n#ClimateCrisis \\n#ClimateCatastrophe \\n#ClimateEmergency \\n\\nYou have all been hypnotised and followed, are still following the great climate hoax!\\n\\nWake up! https://t.co/P4pUMyDzSX   \n",
       "3104                                                                                                                                                   @NWS Let's see how many celebrities grab their phone and scream climate change! \\nWe all know climate change is just a #ClimateScam #MoneyGrab for the elites   \n",
       "6261                                                                                                                                                            @Laurel_BC @NDP As you stated “Our house is on fire” you are right it is all the gaslighting all your #misinformation is doing. #ClimateScam #HAARP.   \n",
       "5772               @Greenpeace 3)\\n#ClimateEmergency #ClimateEducation #ClimateScam \\nwhilst it has deplorable conditions and requires changes, not only in the way the pursuit for cheeper food to feed the animals, has lead to animals that produce meat products that no longer contain nutrients and vitamins -   \n",
       "3249                                                                                     #ClimateJustice #ClimateEmergency #ClimateCrisis #ClimateAction #ClimateStrike #ClimateScam #Climate It is March 10, 2023 and I am STILL looking for a downside to the planet returning to its more typical warmer climate.   \n",
       "\n",
       "                                                                                          public_metrics  \n",
       "1102   {'retweet_count': 1, 'reply_count': 0, 'like_count': 1, 'quote_count': 0, 'impression_count': 68}  \n",
       "3104   {'retweet_count': 1, 'reply_count': 2, 'like_count': 1, 'quote_count': 0, 'impression_count': 85}  \n",
       "6261  {'retweet_count': 2, 'reply_count': 0, 'like_count': 3, 'quote_count': 0, 'impression_count': 102}  \n",
       "5772   {'retweet_count': 0, 'reply_count': 1, 'like_count': 0, 'quote_count': 0, 'impression_count': 20}  \n",
       "3249   {'retweet_count': 1, 'reply_count': 0, 'like_count': 0, 'quote_count': 0, 'impression_count': 40}  "
      ]
     },
     "execution_count": 7,
     "metadata": {},
     "output_type": "execute_result"
    }
   ],
   "source": [
    "climate_scam_hashtag[[\"preprocessed_text\", \"text\", \"public_metrics\"]].sample(5)"
   ]
  },
  {
   "cell_type": "code",
   "execution_count": 8,
   "id": "a531658e",
   "metadata": {
    "ExecuteTime": {
     "end_time": "2023-03-13T01:22:11.974619Z",
     "start_time": "2023-03-13T01:22:11.862935Z"
    }
   },
   "outputs": [
    {
     "data": {
      "text/html": [
       "<div>\n",
       "<style scoped>\n",
       "    .dataframe tbody tr th:only-of-type {\n",
       "        vertical-align: middle;\n",
       "    }\n",
       "\n",
       "    .dataframe tbody tr th {\n",
       "        vertical-align: top;\n",
       "    }\n",
       "\n",
       "    .dataframe thead th {\n",
       "        text-align: right;\n",
       "    }\n",
       "</style>\n",
       "<table border=\"1\" class=\"dataframe\">\n",
       "  <thead>\n",
       "    <tr style=\"text-align: right;\">\n",
       "      <th></th>\n",
       "      <th>Word</th>\n",
       "      <th>Frequency</th>\n",
       "    </tr>\n",
       "  </thead>\n",
       "  <tbody>\n",
       "    <tr>\n",
       "      <th>0</th>\n",
       "      <td>#ClimateScam</td>\n",
       "      <td>4853</td>\n",
       "    </tr>\n",
       "    <tr>\n",
       "      <th>12</th>\n",
       "      <td>climate</td>\n",
       "      <td>689</td>\n",
       "    </tr>\n",
       "    <tr>\n",
       "      <th>17</th>\n",
       "      <td>#climatescam</td>\n",
       "      <td>514</td>\n",
       "    </tr>\n",
       "    <tr>\n",
       "      <th>28</th>\n",
       "      <td>#WEF</td>\n",
       "      <td>383</td>\n",
       "    </tr>\n",
       "    <tr>\n",
       "      <th>31</th>\n",
       "      <td>#Agenda2030</td>\n",
       "      <td>361</td>\n",
       "    </tr>\n",
       "    <tr>\n",
       "      <th>35</th>\n",
       "      <td>&amp;amp;</td>\n",
       "      <td>336</td>\n",
       "    </tr>\n",
       "    <tr>\n",
       "      <th>37</th>\n",
       "      <td>#GreatReset</td>\n",
       "      <td>318</td>\n",
       "    </tr>\n",
       "    <tr>\n",
       "      <th>38</th>\n",
       "      <td>Climate</td>\n",
       "      <td>316</td>\n",
       "    </tr>\n",
       "    <tr>\n",
       "      <th>39</th>\n",
       "      <td>@MikeHudema</td>\n",
       "      <td>310</td>\n",
       "    </tr>\n",
       "    <tr>\n",
       "      <th>41</th>\n",
       "      <td>#ClimateEmergency</td>\n",
       "      <td>286</td>\n",
       "    </tr>\n",
       "    <tr>\n",
       "      <th>42</th>\n",
       "      <td>people</td>\n",
       "      <td>283</td>\n",
       "    </tr>\n",
       "    <tr>\n",
       "      <th>46</th>\n",
       "      <td>|</td>\n",
       "      <td>265</td>\n",
       "    </tr>\n",
       "    <tr>\n",
       "      <th>53</th>\n",
       "      <td>change</td>\n",
       "      <td>230</td>\n",
       "    </tr>\n",
       "    <tr>\n",
       "      <th>54</th>\n",
       "      <td>like</td>\n",
       "      <td>230</td>\n",
       "    </tr>\n",
       "    <tr>\n",
       "      <th>55</th>\n",
       "      <td>January</td>\n",
       "      <td>227</td>\n",
       "    </tr>\n",
       "    <tr>\n",
       "      <th>56</th>\n",
       "      <td>#ClimateCrisis</td>\n",
       "      <td>226</td>\n",
       "    </tr>\n",
       "    <tr>\n",
       "      <th>57</th>\n",
       "      <td>would</td>\n",
       "      <td>223</td>\n",
       "    </tr>\n",
       "    <tr>\n",
       "      <th>60</th>\n",
       "      <td>-</td>\n",
       "      <td>209</td>\n",
       "    </tr>\n",
       "    <tr>\n",
       "      <th>63</th>\n",
       "      <td>years</td>\n",
       "      <td>201</td>\n",
       "    </tr>\n",
       "    <tr>\n",
       "      <th>68</th>\n",
       "      <td>#stemzeweg</td>\n",
       "      <td>183</td>\n",
       "    </tr>\n",
       "    <tr>\n",
       "      <th>73</th>\n",
       "      <td>snow</td>\n",
       "      <td>169</td>\n",
       "    </tr>\n",
       "    <tr>\n",
       "      <th>74</th>\n",
       "      <td>#WEFpuppet's</td>\n",
       "      <td>168</td>\n",
       "    </tr>\n",
       "    <tr>\n",
       "      <th>75</th>\n",
       "      <td>#Verkiezingen15maart</td>\n",
       "      <td>168</td>\n",
       "    </tr>\n",
       "    <tr>\n",
       "      <th>80</th>\n",
       "      <td>#NietMijnRegering</td>\n",
       "      <td>156</td>\n",
       "    </tr>\n",
       "    <tr>\n",
       "      <th>81</th>\n",
       "      <td>@GretaThunberg</td>\n",
       "      <td>155</td>\n",
       "    </tr>\n",
       "    <tr>\n",
       "      <th>83</th>\n",
       "      <td>\"climate</td>\n",
       "      <td>150</td>\n",
       "    </tr>\n",
       "    <tr>\n",
       "      <th>84</th>\n",
       "      <td>get</td>\n",
       "      <td>148</td>\n",
       "    </tr>\n",
       "    <tr>\n",
       "      <th>86</th>\n",
       "      <td>CO2</td>\n",
       "      <td>146</td>\n",
       "    </tr>\n",
       "    <tr>\n",
       "      <th>87</th>\n",
       "      <td>world</td>\n",
       "      <td>146</td>\n",
       "    </tr>\n",
       "    <tr>\n",
       "      <th>88</th>\n",
       "      <td>believe</td>\n",
       "      <td>144</td>\n",
       "    </tr>\n",
       "  </tbody>\n",
       "</table>\n",
       "</div>"
      ],
      "text/plain": [
       "                    Word  Frequency\n",
       "0           #ClimateScam       4853\n",
       "12               climate        689\n",
       "17          #climatescam        514\n",
       "28                  #WEF        383\n",
       "31           #Agenda2030        361\n",
       "35                 &amp;        336\n",
       "37           #GreatReset        318\n",
       "38               Climate        316\n",
       "39           @MikeHudema        310\n",
       "41     #ClimateEmergency        286\n",
       "42                people        283\n",
       "46                     |        265\n",
       "53                change        230\n",
       "54                  like        230\n",
       "55               January        227\n",
       "56        #ClimateCrisis        226\n",
       "57                 would        223\n",
       "60                     -        209\n",
       "63                 years        201\n",
       "68            #stemzeweg        183\n",
       "73                  snow        169\n",
       "74          #WEFpuppet's        168\n",
       "75  #Verkiezingen15maart        168\n",
       "80     #NietMijnRegering        156\n",
       "81        @GretaThunberg        155\n",
       "83              \"climate        150\n",
       "84                   get        148\n",
       "86                   CO2        146\n",
       "87                 world        146\n",
       "88               believe        144"
      ]
     },
     "execution_count": 8,
     "metadata": {},
     "output_type": "execute_result"
    }
   ],
   "source": [
    "def count_words(col):    \n",
    "    df = col.str.split(expand=True).stack().value_counts().reset_index()\n",
    "    df.columns = ['Word', 'Frequency'] \n",
    "    df = df[~df[\"Word\"].str.lower().isin(all_stopwords)]\n",
    "    return df\n",
    "\n",
    "count_words(climate_scam_hashtag.text)[:30]"
   ]
  },
  {
   "cell_type": "markdown",
   "id": "fbc9010d",
   "metadata": {},
   "source": [
    "## CTTs\n",
    "### Extracting\n",
    "#### Users"
   ]
  },
  {
   "cell_type": "code",
   "execution_count": 9,
   "id": "b12c4727",
   "metadata": {
    "ExecuteTime": {
     "end_time": "2023-03-13T01:22:11.983442Z",
     "start_time": "2023-03-13T01:22:11.975746Z"
    }
   },
   "outputs": [
    {
     "data": {
      "text/html": [
       "<div>\n",
       "<style scoped>\n",
       "    .dataframe tbody tr th:only-of-type {\n",
       "        vertical-align: middle;\n",
       "    }\n",
       "\n",
       "    .dataframe tbody tr th {\n",
       "        vertical-align: top;\n",
       "    }\n",
       "\n",
       "    .dataframe thead th {\n",
       "        text-align: right;\n",
       "    }\n",
       "</style>\n",
       "<table border=\"1\" class=\"dataframe\">\n",
       "  <thead>\n",
       "    <tr style=\"text-align: right;\">\n",
       "      <th></th>\n",
       "      <th>screen_name</th>\n",
       "      <th>Followers</th>\n",
       "      <th>Type</th>\n",
       "      <th>Name</th>\n",
       "    </tr>\n",
       "  </thead>\n",
       "  <tbody>\n",
       "    <tr>\n",
       "      <th>0</th>\n",
       "      <td>capitalresearch</td>\n",
       "      <td>5023</td>\n",
       "      <td>CTT</td>\n",
       "      <td>Capital Research Center</td>\n",
       "    </tr>\n",
       "    <tr>\n",
       "      <th>1</th>\n",
       "      <td>ceidotorg</td>\n",
       "      <td>12565</td>\n",
       "      <td>CTT</td>\n",
       "      <td>Competitive Enterprise Institute</td>\n",
       "    </tr>\n",
       "    <tr>\n",
       "      <th>2</th>\n",
       "      <td>NationalCenter</td>\n",
       "      <td>7807</td>\n",
       "      <td>CTT</td>\n",
       "      <td>National Center for Public Policy Research</td>\n",
       "    </tr>\n",
       "    <tr>\n",
       "      <th>3</th>\n",
       "      <td>ReasonFdn</td>\n",
       "      <td>7030</td>\n",
       "      <td>CTT</td>\n",
       "      <td>Reason Foundation</td>\n",
       "    </tr>\n",
       "    <tr>\n",
       "      <th>4</th>\n",
       "      <td>ACSHorg</td>\n",
       "      <td>5734</td>\n",
       "      <td>CTT</td>\n",
       "      <td>American Council on Science and Health</td>\n",
       "    </tr>\n",
       "    <tr>\n",
       "      <th>5</th>\n",
       "      <td>AEI</td>\n",
       "      <td>151109</td>\n",
       "      <td>CTT</td>\n",
       "      <td>American Enterprise Institute</td>\n",
       "    </tr>\n",
       "    <tr>\n",
       "      <th>6</th>\n",
       "      <td>CatoInstitute</td>\n",
       "      <td>362920</td>\n",
       "      <td>CTT</td>\n",
       "      <td>CATO Institute</td>\n",
       "    </tr>\n",
       "    <tr>\n",
       "      <th>7</th>\n",
       "      <td>CFACT</td>\n",
       "      <td>13985</td>\n",
       "      <td>CTT</td>\n",
       "      <td>CFACT</td>\n",
       "    </tr>\n",
       "    <tr>\n",
       "      <th>8</th>\n",
       "      <td>FoF_Liberty</td>\n",
       "      <td>236</td>\n",
       "      <td>CTT</td>\n",
       "      <td>Frontiers of Freedom</td>\n",
       "    </tr>\n",
       "    <tr>\n",
       "      <th>9</th>\n",
       "      <td>FraserInstitute</td>\n",
       "      <td>31658</td>\n",
       "      <td>CTT</td>\n",
       "      <td>Fraser Institute</td>\n",
       "    </tr>\n",
       "    <tr>\n",
       "      <th>10</th>\n",
       "      <td>FreedomWorks</td>\n",
       "      <td>270144</td>\n",
       "      <td>CTT</td>\n",
       "      <td>FreedomWorks</td>\n",
       "    </tr>\n",
       "    <tr>\n",
       "      <th>11</th>\n",
       "      <td>HeartlandInst</td>\n",
       "      <td>14831</td>\n",
       "      <td>CTT</td>\n",
       "      <td>Heartland Institute</td>\n",
       "    </tr>\n",
       "    <tr>\n",
       "      <th>12</th>\n",
       "      <td>Heritage</td>\n",
       "      <td>624504</td>\n",
       "      <td>CTT</td>\n",
       "      <td>Heritage Foundation</td>\n",
       "    </tr>\n",
       "    <tr>\n",
       "      <th>13</th>\n",
       "      <td>HudsonInstitute</td>\n",
       "      <td>73046</td>\n",
       "      <td>CTT</td>\n",
       "      <td>Hudson Institute</td>\n",
       "    </tr>\n",
       "    <tr>\n",
       "      <th>14</th>\n",
       "      <td>ManhattanInst</td>\n",
       "      <td>60456</td>\n",
       "      <td>CTT</td>\n",
       "      <td>Manhattan Institute</td>\n",
       "    </tr>\n",
       "    <tr>\n",
       "      <th>15</th>\n",
       "      <td>PacificResearch</td>\n",
       "      <td>4222</td>\n",
       "      <td>CTT</td>\n",
       "      <td>Pacific Research Institute for Public Policy</td>\n",
       "    </tr>\n",
       "    <tr>\n",
       "      <th>16</th>\n",
       "      <td>WAPolicyCenter</td>\n",
       "      <td>4141</td>\n",
       "      <td>CTT</td>\n",
       "      <td>Washington Policy Center</td>\n",
       "    </tr>\n",
       "  </tbody>\n",
       "</table>\n",
       "</div>"
      ],
      "text/plain": [
       "        screen_name  Followers Type  \\\n",
       "0   capitalresearch       5023  CTT   \n",
       "1         ceidotorg      12565  CTT   \n",
       "2    NationalCenter       7807  CTT   \n",
       "3         ReasonFdn       7030  CTT   \n",
       "4           ACSHorg       5734  CTT   \n",
       "5               AEI     151109  CTT   \n",
       "6     CatoInstitute     362920  CTT   \n",
       "7             CFACT      13985  CTT   \n",
       "8       FoF_Liberty        236  CTT   \n",
       "9   FraserInstitute      31658  CTT   \n",
       "10     FreedomWorks     270144  CTT   \n",
       "11    HeartlandInst      14831  CTT   \n",
       "12         Heritage     624504  CTT   \n",
       "13  HudsonInstitute      73046  CTT   \n",
       "14    ManhattanInst      60456  CTT   \n",
       "15  PacificResearch       4222  CTT   \n",
       "16   WAPolicyCenter       4141  CTT   \n",
       "\n",
       "                                            Name  \n",
       "0                        Capital Research Center  \n",
       "1               Competitive Enterprise Institute  \n",
       "2     National Center for Public Policy Research  \n",
       "3                              Reason Foundation  \n",
       "4         American Council on Science and Health  \n",
       "5                  American Enterprise Institute  \n",
       "6                                 CATO Institute  \n",
       "7                                          CFACT  \n",
       "8                           Frontiers of Freedom  \n",
       "9                               Fraser Institute  \n",
       "10                                  FreedomWorks  \n",
       "11                           Heartland Institute  \n",
       "12                           Heritage Foundation  \n",
       "13                              Hudson Institute  \n",
       "14                           Manhattan Institute  \n",
       "15  Pacific Research Institute for Public Policy  \n",
       "16                      Washington Policy Center  "
      ]
     },
     "execution_count": 9,
     "metadata": {},
     "output_type": "execute_result"
    }
   ],
   "source": [
    "ctts = pd.read_csv(\"../CTTs/ctt_twitter_handles.csv\")\n",
    "ctts"
   ]
  },
  {
   "cell_type": "code",
   "execution_count": 10,
   "id": "7e0c3d21",
   "metadata": {
    "ExecuteTime": {
     "end_time": "2023-03-13T01:22:32.942964Z",
     "start_time": "2023-03-13T01:22:11.985379Z"
    }
   },
   "outputs": [
    {
     "data": {
      "text/html": [
       "<div>\n",
       "<style scoped>\n",
       "    .dataframe tbody tr th:only-of-type {\n",
       "        vertical-align: middle;\n",
       "    }\n",
       "\n",
       "    .dataframe tbody tr th {\n",
       "        vertical-align: top;\n",
       "    }\n",
       "\n",
       "    .dataframe thead th {\n",
       "        text-align: right;\n",
       "    }\n",
       "</style>\n",
       "<table border=\"1\" class=\"dataframe\">\n",
       "  <thead>\n",
       "    <tr style=\"text-align: right;\">\n",
       "      <th></th>\n",
       "      <th>screen_name</th>\n",
       "      <th>Followers</th>\n",
       "      <th>Type</th>\n",
       "      <th>Name</th>\n",
       "      <th>followers_count</th>\n",
       "      <th>following_count</th>\n",
       "      <th>tweet_count</th>\n",
       "      <th>listed_count</th>\n",
       "      <th>description</th>\n",
       "      <th>id</th>\n",
       "      <th>verified</th>\n",
       "      <th>created_at</th>\n",
       "    </tr>\n",
       "  </thead>\n",
       "  <tbody>\n",
       "    <tr>\n",
       "      <th>0</th>\n",
       "      <td>capitalresearch</td>\n",
       "      <td>5023</td>\n",
       "      <td>CTT</td>\n",
       "      <td>Capital Research Center</td>\n",
       "      <td>5636.0</td>\n",
       "      <td>3115.0</td>\n",
       "      <td>8992.0</td>\n",
       "      <td>117.0</td>\n",
       "      <td>Capital Research Center is America's Investigative Think Tank, covering all the influencers in our politics.</td>\n",
       "      <td>18957839</td>\n",
       "      <td>False</td>\n",
       "      <td>2009-01-13T23:07:06.000Z</td>\n",
       "    </tr>\n",
       "    <tr>\n",
       "      <th>1</th>\n",
       "      <td>ceidotorg</td>\n",
       "      <td>12565</td>\n",
       "      <td>CTT</td>\n",
       "      <td>Competitive Enterprise Institute</td>\n",
       "      <td>13020.0</td>\n",
       "      <td>3461.0</td>\n",
       "      <td>30537.0</td>\n",
       "      <td>586.0</td>\n",
       "      <td>CEI is a non-profit public policy organization dedicated to advancing the principles of limited government, free enterprise, and individual liberty.</td>\n",
       "      <td>15471040</td>\n",
       "      <td>True</td>\n",
       "      <td>2008-07-17T17:49:08.000Z</td>\n",
       "    </tr>\n",
       "    <tr>\n",
       "      <th>2</th>\n",
       "      <td>NationalCenter</td>\n",
       "      <td>7807</td>\n",
       "      <td>CTT</td>\n",
       "      <td>National Center for Public Policy Research</td>\n",
       "      <td>8057.0</td>\n",
       "      <td>6401.0</td>\n",
       "      <td>23367.0</td>\n",
       "      <td>200.0</td>\n",
       "      <td>The National Center for Public Policy Research is a nonpartisan, free-market conservative think-tank. Home of @Project21News &amp; @FreeEntProject.</td>\n",
       "      <td>19384480</td>\n",
       "      <td>False</td>\n",
       "      <td>2009-01-23T06:38:46.000Z</td>\n",
       "    </tr>\n",
       "    <tr>\n",
       "      <th>3</th>\n",
       "      <td>ReasonFdn</td>\n",
       "      <td>7030</td>\n",
       "      <td>CTT</td>\n",
       "      <td>Reason Foundation</td>\n",
       "      <td>8967.0</td>\n",
       "      <td>98.0</td>\n",
       "      <td>6301.0</td>\n",
       "      <td>139.0</td>\n",
       "      <td>Reason Foundation is a nonprofit dedicated to advancing free minds and free markets. @ReasonFdn produces respected public policy research and publishes @reason.</td>\n",
       "      <td>1177334131732156420</td>\n",
       "      <td>True</td>\n",
       "      <td>2019-09-26T21:29:18.000Z</td>\n",
       "    </tr>\n",
       "    <tr>\n",
       "      <th>4</th>\n",
       "      <td>ACSHorg</td>\n",
       "      <td>5734</td>\n",
       "      <td>CTT</td>\n",
       "      <td>American Council on Science and Health</td>\n",
       "      <td>6010.0</td>\n",
       "      <td>752.0</td>\n",
       "      <td>4725.0</td>\n",
       "      <td>230.0</td>\n",
       "      <td>American Council on Science and Health. Science and consumer advocates since 1978. We separate facts from myths and debunk junk science.</td>\n",
       "      <td>195858764</td>\n",
       "      <td>True</td>\n",
       "      <td>2010-09-27T19:03:58.000Z</td>\n",
       "    </tr>\n",
       "    <tr>\n",
       "      <th>5</th>\n",
       "      <td>AEI</td>\n",
       "      <td>151109</td>\n",
       "      <td>CTT</td>\n",
       "      <td>American Enterprise Institute</td>\n",
       "      <td>161131.0</td>\n",
       "      <td>1397.0</td>\n",
       "      <td>68243.0</td>\n",
       "      <td>2953.0</td>\n",
       "      <td>Independent research driving the national conversation.</td>\n",
       "      <td>30864583</td>\n",
       "      <td>True</td>\n",
       "      <td>2009-04-13T13:33:33.000Z</td>\n",
       "    </tr>\n",
       "    <tr>\n",
       "      <th>6</th>\n",
       "      <td>CatoInstitute</td>\n",
       "      <td>362920</td>\n",
       "      <td>CTT</td>\n",
       "      <td>CATO Institute</td>\n",
       "      <td>367500.0</td>\n",
       "      <td>7021.0</td>\n",
       "      <td>98625.0</td>\n",
       "      <td>8499.0</td>\n",
       "      <td>A public policy research organization dedicated to individual liberty, limited government, free markets, and peace.</td>\n",
       "      <td>15450996</td>\n",
       "      <td>True</td>\n",
       "      <td>2008-07-16T05:46:16.000Z</td>\n",
       "    </tr>\n",
       "    <tr>\n",
       "      <th>7</th>\n",
       "      <td>CFACT</td>\n",
       "      <td>13985</td>\n",
       "      <td>CTT</td>\n",
       "      <td>CFACT</td>\n",
       "      <td>14612.0</td>\n",
       "      <td>4586.0</td>\n",
       "      <td>11258.0</td>\n",
       "      <td>324.0</td>\n",
       "      <td>CFACT defends the environment &amp; human welfare through facts, news, and analysis, promoting free-market solutions to the world's environmental problems.</td>\n",
       "      <td>38532025</td>\n",
       "      <td>False</td>\n",
       "      <td>2009-05-07T22:20:56.000Z</td>\n",
       "    </tr>\n",
       "    <tr>\n",
       "      <th>8</th>\n",
       "      <td>FoF_Liberty</td>\n",
       "      <td>236</td>\n",
       "      <td>CTT</td>\n",
       "      <td>Frontiers of Freedom</td>\n",
       "      <td>305.0</td>\n",
       "      <td>520.0</td>\n",
       "      <td>2196.0</td>\n",
       "      <td>7.0</td>\n",
       "      <td>Standing for Individual freedom, peace by strength, limited government, free markets, and traditional American values.</td>\n",
       "      <td>2464808161</td>\n",
       "      <td>False</td>\n",
       "      <td>2014-04-26T15:48:58.000Z</td>\n",
       "    </tr>\n",
       "    <tr>\n",
       "      <th>9</th>\n",
       "      <td>FraserInstitute</td>\n",
       "      <td>31658</td>\n",
       "      <td>CTT</td>\n",
       "      <td>Fraser Institute</td>\n",
       "      <td>33188.0</td>\n",
       "      <td>1096.0</td>\n",
       "      <td>15647.0</td>\n",
       "      <td>1048.0</td>\n",
       "      <td>#1 rated think tank in 🇨🇦! Improving the lives of Canadians with high-quality timely research and innovative outreach.</td>\n",
       "      <td>23529233</td>\n",
       "      <td>False</td>\n",
       "      <td>2009-03-10T00:18:34.000Z</td>\n",
       "    </tr>\n",
       "    <tr>\n",
       "      <th>10</th>\n",
       "      <td>FreedomWorks</td>\n",
       "      <td>270144</td>\n",
       "      <td>CTT</td>\n",
       "      <td>FreedomWorks</td>\n",
       "      <td>287650.0</td>\n",
       "      <td>10013.0</td>\n",
       "      <td>134383.0</td>\n",
       "      <td>3501.0</td>\n",
       "      <td>The Nation's premier grassroots advocacy group dedicated to freedom and small government.</td>\n",
       "      <td>14730894</td>\n",
       "      <td>True</td>\n",
       "      <td>2008-05-11T04:29:14.000Z</td>\n",
       "    </tr>\n",
       "    <tr>\n",
       "      <th>11</th>\n",
       "      <td>HeartlandInst</td>\n",
       "      <td>14831</td>\n",
       "      <td>CTT</td>\n",
       "      <td>Heartland Institute</td>\n",
       "      <td>16238.0</td>\n",
       "      <td>5278.0</td>\n",
       "      <td>50781.0</td>\n",
       "      <td>743.0</td>\n",
       "      <td>National free-market public-policy think tank | IG &amp; FB: heartlandinstitute | YouTube: HeartlandTube | Search Heartland Daily Podcast: Apple, GooglePlay &amp; more.</td>\n",
       "      <td>17850268</td>\n",
       "      <td>False</td>\n",
       "      <td>2008-12-03T21:51:23.000Z</td>\n",
       "    </tr>\n",
       "    <tr>\n",
       "      <th>12</th>\n",
       "      <td>Heritage</td>\n",
       "      <td>624504</td>\n",
       "      <td>CTT</td>\n",
       "      <td>Heritage Foundation</td>\n",
       "      <td>661577.0</td>\n",
       "      <td>25612.0</td>\n",
       "      <td>123584.0</td>\n",
       "      <td>10153.0</td>\n",
       "      <td>Heritage was created to be a battleship for the conservative movement.\\n\\n50 years and 500,000 members later, we’re still fighting for the everyday American 🇺🇸</td>\n",
       "      <td>10168082</td>\n",
       "      <td>True</td>\n",
       "      <td>2007-11-12T01:50:27.000Z</td>\n",
       "    </tr>\n",
       "    <tr>\n",
       "      <th>13</th>\n",
       "      <td>HudsonInstitute</td>\n",
       "      <td>73046</td>\n",
       "      <td>CTT</td>\n",
       "      <td>Hudson Institute</td>\n",
       "      <td>87311.0</td>\n",
       "      <td>2567.0</td>\n",
       "      <td>11963.0</td>\n",
       "      <td>1616.0</td>\n",
       "      <td>Promoting American leadership for a secure, free, and prosperous future.</td>\n",
       "      <td>16742053</td>\n",
       "      <td>True</td>\n",
       "      <td>2008-10-14T17:19:22.000Z</td>\n",
       "    </tr>\n",
       "    <tr>\n",
       "      <th>14</th>\n",
       "      <td>ManhattanInst</td>\n",
       "      <td>60456</td>\n",
       "      <td>CTT</td>\n",
       "      <td>Manhattan Institute</td>\n",
       "      <td>66283.0</td>\n",
       "      <td>2444.0</td>\n",
       "      <td>82886.0</td>\n",
       "      <td>1558.0</td>\n",
       "      <td>A think tank whose mission is to develop and disseminate new ideas that foster greater economic choice and individual responsibility. @CityJournal @smithsoc</td>\n",
       "      <td>18083519</td>\n",
       "      <td>True</td>\n",
       "      <td>2008-12-12T19:28:08.000Z</td>\n",
       "    </tr>\n",
       "    <tr>\n",
       "      <th>15</th>\n",
       "      <td>PacificResearch</td>\n",
       "      <td>4222</td>\n",
       "      <td>CTT</td>\n",
       "      <td>Pacific Research Institute for Public Policy</td>\n",
       "      <td>4460.0</td>\n",
       "      <td>3312.0</td>\n",
       "      <td>17041.0</td>\n",
       "      <td>215.0</td>\n",
       "      <td>Pacific Research Institute. Championing freedom, opportunity, and personal responsibility.</td>\n",
       "      <td>18485298</td>\n",
       "      <td>False</td>\n",
       "      <td>2008-12-30T19:23:03.000Z</td>\n",
       "    </tr>\n",
       "    <tr>\n",
       "      <th>16</th>\n",
       "      <td>WAPolicyCenter</td>\n",
       "      <td>4141</td>\n",
       "      <td>CTT</td>\n",
       "      <td>Washington Policy Center</td>\n",
       "      <td>4754.0</td>\n",
       "      <td>1832.0</td>\n",
       "      <td>3534.0</td>\n",
       "      <td>120.0</td>\n",
       "      <td>Improving lives through market solutions.</td>\n",
       "      <td>43983401</td>\n",
       "      <td>False</td>\n",
       "      <td>2009-06-01T21:57:37.000Z</td>\n",
       "    </tr>\n",
       "  </tbody>\n",
       "</table>\n",
       "</div>"
      ],
      "text/plain": [
       "        screen_name  Followers Type  \\\n",
       "0   capitalresearch       5023  CTT   \n",
       "1         ceidotorg      12565  CTT   \n",
       "2    NationalCenter       7807  CTT   \n",
       "3         ReasonFdn       7030  CTT   \n",
       "4           ACSHorg       5734  CTT   \n",
       "5               AEI     151109  CTT   \n",
       "6     CatoInstitute     362920  CTT   \n",
       "7             CFACT      13985  CTT   \n",
       "8       FoF_Liberty        236  CTT   \n",
       "9   FraserInstitute      31658  CTT   \n",
       "10     FreedomWorks     270144  CTT   \n",
       "11    HeartlandInst      14831  CTT   \n",
       "12         Heritage     624504  CTT   \n",
       "13  HudsonInstitute      73046  CTT   \n",
       "14    ManhattanInst      60456  CTT   \n",
       "15  PacificResearch       4222  CTT   \n",
       "16   WAPolicyCenter       4141  CTT   \n",
       "\n",
       "                                            Name  followers_count  \\\n",
       "0                        Capital Research Center           5636.0   \n",
       "1               Competitive Enterprise Institute          13020.0   \n",
       "2     National Center for Public Policy Research           8057.0   \n",
       "3                              Reason Foundation           8967.0   \n",
       "4         American Council on Science and Health           6010.0   \n",
       "5                  American Enterprise Institute         161131.0   \n",
       "6                                 CATO Institute         367500.0   \n",
       "7                                          CFACT          14612.0   \n",
       "8                           Frontiers of Freedom            305.0   \n",
       "9                               Fraser Institute          33188.0   \n",
       "10                                  FreedomWorks         287650.0   \n",
       "11                           Heartland Institute          16238.0   \n",
       "12                           Heritage Foundation         661577.0   \n",
       "13                              Hudson Institute          87311.0   \n",
       "14                           Manhattan Institute          66283.0   \n",
       "15  Pacific Research Institute for Public Policy           4460.0   \n",
       "16                      Washington Policy Center           4754.0   \n",
       "\n",
       "    following_count  tweet_count  listed_count  \\\n",
       "0            3115.0       8992.0         117.0   \n",
       "1            3461.0      30537.0         586.0   \n",
       "2            6401.0      23367.0         200.0   \n",
       "3              98.0       6301.0         139.0   \n",
       "4             752.0       4725.0         230.0   \n",
       "5            1397.0      68243.0        2953.0   \n",
       "6            7021.0      98625.0        8499.0   \n",
       "7            4586.0      11258.0         324.0   \n",
       "8             520.0       2196.0           7.0   \n",
       "9            1096.0      15647.0        1048.0   \n",
       "10          10013.0     134383.0        3501.0   \n",
       "11           5278.0      50781.0         743.0   \n",
       "12          25612.0     123584.0       10153.0   \n",
       "13           2567.0      11963.0        1616.0   \n",
       "14           2444.0      82886.0        1558.0   \n",
       "15           3312.0      17041.0         215.0   \n",
       "16           1832.0       3534.0         120.0   \n",
       "\n",
       "                                                                                                                                                         description  \\\n",
       "0                                                       Capital Research Center is America's Investigative Think Tank, covering all the influencers in our politics.   \n",
       "1               CEI is a non-profit public policy organization dedicated to advancing the principles of limited government, free enterprise, and individual liberty.   \n",
       "2                    The National Center for Public Policy Research is a nonpartisan, free-market conservative think-tank. Home of @Project21News & @FreeEntProject.   \n",
       "3   Reason Foundation is a nonprofit dedicated to advancing free minds and free markets. @ReasonFdn produces respected public policy research and publishes @reason.   \n",
       "4                           American Council on Science and Health. Science and consumer advocates since 1978. We separate facts from myths and debunk junk science.   \n",
       "5                                                                                                            Independent research driving the national conversation.   \n",
       "6                                                A public policy research organization dedicated to individual liberty, limited government, free markets, and peace.   \n",
       "7            CFACT defends the environment & human welfare through facts, news, and analysis, promoting free-market solutions to the world's environmental problems.   \n",
       "8                                             Standing for Individual freedom, peace by strength, limited government, free markets, and traditional American values.   \n",
       "9                                             #1 rated think tank in 🇨🇦! Improving the lives of Canadians with high-quality timely research and innovative outreach.   \n",
       "10                                                                         The Nation's premier grassroots advocacy group dedicated to freedom and small government.   \n",
       "11  National free-market public-policy think tank | IG & FB: heartlandinstitute | YouTube: HeartlandTube | Search Heartland Daily Podcast: Apple, GooglePlay & more.   \n",
       "12   Heritage was created to be a battleship for the conservative movement.\\n\\n50 years and 500,000 members later, we’re still fighting for the everyday American 🇺🇸   \n",
       "13                                                                                          Promoting American leadership for a secure, free, and prosperous future.   \n",
       "14      A think tank whose mission is to develop and disseminate new ideas that foster greater economic choice and individual responsibility. @CityJournal @smithsoc   \n",
       "15                                                                        Pacific Research Institute. Championing freedom, opportunity, and personal responsibility.   \n",
       "16                                                                                                                         Improving lives through market solutions.   \n",
       "\n",
       "                     id verified                created_at  \n",
       "0              18957839    False  2009-01-13T23:07:06.000Z  \n",
       "1              15471040     True  2008-07-17T17:49:08.000Z  \n",
       "2              19384480    False  2009-01-23T06:38:46.000Z  \n",
       "3   1177334131732156420     True  2019-09-26T21:29:18.000Z  \n",
       "4             195858764     True  2010-09-27T19:03:58.000Z  \n",
       "5              30864583     True  2009-04-13T13:33:33.000Z  \n",
       "6              15450996     True  2008-07-16T05:46:16.000Z  \n",
       "7              38532025    False  2009-05-07T22:20:56.000Z  \n",
       "8            2464808161    False  2014-04-26T15:48:58.000Z  \n",
       "9              23529233    False  2009-03-10T00:18:34.000Z  \n",
       "10             14730894     True  2008-05-11T04:29:14.000Z  \n",
       "11             17850268    False  2008-12-03T21:51:23.000Z  \n",
       "12             10168082     True  2007-11-12T01:50:27.000Z  \n",
       "13             16742053     True  2008-10-14T17:19:22.000Z  \n",
       "14             18083519     True  2008-12-12T19:28:08.000Z  \n",
       "15             18485298    False  2008-12-30T19:23:03.000Z  \n",
       "16             43983401    False  2009-06-01T21:57:37.000Z  "
      ]
     },
     "execution_count": 10,
     "metadata": {},
     "output_type": "execute_result"
    }
   ],
   "source": [
    "for i in range(ctts.shape[0]):\n",
    "    username = ctts.loc[i].screen_name\n",
    "    user_meta = getUser(username)\n",
    "    ctts.loc[i, 'followers_count'] = user_meta['public_metrics']['followers_count']\n",
    "    ctts.loc[i, 'following_count'] = user_meta['public_metrics']['following_count']\n",
    "    ctts.loc[i, 'tweet_count'] = user_meta['public_metrics']['tweet_count']\n",
    "    ctts.loc[i, 'listed_count'] = user_meta['public_metrics']['listed_count']\n",
    "    ctts.loc[i, 'description'] = user_meta['description']\n",
    "    ctts.loc[i, 'id'] = user_meta['id']\n",
    "    ctts.loc[i, 'verified'] = user_meta['verified']\n",
    "    ctts.loc[i, 'created_at'] = user_meta['created_at']\n",
    "ctts"
   ]
  },
  {
   "cell_type": "code",
   "execution_count": 11,
   "id": "2e5cd66c",
   "metadata": {
    "ExecuteTime": {
     "end_time": "2023-03-13T01:22:32.949049Z",
     "start_time": "2023-03-13T01:22:32.946165Z"
    }
   },
   "outputs": [
    {
     "data": {
      "text/plain": [
       "694063.0"
      ]
     },
     "execution_count": 11,
     "metadata": {},
     "output_type": "execute_result"
    }
   ],
   "source": [
    "## Total Tweets\n",
    "ctts.tweet_count.sum()"
   ]
  },
  {
   "cell_type": "markdown",
   "id": "a75c11c8",
   "metadata": {},
   "source": [
    "#### Tweets"
   ]
  },
  {
   "cell_type": "code",
   "execution_count": 12,
   "id": "d9eb0e2d",
   "metadata": {
    "ExecuteTime": {
     "end_time": "2023-03-13T01:22:54.490070Z",
     "start_time": "2023-03-13T01:22:32.950088Z"
    }
   },
   "outputs": [
    {
     "data": {
      "application/vnd.jupyter.widget-view+json": {
       "model_id": "374c5308e24d443d867d8d2dac11f311",
       "version_major": 2,
       "version_minor": 0
      },
      "text/plain": [
       "  0%|          | 0/17 [00:00<?, ?it/s]"
      ]
     },
     "metadata": {},
     "output_type": "display_data"
    },
    {
     "name": "stdout",
     "output_type": "stream",
     "text": [
      "Number of tweets: 7572\n",
      "Aproximate time to process: 7.572 minutes\n"
     ]
    }
   ],
   "source": [
    "handles_process = ctts.screen_name.unique()\n",
    "    \n",
    "total_sum = 0\n",
    "for username in tqdm(handles_process):\n",
    "    number = count_tweets(\"@{} -is:retweet\".format(username))\n",
    "    total_sum+=number\n",
    "print(\"Number of tweets: {}\".format(total_sum))\n",
    "print(\"Aproximate time to process: {} minutes\".format(total_sum*6/60/100))"
   ]
  },
  {
   "cell_type": "code",
   "execution_count": 14,
   "id": "23da1a88",
   "metadata": {
    "ExecuteTime": {
     "end_time": "2023-03-13T01:51:41.209415Z",
     "start_time": "2023-03-13T01:41:41.525966Z"
    },
    "scrolled": true
   },
   "outputs": [
    {
     "data": {
      "application/vnd.jupyter.widget-view+json": {
       "model_id": "5ad8bd8376374254bdaa4ba2c1a609d0",
       "version_major": 2,
       "version_minor": 0
      },
      "text/plain": [
       "  0%|          | 0/17 [00:00<?, ?it/s]"
      ]
     },
     "metadata": {},
     "output_type": "display_data"
    },
    {
     "data": {
      "application/vnd.jupyter.widget-view+json": {
       "model_id": "56eee54a76234e589ba911a97abb8918",
       "version_major": 2,
       "version_minor": 0
      },
      "text/plain": [
       "  0%|          | 0/1 [00:00<?, ?it/s]"
      ]
     },
     "metadata": {},
     "output_type": "display_data"
    },
    {
     "data": {
      "application/vnd.jupyter.widget-view+json": {
       "model_id": "6f1f3e7cda844822abcbd822f8ba7e70",
       "version_major": 2,
       "version_minor": 0
      },
      "text/plain": [
       "  0%|          | 0/1 [00:00<?, ?it/s]"
      ]
     },
     "metadata": {},
     "output_type": "display_data"
    },
    {
     "data": {
      "application/vnd.jupyter.widget-view+json": {
       "model_id": "6988efcf9d7a4d378db821394fbf802f",
       "version_major": 2,
       "version_minor": 0
      },
      "text/plain": [
       "  0%|          | 0/1 [00:00<?, ?it/s]"
      ]
     },
     "metadata": {},
     "output_type": "display_data"
    },
    {
     "data": {
      "application/vnd.jupyter.widget-view+json": {
       "model_id": "57e70f67164d46fb9c68b8053e950c6e",
       "version_major": 2,
       "version_minor": 0
      },
      "text/plain": [
       "  0%|          | 0/1 [00:00<?, ?it/s]"
      ]
     },
     "metadata": {},
     "output_type": "display_data"
    },
    {
     "data": {
      "application/vnd.jupyter.widget-view+json": {
       "model_id": "f7d4c18723884e03a0f8fafbfb16ba88",
       "version_major": 2,
       "version_minor": 0
      },
      "text/plain": [
       "  0%|          | 0/1 [00:00<?, ?it/s]"
      ]
     },
     "metadata": {},
     "output_type": "display_data"
    },
    {
     "data": {
      "application/vnd.jupyter.widget-view+json": {
       "model_id": "98cfb698dd0d49838791f3ab8d32ea9a",
       "version_major": 2,
       "version_minor": 0
      },
      "text/plain": [
       "  0%|          | 0/3 [00:00<?, ?it/s]"
      ]
     },
     "metadata": {},
     "output_type": "display_data"
    },
    {
     "data": {
      "application/vnd.jupyter.widget-view+json": {
       "model_id": "ba2c5ef1fd95418d9bedbe1bdaa3fac6",
       "version_major": 2,
       "version_minor": 0
      },
      "text/plain": [
       "  0%|          | 0/12 [00:00<?, ?it/s]"
      ]
     },
     "metadata": {},
     "output_type": "display_data"
    },
    {
     "data": {
      "application/vnd.jupyter.widget-view+json": {
       "model_id": "8109e16f3dd846c2acd9093640654365",
       "version_major": 2,
       "version_minor": 0
      },
      "text/plain": [
       "  0%|          | 0/1 [00:00<?, ?it/s]"
      ]
     },
     "metadata": {},
     "output_type": "display_data"
    },
    {
     "data": {
      "application/vnd.jupyter.widget-view+json": {
       "model_id": "c3a7fe58efe34cfb9def6cc4a74cb226",
       "version_major": 2,
       "version_minor": 0
      },
      "text/plain": [
       "  0%|          | 0/2 [00:00<?, ?it/s]"
      ]
     },
     "metadata": {},
     "output_type": "display_data"
    },
    {
     "data": {
      "application/vnd.jupyter.widget-view+json": {
       "model_id": "97d20f05d9df46468aaad85ae829fdca",
       "version_major": 2,
       "version_minor": 0
      },
      "text/plain": [
       "  0%|          | 0/19 [00:00<?, ?it/s]"
      ]
     },
     "metadata": {},
     "output_type": "display_data"
    },
    {
     "data": {
      "application/vnd.jupyter.widget-view+json": {
       "model_id": "62368a65c107487f86cedcea4f0dee7d",
       "version_major": 2,
       "version_minor": 0
      },
      "text/plain": [
       "  0%|          | 0/1 [00:00<?, ?it/s]"
      ]
     },
     "metadata": {},
     "output_type": "display_data"
    },
    {
     "data": {
      "application/vnd.jupyter.widget-view+json": {
       "model_id": "d60314aec941425bb419906b32633ca7",
       "version_major": 2,
       "version_minor": 0
      },
      "text/plain": [
       "  0%|          | 0/32 [00:00<?, ?it/s]"
      ]
     },
     "metadata": {},
     "output_type": "display_data"
    },
    {
     "data": {
      "application/vnd.jupyter.widget-view+json": {
       "model_id": "9f874dab15574af4970eb376129d2035",
       "version_major": 2,
       "version_minor": 0
      },
      "text/plain": [
       "  0%|          | 0/4 [00:00<?, ?it/s]"
      ]
     },
     "metadata": {},
     "output_type": "display_data"
    },
    {
     "data": {
      "application/vnd.jupyter.widget-view+json": {
       "model_id": "6183a2bef09a449791a6c70ba25fe0de",
       "version_major": 2,
       "version_minor": 0
      },
      "text/plain": [
       "  0%|          | 0/3 [00:00<?, ?it/s]"
      ]
     },
     "metadata": {},
     "output_type": "display_data"
    },
    {
     "data": {
      "application/vnd.jupyter.widget-view+json": {
       "model_id": "8e5944adc0f4450ebfc8f7bfeefa27be",
       "version_major": 2,
       "version_minor": 0
      },
      "text/plain": [
       "  0%|          | 0/1 [00:00<?, ?it/s]"
      ]
     },
     "metadata": {},
     "output_type": "display_data"
    },
    {
     "data": {
      "application/vnd.jupyter.widget-view+json": {
       "model_id": "d295abef27694e16ab1f91c1062142bc",
       "version_major": 2,
       "version_minor": 0
      },
      "text/plain": [
       "  0%|          | 0/1 [00:00<?, ?it/s]"
      ]
     },
     "metadata": {},
     "output_type": "display_data"
    }
   ],
   "source": [
    "if SCRAP_CTTS:\n",
    "    file = \"../Twitter_scrapped/CTTs/tweets_scrapped-CTTs_{}.csv\".format(today)\n",
    "    if os.path.isfile(file):\n",
    "        tweets = pd.read_csv(file)\n",
    "        handles_process = list(set(ctts.screen_name.unique()) - set(tweets.username.unique()))\n",
    "    else:\n",
    "        tweets = pd.DataFrame()\n",
    "        handles_process = ctts.screen_name.unique()\n",
    "\n",
    "    for username in tqdm(handles_process):\n",
    "        handle_tweets = extract_data(\"@{} -is:retweet\".format(username), 100)\n",
    "        handle_tweets[\"username\"] = username\n",
    "        tweets = pd.concat([tweets, handle_tweets])\n",
    "        tweets.to_csv(file, index=False)"
   ]
  },
  {
   "cell_type": "markdown",
   "id": "f81801de",
   "metadata": {},
   "source": [
    "### Preprocess"
   ]
  },
  {
   "cell_type": "code",
   "execution_count": 25,
   "id": "e1373336",
   "metadata": {
    "ExecuteTime": {
     "end_time": "2023-03-13T02:06:01.799168Z",
     "start_time": "2023-03-13T02:06:01.763388Z"
    }
   },
   "outputs": [],
   "source": [
    "file = \"../Twitter_scrapped/CTTs/tweets_scrapped-CTTs_{}.csv\".format(today)\n",
    "tweets = pd.read_csv(file)"
   ]
  },
  {
   "cell_type": "code",
   "execution_count": 26,
   "id": "7ea04df5",
   "metadata": {
    "ExecuteTime": {
     "end_time": "2023-03-13T02:06:06.064529Z",
     "start_time": "2023-03-13T02:06:01.800496Z"
    }
   },
   "outputs": [],
   "source": [
    "tweets[\"preprocessed_text\"] = tweets[\"text\"].apply(preprocess_text)"
   ]
  },
  {
   "cell_type": "code",
   "execution_count": 27,
   "id": "e4318a59",
   "metadata": {
    "ExecuteTime": {
     "end_time": "2023-03-13T02:06:06.072565Z",
     "start_time": "2023-03-13T02:06:06.065726Z"
    }
   },
   "outputs": [
    {
     "name": "stdout",
     "output_type": "stream",
     "text": [
      "Number of tweets: 767 from 2023-03-06T01:45:30.000Z to 2023-03-13T01:46:38.000Z.\n"
     ]
    }
   ],
   "source": [
    "real_tweets = tweets[tweets.referenced_tweets.isna() & (tweets.preprocessed_text!=\"\")].copy(deep=True)\n",
    "print(\"Number of tweets: {} from {} to {}.\".format(\n",
    "    real_tweets.shape[0],\n",
    "    tweets.created_at.min(),\n",
    "    tweets.created_at.max()\n",
    "))"
   ]
  },
  {
   "cell_type": "code",
   "execution_count": 28,
   "id": "9a089a53",
   "metadata": {
    "ExecuteTime": {
     "end_time": "2023-03-13T02:06:06.176222Z",
     "start_time": "2023-03-13T02:06:06.074458Z"
    },
    "scrolled": true
   },
   "outputs": [
    {
     "data": {
      "text/html": [
       "<div>\n",
       "<style scoped>\n",
       "    .dataframe tbody tr th:only-of-type {\n",
       "        vertical-align: middle;\n",
       "    }\n",
       "\n",
       "    .dataframe tbody tr th {\n",
       "        vertical-align: top;\n",
       "    }\n",
       "\n",
       "    .dataframe thead th {\n",
       "        text-align: right;\n",
       "    }\n",
       "</style>\n",
       "<table border=\"1\" class=\"dataframe\">\n",
       "  <thead>\n",
       "    <tr style=\"text-align: right;\">\n",
       "      <th></th>\n",
       "      <th>Word</th>\n",
       "      <th>Frequency</th>\n",
       "    </tr>\n",
       "  </thead>\n",
       "  <tbody>\n",
       "    <tr>\n",
       "      <th>1</th>\n",
       "      <td>@Heritage</td>\n",
       "      <td>3085</td>\n",
       "    </tr>\n",
       "    <tr>\n",
       "      <th>6</th>\n",
       "      <td>@FreedomWorks</td>\n",
       "      <td>1852</td>\n",
       "    </tr>\n",
       "    <tr>\n",
       "      <th>11</th>\n",
       "      <td>@CatoInstitute</td>\n",
       "      <td>1150</td>\n",
       "    </tr>\n",
       "    <tr>\n",
       "      <th>14</th>\n",
       "      <td>@Jim_Jordan</td>\n",
       "      <td>828</td>\n",
       "    </tr>\n",
       "    <tr>\n",
       "      <th>15</th>\n",
       "      <td>@DailySignal</td>\n",
       "      <td>817</td>\n",
       "    </tr>\n",
       "    <tr>\n",
       "      <th>16</th>\n",
       "      <td>@TimKennedyJr1</td>\n",
       "      <td>792</td>\n",
       "    </tr>\n",
       "    <tr>\n",
       "      <th>34</th>\n",
       "      <td>&amp;amp;</td>\n",
       "      <td>384</td>\n",
       "    </tr>\n",
       "    <tr>\n",
       "      <th>35</th>\n",
       "      <td>@RepAndyBiggsAZ</td>\n",
       "      <td>372</td>\n",
       "    </tr>\n",
       "    <tr>\n",
       "      <th>36</th>\n",
       "      <td>like</td>\n",
       "      <td>365</td>\n",
       "    </tr>\n",
       "    <tr>\n",
       "      <th>41</th>\n",
       "      <td>@HudsonInstitute</td>\n",
       "      <td>329</td>\n",
       "    </tr>\n",
       "    <tr>\n",
       "      <th>43</th>\n",
       "      <td>people</td>\n",
       "      <td>308</td>\n",
       "    </tr>\n",
       "    <tr>\n",
       "      <th>47</th>\n",
       "      <td>@FoxNews</td>\n",
       "      <td>295</td>\n",
       "    </tr>\n",
       "    <tr>\n",
       "      <th>48</th>\n",
       "      <td>@StephenMoore</td>\n",
       "      <td>291</td>\n",
       "    </tr>\n",
       "    <tr>\n",
       "      <th>55</th>\n",
       "      <td>@steve_hanke</td>\n",
       "      <td>276</td>\n",
       "    </tr>\n",
       "    <tr>\n",
       "      <th>57</th>\n",
       "      <td>@business</td>\n",
       "      <td>270</td>\n",
       "    </tr>\n",
       "    <tr>\n",
       "      <th>58</th>\n",
       "      <td>@cspanwj</td>\n",
       "      <td>267</td>\n",
       "    </tr>\n",
       "    <tr>\n",
       "      <th>60</th>\n",
       "      <td>@StateDept</td>\n",
       "      <td>263</td>\n",
       "    </tr>\n",
       "    <tr>\n",
       "      <th>61</th>\n",
       "      <td>@WSJ</td>\n",
       "      <td>261</td>\n",
       "    </tr>\n",
       "    <tr>\n",
       "      <th>62</th>\n",
       "      <td>@USTreasury</td>\n",
       "      <td>260</td>\n",
       "    </tr>\n",
       "    <tr>\n",
       "      <th>64</th>\n",
       "      <td>would</td>\n",
       "      <td>254</td>\n",
       "    </tr>\n",
       "    <tr>\n",
       "      <th>65</th>\n",
       "      <td>@SecYellen</td>\n",
       "      <td>254</td>\n",
       "    </tr>\n",
       "    <tr>\n",
       "      <th>66</th>\n",
       "      <td>@MarketWatch</td>\n",
       "      <td>253</td>\n",
       "    </tr>\n",
       "    <tr>\n",
       "      <th>67</th>\n",
       "      <td>@Forbes</td>\n",
       "      <td>253</td>\n",
       "    </tr>\n",
       "    <tr>\n",
       "      <th>68</th>\n",
       "      <td>@RusEmbUSA</td>\n",
       "      <td>253</td>\n",
       "    </tr>\n",
       "    <tr>\n",
       "      <th>70</th>\n",
       "      <td>@fpleitgenCNN</td>\n",
       "      <td>251</td>\n",
       "    </tr>\n",
       "    <tr>\n",
       "      <th>72</th>\n",
       "      <td>@AEI</td>\n",
       "      <td>248</td>\n",
       "    </tr>\n",
       "    <tr>\n",
       "      <th>74</th>\n",
       "      <td>via</td>\n",
       "      <td>230</td>\n",
       "    </tr>\n",
       "    <tr>\n",
       "      <th>76</th>\n",
       "      <td>@ManhattanInst</td>\n",
       "      <td>226</td>\n",
       "    </tr>\n",
       "    <tr>\n",
       "      <th>81</th>\n",
       "      <td>know</td>\n",
       "      <td>204</td>\n",
       "    </tr>\n",
       "    <tr>\n",
       "      <th>83</th>\n",
       "      <td>@AndyPuzder</td>\n",
       "      <td>194</td>\n",
       "    </tr>\n",
       "  </tbody>\n",
       "</table>\n",
       "</div>"
      ],
      "text/plain": [
       "                Word  Frequency\n",
       "1          @Heritage       3085\n",
       "6      @FreedomWorks       1852\n",
       "11    @CatoInstitute       1150\n",
       "14       @Jim_Jordan        828\n",
       "15      @DailySignal        817\n",
       "16    @TimKennedyJr1        792\n",
       "34             &amp;        384\n",
       "35   @RepAndyBiggsAZ        372\n",
       "36              like        365\n",
       "41  @HudsonInstitute        329\n",
       "43            people        308\n",
       "47          @FoxNews        295\n",
       "48     @StephenMoore        291\n",
       "55      @steve_hanke        276\n",
       "57         @business        270\n",
       "58          @cspanwj        267\n",
       "60        @StateDept        263\n",
       "61              @WSJ        261\n",
       "62       @USTreasury        260\n",
       "64             would        254\n",
       "65        @SecYellen        254\n",
       "66      @MarketWatch        253\n",
       "67           @Forbes        253\n",
       "68        @RusEmbUSA        253\n",
       "70     @fpleitgenCNN        251\n",
       "72              @AEI        248\n",
       "74               via        230\n",
       "76    @ManhattanInst        226\n",
       "81              know        204\n",
       "83       @AndyPuzder        194"
      ]
     },
     "execution_count": 28,
     "metadata": {},
     "output_type": "execute_result"
    }
   ],
   "source": [
    "count_words(tweets.text)[:30]"
   ]
  },
  {
   "cell_type": "markdown",
   "id": "6bda99ef",
   "metadata": {},
   "source": [
    "## Deniers\n",
    "### Extracting\n",
    "#### Users"
   ]
  },
  {
   "cell_type": "code",
   "execution_count": 29,
   "id": "3bbe4b44",
   "metadata": {
    "ExecuteTime": {
     "end_time": "2023-03-13T02:10:57.504165Z",
     "start_time": "2023-03-13T02:06:06.177422Z"
    },
    "scrolled": true
   },
   "outputs": [
    {
     "name": "stdout",
     "output_type": "stream",
     "text": [
      "User has been suspended: [PolitixGal].\n",
      "User has been suspended: [JWSpry].\n",
      "User has been suspended: [IceAgeFarmer].\n",
      "Could not find user with username: [TimNBCBoston].\n",
      "User has been suspended: [MooseMan1956].\n",
      "User has been suspended: [Over400ppm].\n",
      "User has been suspended: [ChrisJC12002].\n",
      "User has been suspended: [OverTheMoonbat].\n",
      "User has been suspended: [LearnFromNature].\n",
      "Could not find user with username: [SimonPearson961].\n",
      "User has been suspended: [RuffusMD].\n",
      "User has been suspended: [jenninemorgan].\n",
      "Could not find user with username: [dbirch214].\n",
      "User has been suspended: [2013Boodicca].\n",
      "User has been suspended: [BrexitKite].\n",
      "Could not find user with username: [RogerAPielkeSr].\n",
      "User has been suspended: [peden_c].\n",
      "User has been suspended: [Natalia01Mateo].\n",
      "User has been suspended: [NoTricksZone].\n",
      "User has been suspended: [NoTricksZone].\n",
      "User has been suspended: [BulldogLoyalty].\n",
      "User has been suspended: [BulldogLoyalty].\n",
      "User has been suspended: [AyesHavit].\n",
      "User has been suspended: [LLViola].\n",
      "User has been suspended: [SylviaDeeDee].\n",
      "User has been suspended: [dbnicholls1].\n",
      "User has been suspended: [iceagereentry].\n",
      "Could not find user with username: [MaijaLipasti].\n",
      "User has been suspended: [DamoPelham].\n",
      "User has been suspended: [ozhomeschool].\n",
      "Could not find user with username: [CLINTEL_nl].\n",
      "Could not find user with username: [CLINTEL_nl].\n",
      "User has been suspended: [yota_berlin].\n",
      "User has been suspended: [ClimatismBlog].\n",
      "User has been suspended: [airstripone84].\n",
      "User has been suspended: [NIsakoff].\n",
      "Could not find user with username: [AndrewH82484066].\n",
      "Could not find user with username: [StomperStains].\n",
      "Could not find user with username: [hels_hel].\n",
      "User has been suspended: [LamontC76925238].\n",
      "Could not find user with username: [jacque19753136].\n",
      "Could not find user with username: [kitjs1].\n",
      "Could not find user with username: [M1mac101].\n",
      "User has been suspended: [swcrisis].\n"
     ]
    },
    {
     "data": {
      "text/html": [
       "<div>\n",
       "<style scoped>\n",
       "    .dataframe tbody tr th:only-of-type {\n",
       "        vertical-align: middle;\n",
       "    }\n",
       "\n",
       "    .dataframe tbody tr th {\n",
       "        vertical-align: top;\n",
       "    }\n",
       "\n",
       "    .dataframe thead th {\n",
       "        text-align: right;\n",
       "    }\n",
       "</style>\n",
       "<table border=\"1\" class=\"dataframe\">\n",
       "  <thead>\n",
       "    <tr style=\"text-align: right;\">\n",
       "      <th></th>\n",
       "      <th>screen_name</th>\n",
       "      <th>Followers</th>\n",
       "      <th>Type</th>\n",
       "      <th>exist</th>\n",
       "      <th>followers_count</th>\n",
       "      <th>following_count</th>\n",
       "      <th>tweet_count</th>\n",
       "      <th>listed_count</th>\n",
       "      <th>description</th>\n",
       "      <th>id</th>\n",
       "      <th>verified</th>\n",
       "      <th>created_at</th>\n",
       "    </tr>\n",
       "  </thead>\n",
       "  <tbody>\n",
       "    <tr>\n",
       "      <th>0</th>\n",
       "      <td>EcoSenseNow</td>\n",
       "      <td>107212.0</td>\n",
       "      <td>Climate Denier</td>\n",
       "      <td>True</td>\n",
       "      <td>144594.0</td>\n",
       "      <td>1454.0</td>\n",
       "      <td>48706.0</td>\n",
       "      <td>1214.0</td>\n",
       "      <td>BSc Biology PhD Ecology, Greenpeace co-founder, Now a Sensible Environmentalist. Director https://t.co/lfVMUTLFbi. Science &amp; logic, not sensation &amp; fear. CelebrateCO2!</td>\n",
       "      <td>1392956425</td>\n",
       "      <td>False</td>\n",
       "      <td>2013-04-30T20:03:19.000Z</td>\n",
       "    </tr>\n",
       "    <tr>\n",
       "      <th>1</th>\n",
       "      <td>ShellenbergerMD</td>\n",
       "      <td>98407.0</td>\n",
       "      <td>Climate Denier</td>\n",
       "      <td>True</td>\n",
       "      <td>603098.0</td>\n",
       "      <td>821.0</td>\n",
       "      <td>23728.0</td>\n",
       "      <td>3765.0</td>\n",
       "      <td>Pro-civilization : Time, \"Hero of the Environment\" : Bestselling author of \"Apocalypse Never\" &amp; \"San Fransicko\" : Green Book Award : MD = my initials. Not a doc</td>\n",
       "      <td>2474749586</td>\n",
       "      <td>True</td>\n",
       "      <td>2014-05-03T01:10:35.000Z</td>\n",
       "    </tr>\n",
       "    <tr>\n",
       "      <th>2</th>\n",
       "      <td>RyanMaue</td>\n",
       "      <td>94377.0</td>\n",
       "      <td>Climate Denier</td>\n",
       "      <td>True</td>\n",
       "      <td>101134.0</td>\n",
       "      <td>5005.0</td>\n",
       "      <td>10284.0</td>\n",
       "      <td>3127.0</td>\n",
       "      <td>Meteorologist | PhD Florida State #GoNoles 🏖 | Michigan #GoBlue  | Look Up 🚀 | Follow the data science | Energy &amp; Agriculture Weather | Forecast Company</td>\n",
       "      <td>16117029</td>\n",
       "      <td>True</td>\n",
       "      <td>2008-09-03T18:27:32.000Z</td>\n",
       "    </tr>\n",
       "    <tr>\n",
       "      <th>3</th>\n",
       "      <td>PolitixGal</td>\n",
       "      <td>93040.0</td>\n",
       "      <td>Climate Denier</td>\n",
       "      <td>NaN</td>\n",
       "      <td>NaN</td>\n",
       "      <td>NaN</td>\n",
       "      <td>NaN</td>\n",
       "      <td>NaN</td>\n",
       "      <td>NaN</td>\n",
       "      <td>NaN</td>\n",
       "      <td>NaN</td>\n",
       "      <td>NaN</td>\n",
       "    </tr>\n",
       "    <tr>\n",
       "      <th>4</th>\n",
       "      <td>catoletters</td>\n",
       "      <td>81717.0</td>\n",
       "      <td>Climate Denier</td>\n",
       "      <td>True</td>\n",
       "      <td>81286.0</td>\n",
       "      <td>27392.0</td>\n",
       "      <td>478170.0</td>\n",
       "      <td>899.0</td>\n",
       "      <td>Voluntary Cooperation/Exchange; Human choice is the foundation of liberty. Read Rothbard and Mises. Peace NAP. End the Fed.  Parody, I am not Cato The Younger</td>\n",
       "      <td>15063486</td>\n",
       "      <td>False</td>\n",
       "      <td>2008-06-09T18:11:35.000Z</td>\n",
       "    </tr>\n",
       "    <tr>\n",
       "      <th>...</th>\n",
       "      <td>...</td>\n",
       "      <td>...</td>\n",
       "      <td>...</td>\n",
       "      <td>...</td>\n",
       "      <td>...</td>\n",
       "      <td>...</td>\n",
       "      <td>...</td>\n",
       "      <td>...</td>\n",
       "      <td>...</td>\n",
       "      <td>...</td>\n",
       "      <td>...</td>\n",
       "      <td>...</td>\n",
       "    </tr>\n",
       "    <tr>\n",
       "      <th>230</th>\n",
       "      <td>Apiglobal</td>\n",
       "      <td>3000.0</td>\n",
       "      <td>Climate Denier-Trade Assoc</td>\n",
       "      <td>True</td>\n",
       "      <td>3443.0</td>\n",
       "      <td>690.0</td>\n",
       "      <td>3345.0</td>\n",
       "      <td>90.0</td>\n",
       "      <td>API Global Industry Services (GIS) provides oil and gas professionals with resources necessary to advance safety and efficiency. @DieselMatters @MotorOilMatters</td>\n",
       "      <td>2885823443</td>\n",
       "      <td>False</td>\n",
       "      <td>2014-11-20T16:58:38.000Z</td>\n",
       "    </tr>\n",
       "    <tr>\n",
       "      <th>231</th>\n",
       "      <td>Chamberglobal</td>\n",
       "      <td>2263.0</td>\n",
       "      <td>Climate Denier-Trade Assoc</td>\n",
       "      <td>True</td>\n",
       "      <td>3178.0</td>\n",
       "      <td>227.0</td>\n",
       "      <td>3764.0</td>\n",
       "      <td>73.0</td>\n",
       "      <td>The @USChamber's International Affairs Division advocates for free enterprise, competitive markets, and rules-based #trade and #investment.</td>\n",
       "      <td>1183621296</td>\n",
       "      <td>False</td>\n",
       "      <td>2013-02-15T19:55:20.000Z</td>\n",
       "    </tr>\n",
       "    <tr>\n",
       "      <th>232</th>\n",
       "      <td>NationalMining</td>\n",
       "      <td>1640.0</td>\n",
       "      <td>Climate Denier-Trade Assoc</td>\n",
       "      <td>True</td>\n",
       "      <td>2835.0</td>\n",
       "      <td>1877.0</td>\n",
       "      <td>4361.0</td>\n",
       "      <td>48.0</td>\n",
       "      <td>The National Mining Association (NMA) is the only national trade organization that serves as the voice of U.S. mining.</td>\n",
       "      <td>2422372057</td>\n",
       "      <td>False</td>\n",
       "      <td>2014-04-01T16:45:35.000Z</td>\n",
       "    </tr>\n",
       "    <tr>\n",
       "      <th>233</th>\n",
       "      <td>OfficialWSPA</td>\n",
       "      <td>1551.0</td>\n",
       "      <td>Climate Denier-Trade Assoc</td>\n",
       "      <td>True</td>\n",
       "      <td>1854.0</td>\n",
       "      <td>509.0</td>\n",
       "      <td>978.0</td>\n",
       "      <td>31.0</td>\n",
       "      <td>Official account for the Western States Petroleum Association, dedicated to ensuring continued access to reliable, affordable and sustainable energy for all</td>\n",
       "      <td>615493717</td>\n",
       "      <td>False</td>\n",
       "      <td>2012-06-22T20:12:37.000Z</td>\n",
       "    </tr>\n",
       "    <tr>\n",
       "      <th>234</th>\n",
       "      <td>Namcma</td>\n",
       "      <td>994.0</td>\n",
       "      <td>Climate Denier-Trade Assoc</td>\n",
       "      <td>True</td>\n",
       "      <td>1093.0</td>\n",
       "      <td>352.0</td>\n",
       "      <td>1875.0</td>\n",
       "      <td>30.0</td>\n",
       "      <td>The NAM's Council of Manufacturing Associations w/ over 250 industry sector trade association members work together on behalf of the people who make things</td>\n",
       "      <td>1362036559</td>\n",
       "      <td>False</td>\n",
       "      <td>2013-04-18T14:09:06.000Z</td>\n",
       "    </tr>\n",
       "  </tbody>\n",
       "</table>\n",
       "<p>235 rows × 12 columns</p>\n",
       "</div>"
      ],
      "text/plain": [
       "         screen_name  Followers                        Type exist  \\\n",
       "0        EcoSenseNow   107212.0              Climate Denier  True   \n",
       "1    ShellenbergerMD    98407.0              Climate Denier  True   \n",
       "2           RyanMaue    94377.0              Climate Denier  True   \n",
       "3         PolitixGal    93040.0              Climate Denier   NaN   \n",
       "4        catoletters    81717.0              Climate Denier  True   \n",
       "..               ...        ...                         ...   ...   \n",
       "230        Apiglobal     3000.0  Climate Denier-Trade Assoc  True   \n",
       "231    Chamberglobal     2263.0  Climate Denier-Trade Assoc  True   \n",
       "232   NationalMining     1640.0  Climate Denier-Trade Assoc  True   \n",
       "233     OfficialWSPA     1551.0  Climate Denier-Trade Assoc  True   \n",
       "234           Namcma      994.0  Climate Denier-Trade Assoc  True   \n",
       "\n",
       "     followers_count  following_count  tweet_count  listed_count  \\\n",
       "0           144594.0           1454.0      48706.0        1214.0   \n",
       "1           603098.0            821.0      23728.0        3765.0   \n",
       "2           101134.0           5005.0      10284.0        3127.0   \n",
       "3                NaN              NaN          NaN           NaN   \n",
       "4            81286.0          27392.0     478170.0         899.0   \n",
       "..               ...              ...          ...           ...   \n",
       "230           3443.0            690.0       3345.0          90.0   \n",
       "231           3178.0            227.0       3764.0          73.0   \n",
       "232           2835.0           1877.0       4361.0          48.0   \n",
       "233           1854.0            509.0        978.0          31.0   \n",
       "234           1093.0            352.0       1875.0          30.0   \n",
       "\n",
       "                                                                                                                                                                 description  \\\n",
       "0    BSc Biology PhD Ecology, Greenpeace co-founder, Now a Sensible Environmentalist. Director https://t.co/lfVMUTLFbi. Science & logic, not sensation & fear. CelebrateCO2!   \n",
       "1           Pro-civilization : Time, \"Hero of the Environment\" : Bestselling author of \"Apocalypse Never\" & \"San Fransicko\" : Green Book Award : MD = my initials. Not a doc   \n",
       "2                   Meteorologist | PhD Florida State #GoNoles 🏖 | Michigan #GoBlue  | Look Up 🚀 | Follow the data science | Energy & Agriculture Weather | Forecast Company   \n",
       "3                                                                                                                                                                        NaN   \n",
       "4             Voluntary Cooperation/Exchange; Human choice is the foundation of liberty. Read Rothbard and Mises. Peace NAP. End the Fed.  Parody, I am not Cato The Younger   \n",
       "..                                                                                                                                                                       ...   \n",
       "230         API Global Industry Services (GIS) provides oil and gas professionals with resources necessary to advance safety and efficiency. @DieselMatters @MotorOilMatters   \n",
       "231                              The @USChamber's International Affairs Division advocates for free enterprise, competitive markets, and rules-based #trade and #investment.   \n",
       "232                                                   The National Mining Association (NMA) is the only national trade organization that serves as the voice of U.S. mining.   \n",
       "233             Official account for the Western States Petroleum Association, dedicated to ensuring continued access to reliable, affordable and sustainable energy for all   \n",
       "234              The NAM's Council of Manufacturing Associations w/ over 250 industry sector trade association members work together on behalf of the people who make things   \n",
       "\n",
       "             id verified                created_at  \n",
       "0    1392956425    False  2013-04-30T20:03:19.000Z  \n",
       "1    2474749586     True  2014-05-03T01:10:35.000Z  \n",
       "2      16117029     True  2008-09-03T18:27:32.000Z  \n",
       "3           NaN      NaN                       NaN  \n",
       "4      15063486    False  2008-06-09T18:11:35.000Z  \n",
       "..          ...      ...                       ...  \n",
       "230  2885823443    False  2014-11-20T16:58:38.000Z  \n",
       "231  1183621296    False  2013-02-15T19:55:20.000Z  \n",
       "232  2422372057    False  2014-04-01T16:45:35.000Z  \n",
       "233   615493717    False  2012-06-22T20:12:37.000Z  \n",
       "234  1362036559    False  2013-04-18T14:09:06.000Z  \n",
       "\n",
       "[235 rows x 12 columns]"
      ]
     },
     "execution_count": 29,
     "metadata": {},
     "output_type": "execute_result"
    }
   ],
   "source": [
    "denials = pd.read_csv(\"../CTTs/denier_twitter_handles.csv\")\n",
    "for i in range(denials.shape[0]):\n",
    "    username = denials.loc[i].screen_name\n",
    "    user_meta = getUser(username)\n",
    "    if not user_meta:\n",
    "        continue\n",
    "    denials.loc[i, 'exist'] = True\n",
    "    denials.loc[i, 'followers_count'] = user_meta['public_metrics']['followers_count']\n",
    "    denials.loc[i, 'following_count'] = user_meta['public_metrics']['following_count']\n",
    "    denials.loc[i, 'tweet_count'] = user_meta['public_metrics']['tweet_count']\n",
    "    denials.loc[i, 'listed_count'] = user_meta['public_metrics']['listed_count']\n",
    "    denials.loc[i, 'description'] = user_meta['description']\n",
    "    denials.loc[i, 'id'] = user_meta['id']\n",
    "    denials.loc[i, 'verified'] = user_meta['verified']\n",
    "    denials.loc[i, 'created_at'] = user_meta['created_at']\n",
    "denials"
   ]
  },
  {
   "cell_type": "code",
   "execution_count": 30,
   "id": "47ae5cc4",
   "metadata": {
    "ExecuteTime": {
     "end_time": "2023-03-13T02:10:57.507899Z",
     "start_time": "2023-03-13T02:10:57.505333Z"
    }
   },
   "outputs": [
    {
     "name": "stdout",
     "output_type": "stream",
     "text": [
      "191 in total 235.\n"
     ]
    }
   ],
   "source": [
    "print(\"{} in total {}.\".format((denials.exist==True).sum(), denials.shape[0]))"
   ]
  },
  {
   "cell_type": "markdown",
   "id": "ca7148c4",
   "metadata": {},
   "source": [
    "#### Tweets"
   ]
  },
  {
   "cell_type": "code",
   "execution_count": 31,
   "id": "b50ed3c8",
   "metadata": {
    "ExecuteTime": {
     "end_time": "2023-03-13T02:14:51.376293Z",
     "start_time": "2023-03-13T02:10:57.509151Z"
    }
   },
   "outputs": [
    {
     "data": {
      "application/vnd.jupyter.widget-view+json": {
       "model_id": "b229b2456f5d4390910a4987e24b3cb8",
       "version_major": 2,
       "version_minor": 0
      },
      "text/plain": [
       "  0%|          | 0/186 [00:00<?, ?it/s]"
      ]
     },
     "metadata": {},
     "output_type": "display_data"
    },
    {
     "name": "stdout",
     "output_type": "stream",
     "text": [
      "Number of tweets: 11073\n",
      "Aproximate time to process: 11.073 minutes\n"
     ]
    }
   ],
   "source": [
    "handles_process = denials[denials.exist==True].screen_name.unique()\n",
    "    \n",
    "total_sum = 0\n",
    "for username in tqdm(handles_process):\n",
    "    number = count_tweets(\"from:{} -is:retweet\".format(username))\n",
    "    total_sum+=number\n",
    "print(\"Number of tweets: {}\".format(total_sum))\n",
    "print(\"Aproximate time to process: {} minutes\".format(total_sum*6/60/100))"
   ]
  },
  {
   "cell_type": "code",
   "execution_count": 32,
   "id": "8a60b850",
   "metadata": {
    "ExecuteTime": {
     "end_time": "2023-03-13T02:41:57.192820Z",
     "start_time": "2023-03-13T02:14:51.377368Z"
    },
    "scrolled": true
   },
   "outputs": [
    {
     "data": {
      "application/vnd.jupyter.widget-view+json": {
       "model_id": "443aad29801841a3bb6fe4da2f8e02cb",
       "version_major": 2,
       "version_minor": 0
      },
      "text/plain": [
       "  0%|          | 0/186 [00:00<?, ?it/s]"
      ]
     },
     "metadata": {},
     "output_type": "display_data"
    },
    {
     "data": {
      "application/vnd.jupyter.widget-view+json": {
       "model_id": "e260c930f982432ea8ee6b8a09f64758",
       "version_major": 2,
       "version_minor": 0
      },
      "text/plain": [
       "  0%|          | 0/1 [00:00<?, ?it/s]"
      ]
     },
     "metadata": {},
     "output_type": "display_data"
    },
    {
     "data": {
      "application/vnd.jupyter.widget-view+json": {
       "model_id": "f751ebf0fa0948aa8a0cafbb6dacb258",
       "version_major": 2,
       "version_minor": 0
      },
      "text/plain": [
       "  0%|          | 0/1 [00:00<?, ?it/s]"
      ]
     },
     "metadata": {},
     "output_type": "display_data"
    },
    {
     "data": {
      "application/vnd.jupyter.widget-view+json": {
       "model_id": "8368fa06d831409db1e0ec9adac99b4d",
       "version_major": 2,
       "version_minor": 0
      },
      "text/plain": [
       "  0%|          | 0/1 [00:00<?, ?it/s]"
      ]
     },
     "metadata": {},
     "output_type": "display_data"
    },
    {
     "data": {
      "application/vnd.jupyter.widget-view+json": {
       "model_id": "0711159fd197467e95f749d938818dab",
       "version_major": 2,
       "version_minor": 0
      },
      "text/plain": [
       "  0%|          | 0/4 [00:00<?, ?it/s]"
      ]
     },
     "metadata": {},
     "output_type": "display_data"
    },
    {
     "data": {
      "application/vnd.jupyter.widget-view+json": {
       "model_id": "4efb9cae65074d0abe989af2af63f411",
       "version_major": 2,
       "version_minor": 0
      },
      "text/plain": [
       "  0%|          | 0/1 [00:00<?, ?it/s]"
      ]
     },
     "metadata": {},
     "output_type": "display_data"
    },
    {
     "data": {
      "application/vnd.jupyter.widget-view+json": {
       "model_id": "10efb24a317747a588ea01943871a685",
       "version_major": 2,
       "version_minor": 0
      },
      "text/plain": [
       "  0%|          | 0/1 [00:00<?, ?it/s]"
      ]
     },
     "metadata": {},
     "output_type": "display_data"
    },
    {
     "data": {
      "application/vnd.jupyter.widget-view+json": {
       "model_id": "f906199831fb429ba28caaf9229454cf",
       "version_major": 2,
       "version_minor": 0
      },
      "text/plain": [
       "  0%|          | 0/1 [00:00<?, ?it/s]"
      ]
     },
     "metadata": {},
     "output_type": "display_data"
    },
    {
     "data": {
      "application/vnd.jupyter.widget-view+json": {
       "model_id": "62c0d2553852499fb5ceedfb517e78d6",
       "version_major": 2,
       "version_minor": 0
      },
      "text/plain": [
       "  0%|          | 0/1 [00:00<?, ?it/s]"
      ]
     },
     "metadata": {},
     "output_type": "display_data"
    },
    {
     "data": {
      "application/vnd.jupyter.widget-view+json": {
       "model_id": "a5adb032cdf04e3986a5c09e2e4cdfb2",
       "version_major": 2,
       "version_minor": 0
      },
      "text/plain": [
       "  0%|          | 0/1 [00:00<?, ?it/s]"
      ]
     },
     "metadata": {},
     "output_type": "display_data"
    },
    {
     "data": {
      "application/vnd.jupyter.widget-view+json": {
       "model_id": "24add96c7b644c59b1734bb94b865355",
       "version_major": 2,
       "version_minor": 0
      },
      "text/plain": [
       "  0%|          | 0/1 [00:00<?, ?it/s]"
      ]
     },
     "metadata": {},
     "output_type": "display_data"
    },
    {
     "data": {
      "application/vnd.jupyter.widget-view+json": {
       "model_id": "773ac2e090be4f7a99d640bf57bd59f1",
       "version_major": 2,
       "version_minor": 0
      },
      "text/plain": [
       "  0%|          | 0/1 [00:00<?, ?it/s]"
      ]
     },
     "metadata": {},
     "output_type": "display_data"
    },
    {
     "data": {
      "application/vnd.jupyter.widget-view+json": {
       "model_id": "0e02162a8b754883850b954d7a41853a",
       "version_major": 2,
       "version_minor": 0
      },
      "text/plain": [
       "  0%|          | 0/1 [00:00<?, ?it/s]"
      ]
     },
     "metadata": {},
     "output_type": "display_data"
    },
    {
     "data": {
      "application/vnd.jupyter.widget-view+json": {
       "model_id": "2f36bbd7d510417290be2387db2104d9",
       "version_major": 2,
       "version_minor": 0
      },
      "text/plain": [
       "  0%|          | 0/2 [00:00<?, ?it/s]"
      ]
     },
     "metadata": {},
     "output_type": "display_data"
    },
    {
     "data": {
      "application/vnd.jupyter.widget-view+json": {
       "model_id": "ca11b3672ed44141baa257d654fa147a",
       "version_major": 2,
       "version_minor": 0
      },
      "text/plain": [
       "  0%|          | 0/1 [00:00<?, ?it/s]"
      ]
     },
     "metadata": {},
     "output_type": "display_data"
    },
    {
     "data": {
      "application/vnd.jupyter.widget-view+json": {
       "model_id": "c3d3bba2e0be47aaa2507690fac01fa4",
       "version_major": 2,
       "version_minor": 0
      },
      "text/plain": [
       "  0%|          | 0/1 [00:00<?, ?it/s]"
      ]
     },
     "metadata": {},
     "output_type": "display_data"
    },
    {
     "data": {
      "application/vnd.jupyter.widget-view+json": {
       "model_id": "072783f4a9df41daa290318b8f1d110f",
       "version_major": 2,
       "version_minor": 0
      },
      "text/plain": [
       "  0%|          | 0/1 [00:00<?, ?it/s]"
      ]
     },
     "metadata": {},
     "output_type": "display_data"
    },
    {
     "data": {
      "application/vnd.jupyter.widget-view+json": {
       "model_id": "84b6929b4013453faf67fe2f4ef509c1",
       "version_major": 2,
       "version_minor": 0
      },
      "text/plain": [
       "  0%|          | 0/1 [00:00<?, ?it/s]"
      ]
     },
     "metadata": {},
     "output_type": "display_data"
    },
    {
     "data": {
      "application/vnd.jupyter.widget-view+json": {
       "model_id": "f637b178f8a74121b40e9c5695d44cc2",
       "version_major": 2,
       "version_minor": 0
      },
      "text/plain": [
       "  0%|          | 0/4 [00:00<?, ?it/s]"
      ]
     },
     "metadata": {},
     "output_type": "display_data"
    },
    {
     "data": {
      "application/vnd.jupyter.widget-view+json": {
       "model_id": "73195f5782844efa90677168a82ace85",
       "version_major": 2,
       "version_minor": 0
      },
      "text/plain": [
       "  0%|          | 0/1 [00:00<?, ?it/s]"
      ]
     },
     "metadata": {},
     "output_type": "display_data"
    },
    {
     "data": {
      "application/vnd.jupyter.widget-view+json": {
       "model_id": "fca8d985da594a17a733b6c8ef7865be",
       "version_major": 2,
       "version_minor": 0
      },
      "text/plain": [
       "  0%|          | 0/2 [00:00<?, ?it/s]"
      ]
     },
     "metadata": {},
     "output_type": "display_data"
    },
    {
     "data": {
      "application/vnd.jupyter.widget-view+json": {
       "model_id": "20646bfb4f834ff9bf0c20755461799a",
       "version_major": 2,
       "version_minor": 0
      },
      "text/plain": [
       "  0%|          | 0/2 [00:00<?, ?it/s]"
      ]
     },
     "metadata": {},
     "output_type": "display_data"
    },
    {
     "data": {
      "application/vnd.jupyter.widget-view+json": {
       "model_id": "7cdc84c6aebf417ca94601fd9c7135bf",
       "version_major": 2,
       "version_minor": 0
      },
      "text/plain": [
       "  0%|          | 0/2 [00:00<?, ?it/s]"
      ]
     },
     "metadata": {},
     "output_type": "display_data"
    },
    {
     "data": {
      "application/vnd.jupyter.widget-view+json": {
       "model_id": "97bd7e93f48542c7b70e047dbc3e708a",
       "version_major": 2,
       "version_minor": 0
      },
      "text/plain": [
       "  0%|          | 0/3 [00:00<?, ?it/s]"
      ]
     },
     "metadata": {},
     "output_type": "display_data"
    },
    {
     "data": {
      "application/vnd.jupyter.widget-view+json": {
       "model_id": "7689f06ecf384775af3e3127b8c369c4",
       "version_major": 2,
       "version_minor": 0
      },
      "text/plain": [
       "  0%|          | 0/1 [00:00<?, ?it/s]"
      ]
     },
     "metadata": {},
     "output_type": "display_data"
    },
    {
     "data": {
      "application/vnd.jupyter.widget-view+json": {
       "model_id": "3ac20aa0e1564d2d90a01dbc49e598d9",
       "version_major": 2,
       "version_minor": 0
      },
      "text/plain": [
       "  0%|          | 0/1 [00:00<?, ?it/s]"
      ]
     },
     "metadata": {},
     "output_type": "display_data"
    },
    {
     "data": {
      "application/vnd.jupyter.widget-view+json": {
       "model_id": "1320a0259d1a48ce977ad068b2e73b55",
       "version_major": 2,
       "version_minor": 0
      },
      "text/plain": [
       "  0%|          | 0/1 [00:00<?, ?it/s]"
      ]
     },
     "metadata": {},
     "output_type": "display_data"
    },
    {
     "data": {
      "application/vnd.jupyter.widget-view+json": {
       "model_id": "efc4110e45c1402eb421082d8dce7dcd",
       "version_major": 2,
       "version_minor": 0
      },
      "text/plain": [
       "  0%|          | 0/1 [00:00<?, ?it/s]"
      ]
     },
     "metadata": {},
     "output_type": "display_data"
    },
    {
     "data": {
      "application/vnd.jupyter.widget-view+json": {
       "model_id": "f241d293996149e98d6dc8b39ac45cf8",
       "version_major": 2,
       "version_minor": 0
      },
      "text/plain": [
       "  0%|          | 0/1 [00:00<?, ?it/s]"
      ]
     },
     "metadata": {},
     "output_type": "display_data"
    },
    {
     "data": {
      "application/vnd.jupyter.widget-view+json": {
       "model_id": "066d530dd9f649bbbf719eb09f27062b",
       "version_major": 2,
       "version_minor": 0
      },
      "text/plain": [
       "  0%|          | 0/2 [00:00<?, ?it/s]"
      ]
     },
     "metadata": {},
     "output_type": "display_data"
    },
    {
     "data": {
      "application/vnd.jupyter.widget-view+json": {
       "model_id": "435f6707dcdc4384ba0608e61ec99c2e",
       "version_major": 2,
       "version_minor": 0
      },
      "text/plain": [
       "  0%|          | 0/2 [00:00<?, ?it/s]"
      ]
     },
     "metadata": {},
     "output_type": "display_data"
    },
    {
     "data": {
      "application/vnd.jupyter.widget-view+json": {
       "model_id": "2379d006558c4c6c9f05f87fdd7854c4",
       "version_major": 2,
       "version_minor": 0
      },
      "text/plain": [
       "  0%|          | 0/4 [00:00<?, ?it/s]"
      ]
     },
     "metadata": {},
     "output_type": "display_data"
    },
    {
     "data": {
      "application/vnd.jupyter.widget-view+json": {
       "model_id": "b083a0e770144cc39a7c01d06dc371e4",
       "version_major": 2,
       "version_minor": 0
      },
      "text/plain": [
       "  0%|          | 0/1 [00:00<?, ?it/s]"
      ]
     },
     "metadata": {},
     "output_type": "display_data"
    },
    {
     "data": {
      "application/vnd.jupyter.widget-view+json": {
       "model_id": "a929dafb3e744f8e881d67e02a90611e",
       "version_major": 2,
       "version_minor": 0
      },
      "text/plain": [
       "  0%|          | 0/1 [00:00<?, ?it/s]"
      ]
     },
     "metadata": {},
     "output_type": "display_data"
    },
    {
     "data": {
      "application/vnd.jupyter.widget-view+json": {
       "model_id": "da5f29d2ccfd44dead85c185351bdfd8",
       "version_major": 2,
       "version_minor": 0
      },
      "text/plain": [
       "  0%|          | 0/6 [00:00<?, ?it/s]"
      ]
     },
     "metadata": {},
     "output_type": "display_data"
    },
    {
     "data": {
      "application/vnd.jupyter.widget-view+json": {
       "model_id": "6f0b346fb95b4e098759fb24012cc4b1",
       "version_major": 2,
       "version_minor": 0
      },
      "text/plain": [
       "  0%|          | 0/1 [00:00<?, ?it/s]"
      ]
     },
     "metadata": {},
     "output_type": "display_data"
    },
    {
     "data": {
      "application/vnd.jupyter.widget-view+json": {
       "model_id": "0cbd4eb209aa4bc6b9a51e2ddf308ae6",
       "version_major": 2,
       "version_minor": 0
      },
      "text/plain": [
       "  0%|          | 0/1 [00:00<?, ?it/s]"
      ]
     },
     "metadata": {},
     "output_type": "display_data"
    },
    {
     "data": {
      "application/vnd.jupyter.widget-view+json": {
       "model_id": "2f469438af33407595bb35da9f9f0266",
       "version_major": 2,
       "version_minor": 0
      },
      "text/plain": [
       "  0%|          | 0/3 [00:00<?, ?it/s]"
      ]
     },
     "metadata": {},
     "output_type": "display_data"
    },
    {
     "data": {
      "application/vnd.jupyter.widget-view+json": {
       "model_id": "178d9357c9f840dbb8dbdcafc97a375a",
       "version_major": 2,
       "version_minor": 0
      },
      "text/plain": [
       "  0%|          | 0/1 [00:00<?, ?it/s]"
      ]
     },
     "metadata": {},
     "output_type": "display_data"
    },
    {
     "data": {
      "application/vnd.jupyter.widget-view+json": {
       "model_id": "80f0060870104f77afcf8a414f1fe4cb",
       "version_major": 2,
       "version_minor": 0
      },
      "text/plain": [
       "  0%|          | 0/2 [00:00<?, ?it/s]"
      ]
     },
     "metadata": {},
     "output_type": "display_data"
    },
    {
     "data": {
      "application/vnd.jupyter.widget-view+json": {
       "model_id": "3df27abc0d354076b3c06c8aac46125e",
       "version_major": 2,
       "version_minor": 0
      },
      "text/plain": [
       "  0%|          | 0/1 [00:00<?, ?it/s]"
      ]
     },
     "metadata": {},
     "output_type": "display_data"
    },
    {
     "data": {
      "application/vnd.jupyter.widget-view+json": {
       "model_id": "6b33e20d1fc54c1aacf38daafccc2a20",
       "version_major": 2,
       "version_minor": 0
      },
      "text/plain": [
       "  0%|          | 0/1 [00:00<?, ?it/s]"
      ]
     },
     "metadata": {},
     "output_type": "display_data"
    },
    {
     "data": {
      "application/vnd.jupyter.widget-view+json": {
       "model_id": "a1d703dfea50434bba582b54d56715b1",
       "version_major": 2,
       "version_minor": 0
      },
      "text/plain": [
       "  0%|          | 0/1 [00:00<?, ?it/s]"
      ]
     },
     "metadata": {},
     "output_type": "display_data"
    },
    {
     "data": {
      "application/vnd.jupyter.widget-view+json": {
       "model_id": "f7b449a6facd48718797febffb9d99a7",
       "version_major": 2,
       "version_minor": 0
      },
      "text/plain": [
       "  0%|          | 0/1 [00:00<?, ?it/s]"
      ]
     },
     "metadata": {},
     "output_type": "display_data"
    },
    {
     "data": {
      "application/vnd.jupyter.widget-view+json": {
       "model_id": "951a69e2652a4529a08b2e3c29f471f9",
       "version_major": 2,
       "version_minor": 0
      },
      "text/plain": [
       "  0%|          | 0/1 [00:00<?, ?it/s]"
      ]
     },
     "metadata": {},
     "output_type": "display_data"
    },
    {
     "data": {
      "application/vnd.jupyter.widget-view+json": {
       "model_id": "463870fb693844bf8d88bc9c35d9847a",
       "version_major": 2,
       "version_minor": 0
      },
      "text/plain": [
       "  0%|          | 0/3 [00:00<?, ?it/s]"
      ]
     },
     "metadata": {},
     "output_type": "display_data"
    },
    {
     "data": {
      "application/vnd.jupyter.widget-view+json": {
       "model_id": "3e15c747d71140c0862792285e021865",
       "version_major": 2,
       "version_minor": 0
      },
      "text/plain": [
       "  0%|          | 0/1 [00:00<?, ?it/s]"
      ]
     },
     "metadata": {},
     "output_type": "display_data"
    },
    {
     "data": {
      "application/vnd.jupyter.widget-view+json": {
       "model_id": "90fc6594118742f99fe3dd35f5dbd07b",
       "version_major": 2,
       "version_minor": 0
      },
      "text/plain": [
       "  0%|          | 0/1 [00:00<?, ?it/s]"
      ]
     },
     "metadata": {},
     "output_type": "display_data"
    },
    {
     "data": {
      "application/vnd.jupyter.widget-view+json": {
       "model_id": "d77a657fefcd437c95e0fa4c10abe280",
       "version_major": 2,
       "version_minor": 0
      },
      "text/plain": [
       "  0%|          | 0/1 [00:00<?, ?it/s]"
      ]
     },
     "metadata": {},
     "output_type": "display_data"
    },
    {
     "data": {
      "application/vnd.jupyter.widget-view+json": {
       "model_id": "7d8c88594a58461fa9be625b7388ef75",
       "version_major": 2,
       "version_minor": 0
      },
      "text/plain": [
       "  0%|          | 0/2 [00:00<?, ?it/s]"
      ]
     },
     "metadata": {},
     "output_type": "display_data"
    },
    {
     "data": {
      "application/vnd.jupyter.widget-view+json": {
       "model_id": "f3b98f49648847ee969f7adbd4fdf7dd",
       "version_major": 2,
       "version_minor": 0
      },
      "text/plain": [
       "  0%|          | 0/1 [00:00<?, ?it/s]"
      ]
     },
     "metadata": {},
     "output_type": "display_data"
    },
    {
     "data": {
      "application/vnd.jupyter.widget-view+json": {
       "model_id": "ea133b615cc7401d97a192b8b4d4f6bd",
       "version_major": 2,
       "version_minor": 0
      },
      "text/plain": [
       "  0%|          | 0/1 [00:00<?, ?it/s]"
      ]
     },
     "metadata": {},
     "output_type": "display_data"
    },
    {
     "data": {
      "application/vnd.jupyter.widget-view+json": {
       "model_id": "c241d7eecaf74207a1aa6e4aa42ec9e3",
       "version_major": 2,
       "version_minor": 0
      },
      "text/plain": [
       "  0%|          | 0/1 [00:00<?, ?it/s]"
      ]
     },
     "metadata": {},
     "output_type": "display_data"
    },
    {
     "data": {
      "application/vnd.jupyter.widget-view+json": {
       "model_id": "b9da8787f7fa444bb7492b69e2991973",
       "version_major": 2,
       "version_minor": 0
      },
      "text/plain": [
       "  0%|          | 0/1 [00:00<?, ?it/s]"
      ]
     },
     "metadata": {},
     "output_type": "display_data"
    },
    {
     "data": {
      "application/vnd.jupyter.widget-view+json": {
       "model_id": "66ea9371c8b64f7f9ca8649d24ed96a5",
       "version_major": 2,
       "version_minor": 0
      },
      "text/plain": [
       "  0%|          | 0/2 [00:00<?, ?it/s]"
      ]
     },
     "metadata": {},
     "output_type": "display_data"
    },
    {
     "data": {
      "application/vnd.jupyter.widget-view+json": {
       "model_id": "1c28acfe3d96497d872023729b2b9bbc",
       "version_major": 2,
       "version_minor": 0
      },
      "text/plain": [
       "  0%|          | 0/1 [00:00<?, ?it/s]"
      ]
     },
     "metadata": {},
     "output_type": "display_data"
    },
    {
     "data": {
      "application/vnd.jupyter.widget-view+json": {
       "model_id": "63bb5fd4cc7a46ff987a23d51d91654c",
       "version_major": 2,
       "version_minor": 0
      },
      "text/plain": [
       "  0%|          | 0/1 [00:00<?, ?it/s]"
      ]
     },
     "metadata": {},
     "output_type": "display_data"
    },
    {
     "data": {
      "application/vnd.jupyter.widget-view+json": {
       "model_id": "a55534528253411aab5870b750f914e0",
       "version_major": 2,
       "version_minor": 0
      },
      "text/plain": [
       "  0%|          | 0/1 [00:00<?, ?it/s]"
      ]
     },
     "metadata": {},
     "output_type": "display_data"
    },
    {
     "data": {
      "application/vnd.jupyter.widget-view+json": {
       "model_id": "cda5ae7659a842c489c98cf7263dfd08",
       "version_major": 2,
       "version_minor": 0
      },
      "text/plain": [
       "  0%|          | 0/1 [00:00<?, ?it/s]"
      ]
     },
     "metadata": {},
     "output_type": "display_data"
    },
    {
     "data": {
      "application/vnd.jupyter.widget-view+json": {
       "model_id": "ad268cab8f7d458ab9ee75b551edeea1",
       "version_major": 2,
       "version_minor": 0
      },
      "text/plain": [
       "  0%|          | 0/1 [00:00<?, ?it/s]"
      ]
     },
     "metadata": {},
     "output_type": "display_data"
    },
    {
     "data": {
      "application/vnd.jupyter.widget-view+json": {
       "model_id": "f34854b1c8d949c89ede93c9325369b2",
       "version_major": 2,
       "version_minor": 0
      },
      "text/plain": [
       "  0%|          | 0/1 [00:00<?, ?it/s]"
      ]
     },
     "metadata": {},
     "output_type": "display_data"
    },
    {
     "data": {
      "application/vnd.jupyter.widget-view+json": {
       "model_id": "a7285ae525b9494e9a168b3f044ac250",
       "version_major": 2,
       "version_minor": 0
      },
      "text/plain": [
       "  0%|          | 0/3 [00:00<?, ?it/s]"
      ]
     },
     "metadata": {},
     "output_type": "display_data"
    },
    {
     "data": {
      "application/vnd.jupyter.widget-view+json": {
       "model_id": "3ce3c6da34c74ea084cd1c2ae8d59566",
       "version_major": 2,
       "version_minor": 0
      },
      "text/plain": [
       "  0%|          | 0/1 [00:00<?, ?it/s]"
      ]
     },
     "metadata": {},
     "output_type": "display_data"
    },
    {
     "data": {
      "application/vnd.jupyter.widget-view+json": {
       "model_id": "ed96251269ce433fb71ffba9b96dac62",
       "version_major": 2,
       "version_minor": 0
      },
      "text/plain": [
       "  0%|          | 0/6 [00:00<?, ?it/s]"
      ]
     },
     "metadata": {},
     "output_type": "display_data"
    },
    {
     "data": {
      "application/vnd.jupyter.widget-view+json": {
       "model_id": "f0b81084e3d54463b511d0933596eac6",
       "version_major": 2,
       "version_minor": 0
      },
      "text/plain": [
       "  0%|          | 0/1 [00:00<?, ?it/s]"
      ]
     },
     "metadata": {},
     "output_type": "display_data"
    },
    {
     "data": {
      "application/vnd.jupyter.widget-view+json": {
       "model_id": "ad3ec2f64b0e4be8b20a564e9d3ca4bc",
       "version_major": 2,
       "version_minor": 0
      },
      "text/plain": [
       "  0%|          | 0/2 [00:00<?, ?it/s]"
      ]
     },
     "metadata": {},
     "output_type": "display_data"
    },
    {
     "data": {
      "application/vnd.jupyter.widget-view+json": {
       "model_id": "be07c4d9b22d49b3bc0dd11327ff2b17",
       "version_major": 2,
       "version_minor": 0
      },
      "text/plain": [
       "  0%|          | 0/5 [00:00<?, ?it/s]"
      ]
     },
     "metadata": {},
     "output_type": "display_data"
    },
    {
     "data": {
      "application/vnd.jupyter.widget-view+json": {
       "model_id": "06b80e607c764fdaad5f32dd6f8b5f59",
       "version_major": 2,
       "version_minor": 0
      },
      "text/plain": [
       "  0%|          | 0/1 [00:00<?, ?it/s]"
      ]
     },
     "metadata": {},
     "output_type": "display_data"
    },
    {
     "data": {
      "application/vnd.jupyter.widget-view+json": {
       "model_id": "f4c4dc7c548d4e7a9e0a74c391335fbe",
       "version_major": 2,
       "version_minor": 0
      },
      "text/plain": [
       "  0%|          | 0/1 [00:00<?, ?it/s]"
      ]
     },
     "metadata": {},
     "output_type": "display_data"
    },
    {
     "data": {
      "application/vnd.jupyter.widget-view+json": {
       "model_id": "60927c4f89224f4ebef7a9f722c02cd9",
       "version_major": 2,
       "version_minor": 0
      },
      "text/plain": [
       "  0%|          | 0/1 [00:00<?, ?it/s]"
      ]
     },
     "metadata": {},
     "output_type": "display_data"
    },
    {
     "data": {
      "application/vnd.jupyter.widget-view+json": {
       "model_id": "70fdeca99c1f4f00b925bfacc568cfc4",
       "version_major": 2,
       "version_minor": 0
      },
      "text/plain": [
       "  0%|          | 0/1 [00:00<?, ?it/s]"
      ]
     },
     "metadata": {},
     "output_type": "display_data"
    },
    {
     "data": {
      "application/vnd.jupyter.widget-view+json": {
       "model_id": "067c585b711a41d0925b049e70a35301",
       "version_major": 2,
       "version_minor": 0
      },
      "text/plain": [
       "  0%|          | 0/2 [00:00<?, ?it/s]"
      ]
     },
     "metadata": {},
     "output_type": "display_data"
    },
    {
     "data": {
      "application/vnd.jupyter.widget-view+json": {
       "model_id": "3dc1d8fc432247b6af063bdc71284c50",
       "version_major": 2,
       "version_minor": 0
      },
      "text/plain": [
       "  0%|          | 0/1 [00:00<?, ?it/s]"
      ]
     },
     "metadata": {},
     "output_type": "display_data"
    },
    {
     "data": {
      "application/vnd.jupyter.widget-view+json": {
       "model_id": "7709c8b4bc4242ac9e2b8b30fc72fed5",
       "version_major": 2,
       "version_minor": 0
      },
      "text/plain": [
       "  0%|          | 0/1 [00:00<?, ?it/s]"
      ]
     },
     "metadata": {},
     "output_type": "display_data"
    },
    {
     "data": {
      "application/vnd.jupyter.widget-view+json": {
       "model_id": "cded6c9c19bc472eb8dbd53f5a456bee",
       "version_major": 2,
       "version_minor": 0
      },
      "text/plain": [
       "  0%|          | 0/1 [00:00<?, ?it/s]"
      ]
     },
     "metadata": {},
     "output_type": "display_data"
    },
    {
     "data": {
      "application/vnd.jupyter.widget-view+json": {
       "model_id": "08862dd128d74e07b9c3921b50d281d7",
       "version_major": 2,
       "version_minor": 0
      },
      "text/plain": [
       "  0%|          | 0/1 [00:00<?, ?it/s]"
      ]
     },
     "metadata": {},
     "output_type": "display_data"
    },
    {
     "data": {
      "application/vnd.jupyter.widget-view+json": {
       "model_id": "f733ff04373543a6ba3ce747586e320e",
       "version_major": 2,
       "version_minor": 0
      },
      "text/plain": [
       "  0%|          | 0/3 [00:00<?, ?it/s]"
      ]
     },
     "metadata": {},
     "output_type": "display_data"
    },
    {
     "data": {
      "application/vnd.jupyter.widget-view+json": {
       "model_id": "afe03b73edf445228b197b4f87ea0e45",
       "version_major": 2,
       "version_minor": 0
      },
      "text/plain": [
       "  0%|          | 0/1 [00:00<?, ?it/s]"
      ]
     },
     "metadata": {},
     "output_type": "display_data"
    },
    {
     "data": {
      "application/vnd.jupyter.widget-view+json": {
       "model_id": "f2bb7ce05add41549fb8cd86b7f2dd46",
       "version_major": 2,
       "version_minor": 0
      },
      "text/plain": [
       "  0%|          | 0/2 [00:00<?, ?it/s]"
      ]
     },
     "metadata": {},
     "output_type": "display_data"
    },
    {
     "data": {
      "application/vnd.jupyter.widget-view+json": {
       "model_id": "9e40956babd54ff480ccf90c9449bd96",
       "version_major": 2,
       "version_minor": 0
      },
      "text/plain": [
       "  0%|          | 0/3 [00:00<?, ?it/s]"
      ]
     },
     "metadata": {},
     "output_type": "display_data"
    },
    {
     "data": {
      "application/vnd.jupyter.widget-view+json": {
       "model_id": "d7c0b6d1d87e457abbc3c91b836e9a67",
       "version_major": 2,
       "version_minor": 0
      },
      "text/plain": [
       "  0%|          | 0/1 [00:00<?, ?it/s]"
      ]
     },
     "metadata": {},
     "output_type": "display_data"
    },
    {
     "data": {
      "application/vnd.jupyter.widget-view+json": {
       "model_id": "6539d8cf831848bf9315a45d3ad4e7a9",
       "version_major": 2,
       "version_minor": 0
      },
      "text/plain": [
       "  0%|          | 0/1 [00:00<?, ?it/s]"
      ]
     },
     "metadata": {},
     "output_type": "display_data"
    },
    {
     "data": {
      "application/vnd.jupyter.widget-view+json": {
       "model_id": "e78c7f33ddbc474880cc4e0acf7b362e",
       "version_major": 2,
       "version_minor": 0
      },
      "text/plain": [
       "  0%|          | 0/2 [00:00<?, ?it/s]"
      ]
     },
     "metadata": {},
     "output_type": "display_data"
    },
    {
     "data": {
      "application/vnd.jupyter.widget-view+json": {
       "model_id": "b716049703004b02bcdd32af6afbec16",
       "version_major": 2,
       "version_minor": 0
      },
      "text/plain": [
       "  0%|          | 0/1 [00:00<?, ?it/s]"
      ]
     },
     "metadata": {},
     "output_type": "display_data"
    },
    {
     "data": {
      "application/vnd.jupyter.widget-view+json": {
       "model_id": "c4f143141929454b9954cb3038b4b0d4",
       "version_major": 2,
       "version_minor": 0
      },
      "text/plain": [
       "  0%|          | 0/1 [00:00<?, ?it/s]"
      ]
     },
     "metadata": {},
     "output_type": "display_data"
    },
    {
     "data": {
      "application/vnd.jupyter.widget-view+json": {
       "model_id": "b8336eca50e54f00ac9499f36795cb5b",
       "version_major": 2,
       "version_minor": 0
      },
      "text/plain": [
       "  0%|          | 0/2 [00:00<?, ?it/s]"
      ]
     },
     "metadata": {},
     "output_type": "display_data"
    },
    {
     "data": {
      "application/vnd.jupyter.widget-view+json": {
       "model_id": "e89b7badfb8c43499368fa853b713e62",
       "version_major": 2,
       "version_minor": 0
      },
      "text/plain": [
       "  0%|          | 0/2 [00:00<?, ?it/s]"
      ]
     },
     "metadata": {},
     "output_type": "display_data"
    },
    {
     "data": {
      "application/vnd.jupyter.widget-view+json": {
       "model_id": "eb66fcd3334e4150842f5241fcfac074",
       "version_major": 2,
       "version_minor": 0
      },
      "text/plain": [
       "  0%|          | 0/2 [00:00<?, ?it/s]"
      ]
     },
     "metadata": {},
     "output_type": "display_data"
    },
    {
     "data": {
      "application/vnd.jupyter.widget-view+json": {
       "model_id": "18bf2c073e944877b1169cb4323db208",
       "version_major": 2,
       "version_minor": 0
      },
      "text/plain": [
       "  0%|          | 0/1 [00:00<?, ?it/s]"
      ]
     },
     "metadata": {},
     "output_type": "display_data"
    },
    {
     "data": {
      "application/vnd.jupyter.widget-view+json": {
       "model_id": "b118f91dc2e34c33bdf80e38549a9d01",
       "version_major": 2,
       "version_minor": 0
      },
      "text/plain": [
       "  0%|          | 0/1 [00:00<?, ?it/s]"
      ]
     },
     "metadata": {},
     "output_type": "display_data"
    },
    {
     "data": {
      "application/vnd.jupyter.widget-view+json": {
       "model_id": "f51510446a8343b4ae5b418a4f34e0a7",
       "version_major": 2,
       "version_minor": 0
      },
      "text/plain": [
       "  0%|          | 0/1 [00:00<?, ?it/s]"
      ]
     },
     "metadata": {},
     "output_type": "display_data"
    },
    {
     "data": {
      "application/vnd.jupyter.widget-view+json": {
       "model_id": "b37f99c82b3b4da298bb3b9dbdb9aab9",
       "version_major": 2,
       "version_minor": 0
      },
      "text/plain": [
       "  0%|          | 0/3 [00:00<?, ?it/s]"
      ]
     },
     "metadata": {},
     "output_type": "display_data"
    },
    {
     "data": {
      "application/vnd.jupyter.widget-view+json": {
       "model_id": "6c20e82a34f3451fae9bbec58976bab1",
       "version_major": 2,
       "version_minor": 0
      },
      "text/plain": [
       "  0%|          | 0/4 [00:00<?, ?it/s]"
      ]
     },
     "metadata": {},
     "output_type": "display_data"
    },
    {
     "data": {
      "application/vnd.jupyter.widget-view+json": {
       "model_id": "98c530a46eaf4b70acfe6730db7171a5",
       "version_major": 2,
       "version_minor": 0
      },
      "text/plain": [
       "  0%|          | 0/1 [00:00<?, ?it/s]"
      ]
     },
     "metadata": {},
     "output_type": "display_data"
    },
    {
     "data": {
      "application/vnd.jupyter.widget-view+json": {
       "model_id": "a8e0a741e59f4122932d7ac5586bd4ca",
       "version_major": 2,
       "version_minor": 0
      },
      "text/plain": [
       "  0%|          | 0/2 [00:00<?, ?it/s]"
      ]
     },
     "metadata": {},
     "output_type": "display_data"
    },
    {
     "data": {
      "application/vnd.jupyter.widget-view+json": {
       "model_id": "efe3fece40314e11a30defaef23a7ee5",
       "version_major": 2,
       "version_minor": 0
      },
      "text/plain": [
       "  0%|          | 0/1 [00:00<?, ?it/s]"
      ]
     },
     "metadata": {},
     "output_type": "display_data"
    },
    {
     "data": {
      "application/vnd.jupyter.widget-view+json": {
       "model_id": "d6c260befd984c9bbe1f47f3d77a4f71",
       "version_major": 2,
       "version_minor": 0
      },
      "text/plain": [
       "  0%|          | 0/2 [00:00<?, ?it/s]"
      ]
     },
     "metadata": {},
     "output_type": "display_data"
    },
    {
     "data": {
      "application/vnd.jupyter.widget-view+json": {
       "model_id": "da67420296134e5c9ff955d787ea5648",
       "version_major": 2,
       "version_minor": 0
      },
      "text/plain": [
       "  0%|          | 0/1 [00:00<?, ?it/s]"
      ]
     },
     "metadata": {},
     "output_type": "display_data"
    },
    {
     "data": {
      "application/vnd.jupyter.widget-view+json": {
       "model_id": "da01ffbcb078474386e4d3a9b410cb02",
       "version_major": 2,
       "version_minor": 0
      },
      "text/plain": [
       "  0%|          | 0/1 [00:00<?, ?it/s]"
      ]
     },
     "metadata": {},
     "output_type": "display_data"
    },
    {
     "data": {
      "application/vnd.jupyter.widget-view+json": {
       "model_id": "5a61c1dc1bcf4863a48dc3b5942c3201",
       "version_major": 2,
       "version_minor": 0
      },
      "text/plain": [
       "  0%|          | 0/1 [00:00<?, ?it/s]"
      ]
     },
     "metadata": {},
     "output_type": "display_data"
    },
    {
     "data": {
      "application/vnd.jupyter.widget-view+json": {
       "model_id": "056628f9200f4865bf97ae054d60e1cf",
       "version_major": 2,
       "version_minor": 0
      },
      "text/plain": [
       "  0%|          | 0/1 [00:00<?, ?it/s]"
      ]
     },
     "metadata": {},
     "output_type": "display_data"
    },
    {
     "data": {
      "application/vnd.jupyter.widget-view+json": {
       "model_id": "ba0a59ade51044c789b0af8cf325742c",
       "version_major": 2,
       "version_minor": 0
      },
      "text/plain": [
       "  0%|          | 0/2 [00:00<?, ?it/s]"
      ]
     },
     "metadata": {},
     "output_type": "display_data"
    },
    {
     "data": {
      "application/vnd.jupyter.widget-view+json": {
       "model_id": "4366d5f2973a4856ba4771108685cf91",
       "version_major": 2,
       "version_minor": 0
      },
      "text/plain": [
       "  0%|          | 0/1 [00:00<?, ?it/s]"
      ]
     },
     "metadata": {},
     "output_type": "display_data"
    },
    {
     "data": {
      "application/vnd.jupyter.widget-view+json": {
       "model_id": "abb1fc035ee34d59990db1fbc1a8b958",
       "version_major": 2,
       "version_minor": 0
      },
      "text/plain": [
       "  0%|          | 0/1 [00:00<?, ?it/s]"
      ]
     },
     "metadata": {},
     "output_type": "display_data"
    },
    {
     "data": {
      "application/vnd.jupyter.widget-view+json": {
       "model_id": "39ba46b95fe3479981bd14ea8793c9ba",
       "version_major": 2,
       "version_minor": 0
      },
      "text/plain": [
       "  0%|          | 0/3 [00:00<?, ?it/s]"
      ]
     },
     "metadata": {},
     "output_type": "display_data"
    },
    {
     "data": {
      "application/vnd.jupyter.widget-view+json": {
       "model_id": "7174f4fa746643febad1222f38298d51",
       "version_major": 2,
       "version_minor": 0
      },
      "text/plain": [
       "  0%|          | 0/1 [00:00<?, ?it/s]"
      ]
     },
     "metadata": {},
     "output_type": "display_data"
    },
    {
     "data": {
      "application/vnd.jupyter.widget-view+json": {
       "model_id": "c01dc9b66400429b94d03acb6833e69a",
       "version_major": 2,
       "version_minor": 0
      },
      "text/plain": [
       "  0%|          | 0/1 [00:00<?, ?it/s]"
      ]
     },
     "metadata": {},
     "output_type": "display_data"
    },
    {
     "data": {
      "application/vnd.jupyter.widget-view+json": {
       "model_id": "40634649a84e4c6fb6c87505d948131d",
       "version_major": 2,
       "version_minor": 0
      },
      "text/plain": [
       "  0%|          | 0/1 [00:00<?, ?it/s]"
      ]
     },
     "metadata": {},
     "output_type": "display_data"
    },
    {
     "data": {
      "application/vnd.jupyter.widget-view+json": {
       "model_id": "f2a93c721f384d29b3c9e293de2d2363",
       "version_major": 2,
       "version_minor": 0
      },
      "text/plain": [
       "  0%|          | 0/1 [00:00<?, ?it/s]"
      ]
     },
     "metadata": {},
     "output_type": "display_data"
    },
    {
     "data": {
      "application/vnd.jupyter.widget-view+json": {
       "model_id": "ba08cafabbab44fb9299b209e1f915d7",
       "version_major": 2,
       "version_minor": 0
      },
      "text/plain": [
       "  0%|          | 0/1 [00:00<?, ?it/s]"
      ]
     },
     "metadata": {},
     "output_type": "display_data"
    },
    {
     "data": {
      "application/vnd.jupyter.widget-view+json": {
       "model_id": "f927d055d5c743f8abc922e325946396",
       "version_major": 2,
       "version_minor": 0
      },
      "text/plain": [
       "  0%|          | 0/1 [00:00<?, ?it/s]"
      ]
     },
     "metadata": {},
     "output_type": "display_data"
    },
    {
     "data": {
      "application/vnd.jupyter.widget-view+json": {
       "model_id": "ffbe8513eca848e5a53bcadd357152eb",
       "version_major": 2,
       "version_minor": 0
      },
      "text/plain": [
       "  0%|          | 0/1 [00:00<?, ?it/s]"
      ]
     },
     "metadata": {},
     "output_type": "display_data"
    },
    {
     "data": {
      "application/vnd.jupyter.widget-view+json": {
       "model_id": "10a8a24d9b8f4102be520e97d68d58c5",
       "version_major": 2,
       "version_minor": 0
      },
      "text/plain": [
       "  0%|          | 0/1 [00:00<?, ?it/s]"
      ]
     },
     "metadata": {},
     "output_type": "display_data"
    },
    {
     "data": {
      "application/vnd.jupyter.widget-view+json": {
       "model_id": "9d2fa80214ef4938b5265c0609e6c106",
       "version_major": 2,
       "version_minor": 0
      },
      "text/plain": [
       "  0%|          | 0/1 [00:00<?, ?it/s]"
      ]
     },
     "metadata": {},
     "output_type": "display_data"
    },
    {
     "data": {
      "application/vnd.jupyter.widget-view+json": {
       "model_id": "adbd664e00ad4a438d3d6f5466dc4343",
       "version_major": 2,
       "version_minor": 0
      },
      "text/plain": [
       "  0%|          | 0/1 [00:00<?, ?it/s]"
      ]
     },
     "metadata": {},
     "output_type": "display_data"
    },
    {
     "data": {
      "application/vnd.jupyter.widget-view+json": {
       "model_id": "784c3f30a9914bbb811455c0f77c9389",
       "version_major": 2,
       "version_minor": 0
      },
      "text/plain": [
       "  0%|          | 0/1 [00:00<?, ?it/s]"
      ]
     },
     "metadata": {},
     "output_type": "display_data"
    },
    {
     "data": {
      "application/vnd.jupyter.widget-view+json": {
       "model_id": "793a335f21114530aec68cbe0213897f",
       "version_major": 2,
       "version_minor": 0
      },
      "text/plain": [
       "  0%|          | 0/1 [00:00<?, ?it/s]"
      ]
     },
     "metadata": {},
     "output_type": "display_data"
    },
    {
     "data": {
      "application/vnd.jupyter.widget-view+json": {
       "model_id": "f7504c7ac39c42e8950de6196a4106ec",
       "version_major": 2,
       "version_minor": 0
      },
      "text/plain": [
       "  0%|          | 0/1 [00:00<?, ?it/s]"
      ]
     },
     "metadata": {},
     "output_type": "display_data"
    },
    {
     "data": {
      "application/vnd.jupyter.widget-view+json": {
       "model_id": "04717c3317104b4a941af1b6f5860355",
       "version_major": 2,
       "version_minor": 0
      },
      "text/plain": [
       "  0%|          | 0/1 [00:00<?, ?it/s]"
      ]
     },
     "metadata": {},
     "output_type": "display_data"
    },
    {
     "data": {
      "application/vnd.jupyter.widget-view+json": {
       "model_id": "03c91e16f7a749339a37dd71ebc441d7",
       "version_major": 2,
       "version_minor": 0
      },
      "text/plain": [
       "  0%|          | 0/1 [00:00<?, ?it/s]"
      ]
     },
     "metadata": {},
     "output_type": "display_data"
    },
    {
     "data": {
      "application/vnd.jupyter.widget-view+json": {
       "model_id": "587dfc3212794b88a7237e59568ab7d2",
       "version_major": 2,
       "version_minor": 0
      },
      "text/plain": [
       "  0%|          | 0/1 [00:00<?, ?it/s]"
      ]
     },
     "metadata": {},
     "output_type": "display_data"
    },
    {
     "data": {
      "application/vnd.jupyter.widget-view+json": {
       "model_id": "b8a1d3d6091e4cb99b309b7a4ede4849",
       "version_major": 2,
       "version_minor": 0
      },
      "text/plain": [
       "  0%|          | 0/1 [00:00<?, ?it/s]"
      ]
     },
     "metadata": {},
     "output_type": "display_data"
    },
    {
     "data": {
      "application/vnd.jupyter.widget-view+json": {
       "model_id": "24ad87d7deb4440b9251c7635fd66a20",
       "version_major": 2,
       "version_minor": 0
      },
      "text/plain": [
       "  0%|          | 0/1 [00:00<?, ?it/s]"
      ]
     },
     "metadata": {},
     "output_type": "display_data"
    },
    {
     "data": {
      "application/vnd.jupyter.widget-view+json": {
       "model_id": "f950537df26a403a9a5450ca2d1cfdc6",
       "version_major": 2,
       "version_minor": 0
      },
      "text/plain": [
       "  0%|          | 0/1 [00:00<?, ?it/s]"
      ]
     },
     "metadata": {},
     "output_type": "display_data"
    },
    {
     "data": {
      "application/vnd.jupyter.widget-view+json": {
       "model_id": "8e7f06ccdae449d0aec7fd7a4c06cfd3",
       "version_major": 2,
       "version_minor": 0
      },
      "text/plain": [
       "  0%|          | 0/1 [00:00<?, ?it/s]"
      ]
     },
     "metadata": {},
     "output_type": "display_data"
    },
    {
     "data": {
      "application/vnd.jupyter.widget-view+json": {
       "model_id": "1ce23b16ed0345298f1b19e912ade8a4",
       "version_major": 2,
       "version_minor": 0
      },
      "text/plain": [
       "  0%|          | 0/1 [00:00<?, ?it/s]"
      ]
     },
     "metadata": {},
     "output_type": "display_data"
    },
    {
     "data": {
      "application/vnd.jupyter.widget-view+json": {
       "model_id": "0039d322f64348bab4baaee47674f91f",
       "version_major": 2,
       "version_minor": 0
      },
      "text/plain": [
       "  0%|          | 0/2 [00:00<?, ?it/s]"
      ]
     },
     "metadata": {},
     "output_type": "display_data"
    },
    {
     "data": {
      "application/vnd.jupyter.widget-view+json": {
       "model_id": "a82a0bf7e87f4f6b8bafee19926ed795",
       "version_major": 2,
       "version_minor": 0
      },
      "text/plain": [
       "  0%|          | 0/1 [00:00<?, ?it/s]"
      ]
     },
     "metadata": {},
     "output_type": "display_data"
    },
    {
     "data": {
      "application/vnd.jupyter.widget-view+json": {
       "model_id": "1670a6f9c2164bd2b10745c5129fee9d",
       "version_major": 2,
       "version_minor": 0
      },
      "text/plain": [
       "  0%|          | 0/1 [00:00<?, ?it/s]"
      ]
     },
     "metadata": {},
     "output_type": "display_data"
    },
    {
     "data": {
      "application/vnd.jupyter.widget-view+json": {
       "model_id": "1374e99efb4d4ee4aaa93e4e7ac84bc3",
       "version_major": 2,
       "version_minor": 0
      },
      "text/plain": [
       "  0%|          | 0/1 [00:00<?, ?it/s]"
      ]
     },
     "metadata": {},
     "output_type": "display_data"
    },
    {
     "data": {
      "application/vnd.jupyter.widget-view+json": {
       "model_id": "721a32896d664966a126b8c92f43a3fe",
       "version_major": 2,
       "version_minor": 0
      },
      "text/plain": [
       "  0%|          | 0/1 [00:00<?, ?it/s]"
      ]
     },
     "metadata": {},
     "output_type": "display_data"
    },
    {
     "data": {
      "application/vnd.jupyter.widget-view+json": {
       "model_id": "47046347fbea44d1a3839901eabb7f69",
       "version_major": 2,
       "version_minor": 0
      },
      "text/plain": [
       "  0%|          | 0/1 [00:00<?, ?it/s]"
      ]
     },
     "metadata": {},
     "output_type": "display_data"
    },
    {
     "data": {
      "application/vnd.jupyter.widget-view+json": {
       "model_id": "cbaa75012eda4a408131b3b6a1d36b66",
       "version_major": 2,
       "version_minor": 0
      },
      "text/plain": [
       "  0%|          | 0/1 [00:00<?, ?it/s]"
      ]
     },
     "metadata": {},
     "output_type": "display_data"
    },
    {
     "data": {
      "application/vnd.jupyter.widget-view+json": {
       "model_id": "67f707677b504247bd218559eff35453",
       "version_major": 2,
       "version_minor": 0
      },
      "text/plain": [
       "  0%|          | 0/1 [00:00<?, ?it/s]"
      ]
     },
     "metadata": {},
     "output_type": "display_data"
    },
    {
     "data": {
      "application/vnd.jupyter.widget-view+json": {
       "model_id": "d7961605007b4681980d0a53695ffeda",
       "version_major": 2,
       "version_minor": 0
      },
      "text/plain": [
       "  0%|          | 0/1 [00:00<?, ?it/s]"
      ]
     },
     "metadata": {},
     "output_type": "display_data"
    },
    {
     "data": {
      "application/vnd.jupyter.widget-view+json": {
       "model_id": "05cdb7c258d842f3b32e4a9e277eb641",
       "version_major": 2,
       "version_minor": 0
      },
      "text/plain": [
       "  0%|          | 0/1 [00:00<?, ?it/s]"
      ]
     },
     "metadata": {},
     "output_type": "display_data"
    },
    {
     "data": {
      "application/vnd.jupyter.widget-view+json": {
       "model_id": "f03088e273f243fca41b57bf58e89ded",
       "version_major": 2,
       "version_minor": 0
      },
      "text/plain": [
       "  0%|          | 0/1 [00:00<?, ?it/s]"
      ]
     },
     "metadata": {},
     "output_type": "display_data"
    },
    {
     "data": {
      "application/vnd.jupyter.widget-view+json": {
       "model_id": "1eea10711e7647a085b7c5d5d394aed5",
       "version_major": 2,
       "version_minor": 0
      },
      "text/plain": [
       "  0%|          | 0/1 [00:00<?, ?it/s]"
      ]
     },
     "metadata": {},
     "output_type": "display_data"
    },
    {
     "data": {
      "application/vnd.jupyter.widget-view+json": {
       "model_id": "494878a38a754aab9762ec6c4762b27e",
       "version_major": 2,
       "version_minor": 0
      },
      "text/plain": [
       "  0%|          | 0/1 [00:00<?, ?it/s]"
      ]
     },
     "metadata": {},
     "output_type": "display_data"
    },
    {
     "data": {
      "application/vnd.jupyter.widget-view+json": {
       "model_id": "98b09c15d125461b9aba12856e68fea7",
       "version_major": 2,
       "version_minor": 0
      },
      "text/plain": [
       "  0%|          | 0/1 [00:00<?, ?it/s]"
      ]
     },
     "metadata": {},
     "output_type": "display_data"
    },
    {
     "data": {
      "application/vnd.jupyter.widget-view+json": {
       "model_id": "831105c1273c4d1cb905fb30737aef39",
       "version_major": 2,
       "version_minor": 0
      },
      "text/plain": [
       "  0%|          | 0/1 [00:00<?, ?it/s]"
      ]
     },
     "metadata": {},
     "output_type": "display_data"
    },
    {
     "data": {
      "application/vnd.jupyter.widget-view+json": {
       "model_id": "00a9409506da41b8a1bdde00e9e53bc6",
       "version_major": 2,
       "version_minor": 0
      },
      "text/plain": [
       "  0%|          | 0/1 [00:00<?, ?it/s]"
      ]
     },
     "metadata": {},
     "output_type": "display_data"
    },
    {
     "data": {
      "application/vnd.jupyter.widget-view+json": {
       "model_id": "13d976d7c2bf428ead14cac23d87fb41",
       "version_major": 2,
       "version_minor": 0
      },
      "text/plain": [
       "  0%|          | 0/1 [00:00<?, ?it/s]"
      ]
     },
     "metadata": {},
     "output_type": "display_data"
    },
    {
     "data": {
      "application/vnd.jupyter.widget-view+json": {
       "model_id": "c6a009d9d7bc4a75b9df8e4987bdb555",
       "version_major": 2,
       "version_minor": 0
      },
      "text/plain": [
       "  0%|          | 0/1 [00:00<?, ?it/s]"
      ]
     },
     "metadata": {},
     "output_type": "display_data"
    },
    {
     "data": {
      "application/vnd.jupyter.widget-view+json": {
       "model_id": "c31b38d0be0143139f64f92c669e7807",
       "version_major": 2,
       "version_minor": 0
      },
      "text/plain": [
       "  0%|          | 0/1 [00:00<?, ?it/s]"
      ]
     },
     "metadata": {},
     "output_type": "display_data"
    }
   ],
   "source": [
    "denials_file = \"../Twitter_scrapped/deniers/{}.csv\".format(today)\n",
    "denials_to_process = denials[denials.exist==True]\n",
    "if SCRAP_DENIALS:\n",
    "    if os.path.isfile(denials_file):\n",
    "        tweets_denials = pd.read_csv(denials_file)\n",
    "        handles_process = list(\n",
    "            set(denials_to_process.screen_name.unique()) - set(tweets_denials.username.unique()))\n",
    "    else:\n",
    "        tweets_denials = pd.DataFrame()\n",
    "        handles_process = denials_to_process.screen_name.unique()\n",
    "\n",
    "    for username in tqdm(handles_process):\n",
    "        handle_tweets = extract_data(\"from:{} -is:retweet\".format(username), 100)\n",
    "        handle_tweets[\"username\"] = username\n",
    "        tweets_denials = pd.concat([tweets, handle_tweets])\n",
    "        tweets_denials.to_csv(file, index=False)"
   ]
  },
  {
   "cell_type": "code",
   "execution_count": 33,
   "id": "ab819b60",
   "metadata": {
    "ExecuteTime": {
     "end_time": "2023-03-13T02:41:57.209211Z",
     "start_time": "2023-03-13T02:41:57.193858Z"
    }
   },
   "outputs": [
    {
     "data": {
      "text/html": [
       "<div>\n",
       "<style scoped>\n",
       "    .dataframe tbody tr th:only-of-type {\n",
       "        vertical-align: middle;\n",
       "    }\n",
       "\n",
       "    .dataframe tbody tr th {\n",
       "        vertical-align: top;\n",
       "    }\n",
       "\n",
       "    .dataframe thead th {\n",
       "        text-align: right;\n",
       "    }\n",
       "</style>\n",
       "<table border=\"1\" class=\"dataframe\">\n",
       "  <thead>\n",
       "    <tr style=\"text-align: right;\">\n",
       "      <th></th>\n",
       "      <th>text</th>\n",
       "      <th>public_metrics</th>\n",
       "      <th>created_at</th>\n",
       "      <th>id</th>\n",
       "      <th>conversation_id</th>\n",
       "      <th>edit_history_tweet_ids</th>\n",
       "      <th>reply_settings</th>\n",
       "      <th>lang</th>\n",
       "      <th>in_reply_to_user_id</th>\n",
       "      <th>author_id</th>\n",
       "      <th>referenced_tweets</th>\n",
       "      <th>username</th>\n",
       "      <th>geo</th>\n",
       "      <th>withheld</th>\n",
       "      <th>preprocessed_text</th>\n",
       "    </tr>\n",
       "  </thead>\n",
       "  <tbody>\n",
       "    <tr>\n",
       "      <th>5950</th>\n",
       "      <td>@Heritage_Action @Heritage You clowns are so stupid that you think everyone else is stupid and that they will fall for this childish guilt by association.</td>\n",
       "      <td>{'retweet_count': 0, 'reply_count': 0, 'like_count': 0, 'quote_count': 0, 'impression_count': 35}</td>\n",
       "      <td>2023-03-10T20:23:41.000Z</td>\n",
       "      <td>1.634289e+18</td>\n",
       "      <td>1.634267e+18</td>\n",
       "      <td>['1634288938864222209']</td>\n",
       "      <td>everyone</td>\n",
       "      <td>en</td>\n",
       "      <td>1.306002e+08</td>\n",
       "      <td>1.315013e+09</td>\n",
       "      <td>[{'type': 'replied_to', 'id': '1634266863659040768'}]</td>\n",
       "      <td>Heritage</td>\n",
       "      <td>NaN</td>\n",
       "      <td>NaN</td>\n",
       "      <td>you clowns are so stupid that you think everyone else is stupid and that they will fall for this childish guilt by association.</td>\n",
       "    </tr>\n",
       "    <tr>\n",
       "      <th>6188</th>\n",
       "      <td>@Robertaannoyed @Heritage I wish it was just the tax issue… they lie, hate, divide, and are bigotted group that has worked hard to end our democratic republic with gerrymandering and voter suppression laws at state levels. Hate heritage</td>\n",
       "      <td>{'retweet_count': 0, 'reply_count': 0, 'like_count': 0, 'quote_count': 0, 'impression_count': 3}</td>\n",
       "      <td>2023-03-09T19:23:50.000Z</td>\n",
       "      <td>1.633911e+18</td>\n",
       "      <td>1.633909e+18</td>\n",
       "      <td>['1633911489286270977']</td>\n",
       "      <td>everyone</td>\n",
       "      <td>en</td>\n",
       "      <td>9.248828e+17</td>\n",
       "      <td>1.752025e+07</td>\n",
       "      <td>[{'type': 'replied_to', 'id': '1633910607815622658'}]</td>\n",
       "      <td>Heritage</td>\n",
       "      <td>NaN</td>\n",
       "      <td>NaN</td>\n",
       "      <td>i wish it was just the tax issue… they lie, hate, divide, and are bigotted group that has worked hard to end our democratic republic with gerrymandering and voter suppression laws at state levels. hate heritage</td>\n",
       "    </tr>\n",
       "    <tr>\n",
       "      <th>3066</th>\n",
       "      <td>@FreedomWorks @Jim_Jordan I really don't understand all this grandstanding.\\nThese Republicans are now acting like COVID is a deadly virus that kills people.\\nFor three years, Republicans told us that COVID was a hoax.</td>\n",
       "      <td>{'retweet_count': 11, 'reply_count': 1, 'like_count': 49, 'quote_count': 0, 'impression_count': 314}</td>\n",
       "      <td>2023-03-09T12:56:29.000Z</td>\n",
       "      <td>1.633814e+18</td>\n",
       "      <td>1.633521e+18</td>\n",
       "      <td>['1633814009219543041']</td>\n",
       "      <td>everyone</td>\n",
       "      <td>en</td>\n",
       "      <td>1.473089e+07</td>\n",
       "      <td>1.060548e+18</td>\n",
       "      <td>[{'type': 'replied_to', 'id': '1633520681211293697'}]</td>\n",
       "      <td>FreedomWorks</td>\n",
       "      <td>NaN</td>\n",
       "      <td>NaN</td>\n",
       "      <td>i really don't understand all this grandstanding.these republicans are now acting like covid is a deadly virus that kills people.for three years, republicans told us that covid was a hoax.</td>\n",
       "    </tr>\n",
       "    <tr>\n",
       "      <th>4517</th>\n",
       "      <td>@Heritage This is your daily reminder to fck off</td>\n",
       "      <td>{'retweet_count': 0, 'reply_count': 0, 'like_count': 1, 'quote_count': 0, 'impression_count': 3}</td>\n",
       "      <td>2023-03-12T09:16:24.000Z</td>\n",
       "      <td>1.634846e+18</td>\n",
       "      <td>1.634655e+18</td>\n",
       "      <td>['1634845786197598208']</td>\n",
       "      <td>everyone</td>\n",
       "      <td>en</td>\n",
       "      <td>1.016808e+07</td>\n",
       "      <td>1.296225e+18</td>\n",
       "      <td>[{'type': 'replied_to', 'id': '1634655182087680000'}]</td>\n",
       "      <td>Heritage</td>\n",
       "      <td>NaN</td>\n",
       "      <td>NaN</td>\n",
       "      <td>this is your daily reminder to fck off</td>\n",
       "    </tr>\n",
       "    <tr>\n",
       "      <th>181</th>\n",
       "      <td>@hanoihotdog @AEI Who do you think funded it?</td>\n",
       "      <td>{'retweet_count': 0, 'reply_count': 0, 'like_count': 0, 'quote_count': 0, 'impression_count': 2}</td>\n",
       "      <td>2023-03-12T16:32:16.000Z</td>\n",
       "      <td>1.634955e+18</td>\n",
       "      <td>1.632750e+18</td>\n",
       "      <td>['1634955479419097089']</td>\n",
       "      <td>everyone</td>\n",
       "      <td>en</td>\n",
       "      <td>1.260409e+18</td>\n",
       "      <td>8.309173e+17</td>\n",
       "      <td>[{'type': 'replied_to', 'id': '1632845819350224896'}]</td>\n",
       "      <td>AEI</td>\n",
       "      <td>NaN</td>\n",
       "      <td>NaN</td>\n",
       "      <td>who do you think funded it?</td>\n",
       "    </tr>\n",
       "  </tbody>\n",
       "</table>\n",
       "</div>"
      ],
      "text/plain": [
       "                                                                                                                                                                                                                                              text  \\\n",
       "5950                                                                                    @Heritage_Action @Heritage You clowns are so stupid that you think everyone else is stupid and that they will fall for this childish guilt by association.   \n",
       "6188  @Robertaannoyed @Heritage I wish it was just the tax issue… they lie, hate, divide, and are bigotted group that has worked hard to end our democratic republic with gerrymandering and voter suppression laws at state levels. Hate heritage   \n",
       "3066                    @FreedomWorks @Jim_Jordan I really don't understand all this grandstanding.\\nThese Republicans are now acting like COVID is a deadly virus that kills people.\\nFor three years, Republicans told us that COVID was a hoax.   \n",
       "4517                                                                                                                                                                                              @Heritage This is your daily reminder to fck off   \n",
       "181                                                                                                                                                                                                  @hanoihotdog @AEI Who do you think funded it?   \n",
       "\n",
       "                                                                                            public_metrics  \\\n",
       "5950     {'retweet_count': 0, 'reply_count': 0, 'like_count': 0, 'quote_count': 0, 'impression_count': 35}   \n",
       "6188      {'retweet_count': 0, 'reply_count': 0, 'like_count': 0, 'quote_count': 0, 'impression_count': 3}   \n",
       "3066  {'retweet_count': 11, 'reply_count': 1, 'like_count': 49, 'quote_count': 0, 'impression_count': 314}   \n",
       "4517      {'retweet_count': 0, 'reply_count': 0, 'like_count': 1, 'quote_count': 0, 'impression_count': 3}   \n",
       "181       {'retweet_count': 0, 'reply_count': 0, 'like_count': 0, 'quote_count': 0, 'impression_count': 2}   \n",
       "\n",
       "                    created_at            id  conversation_id  \\\n",
       "5950  2023-03-10T20:23:41.000Z  1.634289e+18     1.634267e+18   \n",
       "6188  2023-03-09T19:23:50.000Z  1.633911e+18     1.633909e+18   \n",
       "3066  2023-03-09T12:56:29.000Z  1.633814e+18     1.633521e+18   \n",
       "4517  2023-03-12T09:16:24.000Z  1.634846e+18     1.634655e+18   \n",
       "181   2023-03-12T16:32:16.000Z  1.634955e+18     1.632750e+18   \n",
       "\n",
       "       edit_history_tweet_ids reply_settings lang  in_reply_to_user_id  \\\n",
       "5950  ['1634288938864222209']       everyone   en         1.306002e+08   \n",
       "6188  ['1633911489286270977']       everyone   en         9.248828e+17   \n",
       "3066  ['1633814009219543041']       everyone   en         1.473089e+07   \n",
       "4517  ['1634845786197598208']       everyone   en         1.016808e+07   \n",
       "181   ['1634955479419097089']       everyone   en         1.260409e+18   \n",
       "\n",
       "         author_id                                      referenced_tweets  \\\n",
       "5950  1.315013e+09  [{'type': 'replied_to', 'id': '1634266863659040768'}]   \n",
       "6188  1.752025e+07  [{'type': 'replied_to', 'id': '1633910607815622658'}]   \n",
       "3066  1.060548e+18  [{'type': 'replied_to', 'id': '1633520681211293697'}]   \n",
       "4517  1.296225e+18  [{'type': 'replied_to', 'id': '1634655182087680000'}]   \n",
       "181   8.309173e+17  [{'type': 'replied_to', 'id': '1632845819350224896'}]   \n",
       "\n",
       "          username  geo withheld  \\\n",
       "5950      Heritage  NaN      NaN   \n",
       "6188      Heritage  NaN      NaN   \n",
       "3066  FreedomWorks  NaN      NaN   \n",
       "4517      Heritage  NaN      NaN   \n",
       "181            AEI  NaN      NaN   \n",
       "\n",
       "                                                                                                                                                                                                       preprocessed_text  \n",
       "5950                                                                                     you clowns are so stupid that you think everyone else is stupid and that they will fall for this childish guilt by association.  \n",
       "6188  i wish it was just the tax issue… they lie, hate, divide, and are bigotted group that has worked hard to end our democratic republic with gerrymandering and voter suppression laws at state levels. hate heritage  \n",
       "3066                        i really don't understand all this grandstanding.these republicans are now acting like covid is a deadly virus that kills people.for three years, republicans told us that covid was a hoax.  \n",
       "4517                                                                                                                                                                              this is your daily reminder to fck off  \n",
       "181                                                                                                                                                                                          who do you think funded it?  "
      ]
     },
     "execution_count": 33,
     "metadata": {},
     "output_type": "execute_result"
    }
   ],
   "source": [
    "tweets_denials.sample(5)"
   ]
  },
  {
   "cell_type": "markdown",
   "id": "8c439718",
   "metadata": {},
   "source": [
    "## Model\n",
    "### #ClimateScam"
   ]
  },
  {
   "cell_type": "code",
   "execution_count": 34,
   "id": "dc9c1fec",
   "metadata": {
    "ExecuteTime": {
     "end_time": "2023-03-13T02:41:57.250983Z",
     "start_time": "2023-03-13T02:41:57.211187Z"
    }
   },
   "outputs": [],
   "source": [
    "import unicodedata\n",
    "\n",
    "# Load and pre-process the text data\n",
    "# Define text pre-processing functions\n",
    "def remove_between_square_brackets(text):\n",
    "    return re.sub('\\[[^]]*\\]', '', text)\n",
    "def remove_non_ascii(text):\n",
    "    \"\"\"Remove non-ASCII characters from list of tokenized words\"\"\"\n",
    "    return unicodedata.normalize('NFKD', text).encode('ascii', 'ignore').decode('utf-8', 'ignore')\n",
    "def strip_underscores(text):\n",
    "    return re.sub(r'_+', ' ', text)\n",
    "def remove_multiple_spaces(text):\n",
    "    return re.sub(r'\\s{2,}', ' ', text)\n",
    "\n",
    "# Merge text pre-processing functions\n",
    "def denoise_text(text):\n",
    "    text = remove_between_square_brackets(text)\n",
    "    text = remove_non_ascii(text)\n",
    "    text = strip_underscores(text)\n",
    "    text = remove_multiple_spaces(text)\n",
    "    return text.strip()\n",
    "\n",
    "\n",
    "# Pre-process the text\n",
    "climate_scam_hashtag['roberta_preprocessed'] = climate_scam_hashtag[\"text\"].astype(str).apply(denoise_text)"
   ]
  },
  {
   "cell_type": "code",
   "execution_count": 38,
   "id": "37021080",
   "metadata": {
    "ExecuteTime": {
     "end_time": "2023-03-13T04:53:38.914300Z",
     "start_time": "2023-03-13T04:53:36.443753Z"
    }
   },
   "outputs": [
    {
     "name": "stderr",
     "output_type": "stream",
     "text": [
      "Some weights of the model checkpoint at ../cards/models/CARDS_RoBERTa_Classifier were not used when initializing RobertaForSequenceClassification: ['roberta.pooler.dense.weight', 'roberta.pooler.dense.bias']\n",
      "- This IS expected if you are initializing RobertaForSequenceClassification from the checkpoint of a model trained on another task or with another architecture (e.g. initializing a BertForSequenceClassification model from a BertForPreTraining model).\n",
      "- This IS NOT expected if you are initializing RobertaForSequenceClassification from the checkpoint of a model that you expect to be exactly identical (initializing a BertForSequenceClassification model from a BertForSequenceClassification model).\n"
     ]
    }
   ],
   "source": [
    "import torch\n",
    "from simpletransformers.classification import ClassificationModel\n",
    "\n",
    "device = torch.device(\"cpu\")\n",
    "# Define the model \n",
    "architecture = 'roberta'\n",
    "# model_name = 'CARDS_RoBERTa_Classifier'\n",
    "model_name = \"../cards/models/CARDS_RoBERTa_Classifier\"\n",
    "\n",
    "# Load the classifier\n",
    "roberta_model = ClassificationModel(architecture, model_name, use_cuda=False)"
   ]
  },
  {
   "cell_type": "code",
   "execution_count": 39,
   "id": "d7b9061e",
   "metadata": {
    "ExecuteTime": {
     "end_time": "2023-03-13T06:33:04.636130Z",
     "start_time": "2023-03-13T04:53:38.916199Z"
    }
   },
   "outputs": [
    {
     "data": {
      "application/vnd.jupyter.widget-view+json": {
       "model_id": "a67a5570b01a41bbb8c571cf81580639",
       "version_major": 2,
       "version_minor": 0
      },
      "text/plain": [
       "  0%|          | 0/5648 [00:00<?, ?it/s]"
      ]
     },
     "metadata": {},
     "output_type": "display_data"
    },
    {
     "data": {
      "application/vnd.jupyter.widget-view+json": {
       "model_id": "f507164a807c4418a273001527f1e1f8",
       "version_major": 2,
       "version_minor": 0
      },
      "text/plain": [
       "  0%|          | 0/708 [00:00<?, ?it/s]"
      ]
     },
     "metadata": {},
     "output_type": "display_data"
    }
   ],
   "source": [
    "predictions, raw_outputs = roberta_model.predict(list(climate_scam_hashtag.roberta_preprocessed))"
   ]
  },
  {
   "cell_type": "code",
   "execution_count": 42,
   "id": "dc899708",
   "metadata": {
    "ExecuteTime": {
     "end_time": "2023-03-13T09:02:45.483414Z",
     "start_time": "2023-03-13T09:02:45.480292Z"
    }
   },
   "outputs": [],
   "source": [
    "le = pickle.load(open(\"../le_cards.pkl\", 'rb'))"
   ]
  },
  {
   "cell_type": "code",
   "execution_count": 43,
   "id": "78abce1b",
   "metadata": {
    "ExecuteTime": {
     "end_time": "2023-03-13T09:02:45.624736Z",
     "start_time": "2023-03-13T09:02:45.485975Z"
    }
   },
   "outputs": [],
   "source": [
    "climate_scam_hashtag['roberta_pred'] = le.inverse_transform(predictions)\n",
    "climate_scam_hashtag['roberta_proba'] = [max(softmax(element[0])) for element in raw_outputs]"
   ]
  },
  {
   "cell_type": "code",
   "execution_count": 44,
   "id": "c9fae45f",
   "metadata": {
    "ExecuteTime": {
     "end_time": "2023-03-13T09:02:45.642287Z",
     "start_time": "2023-03-13T09:02:45.626218Z"
    }
   },
   "outputs": [
    {
     "data": {
      "text/html": [
       "<div>\n",
       "<style scoped>\n",
       "    .dataframe tbody tr th:only-of-type {\n",
       "        vertical-align: middle;\n",
       "    }\n",
       "\n",
       "    .dataframe tbody tr th {\n",
       "        vertical-align: top;\n",
       "    }\n",
       "\n",
       "    .dataframe thead th {\n",
       "        text-align: right;\n",
       "    }\n",
       "</style>\n",
       "<table border=\"1\" class=\"dataframe\">\n",
       "  <thead>\n",
       "    <tr style=\"text-align: right;\">\n",
       "      <th></th>\n",
       "      <th>roberta_pred</th>\n",
       "    </tr>\n",
       "  </thead>\n",
       "  <tbody>\n",
       "    <tr>\n",
       "      <th>5_2</th>\n",
       "      <td>3935</td>\n",
       "    </tr>\n",
       "    <tr>\n",
       "      <th>0_0</th>\n",
       "      <td>1358</td>\n",
       "    </tr>\n",
       "    <tr>\n",
       "      <th>4_1</th>\n",
       "      <td>122</td>\n",
       "    </tr>\n",
       "    <tr>\n",
       "      <th>4_4</th>\n",
       "      <td>42</td>\n",
       "    </tr>\n",
       "    <tr>\n",
       "      <th>2_1</th>\n",
       "      <td>34</td>\n",
       "    </tr>\n",
       "  </tbody>\n",
       "</table>\n",
       "</div>"
      ],
      "text/plain": [
       "     roberta_pred\n",
       "5_2          3935\n",
       "0_0          1358\n",
       "4_1           122\n",
       "4_4            42\n",
       "2_1            34"
      ]
     },
     "execution_count": 44,
     "metadata": {},
     "output_type": "execute_result"
    }
   ],
   "source": [
    "climate_scam_hashtag.roberta_pred.value_counts().to_frame().head()"
   ]
  },
  {
   "cell_type": "code",
   "execution_count": 45,
   "id": "e3548351",
   "metadata": {
    "ExecuteTime": {
     "end_time": "2023-03-13T09:02:46.890316Z",
     "start_time": "2023-03-13T09:02:45.643991Z"
    }
   },
   "outputs": [
    {
     "data": {
      "text/plain": [
       "<AxesSubplot:>"
      ]
     },
     "execution_count": 45,
     "metadata": {},
     "output_type": "execute_result"
    },
    {
     "data": {
      "image/png": "[encoded data removed]",
      "text/plain": [
       "<Figure size 432x288 with 1 Axes>"
      ]
     },
     "metadata": {
      "needs_background": "light"
     },
     "output_type": "display_data"
    }
   ],
   "source": [
    "climate_scam_hashtag.roberta_pred.hist()"
   ]
  },
  {
   "cell_type": "code",
   "execution_count": 46,
   "id": "1ec556b7",
   "metadata": {
    "ExecuteTime": {
     "end_time": "2023-03-13T09:02:46.912555Z",
     "start_time": "2023-03-13T09:02:46.892006Z"
    }
   },
   "outputs": [
    {
     "data": {
      "text/html": [
       "<div>\n",
       "<style scoped>\n",
       "    .dataframe tbody tr th:only-of-type {\n",
       "        vertical-align: middle;\n",
       "    }\n",
       "\n",
       "    .dataframe tbody tr th {\n",
       "        vertical-align: top;\n",
       "    }\n",
       "\n",
       "    .dataframe thead th {\n",
       "        text-align: right;\n",
       "    }\n",
       "</style>\n",
       "<table border=\"1\" class=\"dataframe\">\n",
       "  <thead>\n",
       "    <tr style=\"text-align: right;\">\n",
       "      <th></th>\n",
       "      <th>text</th>\n",
       "      <th>roberta_pred</th>\n",
       "      <th>roberta_proba</th>\n",
       "    </tr>\n",
       "  </thead>\n",
       "  <tbody>\n",
       "    <tr>\n",
       "      <th>1</th>\n",
       "      <td>@AndrewYang The climate doesn't care \\n\\n$$$$$$$$$$$$$$$$$$\\n\\n#ClimateScam</td>\n",
       "      <td>5_2</td>\n",
       "      <td>0.999428</td>\n",
       "    </tr>\n",
       "    <tr>\n",
       "      <th>3</th>\n",
       "      <td>*\\nholy crap...this man is a national treasure...\\n\\njust a reminder - he wanted the military to come in and force-vaxx you...\\n\\n***\\n\\n#jailfauci\\n#neverforgetthesepeople\\n#ClimateScam\\n#jimcramer\\n#endthefed\\n#endthemandates\\n#trudeaumustgo\\n\\nhttps://t.co/weL0wQgn6v</td>\n",
       "      <td>0_0</td>\n",
       "      <td>0.998213</td>\n",
       "    </tr>\n",
       "    <tr>\n",
       "      <th>5</th>\n",
       "      <td>@826Maureen Funny how anyone against the #ClimateCult #ClimateScam who had a relative who worked for an oil company four generations ago is pilloried as being on the take yet this one literally worked for them for years and crickets!</td>\n",
       "      <td>5_2</td>\n",
       "      <td>0.999388</td>\n",
       "    </tr>\n",
       "    <tr>\n",
       "      <th>6</th>\n",
       "      <td>#GretaThunberg is a phony.  @GretaThunberg why did you delete this?  When’s your next arrest performance scheduled?#ClimateScam https://t.co/L7z0j9HRXC</td>\n",
       "      <td>5_2</td>\n",
       "      <td>0.999465</td>\n",
       "    </tr>\n",
       "    <tr>\n",
       "      <th>8</th>\n",
       "      <td>@12bichonlvr @MikeHudema And not very bright either! Recently God dumped a ton of snow on Cali, just to make fools of the so called wise. So much for that so called global warming #ClimateScam hey:)</td>\n",
       "      <td>5_2</td>\n",
       "      <td>0.998581</td>\n",
       "    </tr>\n",
       "    <tr>\n",
       "      <th>...</th>\n",
       "      <td>...</td>\n",
       "      <td>...</td>\n",
       "      <td>...</td>\n",
       "    </tr>\n",
       "    <tr>\n",
       "      <th>7281</th>\n",
       "      <td>Black History must now include Asian people. Native American History Month must now be on the same day as Thanksgiving... Woke is a joke, socialism is the enemy. #climatescam https://t.co/F6p6pXbnPI</td>\n",
       "      <td>0_0</td>\n",
       "      <td>0.999668</td>\n",
       "    </tr>\n",
       "    <tr>\n",
       "      <th>7282</th>\n",
       "      <td>@CBCNews Sounds like something Al Gore would say. The oceans are boiling... \\nSuch a farce. How much is the gov't paying you? So lies for gain then, huh? \\n\\n#ClimateScam\\n\\nRedirection from gov't corruption.</td>\n",
       "      <td>5_2</td>\n",
       "      <td>0.999461</td>\n",
       "    </tr>\n",
       "    <tr>\n",
       "      <th>7283</th>\n",
       "      <td>@POTUS Democrats cheat\\n\\n#ClimateScam \\n\\nleave our healthcare alone \\n\\nstay out of our schools\\n\\nyour doj is unjust\\n\\ndignity? #whereshunter</td>\n",
       "      <td>5_2</td>\n",
       "      <td>0.638058</td>\n",
       "    </tr>\n",
       "    <tr>\n",
       "      <th>7284</th>\n",
       "      <td>Worked on my #ClimateScam \"carbon footprint\" yesterday. https://t.co/N7yub593rN</td>\n",
       "      <td>0_0</td>\n",
       "      <td>0.992181</td>\n",
       "    </tr>\n",
       "    <tr>\n",
       "      <th>7285</th>\n",
       "      <td>President Trump Vows to ‘Demolish the Deep State,’ Unveils Plan To Restore American Greatness\\n\\n#NewWorldOrder #WEF #DiedSuddenly #GreatReset #Agenda2030 #nwo #15minutecities #DigitalID #climatescam #SocialCreditSystem #cbdc #PureBlood #chemtrails #bil...\\nhttps://t.co/G1IOrlXHkR</td>\n",
       "      <td>0_0</td>\n",
       "      <td>0.999786</td>\n",
       "    </tr>\n",
       "  </tbody>\n",
       "</table>\n",
       "<p>5648 rows × 3 columns</p>\n",
       "</div>"
      ],
      "text/plain": [
       "                                                                                                                                                                                                                                                                                           text  \\\n",
       "1                                                                                                                                                                                                                   @AndrewYang The climate doesn't care \\n\\n$$$$$$$$$$$$$$$$$$\\n\\n#ClimateScam   \n",
       "3                *\\nholy crap...this man is a national treasure...\\n\\njust a reminder - he wanted the military to come in and force-vaxx you...\\n\\n***\\n\\n#jailfauci\\n#neverforgetthesepeople\\n#ClimateScam\\n#jimcramer\\n#endthefed\\n#endthemandates\\n#trudeaumustgo\\n\\nhttps://t.co/weL0wQgn6v   \n",
       "5                                                     @826Maureen Funny how anyone against the #ClimateCult #ClimateScam who had a relative who worked for an oil company four generations ago is pilloried as being on the take yet this one literally worked for them for years and crickets!   \n",
       "6                                                                                                                                       #GretaThunberg is a phony.  @GretaThunberg why did you delete this?  When’s your next arrest performance scheduled?#ClimateScam https://t.co/L7z0j9HRXC   \n",
       "8                                                                                        @12bichonlvr @MikeHudema And not very bright either! Recently God dumped a ton of snow on Cali, just to make fools of the so called wise. So much for that so called global warming #ClimateScam hey:)   \n",
       "...                                                                                                                                                                                                                                                                                         ...   \n",
       "7281                                                                                     Black History must now include Asian people. Native American History Month must now be on the same day as Thanksgiving... Woke is a joke, socialism is the enemy. #climatescam https://t.co/F6p6pXbnPI   \n",
       "7282                                                                           @CBCNews Sounds like something Al Gore would say. The oceans are boiling... \\nSuch a farce. How much is the gov't paying you? So lies for gain then, huh? \\n\\n#ClimateScam\\n\\nRedirection from gov't corruption.   \n",
       "7283                                                                                                                                          @POTUS Democrats cheat\\n\\n#ClimateScam \\n\\nleave our healthcare alone \\n\\nstay out of our schools\\n\\nyour doj is unjust\\n\\ndignity? #whereshunter   \n",
       "7284                                                                                                                                                                                                            Worked on my #ClimateScam \"carbon footprint\" yesterday. https://t.co/N7yub593rN   \n",
       "7285  President Trump Vows to ‘Demolish the Deep State,’ Unveils Plan To Restore American Greatness\\n\\n#NewWorldOrder #WEF #DiedSuddenly #GreatReset #Agenda2030 #nwo #15minutecities #DigitalID #climatescam #SocialCreditSystem #cbdc #PureBlood #chemtrails #bil...\\nhttps://t.co/G1IOrlXHkR   \n",
       "\n",
       "     roberta_pred  roberta_proba  \n",
       "1             5_2       0.999428  \n",
       "3             0_0       0.998213  \n",
       "5             5_2       0.999388  \n",
       "6             5_2       0.999465  \n",
       "8             5_2       0.998581  \n",
       "...           ...            ...  \n",
       "7281          0_0       0.999668  \n",
       "7282          5_2       0.999461  \n",
       "7283          5_2       0.638058  \n",
       "7284          0_0       0.992181  \n",
       "7285          0_0       0.999786  \n",
       "\n",
       "[5648 rows x 3 columns]"
      ]
     },
     "execution_count": 46,
     "metadata": {},
     "output_type": "execute_result"
    }
   ],
   "source": [
    "climate_scam_hashtag[[\"text\", \"roberta_pred\", \"roberta_proba\"]]"
   ]
  },
  {
   "cell_type": "code",
   "execution_count": 47,
   "id": "fb85b0a9",
   "metadata": {
    "ExecuteTime": {
     "end_time": "2023-03-13T09:02:46.927825Z",
     "start_time": "2023-03-13T09:02:46.914273Z"
    }
   },
   "outputs": [
    {
     "data": {
      "text/html": [
       "<div>\n",
       "<style scoped>\n",
       "    .dataframe tbody tr th:only-of-type {\n",
       "        vertical-align: middle;\n",
       "    }\n",
       "\n",
       "    .dataframe tbody tr th {\n",
       "        vertical-align: top;\n",
       "    }\n",
       "\n",
       "    .dataframe thead th {\n",
       "        text-align: right;\n",
       "    }\n",
       "</style>\n",
       "<table border=\"1\" class=\"dataframe\">\n",
       "  <thead>\n",
       "    <tr style=\"text-align: right;\">\n",
       "      <th></th>\n",
       "      <th>text</th>\n",
       "      <th>roberta_pred</th>\n",
       "      <th>roberta_proba</th>\n",
       "    </tr>\n",
       "  </thead>\n",
       "  <tbody>\n",
       "    <tr>\n",
       "      <th>192</th>\n",
       "      <td>#Agenda2030 #WEF #GreatReset 🤡🤡🤡\\n\\n#ClimateScam Onteigen #TriStateCity Kartelpolitiek. \\n\\n#Verkiezingen15maart #stemzeweg\\n#WEFpuppet's #SorosGang #NietMijnRegering \\nhttps://t.co/pfcG9efP6m\\nhttps://t.co/lIpvelxjlv\\nhttps://t.co/xopIaF80Xs\\nhttps://t.co/RLrq2XpZ8o https://t.co/kYi5EwQbD7 https://t.co/a1GS8PHNOC</td>\n",
       "      <td>0_0</td>\n",
       "      <td>0.714459</td>\n",
       "    </tr>\n",
       "    <tr>\n",
       "      <th>5055</th>\n",
       "      <td>Dutch Farmers DEFEATED By Net Zero Government 😡 😢 https://t.co/pjCMqx8wYd via @YouTube #dutchfarmers #ClimateScam</td>\n",
       "      <td>0_0</td>\n",
       "      <td>0.782301</td>\n",
       "    </tr>\n",
       "    <tr>\n",
       "      <th>303</th>\n",
       "      <td>@Rainmaker1973 Nice. The only danger to posting math formulas on Twitter is that math is denier kryptonite. #ClimateScam trolls &amp;amp; #antivaxxers run when they see math in response to their lies.\\n\\n#ClimateCrisis #ClimateEmergency - use math, wound a troll is a win-win #ClimateBrawl</td>\n",
       "      <td>0_0</td>\n",
       "      <td>0.839344</td>\n",
       "    </tr>\n",
       "    <tr>\n",
       "      <th>6122</th>\n",
       "      <td>New Climate News: \\n\\nLufthansa advert ‘protecting’ the planet banned over misleading environmental claims\\n\\n#climatecrisis #climateaction #esg #carbon #sustainability #netzero #climatescam #globalwarming #climatechange\\nhttps://t.co/jh9gE67zpn</td>\n",
       "      <td>0_0</td>\n",
       "      <td>0.997061</td>\n",
       "    </tr>\n",
       "    <tr>\n",
       "      <th>2961</th>\n",
       "      <td>Let’s not forget that we are still going to be using “fossil fuels” anyways, we are just going to be paying more for them #carbontax\\n#climatescam #climatecommies https://t.co/4mkmR7MMWg</td>\n",
       "      <td>0_0</td>\n",
       "      <td>0.995826</td>\n",
       "    </tr>\n",
       "    <tr>\n",
       "      <th>6777</th>\n",
       "      <td>@HillierVe3teh @canadian_girl_6 Your reasoning also applies if you're voting for #PierrePussylievre in your revenge to oust Dear Leader.\\n\\n#votePPC for the platform, &amp;amp; if you compare to the CPC platform, you'll see they will not stop the insane globalist, #climatescam, Digital ID/$ &amp;amp; Marxist DEI policies.</td>\n",
       "      <td>0_0</td>\n",
       "      <td>0.999656</td>\n",
       "    </tr>\n",
       "    <tr>\n",
       "      <th>6233</th>\n",
       "      <td>New Climate News: \\n\\nEurope: Warm start to 2023 breaks records and skiers’ hearts, says WMO\\n\\n#climatecrisis #climateaction #esg #carbon #sustainability #netzero #climatescam #globalwarming #climatechange\\nhttps://t.co/Z03CMUd69E</td>\n",
       "      <td>0_0</td>\n",
       "      <td>0.999622</td>\n",
       "    </tr>\n",
       "    <tr>\n",
       "      <th>7073</th>\n",
       "      <td>\"Pour que la moitié de l'énergie mondiale passe aux énergies renouvelables, l'extraction du lithium devrait augmenter de 2700 %. Le lithium nécessite 500 000 gallons d'eau pour produire une seule tonne. La création de l'énergie \"propre\" est un désastre écologique.\"\\n#ClimateScam https://t.co/qHVDGNXb0E</td>\n",
       "      <td>0_0</td>\n",
       "      <td>0.931903</td>\n",
       "    </tr>\n",
       "    <tr>\n",
       "      <th>482</th>\n",
       "      <td>#Agenda2030 #WEF #GreatReset 🤡🤡🤡\\n\\n#ClimateScam Onteigen #TriStateCity Kartelpolitiek. \\n\\n#Verkiezingen15maart #stemzeweg\\n#WEFpuppet's #SoroGang #NietMijnRegering \\nhttps://t.co/pfcG9efP6m\\nhttps://t.co/lIpvelxjlv\\nhttps://t.co/xopIaF80Xs\\nhttps://t.co/RLrq2XpZ8o https://t.co/0yEubaMQr1 https://t.co/V6zSFJlF80</td>\n",
       "      <td>0_0</td>\n",
       "      <td>0.802835</td>\n",
       "    </tr>\n",
       "    <tr>\n",
       "      <th>3505</th>\n",
       "      <td>New Climate News: \\n\\nGuterres announces ‘no nonsense’ climate action summit; calls for practical solutions\\n\\n#climatecrisis #climateaction #esg #carbon #sustainability #netzero #climatescam #globalwarming #climatechange\\nhttps://t.co/5IrUlvAat7</td>\n",
       "      <td>0_0</td>\n",
       "      <td>0.999616</td>\n",
       "    </tr>\n",
       "  </tbody>\n",
       "</table>\n",
       "</div>"
      ],
      "text/plain": [
       "                                                                                                                                                                                                                                                                                                                             text  \\\n",
       "192   #Agenda2030 #WEF #GreatReset 🤡🤡🤡\\n\\n#ClimateScam Onteigen #TriStateCity Kartelpolitiek. \\n\\n#Verkiezingen15maart #stemzeweg\\n#WEFpuppet's #SorosGang #NietMijnRegering \\nhttps://t.co/pfcG9efP6m\\nhttps://t.co/lIpvelxjlv\\nhttps://t.co/xopIaF80Xs\\nhttps://t.co/RLrq2XpZ8o https://t.co/kYi5EwQbD7 https://t.co/a1GS8PHNOC   \n",
       "5055                                                                                                                                                                                                            Dutch Farmers DEFEATED By Net Zero Government 😡 😢 https://t.co/pjCMqx8wYd via @YouTube #dutchfarmers #ClimateScam   \n",
       "303                                 @Rainmaker1973 Nice. The only danger to posting math formulas on Twitter is that math is denier kryptonite. #ClimateScam trolls &amp; #antivaxxers run when they see math in response to their lies.\\n\\n#ClimateCrisis #ClimateEmergency - use math, wound a troll is a win-win #ClimateBrawl   \n",
       "6122                                                                        New Climate News: \\n\\nLufthansa advert ‘protecting’ the planet banned over misleading environmental claims\\n\\n#climatecrisis #climateaction #esg #carbon #sustainability #netzero #climatescam #globalwarming #climatechange\\nhttps://t.co/jh9gE67zpn   \n",
       "2961                                                                                                                                   Let’s not forget that we are still going to be using “fossil fuels” anyways, we are just going to be paying more for them #carbontax\\n#climatescam #climatecommies https://t.co/4mkmR7MMWg   \n",
       "6777  @HillierVe3teh @canadian_girl_6 Your reasoning also applies if you're voting for #PierrePussylievre in your revenge to oust Dear Leader.\\n\\n#votePPC for the platform, &amp; if you compare to the CPC platform, you'll see they will not stop the insane globalist, #climatescam, Digital ID/$ &amp; Marxist DEI policies.   \n",
       "6233                                                                                      New Climate News: \\n\\nEurope: Warm start to 2023 breaks records and skiers’ hearts, says WMO\\n\\n#climatecrisis #climateaction #esg #carbon #sustainability #netzero #climatescam #globalwarming #climatechange\\nhttps://t.co/Z03CMUd69E   \n",
       "7073              \"Pour que la moitié de l'énergie mondiale passe aux énergies renouvelables, l'extraction du lithium devrait augmenter de 2700 %. Le lithium nécessite 500 000 gallons d'eau pour produire une seule tonne. La création de l'énergie \"propre\" est un désastre écologique.\"\\n#ClimateScam https://t.co/qHVDGNXb0E   \n",
       "482    #Agenda2030 #WEF #GreatReset 🤡🤡🤡\\n\\n#ClimateScam Onteigen #TriStateCity Kartelpolitiek. \\n\\n#Verkiezingen15maart #stemzeweg\\n#WEFpuppet's #SoroGang #NietMijnRegering \\nhttps://t.co/pfcG9efP6m\\nhttps://t.co/lIpvelxjlv\\nhttps://t.co/xopIaF80Xs\\nhttps://t.co/RLrq2XpZ8o https://t.co/0yEubaMQr1 https://t.co/V6zSFJlF80   \n",
       "3505                                                                       New Climate News: \\n\\nGuterres announces ‘no nonsense’ climate action summit; calls for practical solutions\\n\\n#climatecrisis #climateaction #esg #carbon #sustainability #netzero #climatescam #globalwarming #climatechange\\nhttps://t.co/5IrUlvAat7   \n",
       "\n",
       "     roberta_pred  roberta_proba  \n",
       "192           0_0       0.714459  \n",
       "5055          0_0       0.782301  \n",
       "303           0_0       0.839344  \n",
       "6122          0_0       0.997061  \n",
       "2961          0_0       0.995826  \n",
       "6777          0_0       0.999656  \n",
       "6233          0_0       0.999622  \n",
       "7073          0_0       0.931903  \n",
       "482           0_0       0.802835  \n",
       "3505          0_0       0.999616  "
      ]
     },
     "execution_count": 47,
     "metadata": {},
     "output_type": "execute_result"
    }
   ],
   "source": [
    "climate_scam_hashtag.loc[\n",
    "    climate_scam_hashtag.roberta_pred==\"0_0\", [\"text\", \"roberta_pred\", \"roberta_proba\"]].sample(10)"
   ]
  },
  {
   "cell_type": "code",
   "execution_count": 48,
   "id": "8128bd32",
   "metadata": {
    "ExecuteTime": {
     "end_time": "2023-03-13T09:02:59.997968Z",
     "start_time": "2023-03-13T09:02:46.929987Z"
    }
   },
   "outputs": [
    {
     "data": {
      "application/vnd.jupyter.widget-view+json": {
       "model_id": "7c15054d05b344859c1ac5264b28cc68",
       "version_major": 2,
       "version_minor": 0
      },
      "text/plain": [
       "  0%|          | 0/7 [00:00<?, ?it/s]"
      ]
     },
     "metadata": {},
     "output_type": "display_data"
    },
    {
     "data": {
      "application/vnd.jupyter.widget-view+json": {
       "model_id": "02ea8aee194a47c2941a2e866df14e50",
       "version_major": 2,
       "version_minor": 0
      },
      "text/plain": [
       "  0%|          | 0/1 [00:00<?, ?it/s]"
      ]
     },
     "metadata": {},
     "output_type": "display_data"
    }
   ],
   "source": [
    "results['roberta_preprocessed'] = results[\"text\"].astype(str).apply(denoise_text)\n",
    "predictions, raw_outputs = roberta_model.predict(list(results.roberta_preprocessed))\n",
    "results['roberta_pred'] = le.inverse_transform(predictions)\n",
    "results['roberta_proba'] = [max(softmax(element[0])) for element in raw_outputs]"
   ]
  },
  {
   "cell_type": "code",
   "execution_count": 49,
   "id": "ec9c42d9",
   "metadata": {
    "ExecuteTime": {
     "end_time": "2023-03-13T09:03:00.006961Z",
     "start_time": "2023-03-13T09:02:59.999635Z"
    },
    "scrolled": true
   },
   "outputs": [
    {
     "data": {
      "text/html": [
       "<div>\n",
       "<style scoped>\n",
       "    .dataframe tbody tr th:only-of-type {\n",
       "        vertical-align: middle;\n",
       "    }\n",
       "\n",
       "    .dataframe tbody tr th {\n",
       "        vertical-align: top;\n",
       "    }\n",
       "\n",
       "    .dataframe thead th {\n",
       "        text-align: right;\n",
       "    }\n",
       "</style>\n",
       "<table border=\"1\" class=\"dataframe\">\n",
       "  <thead>\n",
       "    <tr style=\"text-align: right;\">\n",
       "      <th></th>\n",
       "      <th>text</th>\n",
       "      <th>roberta_pred</th>\n",
       "      <th>roberta_proba</th>\n",
       "    </tr>\n",
       "  </thead>\n",
       "  <tbody>\n",
       "    <tr>\n",
       "      <th>0</th>\n",
       "      <td>Press coverage of the tragic whale deaths is an attempt to exonerate offshore wind development. Sonar blasting is killing whales indirectly by inducing deafness &amp;amp; deadly behavior. More whales have found themselves in the path of more ships. Whales aren't born deaf. #climatescam</td>\n",
       "      <td>4_1</td>\n",
       "      <td>0.878605</td>\n",
       "    </tr>\n",
       "    <tr>\n",
       "      <th>1</th>\n",
       "      <td>@MOLLYMMMMMMMMMM Love the Plymouth Rock story. 400 + years since the Pilgrims &amp;amp; it's still there, not underwater, reminding people to go down the block &amp;amp; see where Bert's Restaurant got flooded out by a Nor'easter. Bert's had good food but didn't survive the storm. Plymouth Rock did. #climatescam</td>\n",
       "      <td>0_0</td>\n",
       "      <td>0.999690</td>\n",
       "    </tr>\n",
       "    <tr>\n",
       "      <th>2</th>\n",
       "      <td>The Washington Post asserted that climate change had reduced Colorado River flow &amp;amp; was drying up reservoirs like Lake Powell &amp;amp; Lake Mead. The River's inflows haven't changed since 1895. These levels &amp;amp; flow issues are due to overuse. WAPO people want $. SCAM!  #climatescam</td>\n",
       "      <td>0_0</td>\n",
       "      <td>0.463737</td>\n",
       "    </tr>\n",
       "    <tr>\n",
       "      <th>3</th>\n",
       "      <td>July 2021: London got a month’s rain in 3 hours. 2 weeks later, it happened again. The Univ. of Bristol blamed climate change &amp;amp; predicted 100 years of floods. Nov. 2022: they said \"Due to CO2 emissions, the UK &amp;amp; the globe have increased hot, dry conditions.\"  Really? #climatescam</td>\n",
       "      <td>5_2</td>\n",
       "      <td>0.922899</td>\n",
       "    </tr>\n",
       "    <tr>\n",
       "      <th>4</th>\n",
       "      <td>Texas leads the U.S. with wind power, is 2nd with solar capacity, &amp;amp; is adding grid-scale batteries faster than any state (ex CA). New plants must prove that they add to the network. TX permits quickly, but renewables cost $. The price for guarantees = + $3 Bil. Ouch! #climatescam</td>\n",
       "      <td>4_4</td>\n",
       "      <td>0.920983</td>\n",
       "    </tr>\n",
       "    <tr>\n",
       "      <th>5</th>\n",
       "      <td>Exxon announced Biofuel is out, leaving carbon capture &amp;amp; storage (CCS) as the “green” strategy at ExxonMobil.  Reason:  algae doesn't work. The end of algae as a crude oil substitute comes after $350 million &amp;amp; 14 years of commitment. Exxon is committed to oil &amp;amp; gas. #climatescam</td>\n",
       "      <td>0_0</td>\n",
       "      <td>0.963267</td>\n",
       "    </tr>\n",
       "    <tr>\n",
       "      <th>6</th>\n",
       "      <td>Global SUV sales increased despite obstacles &amp;amp; rising inflation, growing by 3% between 2021 &amp;amp; 2022. In 2022, SUVs = 46% of global car sales. Most growth came in the U.S., India and Europe. EVs = 16% of total SUV sales in '22. Greenies: don't tell us what to drive! #climatescam</td>\n",
       "      <td>0_0</td>\n",
       "      <td>0.999645</td>\n",
       "    </tr>\n",
       "  </tbody>\n",
       "</table>\n",
       "</div>"
      ],
      "text/plain": [
       "                                                                                                                                                                                                                                                                                                                text  \\\n",
       "0                         Press coverage of the tragic whale deaths is an attempt to exonerate offshore wind development. Sonar blasting is killing whales indirectly by inducing deafness &amp; deadly behavior. More whales have found themselves in the path of more ships. Whales aren't born deaf. #climatescam   \n",
       "1  @MOLLYMMMMMMMMMM Love the Plymouth Rock story. 400 + years since the Pilgrims &amp; it's still there, not underwater, reminding people to go down the block &amp; see where Bert's Restaurant got flooded out by a Nor'easter. Bert's had good food but didn't survive the storm. Plymouth Rock did. #climatescam   \n",
       "2                       The Washington Post asserted that climate change had reduced Colorado River flow &amp; was drying up reservoirs like Lake Powell &amp; Lake Mead. The River's inflows haven't changed since 1895. These levels &amp; flow issues are due to overuse. WAPO people want $. SCAM!  #climatescam   \n",
       "3                   July 2021: London got a month’s rain in 3 hours. 2 weeks later, it happened again. The Univ. of Bristol blamed climate change &amp; predicted 100 years of floods. Nov. 2022: they said \"Due to CO2 emissions, the UK &amp; the globe have increased hot, dry conditions.\"  Really? #climatescam   \n",
       "4                       Texas leads the U.S. with wind power, is 2nd with solar capacity, &amp; is adding grid-scale batteries faster than any state (ex CA). New plants must prove that they add to the network. TX permits quickly, but renewables cost $. The price for guarantees = + $3 Bil. Ouch! #climatescam   \n",
       "5                Exxon announced Biofuel is out, leaving carbon capture &amp; storage (CCS) as the “green” strategy at ExxonMobil.  Reason:  algae doesn't work. The end of algae as a crude oil substitute comes after $350 million &amp; 14 years of commitment. Exxon is committed to oil &amp; gas. #climatescam   \n",
       "6                      Global SUV sales increased despite obstacles &amp; rising inflation, growing by 3% between 2021 &amp; 2022. In 2022, SUVs = 46% of global car sales. Most growth came in the U.S., India and Europe. EVs = 16% of total SUV sales in '22. Greenies: don't tell us what to drive! #climatescam   \n",
       "\n",
       "  roberta_pred  roberta_proba  \n",
       "0          4_1       0.878605  \n",
       "1          0_0       0.999690  \n",
       "2          0_0       0.463737  \n",
       "3          5_2       0.922899  \n",
       "4          4_4       0.920983  \n",
       "5          0_0       0.963267  \n",
       "6          0_0       0.999645  "
      ]
     },
     "execution_count": 49,
     "metadata": {},
     "output_type": "execute_result"
    }
   ],
   "source": [
    "results[[\"text\", \"roberta_pred\", \"roberta_proba\"]]"
   ]
  },
  {
   "cell_type": "code",
   "execution_count": 50,
   "id": "123d8baf",
   "metadata": {
    "ExecuteTime": {
     "end_time": "2023-03-13T09:03:00.107633Z",
     "start_time": "2023-03-13T09:03:00.008109Z"
    }
   },
   "outputs": [],
   "source": [
    "file = \"../Twitter_scrapped/@ClimateScam_CARDS_predictions_{}.csv\".format(today)\n",
    "climate_scam_hashtag.to_csv(file)"
   ]
  },
  {
   "cell_type": "markdown",
   "id": "8f6f01a2",
   "metadata": {},
   "source": [
    "### CTTs"
   ]
  },
  {
   "cell_type": "code",
   "execution_count": 51,
   "id": "b336d478",
   "metadata": {
    "ExecuteTime": {
     "end_time": "2023-03-13T09:03:00.149487Z",
     "start_time": "2023-03-13T09:03:00.110081Z"
    }
   },
   "outputs": [],
   "source": [
    "tweets['roberta_preprocessed'] = tweets[\"text\"].astype(str).apply(denoise_text)"
   ]
  },
  {
   "cell_type": "code",
   "execution_count": 52,
   "id": "2c0c5bca",
   "metadata": {
    "ExecuteTime": {
     "end_time": "2023-03-13T11:03:21.283636Z",
     "start_time": "2023-03-13T09:03:00.150610Z"
    }
   },
   "outputs": [
    {
     "data": {
      "application/vnd.jupyter.widget-view+json": {
       "model_id": "2a1dec5230d54db6a223810654f3d001",
       "version_major": 2,
       "version_minor": 0
      },
      "text/plain": [
       "  0%|          | 0/7578 [00:00<?, ?it/s]"
      ]
     },
     "metadata": {},
     "output_type": "display_data"
    },
    {
     "data": {
      "application/vnd.jupyter.widget-view+json": {
       "model_id": "678044d48548485da17466517c5aa6c5",
       "version_major": 2,
       "version_minor": 0
      },
      "text/plain": [
       "  0%|          | 0/950 [00:00<?, ?it/s]"
      ]
     },
     "metadata": {},
     "output_type": "display_data"
    }
   ],
   "source": [
    "predictions, raw_outputs = roberta_model.predict(list(tweets.roberta_preprocessed))"
   ]
  },
  {
   "cell_type": "code",
   "execution_count": 53,
   "id": "d7b35d09",
   "metadata": {
    "ExecuteTime": {
     "end_time": "2023-03-13T11:03:21.462743Z",
     "start_time": "2023-03-13T11:03:21.284955Z"
    }
   },
   "outputs": [],
   "source": [
    "tweets['roberta_pred'] = le.inverse_transform(predictions)\n",
    "tweets['roberta_proba'] = [max(softmax(element[0])) for element in raw_outputs]"
   ]
  },
  {
   "cell_type": "code",
   "execution_count": 54,
   "id": "28d9392f",
   "metadata": {
    "ExecuteTime": {
     "end_time": "2023-03-13T11:03:21.479538Z",
     "start_time": "2023-03-13T11:03:21.463942Z"
    }
   },
   "outputs": [
    {
     "data": {
      "text/html": [
       "<div>\n",
       "<style scoped>\n",
       "    .dataframe tbody tr th:only-of-type {\n",
       "        vertical-align: middle;\n",
       "    }\n",
       "\n",
       "    .dataframe tbody tr th {\n",
       "        vertical-align: top;\n",
       "    }\n",
       "\n",
       "    .dataframe thead th {\n",
       "        text-align: right;\n",
       "    }\n",
       "</style>\n",
       "<table border=\"1\" class=\"dataframe\">\n",
       "  <thead>\n",
       "    <tr style=\"text-align: right;\">\n",
       "      <th></th>\n",
       "      <th>roberta_pred</th>\n",
       "    </tr>\n",
       "  </thead>\n",
       "  <tbody>\n",
       "    <tr>\n",
       "      <th>0_0</th>\n",
       "      <td>7465</td>\n",
       "    </tr>\n",
       "    <tr>\n",
       "      <th>5_2</th>\n",
       "      <td>83</td>\n",
       "    </tr>\n",
       "    <tr>\n",
       "      <th>4_1</th>\n",
       "      <td>26</td>\n",
       "    </tr>\n",
       "    <tr>\n",
       "      <th>1_4</th>\n",
       "      <td>1</td>\n",
       "    </tr>\n",
       "    <tr>\n",
       "      <th>1_2</th>\n",
       "      <td>1</td>\n",
       "    </tr>\n",
       "  </tbody>\n",
       "</table>\n",
       "</div>"
      ],
      "text/plain": [
       "     roberta_pred\n",
       "0_0          7465\n",
       "5_2            83\n",
       "4_1            26\n",
       "1_4             1\n",
       "1_2             1"
      ]
     },
     "execution_count": 54,
     "metadata": {},
     "output_type": "execute_result"
    }
   ],
   "source": [
    "# tweets = pd.read_csv(\"@Twitter_CTTs_predictions.csv\")\n",
    "tweets.roberta_pred.value_counts().to_frame().head()"
   ]
  },
  {
   "cell_type": "code",
   "execution_count": 55,
   "id": "72af6d9b",
   "metadata": {
    "ExecuteTime": {
     "end_time": "2023-03-13T11:03:21.514082Z",
     "start_time": "2023-03-13T11:03:21.480824Z"
    }
   },
   "outputs": [
    {
     "data": {
      "text/plain": [
       "(781, 18)"
      ]
     },
     "execution_count": 55,
     "metadata": {},
     "output_type": "execute_result"
    }
   ],
   "source": [
    "tweets[tweets.referenced_tweets.isna()].shape"
   ]
  },
  {
   "cell_type": "code",
   "execution_count": 56,
   "id": "fb31a0da",
   "metadata": {
    "ExecuteTime": {
     "end_time": "2023-03-13T11:03:21.611955Z",
     "start_time": "2023-03-13T11:03:21.515101Z"
    }
   },
   "outputs": [
    {
     "data": {
      "text/plain": [
       "<AxesSubplot:>"
      ]
     },
     "execution_count": 56,
     "metadata": {},
     "output_type": "execute_result"
    },
    {
     "data": {
      "image/png": "[encoded data removed]",
      "text/plain": [
       "<Figure size 432x288 with 1 Axes>"
      ]
     },
     "metadata": {
      "needs_background": "light"
     },
     "output_type": "display_data"
    }
   ],
   "source": [
    "tweets.roberta_pred.hist()"
   ]
  },
  {
   "cell_type": "code",
   "execution_count": 57,
   "id": "c67a1b0e",
   "metadata": {
    "ExecuteTime": {
     "end_time": "2023-03-13T11:03:21.621772Z",
     "start_time": "2023-03-13T11:03:21.613731Z"
    }
   },
   "outputs": [
    {
     "data": {
      "text/html": [
       "<div>\n",
       "<style scoped>\n",
       "    .dataframe tbody tr th:only-of-type {\n",
       "        vertical-align: middle;\n",
       "    }\n",
       "\n",
       "    .dataframe tbody tr th {\n",
       "        vertical-align: top;\n",
       "    }\n",
       "\n",
       "    .dataframe thead th {\n",
       "        text-align: right;\n",
       "    }\n",
       "</style>\n",
       "<table border=\"1\" class=\"dataframe\">\n",
       "  <thead>\n",
       "    <tr style=\"text-align: right;\">\n",
       "      <th></th>\n",
       "      <th>text</th>\n",
       "      <th>roberta_pred</th>\n",
       "      <th>roberta_proba</th>\n",
       "    </tr>\n",
       "  </thead>\n",
       "  <tbody>\n",
       "    <tr>\n",
       "      <th>4745</th>\n",
       "      <td>@BaddCompani @Heritage They seemed to all have cashed out of crypto and are now pushing \\nbuying gold.</td>\n",
       "      <td>0_0</td>\n",
       "      <td>0.999446</td>\n",
       "    </tr>\n",
       "    <tr>\n",
       "      <th>1104</th>\n",
       "      <td>@Rossputin @WalshFreedom @CatoInstitute How far back do we need to go⁉️ \\nhttps://t.co/U0apU9fATg</td>\n",
       "      <td>0_0</td>\n",
       "      <td>0.999768</td>\n",
       "    </tr>\n",
       "    <tr>\n",
       "      <th>5838</th>\n",
       "      <td>@Heritage Alternative facts you’ve got here. The budget will reduce deficit 3 trillion over 10 years. Are you in the top tier getting taxed? NO, you’re a fuc&amp;amp;ing foundation. Stop pissing on people.</td>\n",
       "      <td>0_0</td>\n",
       "      <td>0.999563</td>\n",
       "    </tr>\n",
       "    <tr>\n",
       "      <th>6682</th>\n",
       "      <td>Tucker Carlson, with video provided by Speaker McCarthy, falsely depicts Jan. 6 riot a peaceful gathering #SmartNews ⁦@SpeakerMcCarthy⁩ ⁦@GOPMajorityWhip⁩ You damn fool Kevin. ⁦@HouseGOP⁩ ⁦@FoxNews⁩ ⁦@Heritage⁩ ⁦@AFPhq⁩ https://t.co/h3TStBaUEG</td>\n",
       "      <td>0_0</td>\n",
       "      <td>0.999478</td>\n",
       "    </tr>\n",
       "    <tr>\n",
       "      <th>4875</th>\n",
       "      <td>@TimKennedyJr1 @Heritage @DailySignal https://t.co/Vp1zSqdaAm</td>\n",
       "      <td>0_0</td>\n",
       "      <td>0.999798</td>\n",
       "    </tr>\n",
       "  </tbody>\n",
       "</table>\n",
       "</div>"
      ],
      "text/plain": [
       "                                                                                                                                                                                                                                                     text  \\\n",
       "4745                                                                                                                                               @BaddCompani @Heritage They seemed to all have cashed out of crypto and are now pushing \\nbuying gold.   \n",
       "1104                                                                                                                                                    @Rossputin @WalshFreedom @CatoInstitute How far back do we need to go⁉️ \\nhttps://t.co/U0apU9fATg   \n",
       "5838                                            @Heritage Alternative facts you’ve got here. The budget will reduce deficit 3 trillion over 10 years. Are you in the top tier getting taxed? NO, you’re a fuc&amp;ing foundation. Stop pissing on people.   \n",
       "6682  Tucker Carlson, with video provided by Speaker McCarthy, falsely depicts Jan. 6 riot a peaceful gathering #SmartNews ⁦@SpeakerMcCarthy⁩ ⁦@GOPMajorityWhip⁩ You damn fool Kevin. ⁦@HouseGOP⁩ ⁦@FoxNews⁩ ⁦@Heritage⁩ ⁦@AFPhq⁩ https://t.co/h3TStBaUEG   \n",
       "4875                                                                                                                                                                                        @TimKennedyJr1 @Heritage @DailySignal https://t.co/Vp1zSqdaAm   \n",
       "\n",
       "     roberta_pred  roberta_proba  \n",
       "4745          0_0       0.999446  \n",
       "1104          0_0       0.999768  \n",
       "5838          0_0       0.999563  \n",
       "6682          0_0       0.999478  \n",
       "4875          0_0       0.999798  "
      ]
     },
     "execution_count": 57,
     "metadata": {},
     "output_type": "execute_result"
    }
   ],
   "source": [
    "tweets[[\"text\", \"roberta_pred\", \"roberta_proba\"]].sample(5)"
   ]
  },
  {
   "cell_type": "code",
   "execution_count": 58,
   "id": "e7d2d5cd",
   "metadata": {
    "ExecuteTime": {
     "end_time": "2023-03-13T11:03:21.630351Z",
     "start_time": "2023-03-13T11:03:21.623302Z"
    }
   },
   "outputs": [
    {
     "data": {
      "text/html": [
       "<div>\n",
       "<style scoped>\n",
       "    .dataframe tbody tr th:only-of-type {\n",
       "        vertical-align: middle;\n",
       "    }\n",
       "\n",
       "    .dataframe tbody tr th {\n",
       "        vertical-align: top;\n",
       "    }\n",
       "\n",
       "    .dataframe thead th {\n",
       "        text-align: right;\n",
       "    }\n",
       "</style>\n",
       "<table border=\"1\" class=\"dataframe\">\n",
       "  <thead>\n",
       "    <tr style=\"text-align: right;\">\n",
       "      <th></th>\n",
       "      <th>text</th>\n",
       "      <th>roberta_pred</th>\n",
       "      <th>roberta_proba</th>\n",
       "    </tr>\n",
       "  </thead>\n",
       "  <tbody>\n",
       "    <tr>\n",
       "      <th>5469</th>\n",
       "      <td>@Heritage @AndyPuzder The Heritage Foundation is not a serious news org. They are funded and controlled by extreme pro GOP sources.\\nFuck your lies.</td>\n",
       "      <td>5_2</td>\n",
       "      <td>0.988215</td>\n",
       "    </tr>\n",
       "    <tr>\n",
       "      <th>6715</th>\n",
       "      <td>@prairiegale @Heritage Jim got busted lying about there being dozens of whistleblowers. There are 3 and one quit in 1999 and another in 2009.. plus they are paying whistleblowers to money to testify! Jim Jordan is a disgrace https://t.co/6lxmsL1EXg</td>\n",
       "      <td>5_2</td>\n",
       "      <td>0.508799</td>\n",
       "    </tr>\n",
       "    <tr>\n",
       "      <th>1643</th>\n",
       "      <td>@VP @sashadigiulian @RepPettersen @POTUS @WHO @wef  #Agenda2030 #ClimateScam    #climate lies. #ClimateEmergency lies. \\n@UNFCCC @CFACT educate yourselves.  \\nPeddling this 💩since 1960's. #China #CO2 \\n@ClimateEnvoy @JohnKerry\\n us peons should eat bugs and live in caves. https://t.co/sl3GUMWRjt</td>\n",
       "      <td>5_2</td>\n",
       "      <td>0.999463</td>\n",
       "    </tr>\n",
       "    <tr>\n",
       "      <th>2510</th>\n",
       "      <td>@CigmanF @thehipi @cspanwj @StephenMoore @FreedomWorks Extending Trump tax cuts ('TCJA' or #GOPTaxScam) after 2025 would cost $2.2T through 2032; extending its business tax provisions would increase that cost to $2.7T. [CBO, May 2002] Remember only way it passed was to have a built in expiration, because estimated cost was $1.5T+.</td>\n",
       "      <td>4_1</td>\n",
       "      <td>0.986852</td>\n",
       "    </tr>\n",
       "    <tr>\n",
       "      <th>3986</th>\n",
       "      <td>@Heritage Heritage Foundation is a Cult of Grifters!! Protect your children from the Heritage Foundation!!</td>\n",
       "      <td>5_2</td>\n",
       "      <td>0.997899</td>\n",
       "    </tr>\n",
       "  </tbody>\n",
       "</table>\n",
       "</div>"
      ],
      "text/plain": [
       "                                                                                                                                                                                                                                                                                                                                              text  \\\n",
       "5469                                                                                                                                                                                          @Heritage @AndyPuzder The Heritage Foundation is not a serious news org. They are funded and controlled by extreme pro GOP sources.\\nFuck your lies.   \n",
       "6715                                                                                      @prairiegale @Heritage Jim got busted lying about there being dozens of whistleblowers. There are 3 and one quit in 1999 and another in 2009.. plus they are paying whistleblowers to money to testify! Jim Jordan is a disgrace https://t.co/6lxmsL1EXg   \n",
       "1643                                      @VP @sashadigiulian @RepPettersen @POTUS @WHO @wef  #Agenda2030 #ClimateScam    #climate lies. #ClimateEmergency lies. \\n@UNFCCC @CFACT educate yourselves.  \\nPeddling this 💩since 1960's. #China #CO2 \\n@ClimateEnvoy @JohnKerry\\n us peons should eat bugs and live in caves. https://t.co/sl3GUMWRjt   \n",
       "2510  @CigmanF @thehipi @cspanwj @StephenMoore @FreedomWorks Extending Trump tax cuts ('TCJA' or #GOPTaxScam) after 2025 would cost $2.2T through 2032; extending its business tax provisions would increase that cost to $2.7T. [CBO, May 2002] Remember only way it passed was to have a built in expiration, because estimated cost was $1.5T+.   \n",
       "3986                                                                                                                                                                                                                                    @Heritage Heritage Foundation is a Cult of Grifters!! Protect your children from the Heritage Foundation!!   \n",
       "\n",
       "     roberta_pred  roberta_proba  \n",
       "5469          5_2       0.988215  \n",
       "6715          5_2       0.508799  \n",
       "1643          5_2       0.999463  \n",
       "2510          4_1       0.986852  \n",
       "3986          5_2       0.997899  "
      ]
     },
     "execution_count": 58,
     "metadata": {},
     "output_type": "execute_result"
    }
   ],
   "source": [
    "tweets.loc[tweets.roberta_pred!=\"0_0\", [\"text\", \"roberta_pred\", \"roberta_proba\"]].sample(5)"
   ]
  },
  {
   "cell_type": "code",
   "execution_count": 59,
   "id": "eba2a3ed",
   "metadata": {
    "ExecuteTime": {
     "end_time": "2023-03-13T11:03:21.728129Z",
     "start_time": "2023-03-13T11:03:21.631315Z"
    }
   },
   "outputs": [],
   "source": [
    "file_CTT = \"../Twitter_scrapped/@Twitter_CTTs_predictions_{}.csv\".format(today)\n",
    "tweets.to_csv(file_CTT)"
   ]
  },
  {
   "cell_type": "code",
   "execution_count": 60,
   "id": "92b5fe6e",
   "metadata": {
    "ExecuteTime": {
     "end_time": "2023-03-13T11:03:21.731295Z",
     "start_time": "2023-03-13T11:03:21.729422Z"
    }
   },
   "outputs": [],
   "source": [
    "# samples = (\n",
    "#     tweets.groupby(\"roberta_pred\")\n",
    "#     .sample(10, replace=True)[[\"text\", \"roberta_pred\", \"roberta_proba\"]]\n",
    "#     .drop_duplicates(\"text\")\n",
    "# )\n",
    "# samples.to_csv(\"@Twitter_CTTs_predictions_samples.csv\")"
   ]
  },
  {
   "cell_type": "markdown",
   "id": "07f81dc2",
   "metadata": {},
   "source": [
    "### Denials"
   ]
  },
  {
   "cell_type": "code",
   "execution_count": 61,
   "id": "39fde016",
   "metadata": {
    "ExecuteTime": {
     "end_time": "2023-03-13T12:50:25.172050Z",
     "start_time": "2023-03-13T11:03:21.732196Z"
    }
   },
   "outputs": [
    {
     "data": {
      "application/vnd.jupyter.widget-view+json": {
       "model_id": "85f8da24668748ebb8f0cca03382ee56",
       "version_major": 2,
       "version_minor": 0
      },
      "text/plain": [
       "  0%|          | 0/7578 [00:00<?, ?it/s]"
      ]
     },
     "metadata": {},
     "output_type": "display_data"
    },
    {
     "data": {
      "application/vnd.jupyter.widget-view+json": {
       "model_id": "36c788d9869f45e5ab58ce39e04dbca0",
       "version_major": 2,
       "version_minor": 0
      },
      "text/plain": [
       "  0%|          | 0/950 [00:00<?, ?it/s]"
      ]
     },
     "metadata": {},
     "output_type": "display_data"
    }
   ],
   "source": [
    "tweets_denials['roberta_preprocessed'] = tweets_denials[\"text\"].astype(str).apply(denoise_text)\n",
    "predictions, raw_outputs = roberta_model.predict(list(tweets_denials.roberta_preprocessed))"
   ]
  },
  {
   "cell_type": "code",
   "execution_count": 62,
   "id": "5598cb03",
   "metadata": {
    "ExecuteTime": {
     "end_time": "2023-03-13T12:50:25.349088Z",
     "start_time": "2023-03-13T12:50:25.174364Z"
    }
   },
   "outputs": [],
   "source": [
    "tweets_denials['roberta_pred'] = le.inverse_transform(predictions)\n",
    "tweets_denials['roberta_proba'] = [max(softmax(element[0])) for element in raw_outputs]"
   ]
  },
  {
   "cell_type": "code",
   "execution_count": 63,
   "id": "dee506ba",
   "metadata": {
    "ExecuteTime": {
     "end_time": "2023-03-13T12:50:25.366854Z",
     "start_time": "2023-03-13T12:50:25.350318Z"
    }
   },
   "outputs": [],
   "source": [
    "# tweets_denials = pd.read_csv(\"@Twitter_Denials_predictions.csv\")"
   ]
  },
  {
   "cell_type": "code",
   "execution_count": 64,
   "id": "d31312d8",
   "metadata": {
    "ExecuteTime": {
     "end_time": "2023-03-13T12:50:25.376660Z",
     "start_time": "2023-03-13T12:50:25.367957Z"
    }
   },
   "outputs": [
    {
     "data": {
      "text/html": [
       "<div>\n",
       "<style scoped>\n",
       "    .dataframe tbody tr th:only-of-type {\n",
       "        vertical-align: middle;\n",
       "    }\n",
       "\n",
       "    .dataframe tbody tr th {\n",
       "        vertical-align: top;\n",
       "    }\n",
       "\n",
       "    .dataframe thead th {\n",
       "        text-align: right;\n",
       "    }\n",
       "</style>\n",
       "<table border=\"1\" class=\"dataframe\">\n",
       "  <thead>\n",
       "    <tr style=\"text-align: right;\">\n",
       "      <th></th>\n",
       "      <th>roberta_pred</th>\n",
       "    </tr>\n",
       "  </thead>\n",
       "  <tbody>\n",
       "    <tr>\n",
       "      <th>0_0</th>\n",
       "      <td>7465</td>\n",
       "    </tr>\n",
       "    <tr>\n",
       "      <th>5_2</th>\n",
       "      <td>83</td>\n",
       "    </tr>\n",
       "    <tr>\n",
       "      <th>4_1</th>\n",
       "      <td>26</td>\n",
       "    </tr>\n",
       "    <tr>\n",
       "      <th>1_4</th>\n",
       "      <td>1</td>\n",
       "    </tr>\n",
       "    <tr>\n",
       "      <th>1_2</th>\n",
       "      <td>1</td>\n",
       "    </tr>\n",
       "  </tbody>\n",
       "</table>\n",
       "</div>"
      ],
      "text/plain": [
       "     roberta_pred\n",
       "0_0          7465\n",
       "5_2            83\n",
       "4_1            26\n",
       "1_4             1\n",
       "1_2             1"
      ]
     },
     "execution_count": 64,
     "metadata": {},
     "output_type": "execute_result"
    }
   ],
   "source": [
    "tweets_denials.roberta_pred.value_counts().to_frame().head()"
   ]
  },
  {
   "cell_type": "code",
   "execution_count": 65,
   "id": "f44d64bf",
   "metadata": {
    "ExecuteTime": {
     "end_time": "2023-03-13T12:50:25.474073Z",
     "start_time": "2023-03-13T12:50:25.377587Z"
    }
   },
   "outputs": [
    {
     "data": {
      "text/plain": [
       "<AxesSubplot:>"
      ]
     },
     "execution_count": 65,
     "metadata": {},
     "output_type": "execute_result"
    },
    {
     "data": {
      "image/png": "[encoded data removed]",
      "text/plain": [
       "<Figure size 432x288 with 1 Axes>"
      ]
     },
     "metadata": {
      "needs_background": "light"
     },
     "output_type": "display_data"
    }
   ],
   "source": [
    "tweets_denials.roberta_pred.hist()"
   ]
  },
  {
   "cell_type": "code",
   "execution_count": 66,
   "id": "335ec6e9",
   "metadata": {
    "ExecuteTime": {
     "end_time": "2023-03-13T12:50:25.489270Z",
     "start_time": "2023-03-13T12:50:25.475881Z"
    }
   },
   "outputs": [
    {
     "data": {
      "text/html": [
       "<div>\n",
       "<style scoped>\n",
       "    .dataframe tbody tr th:only-of-type {\n",
       "        vertical-align: middle;\n",
       "    }\n",
       "\n",
       "    .dataframe tbody tr th {\n",
       "        vertical-align: top;\n",
       "    }\n",
       "\n",
       "    .dataframe thead th {\n",
       "        text-align: right;\n",
       "    }\n",
       "</style>\n",
       "<table border=\"1\" class=\"dataframe\">\n",
       "  <thead>\n",
       "    <tr style=\"text-align: right;\">\n",
       "      <th></th>\n",
       "      <th>text</th>\n",
       "      <th>roberta_pred</th>\n",
       "      <th>roberta_proba</th>\n",
       "    </tr>\n",
       "  </thead>\n",
       "  <tbody>\n",
       "    <tr>\n",
       "      <th>7246</th>\n",
       "      <td>@realchrisrufo @ManhattanInst @jordanbpeterson @firsthalfofjoeroganpodcast#menthols@stiizy @zanuhdru because i neverfollow anyone and am the follower of followers, fuckers and faggots!! https://t.co/6qUHSO70os</td>\n",
       "      <td>0_0</td>\n",
       "      <td>0.999446</td>\n",
       "    </tr>\n",
       "    <tr>\n",
       "      <th>4873</th>\n",
       "      <td>@WesSnyder2187 @TimKennedyJr1 @Heritage @DailySignal Wes Snyder i agree with you a 45 in right place and no more problem. They need to go to Kansas and try that shit. Don't know here who is carrying and most will bang bang you.</td>\n",
       "      <td>0_0</td>\n",
       "      <td>0.999797</td>\n",
       "    </tr>\n",
       "    <tr>\n",
       "      <th>6427</th>\n",
       "      <td>@vofitserov_r @kograt @Heritage https://t.co/ZEWzyc8HV3</td>\n",
       "      <td>0_0</td>\n",
       "      <td>0.999804</td>\n",
       "    </tr>\n",
       "    <tr>\n",
       "      <th>6931</th>\n",
       "      <td>@HudsonInstitute @mikepompeo @milesyu10 @wshirleyiv @committeeonccp Time to open your windows n doors for fresh air n thinking. This tunnel vision is bad n dangerous.</td>\n",
       "      <td>0_0</td>\n",
       "      <td>0.999766</td>\n",
       "    </tr>\n",
       "    <tr>\n",
       "      <th>4558</th>\n",
       "      <td>@Heritage Right is right \\none would wish left was left behind</td>\n",
       "      <td>0_0</td>\n",
       "      <td>0.999776</td>\n",
       "    </tr>\n",
       "  </tbody>\n",
       "</table>\n",
       "</div>"
      ],
      "text/plain": [
       "                                                                                                                                                                                                                                     text  \\\n",
       "7246                    @realchrisrufo @ManhattanInst @jordanbpeterson @firsthalfofjoeroganpodcast#menthols@stiizy @zanuhdru because i neverfollow anyone and am the follower of followers, fuckers and faggots!! https://t.co/6qUHSO70os   \n",
       "4873  @WesSnyder2187 @TimKennedyJr1 @Heritage @DailySignal Wes Snyder i agree with you a 45 in right place and no more problem. They need to go to Kansas and try that shit. Don't know here who is carrying and most will bang bang you.   \n",
       "6427                                                                                                                                                                              @vofitserov_r @kograt @Heritage https://t.co/ZEWzyc8HV3   \n",
       "6931                                                               @HudsonInstitute @mikepompeo @milesyu10 @wshirleyiv @committeeonccp Time to open your windows n doors for fresh air n thinking. This tunnel vision is bad n dangerous.   \n",
       "4558                                                                                                                                                                       @Heritage Right is right \\none would wish left was left behind   \n",
       "\n",
       "     roberta_pred  roberta_proba  \n",
       "7246          0_0       0.999446  \n",
       "4873          0_0       0.999797  \n",
       "6427          0_0       0.999804  \n",
       "6931          0_0       0.999766  \n",
       "4558          0_0       0.999776  "
      ]
     },
     "execution_count": 66,
     "metadata": {},
     "output_type": "execute_result"
    }
   ],
   "source": [
    "tweets_denials[[\"text\", \"roberta_pred\", \"roberta_proba\"]].sample(5)"
   ]
  },
  {
   "cell_type": "code",
   "execution_count": 67,
   "id": "376e7fc1",
   "metadata": {
    "ExecuteTime": {
     "end_time": "2023-03-13T12:50:25.496452Z",
     "start_time": "2023-03-13T12:50:25.490461Z"
    }
   },
   "outputs": [
    {
     "data": {
      "text/html": [
       "<div>\n",
       "<style scoped>\n",
       "    .dataframe tbody tr th:only-of-type {\n",
       "        vertical-align: middle;\n",
       "    }\n",
       "\n",
       "    .dataframe tbody tr th {\n",
       "        vertical-align: top;\n",
       "    }\n",
       "\n",
       "    .dataframe thead th {\n",
       "        text-align: right;\n",
       "    }\n",
       "</style>\n",
       "<table border=\"1\" class=\"dataframe\">\n",
       "  <thead>\n",
       "    <tr style=\"text-align: right;\">\n",
       "      <th></th>\n",
       "      <th>text</th>\n",
       "      <th>roberta_pred</th>\n",
       "      <th>roberta_proba</th>\n",
       "    </tr>\n",
       "  </thead>\n",
       "  <tbody>\n",
       "    <tr>\n",
       "      <th>5359</th>\n",
       "      <td>@Heritage @AndyPuzder Just more lies from @Heritage -  they want to destroy the country with lies.</td>\n",
       "      <td>5_2</td>\n",
       "      <td>0.538971</td>\n",
       "    </tr>\n",
       "    <tr>\n",
       "      <th>3740</th>\n",
       "      <td>@jasonthayes @jlakely @HeartlandInst Jason Hayes: how disappointing that you consider intentionally misleading and lying to people about the science of climate change is \"great work\". Great work based on what standards exactly?</td>\n",
       "      <td>5_2</td>\n",
       "      <td>0.995555</td>\n",
       "    </tr>\n",
       "    <tr>\n",
       "      <th>2790</th>\n",
       "      <td>@FreedomWorks Green deal energy is a way for Democrats to control America.. dangerous path…</td>\n",
       "      <td>4_1</td>\n",
       "      <td>0.962494</td>\n",
       "    </tr>\n",
       "    <tr>\n",
       "      <th>6495</th>\n",
       "      <td>@kograt Organization that denies that human activity produces CO2 can’t possible had any credibility. They deny climate change for one reason only: they want to dig and sell more oil. Deny this @Heritage: https://t.co/tdiZZpHxGI</td>\n",
       "      <td>5_2</td>\n",
       "      <td>0.982402</td>\n",
       "    </tr>\n",
       "    <tr>\n",
       "      <th>3614</th>\n",
       "      <td>@StephenMoore @FreedomWorks I want a refund of my tax dollars for this climate spending SCAM!!!</td>\n",
       "      <td>5_2</td>\n",
       "      <td>0.999023</td>\n",
       "    </tr>\n",
       "  </tbody>\n",
       "</table>\n",
       "</div>"
      ],
      "text/plain": [
       "                                                                                                                                                                                                                                      text  \\\n",
       "5359                                                                                                                                    @Heritage @AndyPuzder Just more lies from @Heritage -  they want to destroy the country with lies.   \n",
       "3740   @jasonthayes @jlakely @HeartlandInst Jason Hayes: how disappointing that you consider intentionally misleading and lying to people about the science of climate change is \"great work\". Great work based on what standards exactly?   \n",
       "2790                                                                                                                                           @FreedomWorks Green deal energy is a way for Democrats to control America.. dangerous path…   \n",
       "6495  @kograt Organization that denies that human activity produces CO2 can’t possible had any credibility. They deny climate change for one reason only: they want to dig and sell more oil. Deny this @Heritage: https://t.co/tdiZZpHxGI   \n",
       "3614                                                                                                                                       @StephenMoore @FreedomWorks I want a refund of my tax dollars for this climate spending SCAM!!!   \n",
       "\n",
       "     roberta_pred  roberta_proba  \n",
       "5359          5_2       0.538971  \n",
       "3740          5_2       0.995555  \n",
       "2790          4_1       0.962494  \n",
       "6495          5_2       0.982402  \n",
       "3614          5_2       0.999023  "
      ]
     },
     "execution_count": 67,
     "metadata": {},
     "output_type": "execute_result"
    }
   ],
   "source": [
    "tweets_denials.loc[tweets_denials.roberta_pred!=\"0_0\", [\"text\", \"roberta_pred\", \"roberta_proba\"]].sample(5)"
   ]
  },
  {
   "cell_type": "code",
   "execution_count": 68,
   "id": "55037ac3",
   "metadata": {
    "ExecuteTime": {
     "end_time": "2023-03-13T12:50:25.601702Z",
     "start_time": "2023-03-13T12:50:25.497294Z"
    }
   },
   "outputs": [],
   "source": [
    "file_denials = \"../Twitter_scrapped/@Twitter_Denials_predictions_{}.csv\".format(today)\n",
    "tweets_denials.to_csv(file_denials)"
   ]
  },
  {
   "cell_type": "code",
   "execution_count": 69,
   "id": "f4269e84",
   "metadata": {
    "ExecuteTime": {
     "end_time": "2023-03-13T12:50:25.613871Z",
     "start_time": "2023-03-13T12:50:25.604506Z"
    }
   },
   "outputs": [],
   "source": [
    "samples = (\n",
    "    tweets_denials.groupby(\"roberta_pred\")\n",
    "    .sample(10, replace=True)[[\"text\", \"roberta_pred\", \"roberta_proba\"]]\n",
    "    .drop_duplicates(\"text\")\n",
    ")\n",
    "samples.to_csv(\"@Twitter_Denials_predictions_samples.csv\")"
   ]
  }
 ],
 "metadata": {
  "kernelspec": {
   "display_name": "Python 3 (ipykernel)",
   "language": "python",
   "name": "python3"
  },
  "language_info": {
   "codemirror_mode": {
    "name": "ipython",
    "version": 3
   },
   "file_extension": ".py",
   "mimetype": "text/x-python",
   "name": "python",
   "nbconvert_exporter": "python",
   "pygments_lexer": "ipython3",
   "version": "3.8.13"
  },
  "toc": {
   "base_numbering": 1,
   "nav_menu": {},
   "number_sections": true,
   "sideBar": true,
   "skip_h1_title": false,
   "title_cell": "Table of Contents",
   "title_sidebar": "Contents",
   "toc_cell": false,
   "toc_position": {
    "height": "calc(100% - 180px)",
    "left": "10px",
    "top": "150px",
    "width": "192px"
   },
   "toc_section_display": true,
   "toc_window_display": true
  }
 },
 "nbformat": 4,
 "nbformat_minor": 5
}
