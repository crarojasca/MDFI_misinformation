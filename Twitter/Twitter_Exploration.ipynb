{
 "cells": [
  {
   "cell_type": "code",
   "execution_count": 1,
   "id": "14c897c8",
   "metadata": {
    "ExecuteTime": {
     "end_time": "2022-12-09T14:10:38.868337Z",
     "start_time": "2022-12-09T14:10:36.835233Z"
    }
   },
   "outputs": [
    {
     "name": "stderr",
     "output_type": "stream",
     "text": [
      "[nltk_data] Downloading package stopwords to\n",
      "[nltk_data]     /home/crarojasca/nltk_data...\n",
      "[nltk_data]   Package stopwords is already up-to-date!\n"
     ]
    }
   ],
   "source": [
    "import os\n",
    "import re\n",
    "import json\n",
    "import math\n",
    "import time\n",
    "import demoji\n",
    "import curlify\n",
    "import requests\n",
    "import pandas as pd\n",
    "\n",
    "import pickle\n",
    "from scipy.special import softmax\n",
    "\n",
    "import nltk\n",
    "from nltk.corpus import stopwords\n",
    "nltk.download('stopwords')\n",
    "\n",
    "from tqdm.notebook import tqdm\n",
    "\n",
    "all_stopwords = stopwords.words('english')\n",
    "pd.set_option('display.max_colwidth', None)\n",
    "\n",
    "bearer_token = \"AAAAAAAAAAAAAAAAAAAAADSXjAEAAAAAQ32sCpTWcilVX%2BQj0BjOArOSYCE%3DUax6ZCizLRwwQcWQirExGQEDEB903dxBZKM4LAuGTMTvMa4jVP\"\n",
    "\n",
    "from datetime import date\n",
    "\n",
    "today = date.today()"
   ]
  },
  {
   "cell_type": "code",
   "execution_count": 2,
   "id": "d3b87777",
   "metadata": {
    "ExecuteTime": {
     "end_time": "2022-12-09T14:10:41.564538Z",
     "start_time": "2022-12-09T14:10:41.561729Z"
    }
   },
   "outputs": [],
   "source": [
    "SCRAP_CTTS = True\n",
    "SCRAP_DENIALS = True"
   ]
  },
  {
   "cell_type": "markdown",
   "id": "b47abf26",
   "metadata": {},
   "source": [
    "## Functions"
   ]
  },
  {
   "cell_type": "code",
   "execution_count": 3,
   "id": "5ac1a3c7",
   "metadata": {
    "ExecuteTime": {
     "end_time": "2022-12-09T14:10:44.879354Z",
     "start_time": "2022-12-09T14:10:44.863696Z"
    }
   },
   "outputs": [],
   "source": [
    "s = requests.Session()\n",
    "def getTweets(query, max_results=None, next_token=None):\n",
    "    # Twitter Endpoint\n",
    "    url = \"https://api.twitter.com/2/tweets/search/recent\"\n",
    "    \n",
    "    # Auth Bearer no research access or premium for the moment\n",
    "    headers = {\n",
    "        \"Authorization\": \"Bearer {}\".format(bearer_token)\n",
    "    }\n",
    "    \n",
    "    # Query parameters\n",
    "    params = {\n",
    "        'query': query,\n",
    "    #     'start_time': start_date,\n",
    "    #     'end_time': end_date,\n",
    "        'expansions': 'author_id,in_reply_to_user_id,geo.place_id',\n",
    "        'tweet.fields': 'id,text,author_id,in_reply_to_user_id,geo,conversation_id,created_at,lang,public_metrics,referenced_tweets,reply_settings,source',\n",
    "        'user.fields': 'id,name,username,created_at,description,public_metrics,verified',\n",
    "        'place.fields': 'full_name,id,country,country_code,geo,name,place_type',\n",
    "        'next_token': {}\n",
    "    }\n",
    "    if max_results: params['max_results'] = max_results\n",
    "    if next_token: params['next_token'] = next_token\n",
    "\n",
    "    try:\n",
    "        time.sleep(6)\n",
    "        req = requests.Request(\n",
    "            \"GET\",\n",
    "            url,\n",
    "            params=params,\n",
    "            headers=headers\n",
    "        ).prepare()\n",
    "\n",
    "        response = s.send(req)\n",
    "        results = json.loads(response.text)\n",
    "        return results\n",
    "    except:\n",
    "        print(json.loads(response.text))\n",
    "\n",
    "def getUser(username):\n",
    "    # User Endpoint \n",
    "    url = \"https://api.twitter.com/2/users/by/username/\" + username\n",
    "    # Auth Bearer no research access or premium for the moment\n",
    "    headers = {\n",
    "        \"Authorization\": \"Bearer {}\".format(bearer_token)\n",
    "    }\n",
    "\n",
    "    params = {\n",
    "        'tweet.fields': 'id,text,author_id,in_reply_to_user_id,geo,conversation_id,created_at,lang,public_metrics,referenced_tweets,reply_settings,source',\n",
    "        'user.fields': 'id,name,username,created_at,description,public_metrics,verified',\n",
    "        'next_token': {}\n",
    "    }\n",
    "    \n",
    "    time.sleep(1)\n",
    "    try:\n",
    "        req = requests.Request(\n",
    "            \"GET\",\n",
    "            url,\n",
    "            params=params,\n",
    "            headers=headers\n",
    "        ).prepare()\n",
    "\n",
    "        response = s.send(req)\n",
    "        results = json.loads(response.text)[\"data\"]\n",
    "\n",
    "        return json.loads(response.text)[\"data\"]\n",
    "    except:\n",
    "        print(json.loads(response.text)[\"errors\"][0][\"detail\"])\n",
    "\n",
    "\n",
    "def count_tweets(query):\n",
    "    # User Endpoint \n",
    "    url = \"https://api.twitter.com/2/tweets/counts/recent\"\n",
    "    # Auth Bearer no research access or premium for the moment\n",
    "    headers = {\n",
    "        \"Authorization\": \"Bearer {}\".format(bearer_token)\n",
    "    }\n",
    "\n",
    "    params = {\n",
    "        \"query\": query,\n",
    "        \"granularity\": \"day\"\n",
    "    }\n",
    "\n",
    "    time.sleep(1)\n",
    "    req = requests.Request(\n",
    "        \"GET\",\n",
    "        url,\n",
    "        params=params,\n",
    "        headers=headers\n",
    "    ).prepare()\n",
    "\n",
    "    response = s.send(req)\n",
    "    results = json.loads(response.text)\n",
    "    return results[\"meta\"][\"total_tweet_count\"]\n",
    "    \n",
    "    \n",
    "def extract_data(query, max_result=100):\n",
    "    data = pd.DataFrame()\n",
    "\n",
    "    # Scrap all the data up to the last page\n",
    "    next_token = None\n",
    "\n",
    "    n_tweets = count_tweets(query)\n",
    "    if n_tweets==0:\n",
    "        return data\n",
    "    \n",
    "    #\n",
    "    pbar = tqdm(total=math.ceil(n_tweets/max_result))\n",
    "    while True:\n",
    "        pbar.update(1)\n",
    "        try:\n",
    "            results = getTweets(query=query, max_results=max_result, next_token=next_token)\n",
    "            data = pd.concat([data, pd.DataFrame(results[\"data\"])], ignore_index=True)\n",
    "            if not \"next_token\" in results[\"meta\"]:\n",
    "                break\n",
    "            next_token = results[\"meta\"][\"next_token\"] \n",
    "        except:\n",
    "            print(results)\n",
    "            break\n",
    "    pbar.close()\n",
    "    \n",
    "    # Reordering de columns\n",
    "    columns = list(data.columns)\n",
    "    columns.remove(\"text\")\n",
    "    columns.remove(\"public_metrics\")\n",
    "    data = data[[\"text\", \"public_metrics\"] + columns]\n",
    "    return data\n",
    "\n",
    "def preprocess_text(text):\n",
    "    # Lower\n",
    "    preprocessed_text = text.lower()\n",
    "    # Remove Handle\n",
    "    preprocessed_text = re.sub(\"@\\w+\", \"\", preprocessed_text)\n",
    "    # Remove Hashtag\n",
    "    preprocessed_text = re.sub(\"#\\w+\", \"\", preprocessed_text)\n",
    "    # Remove Links\n",
    "    preprocessed_text = re.sub(r'http[s]?:\\S+', '', preprocessed_text, flags=re.MULTILINE)\n",
    "    # Remove emotes \n",
    "    preprocessed_text = demoji.replace(preprocessed_text, \"\")\n",
    "    # Remove new line\n",
    "    preprocessed_text = re.sub(\"\\\\n\", \"\", preprocessed_text)\n",
    "    # Remove extra spaces \n",
    "    preprocessed_text = preprocessed_text.strip()\n",
    "    \n",
    "    return preprocessed_text\n",
    "\n",
    "def get_data(query):\n",
    "    results = extract_data(query)\n",
    "    results[\"preprocessed_text\"] = results[\"text\"].apply(preprocess_text)\n",
    "    results = results.sort_values(by=\"created_at\", ascending=False)\n",
    "    results = results.drop_duplicates(subset=['text'], keep='last')\n",
    "    results = results[(results.preprocessed_text!=\"\")].copy(deep=True)\n",
    "    return results"
   ]
  },
  {
   "cell_type": "markdown",
   "id": "ef419342",
   "metadata": {},
   "source": [
    "## ClimateScam\n",
    "### Original Page"
   ]
  },
  {
   "cell_type": "code",
   "execution_count": 4,
   "id": "ce7f904b",
   "metadata": {
    "ExecuteTime": {
     "end_time": "2022-12-09T14:10:55.919889Z",
     "start_time": "2022-12-09T14:10:48.078154Z"
    },
    "scrolled": true
   },
   "outputs": [
    {
     "data": {
      "application/vnd.jupyter.widget-view+json": {
       "model_id": "e0864b941d184a29b5c58e609f196203",
       "version_major": 2,
       "version_minor": 0
      },
      "text/plain": [
       "  0%|          | 0/1 [00:00<?, ?it/s]"
      ]
     },
     "metadata": {},
     "output_type": "display_data"
    },
    {
     "name": "stdout",
     "output_type": "stream",
     "text": [
      "(9, 12)\n"
     ]
    },
    {
     "data": {
      "text/html": [
       "<div>\n",
       "<style scoped>\n",
       "    .dataframe tbody tr th:only-of-type {\n",
       "        vertical-align: middle;\n",
       "    }\n",
       "\n",
       "    .dataframe tbody tr th {\n",
       "        vertical-align: top;\n",
       "    }\n",
       "\n",
       "    .dataframe thead th {\n",
       "        text-align: right;\n",
       "    }\n",
       "</style>\n",
       "<table border=\"1\" class=\"dataframe\">\n",
       "  <thead>\n",
       "    <tr style=\"text-align: right;\">\n",
       "      <th></th>\n",
       "      <th>preprocessed_text</th>\n",
       "      <th>text</th>\n",
       "      <th>public_metrics</th>\n",
       "    </tr>\n",
       "  </thead>\n",
       "  <tbody>\n",
       "    <tr>\n",
       "      <th>0</th>\n",
       "      <td>copenhagen researchers said in \"nature magazine\" that greenland's climates were much warmer 2 million years ago than today. they used dna proof from deceased animals and plants. so we live in an ice age &amp;amp; the animals back then didn't. we won't burn up soon?!  send $!</td>\n",
       "      <td>Copenhagen researchers said in \"Nature Magazine\" that Greenland's climates were much warmer 2 million years ago than today. They used DNA proof from deceased animals and plants. So we live in an ice age &amp;amp; the animals back then didn't. We won't burn up soon?!  Send $! #climatescam</td>\n",
       "      <td>{'retweet_count': 15, 'reply_count': 8, 'like_count': 45, 'quote_count': 1}</td>\n",
       "    </tr>\n",
       "    <tr>\n",
       "      <th>1</th>\n",
       "      <td>perfect comp info !! the doe believes they can bs the us public. the saddest part of this mess is they keep up the smoke &amp;amp; mirrors &amp;amp; tell each other how great they are. remember: 8 of the top 9 exec. positions at the doe have \"climate\" in their title.</td>\n",
       "      <td>@KingFredSports @climate_fact Perfect comp info @KingFredSports!! The DOE believes they can BS the US public. The saddest part of this mess is they keep up the smoke &amp;amp; mirrors &amp;amp; tell each other how great they are. Remember: 8 of the top 9 exec. positions at the DOE have \"Climate\" in their title. #climatescam</td>\n",
       "      <td>{'retweet_count': 1, 'reply_count': 1, 'like_count': 3, 'quote_count': 0}</td>\n",
       "    </tr>\n",
       "    <tr>\n",
       "      <th>2</th>\n",
       "      <td>the doe reports us evs “saved 690 million gas gals in 2021.” fossil fuels = 61% of usa's electricity. so less than 1/3 of that \"savings\" = fossil fuel reductions, or 230 million gals. the usa uses 370 million gals of gas/day… that’s not 2 days’ gas saved!! scam!!</td>\n",
       "      <td>The DOE reports US EVs “saved 690 million gas gals in 2021.” Fossil fuels = 61% of USA's electricity. So less than 1/3 of that \"savings\" = fossil fuel reductions, or 230 million gals. The USA uses 370 million gals of gas/day… that’s not 2 days’ gas saved!! SCAM!! #climatescam</td>\n",
       "      <td>{'retweet_count': 23, 'reply_count': 7, 'like_count': 61, 'quote_count': 2}</td>\n",
       "    </tr>\n",
       "    <tr>\n",
       "      <th>3</th>\n",
       "      <td>indonesia's mount semeru erupted sunday morning. the mayon volcano, the philippines' most active volcano, &amp;amp; the bulusan volcano, 70 km from the mayon volcano, are smoking &amp;amp; will blow. mauna loa, on hawaii's big island, blew last week. there goes the \"net zero\" bs!!</td>\n",
       "      <td>Indonesia's Mount Semeru erupted Sunday morning. The Mayon volcano, the Philippines' most active volcano, &amp;amp; the Bulusan volcano, 70 km from the Mayon volcano, are smoking &amp;amp; will blow. Mauna Loa, on Hawaii's Big Island, blew last week. There goes the \"Net Zero\" BS!! #climatescam</td>\n",
       "      <td>{'retweet_count': 31, 'reply_count': 8, 'like_count': 81, 'quote_count': 2}</td>\n",
       "    </tr>\n",
       "    <tr>\n",
       "      <th>4</th>\n",
       "      <td>climatescamthebook.com</td>\n",
       "      <td>@macrospective climatescamthebook@gmail.com 👍</td>\n",
       "      <td>{'retweet_count': 0, 'reply_count': 0, 'like_count': 0, 'quote_count': 0}</td>\n",
       "    </tr>\n",
       "    <tr>\n",
       "      <th>5</th>\n",
       "      <td>noaa's annual predictions: \"the 2022 atlantic hurricane season will be above normal,\" citing an \"ongoing la nina &amp;amp; above average atlantic temps.\" greenies: \"send more $, we're burning up!\" the season has ended, &amp;amp; the 2022 season was below average in every category.</td>\n",
       "      <td>NOAA's annual predictions: \"the 2022 Atlantic hurricane season will be above normal,\" citing an \"ongoing La Nina &amp;amp; above average Atlantic temps.\" Greenies: \"send more $, we're burning up!\" The season has ended, &amp;amp; the 2022 season was below average in every category.  #climatescam</td>\n",
       "      <td>{'retweet_count': 46, 'reply_count': 4, 'like_count': 104, 'quote_count': 2}</td>\n",
       "    </tr>\n",
       "    <tr>\n",
       "      <th>6</th>\n",
       "      <td>young humans are another target of the financial scam being masqueraded as a climate emergency.</td>\n",
       "      <td>Young humans are another target of the financial scam being masqueraded as a climate emergency.  #ClimateScam https://t.co/Jri65Km5oQ</td>\n",
       "      <td>{'retweet_count': 15, 'reply_count': 2, 'like_count': 87, 'quote_count': 1}</td>\n",
       "    </tr>\n",
       "    <tr>\n",
       "      <th>8</th>\n",
       "      <td>it's december &amp;amp; \"renewables\" have problems: chinese solar-cell manufacturers avoided u.s. tariffs &amp;amp; are shipping through southeast asia; they'll be cut off? probably not. germany has cold weather, low wind speeds, &amp;amp; almost zero gas reserves. tripling energy prices!</td>\n",
       "      <td>It's December &amp;amp; \"renewables\" have problems: Chinese solar-cell manufacturers avoided U.S. tariffs &amp;amp; are shipping through Southeast Asia; they'll be cut off? Probably not. Germany has cold weather, low wind speeds, &amp;amp; almost zero gas reserves. Tripling energy prices! #climatescam</td>\n",
       "      <td>{'retweet_count': 13, 'reply_count': 1, 'like_count': 31, 'quote_count': 0}</td>\n",
       "    </tr>\n",
       "    <tr>\n",
       "      <th>9</th>\n",
       "      <td>many of the so-called \"climate scientists\" ringing the disaster bell don't even let other scientists review their work. why is that? we keep discovering they are making up data. too much money is at stake for them to tell the truth that there is no climate crisis.</td>\n",
       "      <td>Many of the so-called \"climate scientists\" ringing the disaster bell don't even let other scientists review their work. Why is that? We keep discovering they are making up data. Too much money is at stake for them to tell the truth that there is no climate crisis. #ClimateScam https://t.co/Atkq3WKiwi</td>\n",
       "      <td>{'retweet_count': 37, 'reply_count': 5, 'like_count': 114, 'quote_count': 3}</td>\n",
       "    </tr>\n",
       "  </tbody>\n",
       "</table>\n",
       "</div>"
      ],
      "text/plain": [
       "                                                                                                                                                                                                                                                                       preprocessed_text  \\\n",
       "0        copenhagen researchers said in \"nature magazine\" that greenland's climates were much warmer 2 million years ago than today. they used dna proof from deceased animals and plants. so we live in an ice age &amp; the animals back then didn't. we won't burn up soon?!  send $!   \n",
       "1                    perfect comp info !! the doe believes they can bs the us public. the saddest part of this mess is they keep up the smoke &amp; mirrors &amp; tell each other how great they are. remember: 8 of the top 9 exec. positions at the doe have \"climate\" in their title.   \n",
       "2                the doe reports us evs “saved 690 million gas gals in 2021.” fossil fuels = 61% of usa's electricity. so less than 1/3 of that \"savings\" = fossil fuel reductions, or 230 million gals. the usa uses 370 million gals of gas/day… that’s not 2 days’ gas saved!! scam!!   \n",
       "3      indonesia's mount semeru erupted sunday morning. the mayon volcano, the philippines' most active volcano, &amp; the bulusan volcano, 70 km from the mayon volcano, are smoking &amp; will blow. mauna loa, on hawaii's big island, blew last week. there goes the \"net zero\" bs!!   \n",
       "4                                                                                                                                                                                                                                                                 climatescamthebook.com   \n",
       "5      noaa's annual predictions: \"the 2022 atlantic hurricane season will be above normal,\" citing an \"ongoing la nina &amp; above average atlantic temps.\" greenies: \"send more $, we're burning up!\" the season has ended, &amp; the 2022 season was below average in every category.   \n",
       "6                                                                                                                                                                                        young humans are another target of the financial scam being masqueraded as a climate emergency.   \n",
       "8  it's december &amp; \"renewables\" have problems: chinese solar-cell manufacturers avoided u.s. tariffs &amp; are shipping through southeast asia; they'll be cut off? probably not. germany has cold weather, low wind speeds, &amp; almost zero gas reserves. tripling energy prices!   \n",
       "9               many of the so-called \"climate scientists\" ringing the disaster bell don't even let other scientists review their work. why is that? we keep discovering they are making up data. too much money is at stake for them to tell the truth that there is no climate crisis.   \n",
       "\n",
       "                                                                                                                                                                                                                                                                                                                            text  \\\n",
       "0                                   Copenhagen researchers said in \"Nature Magazine\" that Greenland's climates were much warmer 2 million years ago than today. They used DNA proof from deceased animals and plants. So we live in an ice age &amp; the animals back then didn't. We won't burn up soon?!  Send $! #climatescam   \n",
       "1  @KingFredSports @climate_fact Perfect comp info @KingFredSports!! The DOE believes they can BS the US public. The saddest part of this mess is they keep up the smoke &amp; mirrors &amp; tell each other how great they are. Remember: 8 of the top 9 exec. positions at the DOE have \"Climate\" in their title. #climatescam   \n",
       "2                                           The DOE reports US EVs “saved 690 million gas gals in 2021.” Fossil fuels = 61% of USA's electricity. So less than 1/3 of that \"savings\" = fossil fuel reductions, or 230 million gals. The USA uses 370 million gals of gas/day… that’s not 2 days’ gas saved!! SCAM!! #climatescam   \n",
       "3                                 Indonesia's Mount Semeru erupted Sunday morning. The Mayon volcano, the Philippines' most active volcano, &amp; the Bulusan volcano, 70 km from the Mayon volcano, are smoking &amp; will blow. Mauna Loa, on Hawaii's Big Island, blew last week. There goes the \"Net Zero\" BS!! #climatescam   \n",
       "4                                                                                                                                                                                                                                                                                  @macrospective climatescamthebook@gmail.com 👍   \n",
       "5                                NOAA's annual predictions: \"the 2022 Atlantic hurricane season will be above normal,\" citing an \"ongoing La Nina &amp; above average Atlantic temps.\" Greenies: \"send more $, we're burning up!\" The season has ended, &amp; the 2022 season was below average in every category.  #climatescam   \n",
       "6                                                                                                                                                                                          Young humans are another target of the financial scam being masqueraded as a climate emergency.  #ClimateScam https://t.co/Jri65Km5oQ   \n",
       "8                             It's December &amp; \"renewables\" have problems: Chinese solar-cell manufacturers avoided U.S. tariffs &amp; are shipping through Southeast Asia; they'll be cut off? Probably not. Germany has cold weather, low wind speeds, &amp; almost zero gas reserves. Tripling energy prices! #climatescam   \n",
       "9                  Many of the so-called \"climate scientists\" ringing the disaster bell don't even let other scientists review their work. Why is that? We keep discovering they are making up data. Too much money is at stake for them to tell the truth that there is no climate crisis. #ClimateScam https://t.co/Atkq3WKiwi   \n",
       "\n",
       "                                                                 public_metrics  \n",
       "0   {'retweet_count': 15, 'reply_count': 8, 'like_count': 45, 'quote_count': 1}  \n",
       "1     {'retweet_count': 1, 'reply_count': 1, 'like_count': 3, 'quote_count': 0}  \n",
       "2   {'retweet_count': 23, 'reply_count': 7, 'like_count': 61, 'quote_count': 2}  \n",
       "3   {'retweet_count': 31, 'reply_count': 8, 'like_count': 81, 'quote_count': 2}  \n",
       "4     {'retweet_count': 0, 'reply_count': 0, 'like_count': 0, 'quote_count': 0}  \n",
       "5  {'retweet_count': 46, 'reply_count': 4, 'like_count': 104, 'quote_count': 2}  \n",
       "6   {'retweet_count': 15, 'reply_count': 2, 'like_count': 87, 'quote_count': 1}  \n",
       "8   {'retweet_count': 13, 'reply_count': 1, 'like_count': 31, 'quote_count': 0}  \n",
       "9  {'retweet_count': 37, 'reply_count': 5, 'like_count': 114, 'quote_count': 3}  "
      ]
     },
     "execution_count": 4,
     "metadata": {},
     "output_type": "execute_result"
    }
   ],
   "source": [
    "results = get_data(\"from:ClimateScam\")\n",
    "print(results.shape)\n",
    "results[[\"preprocessed_text\", \"text\", \"public_metrics\"]]"
   ]
  },
  {
   "cell_type": "markdown",
   "id": "528e3880",
   "metadata": {},
   "source": [
    "### Complete lines"
   ]
  },
  {
   "cell_type": "code",
   "execution_count": 6,
   "id": "4f710fe2",
   "metadata": {
    "ExecuteTime": {
     "end_time": "2022-12-09T14:53:16.793413Z",
     "start_time": "2022-12-09T14:15:21.150798Z"
    },
    "scrolled": true
   },
   "outputs": [
    {
     "data": {
      "application/vnd.jupyter.widget-view+json": {
       "model_id": "18a1fb3fc8da4aefb33db48d13225480",
       "version_major": 2,
       "version_minor": 0
      },
      "text/plain": [
       "  0%|          | 0/325 [00:00<?, ?it/s]"
      ]
     },
     "metadata": {},
     "output_type": "display_data"
    },
    {
     "name": "stdout",
     "output_type": "stream",
     "text": [
      "(10973, 14)\n"
     ]
    },
    {
     "data": {
      "text/html": [
       "<div>\n",
       "<style scoped>\n",
       "    .dataframe tbody tr th:only-of-type {\n",
       "        vertical-align: middle;\n",
       "    }\n",
       "\n",
       "    .dataframe tbody tr th {\n",
       "        vertical-align: top;\n",
       "    }\n",
       "\n",
       "    .dataframe thead th {\n",
       "        text-align: right;\n",
       "    }\n",
       "</style>\n",
       "<table border=\"1\" class=\"dataframe\">\n",
       "  <thead>\n",
       "    <tr style=\"text-align: right;\">\n",
       "      <th></th>\n",
       "      <th>preprocessed_text</th>\n",
       "      <th>text</th>\n",
       "      <th>public_metrics</th>\n",
       "    </tr>\n",
       "  </thead>\n",
       "  <tbody>\n",
       "    <tr>\n",
       "      <th>0</th>\n",
       "      <td>rt : spot the climate crisis.</td>\n",
       "      <td>RT @tan123: Spot the climate crisis. #ClimateScam https://t.co/g1hflvmrkI</td>\n",
       "      <td>{'retweet_count': 1, 'reply_count': 0, 'like_count': 0, 'quote_count': 0}</td>\n",
       "    </tr>\n",
       "    <tr>\n",
       "      <th>2</th>\n",
       "      <td>spot the climate crisis.</td>\n",
       "      <td>Spot the climate crisis. #ClimateScam https://t.co/g1hflvmrkI</td>\n",
       "      <td>{'retweet_count': 1, 'reply_count': 0, 'like_count': 2, 'quote_count': 0}</td>\n",
       "    </tr>\n",
       "    <tr>\n",
       "      <th>15</th>\n",
       "      <td>what a brainwashed fool. there is no  only a  !</td>\n",
       "      <td>@GBNEWS What a brainwashed fool. There is no #ClimateEmergency only a #ClimateScam !</td>\n",
       "      <td>{'retweet_count': 0, 'reply_count': 0, 'like_count': 1, 'quote_count': 0}</td>\n",
       "    </tr>\n",
       "    <tr>\n",
       "      <th>17</th>\n",
       "      <td>ask a leftist what percentage of earth's atmosphere is co². then appreciate the momentary silence (if they're capable of independent thought) when you tell them: \"0.04٪.\"</td>\n",
       "      <td>Ask a Leftist what percentage of earth's atmosphere is CO². Then appreciate the momentary silence (if they're capable of independent thought) when you tell them: \"0.04٪.\"  #ClimateScam</td>\n",
       "      <td>{'retweet_count': 0, 'reply_count': 1, 'like_count': 0, 'quote_count': 0}</td>\n",
       "    </tr>\n",
       "    <tr>\n",
       "      <th>21</th>\n",
       "      <td>rt :  wow, that's great to hear you're getting through the crisis. what are some specific examples of how the cris…</td>\n",
       "      <td>RT @ULTRA_GARBO: @ClimatePower Wow, that's great to hear you're getting through the crisis. What are some specific examples of how the cris…</td>\n",
       "      <td>{'retweet_count': 1, 'reply_count': 0, 'like_count': 0, 'quote_count': 0}</td>\n",
       "    </tr>\n",
       "  </tbody>\n",
       "</table>\n",
       "</div>"
      ],
      "text/plain": [
       "                                                                                                                                                             preprocessed_text  \\\n",
       "0                                                                                                                                                rt : spot the climate crisis.   \n",
       "2                                                                                                                                                     spot the climate crisis.   \n",
       "15                                                                                                                             what a brainwashed fool. there is no  only a  !   \n",
       "17  ask a leftist what percentage of earth's atmosphere is co². then appreciate the momentary silence (if they're capable of independent thought) when you tell them: \"0.04٪.\"   \n",
       "21                                                         rt :  wow, that's great to hear you're getting through the crisis. what are some specific examples of how the cris…   \n",
       "\n",
       "                                                                                                                                                                                        text  \\\n",
       "0                                                                                                                  RT @tan123: Spot the climate crisis. #ClimateScam https://t.co/g1hflvmrkI   \n",
       "2                                                                                                                              Spot the climate crisis. #ClimateScam https://t.co/g1hflvmrkI   \n",
       "15                                                                                                      @GBNEWS What a brainwashed fool. There is no #ClimateEmergency only a #ClimateScam !   \n",
       "17  Ask a Leftist what percentage of earth's atmosphere is CO². Then appreciate the momentary silence (if they're capable of independent thought) when you tell them: \"0.04٪.\"  #ClimateScam   \n",
       "21                                              RT @ULTRA_GARBO: @ClimatePower Wow, that's great to hear you're getting through the crisis. What are some specific examples of how the cris…   \n",
       "\n",
       "                                                               public_metrics  \n",
       "0   {'retweet_count': 1, 'reply_count': 0, 'like_count': 0, 'quote_count': 0}  \n",
       "2   {'retweet_count': 1, 'reply_count': 0, 'like_count': 2, 'quote_count': 0}  \n",
       "15  {'retweet_count': 0, 'reply_count': 0, 'like_count': 1, 'quote_count': 0}  \n",
       "17  {'retweet_count': 0, 'reply_count': 1, 'like_count': 0, 'quote_count': 0}  \n",
       "21  {'retweet_count': 1, 'reply_count': 0, 'like_count': 0, 'quote_count': 0}  "
      ]
     },
     "execution_count": 6,
     "metadata": {},
     "output_type": "execute_result"
    }
   ],
   "source": [
    "climate_scam_handle = get_data(\"@ClimateScam OR #ClimateScam OR from:ClimateScam -is:retweet\")\n",
    "print(climate_scam_handle.shape)\n",
    "climate_scam_handle[[\"preprocessed_text\", \"text\", \"public_metrics\"]].head()"
   ]
  },
  {
   "cell_type": "code",
   "execution_count": 7,
   "id": "8cd43de2",
   "metadata": {
    "ExecuteTime": {
     "end_time": "2022-12-05T11:52:19.882247Z",
     "start_time": "2022-12-05T11:45:02.154873Z"
    },
    "scrolled": true
   },
   "outputs": [
    {
     "data": {
      "application/vnd.jupyter.widget-view+json": {
       "model_id": "43d8090cd3574b04b23a54b20e0b8173",
       "version_major": 2,
       "version_minor": 0
      },
      "text/plain": [
       "  0%|          | 0/61 [00:00<?, ?it/s]"
      ]
     },
     "metadata": {},
     "output_type": "display_data"
    },
    {
     "name": "stdout",
     "output_type": "stream",
     "text": [
      "(4988, 14)\n"
     ]
    }
   ],
   "source": [
    "climate_scam_hashtag = get_data(\"#ClimateScam -is:retweet\")\n",
    "print(climate_scam_hashtag.shape)"
   ]
  },
  {
   "cell_type": "code",
   "execution_count": 8,
   "id": "745e7529",
   "metadata": {
    "ExecuteTime": {
     "end_time": "2022-12-05T11:52:19.889909Z",
     "start_time": "2022-12-05T11:52:19.883736Z"
    }
   },
   "outputs": [
    {
     "data": {
      "text/html": [
       "<div>\n",
       "<style scoped>\n",
       "    .dataframe tbody tr th:only-of-type {\n",
       "        vertical-align: middle;\n",
       "    }\n",
       "\n",
       "    .dataframe tbody tr th {\n",
       "        vertical-align: top;\n",
       "    }\n",
       "\n",
       "    .dataframe thead th {\n",
       "        text-align: right;\n",
       "    }\n",
       "</style>\n",
       "<table border=\"1\" class=\"dataframe\">\n",
       "  <thead>\n",
       "    <tr style=\"text-align: right;\">\n",
       "      <th></th>\n",
       "      <th>preprocessed_text</th>\n",
       "      <th>text</th>\n",
       "      <th>public_metrics</th>\n",
       "    </tr>\n",
       "  </thead>\n",
       "  <tbody>\n",
       "    <tr>\n",
       "      <th>4770</th>\n",
       "      <td>vote these useless things out!</td>\n",
       "      <td>#climatescam \\n\\nVote these useless things out! https://t.co/BexX8d6tBg</td>\n",
       "      <td>{'retweet_count': 0, 'reply_count': 0, 'like_count': 0, 'quote_count': 0}</td>\n",
       "    </tr>\n",
       "    <tr>\n",
       "      <th>3297</th>\n",
       "      <td>take what this clown  says with a grain of salt he’s a wef puppet that wants to depopulate you</td>\n",
       "      <td>@haaretzcom Take what this clown @harari_yuval says with a grain of salt \\n\\nHe’s a WEF puppet that wants to depopulate you\\n\\n#ClimateScam #WEFpuppet</td>\n",
       "      <td>{'retweet_count': 0, 'reply_count': 0, 'like_count': 0, 'quote_count': 0}</td>\n",
       "    </tr>\n",
       "    <tr>\n",
       "      <th>4047</th>\n",
       "      <td>canadians being punished by a green globalist traitor for a tiny % of emissions.</td>\n",
       "      <td>Canadians being punished by a green globalist traitor for a tiny % of emissions.  #ClimateScam https://t.co/ezl5mzgmMq</td>\n",
       "      <td>{'retweet_count': 19, 'reply_count': 1, 'like_count': 22, 'quote_count': 0}</td>\n",
       "    </tr>\n",
       "    <tr>\n",
       "      <th>3508</th>\n",
       "      <td>if only theyd take you our simon the porkypie man</td>\n",
       "      <td>@simonahac @abcnews if only theyd take you our Simon the PorkyPie man \\n\\n#ClimateScam https://t.co/VQj8p4fAQO</td>\n",
       "      <td>{'retweet_count': 1, 'reply_count': 0, 'like_count': 0, 'quote_count': 0}</td>\n",
       "    </tr>\n",
       "    <tr>\n",
       "      <th>5292</th>\n",
       "      <td>i see the  bots are out in force… because the oceans aren’t full of plastic and shit, the amazon isn’t on fire, the ice caps aren’t melting, pollution isn’t causing deaths, sea levels aren’t rising and wildlife hasn’t diminished by 70% in the last decade…oh!</td>\n",
       "      <td>I see the #ClimateScam bots are out in force… \\n\\nBecause the oceans aren’t full of plastic and shit, the Amazon isn’t on fire, the ice caps aren’t melting, pollution isn’t causing deaths, sea levels aren’t rising and wildlife hasn’t diminished by 70% in the last decade…oh! 🙄</td>\n",
       "      <td>{'retweet_count': 1, 'reply_count': 0, 'like_count': 1, 'quote_count': 0}</td>\n",
       "    </tr>\n",
       "  </tbody>\n",
       "</table>\n",
       "</div>"
      ],
      "text/plain": [
       "                                                                                                                                                                                                                                                       preprocessed_text  \\\n",
       "4770                                                                                                                                                                                                                                      vote these useless things out!   \n",
       "3297                                                                                                                                                                      take what this clown  says with a grain of salt he’s a wef puppet that wants to depopulate you   \n",
       "4047                                                                                                                                                                                    canadians being punished by a green globalist traitor for a tiny % of emissions.   \n",
       "3508                                                                                                                                                                                                                   if only theyd take you our simon the porkypie man   \n",
       "5292  i see the  bots are out in force… because the oceans aren’t full of plastic and shit, the amazon isn’t on fire, the ice caps aren’t melting, pollution isn’t causing deaths, sea levels aren’t rising and wildlife hasn’t diminished by 70% in the last decade…oh!   \n",
       "\n",
       "                                                                                                                                                                                                                                                                                      text  \\\n",
       "4770                                                                                                                                                                                                               #climatescam \\n\\nVote these useless things out! https://t.co/BexX8d6tBg   \n",
       "3297                                                                                                                                @haaretzcom Take what this clown @harari_yuval says with a grain of salt \\n\\nHe’s a WEF puppet that wants to depopulate you\\n\\n#ClimateScam #WEFpuppet   \n",
       "4047                                                                                                                                                                Canadians being punished by a green globalist traitor for a tiny % of emissions.  #ClimateScam https://t.co/ezl5mzgmMq   \n",
       "3508                                                                                                                                                                        @simonahac @abcnews if only theyd take you our Simon the PorkyPie man \\n\\n#ClimateScam https://t.co/VQj8p4fAQO   \n",
       "5292  I see the #ClimateScam bots are out in force… \\n\\nBecause the oceans aren’t full of plastic and shit, the Amazon isn’t on fire, the ice caps aren’t melting, pollution isn’t causing deaths, sea levels aren’t rising and wildlife hasn’t diminished by 70% in the last decade…oh! 🙄   \n",
       "\n",
       "                                                                   public_metrics  \n",
       "4770    {'retweet_count': 0, 'reply_count': 0, 'like_count': 0, 'quote_count': 0}  \n",
       "3297    {'retweet_count': 0, 'reply_count': 0, 'like_count': 0, 'quote_count': 0}  \n",
       "4047  {'retweet_count': 19, 'reply_count': 1, 'like_count': 22, 'quote_count': 0}  \n",
       "3508    {'retweet_count': 1, 'reply_count': 0, 'like_count': 0, 'quote_count': 0}  \n",
       "5292    {'retweet_count': 1, 'reply_count': 0, 'like_count': 1, 'quote_count': 0}  "
      ]
     },
     "execution_count": 8,
     "metadata": {},
     "output_type": "execute_result"
    }
   ],
   "source": [
    "climate_scam_hashtag[[\"preprocessed_text\", \"text\", \"public_metrics\"]].sample(5)"
   ]
  },
  {
   "cell_type": "code",
   "execution_count": 9,
   "id": "a531658e",
   "metadata": {
    "ExecuteTime": {
     "end_time": "2022-12-05T11:52:19.967713Z",
     "start_time": "2022-12-05T11:52:19.890959Z"
    }
   },
   "outputs": [
    {
     "data": {
      "text/html": [
       "<div>\n",
       "<style scoped>\n",
       "    .dataframe tbody tr th:only-of-type {\n",
       "        vertical-align: middle;\n",
       "    }\n",
       "\n",
       "    .dataframe tbody tr th {\n",
       "        vertical-align: top;\n",
       "    }\n",
       "\n",
       "    .dataframe thead th {\n",
       "        text-align: right;\n",
       "    }\n",
       "</style>\n",
       "<table border=\"1\" class=\"dataframe\">\n",
       "  <thead>\n",
       "    <tr style=\"text-align: right;\">\n",
       "      <th></th>\n",
       "      <th>Word</th>\n",
       "      <th>Frequency</th>\n",
       "    </tr>\n",
       "  </thead>\n",
       "  <tbody>\n",
       "    <tr>\n",
       "      <th>0</th>\n",
       "      <td>#ClimateScam</td>\n",
       "      <td>4285</td>\n",
       "    </tr>\n",
       "    <tr>\n",
       "      <th>15</th>\n",
       "      <td>#TrudeauMustGo</td>\n",
       "      <td>671</td>\n",
       "    </tr>\n",
       "    <tr>\n",
       "      <th>16</th>\n",
       "      <td>climate</td>\n",
       "      <td>630</td>\n",
       "    </tr>\n",
       "    <tr>\n",
       "      <th>17</th>\n",
       "      <td>#agenda2030</td>\n",
       "      <td>617</td>\n",
       "    </tr>\n",
       "    <tr>\n",
       "      <th>18</th>\n",
       "      <td>lie</td>\n",
       "      <td>616</td>\n",
       "    </tr>\n",
       "    <tr>\n",
       "      <th>20</th>\n",
       "      <td>#WEFisEvil</td>\n",
       "      <td>608</td>\n",
       "    </tr>\n",
       "    <tr>\n",
       "      <th>21</th>\n",
       "      <td>try</td>\n",
       "      <td>607</td>\n",
       "    </tr>\n",
       "    <tr>\n",
       "      <th>22</th>\n",
       "      <td>#depopulation</td>\n",
       "      <td>591</td>\n",
       "    </tr>\n",
       "    <tr>\n",
       "      <th>23</th>\n",
       "      <td>link</td>\n",
       "      <td>588</td>\n",
       "    </tr>\n",
       "    <tr>\n",
       "      <th>24</th>\n",
       "      <td>#Nuremberg2</td>\n",
       "      <td>588</td>\n",
       "    </tr>\n",
       "    <tr>\n",
       "      <th>25</th>\n",
       "      <td>#TruthAboutMRNAVaccines</td>\n",
       "      <td>588</td>\n",
       "    </tr>\n",
       "    <tr>\n",
       "      <th>26</th>\n",
       "      <td>censor</td>\n",
       "      <td>588</td>\n",
       "    </tr>\n",
       "    <tr>\n",
       "      <th>27</th>\n",
       "      <td>\"safe\"</td>\n",
       "      <td>587</td>\n",
       "    </tr>\n",
       "    <tr>\n",
       "      <th>28</th>\n",
       "      <td>bitchute</td>\n",
       "      <td>586</td>\n",
       "    </tr>\n",
       "    <tr>\n",
       "      <th>30</th>\n",
       "      <td>#Pfizergate</td>\n",
       "      <td>549</td>\n",
       "    </tr>\n",
       "    <tr>\n",
       "      <th>33</th>\n",
       "      <td>#CrimesAgainstHumanity</td>\n",
       "      <td>512</td>\n",
       "    </tr>\n",
       "    <tr>\n",
       "      <th>34</th>\n",
       "      <td>#DiedSuddenly</td>\n",
       "      <td>500</td>\n",
       "    </tr>\n",
       "    <tr>\n",
       "      <th>35</th>\n",
       "      <td>#StoptheShots</td>\n",
       "      <td>498</td>\n",
       "    </tr>\n",
       "    <tr>\n",
       "      <th>36</th>\n",
       "      <td>#Myocarditis</td>\n",
       "      <td>497</td>\n",
       "    </tr>\n",
       "    <tr>\n",
       "      <th>42</th>\n",
       "      <td>#PandemicAmnesty</td>\n",
       "      <td>401</td>\n",
       "    </tr>\n",
       "    <tr>\n",
       "      <th>44</th>\n",
       "      <td>#climatescam</td>\n",
       "      <td>378</td>\n",
       "    </tr>\n",
       "    <tr>\n",
       "      <th>48</th>\n",
       "      <td>&amp;amp;</td>\n",
       "      <td>347</td>\n",
       "    </tr>\n",
       "    <tr>\n",
       "      <th>49</th>\n",
       "      <td>#climate</td>\n",
       "      <td>344</td>\n",
       "    </tr>\n",
       "    <tr>\n",
       "      <th>50</th>\n",
       "      <td>Climate</td>\n",
       "      <td>332</td>\n",
       "    </tr>\n",
       "    <tr>\n",
       "      <th>57</th>\n",
       "      <td>#ClimateEmergency</td>\n",
       "      <td>305</td>\n",
       "    </tr>\n",
       "    <tr>\n",
       "      <th>58</th>\n",
       "      <td>CO2</td>\n",
       "      <td>280</td>\n",
       "    </tr>\n",
       "    <tr>\n",
       "      <th>62</th>\n",
       "      <td>#ClimateCrisis</td>\n",
       "      <td>261</td>\n",
       "    </tr>\n",
       "    <tr>\n",
       "      <th>63</th>\n",
       "      <td>@GeraldKutney</td>\n",
       "      <td>249</td>\n",
       "    </tr>\n",
       "    <tr>\n",
       "      <th>64</th>\n",
       "      <td>change</td>\n",
       "      <td>224</td>\n",
       "    </tr>\n",
       "    <tr>\n",
       "      <th>65</th>\n",
       "      <td>scientists</td>\n",
       "      <td>221</td>\n",
       "    </tr>\n",
       "  </tbody>\n",
       "</table>\n",
       "</div>"
      ],
      "text/plain": [
       "                       Word  Frequency\n",
       "0              #ClimateScam       4285\n",
       "15           #TrudeauMustGo        671\n",
       "16                  climate        630\n",
       "17              #agenda2030        617\n",
       "18                      lie        616\n",
       "20               #WEFisEvil        608\n",
       "21                      try        607\n",
       "22            #depopulation        591\n",
       "23                     link        588\n",
       "24              #Nuremberg2        588\n",
       "25  #TruthAboutMRNAVaccines        588\n",
       "26                   censor        588\n",
       "27                   \"safe\"        587\n",
       "28                 bitchute        586\n",
       "30              #Pfizergate        549\n",
       "33   #CrimesAgainstHumanity        512\n",
       "34            #DiedSuddenly        500\n",
       "35            #StoptheShots        498\n",
       "36             #Myocarditis        497\n",
       "42         #PandemicAmnesty        401\n",
       "44             #climatescam        378\n",
       "48                    &amp;        347\n",
       "49                 #climate        344\n",
       "50                  Climate        332\n",
       "57        #ClimateEmergency        305\n",
       "58                      CO2        280\n",
       "62           #ClimateCrisis        261\n",
       "63            @GeraldKutney        249\n",
       "64                   change        224\n",
       "65               scientists        221"
      ]
     },
     "execution_count": 9,
     "metadata": {},
     "output_type": "execute_result"
    }
   ],
   "source": [
    "def count_words(col):    \n",
    "    df = col.str.split(expand=True).stack().value_counts().reset_index()\n",
    "    df.columns = ['Word', 'Frequency'] \n",
    "    df = df[~df[\"Word\"].str.lower().isin(all_stopwords)]\n",
    "    return df\n",
    "\n",
    "count_words(climate_scam_hashtag.text)[:30]"
   ]
  },
  {
   "cell_type": "markdown",
   "id": "fbc9010d",
   "metadata": {},
   "source": [
    "## CTTs\n",
    "### Extracting\n",
    "#### Users"
   ]
  },
  {
   "cell_type": "code",
   "execution_count": 10,
   "id": "b12c4727",
   "metadata": {
    "ExecuteTime": {
     "end_time": "2022-12-05T11:52:19.976173Z",
     "start_time": "2022-12-05T11:52:19.968689Z"
    }
   },
   "outputs": [
    {
     "data": {
      "text/html": [
       "<div>\n",
       "<style scoped>\n",
       "    .dataframe tbody tr th:only-of-type {\n",
       "        vertical-align: middle;\n",
       "    }\n",
       "\n",
       "    .dataframe tbody tr th {\n",
       "        vertical-align: top;\n",
       "    }\n",
       "\n",
       "    .dataframe thead th {\n",
       "        text-align: right;\n",
       "    }\n",
       "</style>\n",
       "<table border=\"1\" class=\"dataframe\">\n",
       "  <thead>\n",
       "    <tr style=\"text-align: right;\">\n",
       "      <th></th>\n",
       "      <th>screen_name</th>\n",
       "      <th>Followers</th>\n",
       "      <th>Type</th>\n",
       "      <th>Name</th>\n",
       "    </tr>\n",
       "  </thead>\n",
       "  <tbody>\n",
       "    <tr>\n",
       "      <th>0</th>\n",
       "      <td>capitalresearch</td>\n",
       "      <td>5023</td>\n",
       "      <td>CTT</td>\n",
       "      <td>Capital Research Center</td>\n",
       "    </tr>\n",
       "    <tr>\n",
       "      <th>1</th>\n",
       "      <td>ceidotorg</td>\n",
       "      <td>12565</td>\n",
       "      <td>CTT</td>\n",
       "      <td>Competitive Enterprise Institute</td>\n",
       "    </tr>\n",
       "    <tr>\n",
       "      <th>2</th>\n",
       "      <td>NationalCenter</td>\n",
       "      <td>7807</td>\n",
       "      <td>CTT</td>\n",
       "      <td>National Center for Public Policy Research</td>\n",
       "    </tr>\n",
       "    <tr>\n",
       "      <th>3</th>\n",
       "      <td>ReasonFdn</td>\n",
       "      <td>7030</td>\n",
       "      <td>CTT</td>\n",
       "      <td>Reason Foundation</td>\n",
       "    </tr>\n",
       "    <tr>\n",
       "      <th>4</th>\n",
       "      <td>ACSHorg</td>\n",
       "      <td>5734</td>\n",
       "      <td>CTT</td>\n",
       "      <td>American Council on Science and Health</td>\n",
       "    </tr>\n",
       "    <tr>\n",
       "      <th>5</th>\n",
       "      <td>AEI</td>\n",
       "      <td>151109</td>\n",
       "      <td>CTT</td>\n",
       "      <td>American Enterprise Institute</td>\n",
       "    </tr>\n",
       "    <tr>\n",
       "      <th>6</th>\n",
       "      <td>CatoInstitute</td>\n",
       "      <td>362920</td>\n",
       "      <td>CTT</td>\n",
       "      <td>CATO Institute</td>\n",
       "    </tr>\n",
       "    <tr>\n",
       "      <th>7</th>\n",
       "      <td>CFACT</td>\n",
       "      <td>13985</td>\n",
       "      <td>CTT</td>\n",
       "      <td>CFACT</td>\n",
       "    </tr>\n",
       "    <tr>\n",
       "      <th>8</th>\n",
       "      <td>FoF_Liberty</td>\n",
       "      <td>236</td>\n",
       "      <td>CTT</td>\n",
       "      <td>Frontiers of Freedom</td>\n",
       "    </tr>\n",
       "    <tr>\n",
       "      <th>9</th>\n",
       "      <td>FraserInstitute</td>\n",
       "      <td>31658</td>\n",
       "      <td>CTT</td>\n",
       "      <td>Fraser Institute</td>\n",
       "    </tr>\n",
       "    <tr>\n",
       "      <th>10</th>\n",
       "      <td>FreedomWorks</td>\n",
       "      <td>270144</td>\n",
       "      <td>CTT</td>\n",
       "      <td>FreedomWorks</td>\n",
       "    </tr>\n",
       "    <tr>\n",
       "      <th>11</th>\n",
       "      <td>HeartlandInst</td>\n",
       "      <td>14831</td>\n",
       "      <td>CTT</td>\n",
       "      <td>Heartland Institute</td>\n",
       "    </tr>\n",
       "    <tr>\n",
       "      <th>12</th>\n",
       "      <td>Heritage</td>\n",
       "      <td>624504</td>\n",
       "      <td>CTT</td>\n",
       "      <td>Heritage Foundation</td>\n",
       "    </tr>\n",
       "    <tr>\n",
       "      <th>13</th>\n",
       "      <td>HudsonInstitute</td>\n",
       "      <td>73046</td>\n",
       "      <td>CTT</td>\n",
       "      <td>Hudson Institute</td>\n",
       "    </tr>\n",
       "    <tr>\n",
       "      <th>14</th>\n",
       "      <td>ManhattanInst</td>\n",
       "      <td>60456</td>\n",
       "      <td>CTT</td>\n",
       "      <td>Manhattan Institute</td>\n",
       "    </tr>\n",
       "    <tr>\n",
       "      <th>15</th>\n",
       "      <td>PacificResearch</td>\n",
       "      <td>4222</td>\n",
       "      <td>CTT</td>\n",
       "      <td>Pacific Research Institute for Public Policy</td>\n",
       "    </tr>\n",
       "    <tr>\n",
       "      <th>16</th>\n",
       "      <td>WAPolicyCenter</td>\n",
       "      <td>4141</td>\n",
       "      <td>CTT</td>\n",
       "      <td>Washington Policy Center</td>\n",
       "    </tr>\n",
       "  </tbody>\n",
       "</table>\n",
       "</div>"
      ],
      "text/plain": [
       "        screen_name  Followers Type  \\\n",
       "0   capitalresearch       5023  CTT   \n",
       "1         ceidotorg      12565  CTT   \n",
       "2    NationalCenter       7807  CTT   \n",
       "3         ReasonFdn       7030  CTT   \n",
       "4           ACSHorg       5734  CTT   \n",
       "5               AEI     151109  CTT   \n",
       "6     CatoInstitute     362920  CTT   \n",
       "7             CFACT      13985  CTT   \n",
       "8       FoF_Liberty        236  CTT   \n",
       "9   FraserInstitute      31658  CTT   \n",
       "10     FreedomWorks     270144  CTT   \n",
       "11    HeartlandInst      14831  CTT   \n",
       "12         Heritage     624504  CTT   \n",
       "13  HudsonInstitute      73046  CTT   \n",
       "14    ManhattanInst      60456  CTT   \n",
       "15  PacificResearch       4222  CTT   \n",
       "16   WAPolicyCenter       4141  CTT   \n",
       "\n",
       "                                            Name  \n",
       "0                        Capital Research Center  \n",
       "1               Competitive Enterprise Institute  \n",
       "2     National Center for Public Policy Research  \n",
       "3                              Reason Foundation  \n",
       "4         American Council on Science and Health  \n",
       "5                  American Enterprise Institute  \n",
       "6                                 CATO Institute  \n",
       "7                                          CFACT  \n",
       "8                           Frontiers of Freedom  \n",
       "9                               Fraser Institute  \n",
       "10                                  FreedomWorks  \n",
       "11                           Heartland Institute  \n",
       "12                           Heritage Foundation  \n",
       "13                              Hudson Institute  \n",
       "14                           Manhattan Institute  \n",
       "15  Pacific Research Institute for Public Policy  \n",
       "16                      Washington Policy Center  "
      ]
     },
     "execution_count": 10,
     "metadata": {},
     "output_type": "execute_result"
    }
   ],
   "source": [
    "ctts = pd.read_csv(\"CTTs/ctt_twitter_handles.csv\")\n",
    "ctts"
   ]
  },
  {
   "cell_type": "code",
   "execution_count": 11,
   "id": "7e0c3d21",
   "metadata": {
    "ExecuteTime": {
     "end_time": "2022-12-05T11:52:40.895354Z",
     "start_time": "2022-12-05T11:52:19.977271Z"
    }
   },
   "outputs": [
    {
     "data": {
      "text/html": [
       "<div>\n",
       "<style scoped>\n",
       "    .dataframe tbody tr th:only-of-type {\n",
       "        vertical-align: middle;\n",
       "    }\n",
       "\n",
       "    .dataframe tbody tr th {\n",
       "        vertical-align: top;\n",
       "    }\n",
       "\n",
       "    .dataframe thead th {\n",
       "        text-align: right;\n",
       "    }\n",
       "</style>\n",
       "<table border=\"1\" class=\"dataframe\">\n",
       "  <thead>\n",
       "    <tr style=\"text-align: right;\">\n",
       "      <th></th>\n",
       "      <th>screen_name</th>\n",
       "      <th>Followers</th>\n",
       "      <th>Type</th>\n",
       "      <th>Name</th>\n",
       "      <th>followers_count</th>\n",
       "      <th>following_count</th>\n",
       "      <th>tweet_count</th>\n",
       "      <th>listed_count</th>\n",
       "      <th>description</th>\n",
       "      <th>id</th>\n",
       "      <th>verified</th>\n",
       "      <th>created_at</th>\n",
       "    </tr>\n",
       "  </thead>\n",
       "  <tbody>\n",
       "    <tr>\n",
       "      <th>0</th>\n",
       "      <td>capitalresearch</td>\n",
       "      <td>5023</td>\n",
       "      <td>CTT</td>\n",
       "      <td>Capital Research Center</td>\n",
       "      <td>5457.0</td>\n",
       "      <td>3069.0</td>\n",
       "      <td>8388.0</td>\n",
       "      <td>110.0</td>\n",
       "      <td>Capital Research Center is America's Investigative Think Tank, covering all the influencers in our politics.</td>\n",
       "      <td>18957839</td>\n",
       "      <td>False</td>\n",
       "      <td>2009-01-13T23:07:06.000Z</td>\n",
       "    </tr>\n",
       "    <tr>\n",
       "      <th>1</th>\n",
       "      <td>ceidotorg</td>\n",
       "      <td>12565</td>\n",
       "      <td>CTT</td>\n",
       "      <td>Competitive Enterprise Institute</td>\n",
       "      <td>12828.0</td>\n",
       "      <td>3439.0</td>\n",
       "      <td>29967.0</td>\n",
       "      <td>588.0</td>\n",
       "      <td>CEI is a non-profit public policy organization dedicated to advancing the principles of limited government, free enterprise, and individual liberty.</td>\n",
       "      <td>15471040</td>\n",
       "      <td>True</td>\n",
       "      <td>2008-07-17T17:49:08.000Z</td>\n",
       "    </tr>\n",
       "    <tr>\n",
       "      <th>2</th>\n",
       "      <td>NationalCenter</td>\n",
       "      <td>7807</td>\n",
       "      <td>CTT</td>\n",
       "      <td>National Center for Public Policy Research</td>\n",
       "      <td>7907.0</td>\n",
       "      <td>6292.0</td>\n",
       "      <td>23238.0</td>\n",
       "      <td>197.0</td>\n",
       "      <td>The National Center for Public Policy Research is a nonpartisan, free-market conservative think-tank. Home of @Project21News &amp; @FreeEntProject.</td>\n",
       "      <td>19384480</td>\n",
       "      <td>False</td>\n",
       "      <td>2009-01-23T06:38:46.000Z</td>\n",
       "    </tr>\n",
       "    <tr>\n",
       "      <th>3</th>\n",
       "      <td>ReasonFdn</td>\n",
       "      <td>7030</td>\n",
       "      <td>CTT</td>\n",
       "      <td>Reason Foundation</td>\n",
       "      <td>8625.0</td>\n",
       "      <td>97.0</td>\n",
       "      <td>6021.0</td>\n",
       "      <td>136.0</td>\n",
       "      <td>Reason Foundation is a nonprofit dedicated to advancing free minds and free markets. @ReasonFdn produces respected public policy research and publishes @reason.</td>\n",
       "      <td>1177334131732156420</td>\n",
       "      <td>True</td>\n",
       "      <td>2019-09-26T21:29:18.000Z</td>\n",
       "    </tr>\n",
       "    <tr>\n",
       "      <th>4</th>\n",
       "      <td>ACSHorg</td>\n",
       "      <td>5734</td>\n",
       "      <td>CTT</td>\n",
       "      <td>American Council on Science and Health</td>\n",
       "      <td>5958.0</td>\n",
       "      <td>570.0</td>\n",
       "      <td>4367.0</td>\n",
       "      <td>231.0</td>\n",
       "      <td>American Council on Science and Health. Science and consumer advocates since 1978. We separate facts from myths and debunk junk science.</td>\n",
       "      <td>195858764</td>\n",
       "      <td>True</td>\n",
       "      <td>2010-09-27T19:03:58.000Z</td>\n",
       "    </tr>\n",
       "    <tr>\n",
       "      <th>5</th>\n",
       "      <td>AEI</td>\n",
       "      <td>151109</td>\n",
       "      <td>CTT</td>\n",
       "      <td>American Enterprise Institute</td>\n",
       "      <td>160607.0</td>\n",
       "      <td>1393.0</td>\n",
       "      <td>67660.0</td>\n",
       "      <td>2936.0</td>\n",
       "      <td>Independent research driving the national conversation.</td>\n",
       "      <td>30864583</td>\n",
       "      <td>True</td>\n",
       "      <td>2009-04-13T13:33:33.000Z</td>\n",
       "    </tr>\n",
       "    <tr>\n",
       "      <th>6</th>\n",
       "      <td>CatoInstitute</td>\n",
       "      <td>362920</td>\n",
       "      <td>CTT</td>\n",
       "      <td>CATO Institute</td>\n",
       "      <td>366653.0</td>\n",
       "      <td>6996.0</td>\n",
       "      <td>96286.0</td>\n",
       "      <td>8482.0</td>\n",
       "      <td>A public policy research organization dedicated to individual liberty, limited government, free markets, and peace.</td>\n",
       "      <td>15450996</td>\n",
       "      <td>True</td>\n",
       "      <td>2008-07-16T05:46:16.000Z</td>\n",
       "    </tr>\n",
       "    <tr>\n",
       "      <th>7</th>\n",
       "      <td>CFACT</td>\n",
       "      <td>13985</td>\n",
       "      <td>CTT</td>\n",
       "      <td>CFACT</td>\n",
       "      <td>14042.0</td>\n",
       "      <td>4481.0</td>\n",
       "      <td>11117.0</td>\n",
       "      <td>319.0</td>\n",
       "      <td>CFACT defends the environment &amp; human welfare through facts, news, and analysis, promoting free-market solutions to the world's environmental problems.</td>\n",
       "      <td>38532025</td>\n",
       "      <td>False</td>\n",
       "      <td>2009-05-07T22:20:56.000Z</td>\n",
       "    </tr>\n",
       "    <tr>\n",
       "      <th>8</th>\n",
       "      <td>FoF_Liberty</td>\n",
       "      <td>236</td>\n",
       "      <td>CTT</td>\n",
       "      <td>Frontiers of Freedom</td>\n",
       "      <td>296.0</td>\n",
       "      <td>523.0</td>\n",
       "      <td>2171.0</td>\n",
       "      <td>8.0</td>\n",
       "      <td>Standing for Individual freedom, peace by strength, limited government, free markets, and traditional American values.</td>\n",
       "      <td>2464808161</td>\n",
       "      <td>False</td>\n",
       "      <td>2014-04-26T15:48:58.000Z</td>\n",
       "    </tr>\n",
       "    <tr>\n",
       "      <th>9</th>\n",
       "      <td>FraserInstitute</td>\n",
       "      <td>31658</td>\n",
       "      <td>CTT</td>\n",
       "      <td>Fraser Institute</td>\n",
       "      <td>32752.0</td>\n",
       "      <td>1102.0</td>\n",
       "      <td>15446.0</td>\n",
       "      <td>1050.0</td>\n",
       "      <td>#1 rated think tank in 🇨🇦! Improving the lives of Canadians with high-quality timely research and innovative outreach.</td>\n",
       "      <td>23529233</td>\n",
       "      <td>False</td>\n",
       "      <td>2009-03-10T00:18:34.000Z</td>\n",
       "    </tr>\n",
       "    <tr>\n",
       "      <th>10</th>\n",
       "      <td>FreedomWorks</td>\n",
       "      <td>270144</td>\n",
       "      <td>CTT</td>\n",
       "      <td>FreedomWorks</td>\n",
       "      <td>282016.0</td>\n",
       "      <td>9892.0</td>\n",
       "      <td>132482.0</td>\n",
       "      <td>3486.0</td>\n",
       "      <td>The Nation's premier grassroots advocacy group dedicated to freedom and small government.</td>\n",
       "      <td>14730894</td>\n",
       "      <td>True</td>\n",
       "      <td>2008-05-11T04:29:14.000Z</td>\n",
       "    </tr>\n",
       "    <tr>\n",
       "      <th>11</th>\n",
       "      <td>HeartlandInst</td>\n",
       "      <td>14831</td>\n",
       "      <td>CTT</td>\n",
       "      <td>Heartland Institute</td>\n",
       "      <td>15768.0</td>\n",
       "      <td>5246.0</td>\n",
       "      <td>50094.0</td>\n",
       "      <td>743.0</td>\n",
       "      <td>National free-market public-policy think tank | IG &amp; FB: heartlandinstitute | YouTube: HeartlandTube | Search Heartland Daily Podcast: Apple, GooglePlay &amp; more.</td>\n",
       "      <td>17850268</td>\n",
       "      <td>False</td>\n",
       "      <td>2008-12-03T21:51:23.000Z</td>\n",
       "    </tr>\n",
       "    <tr>\n",
       "      <th>12</th>\n",
       "      <td>Heritage</td>\n",
       "      <td>624504</td>\n",
       "      <td>CTT</td>\n",
       "      <td>Heritage Foundation</td>\n",
       "      <td>651555.0</td>\n",
       "      <td>25763.0</td>\n",
       "      <td>120468.0</td>\n",
       "      <td>10116.0</td>\n",
       "      <td>Devoted to the principles of free enterprise, limited government, individual freedom, traditional American values, and a strong national defense.</td>\n",
       "      <td>10168082</td>\n",
       "      <td>True</td>\n",
       "      <td>2007-11-12T01:50:27.000Z</td>\n",
       "    </tr>\n",
       "    <tr>\n",
       "      <th>13</th>\n",
       "      <td>HudsonInstitute</td>\n",
       "      <td>73046</td>\n",
       "      <td>CTT</td>\n",
       "      <td>Hudson Institute</td>\n",
       "      <td>83460.0</td>\n",
       "      <td>2480.0</td>\n",
       "      <td>11383.0</td>\n",
       "      <td>1575.0</td>\n",
       "      <td>Promoting American leadership and global engagement for a secure, free, and prosperous future.</td>\n",
       "      <td>16742053</td>\n",
       "      <td>True</td>\n",
       "      <td>2008-10-14T17:19:22.000Z</td>\n",
       "    </tr>\n",
       "    <tr>\n",
       "      <th>14</th>\n",
       "      <td>ManhattanInst</td>\n",
       "      <td>60456</td>\n",
       "      <td>CTT</td>\n",
       "      <td>Manhattan Institute</td>\n",
       "      <td>64787.0</td>\n",
       "      <td>2408.0</td>\n",
       "      <td>82488.0</td>\n",
       "      <td>1547.0</td>\n",
       "      <td>A think tank whose mission is to develop and disseminate new ideas that foster greater economic choice and individual responsibility. @CityJournal @smithsoc</td>\n",
       "      <td>18083519</td>\n",
       "      <td>True</td>\n",
       "      <td>2008-12-12T19:28:08.000Z</td>\n",
       "    </tr>\n",
       "    <tr>\n",
       "      <th>15</th>\n",
       "      <td>PacificResearch</td>\n",
       "      <td>4222</td>\n",
       "      <td>CTT</td>\n",
       "      <td>Pacific Research Institute for Public Policy</td>\n",
       "      <td>4402.0</td>\n",
       "      <td>3302.0</td>\n",
       "      <td>16684.0</td>\n",
       "      <td>218.0</td>\n",
       "      <td>Pacific Research Institute. Championing freedom, opportunity, and personal responsibility.</td>\n",
       "      <td>18485298</td>\n",
       "      <td>False</td>\n",
       "      <td>2008-12-30T19:23:03.000Z</td>\n",
       "    </tr>\n",
       "    <tr>\n",
       "      <th>16</th>\n",
       "      <td>WAPolicyCenter</td>\n",
       "      <td>4141</td>\n",
       "      <td>CTT</td>\n",
       "      <td>Washington Policy Center</td>\n",
       "      <td>4646.0</td>\n",
       "      <td>1836.0</td>\n",
       "      <td>3397.0</td>\n",
       "      <td>121.0</td>\n",
       "      <td>Improving lives through market solutions.</td>\n",
       "      <td>43983401</td>\n",
       "      <td>False</td>\n",
       "      <td>2009-06-01T21:57:37.000Z</td>\n",
       "    </tr>\n",
       "  </tbody>\n",
       "</table>\n",
       "</div>"
      ],
      "text/plain": [
       "        screen_name  Followers Type  \\\n",
       "0   capitalresearch       5023  CTT   \n",
       "1         ceidotorg      12565  CTT   \n",
       "2    NationalCenter       7807  CTT   \n",
       "3         ReasonFdn       7030  CTT   \n",
       "4           ACSHorg       5734  CTT   \n",
       "5               AEI     151109  CTT   \n",
       "6     CatoInstitute     362920  CTT   \n",
       "7             CFACT      13985  CTT   \n",
       "8       FoF_Liberty        236  CTT   \n",
       "9   FraserInstitute      31658  CTT   \n",
       "10     FreedomWorks     270144  CTT   \n",
       "11    HeartlandInst      14831  CTT   \n",
       "12         Heritage     624504  CTT   \n",
       "13  HudsonInstitute      73046  CTT   \n",
       "14    ManhattanInst      60456  CTT   \n",
       "15  PacificResearch       4222  CTT   \n",
       "16   WAPolicyCenter       4141  CTT   \n",
       "\n",
       "                                            Name  followers_count  \\\n",
       "0                        Capital Research Center           5457.0   \n",
       "1               Competitive Enterprise Institute          12828.0   \n",
       "2     National Center for Public Policy Research           7907.0   \n",
       "3                              Reason Foundation           8625.0   \n",
       "4         American Council on Science and Health           5958.0   \n",
       "5                  American Enterprise Institute         160607.0   \n",
       "6                                 CATO Institute         366653.0   \n",
       "7                                          CFACT          14042.0   \n",
       "8                           Frontiers of Freedom            296.0   \n",
       "9                               Fraser Institute          32752.0   \n",
       "10                                  FreedomWorks         282016.0   \n",
       "11                           Heartland Institute          15768.0   \n",
       "12                           Heritage Foundation         651555.0   \n",
       "13                              Hudson Institute          83460.0   \n",
       "14                           Manhattan Institute          64787.0   \n",
       "15  Pacific Research Institute for Public Policy           4402.0   \n",
       "16                      Washington Policy Center           4646.0   \n",
       "\n",
       "    following_count  tweet_count  listed_count  \\\n",
       "0            3069.0       8388.0         110.0   \n",
       "1            3439.0      29967.0         588.0   \n",
       "2            6292.0      23238.0         197.0   \n",
       "3              97.0       6021.0         136.0   \n",
       "4             570.0       4367.0         231.0   \n",
       "5            1393.0      67660.0        2936.0   \n",
       "6            6996.0      96286.0        8482.0   \n",
       "7            4481.0      11117.0         319.0   \n",
       "8             523.0       2171.0           8.0   \n",
       "9            1102.0      15446.0        1050.0   \n",
       "10           9892.0     132482.0        3486.0   \n",
       "11           5246.0      50094.0         743.0   \n",
       "12          25763.0     120468.0       10116.0   \n",
       "13           2480.0      11383.0        1575.0   \n",
       "14           2408.0      82488.0        1547.0   \n",
       "15           3302.0      16684.0         218.0   \n",
       "16           1836.0       3397.0         121.0   \n",
       "\n",
       "                                                                                                                                                         description  \\\n",
       "0                                                       Capital Research Center is America's Investigative Think Tank, covering all the influencers in our politics.   \n",
       "1               CEI is a non-profit public policy organization dedicated to advancing the principles of limited government, free enterprise, and individual liberty.   \n",
       "2                    The National Center for Public Policy Research is a nonpartisan, free-market conservative think-tank. Home of @Project21News & @FreeEntProject.   \n",
       "3   Reason Foundation is a nonprofit dedicated to advancing free minds and free markets. @ReasonFdn produces respected public policy research and publishes @reason.   \n",
       "4                           American Council on Science and Health. Science and consumer advocates since 1978. We separate facts from myths and debunk junk science.   \n",
       "5                                                                                                            Independent research driving the national conversation.   \n",
       "6                                                A public policy research organization dedicated to individual liberty, limited government, free markets, and peace.   \n",
       "7            CFACT defends the environment & human welfare through facts, news, and analysis, promoting free-market solutions to the world's environmental problems.   \n",
       "8                                             Standing for Individual freedom, peace by strength, limited government, free markets, and traditional American values.   \n",
       "9                                             #1 rated think tank in 🇨🇦! Improving the lives of Canadians with high-quality timely research and innovative outreach.   \n",
       "10                                                                         The Nation's premier grassroots advocacy group dedicated to freedom and small government.   \n",
       "11  National free-market public-policy think tank | IG & FB: heartlandinstitute | YouTube: HeartlandTube | Search Heartland Daily Podcast: Apple, GooglePlay & more.   \n",
       "12                 Devoted to the principles of free enterprise, limited government, individual freedom, traditional American values, and a strong national defense.   \n",
       "13                                                                    Promoting American leadership and global engagement for a secure, free, and prosperous future.   \n",
       "14      A think tank whose mission is to develop and disseminate new ideas that foster greater economic choice and individual responsibility. @CityJournal @smithsoc   \n",
       "15                                                                        Pacific Research Institute. Championing freedom, opportunity, and personal responsibility.   \n",
       "16                                                                                                                         Improving lives through market solutions.   \n",
       "\n",
       "                     id verified                created_at  \n",
       "0              18957839    False  2009-01-13T23:07:06.000Z  \n",
       "1              15471040     True  2008-07-17T17:49:08.000Z  \n",
       "2              19384480    False  2009-01-23T06:38:46.000Z  \n",
       "3   1177334131732156420     True  2019-09-26T21:29:18.000Z  \n",
       "4             195858764     True  2010-09-27T19:03:58.000Z  \n",
       "5              30864583     True  2009-04-13T13:33:33.000Z  \n",
       "6              15450996     True  2008-07-16T05:46:16.000Z  \n",
       "7              38532025    False  2009-05-07T22:20:56.000Z  \n",
       "8            2464808161    False  2014-04-26T15:48:58.000Z  \n",
       "9              23529233    False  2009-03-10T00:18:34.000Z  \n",
       "10             14730894     True  2008-05-11T04:29:14.000Z  \n",
       "11             17850268    False  2008-12-03T21:51:23.000Z  \n",
       "12             10168082     True  2007-11-12T01:50:27.000Z  \n",
       "13             16742053     True  2008-10-14T17:19:22.000Z  \n",
       "14             18083519     True  2008-12-12T19:28:08.000Z  \n",
       "15             18485298    False  2008-12-30T19:23:03.000Z  \n",
       "16             43983401    False  2009-06-01T21:57:37.000Z  "
      ]
     },
     "execution_count": 11,
     "metadata": {},
     "output_type": "execute_result"
    }
   ],
   "source": [
    "for i in range(ctts.shape[0]):\n",
    "    username = ctts.loc[i].screen_name\n",
    "    user_meta = getUser(username)\n",
    "    ctts.loc[i, 'followers_count'] = user_meta['public_metrics']['followers_count']\n",
    "    ctts.loc[i, 'following_count'] = user_meta['public_metrics']['following_count']\n",
    "    ctts.loc[i, 'tweet_count'] = user_meta['public_metrics']['tweet_count']\n",
    "    ctts.loc[i, 'listed_count'] = user_meta['public_metrics']['listed_count']\n",
    "    ctts.loc[i, 'description'] = user_meta['description']\n",
    "    ctts.loc[i, 'id'] = user_meta['id']\n",
    "    ctts.loc[i, 'verified'] = user_meta['verified']\n",
    "    ctts.loc[i, 'created_at'] = user_meta['created_at']\n",
    "ctts"
   ]
  },
  {
   "cell_type": "code",
   "execution_count": 12,
   "id": "2e5cd66c",
   "metadata": {
    "ExecuteTime": {
     "end_time": "2022-12-05T11:52:40.898735Z",
     "start_time": "2022-12-05T11:52:40.896324Z"
    }
   },
   "outputs": [
    {
     "data": {
      "text/plain": [
       "681657.0"
      ]
     },
     "execution_count": 12,
     "metadata": {},
     "output_type": "execute_result"
    }
   ],
   "source": [
    "## Total Tweets\n",
    "ctts.tweet_count.sum()"
   ]
  },
  {
   "cell_type": "markdown",
   "id": "a75c11c8",
   "metadata": {},
   "source": [
    "#### Tweets"
   ]
  },
  {
   "cell_type": "code",
   "execution_count": 13,
   "id": "d9eb0e2d",
   "metadata": {
    "ExecuteTime": {
     "end_time": "2022-12-05T11:53:02.202822Z",
     "start_time": "2022-12-05T11:52:40.899872Z"
    }
   },
   "outputs": [
    {
     "data": {
      "application/vnd.jupyter.widget-view+json": {
       "model_id": "4ddc339f35a14dc6af28dd041b1cd98b",
       "version_major": 2,
       "version_minor": 0
      },
      "text/plain": [
       "  0%|          | 0/17 [00:00<?, ?it/s]"
      ]
     },
     "metadata": {},
     "output_type": "display_data"
    },
    {
     "name": "stdout",
     "output_type": "stream",
     "text": [
      "Number of tweets: 11824\n",
      "Aproximate time to process: 11.824000000000002 minutes\n"
     ]
    }
   ],
   "source": [
    "handles_process = ctts.screen_name.unique()\n",
    "    \n",
    "total_sum = 0\n",
    "for username in tqdm(handles_process):\n",
    "    number = count_tweets(\"@{} -is:retweet\".format(username))\n",
    "    total_sum+=number\n",
    "print(\"Number of tweets: {}\".format(total_sum))\n",
    "print(\"Aproximate time to process: {} minutes\".format(total_sum*6/60/100))"
   ]
  },
  {
   "cell_type": "code",
   "execution_count": 14,
   "id": "23da1a88",
   "metadata": {
    "ExecuteTime": {
     "end_time": "2022-12-05T12:19:36.072816Z",
     "start_time": "2022-12-05T12:03:39.009984Z"
    },
    "scrolled": true
   },
   "outputs": [
    {
     "data": {
      "application/vnd.jupyter.widget-view+json": {
       "model_id": "d90020e8de2f4dfe938e750279385208",
       "version_major": 2,
       "version_minor": 0
      },
      "text/plain": [
       "  0%|          | 0/17 [00:00<?, ?it/s]"
      ]
     },
     "metadata": {},
     "output_type": "display_data"
    },
    {
     "data": {
      "application/vnd.jupyter.widget-view+json": {
       "model_id": "dcda99362946486fb15ca6abcc66393f",
       "version_major": 2,
       "version_minor": 0
      },
      "text/plain": [
       "  0%|          | 0/1 [00:00<?, ?it/s]"
      ]
     },
     "metadata": {},
     "output_type": "display_data"
    },
    {
     "data": {
      "application/vnd.jupyter.widget-view+json": {
       "model_id": "7d62d3b580b24023bed4752185ffd5fb",
       "version_major": 2,
       "version_minor": 0
      },
      "text/plain": [
       "  0%|          | 0/1 [00:00<?, ?it/s]"
      ]
     },
     "metadata": {},
     "output_type": "display_data"
    },
    {
     "data": {
      "application/vnd.jupyter.widget-view+json": {
       "model_id": "a6e27b16bd324cb389a944e4a7b7f6e9",
       "version_major": 2,
       "version_minor": 0
      },
      "text/plain": [
       "  0%|          | 0/1 [00:00<?, ?it/s]"
      ]
     },
     "metadata": {},
     "output_type": "display_data"
    },
    {
     "data": {
      "application/vnd.jupyter.widget-view+json": {
       "model_id": "32bbcd170a4d4e1c925ac7d6390deb88",
       "version_major": 2,
       "version_minor": 0
      },
      "text/plain": [
       "  0%|          | 0/1 [00:00<?, ?it/s]"
      ]
     },
     "metadata": {},
     "output_type": "display_data"
    },
    {
     "data": {
      "application/vnd.jupyter.widget-view+json": {
       "model_id": "7e6c2aa8f03a46a0b1e098e6d6e9b837",
       "version_major": 2,
       "version_minor": 0
      },
      "text/plain": [
       "  0%|          | 0/1 [00:00<?, ?it/s]"
      ]
     },
     "metadata": {},
     "output_type": "display_data"
    },
    {
     "data": {
      "application/vnd.jupyter.widget-view+json": {
       "model_id": "2324e1a9d15b47feae0a36953edac91b",
       "version_major": 2,
       "version_minor": 0
      },
      "text/plain": [
       "  0%|          | 0/4 [00:00<?, ?it/s]"
      ]
     },
     "metadata": {},
     "output_type": "display_data"
    },
    {
     "data": {
      "application/vnd.jupyter.widget-view+json": {
       "model_id": "cbbdf9f93e504343a1c5a156e65586ac",
       "version_major": 2,
       "version_minor": 0
      },
      "text/plain": [
       "  0%|          | 0/7 [00:00<?, ?it/s]"
      ]
     },
     "metadata": {},
     "output_type": "display_data"
    },
    {
     "data": {
      "application/vnd.jupyter.widget-view+json": {
       "model_id": "60939954e4df426b82eb22a645841d87",
       "version_major": 2,
       "version_minor": 0
      },
      "text/plain": [
       "  0%|          | 0/1 [00:00<?, ?it/s]"
      ]
     },
     "metadata": {},
     "output_type": "display_data"
    },
    {
     "data": {
      "application/vnd.jupyter.widget-view+json": {
       "model_id": "e93c074559a94e2c9faad3d40c98dafd",
       "version_major": 2,
       "version_minor": 0
      },
      "text/plain": [
       "  0%|          | 0/2 [00:00<?, ?it/s]"
      ]
     },
     "metadata": {},
     "output_type": "display_data"
    },
    {
     "data": {
      "application/vnd.jupyter.widget-view+json": {
       "model_id": "3cda499f76f04bff978cafa3c5a154ba",
       "version_major": 2,
       "version_minor": 0
      },
      "text/plain": [
       "  0%|          | 0/6 [00:00<?, ?it/s]"
      ]
     },
     "metadata": {},
     "output_type": "display_data"
    },
    {
     "data": {
      "application/vnd.jupyter.widget-view+json": {
       "model_id": "0ca95d5de17a495dbad55d018771a582",
       "version_major": 2,
       "version_minor": 0
      },
      "text/plain": [
       "  0%|          | 0/1 [00:00<?, ?it/s]"
      ]
     },
     "metadata": {},
     "output_type": "display_data"
    },
    {
     "data": {
      "application/vnd.jupyter.widget-view+json": {
       "model_id": "8d903a3783b848e38f67cb3d151c2c1c",
       "version_major": 2,
       "version_minor": 0
      },
      "text/plain": [
       "  0%|          | 0/92 [00:00<?, ?it/s]"
      ]
     },
     "metadata": {},
     "output_type": "display_data"
    },
    {
     "data": {
      "application/vnd.jupyter.widget-view+json": {
       "model_id": "aa22c007109c45d68d3f9d149646b275",
       "version_major": 2,
       "version_minor": 0
      },
      "text/plain": [
       "  0%|          | 0/7 [00:00<?, ?it/s]"
      ]
     },
     "metadata": {},
     "output_type": "display_data"
    },
    {
     "data": {
      "application/vnd.jupyter.widget-view+json": {
       "model_id": "80bc962a7248474193b9eba57d9d9639",
       "version_major": 2,
       "version_minor": 0
      },
      "text/plain": [
       "  0%|          | 0/1 [00:00<?, ?it/s]"
      ]
     },
     "metadata": {},
     "output_type": "display_data"
    },
    {
     "data": {
      "application/vnd.jupyter.widget-view+json": {
       "model_id": "46271d82f72940418ecadb0a5c5bc386",
       "version_major": 2,
       "version_minor": 0
      },
      "text/plain": [
       "  0%|          | 0/1 [00:00<?, ?it/s]"
      ]
     },
     "metadata": {},
     "output_type": "display_data"
    },
    {
     "data": {
      "application/vnd.jupyter.widget-view+json": {
       "model_id": "01f3cda38f4d4ffa8b4a70a09fe0a51d",
       "version_major": 2,
       "version_minor": 0
      },
      "text/plain": [
       "  0%|          | 0/1 [00:00<?, ?it/s]"
      ]
     },
     "metadata": {},
     "output_type": "display_data"
    }
   ],
   "source": [
    "if SCRAP_CTTS:\n",
    "    file = \"Twitter_scrapped/tweets_scrapped-CTTs_{}.csv\".format(today)\n",
    "    if os.path.isfile(file):\n",
    "        tweets = pd.read_csv(file)\n",
    "        handles_process = list(set(ctts.screen_name.unique()) - set(tweets.username.unique()))\n",
    "    else:\n",
    "        tweets = pd.DataFrame()\n",
    "        handles_process = ctts.screen_name.unique()\n",
    "\n",
    "    for username in tqdm(handles_process):\n",
    "        handle_tweets = extract_data(\"@{} -is:retweet\".format(username), 100)\n",
    "        handle_tweets[\"username\"] = username\n",
    "        tweets = pd.concat([tweets, handle_tweets])\n",
    "        tweets.to_csv(\"tweets_scrapped-CTTs.csv\", index=False)"
   ]
  },
  {
   "cell_type": "markdown",
   "id": "f81801de",
   "metadata": {},
   "source": [
    "### Preprocess"
   ]
  },
  {
   "cell_type": "code",
   "execution_count": null,
   "id": "e1373336",
   "metadata": {
    "ExecuteTime": {
     "end_time": "2022-12-06T05:46:03.919991Z",
     "start_time": "2022-12-06T05:46:03.878657Z"
    }
   },
   "outputs": [],
   "source": [
    "file = \"Twitter_scrapped/tweets_scrapped-CTTs_{}.csv\".format(today)\n",
    "tweets = pd.read_csv(file)"
   ]
  },
  {
   "cell_type": "code",
   "execution_count": 42,
   "id": "137275fc",
   "metadata": {
    "ExecuteTime": {
     "end_time": "2022-12-06T05:47:11.629423Z",
     "start_time": "2022-12-06T05:47:11.626743Z"
    }
   },
   "outputs": [
    {
     "data": {
      "text/plain": [
       "11787"
      ]
     },
     "execution_count": 42,
     "metadata": {},
     "output_type": "execute_result"
    }
   ],
   "source": [
    "tweets.shape[0]"
   ]
  },
  {
   "cell_type": "code",
   "execution_count": 43,
   "id": "7ea04df5",
   "metadata": {
    "ExecuteTime": {
     "end_time": "2022-12-06T05:47:25.654716Z",
     "start_time": "2022-12-06T05:47:20.255139Z"
    }
   },
   "outputs": [],
   "source": [
    "tweets[\"preprocessed_text\"] = tweets[\"text\"].apply(preprocess_text)"
   ]
  },
  {
   "cell_type": "code",
   "execution_count": 44,
   "id": "e4318a59",
   "metadata": {
    "ExecuteTime": {
     "end_time": "2022-12-06T05:47:27.376136Z",
     "start_time": "2022-12-06T05:47:27.359483Z"
    }
   },
   "outputs": [
    {
     "name": "stdout",
     "output_type": "stream",
     "text": [
      "Number of tweets: 859 from 2022-11-28T12:31:21.000Z to 2022-12-05T12:14:19.000Z.\n"
     ]
    }
   ],
   "source": [
    "real_tweets = tweets[tweets.referenced_tweets.isna() & (tweets.preprocessed_text!=\"\")].copy(deep=True)\n",
    "print(\"Number of tweets: {} from {} to {}.\".format(\n",
    "    real_tweets.shape[0],\n",
    "    tweets.created_at.min(),\n",
    "    tweets.created_at.max()\n",
    "))"
   ]
  },
  {
   "cell_type": "code",
   "execution_count": 45,
   "id": "9a089a53",
   "metadata": {
    "ExecuteTime": {
     "end_time": "2022-12-06T05:47:30.620344Z",
     "start_time": "2022-12-06T05:47:30.308555Z"
    },
    "scrolled": true
   },
   "outputs": [
    {
     "data": {
      "text/html": [
       "<div>\n",
       "<style scoped>\n",
       "    .dataframe tbody tr th:only-of-type {\n",
       "        vertical-align: middle;\n",
       "    }\n",
       "\n",
       "    .dataframe tbody tr th {\n",
       "        vertical-align: top;\n",
       "    }\n",
       "\n",
       "    .dataframe thead th {\n",
       "        text-align: right;\n",
       "    }\n",
       "</style>\n",
       "<table border=\"1\" class=\"dataframe\">\n",
       "  <thead>\n",
       "    <tr style=\"text-align: right;\">\n",
       "      <th></th>\n",
       "      <th>Word</th>\n",
       "      <th>Frequency</th>\n",
       "    </tr>\n",
       "  </thead>\n",
       "  <tbody>\n",
       "    <tr>\n",
       "      <th>0</th>\n",
       "      <td>@Heritage</td>\n",
       "      <td>9144</td>\n",
       "    </tr>\n",
       "    <tr>\n",
       "      <th>24</th>\n",
       "      <td>people</td>\n",
       "      <td>729</td>\n",
       "    </tr>\n",
       "    <tr>\n",
       "      <th>25</th>\n",
       "      <td>@CatoInstitute</td>\n",
       "      <td>718</td>\n",
       "    </tr>\n",
       "    <tr>\n",
       "      <th>26</th>\n",
       "      <td>@KevinRobertsTX</td>\n",
       "      <td>692</td>\n",
       "    </tr>\n",
       "    <tr>\n",
       "      <th>28</th>\n",
       "      <td>@HudsonInstitute</td>\n",
       "      <td>643</td>\n",
       "    </tr>\n",
       "    <tr>\n",
       "      <th>31</th>\n",
       "      <td>@FreedomWorks</td>\n",
       "      <td>607</td>\n",
       "    </tr>\n",
       "    <tr>\n",
       "      <th>41</th>\n",
       "      <td>like</td>\n",
       "      <td>483</td>\n",
       "    </tr>\n",
       "    <tr>\n",
       "      <th>44</th>\n",
       "      <td>@SenatorLankford</td>\n",
       "      <td>445</td>\n",
       "    </tr>\n",
       "    <tr>\n",
       "      <th>45</th>\n",
       "      <td>get</td>\n",
       "      <td>429</td>\n",
       "    </tr>\n",
       "    <tr>\n",
       "      <th>47</th>\n",
       "      <td>@elonmusk</td>\n",
       "      <td>428</td>\n",
       "    </tr>\n",
       "    <tr>\n",
       "      <th>48</th>\n",
       "      <td>&amp;amp;</td>\n",
       "      <td>424</td>\n",
       "    </tr>\n",
       "    <tr>\n",
       "      <th>55</th>\n",
       "      <td>religious</td>\n",
       "      <td>393</td>\n",
       "    </tr>\n",
       "    <tr>\n",
       "      <th>56</th>\n",
       "      <td>@mikepompeo</td>\n",
       "      <td>392</td>\n",
       "    </tr>\n",
       "    <tr>\n",
       "      <th>58</th>\n",
       "      <td>@PM_ViktorOrban</td>\n",
       "      <td>376</td>\n",
       "    </tr>\n",
       "    <tr>\n",
       "      <th>61</th>\n",
       "      <td>marriage</td>\n",
       "      <td>351</td>\n",
       "    </tr>\n",
       "    <tr>\n",
       "      <th>62</th>\n",
       "      <td>want</td>\n",
       "      <td>341</td>\n",
       "    </tr>\n",
       "    <tr>\n",
       "      <th>65</th>\n",
       "      <td>one</td>\n",
       "      <td>335</td>\n",
       "    </tr>\n",
       "    <tr>\n",
       "      <th>66</th>\n",
       "      <td>gay</td>\n",
       "      <td>324</td>\n",
       "    </tr>\n",
       "    <tr>\n",
       "      <th>67</th>\n",
       "      <td>would</td>\n",
       "      <td>321</td>\n",
       "    </tr>\n",
       "    <tr>\n",
       "      <th>70</th>\n",
       "      <td>@AEI</td>\n",
       "      <td>313</td>\n",
       "    </tr>\n",
       "    <tr>\n",
       "      <th>71</th>\n",
       "      <td>via</td>\n",
       "      <td>312</td>\n",
       "    </tr>\n",
       "    <tr>\n",
       "      <th>77</th>\n",
       "      <td>right</td>\n",
       "      <td>285</td>\n",
       "    </tr>\n",
       "    <tr>\n",
       "      <th>78</th>\n",
       "      <td>-</td>\n",
       "      <td>282</td>\n",
       "    </tr>\n",
       "    <tr>\n",
       "      <th>86</th>\n",
       "      <td>think</td>\n",
       "      <td>258</td>\n",
       "    </tr>\n",
       "    <tr>\n",
       "      <th>87</th>\n",
       "      <td>know</td>\n",
       "      <td>257</td>\n",
       "    </tr>\n",
       "    <tr>\n",
       "      <th>88</th>\n",
       "      <td>@KWaggonerADF</td>\n",
       "      <td>257</td>\n",
       "    </tr>\n",
       "    <tr>\n",
       "      <th>92</th>\n",
       "      <td>@SenMikeLee</td>\n",
       "      <td>238</td>\n",
       "    </tr>\n",
       "    <tr>\n",
       "      <th>95</th>\n",
       "      <td>government</td>\n",
       "      <td>231</td>\n",
       "    </tr>\n",
       "    <tr>\n",
       "      <th>96</th>\n",
       "      <td>it.</td>\n",
       "      <td>228</td>\n",
       "    </tr>\n",
       "    <tr>\n",
       "      <th>97</th>\n",
       "      <td>don’t</td>\n",
       "      <td>222</td>\n",
       "    </tr>\n",
       "  </tbody>\n",
       "</table>\n",
       "</div>"
      ],
      "text/plain": [
       "                Word  Frequency\n",
       "0          @Heritage       9144\n",
       "24            people        729\n",
       "25    @CatoInstitute        718\n",
       "26   @KevinRobertsTX        692\n",
       "28  @HudsonInstitute        643\n",
       "31     @FreedomWorks        607\n",
       "41              like        483\n",
       "44  @SenatorLankford        445\n",
       "45               get        429\n",
       "47         @elonmusk        428\n",
       "48             &amp;        424\n",
       "55         religious        393\n",
       "56       @mikepompeo        392\n",
       "58   @PM_ViktorOrban        376\n",
       "61          marriage        351\n",
       "62              want        341\n",
       "65               one        335\n",
       "66               gay        324\n",
       "67             would        321\n",
       "70              @AEI        313\n",
       "71               via        312\n",
       "77             right        285\n",
       "78                 -        282\n",
       "86             think        258\n",
       "87              know        257\n",
       "88     @KWaggonerADF        257\n",
       "92       @SenMikeLee        238\n",
       "95        government        231\n",
       "96               it.        228\n",
       "97             don’t        222"
      ]
     },
     "execution_count": 45,
     "metadata": {},
     "output_type": "execute_result"
    }
   ],
   "source": [
    "count_words(tweets.text)[:30]"
   ]
  },
  {
   "cell_type": "markdown",
   "id": "6bda99ef",
   "metadata": {},
   "source": [
    "## Deniers\n",
    "### Extracting\n",
    "#### Users"
   ]
  },
  {
   "cell_type": "code",
   "execution_count": 7,
   "id": "3bbe4b44",
   "metadata": {
    "ExecuteTime": {
     "end_time": "2022-12-09T15:05:35.469064Z",
     "start_time": "2022-12-09T15:00:47.142440Z"
    },
    "scrolled": true
   },
   "outputs": [
    {
     "name": "stdout",
     "output_type": "stream",
     "text": [
      "User has been suspended: [PolitixGal].\n",
      "User has been suspended: [Tony__Heller].\n",
      "User has been suspended: [Piers_Corbyn].\n",
      "User has been suspended: [PMgeezer].\n",
      "User has been suspended: [Carbongate].\n",
      "User has been suspended: [AusAntiLeft].\n",
      "User has been suspended: [NikolovScience].\n",
      "User has been suspended: [velardedaoiz2].\n",
      "User has been suspended: [JWSpry].\n",
      "User has been suspended: [JaggerMickOZ].\n",
      "User has been suspended: [IceAgeFarmer].\n",
      "Could not find user with username: [TimNBCBoston].\n",
      "User has been suspended: [MooseMan1956].\n",
      "User has been suspended: [Over400ppm].\n",
      "User has been suspended: [ChrisJC12002].\n",
      "User has been suspended: [OverTheMoonbat].\n",
      "User has been suspended: [LearnFromNature].\n",
      "User has been suspended: [AOECOIN].\n",
      "User has been suspended: [SimonPearson961].\n",
      "User has been suspended: [RuffusMD].\n",
      "User has been suspended: [jenninemorgan].\n",
      "User has been suspended: [2013Boodicca].\n",
      "User has been suspended: [BrexitKite].\n",
      "Could not find user with username: [RogerAPielkeSr].\n",
      "User has been suspended: [peden_c].\n",
      "User has been suspended: [Natalia01Mateo].\n",
      "User has been suspended: [NoTricksZone].\n",
      "User has been suspended: [NoTricksZone].\n",
      "User has been suspended: [BulldogLoyalty].\n",
      "User has been suspended: [BulldogLoyalty].\n",
      "User has been suspended: [AyesHavit].\n",
      "User has been suspended: [LLViola].\n",
      "User has been suspended: [SylviaDeeDee].\n",
      "User has been suspended: [NoTillBill].\n",
      "User has been suspended: [dbnicholls1].\n",
      "User has been suspended: [iceagereentry].\n",
      "User has been suspended: [DamoPelham].\n",
      "User has been suspended: [ozhomeschool].\n",
      "Could not find user with username: [CLINTEL_nl].\n",
      "Could not find user with username: [CLINTEL_nl].\n",
      "User has been suspended: [yota_berlin].\n",
      "User has been suspended: [ClimatismBlog].\n",
      "User has been suspended: [airstripone84].\n",
      "User has been suspended: [NIsakoff].\n",
      "Could not find user with username: [AndrewH82484066].\n",
      "Could not find user with username: [StomperStains].\n",
      "Could not find user with username: [hels_hel].\n",
      "User has been suspended: [LamontC76925238].\n",
      "Could not find user with username: [jacque19753136].\n",
      "Could not find user with username: [kitjs1].\n",
      "Could not find user with username: [M1mac101].\n",
      "User has been suspended: [swcrisis].\n"
     ]
    },
    {
     "data": {
      "text/html": [
       "<div>\n",
       "<style scoped>\n",
       "    .dataframe tbody tr th:only-of-type {\n",
       "        vertical-align: middle;\n",
       "    }\n",
       "\n",
       "    .dataframe tbody tr th {\n",
       "        vertical-align: top;\n",
       "    }\n",
       "\n",
       "    .dataframe thead th {\n",
       "        text-align: right;\n",
       "    }\n",
       "</style>\n",
       "<table border=\"1\" class=\"dataframe\">\n",
       "  <thead>\n",
       "    <tr style=\"text-align: right;\">\n",
       "      <th></th>\n",
       "      <th>screen_name</th>\n",
       "      <th>Followers</th>\n",
       "      <th>Type</th>\n",
       "      <th>exist</th>\n",
       "      <th>followers_count</th>\n",
       "      <th>following_count</th>\n",
       "      <th>tweet_count</th>\n",
       "      <th>listed_count</th>\n",
       "      <th>description</th>\n",
       "      <th>id</th>\n",
       "      <th>verified</th>\n",
       "      <th>created_at</th>\n",
       "    </tr>\n",
       "  </thead>\n",
       "  <tbody>\n",
       "    <tr>\n",
       "      <th>0</th>\n",
       "      <td>EcoSenseNow</td>\n",
       "      <td>107212.0</td>\n",
       "      <td>Climate Denier</td>\n",
       "      <td>True</td>\n",
       "      <td>130456.0</td>\n",
       "      <td>1416.0</td>\n",
       "      <td>48465.0</td>\n",
       "      <td>1131.0</td>\n",
       "      <td>BSc Biology PhD Ecology, Greenpeace co-founder, Now a Sensible Environmentalist. Director https://t.co/lfVMUTLFbi. Science &amp; logic, not sensation &amp; fear. CelebrateCO2!</td>\n",
       "      <td>1392956425</td>\n",
       "      <td>False</td>\n",
       "      <td>2013-04-30T20:03:19.000Z</td>\n",
       "    </tr>\n",
       "    <tr>\n",
       "      <th>1</th>\n",
       "      <td>ShellenbergerMD</td>\n",
       "      <td>98407.0</td>\n",
       "      <td>Climate Denier</td>\n",
       "      <td>True</td>\n",
       "      <td>367560.0</td>\n",
       "      <td>748.0</td>\n",
       "      <td>22460.0</td>\n",
       "      <td>2573.0</td>\n",
       "      <td>Pro-civilization : Time, \"Hero of the Environment\" : Bestselling author of \"Apocalypse Never\" &amp; \"San Fransicko\" : Green Book Award : MD = my initials. Not a doc</td>\n",
       "      <td>2474749586</td>\n",
       "      <td>True</td>\n",
       "      <td>2014-05-03T01:10:35.000Z</td>\n",
       "    </tr>\n",
       "    <tr>\n",
       "      <th>2</th>\n",
       "      <td>RyanMaue</td>\n",
       "      <td>94377.0</td>\n",
       "      <td>Climate Denier</td>\n",
       "      <td>True</td>\n",
       "      <td>98721.0</td>\n",
       "      <td>4635.0</td>\n",
       "      <td>9242.0</td>\n",
       "      <td>3067.0</td>\n",
       "      <td>Extreme Weather and Climate | Meteorologist | Historian | Florida State PhD ⛱️☀️Michigan #GoBlue 🏈| Look Up 🚀 | 1908 Project for Prosperity 🦬</td>\n",
       "      <td>16117029</td>\n",
       "      <td>True</td>\n",
       "      <td>2008-09-03T18:27:32.000Z</td>\n",
       "    </tr>\n",
       "    <tr>\n",
       "      <th>3</th>\n",
       "      <td>PolitixGal</td>\n",
       "      <td>93040.0</td>\n",
       "      <td>Climate Denier</td>\n",
       "      <td>NaN</td>\n",
       "      <td>NaN</td>\n",
       "      <td>NaN</td>\n",
       "      <td>NaN</td>\n",
       "      <td>NaN</td>\n",
       "      <td>NaN</td>\n",
       "      <td>NaN</td>\n",
       "      <td>NaN</td>\n",
       "      <td>NaN</td>\n",
       "    </tr>\n",
       "    <tr>\n",
       "      <th>4</th>\n",
       "      <td>catoletters</td>\n",
       "      <td>81717.0</td>\n",
       "      <td>Climate Denier</td>\n",
       "      <td>True</td>\n",
       "      <td>80997.0</td>\n",
       "      <td>27173.0</td>\n",
       "      <td>474777.0</td>\n",
       "      <td>883.0</td>\n",
       "      <td>Voluntary Cooperation/Exchange; Human choice is the foundation of liberty. Read Rothbard and Mises. Peace NAP. End the Fed.  Parody, I am not Cato The Younger</td>\n",
       "      <td>15063486</td>\n",
       "      <td>False</td>\n",
       "      <td>2008-06-09T18:11:35.000Z</td>\n",
       "    </tr>\n",
       "    <tr>\n",
       "      <th>...</th>\n",
       "      <td>...</td>\n",
       "      <td>...</td>\n",
       "      <td>...</td>\n",
       "      <td>...</td>\n",
       "      <td>...</td>\n",
       "      <td>...</td>\n",
       "      <td>...</td>\n",
       "      <td>...</td>\n",
       "      <td>...</td>\n",
       "      <td>...</td>\n",
       "      <td>...</td>\n",
       "      <td>...</td>\n",
       "    </tr>\n",
       "    <tr>\n",
       "      <th>230</th>\n",
       "      <td>Apiglobal</td>\n",
       "      <td>3000.0</td>\n",
       "      <td>Climate Denier-Trade Assoc</td>\n",
       "      <td>True</td>\n",
       "      <td>3392.0</td>\n",
       "      <td>690.0</td>\n",
       "      <td>3279.0</td>\n",
       "      <td>90.0</td>\n",
       "      <td>API Global Industry Services (GIS) provides oil and gas professionals with resources necessary to advance safety and efficiency. @DieselMatters @MotorOilMatters</td>\n",
       "      <td>2885823443</td>\n",
       "      <td>False</td>\n",
       "      <td>2014-11-20T16:58:38.000Z</td>\n",
       "    </tr>\n",
       "    <tr>\n",
       "      <th>231</th>\n",
       "      <td>Chamberglobal</td>\n",
       "      <td>2263.0</td>\n",
       "      <td>Climate Denier-Trade Assoc</td>\n",
       "      <td>True</td>\n",
       "      <td>3101.0</td>\n",
       "      <td>199.0</td>\n",
       "      <td>3596.0</td>\n",
       "      <td>73.0</td>\n",
       "      <td>The @USChamber's International Affairs Division advocates for free enterprise, competitive markets, and rules-based #trade and #investment.</td>\n",
       "      <td>1183621296</td>\n",
       "      <td>False</td>\n",
       "      <td>2013-02-15T19:55:20.000Z</td>\n",
       "    </tr>\n",
       "    <tr>\n",
       "      <th>232</th>\n",
       "      <td>NationalMining</td>\n",
       "      <td>1640.0</td>\n",
       "      <td>Climate Denier-Trade Assoc</td>\n",
       "      <td>True</td>\n",
       "      <td>2694.0</td>\n",
       "      <td>1780.0</td>\n",
       "      <td>4110.0</td>\n",
       "      <td>0.0</td>\n",
       "      <td>The National Mining Association (NMA) is the only national trade organization that serves as the voice of U.S. mining.</td>\n",
       "      <td>2422372057</td>\n",
       "      <td>False</td>\n",
       "      <td>2014-04-01T16:45:35.000Z</td>\n",
       "    </tr>\n",
       "    <tr>\n",
       "      <th>233</th>\n",
       "      <td>OfficialWSPA</td>\n",
       "      <td>1551.0</td>\n",
       "      <td>Climate Denier-Trade Assoc</td>\n",
       "      <td>True</td>\n",
       "      <td>1809.0</td>\n",
       "      <td>495.0</td>\n",
       "      <td>917.0</td>\n",
       "      <td>29.0</td>\n",
       "      <td>Official account for the Western States Petroleum Association, dedicated to ensuring continued access to reliable, affordable and sustainable energy for all</td>\n",
       "      <td>615493717</td>\n",
       "      <td>False</td>\n",
       "      <td>2012-06-22T20:12:37.000Z</td>\n",
       "    </tr>\n",
       "    <tr>\n",
       "      <th>234</th>\n",
       "      <td>Namcma</td>\n",
       "      <td>994.0</td>\n",
       "      <td>Climate Denier-Trade Assoc</td>\n",
       "      <td>True</td>\n",
       "      <td>1083.0</td>\n",
       "      <td>353.0</td>\n",
       "      <td>1862.0</td>\n",
       "      <td>28.0</td>\n",
       "      <td>The NAM's Council of Manufacturing Associations w/ over 250 industry sector trade association members work together on behalf of the people who make things</td>\n",
       "      <td>1362036559</td>\n",
       "      <td>False</td>\n",
       "      <td>2013-04-18T14:09:06.000Z</td>\n",
       "    </tr>\n",
       "  </tbody>\n",
       "</table>\n",
       "<p>235 rows × 12 columns</p>\n",
       "</div>"
      ],
      "text/plain": [
       "         screen_name  Followers                        Type exist  \\\n",
       "0        EcoSenseNow   107212.0              Climate Denier  True   \n",
       "1    ShellenbergerMD    98407.0              Climate Denier  True   \n",
       "2           RyanMaue    94377.0              Climate Denier  True   \n",
       "3         PolitixGal    93040.0              Climate Denier   NaN   \n",
       "4        catoletters    81717.0              Climate Denier  True   \n",
       "..               ...        ...                         ...   ...   \n",
       "230        Apiglobal     3000.0  Climate Denier-Trade Assoc  True   \n",
       "231    Chamberglobal     2263.0  Climate Denier-Trade Assoc  True   \n",
       "232   NationalMining     1640.0  Climate Denier-Trade Assoc  True   \n",
       "233     OfficialWSPA     1551.0  Climate Denier-Trade Assoc  True   \n",
       "234           Namcma      994.0  Climate Denier-Trade Assoc  True   \n",
       "\n",
       "     followers_count  following_count  tweet_count  listed_count  \\\n",
       "0           130456.0           1416.0      48465.0        1131.0   \n",
       "1           367560.0            748.0      22460.0        2573.0   \n",
       "2            98721.0           4635.0       9242.0        3067.0   \n",
       "3                NaN              NaN          NaN           NaN   \n",
       "4            80997.0          27173.0     474777.0         883.0   \n",
       "..               ...              ...          ...           ...   \n",
       "230           3392.0            690.0       3279.0          90.0   \n",
       "231           3101.0            199.0       3596.0          73.0   \n",
       "232           2694.0           1780.0       4110.0           0.0   \n",
       "233           1809.0            495.0        917.0          29.0   \n",
       "234           1083.0            353.0       1862.0          28.0   \n",
       "\n",
       "                                                                                                                                                                 description  \\\n",
       "0    BSc Biology PhD Ecology, Greenpeace co-founder, Now a Sensible Environmentalist. Director https://t.co/lfVMUTLFbi. Science & logic, not sensation & fear. CelebrateCO2!   \n",
       "1           Pro-civilization : Time, \"Hero of the Environment\" : Bestselling author of \"Apocalypse Never\" & \"San Fransicko\" : Green Book Award : MD = my initials. Not a doc   \n",
       "2                              Extreme Weather and Climate | Meteorologist | Historian | Florida State PhD ⛱️☀️Michigan #GoBlue 🏈| Look Up 🚀 | 1908 Project for Prosperity 🦬   \n",
       "3                                                                                                                                                                        NaN   \n",
       "4             Voluntary Cooperation/Exchange; Human choice is the foundation of liberty. Read Rothbard and Mises. Peace NAP. End the Fed.  Parody, I am not Cato The Younger   \n",
       "..                                                                                                                                                                       ...   \n",
       "230         API Global Industry Services (GIS) provides oil and gas professionals with resources necessary to advance safety and efficiency. @DieselMatters @MotorOilMatters   \n",
       "231                              The @USChamber's International Affairs Division advocates for free enterprise, competitive markets, and rules-based #trade and #investment.   \n",
       "232                                                   The National Mining Association (NMA) is the only national trade organization that serves as the voice of U.S. mining.   \n",
       "233             Official account for the Western States Petroleum Association, dedicated to ensuring continued access to reliable, affordable and sustainable energy for all   \n",
       "234              The NAM's Council of Manufacturing Associations w/ over 250 industry sector trade association members work together on behalf of the people who make things   \n",
       "\n",
       "             id verified                created_at  \n",
       "0    1392956425    False  2013-04-30T20:03:19.000Z  \n",
       "1    2474749586     True  2014-05-03T01:10:35.000Z  \n",
       "2      16117029     True  2008-09-03T18:27:32.000Z  \n",
       "3           NaN      NaN                       NaN  \n",
       "4      15063486    False  2008-06-09T18:11:35.000Z  \n",
       "..          ...      ...                       ...  \n",
       "230  2885823443    False  2014-11-20T16:58:38.000Z  \n",
       "231  1183621296    False  2013-02-15T19:55:20.000Z  \n",
       "232  2422372057    False  2014-04-01T16:45:35.000Z  \n",
       "233   615493717    False  2012-06-22T20:12:37.000Z  \n",
       "234  1362036559    False  2013-04-18T14:09:06.000Z  \n",
       "\n",
       "[235 rows x 12 columns]"
      ]
     },
     "execution_count": 7,
     "metadata": {},
     "output_type": "execute_result"
    }
   ],
   "source": [
    "denials = pd.read_csv(\"CTTs/denier_twitter_handles.csv\")\n",
    "for i in range(denials.shape[0]):\n",
    "    username = denials.loc[i].screen_name\n",
    "    user_meta = getUser(username)\n",
    "    if not user_meta:\n",
    "        continue\n",
    "    denials.loc[i, 'exist'] = True\n",
    "    denials.loc[i, 'followers_count'] = user_meta['public_metrics']['followers_count']\n",
    "    denials.loc[i, 'following_count'] = user_meta['public_metrics']['following_count']\n",
    "    denials.loc[i, 'tweet_count'] = user_meta['public_metrics']['tweet_count']\n",
    "    denials.loc[i, 'listed_count'] = user_meta['public_metrics']['listed_count']\n",
    "    denials.loc[i, 'description'] = user_meta['description']\n",
    "    denials.loc[i, 'id'] = user_meta['id']\n",
    "    denials.loc[i, 'verified'] = user_meta['verified']\n",
    "    denials.loc[i, 'created_at'] = user_meta['created_at']\n",
    "denials"
   ]
  },
  {
   "cell_type": "code",
   "execution_count": 48,
   "id": "47ae5cc4",
   "metadata": {
    "ExecuteTime": {
     "end_time": "2022-12-06T05:54:51.739144Z",
     "start_time": "2022-12-06T05:54:51.736839Z"
    }
   },
   "outputs": [
    {
     "name": "stdout",
     "output_type": "stream",
     "text": [
      "183 in total 235.\n"
     ]
    }
   ],
   "source": [
    "print(\"{} in total {}.\".format((denials.exist==True).sum(), denials.shape[0]))"
   ]
  },
  {
   "cell_type": "markdown",
   "id": "ca7148c4",
   "metadata": {},
   "source": [
    "#### Tweets"
   ]
  },
  {
   "cell_type": "code",
   "execution_count": 49,
   "id": "b50ed3c8",
   "metadata": {
    "ExecuteTime": {
     "end_time": "2022-12-06T05:58:32.399249Z",
     "start_time": "2022-12-06T05:54:51.740084Z"
    }
   },
   "outputs": [
    {
     "data": {
      "application/vnd.jupyter.widget-view+json": {
       "model_id": "dfc63af9591f4c7db99980c531e8f9e2",
       "version_major": 2,
       "version_minor": 0
      },
      "text/plain": [
       "  0%|          | 0/178 [00:00<?, ?it/s]"
      ]
     },
     "metadata": {},
     "output_type": "display_data"
    },
    {
     "name": "stdout",
     "output_type": "stream",
     "text": [
      "Number of tweets: 10597\n",
      "Aproximate time to process: 10.597000000000001 minutes\n"
     ]
    }
   ],
   "source": [
    "handles_process = denials[denials.exist==True].screen_name.unique()\n",
    "    \n",
    "total_sum = 0\n",
    "for username in tqdm(handles_process):\n",
    "    number = count_tweets(\"from:{} -is:retweet\".format(username))\n",
    "    total_sum+=number\n",
    "print(\"Number of tweets: {}\".format(total_sum))\n",
    "print(\"Aproximate time to process: {} minutes\".format(total_sum*6/60/100))"
   ]
  },
  {
   "cell_type": "code",
   "execution_count": 50,
   "id": "8a60b850",
   "metadata": {
    "ExecuteTime": {
     "end_time": "2022-12-06T06:25:26.949678Z",
     "start_time": "2022-12-06T05:58:32.400467Z"
    },
    "scrolled": true
   },
   "outputs": [
    {
     "data": {
      "application/vnd.jupyter.widget-view+json": {
       "model_id": "edc7c65174224a3888d94cf4211066f7",
       "version_major": 2,
       "version_minor": 0
      },
      "text/plain": [
       "  0%|          | 0/178 [00:00<?, ?it/s]"
      ]
     },
     "metadata": {},
     "output_type": "display_data"
    },
    {
     "data": {
      "application/vnd.jupyter.widget-view+json": {
       "model_id": "6208e31bccc7443cbda62e921b86951a",
       "version_major": 2,
       "version_minor": 0
      },
      "text/plain": [
       "  0%|          | 0/1 [00:00<?, ?it/s]"
      ]
     },
     "metadata": {},
     "output_type": "display_data"
    },
    {
     "data": {
      "application/vnd.jupyter.widget-view+json": {
       "model_id": "70cc2c8c740942559216318fb836d55c",
       "version_major": 2,
       "version_minor": 0
      },
      "text/plain": [
       "  0%|          | 0/1 [00:00<?, ?it/s]"
      ]
     },
     "metadata": {},
     "output_type": "display_data"
    },
    {
     "data": {
      "application/vnd.jupyter.widget-view+json": {
       "model_id": "6115dacf600d43d984b36db59d10c7c9",
       "version_major": 2,
       "version_minor": 0
      },
      "text/plain": [
       "  0%|          | 0/1 [00:00<?, ?it/s]"
      ]
     },
     "metadata": {},
     "output_type": "display_data"
    },
    {
     "data": {
      "application/vnd.jupyter.widget-view+json": {
       "model_id": "556d60225d3848d4bbd508dec4f4e601",
       "version_major": 2,
       "version_minor": 0
      },
      "text/plain": [
       "  0%|          | 0/1 [00:00<?, ?it/s]"
      ]
     },
     "metadata": {},
     "output_type": "display_data"
    },
    {
     "data": {
      "application/vnd.jupyter.widget-view+json": {
       "model_id": "bb17a16323624a7f8c607ced1d4746c9",
       "version_major": 2,
       "version_minor": 0
      },
      "text/plain": [
       "  0%|          | 0/1 [00:00<?, ?it/s]"
      ]
     },
     "metadata": {},
     "output_type": "display_data"
    },
    {
     "data": {
      "application/vnd.jupyter.widget-view+json": {
       "model_id": "b3329c76ba6146488a033991fc827d6d",
       "version_major": 2,
       "version_minor": 0
      },
      "text/plain": [
       "  0%|          | 0/1 [00:00<?, ?it/s]"
      ]
     },
     "metadata": {},
     "output_type": "display_data"
    },
    {
     "data": {
      "application/vnd.jupyter.widget-view+json": {
       "model_id": "a68e4eca43fd411ba8f3d1ae6eb5d666",
       "version_major": 2,
       "version_minor": 0
      },
      "text/plain": [
       "  0%|          | 0/1 [00:00<?, ?it/s]"
      ]
     },
     "metadata": {},
     "output_type": "display_data"
    },
    {
     "data": {
      "application/vnd.jupyter.widget-view+json": {
       "model_id": "16a8d65b3fa2403ba1d15692b372e0d8",
       "version_major": 2,
       "version_minor": 0
      },
      "text/plain": [
       "  0%|          | 0/1 [00:00<?, ?it/s]"
      ]
     },
     "metadata": {},
     "output_type": "display_data"
    },
    {
     "data": {
      "application/vnd.jupyter.widget-view+json": {
       "model_id": "002c9a113af7460b85a0945a4c71f159",
       "version_major": 2,
       "version_minor": 0
      },
      "text/plain": [
       "  0%|          | 0/1 [00:00<?, ?it/s]"
      ]
     },
     "metadata": {},
     "output_type": "display_data"
    },
    {
     "data": {
      "application/vnd.jupyter.widget-view+json": {
       "model_id": "35f324430fb348088df9eb0a210cd2fa",
       "version_major": 2,
       "version_minor": 0
      },
      "text/plain": [
       "  0%|          | 0/1 [00:00<?, ?it/s]"
      ]
     },
     "metadata": {},
     "output_type": "display_data"
    },
    {
     "data": {
      "application/vnd.jupyter.widget-view+json": {
       "model_id": "e9824be87932407cacaecbe63638f484",
       "version_major": 2,
       "version_minor": 0
      },
      "text/plain": [
       "  0%|          | 0/1 [00:00<?, ?it/s]"
      ]
     },
     "metadata": {},
     "output_type": "display_data"
    },
    {
     "data": {
      "application/vnd.jupyter.widget-view+json": {
       "model_id": "6165262425f845d0ac4498a54308fa0e",
       "version_major": 2,
       "version_minor": 0
      },
      "text/plain": [
       "  0%|          | 0/2 [00:00<?, ?it/s]"
      ]
     },
     "metadata": {},
     "output_type": "display_data"
    },
    {
     "data": {
      "application/vnd.jupyter.widget-view+json": {
       "model_id": "1784b990a27f4789a0c56de28ca24316",
       "version_major": 2,
       "version_minor": 0
      },
      "text/plain": [
       "  0%|          | 0/1 [00:00<?, ?it/s]"
      ]
     },
     "metadata": {},
     "output_type": "display_data"
    },
    {
     "data": {
      "application/vnd.jupyter.widget-view+json": {
       "model_id": "0b3c134544924b9eb066a8d2fb2bd955",
       "version_major": 2,
       "version_minor": 0
      },
      "text/plain": [
       "  0%|          | 0/1 [00:00<?, ?it/s]"
      ]
     },
     "metadata": {},
     "output_type": "display_data"
    },
    {
     "data": {
      "application/vnd.jupyter.widget-view+json": {
       "model_id": "ddd06953f8df40cd84648489a12f2727",
       "version_major": 2,
       "version_minor": 0
      },
      "text/plain": [
       "  0%|          | 0/1 [00:00<?, ?it/s]"
      ]
     },
     "metadata": {},
     "output_type": "display_data"
    },
    {
     "data": {
      "application/vnd.jupyter.widget-view+json": {
       "model_id": "43e16c9b91774840b39a51ec1b456a27",
       "version_major": 2,
       "version_minor": 0
      },
      "text/plain": [
       "  0%|          | 0/5 [00:00<?, ?it/s]"
      ]
     },
     "metadata": {},
     "output_type": "display_data"
    },
    {
     "data": {
      "application/vnd.jupyter.widget-view+json": {
       "model_id": "de7de09b02e940dea5ede1a3d36e5d4b",
       "version_major": 2,
       "version_minor": 0
      },
      "text/plain": [
       "  0%|          | 0/2 [00:00<?, ?it/s]"
      ]
     },
     "metadata": {},
     "output_type": "display_data"
    },
    {
     "data": {
      "application/vnd.jupyter.widget-view+json": {
       "model_id": "1cefb2ac3a0247ad8c9b08f88efcf0c0",
       "version_major": 2,
       "version_minor": 0
      },
      "text/plain": [
       "  0%|          | 0/4 [00:00<?, ?it/s]"
      ]
     },
     "metadata": {},
     "output_type": "display_data"
    },
    {
     "data": {
      "application/vnd.jupyter.widget-view+json": {
       "model_id": "24c9d06b94c2472888ff91ba05890c5d",
       "version_major": 2,
       "version_minor": 0
      },
      "text/plain": [
       "  0%|          | 0/2 [00:00<?, ?it/s]"
      ]
     },
     "metadata": {},
     "output_type": "display_data"
    },
    {
     "data": {
      "application/vnd.jupyter.widget-view+json": {
       "model_id": "1f6c11f9fc6f4db6b17113faaafbf22f",
       "version_major": 2,
       "version_minor": 0
      },
      "text/plain": [
       "  0%|          | 0/1 [00:00<?, ?it/s]"
      ]
     },
     "metadata": {},
     "output_type": "display_data"
    },
    {
     "data": {
      "application/vnd.jupyter.widget-view+json": {
       "model_id": "8806d39aa7d947a4ae4ed28f11ee0d94",
       "version_major": 2,
       "version_minor": 0
      },
      "text/plain": [
       "  0%|          | 0/1 [00:00<?, ?it/s]"
      ]
     },
     "metadata": {},
     "output_type": "display_data"
    },
    {
     "data": {
      "application/vnd.jupyter.widget-view+json": {
       "model_id": "3f2e9491c74f4ac38b599aca03af8cad",
       "version_major": 2,
       "version_minor": 0
      },
      "text/plain": [
       "  0%|          | 0/1 [00:00<?, ?it/s]"
      ]
     },
     "metadata": {},
     "output_type": "display_data"
    },
    {
     "data": {
      "application/vnd.jupyter.widget-view+json": {
       "model_id": "9192c5bb179447acbe2beea555ce18b9",
       "version_major": 2,
       "version_minor": 0
      },
      "text/plain": [
       "  0%|          | 0/1 [00:00<?, ?it/s]"
      ]
     },
     "metadata": {},
     "output_type": "display_data"
    },
    {
     "data": {
      "application/vnd.jupyter.widget-view+json": {
       "model_id": "b78a44910ad94b258523579c047454e9",
       "version_major": 2,
       "version_minor": 0
      },
      "text/plain": [
       "  0%|          | 0/2 [00:00<?, ?it/s]"
      ]
     },
     "metadata": {},
     "output_type": "display_data"
    },
    {
     "data": {
      "application/vnd.jupyter.widget-view+json": {
       "model_id": "87cb60977b99434baf0a64dc47723f7d",
       "version_major": 2,
       "version_minor": 0
      },
      "text/plain": [
       "  0%|          | 0/2 [00:00<?, ?it/s]"
      ]
     },
     "metadata": {},
     "output_type": "display_data"
    },
    {
     "data": {
      "application/vnd.jupyter.widget-view+json": {
       "model_id": "10cb0631550242d7a870e5e83957c113",
       "version_major": 2,
       "version_minor": 0
      },
      "text/plain": [
       "  0%|          | 0/1 [00:00<?, ?it/s]"
      ]
     },
     "metadata": {},
     "output_type": "display_data"
    },
    {
     "data": {
      "application/vnd.jupyter.widget-view+json": {
       "model_id": "c1d047d6879a4e28bcb1d4b3259be916",
       "version_major": 2,
       "version_minor": 0
      },
      "text/plain": [
       "  0%|          | 0/1 [00:00<?, ?it/s]"
      ]
     },
     "metadata": {},
     "output_type": "display_data"
    },
    {
     "data": {
      "application/vnd.jupyter.widget-view+json": {
       "model_id": "3c62efa3990b4895b0e197940991c945",
       "version_major": 2,
       "version_minor": 0
      },
      "text/plain": [
       "  0%|          | 0/1 [00:00<?, ?it/s]"
      ]
     },
     "metadata": {},
     "output_type": "display_data"
    },
    {
     "data": {
      "application/vnd.jupyter.widget-view+json": {
       "model_id": "484e9228bdc6481fb474814ec551347b",
       "version_major": 2,
       "version_minor": 0
      },
      "text/plain": [
       "  0%|          | 0/2 [00:00<?, ?it/s]"
      ]
     },
     "metadata": {},
     "output_type": "display_data"
    },
    {
     "data": {
      "application/vnd.jupyter.widget-view+json": {
       "model_id": "cf6b3c0faee54c4aaf9218828c143ecc",
       "version_major": 2,
       "version_minor": 0
      },
      "text/plain": [
       "  0%|          | 0/2 [00:00<?, ?it/s]"
      ]
     },
     "metadata": {},
     "output_type": "display_data"
    },
    {
     "data": {
      "application/vnd.jupyter.widget-view+json": {
       "model_id": "5838487f85fe47bea7ea469a2c7a2fe1",
       "version_major": 2,
       "version_minor": 0
      },
      "text/plain": [
       "  0%|          | 0/1 [00:00<?, ?it/s]"
      ]
     },
     "metadata": {},
     "output_type": "display_data"
    },
    {
     "data": {
      "application/vnd.jupyter.widget-view+json": {
       "model_id": "8b1c6ab8ea9e4b909b95e3401c080461",
       "version_major": 2,
       "version_minor": 0
      },
      "text/plain": [
       "  0%|          | 0/3 [00:00<?, ?it/s]"
      ]
     },
     "metadata": {},
     "output_type": "display_data"
    },
    {
     "data": {
      "application/vnd.jupyter.widget-view+json": {
       "model_id": "3b5d406b92ba4f36ab6cb51d7e60cc65",
       "version_major": 2,
       "version_minor": 0
      },
      "text/plain": [
       "  0%|          | 0/1 [00:00<?, ?it/s]"
      ]
     },
     "metadata": {},
     "output_type": "display_data"
    },
    {
     "data": {
      "application/vnd.jupyter.widget-view+json": {
       "model_id": "5f1bea32edc646f7975b428c0d5c7a03",
       "version_major": 2,
       "version_minor": 0
      },
      "text/plain": [
       "  0%|          | 0/1 [00:00<?, ?it/s]"
      ]
     },
     "metadata": {},
     "output_type": "display_data"
    },
    {
     "data": {
      "application/vnd.jupyter.widget-view+json": {
       "model_id": "0be4e974697148188a7c7d1c7fccb61d",
       "version_major": 2,
       "version_minor": 0
      },
      "text/plain": [
       "  0%|          | 0/1 [00:00<?, ?it/s]"
      ]
     },
     "metadata": {},
     "output_type": "display_data"
    },
    {
     "data": {
      "application/vnd.jupyter.widget-view+json": {
       "model_id": "6ca1733219924011a1fb0baa518a69bf",
       "version_major": 2,
       "version_minor": 0
      },
      "text/plain": [
       "  0%|          | 0/1 [00:00<?, ?it/s]"
      ]
     },
     "metadata": {},
     "output_type": "display_data"
    },
    {
     "data": {
      "application/vnd.jupyter.widget-view+json": {
       "model_id": "5175e5dc5285433b96dd007a9b346f41",
       "version_major": 2,
       "version_minor": 0
      },
      "text/plain": [
       "  0%|          | 0/1 [00:00<?, ?it/s]"
      ]
     },
     "metadata": {},
     "output_type": "display_data"
    },
    {
     "data": {
      "application/vnd.jupyter.widget-view+json": {
       "model_id": "e069ef8ff7eb4833bc9fe576dabcd42c",
       "version_major": 2,
       "version_minor": 0
      },
      "text/plain": [
       "  0%|          | 0/3 [00:00<?, ?it/s]"
      ]
     },
     "metadata": {},
     "output_type": "display_data"
    },
    {
     "data": {
      "application/vnd.jupyter.widget-view+json": {
       "model_id": "2a052a0dbfe04935a9869d80e1b278ff",
       "version_major": 2,
       "version_minor": 0
      },
      "text/plain": [
       "  0%|          | 0/1 [00:00<?, ?it/s]"
      ]
     },
     "metadata": {},
     "output_type": "display_data"
    },
    {
     "data": {
      "application/vnd.jupyter.widget-view+json": {
       "model_id": "619bec77fabc417b8c28decb3db74967",
       "version_major": 2,
       "version_minor": 0
      },
      "text/plain": [
       "  0%|          | 0/1 [00:00<?, ?it/s]"
      ]
     },
     "metadata": {},
     "output_type": "display_data"
    },
    {
     "data": {
      "application/vnd.jupyter.widget-view+json": {
       "model_id": "b7c44e91c0a14659afea1300cced11ff",
       "version_major": 2,
       "version_minor": 0
      },
      "text/plain": [
       "  0%|          | 0/1 [00:00<?, ?it/s]"
      ]
     },
     "metadata": {},
     "output_type": "display_data"
    },
    {
     "data": {
      "application/vnd.jupyter.widget-view+json": {
       "model_id": "67add8c009e9402ebc6275f10c8ea6bb",
       "version_major": 2,
       "version_minor": 0
      },
      "text/plain": [
       "  0%|          | 0/2 [00:00<?, ?it/s]"
      ]
     },
     "metadata": {},
     "output_type": "display_data"
    },
    {
     "data": {
      "application/vnd.jupyter.widget-view+json": {
       "model_id": "1e3873f001a34dfd87d4e8ec06d31b65",
       "version_major": 2,
       "version_minor": 0
      },
      "text/plain": [
       "  0%|          | 0/1 [00:00<?, ?it/s]"
      ]
     },
     "metadata": {},
     "output_type": "display_data"
    },
    {
     "data": {
      "application/vnd.jupyter.widget-view+json": {
       "model_id": "95ef917449004db3b12313a8194a79ef",
       "version_major": 2,
       "version_minor": 0
      },
      "text/plain": [
       "  0%|          | 0/1 [00:00<?, ?it/s]"
      ]
     },
     "metadata": {},
     "output_type": "display_data"
    },
    {
     "data": {
      "application/vnd.jupyter.widget-view+json": {
       "model_id": "8b846f79eb474cb7ac32c166cbaf6e51",
       "version_major": 2,
       "version_minor": 0
      },
      "text/plain": [
       "  0%|          | 0/1 [00:00<?, ?it/s]"
      ]
     },
     "metadata": {},
     "output_type": "display_data"
    },
    {
     "data": {
      "application/vnd.jupyter.widget-view+json": {
       "model_id": "6f1632481c87424cb1c9c8452a7ab81e",
       "version_major": 2,
       "version_minor": 0
      },
      "text/plain": [
       "  0%|          | 0/2 [00:00<?, ?it/s]"
      ]
     },
     "metadata": {},
     "output_type": "display_data"
    },
    {
     "data": {
      "application/vnd.jupyter.widget-view+json": {
       "model_id": "06c9643f5c5e440f8dca3c245df7c725",
       "version_major": 2,
       "version_minor": 0
      },
      "text/plain": [
       "  0%|          | 0/4 [00:00<?, ?it/s]"
      ]
     },
     "metadata": {},
     "output_type": "display_data"
    },
    {
     "data": {
      "application/vnd.jupyter.widget-view+json": {
       "model_id": "bee0cc257fc04f3ca074ffc803f63614",
       "version_major": 2,
       "version_minor": 0
      },
      "text/plain": [
       "  0%|          | 0/1 [00:00<?, ?it/s]"
      ]
     },
     "metadata": {},
     "output_type": "display_data"
    },
    {
     "data": {
      "application/vnd.jupyter.widget-view+json": {
       "model_id": "e06da0048d9047c98cf215a0b07557e1",
       "version_major": 2,
       "version_minor": 0
      },
      "text/plain": [
       "  0%|          | 0/2 [00:00<?, ?it/s]"
      ]
     },
     "metadata": {},
     "output_type": "display_data"
    },
    {
     "data": {
      "application/vnd.jupyter.widget-view+json": {
       "model_id": "8b4dd7c3e6d14c3d92eb593abb0e34c3",
       "version_major": 2,
       "version_minor": 0
      },
      "text/plain": [
       "  0%|          | 0/1 [00:00<?, ?it/s]"
      ]
     },
     "metadata": {},
     "output_type": "display_data"
    },
    {
     "data": {
      "application/vnd.jupyter.widget-view+json": {
       "model_id": "7be3f1f9adea497889db191d8b15ee99",
       "version_major": 2,
       "version_minor": 0
      },
      "text/plain": [
       "  0%|          | 0/1 [00:00<?, ?it/s]"
      ]
     },
     "metadata": {},
     "output_type": "display_data"
    },
    {
     "data": {
      "application/vnd.jupyter.widget-view+json": {
       "model_id": "517781dbab074c20b3c15da3b05d213a",
       "version_major": 2,
       "version_minor": 0
      },
      "text/plain": [
       "  0%|          | 0/1 [00:00<?, ?it/s]"
      ]
     },
     "metadata": {},
     "output_type": "display_data"
    },
    {
     "data": {
      "application/vnd.jupyter.widget-view+json": {
       "model_id": "cb70892a24da44fda576956c0de7c9c0",
       "version_major": 2,
       "version_minor": 0
      },
      "text/plain": [
       "  0%|          | 0/1 [00:00<?, ?it/s]"
      ]
     },
     "metadata": {},
     "output_type": "display_data"
    },
    {
     "data": {
      "application/vnd.jupyter.widget-view+json": {
       "model_id": "b7f728a372334ba68cece640deaa45bd",
       "version_major": 2,
       "version_minor": 0
      },
      "text/plain": [
       "  0%|          | 0/2 [00:00<?, ?it/s]"
      ]
     },
     "metadata": {},
     "output_type": "display_data"
    },
    {
     "data": {
      "application/vnd.jupyter.widget-view+json": {
       "model_id": "57a533093e7c477a8d5a77d47450b90c",
       "version_major": 2,
       "version_minor": 0
      },
      "text/plain": [
       "  0%|          | 0/1 [00:00<?, ?it/s]"
      ]
     },
     "metadata": {},
     "output_type": "display_data"
    },
    {
     "data": {
      "application/vnd.jupyter.widget-view+json": {
       "model_id": "ef8bb820d83f4ff59a99ef247556ce77",
       "version_major": 2,
       "version_minor": 0
      },
      "text/plain": [
       "  0%|          | 0/4 [00:00<?, ?it/s]"
      ]
     },
     "metadata": {},
     "output_type": "display_data"
    },
    {
     "data": {
      "application/vnd.jupyter.widget-view+json": {
       "model_id": "a97bd6cb17034807ba980d887ebe453e",
       "version_major": 2,
       "version_minor": 0
      },
      "text/plain": [
       "  0%|          | 0/1 [00:00<?, ?it/s]"
      ]
     },
     "metadata": {},
     "output_type": "display_data"
    },
    {
     "data": {
      "application/vnd.jupyter.widget-view+json": {
       "model_id": "f969201aea3c4784992a057506260b23",
       "version_major": 2,
       "version_minor": 0
      },
      "text/plain": [
       "  0%|          | 0/8 [00:00<?, ?it/s]"
      ]
     },
     "metadata": {},
     "output_type": "display_data"
    },
    {
     "data": {
      "application/vnd.jupyter.widget-view+json": {
       "model_id": "a18b5c10058444a093802cea4b147d9d",
       "version_major": 2,
       "version_minor": 0
      },
      "text/plain": [
       "  0%|          | 0/1 [00:00<?, ?it/s]"
      ]
     },
     "metadata": {},
     "output_type": "display_data"
    },
    {
     "data": {
      "application/vnd.jupyter.widget-view+json": {
       "model_id": "9de46b517b4343dca632306a8a8bc08e",
       "version_major": 2,
       "version_minor": 0
      },
      "text/plain": [
       "  0%|          | 0/1 [00:00<?, ?it/s]"
      ]
     },
     "metadata": {},
     "output_type": "display_data"
    },
    {
     "data": {
      "application/vnd.jupyter.widget-view+json": {
       "model_id": "1c435a9d00cf47c39a1b64055804c73f",
       "version_major": 2,
       "version_minor": 0
      },
      "text/plain": [
       "  0%|          | 0/1 [00:00<?, ?it/s]"
      ]
     },
     "metadata": {},
     "output_type": "display_data"
    },
    {
     "data": {
      "application/vnd.jupyter.widget-view+json": {
       "model_id": "1b2d25944f2a46428265757dd5759843",
       "version_major": 2,
       "version_minor": 0
      },
      "text/plain": [
       "  0%|          | 0/5 [00:00<?, ?it/s]"
      ]
     },
     "metadata": {},
     "output_type": "display_data"
    },
    {
     "data": {
      "application/vnd.jupyter.widget-view+json": {
       "model_id": "0c0dbb6e67e946189f1f330cf795e0f6",
       "version_major": 2,
       "version_minor": 0
      },
      "text/plain": [
       "  0%|          | 0/2 [00:00<?, ?it/s]"
      ]
     },
     "metadata": {},
     "output_type": "display_data"
    },
    {
     "data": {
      "application/vnd.jupyter.widget-view+json": {
       "model_id": "ea3349d60f7848d88c815ec7d306099e",
       "version_major": 2,
       "version_minor": 0
      },
      "text/plain": [
       "  0%|          | 0/1 [00:00<?, ?it/s]"
      ]
     },
     "metadata": {},
     "output_type": "display_data"
    },
    {
     "data": {
      "application/vnd.jupyter.widget-view+json": {
       "model_id": "4465f47631e14928a69c5d93a7aa3960",
       "version_major": 2,
       "version_minor": 0
      },
      "text/plain": [
       "  0%|          | 0/1 [00:00<?, ?it/s]"
      ]
     },
     "metadata": {},
     "output_type": "display_data"
    },
    {
     "data": {
      "application/vnd.jupyter.widget-view+json": {
       "model_id": "19dec639c6cc4032a509fda36bfae0ad",
       "version_major": 2,
       "version_minor": 0
      },
      "text/plain": [
       "  0%|          | 0/1 [00:00<?, ?it/s]"
      ]
     },
     "metadata": {},
     "output_type": "display_data"
    },
    {
     "data": {
      "application/vnd.jupyter.widget-view+json": {
       "model_id": "c9f01a9e79b74f9d8558905f0f50735e",
       "version_major": 2,
       "version_minor": 0
      },
      "text/plain": [
       "  0%|          | 0/3 [00:00<?, ?it/s]"
      ]
     },
     "metadata": {},
     "output_type": "display_data"
    },
    {
     "data": {
      "application/vnd.jupyter.widget-view+json": {
       "model_id": "ebcdb27d837a4374a764f16da16f7431",
       "version_major": 2,
       "version_minor": 0
      },
      "text/plain": [
       "  0%|          | 0/1 [00:00<?, ?it/s]"
      ]
     },
     "metadata": {},
     "output_type": "display_data"
    },
    {
     "data": {
      "application/vnd.jupyter.widget-view+json": {
       "model_id": "2cd528cea9f94fec8e6583075435eadd",
       "version_major": 2,
       "version_minor": 0
      },
      "text/plain": [
       "  0%|          | 0/1 [00:00<?, ?it/s]"
      ]
     },
     "metadata": {},
     "output_type": "display_data"
    },
    {
     "data": {
      "application/vnd.jupyter.widget-view+json": {
       "model_id": "2b673fe27b2e43a6bcbde2ad5d3a8aed",
       "version_major": 2,
       "version_minor": 0
      },
      "text/plain": [
       "  0%|          | 0/2 [00:00<?, ?it/s]"
      ]
     },
     "metadata": {},
     "output_type": "display_data"
    },
    {
     "data": {
      "application/vnd.jupyter.widget-view+json": {
       "model_id": "ff2e5b3fcc7148a9ac00138891141792",
       "version_major": 2,
       "version_minor": 0
      },
      "text/plain": [
       "  0%|          | 0/1 [00:00<?, ?it/s]"
      ]
     },
     "metadata": {},
     "output_type": "display_data"
    },
    {
     "data": {
      "application/vnd.jupyter.widget-view+json": {
       "model_id": "26c047876e274a56a49d1ebcc3cbf557",
       "version_major": 2,
       "version_minor": 0
      },
      "text/plain": [
       "  0%|          | 0/3 [00:00<?, ?it/s]"
      ]
     },
     "metadata": {},
     "output_type": "display_data"
    },
    {
     "data": {
      "application/vnd.jupyter.widget-view+json": {
       "model_id": "1c69707343154cf1938289d05c7394c9",
       "version_major": 2,
       "version_minor": 0
      },
      "text/plain": [
       "  0%|          | 0/1 [00:00<?, ?it/s]"
      ]
     },
     "metadata": {},
     "output_type": "display_data"
    },
    {
     "data": {
      "application/vnd.jupyter.widget-view+json": {
       "model_id": "94ef1879bfc1420782681953d7167d05",
       "version_major": 2,
       "version_minor": 0
      },
      "text/plain": [
       "  0%|          | 0/1 [00:00<?, ?it/s]"
      ]
     },
     "metadata": {},
     "output_type": "display_data"
    },
    {
     "data": {
      "application/vnd.jupyter.widget-view+json": {
       "model_id": "028034fa791648ee91958460baf496a0",
       "version_major": 2,
       "version_minor": 0
      },
      "text/plain": [
       "  0%|          | 0/2 [00:00<?, ?it/s]"
      ]
     },
     "metadata": {},
     "output_type": "display_data"
    },
    {
     "data": {
      "application/vnd.jupyter.widget-view+json": {
       "model_id": "b1819f4182724b819385eae21b4cf6b2",
       "version_major": 2,
       "version_minor": 0
      },
      "text/plain": [
       "  0%|          | 0/2 [00:00<?, ?it/s]"
      ]
     },
     "metadata": {},
     "output_type": "display_data"
    },
    {
     "data": {
      "application/vnd.jupyter.widget-view+json": {
       "model_id": "23528ba4e1b846c48cdea898fa8981d6",
       "version_major": 2,
       "version_minor": 0
      },
      "text/plain": [
       "  0%|          | 0/1 [00:00<?, ?it/s]"
      ]
     },
     "metadata": {},
     "output_type": "display_data"
    },
    {
     "data": {
      "application/vnd.jupyter.widget-view+json": {
       "model_id": "c381b4528e244c0284e91a3e262eee72",
       "version_major": 2,
       "version_minor": 0
      },
      "text/plain": [
       "  0%|          | 0/1 [00:00<?, ?it/s]"
      ]
     },
     "metadata": {},
     "output_type": "display_data"
    },
    {
     "data": {
      "application/vnd.jupyter.widget-view+json": {
       "model_id": "870882a159ea470ea0b6386ff99a5e96",
       "version_major": 2,
       "version_minor": 0
      },
      "text/plain": [
       "  0%|          | 0/1 [00:00<?, ?it/s]"
      ]
     },
     "metadata": {},
     "output_type": "display_data"
    },
    {
     "data": {
      "application/vnd.jupyter.widget-view+json": {
       "model_id": "39e2b4e4599a42bd90dc4e0cf1b1994f",
       "version_major": 2,
       "version_minor": 0
      },
      "text/plain": [
       "  0%|          | 0/1 [00:00<?, ?it/s]"
      ]
     },
     "metadata": {},
     "output_type": "display_data"
    },
    {
     "data": {
      "application/vnd.jupyter.widget-view+json": {
       "model_id": "e5e693e6d5e149b9b67b2c0e8412f0a5",
       "version_major": 2,
       "version_minor": 0
      },
      "text/plain": [
       "  0%|          | 0/3 [00:00<?, ?it/s]"
      ]
     },
     "metadata": {},
     "output_type": "display_data"
    },
    {
     "data": {
      "application/vnd.jupyter.widget-view+json": {
       "model_id": "719d8ac9483c46cf90419248ce5399da",
       "version_major": 2,
       "version_minor": 0
      },
      "text/plain": [
       "  0%|          | 0/3 [00:00<?, ?it/s]"
      ]
     },
     "metadata": {},
     "output_type": "display_data"
    },
    {
     "data": {
      "application/vnd.jupyter.widget-view+json": {
       "model_id": "2dfb343305bc4a5d897a7fc6013f4388",
       "version_major": 2,
       "version_minor": 0
      },
      "text/plain": [
       "  0%|          | 0/2 [00:00<?, ?it/s]"
      ]
     },
     "metadata": {},
     "output_type": "display_data"
    },
    {
     "data": {
      "application/vnd.jupyter.widget-view+json": {
       "model_id": "d0d6398ee71d4c71891b76c9177a2650",
       "version_major": 2,
       "version_minor": 0
      },
      "text/plain": [
       "  0%|          | 0/1 [00:00<?, ?it/s]"
      ]
     },
     "metadata": {},
     "output_type": "display_data"
    },
    {
     "data": {
      "application/vnd.jupyter.widget-view+json": {
       "model_id": "2aa618a7bdee440f93158f8f7c5768c4",
       "version_major": 2,
       "version_minor": 0
      },
      "text/plain": [
       "  0%|          | 0/1 [00:00<?, ?it/s]"
      ]
     },
     "metadata": {},
     "output_type": "display_data"
    },
    {
     "data": {
      "application/vnd.jupyter.widget-view+json": {
       "model_id": "ac47ca7796774f28b0be4e35252e1177",
       "version_major": 2,
       "version_minor": 0
      },
      "text/plain": [
       "  0%|          | 0/2 [00:00<?, ?it/s]"
      ]
     },
     "metadata": {},
     "output_type": "display_data"
    },
    {
     "data": {
      "application/vnd.jupyter.widget-view+json": {
       "model_id": "014d387b4f334e2288edfa7ccc16da94",
       "version_major": 2,
       "version_minor": 0
      },
      "text/plain": [
       "  0%|          | 0/1 [00:00<?, ?it/s]"
      ]
     },
     "metadata": {},
     "output_type": "display_data"
    },
    {
     "data": {
      "application/vnd.jupyter.widget-view+json": {
       "model_id": "50698340a7aa4c478a2f5b2d9d5ccae1",
       "version_major": 2,
       "version_minor": 0
      },
      "text/plain": [
       "  0%|          | 0/3 [00:00<?, ?it/s]"
      ]
     },
     "metadata": {},
     "output_type": "display_data"
    },
    {
     "data": {
      "application/vnd.jupyter.widget-view+json": {
       "model_id": "bf089c96994c4272a451e5d240dc026c",
       "version_major": 2,
       "version_minor": 0
      },
      "text/plain": [
       "  0%|          | 0/1 [00:00<?, ?it/s]"
      ]
     },
     "metadata": {},
     "output_type": "display_data"
    },
    {
     "data": {
      "application/vnd.jupyter.widget-view+json": {
       "model_id": "70ee289573d341b8864a8b18fca77c20",
       "version_major": 2,
       "version_minor": 0
      },
      "text/plain": [
       "  0%|          | 0/2 [00:00<?, ?it/s]"
      ]
     },
     "metadata": {},
     "output_type": "display_data"
    },
    {
     "data": {
      "application/vnd.jupyter.widget-view+json": {
       "model_id": "de99b74c0cfb4ab3bd9fc8da973c7c16",
       "version_major": 2,
       "version_minor": 0
      },
      "text/plain": [
       "  0%|          | 0/2 [00:00<?, ?it/s]"
      ]
     },
     "metadata": {},
     "output_type": "display_data"
    },
    {
     "data": {
      "application/vnd.jupyter.widget-view+json": {
       "model_id": "5ece6de14a684743a9c2696271e0c58b",
       "version_major": 2,
       "version_minor": 0
      },
      "text/plain": [
       "  0%|          | 0/1 [00:00<?, ?it/s]"
      ]
     },
     "metadata": {},
     "output_type": "display_data"
    },
    {
     "data": {
      "application/vnd.jupyter.widget-view+json": {
       "model_id": "fe0a6f0ef6a04a32a37af4a5c8c50a5f",
       "version_major": 2,
       "version_minor": 0
      },
      "text/plain": [
       "  0%|          | 0/1 [00:00<?, ?it/s]"
      ]
     },
     "metadata": {},
     "output_type": "display_data"
    },
    {
     "data": {
      "application/vnd.jupyter.widget-view+json": {
       "model_id": "591e62f250094d44bf632c03f07a48c5",
       "version_major": 2,
       "version_minor": 0
      },
      "text/plain": [
       "  0%|          | 0/1 [00:00<?, ?it/s]"
      ]
     },
     "metadata": {},
     "output_type": "display_data"
    },
    {
     "data": {
      "application/vnd.jupyter.widget-view+json": {
       "model_id": "32fd6ac69b3d40efab354996eded4d76",
       "version_major": 2,
       "version_minor": 0
      },
      "text/plain": [
       "  0%|          | 0/1 [00:00<?, ?it/s]"
      ]
     },
     "metadata": {},
     "output_type": "display_data"
    },
    {
     "data": {
      "application/vnd.jupyter.widget-view+json": {
       "model_id": "e8918b70c5924f2e8d0e804aab8f0d64",
       "version_major": 2,
       "version_minor": 0
      },
      "text/plain": [
       "  0%|          | 0/2 [00:00<?, ?it/s]"
      ]
     },
     "metadata": {},
     "output_type": "display_data"
    },
    {
     "data": {
      "application/vnd.jupyter.widget-view+json": {
       "model_id": "808bf2cba300437187b398f2d68b65d1",
       "version_major": 2,
       "version_minor": 0
      },
      "text/plain": [
       "  0%|          | 0/1 [00:00<?, ?it/s]"
      ]
     },
     "metadata": {},
     "output_type": "display_data"
    },
    {
     "data": {
      "application/vnd.jupyter.widget-view+json": {
       "model_id": "7a539335070b4a7185969ec9c0da51f9",
       "version_major": 2,
       "version_minor": 0
      },
      "text/plain": [
       "  0%|          | 0/1 [00:00<?, ?it/s]"
      ]
     },
     "metadata": {},
     "output_type": "display_data"
    },
    {
     "data": {
      "application/vnd.jupyter.widget-view+json": {
       "model_id": "9102d65cd17d45c6b222a0970ed403f8",
       "version_major": 2,
       "version_minor": 0
      },
      "text/plain": [
       "  0%|          | 0/2 [00:00<?, ?it/s]"
      ]
     },
     "metadata": {},
     "output_type": "display_data"
    },
    {
     "data": {
      "application/vnd.jupyter.widget-view+json": {
       "model_id": "ffb9bcb7f3af4bcbaec295cb7f7b2df6",
       "version_major": 2,
       "version_minor": 0
      },
      "text/plain": [
       "  0%|          | 0/1 [00:00<?, ?it/s]"
      ]
     },
     "metadata": {},
     "output_type": "display_data"
    },
    {
     "data": {
      "application/vnd.jupyter.widget-view+json": {
       "model_id": "d84e5bda7e864c8bae6a57d7ee629214",
       "version_major": 2,
       "version_minor": 0
      },
      "text/plain": [
       "  0%|          | 0/1 [00:00<?, ?it/s]"
      ]
     },
     "metadata": {},
     "output_type": "display_data"
    },
    {
     "data": {
      "application/vnd.jupyter.widget-view+json": {
       "model_id": "43a0c63b699d4dde8aa4db28a0c83fd4",
       "version_major": 2,
       "version_minor": 0
      },
      "text/plain": [
       "  0%|          | 0/1 [00:00<?, ?it/s]"
      ]
     },
     "metadata": {},
     "output_type": "display_data"
    },
    {
     "data": {
      "application/vnd.jupyter.widget-view+json": {
       "model_id": "d668b61e52de49f3a4f6a121b498bc47",
       "version_major": 2,
       "version_minor": 0
      },
      "text/plain": [
       "  0%|          | 0/1 [00:00<?, ?it/s]"
      ]
     },
     "metadata": {},
     "output_type": "display_data"
    },
    {
     "data": {
      "application/vnd.jupyter.widget-view+json": {
       "model_id": "0edae92bcd564df6ba2ba57d4a379ab1",
       "version_major": 2,
       "version_minor": 0
      },
      "text/plain": [
       "  0%|          | 0/2 [00:00<?, ?it/s]"
      ]
     },
     "metadata": {},
     "output_type": "display_data"
    },
    {
     "data": {
      "application/vnd.jupyter.widget-view+json": {
       "model_id": "257d760f1b6b4e4191364762315e646e",
       "version_major": 2,
       "version_minor": 0
      },
      "text/plain": [
       "  0%|          | 0/1 [00:00<?, ?it/s]"
      ]
     },
     "metadata": {},
     "output_type": "display_data"
    },
    {
     "data": {
      "application/vnd.jupyter.widget-view+json": {
       "model_id": "13a43235a5654414af0cd6a3c6ed05d1",
       "version_major": 2,
       "version_minor": 0
      },
      "text/plain": [
       "  0%|          | 0/1 [00:00<?, ?it/s]"
      ]
     },
     "metadata": {},
     "output_type": "display_data"
    },
    {
     "data": {
      "application/vnd.jupyter.widget-view+json": {
       "model_id": "5e9ae35f934e419b835d36819de439c9",
       "version_major": 2,
       "version_minor": 0
      },
      "text/plain": [
       "  0%|          | 0/2 [00:00<?, ?it/s]"
      ]
     },
     "metadata": {},
     "output_type": "display_data"
    },
    {
     "data": {
      "application/vnd.jupyter.widget-view+json": {
       "model_id": "e60e853d3f864c25809a295154d90393",
       "version_major": 2,
       "version_minor": 0
      },
      "text/plain": [
       "  0%|          | 0/1 [00:00<?, ?it/s]"
      ]
     },
     "metadata": {},
     "output_type": "display_data"
    },
    {
     "data": {
      "application/vnd.jupyter.widget-view+json": {
       "model_id": "acc3a3a726fd40c5ade0093ddfacc6e3",
       "version_major": 2,
       "version_minor": 0
      },
      "text/plain": [
       "  0%|          | 0/1 [00:00<?, ?it/s]"
      ]
     },
     "metadata": {},
     "output_type": "display_data"
    },
    {
     "data": {
      "application/vnd.jupyter.widget-view+json": {
       "model_id": "a6bd1cc6a5d94ea990643f37f1174cdc",
       "version_major": 2,
       "version_minor": 0
      },
      "text/plain": [
       "  0%|          | 0/1 [00:00<?, ?it/s]"
      ]
     },
     "metadata": {},
     "output_type": "display_data"
    },
    {
     "data": {
      "application/vnd.jupyter.widget-view+json": {
       "model_id": "a2059a41f42c455b9720c052a3c11f55",
       "version_major": 2,
       "version_minor": 0
      },
      "text/plain": [
       "  0%|          | 0/1 [00:00<?, ?it/s]"
      ]
     },
     "metadata": {},
     "output_type": "display_data"
    },
    {
     "data": {
      "application/vnd.jupyter.widget-view+json": {
       "model_id": "b5cae0a0697f45068c364097e2e40c11",
       "version_major": 2,
       "version_minor": 0
      },
      "text/plain": [
       "  0%|          | 0/1 [00:00<?, ?it/s]"
      ]
     },
     "metadata": {},
     "output_type": "display_data"
    },
    {
     "data": {
      "application/vnd.jupyter.widget-view+json": {
       "model_id": "4bf5134ef98741138af2271b2811e4be",
       "version_major": 2,
       "version_minor": 0
      },
      "text/plain": [
       "  0%|          | 0/1 [00:00<?, ?it/s]"
      ]
     },
     "metadata": {},
     "output_type": "display_data"
    },
    {
     "data": {
      "application/vnd.jupyter.widget-view+json": {
       "model_id": "7755872bd267495ebfce757421b8c1be",
       "version_major": 2,
       "version_minor": 0
      },
      "text/plain": [
       "  0%|          | 0/1 [00:00<?, ?it/s]"
      ]
     },
     "metadata": {},
     "output_type": "display_data"
    },
    {
     "data": {
      "application/vnd.jupyter.widget-view+json": {
       "model_id": "4bf4012d1bb4472e9b8fcd8da077544a",
       "version_major": 2,
       "version_minor": 0
      },
      "text/plain": [
       "  0%|          | 0/1 [00:00<?, ?it/s]"
      ]
     },
     "metadata": {},
     "output_type": "display_data"
    },
    {
     "data": {
      "application/vnd.jupyter.widget-view+json": {
       "model_id": "6b475eaa33de4dd8b00a3afe21bfa560",
       "version_major": 2,
       "version_minor": 0
      },
      "text/plain": [
       "  0%|          | 0/1 [00:00<?, ?it/s]"
      ]
     },
     "metadata": {},
     "output_type": "display_data"
    },
    {
     "data": {
      "application/vnd.jupyter.widget-view+json": {
       "model_id": "6eb4771207db40bd8b5af04e3e00651c",
       "version_major": 2,
       "version_minor": 0
      },
      "text/plain": [
       "  0%|          | 0/1 [00:00<?, ?it/s]"
      ]
     },
     "metadata": {},
     "output_type": "display_data"
    },
    {
     "data": {
      "application/vnd.jupyter.widget-view+json": {
       "model_id": "88177acb4d36465cb159ca3b252ec678",
       "version_major": 2,
       "version_minor": 0
      },
      "text/plain": [
       "  0%|          | 0/1 [00:00<?, ?it/s]"
      ]
     },
     "metadata": {},
     "output_type": "display_data"
    },
    {
     "data": {
      "application/vnd.jupyter.widget-view+json": {
       "model_id": "42d5305eb75a456e9695970590506591",
       "version_major": 2,
       "version_minor": 0
      },
      "text/plain": [
       "  0%|          | 0/1 [00:00<?, ?it/s]"
      ]
     },
     "metadata": {},
     "output_type": "display_data"
    },
    {
     "data": {
      "application/vnd.jupyter.widget-view+json": {
       "model_id": "5112b7d139fd4c9e92760668de5402a9",
       "version_major": 2,
       "version_minor": 0
      },
      "text/plain": [
       "  0%|          | 0/1 [00:00<?, ?it/s]"
      ]
     },
     "metadata": {},
     "output_type": "display_data"
    },
    {
     "data": {
      "application/vnd.jupyter.widget-view+json": {
       "model_id": "acc2da43b0564bc3a06be566df10d84e",
       "version_major": 2,
       "version_minor": 0
      },
      "text/plain": [
       "  0%|          | 0/1 [00:00<?, ?it/s]"
      ]
     },
     "metadata": {},
     "output_type": "display_data"
    },
    {
     "data": {
      "application/vnd.jupyter.widget-view+json": {
       "model_id": "49b13ddbd10546df91bb0978c9b59171",
       "version_major": 2,
       "version_minor": 0
      },
      "text/plain": [
       "  0%|          | 0/2 [00:00<?, ?it/s]"
      ]
     },
     "metadata": {},
     "output_type": "display_data"
    },
    {
     "data": {
      "application/vnd.jupyter.widget-view+json": {
       "model_id": "a746ce99176b4a458812f209fb9b43ea",
       "version_major": 2,
       "version_minor": 0
      },
      "text/plain": [
       "  0%|          | 0/1 [00:00<?, ?it/s]"
      ]
     },
     "metadata": {},
     "output_type": "display_data"
    },
    {
     "data": {
      "application/vnd.jupyter.widget-view+json": {
       "model_id": "82bfe02ab6b640a5b270cc714e86735c",
       "version_major": 2,
       "version_minor": 0
      },
      "text/plain": [
       "  0%|          | 0/1 [00:00<?, ?it/s]"
      ]
     },
     "metadata": {},
     "output_type": "display_data"
    },
    {
     "data": {
      "application/vnd.jupyter.widget-view+json": {
       "model_id": "07ee612ac74143d0abaa3b8f2dee82ee",
       "version_major": 2,
       "version_minor": 0
      },
      "text/plain": [
       "  0%|          | 0/1 [00:00<?, ?it/s]"
      ]
     },
     "metadata": {},
     "output_type": "display_data"
    },
    {
     "data": {
      "application/vnd.jupyter.widget-view+json": {
       "model_id": "684ad777e3924f329ac5f5cf1954e89b",
       "version_major": 2,
       "version_minor": 0
      },
      "text/plain": [
       "  0%|          | 0/1 [00:00<?, ?it/s]"
      ]
     },
     "metadata": {},
     "output_type": "display_data"
    },
    {
     "data": {
      "application/vnd.jupyter.widget-view+json": {
       "model_id": "a84fdb6747a1489ea8abc425a016fb46",
       "version_major": 2,
       "version_minor": 0
      },
      "text/plain": [
       "  0%|          | 0/1 [00:00<?, ?it/s]"
      ]
     },
     "metadata": {},
     "output_type": "display_data"
    },
    {
     "data": {
      "application/vnd.jupyter.widget-view+json": {
       "model_id": "7d59f5879786435fa55e7f867ef1733b",
       "version_major": 2,
       "version_minor": 0
      },
      "text/plain": [
       "  0%|          | 0/1 [00:00<?, ?it/s]"
      ]
     },
     "metadata": {},
     "output_type": "display_data"
    },
    {
     "data": {
      "application/vnd.jupyter.widget-view+json": {
       "model_id": "86af0c69caa54be0970634b2dbc56e91",
       "version_major": 2,
       "version_minor": 0
      },
      "text/plain": [
       "  0%|          | 0/1 [00:00<?, ?it/s]"
      ]
     },
     "metadata": {},
     "output_type": "display_data"
    },
    {
     "data": {
      "application/vnd.jupyter.widget-view+json": {
       "model_id": "81b920f834ed4df79fbeb354d79c6ce9",
       "version_major": 2,
       "version_minor": 0
      },
      "text/plain": [
       "  0%|          | 0/1 [00:00<?, ?it/s]"
      ]
     },
     "metadata": {},
     "output_type": "display_data"
    },
    {
     "data": {
      "application/vnd.jupyter.widget-view+json": {
       "model_id": "807a29c3954c41fc8fcfc7bd141e4b7d",
       "version_major": 2,
       "version_minor": 0
      },
      "text/plain": [
       "  0%|          | 0/1 [00:00<?, ?it/s]"
      ]
     },
     "metadata": {},
     "output_type": "display_data"
    },
    {
     "data": {
      "application/vnd.jupyter.widget-view+json": {
       "model_id": "bbd9ea1cd2454406a754be2a89ff43a5",
       "version_major": 2,
       "version_minor": 0
      },
      "text/plain": [
       "  0%|          | 0/1 [00:00<?, ?it/s]"
      ]
     },
     "metadata": {},
     "output_type": "display_data"
    },
    {
     "data": {
      "application/vnd.jupyter.widget-view+json": {
       "model_id": "4387f199a0114c8a9d7caa2a30d746ef",
       "version_major": 2,
       "version_minor": 0
      },
      "text/plain": [
       "  0%|          | 0/1 [00:00<?, ?it/s]"
      ]
     },
     "metadata": {},
     "output_type": "display_data"
    },
    {
     "data": {
      "application/vnd.jupyter.widget-view+json": {
       "model_id": "16f32e432a5840edbc93c5504727ca4d",
       "version_major": 2,
       "version_minor": 0
      },
      "text/plain": [
       "  0%|          | 0/1 [00:00<?, ?it/s]"
      ]
     },
     "metadata": {},
     "output_type": "display_data"
    },
    {
     "data": {
      "application/vnd.jupyter.widget-view+json": {
       "model_id": "38386b139bb44e4b8c8a498c37bf3d6e",
       "version_major": 2,
       "version_minor": 0
      },
      "text/plain": [
       "  0%|          | 0/1 [00:00<?, ?it/s]"
      ]
     },
     "metadata": {},
     "output_type": "display_data"
    },
    {
     "data": {
      "application/vnd.jupyter.widget-view+json": {
       "model_id": "8c030a69d91842f8886388ad89856ddd",
       "version_major": 2,
       "version_minor": 0
      },
      "text/plain": [
       "  0%|          | 0/1 [00:00<?, ?it/s]"
      ]
     },
     "metadata": {},
     "output_type": "display_data"
    },
    {
     "data": {
      "application/vnd.jupyter.widget-view+json": {
       "model_id": "207c2af5adba43c1b7615b40f115b8fd",
       "version_major": 2,
       "version_minor": 0
      },
      "text/plain": [
       "  0%|          | 0/1 [00:00<?, ?it/s]"
      ]
     },
     "metadata": {},
     "output_type": "display_data"
    },
    {
     "data": {
      "application/vnd.jupyter.widget-view+json": {
       "model_id": "5591fb840b434108baa7bb6fbf1570c2",
       "version_major": 2,
       "version_minor": 0
      },
      "text/plain": [
       "  0%|          | 0/1 [00:00<?, ?it/s]"
      ]
     },
     "metadata": {},
     "output_type": "display_data"
    },
    {
     "data": {
      "application/vnd.jupyter.widget-view+json": {
       "model_id": "180a75a6c7e54ce997fc61b073062fe9",
       "version_major": 2,
       "version_minor": 0
      },
      "text/plain": [
       "  0%|          | 0/1 [00:00<?, ?it/s]"
      ]
     },
     "metadata": {},
     "output_type": "display_data"
    },
    {
     "data": {
      "application/vnd.jupyter.widget-view+json": {
       "model_id": "57df4c44606941019616344f625b123e",
       "version_major": 2,
       "version_minor": 0
      },
      "text/plain": [
       "  0%|          | 0/1 [00:00<?, ?it/s]"
      ]
     },
     "metadata": {},
     "output_type": "display_data"
    }
   ],
   "source": [
    "denials_file = \"Twitter_scrapped/deniers/{}.csv\".format(today)\n",
    "denials_to_process = denials[denials.exist==True]\n",
    "if SCRAP_DENIALS:\n",
    "    if os.path.isfile(denials_file):\n",
    "        tweets_denials = pd.read_csv(denials_file)\n",
    "        handles_process = list(\n",
    "            set(denials_to_process.screen_name.unique()) - set(tweets_denials.username.unique()))\n",
    "    else:\n",
    "        tweets_denials = pd.DataFrame()\n",
    "        handles_process = denials_to_process.screen_name.unique()\n",
    "\n",
    "    for username in tqdm(handles_process):\n",
    "        handle_tweets = extract_data(\"from:{} -is:retweet\".format(username), 100)\n",
    "        handle_tweets[\"username\"] = username\n",
    "        tweets_denials = pd.concat([tweets, handle_tweets])\n",
    "        tweets_denials.to_csv(file, index=False)"
   ]
  },
  {
   "cell_type": "code",
   "execution_count": 51,
   "id": "ab819b60",
   "metadata": {
    "ExecuteTime": {
     "end_time": "2022-12-06T06:25:26.970180Z",
     "start_time": "2022-12-06T06:25:26.950776Z"
    }
   },
   "outputs": [
    {
     "data": {
      "text/html": [
       "<div>\n",
       "<style scoped>\n",
       "    .dataframe tbody tr th:only-of-type {\n",
       "        vertical-align: middle;\n",
       "    }\n",
       "\n",
       "    .dataframe tbody tr th {\n",
       "        vertical-align: top;\n",
       "    }\n",
       "\n",
       "    .dataframe thead th {\n",
       "        text-align: right;\n",
       "    }\n",
       "</style>\n",
       "<table border=\"1\" class=\"dataframe\">\n",
       "  <thead>\n",
       "    <tr style=\"text-align: right;\">\n",
       "      <th></th>\n",
       "      <th>text</th>\n",
       "      <th>public_metrics</th>\n",
       "      <th>created_at</th>\n",
       "      <th>lang</th>\n",
       "      <th>source</th>\n",
       "      <th>reply_settings</th>\n",
       "      <th>id</th>\n",
       "      <th>edit_history_tweet_ids</th>\n",
       "      <th>conversation_id</th>\n",
       "      <th>author_id</th>\n",
       "      <th>in_reply_to_user_id</th>\n",
       "      <th>referenced_tweets</th>\n",
       "      <th>geo</th>\n",
       "      <th>username</th>\n",
       "      <th>roberta_preprocessed</th>\n",
       "      <th>roberta_pred</th>\n",
       "      <th>roberta_proba</th>\n",
       "      <th>preprocessed_text</th>\n",
       "    </tr>\n",
       "  </thead>\n",
       "  <tbody>\n",
       "    <tr>\n",
       "      <th>3734</th>\n",
       "      <td>@Heritage https://t.co/j9bGsDm4SL</td>\n",
       "      <td>{'retweet_count': 0, 'reply_count': 0, 'like_count': 0, 'quote_count': 0}</td>\n",
       "      <td>2022-11-30T18:25:49.000Z</td>\n",
       "      <td>qme</td>\n",
       "      <td>Twitter Web App</td>\n",
       "      <td>everyone</td>\n",
       "      <td>1598020491096526848</td>\n",
       "      <td>[1598020491096526848]</td>\n",
       "      <td>1597771547351322624</td>\n",
       "      <td>1551589711797522434</td>\n",
       "      <td>10168082</td>\n",
       "      <td>[{'type': 'quoted', 'id': '1573074512597368833'}, {'type': 'replied_to', 'id': '1597771547351322624'}]</td>\n",
       "      <td>NaN</td>\n",
       "      <td>Heritage</td>\n",
       "      <td>@Heritage https://t.co/j9bGsDm4SL</td>\n",
       "      <td>0_0</td>\n",
       "      <td>0.999803</td>\n",
       "      <td></td>\n",
       "    </tr>\n",
       "    <tr>\n",
       "      <th>123</th>\n",
       "      <td>What Americans Must Know About Socialism via @Heritage @LeeWEdwards https://t.co/bkhGUGJEyV</td>\n",
       "      <td>{'retweet_count': 0, 'reply_count': 0, 'like_count': 0, 'quote_count': 0}</td>\n",
       "      <td>2022-12-04T22:04:35.000Z</td>\n",
       "      <td>en</td>\n",
       "      <td>Twitter Web App</td>\n",
       "      <td>everyone</td>\n",
       "      <td>1599525096955138048</td>\n",
       "      <td>[1599525096955138048]</td>\n",
       "      <td>1599525096955138048</td>\n",
       "      <td>1598117296559497216</td>\n",
       "      <td>NaN</td>\n",
       "      <td>NaN</td>\n",
       "      <td>NaN</td>\n",
       "      <td>Heritage</td>\n",
       "      <td>What Americans Must Know About Socialism via @Heritage @LeeWEdwards https://t.co/bkhGUGJEyV</td>\n",
       "      <td>0_0</td>\n",
       "      <td>0.999820</td>\n",
       "      <td>what americans must know about socialism via</td>\n",
       "    </tr>\n",
       "    <tr>\n",
       "      <th>7748</th>\n",
       "      <td>@Heritage https://t.co/nVWJXtMaO9</td>\n",
       "      <td>{'retweet_count': 0, 'reply_count': 0, 'like_count': 0, 'quote_count': 0}</td>\n",
       "      <td>2022-11-30T01:06:21.000Z</td>\n",
       "      <td>qme</td>\n",
       "      <td>Twitter Web App</td>\n",
       "      <td>everyone</td>\n",
       "      <td>1597758900195201024</td>\n",
       "      <td>[1597758900195201024]</td>\n",
       "      <td>1597736519732580352</td>\n",
       "      <td>1230335584121450497</td>\n",
       "      <td>10168082</td>\n",
       "      <td>[{'type': 'replied_to', 'id': '1597736519732580352'}]</td>\n",
       "      <td>NaN</td>\n",
       "      <td>Heritage</td>\n",
       "      <td>@Heritage https://t.co/nVWJXtMaO9</td>\n",
       "      <td>0_0</td>\n",
       "      <td>0.999797</td>\n",
       "      <td></td>\n",
       "    </tr>\n",
       "    <tr>\n",
       "      <th>5113</th>\n",
       "      <td>@Heritage HAHAHAHA! GET F*CKED! https://t.co/oJAOLXcJ7s</td>\n",
       "      <td>{'retweet_count': 0, 'reply_count': 0, 'like_count': 0, 'quote_count': 0}</td>\n",
       "      <td>2022-11-30T06:31:23.000Z</td>\n",
       "      <td>tl</td>\n",
       "      <td>Twitter for Android</td>\n",
       "      <td>everyone</td>\n",
       "      <td>1597840699692810241</td>\n",
       "      <td>[1597840699692810241]</td>\n",
       "      <td>1597734800848453633</td>\n",
       "      <td>1591157718160736273</td>\n",
       "      <td>10168082</td>\n",
       "      <td>[{'type': 'replied_to', 'id': '1597736277868412928'}]</td>\n",
       "      <td>NaN</td>\n",
       "      <td>Heritage</td>\n",
       "      <td>@Heritage HAHAHAHA! GET F*CKED! https://t.co/oJAOLXcJ7s</td>\n",
       "      <td>0_0</td>\n",
       "      <td>0.999690</td>\n",
       "      <td>hahahaha! get f*cked!</td>\n",
       "    </tr>\n",
       "    <tr>\n",
       "      <th>4402</th>\n",
       "      <td>@971FMTalk @MarkReardonKFTK @Heritage @Tom_Basile @ChiefTimFitch @JimTalent @TommyPigott @susan6768 @hobold_abby Trump 2024.</td>\n",
       "      <td>{'retweet_count': 0, 'reply_count': 0, 'like_count': 0, 'quote_count': 0}</td>\n",
       "      <td>2022-11-30T14:39:14.000Z</td>\n",
       "      <td>en</td>\n",
       "      <td>Twitter for Android</td>\n",
       "      <td>everyone</td>\n",
       "      <td>1597963469089017862</td>\n",
       "      <td>[1597963469089017862]</td>\n",
       "      <td>1597698244196601857</td>\n",
       "      <td>2537478487</td>\n",
       "      <td>38711343</td>\n",
       "      <td>[{'type': 'replied_to', 'id': '1597698244196601857'}]</td>\n",
       "      <td>NaN</td>\n",
       "      <td>Heritage</td>\n",
       "      <td>@971FMTalk @MarkReardonKFTK @Heritage @Tom Basile @ChiefTimFitch @JimTalent @TommyPigott @susan6768 @hobold abby Trump 2024.</td>\n",
       "      <td>0_0</td>\n",
       "      <td>0.999780</td>\n",
       "      <td>trump 2024.</td>\n",
       "    </tr>\n",
       "  </tbody>\n",
       "</table>\n",
       "</div>"
      ],
      "text/plain": [
       "                                                                                                                              text  \\\n",
       "3734                                                                                             @Heritage https://t.co/j9bGsDm4SL   \n",
       "123                                    What Americans Must Know About Socialism via @Heritage @LeeWEdwards https://t.co/bkhGUGJEyV   \n",
       "7748                                                                                             @Heritage https://t.co/nVWJXtMaO9   \n",
       "5113                                                                       @Heritage HAHAHAHA! GET F*CKED! https://t.co/oJAOLXcJ7s   \n",
       "4402  @971FMTalk @MarkReardonKFTK @Heritage @Tom_Basile @ChiefTimFitch @JimTalent @TommyPigott @susan6768 @hobold_abby Trump 2024.   \n",
       "\n",
       "                                                                 public_metrics  \\\n",
       "3734  {'retweet_count': 0, 'reply_count': 0, 'like_count': 0, 'quote_count': 0}   \n",
       "123   {'retweet_count': 0, 'reply_count': 0, 'like_count': 0, 'quote_count': 0}   \n",
       "7748  {'retweet_count': 0, 'reply_count': 0, 'like_count': 0, 'quote_count': 0}   \n",
       "5113  {'retweet_count': 0, 'reply_count': 0, 'like_count': 0, 'quote_count': 0}   \n",
       "4402  {'retweet_count': 0, 'reply_count': 0, 'like_count': 0, 'quote_count': 0}   \n",
       "\n",
       "                    created_at lang               source reply_settings  \\\n",
       "3734  2022-11-30T18:25:49.000Z  qme      Twitter Web App       everyone   \n",
       "123   2022-12-04T22:04:35.000Z   en      Twitter Web App       everyone   \n",
       "7748  2022-11-30T01:06:21.000Z  qme      Twitter Web App       everyone   \n",
       "5113  2022-11-30T06:31:23.000Z   tl  Twitter for Android       everyone   \n",
       "4402  2022-11-30T14:39:14.000Z   en  Twitter for Android       everyone   \n",
       "\n",
       "                       id edit_history_tweet_ids      conversation_id  \\\n",
       "3734  1598020491096526848  [1598020491096526848]  1597771547351322624   \n",
       "123   1599525096955138048  [1599525096955138048]  1599525096955138048   \n",
       "7748  1597758900195201024  [1597758900195201024]  1597736519732580352   \n",
       "5113  1597840699692810241  [1597840699692810241]  1597734800848453633   \n",
       "4402  1597963469089017862  [1597963469089017862]  1597698244196601857   \n",
       "\n",
       "                author_id in_reply_to_user_id  \\\n",
       "3734  1551589711797522434            10168082   \n",
       "123   1598117296559497216                 NaN   \n",
       "7748  1230335584121450497            10168082   \n",
       "5113  1591157718160736273            10168082   \n",
       "4402           2537478487            38711343   \n",
       "\n",
       "                                                                                           referenced_tweets  \\\n",
       "3734  [{'type': 'quoted', 'id': '1573074512597368833'}, {'type': 'replied_to', 'id': '1597771547351322624'}]   \n",
       "123                                                                                                      NaN   \n",
       "7748                                                   [{'type': 'replied_to', 'id': '1597736519732580352'}]   \n",
       "5113                                                   [{'type': 'replied_to', 'id': '1597736277868412928'}]   \n",
       "4402                                                   [{'type': 'replied_to', 'id': '1597698244196601857'}]   \n",
       "\n",
       "      geo  username  \\\n",
       "3734  NaN  Heritage   \n",
       "123   NaN  Heritage   \n",
       "7748  NaN  Heritage   \n",
       "5113  NaN  Heritage   \n",
       "4402  NaN  Heritage   \n",
       "\n",
       "                                                                                                              roberta_preprocessed  \\\n",
       "3734                                                                                             @Heritage https://t.co/j9bGsDm4SL   \n",
       "123                                    What Americans Must Know About Socialism via @Heritage @LeeWEdwards https://t.co/bkhGUGJEyV   \n",
       "7748                                                                                             @Heritage https://t.co/nVWJXtMaO9   \n",
       "5113                                                                       @Heritage HAHAHAHA! GET F*CKED! https://t.co/oJAOLXcJ7s   \n",
       "4402  @971FMTalk @MarkReardonKFTK @Heritage @Tom Basile @ChiefTimFitch @JimTalent @TommyPigott @susan6768 @hobold abby Trump 2024.   \n",
       "\n",
       "     roberta_pred  roberta_proba                             preprocessed_text  \n",
       "3734          0_0       0.999803                                                \n",
       "123           0_0       0.999820  what americans must know about socialism via  \n",
       "7748          0_0       0.999797                                                \n",
       "5113          0_0       0.999690                         hahahaha! get f*cked!  \n",
       "4402          0_0       0.999780                                   trump 2024.  "
      ]
     },
     "execution_count": 51,
     "metadata": {},
     "output_type": "execute_result"
    }
   ],
   "source": [
    "tweets_denials.sample(5)"
   ]
  },
  {
   "cell_type": "markdown",
   "id": "8c439718",
   "metadata": {},
   "source": [
    "## Model\n",
    "### #ClimateScam"
   ]
  },
  {
   "cell_type": "code",
   "execution_count": 16,
   "id": "dc9c1fec",
   "metadata": {
    "ExecuteTime": {
     "end_time": "2022-12-05T23:30:35.408772Z",
     "start_time": "2022-12-05T23:30:35.364434Z"
    }
   },
   "outputs": [],
   "source": [
    "import unicodedata\n",
    "\n",
    "# Load and pre-process the text data\n",
    "# Define text pre-processing functions\n",
    "def remove_between_square_brackets(text):\n",
    "    return re.sub('\\[[^]]*\\]', '', text)\n",
    "def remove_non_ascii(text):\n",
    "    \"\"\"Remove non-ASCII characters from list of tokenized words\"\"\"\n",
    "    return unicodedata.normalize('NFKD', text).encode('ascii', 'ignore').decode('utf-8', 'ignore')\n",
    "def strip_underscores(text):\n",
    "    return re.sub(r'_+', ' ', text)\n",
    "def remove_multiple_spaces(text):\n",
    "    return re.sub(r'\\s{2,}', ' ', text)\n",
    "\n",
    "# Merge text pre-processing functions\n",
    "def denoise_text(text):\n",
    "    text = remove_between_square_brackets(text)\n",
    "    text = remove_non_ascii(text)\n",
    "    text = strip_underscores(text)\n",
    "    text = remove_multiple_spaces(text)\n",
    "    return text.strip()\n",
    "\n",
    "\n",
    "# Pre-process the text\n",
    "climate_scam_hashtag['roberta_preprocessed'] = climate_scam_hashtag[\"text\"].astype(str).apply(denoise_text)"
   ]
  },
  {
   "cell_type": "code",
   "execution_count": 17,
   "id": "37021080",
   "metadata": {
    "ExecuteTime": {
     "end_time": "2022-12-05T23:30:43.671308Z",
     "start_time": "2022-12-05T23:30:37.873820Z"
    }
   },
   "outputs": [
    {
     "name": "stderr",
     "output_type": "stream",
     "text": [
      "Some weights of the model checkpoint at cards/models/CARDS_RoBERTa_Classifier were not used when initializing RobertaForSequenceClassification: ['roberta.pooler.dense.bias', 'roberta.pooler.dense.weight']\n",
      "- This IS expected if you are initializing RobertaForSequenceClassification from the checkpoint of a model trained on another task or with another architecture (e.g. initializing a BertForSequenceClassification model from a BertForPreTraining model).\n",
      "- This IS NOT expected if you are initializing RobertaForSequenceClassification from the checkpoint of a model that you expect to be exactly identical (initializing a BertForSequenceClassification model from a BertForSequenceClassification model).\n"
     ]
    }
   ],
   "source": [
    "import torch\n",
    "from simpletransformers.classification import ClassificationModel\n",
    "\n",
    "device = torch.device(\"cpu\")\n",
    "# Define the model \n",
    "architecture = 'roberta'\n",
    "# model_name = 'CARDS_RoBERTa_Classifier'\n",
    "model_name = \"cards/models/CARDS_RoBERTa_Classifier\"\n",
    "\n",
    "# Load the classifier\n",
    "roberta_model = ClassificationModel(architecture, model_name, use_cuda=False)"
   ]
  },
  {
   "cell_type": "code",
   "execution_count": 18,
   "id": "d7b9061e",
   "metadata": {
    "ExecuteTime": {
     "end_time": "2022-12-06T00:44:56.974110Z",
     "start_time": "2022-12-05T23:30:43.672861Z"
    }
   },
   "outputs": [
    {
     "data": {
      "application/vnd.jupyter.widget-view+json": {
       "model_id": "4bf539b5a6a248f9b87744635967dc12",
       "version_major": 2,
       "version_minor": 0
      },
      "text/plain": [
       "  0%|          | 0/4988 [00:00<?, ?it/s]"
      ]
     },
     "metadata": {},
     "output_type": "display_data"
    },
    {
     "data": {
      "application/vnd.jupyter.widget-view+json": {
       "model_id": "ee8b6728406347b0bdfe9fcbe2cbba96",
       "version_major": 2,
       "version_minor": 0
      },
      "text/plain": [
       "  0%|          | 0/627 [00:00<?, ?it/s]"
      ]
     },
     "metadata": {},
     "output_type": "display_data"
    }
   ],
   "source": [
    "predictions, raw_outputs = roberta_model.predict(list(climate_scam_hashtag.roberta_preprocessed))"
   ]
  },
  {
   "cell_type": "code",
   "execution_count": 19,
   "id": "dc899708",
   "metadata": {
    "ExecuteTime": {
     "end_time": "2022-12-06T00:44:56.977600Z",
     "start_time": "2022-12-06T00:44:56.975469Z"
    }
   },
   "outputs": [],
   "source": [
    "le = pickle.load(open(\"le_cards.pkl\", 'rb'))"
   ]
  },
  {
   "cell_type": "code",
   "execution_count": 20,
   "id": "78abce1b",
   "metadata": {
    "ExecuteTime": {
     "end_time": "2022-12-06T01:02:08.542068Z",
     "start_time": "2022-12-06T01:02:08.434741Z"
    }
   },
   "outputs": [],
   "source": [
    "climate_scam_hashtag['roberta_pred'] = le.inverse_transform(predictions)\n",
    "climate_scam_hashtag['roberta_proba'] = [max(softmax(element[0])) for element in raw_outputs]"
   ]
  },
  {
   "cell_type": "code",
   "execution_count": 21,
   "id": "c9fae45f",
   "metadata": {
    "ExecuteTime": {
     "end_time": "2022-12-06T01:02:10.449006Z",
     "start_time": "2022-12-06T01:02:10.436064Z"
    }
   },
   "outputs": [
    {
     "data": {
      "text/html": [
       "<div>\n",
       "<style scoped>\n",
       "    .dataframe tbody tr th:only-of-type {\n",
       "        vertical-align: middle;\n",
       "    }\n",
       "\n",
       "    .dataframe tbody tr th {\n",
       "        vertical-align: top;\n",
       "    }\n",
       "\n",
       "    .dataframe thead th {\n",
       "        text-align: right;\n",
       "    }\n",
       "</style>\n",
       "<table border=\"1\" class=\"dataframe\">\n",
       "  <thead>\n",
       "    <tr style=\"text-align: right;\">\n",
       "      <th></th>\n",
       "      <th>roberta_pred</th>\n",
       "    </tr>\n",
       "  </thead>\n",
       "  <tbody>\n",
       "    <tr>\n",
       "      <th>5_2</th>\n",
       "      <td>3260</td>\n",
       "    </tr>\n",
       "    <tr>\n",
       "      <th>0_0</th>\n",
       "      <td>1360</td>\n",
       "    </tr>\n",
       "    <tr>\n",
       "      <th>4_1</th>\n",
       "      <td>128</td>\n",
       "    </tr>\n",
       "    <tr>\n",
       "      <th>2_3</th>\n",
       "      <td>79</td>\n",
       "    </tr>\n",
       "    <tr>\n",
       "      <th>4_4</th>\n",
       "      <td>51</td>\n",
       "    </tr>\n",
       "  </tbody>\n",
       "</table>\n",
       "</div>"
      ],
      "text/plain": [
       "     roberta_pred\n",
       "5_2          3260\n",
       "0_0          1360\n",
       "4_1           128\n",
       "2_3            79\n",
       "4_4            51"
      ]
     },
     "execution_count": 21,
     "metadata": {},
     "output_type": "execute_result"
    }
   ],
   "source": [
    "climate_scam_hashtag.roberta_pred.value_counts().to_frame().head()"
   ]
  },
  {
   "cell_type": "code",
   "execution_count": 22,
   "id": "e3548351",
   "metadata": {
    "ExecuteTime": {
     "end_time": "2022-12-06T01:02:21.513714Z",
     "start_time": "2022-12-06T01:02:21.076334Z"
    }
   },
   "outputs": [
    {
     "data": {
      "text/plain": [
       "<AxesSubplot:>"
      ]
     },
     "execution_count": 22,
     "metadata": {},
     "output_type": "execute_result"
    },
    {
     "data": {
      "image/png": "[encoded data removed]",
      "text/plain": [
       "<Figure size 432x288 with 1 Axes>"
      ]
     },
     "metadata": {
      "needs_background": "light"
     },
     "output_type": "display_data"
    }
   ],
   "source": [
    "climate_scam_hashtag.roberta_pred.hist()"
   ]
  },
  {
   "cell_type": "code",
   "execution_count": 23,
   "id": "1ec556b7",
   "metadata": {
    "ExecuteTime": {
     "end_time": "2022-12-06T01:02:30.547911Z",
     "start_time": "2022-12-06T01:02:30.538462Z"
    }
   },
   "outputs": [
    {
     "data": {
      "text/html": [
       "<div>\n",
       "<style scoped>\n",
       "    .dataframe tbody tr th:only-of-type {\n",
       "        vertical-align: middle;\n",
       "    }\n",
       "\n",
       "    .dataframe tbody tr th {\n",
       "        vertical-align: top;\n",
       "    }\n",
       "\n",
       "    .dataframe thead th {\n",
       "        text-align: right;\n",
       "    }\n",
       "</style>\n",
       "<table border=\"1\" class=\"dataframe\">\n",
       "  <thead>\n",
       "    <tr style=\"text-align: right;\">\n",
       "      <th></th>\n",
       "      <th>text</th>\n",
       "      <th>roberta_pred</th>\n",
       "      <th>roberta_proba</th>\n",
       "    </tr>\n",
       "  </thead>\n",
       "  <tbody>\n",
       "    <tr>\n",
       "      <th>0</th>\n",
       "      <td>#ClimateCrisis #ClimateEmergency #climate #ClimateScam are you watching this? https://t.co/qyYkzXW1ne</td>\n",
       "      <td>5_2</td>\n",
       "      <td>0.998873</td>\n",
       "    </tr>\n",
       "    <tr>\n",
       "      <th>1</th>\n",
       "      <td>@juneslater17 You know what it was about\\n#TheGreatReset \\n#ClimateScam</td>\n",
       "      <td>5_2</td>\n",
       "      <td>0.960789</td>\n",
       "    </tr>\n",
       "    <tr>\n",
       "      <th>2</th>\n",
       "      <td>Can’t you see that it’s not about the climate, it’s all about CONTROL!\\n\\n#ClimateScam https://t.co/hDniM33v58</td>\n",
       "      <td>5_2</td>\n",
       "      <td>0.999329</td>\n",
       "    </tr>\n",
       "    <tr>\n",
       "      <th>3</th>\n",
       "      <td>FUUUUUU-UUUUU-CCCCCCKKKK YOU!!\\n\\nVehemently. ZERO KILOS of beef per person per year???? You Elitists truly want to be bloody slaughtered, don't you? I remind you of the French Revolution. How did that go?\\n\\n#ClimateScam #KlausSchwab #BillGates #WEFisEvil #AbolishTheUN #WHO #NWO https://t.co/3mWfGkn0FE</td>\n",
       "      <td>5_2</td>\n",
       "      <td>0.993764</td>\n",
       "    </tr>\n",
       "    <tr>\n",
       "      <th>4</th>\n",
       "      <td>@DavidShoebridge Hopefully they lose the key. #ClimateScam #ClimateAlarmism</td>\n",
       "      <td>5_2</td>\n",
       "      <td>0.999489</td>\n",
       "    </tr>\n",
       "    <tr>\n",
       "      <th>...</th>\n",
       "      <td>...</td>\n",
       "      <td>...</td>\n",
       "      <td>...</td>\n",
       "    </tr>\n",
       "    <tr>\n",
       "      <th>6022</th>\n",
       "      <td>@SpursOfficial Greenwashing crap #ClimateScam</td>\n",
       "      <td>5_2</td>\n",
       "      <td>0.999228</td>\n",
       "    </tr>\n",
       "    <tr>\n",
       "      <th>6023</th>\n",
       "      <td>@MayorofLondon @wef So, does this mean you are a WEF puppet, who owes your primary allegiance to unelected globalists?  \\n\\nis this why you are forcing terrible Net Zero policies on Londoners and making us all poorer? \\n\\nThere really is no #NoClimateEmergency ... #ClimateScam</td>\n",
       "      <td>5_2</td>\n",
       "      <td>0.998349</td>\n",
       "    </tr>\n",
       "    <tr>\n",
       "      <th>6025</th>\n",
       "      <td>Today is November 28, 2022 and @JustinTrudeau is the WORST \\nPrime Minister in #Canadian History \\n#TrudeauMustGo #TrudeauResign #justinflation #ClimateScam #CarbontaxBS #trudeaucarbonfootprint</td>\n",
       "      <td>5_2</td>\n",
       "      <td>0.737636</td>\n",
       "    </tr>\n",
       "    <tr>\n",
       "      <th>6027</th>\n",
       "      <td>@RDTVF Donate @RDTVF #internetradio supporting all genres unsigned indie music playing #Death by #Plastic by UK rock outfit The #Crime Scene Cleaners @SceneCleaners #ClimateCrisis #ClimateScam #COP27 #ecology #WeatherUpdate #green #JustStopOil\\ncheck their music\\nhttps://t.co/psU7oPSah7</td>\n",
       "      <td>0_0</td>\n",
       "      <td>0.982992</td>\n",
       "    </tr>\n",
       "    <tr>\n",
       "      <th>6028</th>\n",
       "      <td>The general population doesn't know what's happening, and it doesn't even know that it doesn't know. They don't even know what's going on at that remote and secret level of decision making. ~Noam Chomsky \\n\\nhttps://t.co/gk7LXlMCUP\\n\\n#KHAZARIANMAFIA #ClimateScam #Ukraine #FTXScam https://t.co/wAnEuWb0o2</td>\n",
       "      <td>0_0</td>\n",
       "      <td>0.998893</td>\n",
       "    </tr>\n",
       "  </tbody>\n",
       "</table>\n",
       "<p>4988 rows × 3 columns</p>\n",
       "</div>"
      ],
      "text/plain": [
       "                                                                                                                                                                                                                                                                                                                   text  \\\n",
       "0                                                                                                                                                                                                                 #ClimateCrisis #ClimateEmergency #climate #ClimateScam are you watching this? https://t.co/qyYkzXW1ne   \n",
       "1                                                                                                                                                                                                                                               @juneslater17 You know what it was about\\n#TheGreatReset \\n#ClimateScam   \n",
       "2                                                                                                                                                                                                        Can’t you see that it’s not about the climate, it’s all about CONTROL!\\n\\n#ClimateScam https://t.co/hDniM33v58   \n",
       "3      FUUUUUU-UUUUU-CCCCCCKKKK YOU!!\\n\\nVehemently. ZERO KILOS of beef per person per year???? You Elitists truly want to be bloody slaughtered, don't you? I remind you of the French Revolution. How did that go?\\n\\n#ClimateScam #KlausSchwab #BillGates #WEFisEvil #AbolishTheUN #WHO #NWO https://t.co/3mWfGkn0FE   \n",
       "4                                                                                                                                                                                                                                           @DavidShoebridge Hopefully they lose the key. #ClimateScam #ClimateAlarmism   \n",
       "...                                                                                                                                                                                                                                                                                                                 ...   \n",
       "6022                                                                                                                                                                                                                                                                      @SpursOfficial Greenwashing crap #ClimateScam   \n",
       "6023                              @MayorofLondon @wef So, does this mean you are a WEF puppet, who owes your primary allegiance to unelected globalists?  \\n\\nis this why you are forcing terrible Net Zero policies on Londoners and making us all poorer? \\n\\nThere really is no #NoClimateEmergency ... #ClimateScam   \n",
       "6025                                                                                                                  Today is November 28, 2022 and @JustinTrudeau is the WORST \\nPrime Minister in #Canadian History \\n#TrudeauMustGo #TrudeauResign #justinflation #ClimateScam #CarbontaxBS #trudeaucarbonfootprint   \n",
       "6027                    @RDTVF Donate @RDTVF #internetradio supporting all genres unsigned indie music playing #Death by #Plastic by UK rock outfit The #Crime Scene Cleaners @SceneCleaners #ClimateCrisis #ClimateScam #COP27 #ecology #WeatherUpdate #green #JustStopOil\\ncheck their music\\nhttps://t.co/psU7oPSah7   \n",
       "6028  The general population doesn't know what's happening, and it doesn't even know that it doesn't know. They don't even know what's going on at that remote and secret level of decision making. ~Noam Chomsky \\n\\nhttps://t.co/gk7LXlMCUP\\n\\n#KHAZARIANMAFIA #ClimateScam #Ukraine #FTXScam https://t.co/wAnEuWb0o2   \n",
       "\n",
       "     roberta_pred  roberta_proba  \n",
       "0             5_2       0.998873  \n",
       "1             5_2       0.960789  \n",
       "2             5_2       0.999329  \n",
       "3             5_2       0.993764  \n",
       "4             5_2       0.999489  \n",
       "...           ...            ...  \n",
       "6022          5_2       0.999228  \n",
       "6023          5_2       0.998349  \n",
       "6025          5_2       0.737636  \n",
       "6027          0_0       0.982992  \n",
       "6028          0_0       0.998893  \n",
       "\n",
       "[4988 rows x 3 columns]"
      ]
     },
     "execution_count": 23,
     "metadata": {},
     "output_type": "execute_result"
    }
   ],
   "source": [
    "climate_scam_hashtag[[\"text\", \"roberta_pred\", \"roberta_proba\"]]"
   ]
  },
  {
   "cell_type": "code",
   "execution_count": 24,
   "id": "fb85b0a9",
   "metadata": {
    "ExecuteTime": {
     "end_time": "2022-12-06T01:02:31.106906Z",
     "start_time": "2022-12-06T01:02:31.090142Z"
    }
   },
   "outputs": [
    {
     "data": {
      "text/html": [
       "<div>\n",
       "<style scoped>\n",
       "    .dataframe tbody tr th:only-of-type {\n",
       "        vertical-align: middle;\n",
       "    }\n",
       "\n",
       "    .dataframe tbody tr th {\n",
       "        vertical-align: top;\n",
       "    }\n",
       "\n",
       "    .dataframe thead th {\n",
       "        text-align: right;\n",
       "    }\n",
       "</style>\n",
       "<table border=\"1\" class=\"dataframe\">\n",
       "  <thead>\n",
       "    <tr style=\"text-align: right;\">\n",
       "      <th></th>\n",
       "      <th>text</th>\n",
       "      <th>roberta_pred</th>\n",
       "      <th>roberta_proba</th>\n",
       "    </tr>\n",
       "  </thead>\n",
       "  <tbody>\n",
       "    <tr>\n",
       "      <th>833</th>\n",
       "      <td>@robertalives my link is \"safe\" but they lie and try to censor bitchute\\nhttps://t.co/exZczwti4C\\n#PandemicAmnesty\\n#CrimesAgainstHumanity\\n#DiedSuddenly\\n#Myocarditis\\n#TruthAboutMRNAVaccines \\n#depopulation\\n#agenda2030\\n#Nuremberg2\\n#Pfizergate\\n#WEFisEvil\\n#ClimateScam\\n#TrudeauMustGo\\n#StoptheShots</td>\n",
       "      <td>0_0</td>\n",
       "      <td>0.985691</td>\n",
       "    </tr>\n",
       "    <tr>\n",
       "      <th>1365</th>\n",
       "      <td>@ejwwest @adamvaughan_uk @Peradventur3 @elonmusk @MelissaFleming @KHayhoe Wow, 4 people out of your 3,000 bot followers to like your tweet? #LOL WEAK. #ClimateScam</td>\n",
       "      <td>0_0</td>\n",
       "      <td>0.872358</td>\n",
       "    </tr>\n",
       "    <tr>\n",
       "      <th>562</th>\n",
       "      <td>Is everyone who takes a contrarian view on climate change, by default, \"right wing\"?\\n\\nThe girls at the Guardian seem to think so.\\n\\nThey'd be excellent staff for loading up \"right wingers\" onto the trains for the camps I think.\\n#climatescam\\nhttps://t.co/wgAGTbwJth https://t.co/4nhMGcOWuI</td>\n",
       "      <td>0_0</td>\n",
       "      <td>0.998571</td>\n",
       "    </tr>\n",
       "    <tr>\n",
       "      <th>4185</th>\n",
       "      <td>@AFP Rubbish. Who is looking for money in this situation? #climatescam</td>\n",
       "      <td>0_0</td>\n",
       "      <td>0.999779</td>\n",
       "    </tr>\n",
       "    <tr>\n",
       "      <th>3142</th>\n",
       "      <td>and that number is about to go lower...much, much lower...\\n\\n#firefauci\\n#neverforgetthesepeople\\n#ClimateScam\\n#jimcramer\\n#endthefed\\n#endthemandates\\n#trudeaumustgo https://t.co/SH8yphllVX</td>\n",
       "      <td>0_0</td>\n",
       "      <td>0.915858</td>\n",
       "    </tr>\n",
       "    <tr>\n",
       "      <th>1759</th>\n",
       "      <td>The latest The Cork Environment Daily! https://t.co/pBtPcSHFwa Thanks to @globalactplan #climatescam</td>\n",
       "      <td>0_0</td>\n",
       "      <td>0.999797</td>\n",
       "    </tr>\n",
       "    <tr>\n",
       "      <th>2767</th>\n",
       "      <td>@TruthFreedomPe1 my link is \"safe\" but they lie and try to censor bitchute\\nhttps://t.co/9xVv5rAqbf\\n#PandemicAmnesty\\n#CrimesAgainstHumanity\\n#DiedSuddenly\\n#Myocarditis\\n#TruthAboutMRNAVaccines \\n#depopulation\\n#agenda2030\\n#Nuremberg2\\n#Pfizergate\\n#WEFisEvil\\n#ClimateScam\\n#TrudeauMustGo\\n#StoptheShots</td>\n",
       "      <td>0_0</td>\n",
       "      <td>0.982245</td>\n",
       "    </tr>\n",
       "    <tr>\n",
       "      <th>4756</th>\n",
       "      <td>#FIFAWorldCupQatar2022 #USAvIRN #antony #Biden Democrats #Brazil Chrismas #ChinaProtests #ClimateScam \\n#GOT7Win2022MAMA \\n#GujaratAssemblyPolls \\n#khargeinkarnataka \\n#UkraineRussiaWar \\n#kashmirfilesmovie schindler nuclear https://t.co/iJUl3OCQLA</td>\n",
       "      <td>0_0</td>\n",
       "      <td>0.999643</td>\n",
       "    </tr>\n",
       "    <tr>\n",
       "      <th>2337</th>\n",
       "      <td>@Greenpeace Meanwhile the kids are faced with HUNDREDS of climate questions as described in the IPCC AR4 AR5 and AR6...\\n\\nThey are sure of NOTHING! \\n\\nEven the most basic questions need answers BEFORE STEALING their futures by this generation!\\n\\n#climate #ClimateActionNow #climatescam #co2day https://t.co/8NfU7ISkB7</td>\n",
       "      <td>0_0</td>\n",
       "      <td>0.996956</td>\n",
       "    </tr>\n",
       "    <tr>\n",
       "      <th>4505</th>\n",
       "      <td>New Climate News: \\n\\nDifferences in character between red knots seem to be an important ingredient for the resilience of the whole group -- ScienceDaily\\n\\n#climatecrisis #climateaction #esg #carbon #sustainability #netzero #climatescam #globalwarming #c...\\nhttps://t.co/7KMZuSbHDx</td>\n",
       "      <td>0_0</td>\n",
       "      <td>0.999556</td>\n",
       "    </tr>\n",
       "  </tbody>\n",
       "</table>\n",
       "</div>"
      ],
      "text/plain": [
       "                                                                                                                                                                                                                                                                                                                                  text  \\\n",
       "833                   @robertalives my link is \"safe\" but they lie and try to censor bitchute\\nhttps://t.co/exZczwti4C\\n#PandemicAmnesty\\n#CrimesAgainstHumanity\\n#DiedSuddenly\\n#Myocarditis\\n#TruthAboutMRNAVaccines \\n#depopulation\\n#agenda2030\\n#Nuremberg2\\n#Pfizergate\\n#WEFisEvil\\n#ClimateScam\\n#TrudeauMustGo\\n#StoptheShots   \n",
       "1365                                                                                                                                                               @ejwwest @adamvaughan_uk @Peradventur3 @elonmusk @MelissaFleming @KHayhoe Wow, 4 people out of your 3,000 bot followers to like your tweet? #LOL WEAK. #ClimateScam   \n",
       "562                              Is everyone who takes a contrarian view on climate change, by default, \"right wing\"?\\n\\nThe girls at the Guardian seem to think so.\\n\\nThey'd be excellent staff for loading up \"right wingers\" onto the trains for the camps I think.\\n#climatescam\\nhttps://t.co/wgAGTbwJth https://t.co/4nhMGcOWuI   \n",
       "4185                                                                                                                                                                                                                                                            @AFP Rubbish. Who is looking for money in this situation? #climatescam   \n",
       "3142                                                                                                                                  and that number is about to go lower...much, much lower...\\n\\n#firefauci\\n#neverforgetthesepeople\\n#ClimateScam\\n#jimcramer\\n#endthefed\\n#endthemandates\\n#trudeaumustgo https://t.co/SH8yphllVX   \n",
       "1759                                                                                                                                                                                                                              The latest The Cork Environment Daily! https://t.co/pBtPcSHFwa Thanks to @globalactplan #climatescam   \n",
       "2767               @TruthFreedomPe1 my link is \"safe\" but they lie and try to censor bitchute\\nhttps://t.co/9xVv5rAqbf\\n#PandemicAmnesty\\n#CrimesAgainstHumanity\\n#DiedSuddenly\\n#Myocarditis\\n#TruthAboutMRNAVaccines \\n#depopulation\\n#agenda2030\\n#Nuremberg2\\n#Pfizergate\\n#WEFisEvil\\n#ClimateScam\\n#TrudeauMustGo\\n#StoptheShots   \n",
       "4756                                                                          #FIFAWorldCupQatar2022 #USAvIRN #antony #Biden Democrats #Brazil Chrismas #ChinaProtests #ClimateScam \\n#GOT7Win2022MAMA \\n#GujaratAssemblyPolls \\n#khargeinkarnataka \\n#UkraineRussiaWar \\n#kashmirfilesmovie schindler nuclear https://t.co/iJUl3OCQLA   \n",
       "2337  @Greenpeace Meanwhile the kids are faced with HUNDREDS of climate questions as described in the IPCC AR4 AR5 and AR6...\\n\\nThey are sure of NOTHING! \\n\\nEven the most basic questions need answers BEFORE STEALING their futures by this generation!\\n\\n#climate #ClimateActionNow #climatescam #co2day https://t.co/8NfU7ISkB7   \n",
       "4505                                       New Climate News: \\n\\nDifferences in character between red knots seem to be an important ingredient for the resilience of the whole group -- ScienceDaily\\n\\n#climatecrisis #climateaction #esg #carbon #sustainability #netzero #climatescam #globalwarming #c...\\nhttps://t.co/7KMZuSbHDx   \n",
       "\n",
       "     roberta_pred  roberta_proba  \n",
       "833           0_0       0.985691  \n",
       "1365          0_0       0.872358  \n",
       "562           0_0       0.998571  \n",
       "4185          0_0       0.999779  \n",
       "3142          0_0       0.915858  \n",
       "1759          0_0       0.999797  \n",
       "2767          0_0       0.982245  \n",
       "4756          0_0       0.999643  \n",
       "2337          0_0       0.996956  \n",
       "4505          0_0       0.999556  "
      ]
     },
     "execution_count": 24,
     "metadata": {},
     "output_type": "execute_result"
    }
   ],
   "source": [
    "climate_scam_hashtag.loc[\n",
    "    climate_scam_hashtag.roberta_pred==\"0_0\", [\"text\", \"roberta_pred\", \"roberta_proba\"]].sample(10)"
   ]
  },
  {
   "cell_type": "code",
   "execution_count": 25,
   "id": "8128bd32",
   "metadata": {
    "ExecuteTime": {
     "end_time": "2022-12-06T01:02:50.962481Z",
     "start_time": "2022-12-06T01:02:36.498740Z"
    }
   },
   "outputs": [
    {
     "data": {
      "application/vnd.jupyter.widget-view+json": {
       "model_id": "e884750866b84ac6b85b487f1982c0bb",
       "version_major": 2,
       "version_minor": 0
      },
      "text/plain": [
       "  0%|          | 0/14 [00:00<?, ?it/s]"
      ]
     },
     "metadata": {},
     "output_type": "display_data"
    },
    {
     "data": {
      "application/vnd.jupyter.widget-view+json": {
       "model_id": "7c98d7ad724c499a85286cad16c8eec9",
       "version_major": 2,
       "version_minor": 0
      },
      "text/plain": [
       "  0%|          | 0/2 [00:00<?, ?it/s]"
      ]
     },
     "metadata": {},
     "output_type": "display_data"
    }
   ],
   "source": [
    "results['roberta_preprocessed'] = results[\"text\"].astype(str).apply(denoise_text)\n",
    "predictions, raw_outputs = roberta_model.predict(list(results.roberta_preprocessed))\n",
    "results['roberta_pred'] = le.inverse_transform(predictions)\n",
    "results['roberta_proba'] = [max(softmax(element[0])) for element in raw_outputs]"
   ]
  },
  {
   "cell_type": "code",
   "execution_count": 26,
   "id": "ec9c42d9",
   "metadata": {
    "ExecuteTime": {
     "end_time": "2022-12-06T01:02:56.559008Z",
     "start_time": "2022-12-06T01:02:56.552525Z"
    },
    "scrolled": true
   },
   "outputs": [
    {
     "data": {
      "text/html": [
       "<div>\n",
       "<style scoped>\n",
       "    .dataframe tbody tr th:only-of-type {\n",
       "        vertical-align: middle;\n",
       "    }\n",
       "\n",
       "    .dataframe tbody tr th {\n",
       "        vertical-align: top;\n",
       "    }\n",
       "\n",
       "    .dataframe thead th {\n",
       "        text-align: right;\n",
       "    }\n",
       "</style>\n",
       "<table border=\"1\" class=\"dataframe\">\n",
       "  <thead>\n",
       "    <tr style=\"text-align: right;\">\n",
       "      <th></th>\n",
       "      <th>text</th>\n",
       "      <th>roberta_pred</th>\n",
       "      <th>roberta_proba</th>\n",
       "    </tr>\n",
       "  </thead>\n",
       "  <tbody>\n",
       "    <tr>\n",
       "      <th>0</th>\n",
       "      <td>Young humans are another target of the financial scam being masqueraded as a climate emergency.  #ClimateScam https://t.co/Jri65Km5oQ</td>\n",
       "      <td>5_2</td>\n",
       "      <td>0.999402</td>\n",
       "    </tr>\n",
       "    <tr>\n",
       "      <th>2</th>\n",
       "      <td>It's December &amp;amp; \"renewables\" have problems: Chinese solar-cell manufacturers avoided U.S. tariffs &amp;amp; are shipping through Southeast Asia; they'll be cut off? Probably not. Germany has cold weather, low wind speeds, &amp;amp; almost zero gas reserves. Tripling energy prices! #climatescam</td>\n",
       "      <td>0_0</td>\n",
       "      <td>0.989353</td>\n",
       "    </tr>\n",
       "    <tr>\n",
       "      <th>3</th>\n",
       "      <td>Many of the so-called \"climate scientists\" ringing the disaster bell don't even let other scientists review their work. Why is that? We keep discovering they are making up data. Too much money is at stake for them to tell the truth that there is no climate crisis. #ClimateScam https://t.co/Atkq3WKiwi</td>\n",
       "      <td>5_2</td>\n",
       "      <td>0.999495</td>\n",
       "    </tr>\n",
       "    <tr>\n",
       "      <th>4</th>\n",
       "      <td>@GeraldKutney Please, share your peer reviewed, scientific research for this claim. Or how about your unconfirmed reports? Who made those? We are waiting. To even suggest that humans can control the earth and weather is the most audacious claim. #ClimateScam</td>\n",
       "      <td>5_2</td>\n",
       "      <td>0.999468</td>\n",
       "    </tr>\n",
       "    <tr>\n",
       "      <th>5</th>\n",
       "      <td>@guardianeco This article is a perfect illustration of the truly amazing fear campaign the climate folks have created. The second anyone tries to get the truth out there, the minions surround the truth &amp;amp; scream denialism. NO ONE IS DENYING CLIMATE CHANGES.</td>\n",
       "      <td>5_2</td>\n",
       "      <td>0.999332</td>\n",
       "    </tr>\n",
       "    <tr>\n",
       "      <th>6</th>\n",
       "      <td>@FrankRipainter @MatthewWielicki Very similiar fear campaign. They got the road map from COVID now they will utilize that with climate if we do not try to stop it. Time to get the truth out there. #climatescam</td>\n",
       "      <td>5_2</td>\n",
       "      <td>0.997548</td>\n",
       "    </tr>\n",
       "    <tr>\n",
       "      <th>7</th>\n",
       "      <td>RT @MatthewWielicki: I lied, one last slide (maybe) from my climate lecture this week. I have a hard time figuring out why having young peo…</td>\n",
       "      <td>0_0</td>\n",
       "      <td>0.999742</td>\n",
       "    </tr>\n",
       "    <tr>\n",
       "      <th>8</th>\n",
       "      <td>Note: \"leaving out key details to be worked out later.\" #ClimateScam https://t.co/9cx7bJzlQs</td>\n",
       "      <td>5_2</td>\n",
       "      <td>0.998120</td>\n",
       "    </tr>\n",
       "    <tr>\n",
       "      <th>9</th>\n",
       "      <td>Greenland's ice sheet's surface mass balance (SMB) is at one of its highest levels since 1981 &amp;amp; increasing this winter. Greenland has consistent growth SMB since 2016. Worldwide, this year's start to winter is the coldest since 1982. When does the world burn up? FYI. #climatescam</td>\n",
       "      <td>1_1</td>\n",
       "      <td>0.976762</td>\n",
       "    </tr>\n",
       "    <tr>\n",
       "      <th>10</th>\n",
       "      <td>@MatthewWielicki Its terrible what they are doing to the youth of the world. Thank you for being out there, educating them on the truth. #climatescam</td>\n",
       "      <td>0_0</td>\n",
       "      <td>0.999717</td>\n",
       "    </tr>\n",
       "    <tr>\n",
       "      <th>11</th>\n",
       "      <td>The Inflation Reduction Act = a 10-year, $220 billion boondoggle of tax breaks &amp;amp; federal tax law changes. It's packed with climate-change language so electric utilities' profits set new records (hundreds of millions of dollars/year). You'll get lower bills, right? #climatescam</td>\n",
       "      <td>4_1</td>\n",
       "      <td>0.997197</td>\n",
       "    </tr>\n",
       "    <tr>\n",
       "      <th>12</th>\n",
       "      <td>RT @PeterDClack: This is the future for electric vehicles. No battery built can keep them going. All the EVs in the world won't survive the…</td>\n",
       "      <td>4_4</td>\n",
       "      <td>0.995796</td>\n",
       "    </tr>\n",
       "    <tr>\n",
       "      <th>13</th>\n",
       "      <td>@MatthewWielicki @10mm_404 The truth does not know political parties! Right on, Dr Matt! #climatescam</td>\n",
       "      <td>0_0</td>\n",
       "      <td>0.999622</td>\n",
       "    </tr>\n",
       "    <tr>\n",
       "      <th>14</th>\n",
       "      <td>Just 2 weeks ago we tweeted Kerry's handshake with Venezuela's Maduro. Yesterday we tweeted Biden's deal for Venezuelan oil, and today it's on the news. He said \"the deal helps\" Venezuela. Truth: it hurts the U.S. He can't be playing a straight hand. Coincidence? #ClimateScam https://t.co/R8ZQdOmX1k</td>\n",
       "      <td>0_0</td>\n",
       "      <td>0.980086</td>\n",
       "    </tr>\n",
       "  </tbody>\n",
       "</table>\n",
       "</div>"
      ],
      "text/plain": [
       "                                                                                                                                                                                                                                                                                                             text  \\\n",
       "0                                                                                                                                                                           Young humans are another target of the financial scam being masqueraded as a climate emergency.  #ClimateScam https://t.co/Jri65Km5oQ   \n",
       "2              It's December &amp; \"renewables\" have problems: Chinese solar-cell manufacturers avoided U.S. tariffs &amp; are shipping through Southeast Asia; they'll be cut off? Probably not. Germany has cold weather, low wind speeds, &amp; almost zero gas reserves. Tripling energy prices! #climatescam   \n",
       "3   Many of the so-called \"climate scientists\" ringing the disaster bell don't even let other scientists review their work. Why is that? We keep discovering they are making up data. Too much money is at stake for them to tell the truth that there is no climate crisis. #ClimateScam https://t.co/Atkq3WKiwi   \n",
       "4                                              @GeraldKutney Please, share your peer reviewed, scientific research for this claim. Or how about your unconfirmed reports? Who made those? We are waiting. To even suggest that humans can control the earth and weather is the most audacious claim. #ClimateScam   \n",
       "5                                            @guardianeco This article is a perfect illustration of the truly amazing fear campaign the climate folks have created. The second anyone tries to get the truth out there, the minions surround the truth &amp; scream denialism. NO ONE IS DENYING CLIMATE CHANGES.   \n",
       "6                                                                                               @FrankRipainter @MatthewWielicki Very similiar fear campaign. They got the road map from COVID now they will utilize that with climate if we do not try to stop it. Time to get the truth out there. #climatescam   \n",
       "7                                                                                                                                                                    RT @MatthewWielicki: I lied, one last slide (maybe) from my climate lecture this week. I have a hard time figuring out why having young peo…   \n",
       "8                                                                                                                                                                                                                    Note: \"leaving out key details to be worked out later.\" #ClimateScam https://t.co/9cx7bJzlQs   \n",
       "9                    Greenland's ice sheet's surface mass balance (SMB) is at one of its highest levels since 1981 &amp; increasing this winter. Greenland has consistent growth SMB since 2016. Worldwide, this year's start to winter is the coldest since 1982. When does the world burn up? FYI. #climatescam   \n",
       "10                                                                                                                                                          @MatthewWielicki Its terrible what they are doing to the youth of the world. Thank you for being out there, educating them on the truth. #climatescam   \n",
       "11                      The Inflation Reduction Act = a 10-year, $220 billion boondoggle of tax breaks &amp; federal tax law changes. It's packed with climate-change language so electric utilities' profits set new records (hundreds of millions of dollars/year). You'll get lower bills, right? #climatescam   \n",
       "12                                                                                                                                                                   RT @PeterDClack: This is the future for electric vehicles. No battery built can keep them going. All the EVs in the world won't survive the…   \n",
       "13                                                                                                                                                                                                          @MatthewWielicki @10mm_404 The truth does not know political parties! Right on, Dr Matt! #climatescam   \n",
       "14   Just 2 weeks ago we tweeted Kerry's handshake with Venezuela's Maduro. Yesterday we tweeted Biden's deal for Venezuelan oil, and today it's on the news. He said \"the deal helps\" Venezuela. Truth: it hurts the U.S. He can't be playing a straight hand. Coincidence? #ClimateScam https://t.co/R8ZQdOmX1k   \n",
       "\n",
       "   roberta_pred  roberta_proba  \n",
       "0           5_2       0.999402  \n",
       "2           0_0       0.989353  \n",
       "3           5_2       0.999495  \n",
       "4           5_2       0.999468  \n",
       "5           5_2       0.999332  \n",
       "6           5_2       0.997548  \n",
       "7           0_0       0.999742  \n",
       "8           5_2       0.998120  \n",
       "9           1_1       0.976762  \n",
       "10          0_0       0.999717  \n",
       "11          4_1       0.997197  \n",
       "12          4_4       0.995796  \n",
       "13          0_0       0.999622  \n",
       "14          0_0       0.980086  "
      ]
     },
     "execution_count": 26,
     "metadata": {},
     "output_type": "execute_result"
    }
   ],
   "source": [
    "results[[\"text\", \"roberta_pred\", \"roberta_proba\"]]"
   ]
  },
  {
   "cell_type": "code",
   "execution_count": 27,
   "id": "123d8baf",
   "metadata": {
    "ExecuteTime": {
     "end_time": "2022-12-06T01:04:06.478886Z",
     "start_time": "2022-12-06T01:04:06.396305Z"
    }
   },
   "outputs": [],
   "source": [
    "file = \"Twitter_scrapped/@ClimateScam_CARDS_predictions_{}.csv\".format(today)\n",
    "climate_scam_hashtag.to_csv(file)"
   ]
  },
  {
   "cell_type": "markdown",
   "id": "8f6f01a2",
   "metadata": {},
   "source": [
    "### CTTs"
   ]
  },
  {
   "cell_type": "code",
   "execution_count": 28,
   "id": "b336d478",
   "metadata": {
    "ExecuteTime": {
     "end_time": "2022-12-06T01:04:30.631949Z",
     "start_time": "2022-12-06T01:04:30.567679Z"
    }
   },
   "outputs": [],
   "source": [
    "tweets['roberta_preprocessed'] = tweets[\"text\"].astype(str).apply(denoise_text)"
   ]
  },
  {
   "cell_type": "code",
   "execution_count": 29,
   "id": "2c0c5bca",
   "metadata": {
    "ExecuteTime": {
     "end_time": "2022-12-06T03:51:08.627671Z",
     "start_time": "2022-12-06T01:04:32.303633Z"
    }
   },
   "outputs": [
    {
     "data": {
      "application/vnd.jupyter.widget-view+json": {
       "model_id": "c9da31e9d05f49db80ec973d91df5d7d",
       "version_major": 2,
       "version_minor": 0
      },
      "text/plain": [
       "  0%|          | 0/11787 [00:00<?, ?it/s]"
      ]
     },
     "metadata": {},
     "output_type": "display_data"
    },
    {
     "data": {
      "application/vnd.jupyter.widget-view+json": {
       "model_id": "067a7c05400c4a2a84f6722b7f1e2385",
       "version_major": 2,
       "version_minor": 0
      },
      "text/plain": [
       "  0%|          | 0/1476 [00:00<?, ?it/s]"
      ]
     },
     "metadata": {},
     "output_type": "display_data"
    }
   ],
   "source": [
    "predictions, raw_outputs = roberta_model.predict(list(tweets.roberta_preprocessed))"
   ]
  },
  {
   "cell_type": "code",
   "execution_count": 30,
   "id": "d7b35d09",
   "metadata": {
    "ExecuteTime": {
     "end_time": "2022-12-06T05:40:13.470987Z",
     "start_time": "2022-12-06T05:40:13.218672Z"
    }
   },
   "outputs": [],
   "source": [
    "tweets['roberta_pred'] = le.inverse_transform(predictions)\n",
    "tweets['roberta_proba'] = [max(softmax(element[0])) for element in raw_outputs]"
   ]
  },
  {
   "cell_type": "code",
   "execution_count": 46,
   "id": "28d9392f",
   "metadata": {
    "ExecuteTime": {
     "end_time": "2022-12-06T05:47:45.368388Z",
     "start_time": "2022-12-06T05:47:45.363897Z"
    }
   },
   "outputs": [
    {
     "data": {
      "text/html": [
       "<div>\n",
       "<style scoped>\n",
       "    .dataframe tbody tr th:only-of-type {\n",
       "        vertical-align: middle;\n",
       "    }\n",
       "\n",
       "    .dataframe tbody tr th {\n",
       "        vertical-align: top;\n",
       "    }\n",
       "\n",
       "    .dataframe thead th {\n",
       "        text-align: right;\n",
       "    }\n",
       "</style>\n",
       "<table border=\"1\" class=\"dataframe\">\n",
       "  <thead>\n",
       "    <tr style=\"text-align: right;\">\n",
       "      <th></th>\n",
       "      <th>roberta_pred</th>\n",
       "    </tr>\n",
       "  </thead>\n",
       "  <tbody>\n",
       "    <tr>\n",
       "      <th>0_0</th>\n",
       "      <td>11712</td>\n",
       "    </tr>\n",
       "    <tr>\n",
       "      <th>5_2</th>\n",
       "      <td>65</td>\n",
       "    </tr>\n",
       "    <tr>\n",
       "      <th>4_1</th>\n",
       "      <td>7</td>\n",
       "    </tr>\n",
       "    <tr>\n",
       "      <th>4_4</th>\n",
       "      <td>2</td>\n",
       "    </tr>\n",
       "    <tr>\n",
       "      <th>5_1</th>\n",
       "      <td>1</td>\n",
       "    </tr>\n",
       "  </tbody>\n",
       "</table>\n",
       "</div>"
      ],
      "text/plain": [
       "     roberta_pred\n",
       "0_0         11712\n",
       "5_2            65\n",
       "4_1             7\n",
       "4_4             2\n",
       "5_1             1"
      ]
     },
     "execution_count": 46,
     "metadata": {},
     "output_type": "execute_result"
    }
   ],
   "source": [
    "# tweets = pd.read_csv(\"@Twitter_CTTs_predictions.csv\")\n",
    "tweets.roberta_pred.value_counts().to_frame().head()"
   ]
  },
  {
   "cell_type": "code",
   "execution_count": 32,
   "id": "72af6d9b",
   "metadata": {
    "ExecuteTime": {
     "end_time": "2022-12-06T05:40:33.672492Z",
     "start_time": "2022-12-06T05:40:33.654340Z"
    }
   },
   "outputs": [
    {
     "data": {
      "text/plain": [
       "(873, 17)"
      ]
     },
     "execution_count": 32,
     "metadata": {},
     "output_type": "execute_result"
    }
   ],
   "source": [
    "tweets[tweets.referenced_tweets.isna()].shape"
   ]
  },
  {
   "cell_type": "code",
   "execution_count": 33,
   "id": "fb31a0da",
   "metadata": {
    "ExecuteTime": {
     "end_time": "2022-12-06T05:40:36.427245Z",
     "start_time": "2022-12-06T05:40:36.342017Z"
    }
   },
   "outputs": [
    {
     "data": {
      "text/plain": [
       "<AxesSubplot:>"
      ]
     },
     "execution_count": 33,
     "metadata": {},
     "output_type": "execute_result"
    },
    {
     "data": {
      "image/png": "[encoded data removed]",
      "text/plain": [
       "<Figure size 432x288 with 1 Axes>"
      ]
     },
     "metadata": {
      "needs_background": "light"
     },
     "output_type": "display_data"
    }
   ],
   "source": [
    "tweets.roberta_pred.hist()"
   ]
  },
  {
   "cell_type": "code",
   "execution_count": 34,
   "id": "c67a1b0e",
   "metadata": {
    "ExecuteTime": {
     "end_time": "2022-12-06T05:40:42.020065Z",
     "start_time": "2022-12-06T05:40:42.013910Z"
    }
   },
   "outputs": [
    {
     "data": {
      "text/html": [
       "<div>\n",
       "<style scoped>\n",
       "    .dataframe tbody tr th:only-of-type {\n",
       "        vertical-align: middle;\n",
       "    }\n",
       "\n",
       "    .dataframe tbody tr th {\n",
       "        vertical-align: top;\n",
       "    }\n",
       "\n",
       "    .dataframe thead th {\n",
       "        text-align: right;\n",
       "    }\n",
       "</style>\n",
       "<table border=\"1\" class=\"dataframe\">\n",
       "  <thead>\n",
       "    <tr style=\"text-align: right;\">\n",
       "      <th></th>\n",
       "      <th>text</th>\n",
       "      <th>roberta_pred</th>\n",
       "      <th>roberta_proba</th>\n",
       "    </tr>\n",
       "  </thead>\n",
       "  <tbody>\n",
       "    <tr>\n",
       "      <th>8918</th>\n",
       "      <td>@Heritage @SamuelBrownback @DailySignal CBDC is why they don't care how large the debt gets... It is all going to be RESET... Plus the CBDC is an end run around the constitution... Note to businesses... CLICK and your out of business... This is terrifying...</td>\n",
       "      <td>0_0</td>\n",
       "      <td>0.999080</td>\n",
       "    </tr>\n",
       "    <tr>\n",
       "      <th>1934</th>\n",
       "      <td>@Heritage Also it's kind of weird how nobody has looked into how much commercial real estate other countries own in America how much Farmland other countries own in America and how they're going to use the Farmland to get the mineral rights to start mining for coal in America for China</td>\n",
       "      <td>0_0</td>\n",
       "      <td>0.999765</td>\n",
       "    </tr>\n",
       "    <tr>\n",
       "      <th>1536</th>\n",
       "      <td>@ExposingBiden @Heritage @SenWhitehouse Throw his ass in jail. He belongs there more than the j6ers</td>\n",
       "      <td>0_0</td>\n",
       "      <td>0.999571</td>\n",
       "    </tr>\n",
       "    <tr>\n",
       "      <th>3345</th>\n",
       "      <td>@ladyjoymoving @Heritage You think he intended for you to be hateful ?</td>\n",
       "      <td>0_0</td>\n",
       "      <td>0.999735</td>\n",
       "    </tr>\n",
       "    <tr>\n",
       "      <th>91</th>\n",
       "      <td>@FreedomWorks Just imagine spending this many years in our US government and still not understanding how it works.</td>\n",
       "      <td>0_0</td>\n",
       "      <td>0.999729</td>\n",
       "    </tr>\n",
       "  </tbody>\n",
       "</table>\n",
       "</div>"
      ],
      "text/plain": [
       "                                                                                                                                                                                                                                                                                                text  \\\n",
       "8918                              @Heritage @SamuelBrownback @DailySignal CBDC is why they don't care how large the debt gets... It is all going to be RESET... Plus the CBDC is an end run around the constitution... Note to businesses... CLICK and your out of business... This is terrifying...   \n",
       "1934  @Heritage Also it's kind of weird how nobody has looked into how much commercial real estate other countries own in America how much Farmland other countries own in America and how they're going to use the Farmland to get the mineral rights to start mining for coal in America for China   \n",
       "1536                                                                                                                                                                                             @ExposingBiden @Heritage @SenWhitehouse Throw his ass in jail. He belongs there more than the j6ers   \n",
       "3345                                                                                                                                                                                                                          @ladyjoymoving @Heritage You think he intended for you to be hateful ?   \n",
       "91                                                                                                                                                                                @FreedomWorks Just imagine spending this many years in our US government and still not understanding how it works.   \n",
       "\n",
       "     roberta_pred  roberta_proba  \n",
       "8918          0_0       0.999080  \n",
       "1934          0_0       0.999765  \n",
       "1536          0_0       0.999571  \n",
       "3345          0_0       0.999735  \n",
       "91            0_0       0.999729  "
      ]
     },
     "execution_count": 34,
     "metadata": {},
     "output_type": "execute_result"
    }
   ],
   "source": [
    "tweets[[\"text\", \"roberta_pred\", \"roberta_proba\"]].sample(5)"
   ]
  },
  {
   "cell_type": "code",
   "execution_count": 35,
   "id": "e7d2d5cd",
   "metadata": {
    "ExecuteTime": {
     "end_time": "2022-12-06T05:40:42.920601Z",
     "start_time": "2022-12-06T05:40:42.913922Z"
    }
   },
   "outputs": [
    {
     "data": {
      "text/html": [
       "<div>\n",
       "<style scoped>\n",
       "    .dataframe tbody tr th:only-of-type {\n",
       "        vertical-align: middle;\n",
       "    }\n",
       "\n",
       "    .dataframe tbody tr th {\n",
       "        vertical-align: top;\n",
       "    }\n",
       "\n",
       "    .dataframe thead th {\n",
       "        text-align: right;\n",
       "    }\n",
       "</style>\n",
       "<table border=\"1\" class=\"dataframe\">\n",
       "  <thead>\n",
       "    <tr style=\"text-align: right;\">\n",
       "      <th></th>\n",
       "      <th>text</th>\n",
       "      <th>roberta_pred</th>\n",
       "      <th>roberta_proba</th>\n",
       "    </tr>\n",
       "  </thead>\n",
       "  <tbody>\n",
       "    <tr>\n",
       "      <th>103</th>\n",
       "      <td>@NileGardiner @Heritage Here is a test you guys must answer before you can have input anymore—- who was the president in oct 2020 when the trump White House asked twitter to remove / censor tweets. And twitter complied??? Can you answer??? No cheating  lol. Hypocrites</td>\n",
       "      <td>5_2</td>\n",
       "      <td>0.986456</td>\n",
       "    </tr>\n",
       "    <tr>\n",
       "      <th>292</th>\n",
       "      <td>@Heritage @DFR_Economics China and India are not developing countries it’s just a scam</td>\n",
       "      <td>5_2</td>\n",
       "      <td>0.971350</td>\n",
       "    </tr>\n",
       "    <tr>\n",
       "      <th>402</th>\n",
       "      <td>@FreedomWorks Is this like “ we just put together the greatest fraud election plan on planet earth” ?…. You Lyin Joe Biden with Beijing tendencies are the biggest gas bag on earth, rotten to the core!!  🤮</td>\n",
       "      <td>5_2</td>\n",
       "      <td>0.998705</td>\n",
       "    </tr>\n",
       "    <tr>\n",
       "      <th>7900</th>\n",
       "      <td>@GaryWatling3 @KevinRobertsTX @redrivergrl @Heritage Exactly!! Obviously there are so many sick perverts with jobs that they shouldn’t have (sniffy Joe, Pelosi because of helping cover up her husbands threesome sex party and all of those involved with Jeffrey Epstein…an obvious murder cover up!) and their money buys it all!</td>\n",
       "      <td>5_2</td>\n",
       "      <td>0.991079</td>\n",
       "    </tr>\n",
       "    <tr>\n",
       "      <th>833</th>\n",
       "      <td>@Heritage @jordanbpeterson @elonmusk Dr. Peterson, I would be interested to hear from you anything about cognitive dissonance regarding this now absolutely clear evidence of fraud and the left’s continued denial of anything wrong.</td>\n",
       "      <td>5_2</td>\n",
       "      <td>0.998097</td>\n",
       "    </tr>\n",
       "  </tbody>\n",
       "</table>\n",
       "</div>"
      ],
      "text/plain": [
       "                                                                                                                                                                                                                                                                                                                                       text  \\\n",
       "103                                                            @NileGardiner @Heritage Here is a test you guys must answer before you can have input anymore—- who was the president in oct 2020 when the trump White House asked twitter to remove / censor tweets. And twitter complied??? Can you answer??? No cheating  lol. Hypocrites   \n",
       "292                                                                                                                                                                                                                                                  @Heritage @DFR_Economics China and India are not developing countries it’s just a scam   \n",
       "402                                                                                                                            @FreedomWorks Is this like “ we just put together the greatest fraud election plan on planet earth” ?…. You Lyin Joe Biden with Beijing tendencies are the biggest gas bag on earth, rotten to the core!!  🤮   \n",
       "7900  @GaryWatling3 @KevinRobertsTX @redrivergrl @Heritage Exactly!! Obviously there are so many sick perverts with jobs that they shouldn’t have (sniffy Joe, Pelosi because of helping cover up her husbands threesome sex party and all of those involved with Jeffrey Epstein…an obvious murder cover up!) and their money buys it all!   \n",
       "833                                                                                                  @Heritage @jordanbpeterson @elonmusk Dr. Peterson, I would be interested to hear from you anything about cognitive dissonance regarding this now absolutely clear evidence of fraud and the left’s continued denial of anything wrong.   \n",
       "\n",
       "     roberta_pred  roberta_proba  \n",
       "103           5_2       0.986456  \n",
       "292           5_2       0.971350  \n",
       "402           5_2       0.998705  \n",
       "7900          5_2       0.991079  \n",
       "833           5_2       0.998097  "
      ]
     },
     "execution_count": 35,
     "metadata": {},
     "output_type": "execute_result"
    }
   ],
   "source": [
    "tweets.loc[tweets.roberta_pred!=\"0_0\", [\"text\", \"roberta_pred\", \"roberta_proba\"]].sample(5)"
   ]
  },
  {
   "cell_type": "code",
   "execution_count": 36,
   "id": "eba2a3ed",
   "metadata": {
    "ExecuteTime": {
     "end_time": "2022-12-06T05:42:01.935461Z",
     "start_time": "2022-12-06T05:42:01.785756Z"
    }
   },
   "outputs": [],
   "source": [
    "file_CTT = \"Twitter_scrapped/@Twitter_CTTs_predictions_{}.csv\".format(today)\n",
    "tweets.to_csv(file_CTT)"
   ]
  },
  {
   "cell_type": "code",
   "execution_count": 27,
   "id": "92b5fe6e",
   "metadata": {
    "ExecuteTime": {
     "end_time": "2022-12-02T08:14:42.720307Z",
     "start_time": "2022-12-02T08:14:42.710463Z"
    }
   },
   "outputs": [],
   "source": [
    "# samples = (\n",
    "#     tweets.groupby(\"roberta_pred\")\n",
    "#     .sample(10, replace=True)[[\"text\", \"roberta_pred\", \"roberta_proba\"]]\n",
    "#     .drop_duplicates(\"text\")\n",
    "# )\n",
    "# samples.to_csv(\"@Twitter_CTTs_predictions_samples.csv\")"
   ]
  },
  {
   "cell_type": "markdown",
   "id": "07f81dc2",
   "metadata": {},
   "source": [
    "### Denials"
   ]
  },
  {
   "cell_type": "code",
   "execution_count": 52,
   "id": "39fde016",
   "metadata": {
    "ExecuteTime": {
     "end_time": "2022-12-06T09:23:54.048867Z",
     "start_time": "2022-12-06T06:36:33.145178Z"
    }
   },
   "outputs": [
    {
     "data": {
      "application/vnd.jupyter.widget-view+json": {
       "model_id": "76f25c6d7c1a4aeca44dce265b423937",
       "version_major": 2,
       "version_minor": 0
      },
      "text/plain": [
       "  0%|          | 0/11787 [00:00<?, ?it/s]"
      ]
     },
     "metadata": {},
     "output_type": "display_data"
    },
    {
     "data": {
      "application/vnd.jupyter.widget-view+json": {
       "model_id": "60af468178854dae9189c013fd6d65ea",
       "version_major": 2,
       "version_minor": 0
      },
      "text/plain": [
       "  0%|          | 0/1476 [00:00<?, ?it/s]"
      ]
     },
     "metadata": {},
     "output_type": "display_data"
    }
   ],
   "source": [
    "tweets_denials['roberta_preprocessed'] = tweets_denials[\"text\"].astype(str).apply(denoise_text)\n",
    "predictions, raw_outputs = roberta_model.predict(list(tweets_denials.roberta_preprocessed))"
   ]
  },
  {
   "cell_type": "code",
   "execution_count": 53,
   "id": "5598cb03",
   "metadata": {
    "ExecuteTime": {
     "end_time": "2022-12-06T09:23:54.297788Z",
     "start_time": "2022-12-06T09:23:54.050428Z"
    }
   },
   "outputs": [],
   "source": [
    "tweets_denials['roberta_pred'] = le.inverse_transform(predictions)\n",
    "tweets_denials['roberta_proba'] = [max(softmax(element[0])) for element in raw_outputs]"
   ]
  },
  {
   "cell_type": "code",
   "execution_count": 12,
   "id": "dee506ba",
   "metadata": {
    "ExecuteTime": {
     "end_time": "2022-12-01T13:59:12.196498Z",
     "start_time": "2022-12-01T13:59:12.062668Z"
    }
   },
   "outputs": [],
   "source": [
    "# tweets_denials = pd.read_csv(\"@Twitter_Denials_predictions.csv\")"
   ]
  },
  {
   "cell_type": "code",
   "execution_count": 54,
   "id": "d31312d8",
   "metadata": {
    "ExecuteTime": {
     "end_time": "2022-12-06T09:23:54.304534Z",
     "start_time": "2022-12-06T09:23:54.298911Z"
    }
   },
   "outputs": [
    {
     "data": {
      "text/html": [
       "<div>\n",
       "<style scoped>\n",
       "    .dataframe tbody tr th:only-of-type {\n",
       "        vertical-align: middle;\n",
       "    }\n",
       "\n",
       "    .dataframe tbody tr th {\n",
       "        vertical-align: top;\n",
       "    }\n",
       "\n",
       "    .dataframe thead th {\n",
       "        text-align: right;\n",
       "    }\n",
       "</style>\n",
       "<table border=\"1\" class=\"dataframe\">\n",
       "  <thead>\n",
       "    <tr style=\"text-align: right;\">\n",
       "      <th></th>\n",
       "      <th>roberta_pred</th>\n",
       "    </tr>\n",
       "  </thead>\n",
       "  <tbody>\n",
       "    <tr>\n",
       "      <th>0_0</th>\n",
       "      <td>11712</td>\n",
       "    </tr>\n",
       "    <tr>\n",
       "      <th>5_2</th>\n",
       "      <td>65</td>\n",
       "    </tr>\n",
       "    <tr>\n",
       "      <th>4_1</th>\n",
       "      <td>7</td>\n",
       "    </tr>\n",
       "    <tr>\n",
       "      <th>4_4</th>\n",
       "      <td>2</td>\n",
       "    </tr>\n",
       "    <tr>\n",
       "      <th>5_1</th>\n",
       "      <td>1</td>\n",
       "    </tr>\n",
       "  </tbody>\n",
       "</table>\n",
       "</div>"
      ],
      "text/plain": [
       "     roberta_pred\n",
       "0_0         11712\n",
       "5_2            65\n",
       "4_1             7\n",
       "4_4             2\n",
       "5_1             1"
      ]
     },
     "execution_count": 54,
     "metadata": {},
     "output_type": "execute_result"
    }
   ],
   "source": [
    "tweets_denials.roberta_pred.value_counts().to_frame().head()"
   ]
  },
  {
   "cell_type": "code",
   "execution_count": 55,
   "id": "f44d64bf",
   "metadata": {
    "ExecuteTime": {
     "end_time": "2022-12-06T09:23:54.390316Z",
     "start_time": "2022-12-06T09:23:54.305801Z"
    }
   },
   "outputs": [
    {
     "data": {
      "text/plain": [
       "<AxesSubplot:>"
      ]
     },
     "execution_count": 55,
     "metadata": {},
     "output_type": "execute_result"
    },
    {
     "data": {
      "image/png": "[encoded data removed]",
      "text/plain": [
       "<Figure size 432x288 with 1 Axes>"
      ]
     },
     "metadata": {
      "needs_background": "light"
     },
     "output_type": "display_data"
    }
   ],
   "source": [
    "tweets_denials.roberta_pred.hist()"
   ]
  },
  {
   "cell_type": "code",
   "execution_count": 56,
   "id": "335ec6e9",
   "metadata": {
    "ExecuteTime": {
     "end_time": "2022-12-06T09:23:54.410681Z",
     "start_time": "2022-12-06T09:23:54.392334Z"
    }
   },
   "outputs": [
    {
     "data": {
      "text/html": [
       "<div>\n",
       "<style scoped>\n",
       "    .dataframe tbody tr th:only-of-type {\n",
       "        vertical-align: middle;\n",
       "    }\n",
       "\n",
       "    .dataframe tbody tr th {\n",
       "        vertical-align: top;\n",
       "    }\n",
       "\n",
       "    .dataframe thead th {\n",
       "        text-align: right;\n",
       "    }\n",
       "</style>\n",
       "<table border=\"1\" class=\"dataframe\">\n",
       "  <thead>\n",
       "    <tr style=\"text-align: right;\">\n",
       "      <th></th>\n",
       "      <th>text</th>\n",
       "      <th>roberta_pred</th>\n",
       "      <th>roberta_proba</th>\n",
       "    </tr>\n",
       "  </thead>\n",
       "  <tbody>\n",
       "    <tr>\n",
       "      <th>457</th>\n",
       "      <td>@CatoInstitute @CatoHealth @dr4liberty Ryan White was unavailable for comment.</td>\n",
       "      <td>0_0</td>\n",
       "      <td>0.999761</td>\n",
       "    </tr>\n",
       "    <tr>\n",
       "      <th>8514</th>\n",
       "      <td>@denhaag180 @PM_ViktorOrban @Heritage @KevinRobertsTX I wish he was your president too and not ours.</td>\n",
       "      <td>0_0</td>\n",
       "      <td>0.999783</td>\n",
       "    </tr>\n",
       "    <tr>\n",
       "      <th>59</th>\n",
       "      <td>\"For cops and prosecutors to do their jobs effectively, their motives must be beyond suspicion. But looking at the effect of civil forfeiture on law enforcement, this prosecutor’s firsthand experience suggests that we’re not there yet.\"\\n\\nhttps://t.co/Q28LVbbJWl\\n@ceidotorg</td>\n",
       "      <td>0_0</td>\n",
       "      <td>0.999830</td>\n",
       "    </tr>\n",
       "    <tr>\n",
       "      <th>368</th>\n",
       "      <td>@RepThomasMassie @Heritage @POTUS Ppl r being condemned on all sides of the #Covid19 narrative BUT where does the TRUTH lie among ALL these varying narratives, whether the narrative is from the average person or a world renowned scientist? Who is the decider of what is fact/fiction/information/misinformation?</td>\n",
       "      <td>0_0</td>\n",
       "      <td>0.999529</td>\n",
       "    </tr>\n",
       "    <tr>\n",
       "      <th>2416</th>\n",
       "      <td>You &amp;amp; @GOP @SenateGOP @HouseGOP bought it @mikepompeo … you broke it … #TrumpCrimeFamily is your #FrankensteinMonster \\n\\nFVCKing #CHOKEonTHAT \\n\\n@foxnews @oann @RSBNetwork @newsmax @infowars  @unite1st @BenBergquam @charliekirk11 @tpusa @frcdc @March_for_Life @FedSoc @Heritage https://t.co/GLHKcudQMu</td>\n",
       "      <td>0_0</td>\n",
       "      <td>0.999787</td>\n",
       "    </tr>\n",
       "  </tbody>\n",
       "</table>\n",
       "</div>"
      ],
      "text/plain": [
       "                                                                                                                                                                                                                                                                                                                        text  \\\n",
       "457                                                                                                                                                                                                                                           @CatoInstitute @CatoHealth @dr4liberty Ryan White was unavailable for comment.   \n",
       "8514                                                                                                                                                                                                                    @denhaag180 @PM_ViktorOrban @Heritage @KevinRobertsTX I wish he was your president too and not ours.   \n",
       "59                                       \"For cops and prosecutors to do their jobs effectively, their motives must be beyond suspicion. But looking at the effect of civil forfeiture on law enforcement, this prosecutor’s firsthand experience suggests that we’re not there yet.\"\\n\\nhttps://t.co/Q28LVbbJWl\\n@ceidotorg   \n",
       "368   @RepThomasMassie @Heritage @POTUS Ppl r being condemned on all sides of the #Covid19 narrative BUT where does the TRUTH lie among ALL these varying narratives, whether the narrative is from the average person or a world renowned scientist? Who is the decider of what is fact/fiction/information/misinformation?   \n",
       "2416     You &amp; @GOP @SenateGOP @HouseGOP bought it @mikepompeo … you broke it … #TrumpCrimeFamily is your #FrankensteinMonster \\n\\nFVCKing #CHOKEonTHAT \\n\\n@foxnews @oann @RSBNetwork @newsmax @infowars  @unite1st @BenBergquam @charliekirk11 @tpusa @frcdc @March_for_Life @FedSoc @Heritage https://t.co/GLHKcudQMu   \n",
       "\n",
       "     roberta_pred  roberta_proba  \n",
       "457           0_0       0.999761  \n",
       "8514          0_0       0.999783  \n",
       "59            0_0       0.999830  \n",
       "368           0_0       0.999529  \n",
       "2416          0_0       0.999787  "
      ]
     },
     "execution_count": 56,
     "metadata": {},
     "output_type": "execute_result"
    }
   ],
   "source": [
    "tweets_denials[[\"text\", \"roberta_pred\", \"roberta_proba\"]].sample(5)"
   ]
  },
  {
   "cell_type": "code",
   "execution_count": 57,
   "id": "376e7fc1",
   "metadata": {
    "ExecuteTime": {
     "end_time": "2022-12-06T09:23:54.420048Z",
     "start_time": "2022-12-06T09:23:54.412815Z"
    }
   },
   "outputs": [
    {
     "data": {
      "text/html": [
       "<div>\n",
       "<style scoped>\n",
       "    .dataframe tbody tr th:only-of-type {\n",
       "        vertical-align: middle;\n",
       "    }\n",
       "\n",
       "    .dataframe tbody tr th {\n",
       "        vertical-align: top;\n",
       "    }\n",
       "\n",
       "    .dataframe thead th {\n",
       "        text-align: right;\n",
       "    }\n",
       "</style>\n",
       "<table border=\"1\" class=\"dataframe\">\n",
       "  <thead>\n",
       "    <tr style=\"text-align: right;\">\n",
       "      <th></th>\n",
       "      <th>text</th>\n",
       "      <th>roberta_pred</th>\n",
       "      <th>roberta_proba</th>\n",
       "    </tr>\n",
       "  </thead>\n",
       "  <tbody>\n",
       "    <tr>\n",
       "      <th>8987</th>\n",
       "      <td>@Heritage What about the inflation reduction act. We all know that’s a fucking scam.</td>\n",
       "      <td>5_2</td>\n",
       "      <td>0.999149</td>\n",
       "    </tr>\n",
       "    <tr>\n",
       "      <th>103</th>\n",
       "      <td>@NileGardiner @Heritage Here is a test you guys must answer before you can have input anymore—- who was the president in oct 2020 when the trump White House asked twitter to remove / censor tweets. And twitter complied??? Can you answer??? No cheating  lol. Hypocrites</td>\n",
       "      <td>5_2</td>\n",
       "      <td>0.986456</td>\n",
       "    </tr>\n",
       "    <tr>\n",
       "      <th>4</th>\n",
       "      <td>@jenna_redux @FriendsOScience @myview1872 @CoryBMorgan @dlee_ann True science is “never” settled. That’s what makes it science. Climate “science” is fraudulent, wrong, and corrupted; scientific integrity has been sacrificed on the altar of political agenda. #corruptedscience #fraudulentscience #ClimateScam @jordanbpeterson @PeterDClack @CFACT</td>\n",
       "      <td>5_2</td>\n",
       "      <td>0.999487</td>\n",
       "    </tr>\n",
       "    <tr>\n",
       "      <th>5</th>\n",
       "      <td>My @ceidotorg colleague @Mario_A_Loyola brings some bracing realism to the climate change debate:\\nClimate Policies Not Based on Market Principles Will Fail\\nhttps://t.co/6aOddI87y5</td>\n",
       "      <td>4_1</td>\n",
       "      <td>0.637364</td>\n",
       "    </tr>\n",
       "    <tr>\n",
       "      <th>51</th>\n",
       "      <td>@davidrvetter @tan123 @HeartlandInst FALSE DAVE... \\n#DaveTheClimateScammer</td>\n",
       "      <td>5_2</td>\n",
       "      <td>0.998494</td>\n",
       "    </tr>\n",
       "  </tbody>\n",
       "</table>\n",
       "</div>"
      ],
      "text/plain": [
       "                                                                                                                                                                                                                                                                                                                                                          text  \\\n",
       "8987                                                                                                                                                                                                                                                                      @Heritage What about the inflation reduction act. We all know that’s a fucking scam.   \n",
       "103                                                                               @NileGardiner @Heritage Here is a test you guys must answer before you can have input anymore—- who was the president in oct 2020 when the trump White House asked twitter to remove / censor tweets. And twitter complied??? Can you answer??? No cheating  lol. Hypocrites   \n",
       "4     @jenna_redux @FriendsOScience @myview1872 @CoryBMorgan @dlee_ann True science is “never” settled. That’s what makes it science. Climate “science” is fraudulent, wrong, and corrupted; scientific integrity has been sacrificed on the altar of political agenda. #corruptedscience #fraudulentscience #ClimateScam @jordanbpeterson @PeterDClack @CFACT   \n",
       "5                                                                                                                                                                        My @ceidotorg colleague @Mario_A_Loyola brings some bracing realism to the climate change debate:\\nClimate Policies Not Based on Market Principles Will Fail\\nhttps://t.co/6aOddI87y5   \n",
       "51                                                                                                                                                                                                                                                                                 @davidrvetter @tan123 @HeartlandInst FALSE DAVE... \\n#DaveTheClimateScammer   \n",
       "\n",
       "     roberta_pred  roberta_proba  \n",
       "8987          5_2       0.999149  \n",
       "103           5_2       0.986456  \n",
       "4             5_2       0.999487  \n",
       "5             4_1       0.637364  \n",
       "51            5_2       0.998494  "
      ]
     },
     "execution_count": 57,
     "metadata": {},
     "output_type": "execute_result"
    }
   ],
   "source": [
    "tweets_denials.loc[tweets_denials.roberta_pred!=\"0_0\", [\"text\", \"roberta_pred\", \"roberta_proba\"]].sample(5)"
   ]
  },
  {
   "cell_type": "code",
   "execution_count": 58,
   "id": "55037ac3",
   "metadata": {
    "ExecuteTime": {
     "end_time": "2022-12-06T09:23:54.576433Z",
     "start_time": "2022-12-06T09:23:54.421272Z"
    }
   },
   "outputs": [],
   "source": [
    "file_denials = \"Twitter_scrapped/@Twitter_Denials_predictions_{}.csv\".format(today)\n",
    "tweets_denials.to_csv(file_denials)"
   ]
  },
  {
   "cell_type": "code",
   "execution_count": 28,
   "id": "f4269e84",
   "metadata": {
    "ExecuteTime": {
     "end_time": "2022-12-02T08:14:55.067561Z",
     "start_time": "2022-12-02T08:14:55.058056Z"
    }
   },
   "outputs": [],
   "source": [
    "samples = (\n",
    "    tweets_denials.groupby(\"roberta_pred\")\n",
    "    .sample(10, replace=True)[[\"text\", \"roberta_pred\", \"roberta_proba\"]]\n",
    "    .drop_duplicates(\"text\")\n",
    ")\n",
    "samples.to_csv(\"@Twitter_Denials_predictions_samples.csv\")"
   ]
  }
 ],
 "metadata": {
  "kernelspec": {
   "display_name": "Python 3 (ipykernel)",
   "language": "python",
   "name": "python3"
  },
  "language_info": {
   "codemirror_mode": {
    "name": "ipython",
    "version": 3
   },
   "file_extension": ".py",
   "mimetype": "text/x-python",
   "name": "python",
   "nbconvert_exporter": "python",
   "pygments_lexer": "ipython3",
   "version": "3.8.13"
  },
  "toc": {
   "base_numbering": 1,
   "nav_menu": {},
   "number_sections": true,
   "sideBar": true,
   "skip_h1_title": false,
   "title_cell": "Table of Contents",
   "title_sidebar": "Contents",
   "toc_cell": false,
   "toc_position": {
    "height": "calc(100% - 180px)",
    "left": "10px",
    "top": "150px",
    "width": "169px"
   },
   "toc_section_display": true,
   "toc_window_display": true
  }
 },
 "nbformat": 4,
 "nbformat_minor": 5
}
