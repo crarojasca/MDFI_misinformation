{
 "cells": [
  {
   "cell_type": "code",
   "execution_count": 1,
   "id": "b2362e3f",
   "metadata": {
    "ExecuteTime": {
     "end_time": "2023-07-06T04:59:49.079618Z",
     "start_time": "2023-07-06T04:59:48.862312Z"
    }
   },
   "outputs": [],
   "source": [
    "import pandas as pd"
   ]
  },
  {
   "cell_type": "code",
   "execution_count": 2,
   "id": "131e27b5",
   "metadata": {
    "ExecuteTime": {
     "end_time": "2023-07-06T05:00:16.891963Z",
     "start_time": "2023-07-06T05:00:16.889884Z"
    }
   },
   "outputs": [],
   "source": [
    "PATH = \"../datasets/\""
   ]
  },
  {
   "cell_type": "code",
   "execution_count": 3,
   "id": "d1afcccd",
   "metadata": {
    "ExecuteTime": {
     "end_time": "2023-07-06T05:00:25.167659Z",
     "start_time": "2023-07-06T05:00:24.294907Z"
    }
   },
   "outputs": [
    {
     "data": {
      "text/html": [
       "<div>\n",
       "<style scoped>\n",
       "    .dataframe tbody tr th:only-of-type {\n",
       "        vertical-align: middle;\n",
       "    }\n",
       "\n",
       "    .dataframe tbody tr th {\n",
       "        vertical-align: top;\n",
       "    }\n",
       "\n",
       "    .dataframe thead th {\n",
       "        text-align: right;\n",
       "    }\n",
       "</style>\n",
       "<table border=\"1\" class=\"dataframe\">\n",
       "  <thead>\n",
       "    <tr style=\"text-align: right;\">\n",
       "      <th></th>\n",
       "      <th>prompt</th>\n",
       "      <th>claim</th>\n",
       "      <th>PARTITION</th>\n",
       "      <th>labels</th>\n",
       "      <th>sentiment</th>\n",
       "      <th>tweetid</th>\n",
       "      <th>roberta_preprocessed</th>\n",
       "      <th>roberta_pred</th>\n",
       "      <th>roberta_proba</th>\n",
       "      <th>DATASET</th>\n",
       "      <th>...</th>\n",
       "      <th>bertweet_pred</th>\n",
       "      <th>bertweet_proba</th>\n",
       "      <th>gpt-3_curie_pred</th>\n",
       "      <th>gpt-3_curie_proba</th>\n",
       "      <th>electra_pred</th>\n",
       "      <th>electra_proba</th>\n",
       "      <th>xlnet_pred</th>\n",
       "      <th>xlnet_proba</th>\n",
       "      <th>electra_acc_pred</th>\n",
       "      <th>electra_acc_proba</th>\n",
       "    </tr>\n",
       "  </thead>\n",
       "  <tbody>\n",
       "    <tr>\n",
       "      <th>4244</th>\n",
       "      <td>\"In trying to overcome criticism of earlier at...</td>\n",
       "      <td>0_0</td>\n",
       "      <td>TRAIN</td>\n",
       "      <td>0</td>\n",
       "      <td>NaN</td>\n",
       "      <td>NaN</td>\n",
       "      <td>NaN</td>\n",
       "      <td>NaN</td>\n",
       "      <td>NaN</td>\n",
       "      <td>cards</td>\n",
       "      <td>...</td>\n",
       "      <td>0</td>\n",
       "      <td>[0.999966025352478, 3.3991836971836165e-05]</td>\n",
       "      <td>0</td>\n",
       "      <td>0.931705</td>\n",
       "      <td>0</td>\n",
       "      <td>[0.9963724613189697, 0.003627509344369173]</td>\n",
       "      <td>0</td>\n",
       "      <td>[0.9999784231185913, 2.157343624276109e-05]</td>\n",
       "      <td>0</td>\n",
       "      <td>[0.9682275056838989, 0.0317724347114563]</td>\n",
       "    </tr>\n",
       "  </tbody>\n",
       "</table>\n",
       "<p>1 rows × 30 columns</p>\n",
       "</div>"
      ],
      "text/plain": [
       "                                                 prompt claim PARTITION  \\\n",
       "4244  \"In trying to overcome criticism of earlier at...   0_0     TRAIN   \n",
       "\n",
       "      labels  sentiment  tweetid roberta_preprocessed roberta_pred  \\\n",
       "4244       0        NaN      NaN                  NaN          NaN   \n",
       "\n",
       "      roberta_proba DATASET  ... bertweet_pred  \\\n",
       "4244            NaN   cards  ...             0   \n",
       "\n",
       "                                   bertweet_proba  gpt-3_curie_pred  \\\n",
       "4244  [0.999966025352478, 3.3991836971836165e-05]                 0   \n",
       "\n",
       "     gpt-3_curie_proba  electra_pred  \\\n",
       "4244          0.931705             0   \n",
       "\n",
       "                                   electra_proba  xlnet_pred  \\\n",
       "4244  [0.9963724613189697, 0.003627509344369173]           0   \n",
       "\n",
       "                                      xlnet_proba  electra_acc_pred  \\\n",
       "4244  [0.9999784231185913, 2.157343624276109e-05]                 0   \n",
       "\n",
       "                             electra_acc_proba  \n",
       "4244  [0.9682275056838989, 0.0317724347114563]  \n",
       "\n",
       "[1 rows x 30 columns]"
      ]
     },
     "execution_count": 3,
     "metadata": {},
     "output_type": "execute_result"
    }
   ],
   "source": [
    "data = pd.read_csv(PATH + \"cards_waterloo.csv\", low_memory=False)\n",
    "data = data[data.DATASET.isin([\"cards\", \"waterloo\"])]\n",
    "data.sample()"
   ]
  },
  {
   "cell_type": "code",
   "execution_count": 13,
   "id": "879bf856",
   "metadata": {
    "ExecuteTime": {
     "end_time": "2023-07-06T05:10:38.524532Z",
     "start_time": "2023-07-06T05:10:38.506866Z"
    }
   },
   "outputs": [
    {
     "data": {
      "text/plain": [
       "(28945, 30)"
      ]
     },
     "execution_count": 13,
     "metadata": {},
     "output_type": "execute_result"
    }
   ],
   "source": [
    "data[data.DATASET==\"cards\"].shape"
   ]
  },
  {
   "cell_type": "code",
   "execution_count": 6,
   "id": "34779906",
   "metadata": {
    "ExecuteTime": {
     "end_time": "2023-07-06T05:07:42.358585Z",
     "start_time": "2023-07-06T05:07:42.302677Z"
    }
   },
   "outputs": [],
   "source": [
    "lvl2 = pd.read_csv(PATH + \"cards_second_level.csv\", low_memory=False)"
   ]
  },
  {
   "cell_type": "code",
   "execution_count": 10,
   "id": "1689789f",
   "metadata": {
    "ExecuteTime": {
     "end_time": "2023-07-06T05:08:59.182100Z",
     "start_time": "2023-07-06T05:08:59.153570Z"
    }
   },
   "outputs": [
    {
     "data": {
      "text/plain": [
       "(9113, 10)"
      ]
     },
     "execution_count": 10,
     "metadata": {},
     "output_type": "execute_result"
    }
   ],
   "source": [
    "lvl2.merge(\n",
    "    data[[\"prompt\", \"waterloo-cards_pred\", \"waterloo-cards_proba\"]],\n",
    "    \"inner\", left_on=\"text\", right_on=\"prompt\"\n",
    ").shape"
   ]
  },
  {
   "cell_type": "code",
   "execution_count": 7,
   "id": "25daa884",
   "metadata": {
    "ExecuteTime": {
     "end_time": "2023-07-06T05:07:44.684622Z",
     "start_time": "2023-07-06T05:07:44.677549Z"
    }
   },
   "outputs": [
    {
     "data": {
      "text/html": [
       "<div>\n",
       "<style scoped>\n",
       "    .dataframe tbody tr th:only-of-type {\n",
       "        vertical-align: middle;\n",
       "    }\n",
       "\n",
       "    .dataframe tbody tr th {\n",
       "        vertical-align: top;\n",
       "    }\n",
       "\n",
       "    .dataframe thead th {\n",
       "        text-align: right;\n",
       "    }\n",
       "</style>\n",
       "<table border=\"1\" class=\"dataframe\">\n",
       "  <thead>\n",
       "    <tr style=\"text-align: right;\">\n",
       "      <th></th>\n",
       "      <th>text</th>\n",
       "      <th>claim</th>\n",
       "      <th>PARTITION</th>\n",
       "      <th>DATASET</th>\n",
       "      <th>labels</th>\n",
       "      <th>cards_second_level_pred</th>\n",
       "      <th>cards_second_level_proba</th>\n",
       "    </tr>\n",
       "  </thead>\n",
       "  <tbody>\n",
       "    <tr>\n",
       "      <th>0</th>\n",
       "      <td>What do you do if you are a global warming ala...</td>\n",
       "      <td>5_1</td>\n",
       "      <td>TRAIN</td>\n",
       "      <td>cards</td>\n",
       "      <td>15</td>\n",
       "      <td>5_1</td>\n",
       "      <td>[1.07486917e-05 1.83377858e-05 1.42814820e-05 ...</td>\n",
       "    </tr>\n",
       "    <tr>\n",
       "      <th>1</th>\n",
       "      <td>Now, I am very interested in the AMO, since it...</td>\n",
       "      <td>1_1</td>\n",
       "      <td>TRAIN</td>\n",
       "      <td>cards</td>\n",
       "      <td>0</td>\n",
       "      <td>1_1</td>\n",
       "      <td>[8.09811347e-01 3.79437636e-03 1.42601290e-03 ...</td>\n",
       "    </tr>\n",
       "    <tr>\n",
       "      <th>2</th>\n",
       "      <td>There could also be other unknown mechanisms d...</td>\n",
       "      <td>2_1</td>\n",
       "      <td>TRAIN</td>\n",
       "      <td>cards</td>\n",
       "      <td>6</td>\n",
       "      <td>2_1</td>\n",
       "      <td>[2.71846113e-05 5.41158768e-05 2.20955374e-05 ...</td>\n",
       "    </tr>\n",
       "    <tr>\n",
       "      <th>3</th>\n",
       "      <td>One key problem is the sheer difficulty in bui...</td>\n",
       "      <td>4_4</td>\n",
       "      <td>TRAIN</td>\n",
       "      <td>cards</td>\n",
       "      <td>13</td>\n",
       "      <td>4_4</td>\n",
       "      <td>[9.18336131e-05 4.16765793e-05 5.62739818e-05 ...</td>\n",
       "    </tr>\n",
       "    <tr>\n",
       "      <th>4</th>\n",
       "      <td>I am sure that we can expect to see similar co...</td>\n",
       "      <td>1_1</td>\n",
       "      <td>TRAIN</td>\n",
       "      <td>cards</td>\n",
       "      <td>0</td>\n",
       "      <td>1_1</td>\n",
       "      <td>[9.97105992e-01 2.73771816e-04 2.93750140e-04 ...</td>\n",
       "    </tr>\n",
       "    <tr>\n",
       "      <th>...</th>\n",
       "      <td>...</td>\n",
       "      <td>...</td>\n",
       "      <td>...</td>\n",
       "      <td>...</td>\n",
       "      <td>...</td>\n",
       "      <td>...</td>\n",
       "      <td>...</td>\n",
       "    </tr>\n",
       "    <tr>\n",
       "      <th>9072</th>\n",
       "      <td>none of the Climategate panels mounted an inqu...</td>\n",
       "      <td>5_2</td>\n",
       "      <td>TEST</td>\n",
       "      <td>cards</td>\n",
       "      <td>16</td>\n",
       "      <td>5_2</td>\n",
       "      <td>[3.57666399e-05 2.30363685e-05 1.89122258e-05 ...</td>\n",
       "    </tr>\n",
       "    <tr>\n",
       "      <th>9073</th>\n",
       "      <td>Emails Reveal AGs Colluding with Green Groups ...</td>\n",
       "      <td>5_2</td>\n",
       "      <td>TEST</td>\n",
       "      <td>cards</td>\n",
       "      <td>16</td>\n",
       "      <td>5_2</td>\n",
       "      <td>[3.66881847e-05 2.35953229e-05 1.98014574e-05 ...</td>\n",
       "    </tr>\n",
       "    <tr>\n",
       "      <th>9074</th>\n",
       "      <td>Even before the Climategate Emails came to lig...</td>\n",
       "      <td>5_2</td>\n",
       "      <td>TEST</td>\n",
       "      <td>cards</td>\n",
       "      <td>16</td>\n",
       "      <td>5_2</td>\n",
       "      <td>[2.50073059e-05 2.11406825e-05 1.55425602e-05 ...</td>\n",
       "    </tr>\n",
       "    <tr>\n",
       "      <th>9075</th>\n",
       "      <td>In the interest of full disclosure, I have bee...</td>\n",
       "      <td>5_2</td>\n",
       "      <td>TEST</td>\n",
       "      <td>cards</td>\n",
       "      <td>16</td>\n",
       "      <td>5_2</td>\n",
       "      <td>[3.28213354e-05 2.84183711e-05 2.00926910e-05 ...</td>\n",
       "    </tr>\n",
       "    <tr>\n",
       "      <th>9076</th>\n",
       "      <td>As readers no doubt know, I have previously ob...</td>\n",
       "      <td>5_2</td>\n",
       "      <td>TEST</td>\n",
       "      <td>cards</td>\n",
       "      <td>16</td>\n",
       "      <td>5_2</td>\n",
       "      <td>[2.91102427e-05 1.93065721e-05 1.61785736e-05 ...</td>\n",
       "    </tr>\n",
       "  </tbody>\n",
       "</table>\n",
       "<p>9077 rows × 7 columns</p>\n",
       "</div>"
      ],
      "text/plain": [
       "                                                   text claim PARTITION  \\\n",
       "0     What do you do if you are a global warming ala...   5_1     TRAIN   \n",
       "1     Now, I am very interested in the AMO, since it...   1_1     TRAIN   \n",
       "2     There could also be other unknown mechanisms d...   2_1     TRAIN   \n",
       "3     One key problem is the sheer difficulty in bui...   4_4     TRAIN   \n",
       "4     I am sure that we can expect to see similar co...   1_1     TRAIN   \n",
       "...                                                 ...   ...       ...   \n",
       "9072  none of the Climategate panels mounted an inqu...   5_2      TEST   \n",
       "9073  Emails Reveal AGs Colluding with Green Groups ...   5_2      TEST   \n",
       "9074  Even before the Climategate Emails came to lig...   5_2      TEST   \n",
       "9075  In the interest of full disclosure, I have bee...   5_2      TEST   \n",
       "9076  As readers no doubt know, I have previously ob...   5_2      TEST   \n",
       "\n",
       "     DATASET  labels cards_second_level_pred  \\\n",
       "0      cards      15                     5_1   \n",
       "1      cards       0                     1_1   \n",
       "2      cards       6                     2_1   \n",
       "3      cards      13                     4_4   \n",
       "4      cards       0                     1_1   \n",
       "...      ...     ...                     ...   \n",
       "9072   cards      16                     5_2   \n",
       "9073   cards      16                     5_2   \n",
       "9074   cards      16                     5_2   \n",
       "9075   cards      16                     5_2   \n",
       "9076   cards      16                     5_2   \n",
       "\n",
       "                               cards_second_level_proba  \n",
       "0     [1.07486917e-05 1.83377858e-05 1.42814820e-05 ...  \n",
       "1     [8.09811347e-01 3.79437636e-03 1.42601290e-03 ...  \n",
       "2     [2.71846113e-05 5.41158768e-05 2.20955374e-05 ...  \n",
       "3     [9.18336131e-05 4.16765793e-05 5.62739818e-05 ...  \n",
       "4     [9.97105992e-01 2.73771816e-04 2.93750140e-04 ...  \n",
       "...                                                 ...  \n",
       "9072  [3.57666399e-05 2.30363685e-05 1.89122258e-05 ...  \n",
       "9073  [3.66881847e-05 2.35953229e-05 1.98014574e-05 ...  \n",
       "9074  [2.50073059e-05 2.11406825e-05 1.55425602e-05 ...  \n",
       "9075  [3.28213354e-05 2.84183711e-05 2.00926910e-05 ...  \n",
       "9076  [2.91102427e-05 1.93065721e-05 1.61785736e-05 ...  \n",
       "\n",
       "[9077 rows x 7 columns]"
      ]
     },
     "execution_count": 7,
     "metadata": {},
     "output_type": "execute_result"
    }
   ],
   "source": [
    "lvl2"
   ]
  },
  {
   "cell_type": "code",
   "execution_count": null,
   "id": "beb65019",
   "metadata": {},
   "outputs": [],
   "source": []
  }
 ],
 "metadata": {
  "kernelspec": {
   "display_name": "Python 3 (ipykernel)",
   "language": "python",
   "name": "python3"
  },
  "language_info": {
   "codemirror_mode": {
    "name": "ipython",
    "version": 3
   },
   "file_extension": ".py",
   "mimetype": "text/x-python",
   "name": "python",
   "nbconvert_exporter": "python",
   "pygments_lexer": "ipython3",
   "version": "3.8.13"
  },
  "toc": {
   "base_numbering": 1,
   "nav_menu": {},
   "number_sections": true,
   "sideBar": true,
   "skip_h1_title": false,
   "title_cell": "Table of Contents",
   "title_sidebar": "Contents",
   "toc_cell": false,
   "toc_position": {},
   "toc_section_display": true,
   "toc_window_display": false
  }
 },
 "nbformat": 4,
 "nbformat_minor": 5
}
