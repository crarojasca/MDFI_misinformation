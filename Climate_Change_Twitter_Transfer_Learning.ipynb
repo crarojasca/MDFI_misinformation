{
 "cells": [
  {
   "cell_type": "code",
   "execution_count": 2,
   "id": "65090c62",
   "metadata": {
    "ExecuteTime": {
     "end_time": "2022-12-11T09:57:40.839325Z",
     "start_time": "2022-12-11T09:57:39.233624Z"
    }
   },
   "outputs": [
    {
     "name": "stderr",
     "output_type": "stream",
     "text": [
      "[nltk_data] Downloading package stopwords to\n",
      "[nltk_data]     /home/crarojasca/nltk_data...\n",
      "[nltk_data]   Package stopwords is already up-to-date!\n"
     ]
    }
   ],
   "source": [
    "import os\n",
    "import re\n",
    "import json\n",
    "import math\n",
    "import time\n",
    "import demoji\n",
    "import curlify\n",
    "import requests\n",
    "import pandas as pd\n",
    "\n",
    "import pickle\n",
    "from scipy.special import softmax\n",
    "\n",
    "import nltk\n",
    "from nltk.corpus import stopwords\n",
    "nltk.download('stopwords')\n",
    "\n",
    "from tqdm.notebook import tqdm\n",
    "\n",
    "all_stopwords = stopwords.words('english')\n",
    "pd.set_option('display.max_colwidth', None)\n",
    "\n",
    "bearer_token = \"AAAAAAAAAAAAAAAAAAAAADSXjAEAAAAAQ32sCpTWcilVX%2BQj0BjOArOSYCE%3DUax6ZCizLRwwQcWQirExGQEDEB903dxBZKM4LAuGTMTvMa4jVP\"\n",
    "\n",
    "from datetime import date\n",
    "\n",
    "today = date.today()"
   ]
  },
  {
   "cell_type": "code",
   "execution_count": 3,
   "id": "bfd6f09f",
   "metadata": {
    "ExecuteTime": {
     "end_time": "2022-12-11T09:58:01.130734Z",
     "start_time": "2022-12-11T09:57:41.090846Z"
    }
   },
   "outputs": [],
   "source": [
    "data = pd.read_csv(\"archive/The Climate Change Twitter Dataset.csv\")"
   ]
  },
  {
   "cell_type": "code",
   "execution_count": 4,
   "id": "74851161",
   "metadata": {
    "ExecuteTime": {
     "end_time": "2022-12-11T09:58:10.288074Z",
     "start_time": "2022-12-11T09:58:10.280522Z"
    }
   },
   "outputs": [
    {
     "data": {
      "text/plain": [
       "(15789411, 10)"
      ]
     },
     "execution_count": 4,
     "metadata": {},
     "output_type": "execute_result"
    }
   ],
   "source": [
    "data.shape"
   ]
  },
  {
   "cell_type": "code",
   "execution_count": 5,
   "id": "65767339",
   "metadata": {
    "ExecuteTime": {
     "end_time": "2022-12-11T09:58:11.149811Z",
     "start_time": "2022-12-11T09:58:11.127759Z"
    }
   },
   "outputs": [
    {
     "data": {
      "text/html": [
       "<div>\n",
       "<style scoped>\n",
       "    .dataframe tbody tr th:only-of-type {\n",
       "        vertical-align: middle;\n",
       "    }\n",
       "\n",
       "    .dataframe tbody tr th {\n",
       "        vertical-align: top;\n",
       "    }\n",
       "\n",
       "    .dataframe thead th {\n",
       "        text-align: right;\n",
       "    }\n",
       "</style>\n",
       "<table border=\"1\" class=\"dataframe\">\n",
       "  <thead>\n",
       "    <tr style=\"text-align: right;\">\n",
       "      <th></th>\n",
       "      <th>created_at</th>\n",
       "      <th>id</th>\n",
       "      <th>lng</th>\n",
       "      <th>lat</th>\n",
       "      <th>topic</th>\n",
       "      <th>sentiment</th>\n",
       "      <th>stance</th>\n",
       "      <th>gender</th>\n",
       "      <th>temperature_avg</th>\n",
       "      <th>aggressiveness</th>\n",
       "    </tr>\n",
       "  </thead>\n",
       "  <tbody>\n",
       "    <tr>\n",
       "      <th>0</th>\n",
       "      <td>2006-06-06 16:06:42+00:00</td>\n",
       "      <td>6132</td>\n",
       "      <td>NaN</td>\n",
       "      <td>NaN</td>\n",
       "      <td>Weather Extremes</td>\n",
       "      <td>-0.097180</td>\n",
       "      <td>neutral</td>\n",
       "      <td>female</td>\n",
       "      <td>NaN</td>\n",
       "      <td>aggressive</td>\n",
       "    </tr>\n",
       "    <tr>\n",
       "      <th>1</th>\n",
       "      <td>2006-07-23 21:52:30+00:00</td>\n",
       "      <td>13275</td>\n",
       "      <td>-73.949582</td>\n",
       "      <td>40.650104</td>\n",
       "      <td>Weather Extremes</td>\n",
       "      <td>0.575777</td>\n",
       "      <td>neutral</td>\n",
       "      <td>undefined</td>\n",
       "      <td>-1.114768</td>\n",
       "      <td>aggressive</td>\n",
       "    </tr>\n",
       "    <tr>\n",
       "      <th>2</th>\n",
       "      <td>2006-08-29 01:52:30+00:00</td>\n",
       "      <td>23160</td>\n",
       "      <td>NaN</td>\n",
       "      <td>NaN</td>\n",
       "      <td>Weather Extremes</td>\n",
       "      <td>0.500479</td>\n",
       "      <td>neutral</td>\n",
       "      <td>male</td>\n",
       "      <td>NaN</td>\n",
       "      <td>aggressive</td>\n",
       "    </tr>\n",
       "    <tr>\n",
       "      <th>3</th>\n",
       "      <td>2006-11-07 02:46:52+00:00</td>\n",
       "      <td>57868</td>\n",
       "      <td>NaN</td>\n",
       "      <td>NaN</td>\n",
       "      <td>Weather Extremes</td>\n",
       "      <td>0.032816</td>\n",
       "      <td>neutral</td>\n",
       "      <td>male</td>\n",
       "      <td>NaN</td>\n",
       "      <td>aggressive</td>\n",
       "    </tr>\n",
       "    <tr>\n",
       "      <th>4</th>\n",
       "      <td>2006-11-27 14:27:43+00:00</td>\n",
       "      <td>304553</td>\n",
       "      <td>NaN</td>\n",
       "      <td>NaN</td>\n",
       "      <td>Importance of Human Intervantion</td>\n",
       "      <td>-0.090428</td>\n",
       "      <td>neutral</td>\n",
       "      <td>male</td>\n",
       "      <td>NaN</td>\n",
       "      <td>aggressive</td>\n",
       "    </tr>\n",
       "  </tbody>\n",
       "</table>\n",
       "</div>"
      ],
      "text/plain": [
       "                  created_at      id        lng        lat  \\\n",
       "0  2006-06-06 16:06:42+00:00    6132        NaN        NaN   \n",
       "1  2006-07-23 21:52:30+00:00   13275 -73.949582  40.650104   \n",
       "2  2006-08-29 01:52:30+00:00   23160        NaN        NaN   \n",
       "3  2006-11-07 02:46:52+00:00   57868        NaN        NaN   \n",
       "4  2006-11-27 14:27:43+00:00  304553        NaN        NaN   \n",
       "\n",
       "                              topic  sentiment   stance     gender  \\\n",
       "0                  Weather Extremes  -0.097180  neutral     female   \n",
       "1                  Weather Extremes   0.575777  neutral  undefined   \n",
       "2                  Weather Extremes   0.500479  neutral       male   \n",
       "3                  Weather Extremes   0.032816  neutral       male   \n",
       "4  Importance of Human Intervantion  -0.090428  neutral       male   \n",
       "\n",
       "   temperature_avg aggressiveness  \n",
       "0              NaN     aggressive  \n",
       "1        -1.114768     aggressive  \n",
       "2              NaN     aggressive  \n",
       "3              NaN     aggressive  \n",
       "4              NaN     aggressive  "
      ]
     },
     "execution_count": 5,
     "metadata": {},
     "output_type": "execute_result"
    }
   ],
   "source": [
    "data.head()"
   ]
  },
  {
   "cell_type": "code",
   "execution_count": 6,
   "id": "4252f47f",
   "metadata": {
    "ExecuteTime": {
     "end_time": "2022-12-11T09:58:30.875407Z",
     "start_time": "2022-12-11T09:58:30.083861Z"
    }
   },
   "outputs": [
    {
     "data": {
      "text/plain": [
       "Global stance                                 4135619\n",
       "Importance of Human Intervantion              2594941\n",
       "Weather Extremes                              2464814\n",
       "Politics                                      1809583\n",
       "Undefined / One Word Hashtags                 1305118\n",
       "Donald Trump versus Science                    996244\n",
       "Seriousness of Gas Emissions                   903478\n",
       "Ideological Positions on Global Warming        602695\n",
       "Impact of Resource Overconsumption             496924\n",
       "Significance of Pollution Awareness Events     479995\n",
       "Name: topic, dtype: int64"
      ]
     },
     "execution_count": 6,
     "metadata": {},
     "output_type": "execute_result"
    }
   ],
   "source": [
    "data.topic.value_counts()"
   ]
  },
  {
   "cell_type": "code",
   "execution_count": 8,
   "id": "bdb4db1c",
   "metadata": {
    "ExecuteTime": {
     "end_time": "2022-12-11T10:00:02.965201Z",
     "start_time": "2022-12-11T10:00:01.130477Z"
    }
   },
   "outputs": [
    {
     "data": {
      "text/html": [
       "<div>\n",
       "<style scoped>\n",
       "    .dataframe tbody tr th:only-of-type {\n",
       "        vertical-align: middle;\n",
       "    }\n",
       "\n",
       "    .dataframe tbody tr th {\n",
       "        vertical-align: top;\n",
       "    }\n",
       "\n",
       "    .dataframe thead th {\n",
       "        text-align: right;\n",
       "    }\n",
       "</style>\n",
       "<table border=\"1\" class=\"dataframe\">\n",
       "  <thead>\n",
       "    <tr style=\"text-align: right;\">\n",
       "      <th></th>\n",
       "      <th></th>\n",
       "      <th>id</th>\n",
       "    </tr>\n",
       "    <tr>\n",
       "      <th>topic</th>\n",
       "      <th>stance</th>\n",
       "      <th></th>\n",
       "    </tr>\n",
       "  </thead>\n",
       "  <tbody>\n",
       "    <tr>\n",
       "      <th rowspan=\"3\" valign=\"top\">Donald Trump versus Science</th>\n",
       "      <th>believer</th>\n",
       "      <td>581485</td>\n",
       "    </tr>\n",
       "    <tr>\n",
       "      <th>denier</th>\n",
       "      <td>232399</td>\n",
       "    </tr>\n",
       "    <tr>\n",
       "      <th>neutral</th>\n",
       "      <td>182360</td>\n",
       "    </tr>\n",
       "    <tr>\n",
       "      <th rowspan=\"3\" valign=\"top\">Global stance</th>\n",
       "      <th>believer</th>\n",
       "      <td>3418290</td>\n",
       "    </tr>\n",
       "    <tr>\n",
       "      <th>denier</th>\n",
       "      <td>140215</td>\n",
       "    </tr>\n",
       "    <tr>\n",
       "      <th>neutral</th>\n",
       "      <td>577114</td>\n",
       "    </tr>\n",
       "    <tr>\n",
       "      <th rowspan=\"3\" valign=\"top\">Ideological Positions on Global Warming</th>\n",
       "      <th>believer</th>\n",
       "      <td>358888</td>\n",
       "    </tr>\n",
       "    <tr>\n",
       "      <th>denier</th>\n",
       "      <td>79466</td>\n",
       "    </tr>\n",
       "    <tr>\n",
       "      <th>neutral</th>\n",
       "      <td>164341</td>\n",
       "    </tr>\n",
       "    <tr>\n",
       "      <th rowspan=\"3\" valign=\"top\">Impact of Resource Overconsumption</th>\n",
       "      <th>believer</th>\n",
       "      <td>325151</td>\n",
       "    </tr>\n",
       "    <tr>\n",
       "      <th>denier</th>\n",
       "      <td>32805</td>\n",
       "    </tr>\n",
       "    <tr>\n",
       "      <th>neutral</th>\n",
       "      <td>138968</td>\n",
       "    </tr>\n",
       "    <tr>\n",
       "      <th rowspan=\"3\" valign=\"top\">Importance of Human Intervantion</th>\n",
       "      <th>believer</th>\n",
       "      <td>2067505</td>\n",
       "    </tr>\n",
       "    <tr>\n",
       "      <th>denier</th>\n",
       "      <td>119330</td>\n",
       "    </tr>\n",
       "    <tr>\n",
       "      <th>neutral</th>\n",
       "      <td>408106</td>\n",
       "    </tr>\n",
       "    <tr>\n",
       "      <th rowspan=\"3\" valign=\"top\">Politics</th>\n",
       "      <th>believer</th>\n",
       "      <td>1372888</td>\n",
       "    </tr>\n",
       "    <tr>\n",
       "      <th>denier</th>\n",
       "      <td>113779</td>\n",
       "    </tr>\n",
       "    <tr>\n",
       "      <th>neutral</th>\n",
       "      <td>322916</td>\n",
       "    </tr>\n",
       "    <tr>\n",
       "      <th rowspan=\"3\" valign=\"top\">Seriousness of Gas Emissions</th>\n",
       "      <th>believer</th>\n",
       "      <td>573474</td>\n",
       "    </tr>\n",
       "    <tr>\n",
       "      <th>denier</th>\n",
       "      <td>107749</td>\n",
       "    </tr>\n",
       "    <tr>\n",
       "      <th>neutral</th>\n",
       "      <td>222255</td>\n",
       "    </tr>\n",
       "    <tr>\n",
       "      <th rowspan=\"3\" valign=\"top\">Significance of Pollution Awareness Events</th>\n",
       "      <th>believer</th>\n",
       "      <td>339123</td>\n",
       "    </tr>\n",
       "    <tr>\n",
       "      <th>denier</th>\n",
       "      <td>11559</td>\n",
       "    </tr>\n",
       "    <tr>\n",
       "      <th>neutral</th>\n",
       "      <td>129313</td>\n",
       "    </tr>\n",
       "    <tr>\n",
       "      <th rowspan=\"3\" valign=\"top\">Undefined / One Word Hashtags</th>\n",
       "      <th>believer</th>\n",
       "      <td>1050281</td>\n",
       "    </tr>\n",
       "    <tr>\n",
       "      <th>denier</th>\n",
       "      <td>36343</td>\n",
       "    </tr>\n",
       "    <tr>\n",
       "      <th>neutral</th>\n",
       "      <td>218494</td>\n",
       "    </tr>\n",
       "    <tr>\n",
       "      <th rowspan=\"3\" valign=\"top\">Weather Extremes</th>\n",
       "      <th>believer</th>\n",
       "      <td>1205339</td>\n",
       "    </tr>\n",
       "    <tr>\n",
       "      <th>denier</th>\n",
       "      <td>317741</td>\n",
       "    </tr>\n",
       "    <tr>\n",
       "      <th>neutral</th>\n",
       "      <td>941734</td>\n",
       "    </tr>\n",
       "  </tbody>\n",
       "</table>\n",
       "</div>"
      ],
      "text/plain": [
       "                                                          id\n",
       "topic                                      stance           \n",
       "Donald Trump versus Science                believer   581485\n",
       "                                           denier     232399\n",
       "                                           neutral    182360\n",
       "Global stance                              believer  3418290\n",
       "                                           denier     140215\n",
       "                                           neutral    577114\n",
       "Ideological Positions on Global Warming    believer   358888\n",
       "                                           denier      79466\n",
       "                                           neutral    164341\n",
       "Impact of Resource Overconsumption         believer   325151\n",
       "                                           denier      32805\n",
       "                                           neutral    138968\n",
       "Importance of Human Intervantion           believer  2067505\n",
       "                                           denier     119330\n",
       "                                           neutral    408106\n",
       "Politics                                   believer  1372888\n",
       "                                           denier     113779\n",
       "                                           neutral    322916\n",
       "Seriousness of Gas Emissions               believer   573474\n",
       "                                           denier     107749\n",
       "                                           neutral    222255\n",
       "Significance of Pollution Awareness Events believer   339123\n",
       "                                           denier      11559\n",
       "                                           neutral    129313\n",
       "Undefined / One Word Hashtags              believer  1050281\n",
       "                                           denier      36343\n",
       "                                           neutral    218494\n",
       "Weather Extremes                           believer  1205339\n",
       "                                           denier     317741\n",
       "                                           neutral    941734"
      ]
     },
     "execution_count": 8,
     "metadata": {},
     "output_type": "execute_result"
    }
   ],
   "source": [
    "data.groupby([\"topic\", \"stance\"]).id.count().to_frame()"
   ]
  },
  {
   "cell_type": "code",
   "execution_count": 9,
   "id": "4d427ab4",
   "metadata": {
    "ExecuteTime": {
     "end_time": "2022-12-08T13:52:45.153885Z",
     "start_time": "2022-12-08T13:52:38.743569Z"
    }
   },
   "outputs": [],
   "source": [
    "s = requests.Session()\n",
    "def getTweetId(id_):\n",
    "    # Twitter Endpoint\n",
    "    url = \"https://api.twitter.com/2/tweets/{}\".format(id_)\n",
    "    \n",
    "    \n",
    "    # Auth Bearer no research access or premium for the moment\n",
    "    headers = {\n",
    "        \"Authorization\": \"Bearer {}\".format(bearer_token)\n",
    "    }\n",
    "    \n",
    "    # Query parameters\n",
    "    params = {\n",
    "    #     'start_time': start_date,\n",
    "    #     'end_time': end_date,\n",
    "        'expansions': 'author_id,in_reply_to_user_id,geo.place_id',\n",
    "        'tweet.fields': 'id,text,author_id,in_reply_to_user_id,geo,conversation_id,created_at,lang,public_metrics,referenced_tweets,reply_settings,source',\n",
    "        'user.fields': 'id,name,username,created_at,description,public_metrics,verified',\n",
    "        'place.fields': 'full_name,id,country,country_code,geo,name,place_type',\n",
    "        'next_token': {}\n",
    "    }\n",
    "    \n",
    "    try:\n",
    "        time.sleep(6)\n",
    "        req = requests.Request(\n",
    "            \"GET\",\n",
    "            url,\n",
    "            params=params,\n",
    "            headers=headers\n",
    "        ).prepare()\n",
    "\n",
    "        response = s.send(req)\n",
    "        results = json.loads(response.text)\n",
    "        return results\n",
    "    except:\n",
    "        print(json.loads(response.text))\n",
    "        "
   ]
  },
  {
   "cell_type": "code",
   "execution_count": 20,
   "id": "755bb6a9",
   "metadata": {
    "ExecuteTime": {
     "end_time": "2022-12-08T22:26:59.078021Z",
     "start_time": "2022-12-08T22:16:32.213055Z"
    }
   },
   "outputs": [
    {
     "data": {
      "application/vnd.jupyter.widget-view+json": {
       "model_id": "adef1ab123cf4916826440ce7f9732a4",
       "version_major": 2,
       "version_minor": 0
      },
      "text/plain": [
       "  0%|          | 0/100 [00:00<?, ?it/s]"
      ]
     },
     "metadata": {},
     "output_type": "display_data"
    }
   ],
   "source": [
    "res_tweets = []\n",
    "for id_ in tqdm(data.id.unique().tolist()[:5]):\n",
    "    res_tweets += [getTweetId(id_)]"
   ]
  },
  {
   "cell_type": "code",
   "execution_count": 1,
   "id": "e92ce042",
   "metadata": {
    "ExecuteTime": {
     "end_time": "2022-12-11T09:57:15.468562Z",
     "start_time": "2022-12-11T09:57:15.064716Z"
    }
   },
   "outputs": [
    {
     "ename": "NameError",
     "evalue": "name 'res_tweets' is not defined",
     "output_type": "error",
     "traceback": [
      "\u001b[0;31m---------------------------------------------------------------------------\u001b[0m",
      "\u001b[0;31mNameError\u001b[0m                                 Traceback (most recent call last)",
      "Input \u001b[0;32mIn [1]\u001b[0m, in \u001b[0;36m<cell line: 1>\u001b[0;34m()\u001b[0m\n\u001b[0;32m----> 1\u001b[0m \u001b[38;5;28mlen\u001b[39m(\u001b[43mres_tweets\u001b[49m)\n",
      "\u001b[0;31mNameError\u001b[0m: name 'res_tweets' is not defined"
     ]
    }
   ],
   "source": [
    "len(res_tweets)"
   ]
  },
  {
   "cell_type": "code",
   "execution_count": 19,
   "id": "02dee3fe",
   "metadata": {
    "ExecuteTime": {
     "end_time": "2022-12-08T22:15:29.301143Z",
     "start_time": "2022-12-08T22:15:29.297347Z"
    }
   },
   "outputs": [
    {
     "data": {
      "text/plain": [
       "[{'data': {'author_id': '53',\n",
       "   'id': '6132',\n",
       "   'public_metrics': {'retweet_count': 2,\n",
       "    'reply_count': 7,\n",
       "    'like_count': 11,\n",
       "    'quote_count': 3},\n",
       "   'text': \"my dentist just explained to me that global warming isn't necessarily due to pollution.\",\n",
       "   'conversation_id': '6132',\n",
       "   'created_at': '2006-06-06T16:06:42.000Z',\n",
       "   'lang': 'en',\n",
       "   'edit_history_tweet_ids': ['6132'],\n",
       "   'reply_settings': 'everyone'},\n",
       "  'includes': {'users': [{'created_at': '2006-04-01T01:55:49.000Z',\n",
       "     'id': '53',\n",
       "     'username': 'sara',\n",
       "     'verified': False,\n",
       "     'name': 'sara m. williams',\n",
       "     'public_metrics': {'followers_count': 90090,\n",
       "      'following_count': 690,\n",
       "      'tweet_count': 2691,\n",
       "      'listed_count': 1590},\n",
       "     'description': ''}]}},\n",
       " {'errors': [{'value': '13275',\n",
       "    'detail': 'Could not find tweet with id: [13275].',\n",
       "    'title': 'Not Found Error',\n",
       "    'resource_type': 'tweet',\n",
       "    'parameter': 'id',\n",
       "    'resource_id': '13275',\n",
       "    'type': 'https://api.twitter.com/2/problems/resource-not-found'}]},\n",
       " {'data': {'id': '23160',\n",
       "   'text': 'reading the economist and looking forward to global warming.',\n",
       "   'conversation_id': '23160',\n",
       "   'reply_settings': 'everyone',\n",
       "   'public_metrics': {'retweet_count': 1,\n",
       "    'reply_count': 0,\n",
       "    'like_count': 0,\n",
       "    'quote_count': 0},\n",
       "   'created_at': '2006-08-29T01:52:30.000Z',\n",
       "   'lang': 'en',\n",
       "   'edit_history_tweet_ids': ['23160'],\n",
       "   'author_id': '4939'},\n",
       "  'includes': {'users': [{'username': 'renoSFO',\n",
       "     'name': 'Reno Marioni',\n",
       "     'created_at': '2006-08-29T01:47:46.000Z',\n",
       "     'public_metrics': {'followers_count': 434,\n",
       "      'following_count': 333,\n",
       "      'tweet_count': 828,\n",
       "      'listed_count': 37},\n",
       "     'id': '4939',\n",
       "     'description': '',\n",
       "     'verified': False}]}}]"
      ]
     },
     "execution_count": 19,
     "metadata": {},
     "output_type": "execute_result"
    }
   ],
   "source": [
    "res_tweets"
   ]
  },
  {
   "cell_type": "code",
   "execution_count": 12,
   "id": "e0d3b9c8",
   "metadata": {
    "ExecuteTime": {
     "end_time": "2022-12-08T13:54:13.156754Z",
     "start_time": "2022-12-08T13:54:00.598507Z"
    }
   },
   "outputs": [
    {
     "data": {
      "text/html": [
       "<div>\n",
       "<style scoped>\n",
       "    .dataframe tbody tr th:only-of-type {\n",
       "        vertical-align: middle;\n",
       "    }\n",
       "\n",
       "    .dataframe tbody tr th {\n",
       "        vertical-align: top;\n",
       "    }\n",
       "\n",
       "    .dataframe thead th {\n",
       "        text-align: right;\n",
       "    }\n",
       "</style>\n",
       "<table border=\"1\" class=\"dataframe\">\n",
       "  <thead>\n",
       "    <tr style=\"text-align: right;\">\n",
       "      <th></th>\n",
       "      <th>data</th>\n",
       "      <th>includes</th>\n",
       "      <th>errors</th>\n",
       "    </tr>\n",
       "  </thead>\n",
       "  <tbody>\n",
       "    <tr>\n",
       "      <th>0</th>\n",
       "      <td>{'created_at': '2006-06-06T16:06:42.000Z', 'author_id': '53', 'public_metrics': {'retweet_count': 2, 'reply_count': 7, 'like_count': 11, 'quote_count': 3}, 'edit_history_tweet_ids': ['6132'], 'id': '6132', 'text': 'my dentist just explained to me that global warming isn't necessarily due to pollution.', 'source': 'Twitter SMS', 'conversation_id': '6132', 'lang': 'en', 'reply_settings': 'everyone'}</td>\n",
       "      <td>{'users': [{'public_metrics': {'followers_count': 90090, 'following_count': 690, 'tweet_count': 2691, 'listed_count': 1590}, 'verified': False, 'username': 'sara', 'name': 'sara m. williams', 'description': '', 'created_at': '2006-04-01T01:55:49.000Z', 'id': '53'}]}</td>\n",
       "      <td>NaN</td>\n",
       "    </tr>\n",
       "    <tr>\n",
       "      <th>1</th>\n",
       "      <td>NaN</td>\n",
       "      <td>NaN</td>\n",
       "      <td>[{'value': '13275', 'detail': 'Could not find tweet with id: [13275].', 'title': 'Not Found Error', 'resource_type': 'tweet', 'parameter': 'id', 'resource_id': '13275', 'type': 'https://api.twitter.com/2/problems/resource-not-found'}]</td>\n",
       "    </tr>\n",
       "  </tbody>\n",
       "</table>\n",
       "</div>"
      ],
      "text/plain": [
       "                                                                                                                                                                                                                                                                                                                                                                                                               data  \\\n",
       "0  {'created_at': '2006-06-06T16:06:42.000Z', 'author_id': '53', 'public_metrics': {'retweet_count': 2, 'reply_count': 7, 'like_count': 11, 'quote_count': 3}, 'edit_history_tweet_ids': ['6132'], 'id': '6132', 'text': 'my dentist just explained to me that global warming isn't necessarily due to pollution.', 'source': 'Twitter SMS', 'conversation_id': '6132', 'lang': 'en', 'reply_settings': 'everyone'}   \n",
       "1                                                                                                                                                                                                                                                                                                                                                                                                               NaN   \n",
       "\n",
       "                                                                                                                                                                                                                                                                     includes  \\\n",
       "0  {'users': [{'public_metrics': {'followers_count': 90090, 'following_count': 690, 'tweet_count': 2691, 'listed_count': 1590}, 'verified': False, 'username': 'sara', 'name': 'sara m. williams', 'description': '', 'created_at': '2006-04-01T01:55:49.000Z', 'id': '53'}]}   \n",
       "1                                                                                                                                                                                                                                                                         NaN   \n",
       "\n",
       "                                                                                                                                                                                                                                       errors  \n",
       "0                                                                                                                                                                                                                                         NaN  \n",
       "1  [{'value': '13275', 'detail': 'Could not find tweet with id: [13275].', 'title': 'Not Found Error', 'resource_type': 'tweet', 'parameter': 'id', 'resource_id': '13275', 'type': 'https://api.twitter.com/2/problems/resource-not-found'}]  "
      ]
     },
     "execution_count": 12,
     "metadata": {},
     "output_type": "execute_result"
    }
   ],
   "source": [
    "pd.DataFrame([getTweetId(6132), getTweetId(13275)])"
   ]
  },
  {
   "cell_type": "code",
   "execution_count": null,
   "id": "d41e1675",
   "metadata": {},
   "outputs": [],
   "source": [
    "tweet_res[\"data\"]"
   ]
  },
  {
   "cell_type": "code",
   "execution_count": 11,
   "id": "ac8d6485",
   "metadata": {
    "ExecuteTime": {
     "end_time": "2022-12-08T13:53:05.212476Z",
     "start_time": "2022-12-08T13:53:05.208327Z"
    }
   },
   "outputs": [
    {
     "data": {
      "text/plain": [
       "{'data': {'public_metrics': {'retweet_count': 2,\n",
       "   'reply_count': 7,\n",
       "   'like_count': 11,\n",
       "   'quote_count': 3},\n",
       "  'author_id': '53',\n",
       "  'lang': 'en',\n",
       "  'edit_history_tweet_ids': ['6132'],\n",
       "  'conversation_id': '6132',\n",
       "  'source': 'Twitter SMS',\n",
       "  'reply_settings': 'everyone',\n",
       "  'text': \"my dentist just explained to me that global warming isn't necessarily due to pollution.\",\n",
       "  'created_at': '2006-06-06T16:06:42.000Z',\n",
       "  'id': '6132'},\n",
       " 'includes': {'users': [{'name': 'sara m. williams',\n",
       "    'public_metrics': {'followers_count': 90090,\n",
       "     'following_count': 690,\n",
       "     'tweet_count': 2691,\n",
       "     'listed_count': 1590},\n",
       "    'description': '',\n",
       "    'created_at': '2006-04-01T01:55:49.000Z',\n",
       "    'username': 'sara',\n",
       "    'id': '53',\n",
       "    'verified': False}]}}"
      ]
     },
     "execution_count": 11,
     "metadata": {},
     "output_type": "execute_result"
    }
   ],
   "source": [
    "tweet_res"
   ]
  },
  {
   "cell_type": "code",
   "execution_count": 23,
   "id": "2c91d91a",
   "metadata": {
    "ExecuteTime": {
     "end_time": "2022-12-09T14:39:17.161977Z",
     "start_time": "2022-12-09T14:39:17.076012Z"
    }
   },
   "outputs": [],
   "source": [
    "import pandas as pd\n",
    "\n",
    "data = pd.read_csv(\"Twitter_scrapped/climateScam/@ClimateScam_CARDS_predictions.csv\")"
   ]
  },
  {
   "cell_type": "code",
   "execution_count": 25,
   "id": "ad549301",
   "metadata": {
    "ExecuteTime": {
     "end_time": "2022-12-09T14:39:42.472635Z",
     "start_time": "2022-12-09T14:39:42.467599Z"
    }
   },
   "outputs": [
    {
     "data": {
      "text/plain": [
       "'2022-11-17T13:48:42.000Z'"
      ]
     },
     "execution_count": 25,
     "metadata": {},
     "output_type": "execute_result"
    }
   ],
   "source": [
    "data.created_at.min()"
   ]
  }
 ],
 "metadata": {
  "kernelspec": {
   "display_name": "Python 3 (ipykernel)",
   "language": "python",
   "name": "python3"
  },
  "language_info": {
   "codemirror_mode": {
    "name": "ipython",
    "version": 3
   },
   "file_extension": ".py",
   "mimetype": "text/x-python",
   "name": "python",
   "nbconvert_exporter": "python",
   "pygments_lexer": "ipython3",
   "version": "3.8.13"
  },
  "toc": {
   "base_numbering": 1,
   "nav_menu": {},
   "number_sections": true,
   "sideBar": true,
   "skip_h1_title": false,
   "title_cell": "Table of Contents",
   "title_sidebar": "Contents",
   "toc_cell": false,
   "toc_position": {},
   "toc_section_display": true,
   "toc_window_display": false
  }
 },
 "nbformat": 4,
 "nbformat_minor": 5
}
